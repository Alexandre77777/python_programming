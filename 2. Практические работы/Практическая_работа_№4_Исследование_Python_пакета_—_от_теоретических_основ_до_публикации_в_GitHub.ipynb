{
  "cells": [
    {
      "cell_type": "markdown",
      "metadata": {
        "id": "view-in-github",
        "colab_type": "text"
      },
      "source": [
        "<a href=\"https://colab.research.google.com/github/Alexandre77777/python_programming/blob/main/2.%20%D0%9F%D1%80%D0%B0%D0%BA%D1%82%D0%B8%D1%87%D0%B5%D1%81%D0%BA%D0%B8%D0%B5%20%D1%80%D0%B0%D0%B1%D0%BE%D1%82%D1%8B/%D0%9F%D1%80%D0%B0%D0%BA%D1%82%D0%B8%D1%87%D0%B5%D1%81%D0%BA%D0%B0%D1%8F_%D1%80%D0%B0%D0%B1%D0%BE%D1%82%D0%B0_%E2%84%964_%D0%98%D1%81%D1%81%D0%BB%D0%B5%D0%B4%D0%BE%D0%B2%D0%B0%D0%BD%D0%B8%D0%B5_Python_%D0%BF%D0%B0%D0%BA%D0%B5%D1%82%D0%B0_%E2%80%94_%D0%BE%D1%82_%D1%82%D0%B5%D0%BE%D1%80%D0%B5%D1%82%D0%B8%D1%87%D0%B5%D1%81%D0%BA%D0%B8%D1%85_%D0%BE%D1%81%D0%BD%D0%BE%D0%B2_%D0%B4%D0%BE_%D0%BF%D1%83%D0%B1%D0%BB%D0%B8%D0%BA%D0%B0%D1%86%D0%B8%D0%B8_%D0%B2_GitHub.ipynb\" target=\"_parent\"><img src=\"https://colab.research.google.com/assets/colab-badge.svg\" alt=\"Open In Colab\"/></a>"
      ]
    },
    {
      "cell_type": "markdown",
      "id": "31c35987",
      "metadata": {
        "id": "31c35987"
      },
      "source": [
        "# **Практическая работа №4. Исследование Python-пакета — от теоретических основ до публикации в GitHub**"
      ]
    },
    {
      "cell_type": "markdown",
      "id": "4d968065",
      "metadata": {
        "id": "4d968065"
      },
      "source": [
        "## **Цель работы**"
      ]
    },
    {
      "cell_type": "markdown",
      "id": "3f23c716",
      "metadata": {
        "id": "3f23c716"
      },
      "source": [
        "**Цель** этой практической работы заключается в изучении принципов функционирования пакетов в Python и публикации проекта в приватном репозитории на GitHub.\n",
        "\n",
        "**Задачи** включают:\n",
        "\n",
        "1. Исследование роли файлов `__init__.py` в структуре пакетов.\n",
        "2. Освоение работы с модульной структурой Python.\n",
        "3. Понимание и применение абсолютного и относительного импорта модулей.\n",
        "4. Создание и настройка локального Git-репозитория.\n",
        "5. Публикация проекта в приватном репозитории на GitHub с добавлением всех необходимых файлов и документации в формате Markdown в README.md.\n",
        "6. Управление доступом к репозиторию, включая добавление коллаборатора.\n",
        "\n",
        "Эти задачи помогут вам освоить все этапы работы с Python-пакетами, от их создания и исследования до управления версиями и совместной работы в закрытой среде."
      ]
    },
    {
      "cell_type": "markdown",
      "id": "ffb03f5a",
      "metadata": {
        "id": "ffb03f5a"
      },
      "source": [
        "## **Описание работы**"
      ]
    },
    {
      "cell_type": "markdown",
      "id": "18243b16",
      "metadata": {
        "id": "18243b16"
      },
      "source": [
        "Вы будете работать с уже созданным пакетом `calculator`, который имеет следующую структуру:\n",
        "\n",
        "    calculator/\n",
        "    ├── __init__.py\n",
        "    ├── basic/\n",
        "    │   ├── __init__.py\n",
        "    │   ├── addition.py\n",
        "    │   └── subtraction.py\n",
        "    └── advanced/\n",
        "        ├── __init__.py\n",
        "        ├── exponentiation.py\n",
        "        └── root.py"
      ]
    },
    {
      "cell_type": "markdown",
      "id": "63967923",
      "metadata": {
        "id": "63967923"
      },
      "source": [
        "**Содержимое файлов:**\n",
        "\n",
        "**`calculator/__init__.py`**"
      ]
    },
    {
      "cell_type": "code",
      "execution_count": null,
      "id": "dc7ad5d4",
      "metadata": {
        "id": "dc7ad5d4"
      },
      "outputs": [],
      "source": [
        "# __init__.py in calculator\n",
        "__all__ = [\"basic\", \"advanced\"]"
      ]
    },
    {
      "cell_type": "markdown",
      "id": "2ca97ca9",
      "metadata": {
        "id": "2ca97ca9"
      },
      "source": [
        "**`calculator/basic/__init__.py`**"
      ]
    },
    {
      "cell_type": "code",
      "execution_count": null,
      "id": "38c109a0",
      "metadata": {
        "id": "38c109a0"
      },
      "outputs": [],
      "source": [
        "# __init__.py in basic\n",
        "from .addition import add\n",
        "from .subtraction import subtract"
      ]
    },
    {
      "cell_type": "markdown",
      "id": "a3ffd41a",
      "metadata": {
        "id": "a3ffd41a"
      },
      "source": [
        "**`calculator/basic/addition.py`**"
      ]
    },
    {
      "cell_type": "code",
      "execution_count": null,
      "id": "7ed2e868",
      "metadata": {
        "id": "7ed2e868"
      },
      "outputs": [],
      "source": [
        "# addition.py\n",
        "def add(a, b):\n",
        "    return a + b"
      ]
    },
    {
      "cell_type": "markdown",
      "id": "81545127",
      "metadata": {
        "id": "81545127"
      },
      "source": [
        "**`calculator/basic/subtraction.py`**"
      ]
    },
    {
      "cell_type": "code",
      "execution_count": null,
      "id": "67003bfc",
      "metadata": {
        "id": "67003bfc"
      },
      "outputs": [],
      "source": [
        "# subtraction.py\n",
        "def subtract(a, b):\n",
        "    return a - b"
      ]
    },
    {
      "cell_type": "markdown",
      "id": "a7150f98",
      "metadata": {
        "id": "a7150f98"
      },
      "source": [
        "**`calculator/advanced/__init__.py`**"
      ]
    },
    {
      "cell_type": "code",
      "execution_count": null,
      "id": "7b82ebf9",
      "metadata": {
        "id": "7b82ebf9"
      },
      "outputs": [],
      "source": [
        "# __init__.py in advanced\n",
        "from .exponentiation import power\n",
        "from .root import square_root"
      ]
    },
    {
      "cell_type": "markdown",
      "id": "2710fe8b",
      "metadata": {
        "id": "2710fe8b"
      },
      "source": [
        "**`calculator/advanced/exponentiation.py`**"
      ]
    },
    {
      "cell_type": "code",
      "execution_count": null,
      "id": "9ba07d5b",
      "metadata": {
        "id": "9ba07d5b"
      },
      "outputs": [],
      "source": [
        "# exponentiation.py\n",
        "def power(a, b):\n",
        "    return a ** b"
      ]
    },
    {
      "cell_type": "markdown",
      "id": "80d53e6d",
      "metadata": {
        "id": "80d53e6d"
      },
      "source": [
        "**`calculator/advanced/root.py`**"
      ]
    },
    {
      "cell_type": "code",
      "execution_count": null,
      "id": "ea8f8d28",
      "metadata": {
        "id": "ea8f8d28"
      },
      "outputs": [],
      "source": [
        "# root.py\n",
        "def square_root(a):\n",
        "    return a ** 0.5"
      ]
    },
    {
      "cell_type": "markdown",
      "id": "d3d29b5c",
      "metadata": {
        "id": "d3d29b5c"
      },
      "source": [
        "**Пример использования пакета:**"
      ]
    },
    {
      "cell_type": "code",
      "execution_count": null,
      "id": "fb6c3f15",
      "metadata": {
        "id": "fb6c3f15"
      },
      "outputs": [],
      "source": [
        "# main.py\n",
        "from calculator.basic import add, subtract\n",
        "from calculator.advanced import power, square_root\n",
        "\n",
        "print(add(2, 3))             # Вывод: 5\n",
        "print(subtract(5, 2))        # Вывод: 3\n",
        "print(power(2, 3))           # Вывод: 8\n",
        "print(square_root(16))       # Вывод: 4.0"
      ]
    },
    {
      "cell_type": "markdown",
      "id": "bc7b0fc2",
      "metadata": {
        "id": "bc7b0fc2"
      },
      "source": [
        "## **Задания:**"
      ]
    },
    {
      "cell_type": "markdown",
      "id": "0d5236e4",
      "metadata": {
        "id": "0d5236e4"
      },
      "source": [
        "### **1. Исследование структуры пакета**"
      ]
    },
    {
      "cell_type": "markdown",
      "id": "682c1a97",
      "metadata": {
        "id": "682c1a97"
      },
      "source": [
        "**а.** Дополните схему дерева файлов и модулей пакета `calculator`, указав, какие модули и функции в них содержатся.\n",
        "\n",
        "    calculator/\n",
        "    ├── __init__.py\n",
        "    ├── basic/\n",
        "    │   ├── __init__.py\n",
        "    │   ├── addition.py\n",
        "    │   └── subtraction.py\n",
        "    └── advanced/\n",
        "        ├── __init__.py\n",
        "        ├── exponentiation.py\n",
        "        └── root.py\n",
        "\n"
      ]
    },
    {
      "cell_type": "markdown",
      "source": [
        "<font color='green'>Ваш ответ (кликните два раза на эту ячейку, удалите содержимое и впишите ответ)</font>"
      ],
      "metadata": {
        "id": "e4a-jJ6qVuKz"
      },
      "id": "e4a-jJ6qVuKz"
    },
    {
      "cell_type": "markdown",
      "source": [
        "**б.** Объясните, какую роль играют файлы `__init__.py` в каждом каталоге пакета. Почему без них пакет не будет работать правильно?"
      ],
      "metadata": {
        "id": "rXUGL_f5UtCQ"
      },
      "id": "rXUGL_f5UtCQ"
    },
    {
      "cell_type": "markdown",
      "source": [
        "<font color='green'>Ваш ответ (кликните два раза на эту ячейку, удалите содержимое и впишите ответ)</font>"
      ],
      "metadata": {
        "id": "WJHC-5qUWDVe"
      },
      "id": "WJHC-5qUWDVe"
    },
    {
      "cell_type": "markdown",
      "id": "29422cc8",
      "metadata": {
        "id": "29422cc8"
      },
      "source": [
        "### **2. Работа с `__init__.py`**"
      ]
    },
    {
      "cell_type": "markdown",
      "id": "3a1a8ac0",
      "metadata": {
        "id": "3a1a8ac0"
      },
      "source": [
        "**а.** Обратите внимание на использование переменной `__all__` в файле `calculator/__init__.py`. Объясните, как она влияет на импорт пакета.\n",
        "\n"
      ]
    },
    {
      "cell_type": "markdown",
      "source": [
        "<font color='green'>Ваш ответ (кликните два раза на эту ячейку, удалите содержимое и впишите ответ)</font>"
      ],
      "metadata": {
        "id": "LNfDwADqWRbv"
      },
      "id": "LNfDwADqWRbv"
    },
    {
      "cell_type": "markdown",
      "source": [
        "**б.** Удалите или закомментируйте строку `__all__ = [\"basic\", \"advanced\"]` в файле `calculator/__init__.py`. Попробуйте импортировать пакет снова:"
      ],
      "metadata": {
        "id": "y23edpV8U6Zu"
      },
      "id": "y23edpV8U6Zu"
    },
    {
      "cell_type": "code",
      "execution_count": null,
      "id": "6c3ce464",
      "metadata": {
        "id": "6c3ce464"
      },
      "outputs": [],
      "source": [
        "from calculator import basic"
      ]
    },
    {
      "cell_type": "markdown",
      "id": "bce87341",
      "metadata": {
        "id": "bce87341"
      },
      "source": [
        "Что произошло? Объясните причину возникшей проблемы.\n",
        "\n"
      ]
    },
    {
      "cell_type": "markdown",
      "source": [
        "<font color='green'>Ваш ответ (кликните два раза на эту ячейку, удалите содержимое и впишите ответ)</font>"
      ],
      "metadata": {
        "id": "KIGZTFcmWTWY"
      },
      "id": "KIGZTFcmWTWY"
    },
    {
      "cell_type": "markdown",
      "source": [
        "**в.** Верните строку `__all__` обратно. Попробуйте выполнить команду:"
      ],
      "metadata": {
        "id": "hASF8Jk9WWWf"
      },
      "id": "hASF8Jk9WWWf"
    },
    {
      "cell_type": "code",
      "execution_count": null,
      "id": "c0812720",
      "metadata": {
        "id": "c0812720"
      },
      "outputs": [],
      "source": [
        "from calculator import *"
      ]
    },
    {
      "cell_type": "markdown",
      "id": "a2fb1056",
      "metadata": {
        "id": "a2fb1056"
      },
      "source": [
        "Какие модули будут импортированы? Как можно управлять импортируемыми модулями с помощью `__all__`?"
      ]
    },
    {
      "cell_type": "markdown",
      "source": [
        "<font color='green'>Ваш ответ (кликните два раза на эту ячейку, удалите содержимое и впишите ответ)</font>"
      ],
      "metadata": {
        "id": "oKXMNpjnWe1v"
      },
      "id": "oKXMNpjnWe1v"
    },
    {
      "cell_type": "markdown",
      "id": "0ff9be0e",
      "metadata": {
        "id": "0ff9be0e"
      },
      "source": [
        "### **3. Абсолютный и относительный импорт**"
      ]
    },
    {
      "cell_type": "markdown",
      "id": "68879eed",
      "metadata": {
        "id": "68879eed"
      },
      "source": [
        "**а.** В файле `calculator/basic/__init__.py` замените относительные импорты на абсолютные:"
      ]
    },
    {
      "cell_type": "code",
      "execution_count": null,
      "id": "be1a46ca",
      "metadata": {
        "id": "be1a46ca"
      },
      "outputs": [],
      "source": [
        "from calculator.basic.addition import add\n",
        "from calculator.basic.subtraction import subtract"
      ]
    },
    {
      "cell_type": "markdown",
      "id": "85a363ec",
      "metadata": {
        "id": "85a363ec"
      },
      "source": [
        "Проверьте работоспособность пакета. Объясните разницу между относительным и абсолютным импортом. Какие преимущества и недостатки каждого из них?\n",
        "\n"
      ]
    },
    {
      "cell_type": "markdown",
      "source": [
        "<font color='green'>Ваш ответ (кликните два раза на эту ячейку, удалите содержимое и впишите ответ)</font>"
      ],
      "metadata": {
        "id": "XjE-FQ0xWj0b"
      },
      "id": "XjE-FQ0xWj0b"
    },
    {
      "cell_type": "markdown",
      "source": [
        "**б.** Предположим, что структура пакета изменилась, и папка `basic` была переименована в `simple`. Объясните, как это повлияет на абсолютные и относительные импорты. Какой импорт легче поддерживать при реорганизации структуры пакета?"
      ],
      "metadata": {
        "id": "RURDowbzWiVX"
      },
      "id": "RURDowbzWiVX"
    },
    {
      "cell_type": "markdown",
      "source": [
        "<font color='green'>Ваш ответ (кликните два раза на эту ячейку, удалите содержимое и впишите ответ)</font>"
      ],
      "metadata": {
        "id": "giLqxQx7WkBn"
      },
      "id": "giLqxQx7WkBn"
    },
    {
      "cell_type": "markdown",
      "id": "ed448ab3",
      "metadata": {
        "id": "ed448ab3"
      },
      "source": [
        "### **4. Добавление новых модулей**"
      ]
    },
    {
      "cell_type": "markdown",
      "source": [
        "**а.** Добавьте в пакет `calculator/basic` новый модуль `multiplication.py` с функцией `multiply(a, b)`, которая возвращает произведение `a` и `b`."
      ],
      "metadata": {
        "id": "AQQQ_pXGWpZS"
      },
      "id": "AQQQ_pXGWpZS"
    },
    {
      "cell_type": "markdown",
      "source": [
        "<font color='green'>Ваш ответ (кликните два раза на эту ячейку, удалите содержимое и впишите ответ)</font>"
      ],
      "metadata": {
        "id": "M5cPRrG5WszB"
      },
      "id": "M5cPRrG5WszB"
    },
    {
      "cell_type": "markdown",
      "source": [
        "**б.** Обновите файл `calculator/basic/__init__.py`, чтобы функция `multiply` была доступна при импорте пакета."
      ],
      "metadata": {
        "id": "3HrK2DicWq4a"
      },
      "id": "3HrK2DicWq4a"
    },
    {
      "cell_type": "markdown",
      "source": [
        "<font color='green'>Ваш ответ (кликните два раза на эту ячейку, удалите содержимое и впишите ответ)</font>"
      ],
      "metadata": {
        "id": "hwSUaM3EWtFf"
      },
      "id": "hwSUaM3EWtFf"
    },
    {
      "cell_type": "markdown",
      "id": "ee203e60",
      "metadata": {
        "id": "ee203e60"
      },
      "source": [
        "\n",
        "\n",
        "\n",
        "\n",
        "**в.** В файле `main.py` импортируйте новую функцию и протестируйте ее."
      ]
    },
    {
      "cell_type": "code",
      "execution_count": null,
      "id": "68e1c50a",
      "metadata": {
        "id": "68e1c50a"
      },
      "outputs": [],
      "source": [
        "from calculator.basic import multiply\n",
        "\n",
        "print(multiply(4, 5))        # Вывод: 20"
      ]
    },
    {
      "cell_type": "markdown",
      "source": [
        "<font color='green'>Ваш ответ (кликните два раза на эту ячейку, удалите содержимое и впишите ответ)</font>"
      ],
      "metadata": {
        "id": "9XMbvHyuWtgb"
      },
      "id": "9XMbvHyuWtgb"
    },
    {
      "cell_type": "markdown",
      "id": "e488b22c",
      "metadata": {
        "id": "e488b22c"
      },
      "source": [
        "### 5. Исследование переменной `__name__`"
      ]
    },
    {
      "cell_type": "markdown",
      "id": "e8fe04ba",
      "metadata": {
        "id": "e8fe04ba"
      },
      "source": [
        "**а.** В файле `calculator/advanced/exponentiation.py` добавьте следующий код:"
      ]
    },
    {
      "cell_type": "code",
      "execution_count": null,
      "id": "6e63ece4",
      "metadata": {
        "id": "6e63ece4"
      },
      "outputs": [],
      "source": [
        "if __name__ == \"__main__\":\n",
        "    print(power(2, 5))"
      ]
    },
    {
      "cell_type": "markdown",
      "id": "68b13f10",
      "metadata": {
        "id": "68b13f10"
      },
      "source": [
        "**б.** Запустите файл `exponentiation.py` напрямую. Что произошло? Какой вывод вы получили?\n",
        "\n"
      ]
    },
    {
      "cell_type": "markdown",
      "source": [
        "<font color='green'>Ваш ответ (кликните два раза на эту ячейку, удалите содержимое и впишите ответ)</font>"
      ],
      "metadata": {
        "id": "zy-VgC4EXFNP"
      },
      "id": "zy-VgC4EXFNP"
    },
    {
      "cell_type": "markdown",
      "source": [
        "**в.** Импортируйте функцию `power` в `main.py` и запустите `main.py`. Выполняется ли код внутри блока `if __name__ == \"__main__\":` в файле `exponentiation.py` при импорте? Объясните, почему."
      ],
      "metadata": {
        "id": "FvsI0C7LXEPa"
      },
      "id": "FvsI0C7LXEPa"
    },
    {
      "cell_type": "markdown",
      "source": [
        "<font color='green'>Ваш ответ (кликните два раза на эту ячейку, удалите содержимое и впишите ответ)</font>"
      ],
      "metadata": {
        "id": "8GQE7e7rXFYf"
      },
      "id": "8GQE7e7rXFYf"
    },
    {
      "cell_type": "markdown",
      "id": "f3b886cc",
      "metadata": {
        "id": "f3b886cc"
      },
      "source": [
        "### **6. Изучение путей поиска модулей**"
      ]
    },
    {
      "cell_type": "markdown",
      "id": "04706edf",
      "metadata": {
        "id": "04706edf"
      },
      "source": [
        "**а.** Выведите переменную `sys.path` в `main.py`:"
      ]
    },
    {
      "cell_type": "code",
      "execution_count": null,
      "id": "1759325c",
      "metadata": {
        "id": "1759325c"
      },
      "outputs": [],
      "source": [
        "import sys\n",
        "print(sys.path)"
      ]
    },
    {
      "cell_type": "markdown",
      "id": "9e9babe0",
      "metadata": {
        "id": "9e9babe0"
      },
      "source": [
        "Объясните, какие пути в ней содержатся и как Python использует их для поиска модулей.\n",
        "\n"
      ]
    },
    {
      "cell_type": "markdown",
      "source": [
        "<font color='green'>Ваш ответ (кликните два раза на эту ячейку, удалите содержимое и впишите ответ)</font>"
      ],
      "metadata": {
        "id": "ZV4qGFfbXJ_a"
      },
      "id": "ZV4qGFfbXJ_a"
    },
    {
      "cell_type": "markdown",
      "source": [
        "**б.** Попробуйте переместить папку `calculator` в другую директорию, которая не входит в `sys.path`. Можете ли вы теперь импортировать пакет? Что нужно сделать, чтобы Python мог найти ваш пакет?"
      ],
      "metadata": {
        "id": "j4VNaSL2XIvc"
      },
      "id": "j4VNaSL2XIvc"
    },
    {
      "cell_type": "markdown",
      "source": [
        "<font color='green'>Ваш ответ (кликните два раза на эту ячейку, удалите содержимое и впишите ответ)</font>"
      ],
      "metadata": {
        "id": "uy8f-RUkXKLe"
      },
      "id": "uy8f-RUkXKLe"
    },
    {
      "cell_type": "markdown",
      "id": "3f1e3ccc",
      "metadata": {
        "id": "3f1e3ccc"
      },
      "source": [
        "### **7. Создание подпакетов**"
      ]
    },
    {
      "cell_type": "markdown",
      "id": "7a8e87b9",
      "metadata": {
        "id": "7a8e87b9"
      },
      "source": [
        "**а.** Внутри `calculator/advanced` создайте подпакет `trigonometry` с функциями `sin`, `cos` и `tan`. Структура должна выглядеть так:"
      ]
    },
    {
      "cell_type": "code",
      "execution_count": null,
      "id": "4991737d",
      "metadata": {
        "id": "4991737d"
      },
      "outputs": [],
      "source": [
        "calculator/\n",
        "└── advanced/\n",
        "    ├── trigonometry/\n",
        "    │   ├── __init__.py\n",
        "    │   ├── sine.py\n",
        "    │   ├── cosine.py\n",
        "    │   └── tangent.py"
      ]
    },
    {
      "cell_type": "markdown",
      "id": "2982fcf5",
      "metadata": {
        "id": "2982fcf5"
      },
      "source": [
        "**б.** Реализуйте функции в соответствующих модулях, используя модуль `math` из стандартной библиотеки Python.\n",
        "\n",
        "**в.** Обновите `__init__.py` файлы, чтобы обеспечить корректный импорт функций.\n",
        "\n",
        "**г.** Импортируйте функции в `main.py` и протестируйте их."
      ]
    },
    {
      "cell_type": "markdown",
      "id": "68f95ac3",
      "metadata": {
        "id": "68f95ac3"
      },
      "source": [
        "### **8. Практика с относительным импортом**"
      ]
    },
    {
      "cell_type": "markdown",
      "id": "b5329b6b",
      "metadata": {
        "id": "b5329b6b"
      },
      "source": [
        "**а.** В файле `calculator/advanced/trigonometry/sine.py` попробуйте импортировать функцию `square_root` из модуля `root.py` двумя способами:\n",
        "\n",
        "1. Используя относительный импорт.\n",
        "2. Используя абсолютный импорт.\n",
        "\n",
        "**б.** Объясните, какой способ импорта сработал, а какой нет, и почему."
      ]
    },
    {
      "cell_type": "markdown",
      "source": [
        "<font color='green'>Ваш ответ (кликните два раза на эту ячейку, удалите содержимое и впишите ответ)</font>"
      ],
      "metadata": {
        "id": "f5Q7sNgSXR9A"
      },
      "id": "f5Q7sNgSXR9A"
    },
    {
      "cell_type": "markdown",
      "source": [
        "### **9. Публикация на GitHub**"
      ],
      "metadata": {
        "id": "CWeoSKkUZvkS"
      },
      "id": "CWeoSKkUZvkS"
    },
    {
      "cell_type": "markdown",
      "source": [
        "После завершения всех заданий добавьте папку с проектом в Ваш локальный Git-репозиторий. Затем опубликуйте его на GitHub, создав **приватный** репозиторий.\n",
        "\n",
        "- **Вопросы и Ваши ответы на них разместите в файле README.md** Вашего приватного репозитория. Используйте стиль [разметки Markdown](https://docs.github.com/ru/get-started/writing-on-github/getting-started-with-writing-and-formatting-on-github/basic-writing-and-formatting-syntax). Для примеров можно обратиться к следующим ресурсам: [Markdown](https://skillbox.ru/media/code/yazyk-razmetki-markdown-shpargalka-po-sintaksisu-s-primerami/) и [Readme.md](https://habr.com/ru/articles/649363/).\n",
        "\n",
        "- **Далее выполните следующие шаги**:\n",
        "  1. Перейдите в настройки вашего репозитория:\n",
        "     - Откройте ваш новый приватный репозиторий.\n",
        "     - Нажмите на вкладку `Settings` (Настройки) в верхней части страницы.\n",
        "  2. Добавьте коллаборатора:\n",
        "     - В меню слева выберите `Collaborators` (Коллабораторы).\n",
        "     - Нажмите `Add people` (Добавить человека).\n",
        "     - Введите имя пользователя GitHub: **Alexandre77777**.\n",
        "     - Нажмите `Add Alexandre77777 to this repository` (Добавить коллаборатора).\n",
        "  3. Отправьте приглашение:\n",
        "     - Человек, которого вы пригласили, получит уведомление на GitHub и по электронной почте.\n",
        "     - Он должен будет принять приглашение, чтобы получить доступ к вашему репозиторию."
      ],
      "metadata": {
        "id": "VkEZWOGWwiFm"
      },
      "id": "VkEZWOGWwiFm"
    },
    {
      "cell_type": "markdown",
      "id": "4cee5f71",
      "metadata": {
        "id": "4cee5f71"
      },
      "source": [
        "## **Ожидаемые результаты**"
      ]
    },
    {
      "cell_type": "markdown",
      "id": "31e6a190",
      "metadata": {
        "id": "31e6a190"
      },
      "source": [
        "- Вы глубоко разберетесь в структуре пакета `calculator` и поймете, как организованы модули и функции внутри него.\n",
        "- Научитесь использовать и настраивать файлы `__init__.py` для управления импортом модулей и функций.\n",
        "- Будете уверенно использовать как абсолютный, так и относительный импорт, понимая их разницу и области применения.\n",
        "- Узнаете, как переменная `__name__` влияет на выполнение кода при импорте модулей.\n",
        "- Поймете, как Python ищет модули и пакеты, и как управлять путями поиска.\n",
        "- Сможете расширять пакеты, добавляя новые модули, функции и подпакеты.\n",
        "- Получите практический опыт работы с пакетами, что упростит разработку больших проектов в будущем."
      ]
    },
    {
      "cell_type": "markdown",
      "id": "001a12c1",
      "metadata": {
        "id": "001a12c1"
      },
      "source": [
        "## **Дополнительные задания (для продвинутых, не обязательны к выполнению)**"
      ]
    },
    {
      "cell_type": "markdown",
      "id": "e2f9040b",
      "metadata": {
        "id": "e2f9040b"
      },
      "source": [
        "- **1. Создание установочного скрипта**\n",
        "\n",
        "  Создайте файл `setup.py` для вашего пакета `calculator`, чтобы его можно было установить с помощью `pip install .`.\n",
        "\n",
        "- **2. Документация пакета**\n",
        "\n",
        "  Добавьте документацию в ваш пакет, используя файлы `README.md` и строки документирования (docstrings) в функциях."
      ]
    },
    {
      "cell_type": "markdown",
      "id": "df3e6334",
      "metadata": {
        "id": "df3e6334"
      },
      "source": [
        "## **Советы по выполнению работы**"
      ]
    },
    {
      "cell_type": "markdown",
      "id": "1b19991f",
      "metadata": {
        "id": "1b19991f"
      },
      "source": [
        "- Постепенно выполняйте задания, проверяя работоспособность после каждого шага.\n",
        "- Обращайтесь к [официальной документации Python](https://docs.python.org/3/tutorial/modules.html) по модулям и пакетам для дополнительной информации."
      ]
    }
  ],
  "metadata": {
    "colab": {
      "provenance": [],
      "include_colab_link": true
    }
  },
  "nbformat": 4,
  "nbformat_minor": 5
}