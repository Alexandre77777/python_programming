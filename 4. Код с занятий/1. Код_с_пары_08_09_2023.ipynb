{
  "nbformat": 4,
  "nbformat_minor": 0,
  "metadata": {
    "colab": {
      "provenance": [],
      "authorship_tag": "ABX9TyNUgwozLNjPwb0/8Q7rjbtk",
      "include_colab_link": true
    },
    "kernelspec": {
      "name": "python3",
      "display_name": "Python 3"
    },
    "language_info": {
      "name": "python"
    }
  },
  "cells": [
    {
      "cell_type": "markdown",
      "metadata": {
        "id": "view-in-github",
        "colab_type": "text"
      },
      "source": [
        "<a href=\"https://colab.research.google.com/github/Alexandre77777/python_programming/blob/main/4.%20%D0%9A%D0%BE%D0%B4%20%D1%81%20%D0%B7%D0%B0%D0%BD%D1%8F%D1%82%D0%B8%D0%B9/1.%20%D0%9A%D0%BE%D0%B4_%D1%81_%D0%BF%D0%B0%D1%80%D1%8B_08_09_2023.ipynb\" target=\"_parent\"><img src=\"https://colab.research.google.com/assets/colab-badge.svg\" alt=\"Open In Colab\"/></a>"
      ]
    },
    {
      "cell_type": "markdown",
      "metadata": {
        "id": "UFIPdiXpvyuR"
      },
      "source": [
        "# Основы python\n",
        "\n",
        "<img align=left src=\"https://cdn.fedoramagazine.org/wp-content/uploads/2015/11/Python_logo.png\" style=\"height:160px;\" />"
      ]
    },
    {
      "cell_type": "markdown",
      "metadata": {
        "id": "s3gTyEU-yZM7"
      },
      "source": [
        "\n",
        "<img align=center src=\"https://1.bp.blogspot.com/-16utHnlB3Ao/V4tpG8NBX0I/AAAAAAAAA7M/vDQ1p40JpE8M34eCr-UdriSV04Dn8au7QCLcB/s1600/jupyter-logo.png\" style=\"height:90px;\" />\n",
        "\n",
        "Название проекта Jupyter - это ссылка на три основных языка программирования, поддерживаемых Jupyter: Julia, Python и R, а также дань уважения записным книжкам Галилея, записывающим открытие лун Юпитера. Проект Jupyter разработал и поддержал интерактивные вычислительные продукты Jupyter Notebook, JupyterHub и JupyterLab, версию следующего поколения Jupyter Notebook. Философия проекта Jupyter заключается в поддержке интерактивной науки о данных."
      ]
    },
    {
      "cell_type": "markdown",
      "metadata": {
        "id": "nPF96t_gylQi"
      },
      "source": [
        "В jupyter-файле можно создавать ячейки с текстом или кодом.\n",
        "\n",
        "Ячейки с кодом можно запускать - в отдельной ячейке будут показаны результаты выполнения кода.\n"
      ]
    },
    {
      "cell_type": "markdown",
      "metadata": {
        "id": "r0SONoOf0kXN"
      },
      "source": [
        "### Основы Python\n",
        "\n",
        "Сейчас существуют две часто используемые версии Питона — **Python 2** и **Python 3**. Эти версии довольно похожи, но есть отличия, из-за которых они **не являются совместимыми** - программы, написанные на одной версии языка, могут не работать в другой.  \n",
        "\n",
        "Мы будем писать на **Python 3**. Точная версия не принципиальна, но она должна быть >= 3.6  \n",
        "\n",
        "Если Вы пользуетесь каким-либо из дистрибутивов Linux, то Python скорее всего уже установлен.\n",
        "Попробуйте в терминале следующие команды для запуска интерактивного режима работы:\n",
        "\n",
        "`python` или `python3` или `python2`\n",
        "\n",
        "Выход: `Ctrl+D`\n",
        "\n",
        "Режим работы, в котором выполнится код из файла main.py\n",
        "\n",
        "`python main.py`\n",
        "\n",
        "Помощь: **`help(X)`**, где `X` — то, по чему нужна помощь.  \n",
        "Выход из помощи: `q`."
      ]
    },
    {
      "cell_type": "markdown",
      "metadata": {
        "id": "_Ti6h-e80pIt"
      },
      "source": [
        "## Общая информация о языке\n",
        "\n",
        "**Название** - **«Питон» или «Пайтон»** (в честь комедийных серий BBC «Летающий цирк Монти-Пайтона»)  \n",
        "**Создатель** - **голландец Гвидо ван Россум (Guido van Rossum)** (в 1991 году)  \n",
        "\n",
        "**Особенности**:  \n",
        "- интерпретируемый\n",
        "- объектно-ориентированный\n",
        "- высокоуровневый язык\n",
        "- встроенные высокоуровневые структуры данных\n",
        "- динамическая типизация\n",
        "- синтаксис прост в изучении\n",
        "- поддержка модулей и пакетов (большинство библиотек\n",
        "бесплатны)\n",
        "- универсальный\n",
        "- интеграция с другими языками (C (Cython), C++, Java (JPython))  \n",
        "\n",
        "**Стиль оформления кода** - **PEP8** (если Вы хороший человек).  \n",
        "\n",
        "*Самое главное из PEP8:*  \n",
        "- отступ – 4 пробела\n",
        "- длина строки < 80 символов\n",
        "- переменные: var_recommended\n",
        "- константы: CONST_RECOMMENDED"
      ]
    },
    {
      "cell_type": "markdown",
      "metadata": {
        "id": "CSCiWRtr0rv7"
      },
      "source": [
        "## Список материалов для самостоятельного изучения\n",
        "\n",
        "Данный ноутбук не претендует на полный охват всех тем и нюансов языка, поэтому ниже для удобства предоставлены ссылки на внешние ресурсы, которые могут помочь лучше изучить язык:\n",
        "\n",
        "* *Сайт языка Python* - https://www.python.org/\n",
        "\n",
        "\n",
        "* *Базовый курс синтаксиса Python с практикой* - https://www.codecademy.com/learn/learn-python\n",
        "\n",
        "\n",
        "* *Курс Python с нуля, можно выполнять задания в интерактивном режиме* - http://pythontutor.ru/\n",
        "\n",
        "\n",
        "* *Очень много задач на практику из разных областей, сделано по типу соцсети* - https://codesignal.com\n",
        "\n",
        "\n",
        "* *Новый онлайн-курс по Питону на Coursera от Mail.Ru Group* - https://www.coursera.org/learn/programming-in-python\n",
        "\n",
        "\n",
        "* *Самоучитель Python* - https://pythonworld.ru/samouchitel-python\n",
        "\n",
        "\n",
        "* *Статья про коварности Python* - https://habrahabr.ru/company/mailru/blog/337364/\n",
        "\n",
        "\n",
        "* *Очень полезные трюки в Jupyter Notebook*: https://www.dataquest.io/blog/jupyter-notebook-tips-tricks-shortcuts/"
      ]
    },
    {
      "cell_type": "code",
      "source": [
        "help()"
      ],
      "metadata": {
        "id": "xziKMriU0RO_"
      },
      "execution_count": null,
      "outputs": []
    },
    {
      "cell_type": "markdown",
      "metadata": {
        "id": "atnhHJTF3CtA"
      },
      "source": [
        "# Введение"
      ]
    },
    {
      "cell_type": "markdown",
      "metadata": {
        "id": "hgd5XVEd09nA"
      },
      "source": [
        "Давайте запустим первую программу на python! Для этого нужно нажать комбинацию клавиш shift + enter или на треугольничек в левой части строки."
      ]
    },
    {
      "cell_type": "code",
      "metadata": {
        "id": "S3_pG4b7vzVG"
      },
      "source": [
        "print('Hello world!')"
      ],
      "execution_count": null,
      "outputs": []
    },
    {
      "cell_type": "markdown",
      "metadata": {
        "id": "AUthmYdt1WBU"
      },
      "source": [
        "То, что мы только что запустили называется ячейкой с кодом. Добавить такую ячейку можно в левой верхней части экрана + Сode\n",
        "\n",
        "В ней записан программный код на языке python, который будет выполняться подряд, строчка за строчкой, пока не дойдет до конца (при учете, что в нем нет ошибок).\n",
        "\n",
        "Помимо ячеек с кодом проект jupyter позволяет добавлять ячейки с текстом, в которых вы можете прокомментировать происходящее ниже. Эти ячейки поддерживают язык разметки markdown, который поможет вам в навигации по ноутбуку и сделает текст более читаемым, детальнее [тут](https://ru.wikipedia.org/wiki/Markdown)\n",
        "\n",
        "В результате запуска ячейки мы получили блок вывода с текстом - Hello world!. Команда print() выводит на экран объект, который мы передаем в нее (в скобочках).\n",
        "\n",
        "Перед тем, как мы начнем исследовать встроенные в питон функции вроде функции отображения на экран print() необходимо понять с чем мы будем работать - данные. Далее ознакомимся с типами данных, представленнх в языке."
      ]
    },
    {
      "cell_type": "markdown",
      "metadata": {
        "id": "4DOkfhSv3q21"
      },
      "source": [
        "## Типы данных\n",
        "\n",
        "**Все типы данных** в Python относятся к одной из **2-х категорий**: **изменяемые (mutable)** и **неизменяемые (immutable)**.   \n",
        "\n",
        "*Неизменяемые объекты*:  \n",
        "* числовые данные (int, float),\n",
        "* bool,\n",
        "* None,\n",
        "* символьные строки (class 'str'),\n",
        "* кортежи (tuple).  \n",
        "\n",
        "*Изменяемые объекты*:  \n",
        "* списки (list),\n",
        "* множества (set),\n",
        "* словари (dict).  \n",
        "\n",
        "Вновь определяемые пользователем типы (классы) могут быть определены как неизменяемые или изменяемые. Изменяемость объектов определённого типа является принципиально важной характеристикой, определяющей, может ли объект такого типа **выступать в качестве ключа для словарей (dict)** или нет."
      ]
    },
    {
      "cell_type": "markdown",
      "metadata": {
        "id": "aGpUqkBM4Diq"
      },
      "source": [
        "## int\n",
        "**Целочисленный тип переменной в питоне**\n",
        "\n",
        "Чтобы задать переменную, не нужно указывать ее тип -- достаточно присвоить ей значение. При этом тип определится автоматически.\n",
        "\n",
        "Давайте попробуем завести переменную, присвоить ей значение -- целое число, и вывести на экран ее значение и тип (type):"
      ]
    },
    {
      "cell_type": "code",
      "metadata": {
        "id": "YPAlyXUb1TQ3"
      },
      "source": [
        "x = 5\n",
        "\n",
        "# Команда type выводит на экран тип переменной.\n",
        "# Все, что находится после # является комментарием и не воспринимается языком как код\n",
        "\n",
        "print(x, type(x))"
      ],
      "execution_count": null,
      "outputs": []
    },
    {
      "cell_type": "markdown",
      "metadata": {
        "id": "gOYGEUfh4rP7"
      },
      "source": [
        "Как видно, тип получившейся переменной -- int.\n",
        "\n",
        "C int'овыми переменными можно производить стандартные матеатические операции -- сложение, вычитание, умножение, деление, возведение в степень, взятие остатка при делении на число.\n",
        "\n",
        "Деление переменных типа int бывает двух типов -- целочисленное (с помощью символа //) и нецелочисленное (символ /). Результатом первого типа деления будет целое число, второго -- дробное."
      ]
    },
    {
      "cell_type": "code",
      "metadata": {
        "id": "H0b911U04pSC"
      },
      "source": [
        "a = 4 + 5\n",
        "b = 4 * 5\n",
        "c = 5 // 4\n",
        "d = 5 / 4\n",
        "e = 5**4 # 5 в степени 4\n",
        "f = 5%4 # остаток при делении 5 на 4\n",
        "\n",
        "print(a, b, c, d, e, f)"
      ],
      "execution_count": null,
      "outputs": []
    },
    {
      "cell_type": "markdown",
      "metadata": {
        "id": "4GgALF3M4xTG"
      },
      "source": [
        "Также язык питон удобен в работе с большими числами:\n",
        "\n",
        "Давайте попробуем положить в переменную число 5000000000000000000000000001:"
      ]
    },
    {
      "cell_type": "code",
      "metadata": {
        "id": "-gJYkiAh4vkn"
      },
      "source": [
        "x = 5 * 1000000000 * 1000000000 * 10**9 + 1\n",
        "print(x, '|', type(x))"
      ],
      "execution_count": null,
      "outputs": []
    },
    {
      "cell_type": "markdown",
      "metadata": {
        "id": "WJGKkHyJ41TB"
      },
      "source": [
        "Как видите, все получилось: полученная переменная типа int и с ней можно работать как с обычными числами. Во многих других языках (например, С++) положить такое большое число в переменную бы не вышло -- возникло бы переполнение."
      ]
    },
    {
      "cell_type": "markdown",
      "metadata": {
        "id": "5Ha7YY8D4-NP"
      },
      "source": [
        "## float\n",
        "\n",
        "**Тип переменной для хранения дробных чисел в питоне**:"
      ]
    },
    {
      "cell_type": "code",
      "metadata": {
        "id": "mjqbBW-g4yaX"
      },
      "source": [
        "y = 12.345\n",
        "\n",
        "print(y, '|', type(y))"
      ],
      "execution_count": null,
      "outputs": []
    },
    {
      "cell_type": "markdown",
      "metadata": {
        "id": "vHnXHrEx5EVC"
      },
      "source": [
        "С этим типом также можно выполнять арифметические операции (даже целочисленное деление):"
      ]
    },
    {
      "cell_type": "code",
      "metadata": {
        "id": "05Evm1is5C5_"
      },
      "source": [
        "a = 4.2 + 5.1\n",
        "b = 4.2 * 5.1\n",
        "c = 5.0 / 4.0\n",
        "d = 5.25 // 4.25\n",
        "e = 5.25 ** 4.0\n",
        "\n",
        "print(a, b, c, d, e)"
      ],
      "execution_count": null,
      "outputs": []
    },
    {
      "cell_type": "code",
      "metadata": {
        "id": "Sbwbxlyn5FVu"
      },
      "source": [
        "# если знаков после запятой слишком много - можно просто округлить его до нужного количества (в этом случае 2)\n",
        "round(b, 2)"
      ],
      "execution_count": null,
      "outputs": []
    },
    {
      "cell_type": "markdown",
      "metadata": {
        "id": "0vDK44dm5ZMI"
      },
      "source": [
        "Переменную типа int можно привести к типу float"
      ]
    },
    {
      "cell_type": "code",
      "metadata": {
        "id": "wdxjNJun5OrN"
      },
      "source": [
        "a = 5\n",
        "print(a, type(a))\n",
        "# тут происходит преобразование из целочисленной переменной в дробную\n",
        "a = float(a)\n",
        "\n",
        "print(a, type(a))"
      ],
      "execution_count": null,
      "outputs": []
    },
    {
      "cell_type": "markdown",
      "metadata": {
        "id": "ce-Ssg2k5atr"
      },
      "source": [
        "## bool\n",
        "\n",
        "**Логический тип переменной**:\n",
        "\n",
        "переменная типа bool может принимать два значения: `True` и `False`:"
      ]
    },
    {
      "cell_type": "code",
      "metadata": {
        "id": "a6LDkN5m5YFs"
      },
      "source": [
        "a = True\n",
        "b = False\n",
        "\n",
        "# появился еще один аргумент: '|'  <- туда можно поставить любой текст, в этом примере для удобства отображения\n",
        "print(a, '|', type(a))\n",
        "\n",
        "print(b, '|', type(b))"
      ],
      "execution_count": null,
      "outputs": []
    },
    {
      "cell_type": "markdown",
      "metadata": {
        "id": "UCDjA-R35v0m"
      },
      "source": [
        "У типа bool существует связь с типом int -- переменная со значением True соответствует int'овой переменной со значением 1, а переменная со значением False -- int'овой переменной со значением 0.\n",
        "\n",
        "Давайте в этом убедимся, попробовав сложить значения переменных a и b:"
      ]
    },
    {
      "cell_type": "code",
      "metadata": {
        "id": "Y56n3LHB5fod"
      },
      "source": [
        "print(a + b)\n",
        "print(a + a)\n",
        "print(b + b)"
      ],
      "execution_count": null,
      "outputs": []
    },
    {
      "cell_type": "markdown",
      "metadata": {
        "id": "203gd0NO5yF1"
      },
      "source": [
        "Ну и просто приведем a и b к типу int:"
      ]
    },
    {
      "cell_type": "code",
      "metadata": {
        "id": "SdzwX-LY5wwD"
      },
      "source": [
        "print(int(a), int(b))"
      ],
      "execution_count": null,
      "outputs": []
    },
    {
      "cell_type": "code",
      "metadata": {
        "id": "wEeaSqMK5zVT"
      },
      "source": [
        "print(True and False, '\\n')\n",
        "\n",
        "print(True or False, '\\n')\n",
        "\n",
        "print(not False, '\\n')"
      ],
      "execution_count": null,
      "outputs": []
    },
    {
      "cell_type": "code",
      "metadata": {
        "id": "EEulEkZH50Hz"
      },
      "source": [
        "# в переменную a будет записан результат сравнения 2 и 3. т.е. False, потому что (2==3) неверно. < это оператор сравнения, в нашем случае вернет True\n",
        "a = (2 == 3)\n",
        "b = (4 < 5)\n",
        "\n",
        "print(a, '|', type(a))\n",
        "print(b, '|', type(b))"
      ],
      "execution_count": null,
      "outputs": []
    },
    {
      "cell_type": "code",
      "metadata": {
        "id": "-lvo-3ZW6BIi"
      },
      "source": [
        "# более сложные сравнения алгебры-логики, для определения порядка выполнения используйте скобки, как в обычной математике\n",
        "a or (a and not b)"
      ],
      "execution_count": null,
      "outputs": []
    },
    {
      "cell_type": "markdown",
      "metadata": {
        "id": "pGUDmEtp6bzt"
      },
      "source": [
        "## None\n",
        "\n",
        "**ничего, null**\n",
        "\n",
        "Специальный тип в питоне, который обозначает *ничего*\n",
        "\n",
        "Его нельзя привести ни к одному другому типу языка. Проверить, является ли переменная param типом None, можно так:\n",
        "\n",
        "```\n",
        "if param is None\n",
        "```\n",
        "\n",
        "С первого взгляда может быть непонятно, зачем он нужен, но на самом деле это оченб удобный тип. Например, если вы где-то в коде создаете объект (базу данных, например), обращаясь к внешнему коду и хотите проверить, создалась ли ваша база данных, вы можете осуществить эту проверку, сравнив переменную базы данных с None. Примерно так:\n",
        "\n",
        "```\n",
        "database = MyDatabase(db_host, db_user, db_password, db_database)\n",
        "\n",
        "if database is None:\n",
        "```"
      ]
    },
    {
      "cell_type": "code",
      "metadata": {
        "id": "vImBD2736Wvh"
      },
      "source": [
        "z = None\n",
        "print(z, '|', type(z))"
      ],
      "execution_count": null,
      "outputs": []
    },
    {
      "cell_type": "code",
      "metadata": {
        "id": "bThGRBPQ6kX4"
      },
      "source": [
        "# Убедимся, что None нельзя привести к другому типу:\n",
        "int(z)"
      ],
      "execution_count": null,
      "outputs": []
    },
    {
      "cell_type": "markdown",
      "metadata": {
        "id": "Z8b2y0QY6pCb"
      },
      "source": [
        "То, что мы сейчас получили - ошибка, подсвечивается красным, детальнее будет рассмотрено далее."
      ]
    },
    {
      "cell_type": "markdown",
      "metadata": {
        "id": "KRSA7Vz_6oV9"
      },
      "source": [
        "Проверка переменной на None:"
      ]
    },
    {
      "cell_type": "code",
      "metadata": {
        "id": "2JxxMha66mxg"
      },
      "source": [
        "if z is None:\n",
        "    z = 'I am None!'\n",
        "z"
      ],
      "execution_count": null,
      "outputs": []
    },
    {
      "cell_type": "markdown",
      "metadata": {
        "id": "v08_HHx96yJM"
      },
      "source": [
        "## str\n",
        "\n",
        "**строка**\n",
        "\n",
        "Тип переменной \"строка\". Нужен для хранения и выполнения операций с строками -- наборами символов. В питоне строку можно задавать как с помощью одинарных кавычек, так и с помощью двойных, разницы нет (главное, чтобы в начале и конце одной строки стояли одинаковые кавычки):"
      ]
    },
    {
      "cell_type": "code",
      "metadata": {
        "id": "iPOkq1NB6wzn"
      },
      "source": [
        "x = \"abc\"\n",
        "y = 'xyz'\n",
        "print(x, '|', type(x))\n",
        "print(y, '|', type(y))"
      ],
      "execution_count": null,
      "outputs": []
    },
    {
      "cell_type": "markdown",
      "metadata": {
        "id": "fvnWNxCM606N"
      },
      "source": [
        "Со строками тоже можно выполнять некоторые операции. Например, можно сложить две строки -- тогда вторая припишется в конец первой:"
      ]
    },
    {
      "cell_type": "code",
      "metadata": {
        "id": "om5Hmqcn6zSP"
      },
      "source": [
        "a = 'Привет'\n",
        "b = \"Мир\"\n",
        "s = a + \" \" + b\n",
        "print(s)"
      ],
      "execution_count": null,
      "outputs": []
    },
    {
      "cell_type": "markdown",
      "metadata": {
        "id": "JToL4owy63gB"
      },
      "source": [
        "Также у строк есть некоторое количество *методов*\n",
        "\n",
        "Метод -- это название для функций, которые вызываются от объекта. Например, у нас есть объект a -- строка, и у нее можно вызвать метод `.upper()`:\n",
        "\n",
        "```\n",
        "a.upper()\n",
        "```\n",
        "\n",
        "Методы деляится на те, которые изменяют сам объект, который их вызывает, и на те, которые возвращают результат, но не изменяют сам объект.\n",
        "\n",
        "Вот пример методов `.upper()` и `.lower()`, которые возвращают копию строки (не изменяя саму строку), от которой был вызван метод, приведенную к верхнему и нижнему регистру соответственно:\n",
        "\n",
        "P.S. При вызове метода какого-то класса (или функции какого-то модуля) можно написать его имя и через точку нажать **tab**:  \n",
        "\n",
        "<имя\\_объекта\\_класса(модуля)>**.[tab]**  \n",
        "\n",
        "Тогда всплывёт меню, в котором можно выбрать из всех существующих в этом классе методов (функций модуля)."
      ]
    },
    {
      "cell_type": "code",
      "metadata": {
        "id": "UrOgZuuZ62Vf"
      },
      "source": [
        "print(a.upper())\n",
        "print(a.lower())"
      ],
      "execution_count": null,
      "outputs": []
    },
    {
      "cell_type": "markdown",
      "metadata": {
        "id": "RZmb-naF663e"
      },
      "source": [
        "Можно получить длину строки с помощью функции `len`:"
      ]
    },
    {
      "cell_type": "code",
      "metadata": {
        "id": "muhGFMVI65rm"
      },
      "source": [
        "print(len(a))"
      ],
      "execution_count": null,
      "outputs": []
    },
    {
      "cell_type": "markdown",
      "metadata": {
        "id": "RR-pX2ZK69HP"
      },
      "source": [
        "Можно обращаться к отдельным элементам строки через индексы (индексация в питоне с 0):"
      ]
    },
    {
      "cell_type": "code",
      "metadata": {
        "id": "dBIpbT3v678f"
      },
      "source": [
        "print(a)\n",
        "print(a[0])\n",
        "print(a[1])"
      ],
      "execution_count": null,
      "outputs": []
    },
    {
      "cell_type": "markdown",
      "metadata": {
        "id": "9g7NtG9P6_6r"
      },
      "source": [
        "Можно проверять наличие подстроки в строке:"
      ]
    },
    {
      "cell_type": "code",
      "metadata": {
        "id": "U0q1kDCg6-UW"
      },
      "source": [
        "s = 'ya stroka'\n",
        "if 'ya' in s:\n",
        "    print(\"ya deistvitel\\'no stroka\")"
      ],
      "execution_count": null,
      "outputs": []
    },
    {
      "cell_type": "markdown",
      "metadata": {
        "id": "t6wzHszX7CDL"
      },
      "source": [
        "А вот изменять уже существующие строки нельзя:"
      ]
    },
    {
      "cell_type": "code",
      "metadata": {
        "id": "LUr7fBhC7A2W"
      },
      "source": [
        "s = 'ya stroka'\n",
        "s[0] = 'l'"
      ],
      "execution_count": null,
      "outputs": []
    },
    {
      "cell_type": "markdown",
      "metadata": {
        "id": "iHOBmIMt7G8m"
      },
      "source": [
        "У строк наряду с методами `.upper()`, `.lower()` и остальными есть метод `.split()`, который часто бывает очень полезен. Этот метод делит строку на несколько по символу, который ему указываешь, и возвращает набор полученных строк (точнее, массив полученных строк -- о том, что такое массив, ниже)\n",
        "\n",
        "Если символ не указывать, строка делится по пробелам:"
      ]
    },
    {
      "cell_type": "code",
      "metadata": {
        "id": "O3AgDs2Y7DLm"
      },
      "source": [
        "splitted_line = \"Раз два три\".split()\n",
        "print(splitted_line)"
      ],
      "execution_count": null,
      "outputs": []
    },
    {
      "cell_type": "code",
      "metadata": {
        "id": "QYXYSoNP7IEl"
      },
      "source": [
        "splitted_line = \"Раз два три\".split('дв')\n",
        "print(splitted_line)"
      ],
      "execution_count": null,
      "outputs": []
    },
    {
      "cell_type": "markdown",
      "source": [
        "Остальные строковые методы:"
      ],
      "metadata": {
        "id": "R5Opq3Vbx7AR"
      }
    },
    {
      "cell_type": "code",
      "source": [
        "a = 'Hello, World!'\n",
        "\n",
        "# Работа с регистром\n",
        "print(a.capitalize()) # Преобразует первый символ в верхний регистр.\n",
        "print(a.lower()) # Преобразует символы строки в нижний регистр.\n",
        "print(a.upper()) # Преобразует символы строки в верхний регистр.\n",
        "print(a.title()) # Преобразует первые символы подстрок в верхний регистр.\n",
        "\n",
        "# Поиск элементов\n",
        "print(a.count(\"o\")) # Подсчитывает число вхождений заданной подстроки sub.\n",
        "print(a.find(\"o\")) # Отыскивает первое вхождение подстроки sub или возвращает -1.\n",
        "print(a.rfind(\"o\")) # Отыскивает последнее вхождение подстроки.\n",
        "print(a.index(\"o\")) # Отыскивает первое вхождение подстроки sub или возбуждает исключение.\n",
        "print(a.rindex(\"o\")) # Отыскивает последнее вхождение\"o\" подстроки или возбуждает исключение.\n",
        "\n",
        "# Проверки\n",
        "print(a.isalnum()) # Проверяет, являются ли все символы в строке алфавитно-цифровыми символами.\n",
        "print(a.isalpha()) # Проверяет, являются ли все символы в строке алфавитными символами.\n",
        "print(a.isdigit()) # Проверяет, являются ли все символы в строке цифровыми символами.\n",
        "print(a.islower()) # Проверяет, являются ли все символы в строке символами нижнего регистра.\n",
        "print(a.isspace()) # Проверяет, являются ли все символы в строке пробельными символами.\n",
        "print(a.istitle()) # Проверяет, являются ли первые символы всех слов символами верхнего регистра.\n",
        "print(a.isupper()) # Проверяет, являются ли все символы в строке символами верхнего регистра.\n",
        "print(a.endswith(\"!\")) # Проверяет, оканчивается ли строка подстрокой \"!\".\n",
        "print(a.startswith(\"H\")) # Проверяет, начинается ли строка подстрокой \"H\".\n",
        "\n",
        "# Преобразование\n",
        "print(a.replace(\"o\", \"OO\")) # Замещает подстроку \"o\"  подстрокой \"OO\".\n",
        "print(a.lstrip(\"Hle\")) # Удаляет начальные пробельные символы или символы, перечисленные в аргументе chrs.\n",
        "print(a.rstrip(\"!ld\")) # Удаляет конечные пробельные символы или символы, перечисленные в аргументе chrs.\n",
        "print(a.strip(\"H!\")) # Удаляет начальные и конечные пробельные символы или символы, перечисленные в аргументе chrs.\n",
        "\n",
        "a = \"125.25; 25.7; 74.1\"\n",
        "\n",
        "new_a = a.split(sep = ';')\n",
        "print(new_a)\n",
        "\n",
        "new_a = \",\".join(new_a)\n",
        "print(\"Координаты:\", new_a)"
      ],
      "metadata": {
        "colab": {
          "base_uri": "https://localhost:8080/"
        },
        "id": "WZlKkGNpx91y",
        "outputId": "fafcef6d-4f44-4d3c-9c9a-05ece19f19b2"
      },
      "execution_count": null,
      "outputs": [
        {
          "output_type": "stream",
          "name": "stdout",
          "text": [
            "Hello, world!\n",
            "hello, world!\n",
            "HELLO, WORLD!\n",
            "Hello, World!\n",
            "2\n",
            "4\n",
            "8\n",
            "4\n",
            "8\n",
            "False\n",
            "False\n",
            "False\n",
            "False\n",
            "False\n",
            "True\n",
            "False\n",
            "True\n",
            "True\n",
            "HellOO, WOOrld!\n",
            "o, World!\n",
            "Hello, Wor\n",
            "ello, World\n",
            "['125.25', ' 25.7', ' 74.1']\n",
            "Координаты: 125.25, 25.7, 74.1\n"
          ]
        }
      ]
    },
    {
      "cell_type": "markdown",
      "metadata": {
        "id": "uBL_ZW1W6ODJ"
      },
      "source": [
        "## If\n",
        "\n",
        "**Условный оператор**\n",
        "\n",
        "В коде часто приходится проверять выполнимость или невыполнимость каких-то условий. Синтаксис следующий\n",
        "\n",
        "```\n",
        "if <условие1 (булевское выражение)> :\n",
        "    <код, который выполнится, если условие верно>\n",
        "elif <условие2 (булевское выражение)>:\n",
        "    <код, который выполнится, если условие1 было неверно, а условие2 верно>\n",
        "else:\n",
        "    <код, который выполнится, если условие1 и условие2 были неверны>\n",
        "```\n",
        "\n",
        "Обратите внимание, что код, который должен выполняться внутри каждого условия, записывается с отступом в 4 пробела от уровня if, elif и else: в питоне области видимости переменных обозначаются отступами.\n",
        "\n",
        "*То есть, отступы позволяют понять, где начинается код, который должен выполняться при выполнении условия в if, и где заканчивается*\n",
        "\n",
        "Рассмотрим пример: пусть в нашем коде есть переменная x. Пусть мы хотим вывести на экран сообщение \"x отрицателен\", если x<0, \"x равен нулю\", если x=0 и \"x положителен\", если x>0. Код будет следующий:"
      ]
    },
    {
      "cell_type": "code",
      "metadata": {
        "id": "klx-cmQL6KCR"
      },
      "source": [
        "x = 10\n",
        "\n",
        "if x<0:\n",
        "    print(\"x отрицателен\")\n",
        "elif x==0:\n",
        "    print(\"x равен нулю\")\n",
        "else:\n",
        "    print(\"x положителен\")\n",
        "\n",
        "# этот код уже не \"внутри\" else, потому что записан без отступа в 4 пробела. Поэтому он выполнится\n",
        "# в любом случае после отработки if-elif-else\n",
        "print(\"Done\")"
      ],
      "execution_count": null,
      "outputs": []
    },
    {
      "cell_type": "markdown",
      "metadata": {
        "id": "IHrlrcoG6UJo"
      },
      "source": [
        "Конечно, в `if` можно подставлять и более сложные булевские выражения:"
      ]
    },
    {
      "cell_type": "code",
      "metadata": {
        "id": "5b5TPNYV6SJJ"
      },
      "source": [
        "if (x>3 and x < 11) or x==5:\n",
        "    print(x)\n",
        "    # тоже выполнится при выполнения условия после if, так как этот код тоже записан с отступом в 4 пробела\n",
        "    print(\"nice\")"
      ],
      "execution_count": null,
      "outputs": []
    },
    {
      "cell_type": "code",
      "metadata": {
        "id": "qqdjB-kC6VeB"
      },
      "source": [
        "# if внутри if:\n",
        "x = 3\n",
        "y = 5\n",
        "if x == 3:\n",
        "    if y > 6:\n",
        "        # отступ в 4 пробела от внутреннего if\n",
        "        print(\"y greater than 6\")\n",
        "    else:\n",
        "        print(\"y not grater than 6\")\n",
        "\n",
        "    # отступ в 4 пробела от внешнего if, поэтому код выполнится если x==3 и при любом значении y\n",
        "    print(\"x is equal to 3\")"
      ],
      "execution_count": null,
      "outputs": []
    }
  ]
}