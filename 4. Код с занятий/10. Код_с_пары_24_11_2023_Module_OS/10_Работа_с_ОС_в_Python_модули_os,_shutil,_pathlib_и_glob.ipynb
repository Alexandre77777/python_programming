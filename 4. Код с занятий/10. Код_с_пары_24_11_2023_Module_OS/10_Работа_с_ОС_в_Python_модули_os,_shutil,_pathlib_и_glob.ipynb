{
  "cells": [
    {
      "cell_type": "markdown",
      "metadata": {
        "id": "view-in-github",
        "colab_type": "text"
      },
      "source": [
        "<a href=\"https://colab.research.google.com/github/Alexandre77777/python_programming/blob/main/4.%20%D0%9A%D0%BE%D0%B4%20%D1%81%20%D0%B7%D0%B0%D0%BD%D1%8F%D1%82%D0%B8%D0%B9/10.%20%D0%9A%D0%BE%D0%B4_%D1%81_%D0%BF%D0%B0%D1%80%D1%8B_24_11_2023_Module_OS/10_%D0%A0%D0%B0%D0%B1%D0%BE%D1%82%D0%B0_%D1%81_%D0%9E%D0%A1_%D0%B2_Python_%D0%BC%D0%BE%D0%B4%D1%83%D0%BB%D0%B8_os%2C_shutil%2C_pathlib_%D0%B8_glob.ipynb\" target=\"_parent\"><img src=\"https://colab.research.google.com/assets/colab-badge.svg\" alt=\"Open In Colab\"/></a>"
      ]
    },
    {
      "cell_type": "markdown",
      "id": "092ae2d7",
      "metadata": {
        "id": "092ae2d7"
      },
      "source": [
        "# **Работа с ОС в Python: модули os, shutil, pathlib и glob**"
      ]
    },
    {
      "cell_type": "markdown",
      "id": "827ae3c8",
      "metadata": {
        "id": "827ae3c8"
      },
      "source": [
        "Python предоставляет широкий набор модулей для взаимодействия с операционной системой, что позволяет автоматизировать множество задач.\n",
        "\n",
        "Рассмотрим основные модули для работы с ОС: **os**, **glob**, **pathlib** и **shutil**."
      ]
    },
    {
      "cell_type": "markdown",
      "id": "5171a926",
      "metadata": {
        "id": "5171a926"
      },
      "source": [
        "## **1. Описание основных методов модуля `OS`**"
      ]
    },
    {
      "cell_type": "markdown",
      "source": [
        "Модуль `os` в Python — это библиотека функций для работы с операционной системой. Методы, включенные в неё, позволяют:\n",
        "\n",
        "- Определять тип операционной системы.\n",
        "- Получать доступ к переменным окружения.\n",
        "- Управлять директориями и файлами:\n",
        "  - Проверка существования объекта по заданному пути.\n",
        "  - Определение размера в байтах.\n",
        "  - Удаление.\n",
        "  - Переименование и др.\n",
        "\n",
        "\n",
        "### Примеры использования функций модуля `os`\n",
        "\n",
        "#### Определение типа операционной системы\n",
        "\n",
        "```python\n",
        "import os\n",
        "\n",
        "print(os.name)  # Определение типа ОС ('posix', 'nt', 'java')\n",
        "```\n",
        "\n",
        "#### Изменение рабочей директории\n",
        "\n",
        "По умолчанию рабочей директорией программы является каталог, где содержится запускаемый модуль. Благодаря этому можно не указывать абсолютный путь к файлу, если тот находится именно в этой папке.\n",
        "\n",
        "```python\n",
        "import os\n",
        "\n",
        "# Возвращает текущую рабочую директорию\n",
        "current_dir = os.getcwd()\n",
        "print(f\"Текущая рабочая директория: {current_dir}\")\n",
        "\n",
        "# Смена рабочей директории на указанную\n",
        "os.chdir(r\"C:\\Новая папка\")\n",
        "print(f\"Новая рабочая директория: {os.getcwd()}\")\n",
        "```\n",
        "\n",
        "#### Проверки на корректность\n",
        "\n",
        "- **Проверка существования пути**\n",
        "\n",
        "  ```python\n",
        "  import os\n",
        "\n",
        "  path = r\"C:\\Новая папка\\text.txt\"\n",
        "  if os.path.exists(path):\n",
        "      print(f\"Путь {path} существует\")\n",
        "  else:\n",
        "      print(f\"Путь {path} не существует\")\n",
        "  ```\n",
        "\n",
        "- **Проверка, является ли объект файлом**\n",
        "\n",
        "  ```python\n",
        "  import os\n",
        "\n",
        "  if os.path.isfile(path):\n",
        "      print(f\"{path} является файлом\")\n",
        "  else:\n",
        "      print(f\"{path} не является файлом\")\n",
        "  ```\n",
        "\n",
        "- **Проверка, является ли объект папкой**\n",
        "\n",
        "  ```python\n",
        "  import os\n",
        "\n",
        "  directory = r\"C:\\Новая папка\"\n",
        "  if os.path.isdir(directory):\n",
        "      print(f\"{directory} является папкой\")\n",
        "  else:\n",
        "      print(f\"{directory} не является папкой\")\n",
        "  ```\n",
        "\n",
        "#### Создание директорий\n",
        "\n",
        "- **Создание одного каталога**\n",
        "\n",
        "  ```python\n",
        "  import os\n",
        "\n",
        "  os.mkdir(r\"C:\\new\")  # Создает каталог 'new' на диске C\n",
        "  ```\n",
        "\n",
        "- **Создание вложенных каталогов**\n",
        "\n",
        "  ```python\n",
        "  import os\n",
        "\n",
        "  os.makedirs(r\"C:\\folder\\first\\second\\third\")  # Создает цепочку вложенных папок\n",
        "  ```\n",
        "\n",
        "#### Удаление файлов и директорий\n",
        "\n",
        "- **Удаление файла**\n",
        "\n",
        "  ```python\n",
        "  import os\n",
        "\n",
        "  os.remove(r\"C:\\Новая папка\\text.txt\")  # Удаляет файл\n",
        "  ```\n",
        "\n",
        "- **Удаление пустого каталога**\n",
        "\n",
        "  ```python\n",
        "  import os\n",
        "\n",
        "  os.rmdir(r\"C:\\new\")  # Удаляет пустую папку\n",
        "  ```\n",
        "\n",
        "- **Удаление вложенных пустых папок**\n",
        "\n",
        "  ```python\n",
        "  import os\n",
        "\n",
        "  os.removedirs(r\"C:\\folder\\first\\second\\third\")  # Удаляет вложенные пустые папки\n",
        "  ```\n",
        "\n",
        "#### Переименование\n",
        "\n",
        "- **Переименование файла или папки**\n",
        "\n",
        "  ```python\n",
        "  import os\n",
        "\n",
        "  os.rename(r\"C:\\folder\", r\"C:\\catalog\")  # Переименовывает объект\n",
        "  ```\n",
        "\n",
        "- **Переименование с созданием промежуточных директорий**\n",
        "\n",
        "  ```python\n",
        "  import os\n",
        "\n",
        "  os.renames(r\"C:\\folder\\first\\second\", r\"C:\\catalog\\one\\two\")  # Переименование с изменением пути\n",
        "  ```\n",
        "\n",
        "#### Получение размера файла\n",
        "\n",
        "```python\n",
        "import os\n",
        "\n",
        "size = os.path.getsize(r\"C:\\Новая папка\\text.txt\")\n",
        "print(f\"Размер файла: {size} байт\")\n",
        "```\n",
        "\n",
        "#### Запуск файла на исполнение\n",
        "\n",
        "```python\n",
        "import os\n",
        "\n",
        "os.startfile(r\"C:\\Новая папка\\text.txt\")  # Открывает файл с помощью программы по умолчанию\n",
        "```\n",
        "\n",
        "#### Получение имени файла и директории\n",
        "\n",
        "- **Получение имени файла из полного пути**\n",
        "\n",
        "  ```python\n",
        "  import os\n",
        "\n",
        "  filename = os.path.basename(r\"C:\\Новая папка\\text.txt\")\n",
        "  print(f\"Имя файла: {filename}\")\n",
        "  ```\n",
        "\n",
        "- **Получение пути к директории из полного пути**\n",
        "\n",
        "  ```python\n",
        "  import os\n",
        "\n",
        "  dirname = os.path.dirname(r\"C:\\Новая папка\\text.txt\")\n",
        "  print(f\"Путь к директории: {dirname}\")\n",
        "  ```\n",
        "\n",
        "- **Получение списка файлов и папок в директории**\n",
        "\n",
        "  ```python\n",
        "  import os\n",
        "\n",
        "  contents = os.listdir(r\"C:\\Новая папка\")\n",
        "  print(f\"Содержимое директории: {contents}\")\n",
        "  ```\n",
        "\n",
        "- **Разделение пути на директорию и имя файла**\n",
        "\n",
        "  ```python\n",
        "  import os\n",
        "\n",
        "  path = r\"C:\\Новая папка\\text.txt\"\n",
        "  dir_name, file_name = os.path.split(path)\n",
        "  print(f\"Директория: {dir_name}, Файл: {file_name}\")\n",
        "  ```\n",
        "\n",
        "- **Объединение частей пути**\n",
        "\n",
        "  ```python\n",
        "  import os\n",
        "\n",
        "  full_path = os.path.join(r\"C:\\Новая папка\", \"text.txt\")\n",
        "  print(f\"Полный путь: {full_path}\")\n",
        "  ```"
      ],
      "metadata": {
        "id": "mEFr-Hn2b0ob"
      },
      "id": "mEFr-Hn2b0ob"
    },
    {
      "cell_type": "markdown",
      "id": "ef1741da",
      "metadata": {
        "id": "ef1741da"
      },
      "source": [
        "#### Выполнение системных команд"
      ]
    },
    {
      "cell_type": "markdown",
      "id": "160cf222",
      "metadata": {
        "id": "160cf222"
      },
      "source": [
        "Для выполнения системных команд используется функция `os.system(command)`:"
      ]
    },
    {
      "cell_type": "code",
      "execution_count": null,
      "id": "709983a8",
      "metadata": {
        "id": "709983a8"
      },
      "outputs": [],
      "source": [
        "os.system('echo \"Hello, World!\"')"
      ]
    },
    {
      "cell_type": "markdown",
      "id": "555a95b9",
      "metadata": {
        "id": "555a95b9"
      },
      "source": [
        "---"
      ]
    },
    {
      "cell_type": "markdown",
      "id": "90dbe7ba",
      "metadata": {
        "id": "90dbe7ba"
      },
      "source": [
        "#### Примеры полезных скриптов"
      ]
    },
    {
      "cell_type": "markdown",
      "id": "f44f4d89",
      "metadata": {
        "id": "f44f4d89"
      },
      "source": [
        "##### Пример 1: Очистка временных файлов"
      ]
    },
    {
      "cell_type": "markdown",
      "id": "8ed246c7",
      "metadata": {
        "id": "8ed246c7"
      },
      "source": [
        "Скрипт для удаления всех файлов с расширением `.tmp` в указанном каталоге:"
      ]
    },
    {
      "cell_type": "code",
      "execution_count": null,
      "id": "553af601",
      "metadata": {
        "id": "553af601"
      },
      "outputs": [],
      "source": [
        "import os\n",
        "\n",
        "def delete_tmp_files(directory):\n",
        "    for filename in os.listdir(directory):\n",
        "        if filename.endswith('.tmp'):\n",
        "            file_path = os.path.join(directory, filename)\n",
        "            os.remove(file_path)\n",
        "            print(f\"Удален файл: {file_path}\")\n",
        "\n",
        "delete_tmp_files('/путь/к/каталогу')"
      ]
    },
    {
      "cell_type": "markdown",
      "id": "9613c79c",
      "metadata": {
        "id": "9613c79c"
      },
      "source": [
        "##### Пример 2: Резервное копирование файлов"
      ]
    },
    {
      "cell_type": "markdown",
      "id": "c000de01",
      "metadata": {
        "id": "c000de01"
      },
      "source": [
        "Скрипт для копирования файлов из одного каталога в другой:"
      ]
    },
    {
      "cell_type": "code",
      "execution_count": null,
      "id": "b961b2c4",
      "metadata": {
        "id": "b961b2c4"
      },
      "outputs": [],
      "source": [
        "import os\n",
        "import shutil\n",
        "\n",
        "def backup_files(src_dir, dst_dir):\n",
        "    if not os.path.exists(dst_dir):\n",
        "        os.makedirs(dst_dir)\n",
        "    for filename in os.listdir(src_dir):\n",
        "        src_file = os.path.join(src_dir, filename)\n",
        "        dst_file = os.path.join(dst_dir, filename)\n",
        "        if os.path.isfile(src_file):\n",
        "            shutil.copy2(src_file, dst_file)\n",
        "            print(f\"Скопирован файл: {src_file} в {dst_file}\")\n",
        "\n",
        "backup_files('/путь/к/исходному/каталогу', '/путь/к/резервному/каталогу')"
      ]
    },
    {
      "cell_type": "markdown",
      "id": "890c1971",
      "metadata": {
        "id": "890c1971"
      },
      "source": [
        "##### Пример 3: Поиск файлов по расширению"
      ]
    },
    {
      "cell_type": "markdown",
      "id": "7627138e",
      "metadata": {
        "id": "7627138e"
      },
      "source": [
        "Скрипт для поиска всех файлов с заданным расширением в каталоге и его подкаталогах:"
      ]
    },
    {
      "cell_type": "code",
      "execution_count": null,
      "id": "09fe6ff9",
      "metadata": {
        "id": "09fe6ff9"
      },
      "outputs": [],
      "source": [
        "import os\n",
        "\n",
        "def find_files_by_extension(directory, extension):\n",
        "    for root, dirs, files in os.walk(directory):\n",
        "        for filename in files:\n",
        "            if filename.endswith(extension):\n",
        "                print(os.path.join(root, filename))\n",
        "\n",
        "find_files_by_extension('/путь/к/каталогу', '.txt')"
      ]
    },
    {
      "cell_type": "markdown",
      "id": "27922dfe",
      "metadata": {
        "id": "27922dfe"
      },
      "source": [
        "##  **2\\. Описание основных методов модуля `shutil`**"
      ]
    },
    {
      "cell_type": "markdown",
      "id": "cb92acd3",
      "metadata": {
        "id": "cb92acd3"
      },
      "source": [
        "Модуль **shutil** (от англ. *shell utilities*) предоставляет ряд функций для выполнения высокоуровневых операций с файлами и директориями. Он расширяет возможности модуля `os` и упрощает задачи по копированию, перемещению, удалению и управлению файлами и директориями, а также работы с архивами. Давайте рассмотрим его функционал более подробно."
      ]
    },
    {
      "cell_type": "markdown",
      "id": "f82bafb6",
      "metadata": {
        "id": "f82bafb6"
      },
      "source": [
        "### Общий обзор модуля shutil"
      ]
    },
    {
      "cell_type": "markdown",
      "id": "51fbc9e3",
      "metadata": {
        "id": "51fbc9e3"
      },
      "source": [
        "Модуль `shutil` особенно полезен для:\n",
        "\n",
        "- Копирования файлов и директорий с возможностью сохранения метаданных.\n",
        "- Перемещения и переименования файлов и директорий.\n",
        "- Удаления файлов и директорий.\n",
        "- Создания и распаковки архивов различных форматов.\n",
        "- Получения информации о файловой системе."
      ]
    },
    {
      "cell_type": "markdown",
      "id": "8f28fe22",
      "metadata": {
        "id": "8f28fe22"
      },
      "source": [
        "### Подробное описание функций модуля shutil"
      ]
    },
    {
      "cell_type": "markdown",
      "id": "0506c1b0",
      "metadata": {
        "id": "0506c1b0"
      },
      "source": [
        "#### Копирование файлов и директорий"
      ]
    },
    {
      "cell_type": "markdown",
      "id": "0e9224a4",
      "metadata": {
        "id": "0e9224a4"
      },
      "source": [
        "1. **Копирование файлов**\n",
        "\n",
        "   - `shutil.copyfile(src, dst)`: Копирует содержимое файла `src` в файл `dst`. При этом метаданные не копируются."
      ]
    },
    {
      "cell_type": "code",
      "execution_count": null,
      "id": "c8584222",
      "metadata": {
        "id": "c8584222"
      },
      "outputs": [],
      "source": [
        "shutil.copyfile('source.txt', 'destination.txt')"
      ]
    },
    {
      "cell_type": "markdown",
      "id": "6b8261f3",
      "metadata": {
        "id": "6b8261f3"
      },
      "source": [
        "- **Примечание**: Оба пути должны быть к файлам, а не к директориям. Если файл `dst` уже существует, он будет перезаписан.\n",
        "\n",
        "2. **Копирование файлов с правами доступа**\n",
        "\n",
        "   - `shutil.copy(src, dst)`: Копирует файл `src` в `dst` и копирует права доступа."
      ]
    },
    {
      "cell_type": "code",
      "execution_count": null,
      "id": "dc34755d",
      "metadata": {
        "id": "dc34755d"
      },
      "outputs": [],
      "source": [
        "shutil.copy('source.txt', '/path/to/destination/')"
      ]
    },
    {
      "cell_type": "markdown",
      "id": "b79390a9",
      "metadata": {
        "id": "b79390a9"
      },
      "source": [
        "- Если `dst` — директория, файл будет скопирован внутрь этой директории с исходным именем.\n",
        "\n",
        "3. **Копирование файлов с метаданными**\n",
        "\n",
        "   - `shutil.copy2(src, dst)`: Аналогично `copy`, но дополнительно копирует метаданные файла, такие как время создания и изменения."
      ]
    },
    {
      "cell_type": "code",
      "execution_count": null,
      "id": "9be6ebf3",
      "metadata": {
        "id": "9be6ebf3"
      },
      "outputs": [],
      "source": [
        "shutil.copy2('source.txt', 'destination.txt')"
      ]
    },
    {
      "cell_type": "markdown",
      "id": "2db53beb",
      "metadata": {
        "id": "2db53beb"
      },
      "source": [
        "4. **Копирование прав доступа и метаданных отдельно**\n",
        "\n",
        "   - `shutil.copymode(src, dst)`: Копирует только права доступа (права чтения, записи, выполнения)."
      ]
    },
    {
      "cell_type": "code",
      "execution_count": null,
      "id": "8c2e98d1",
      "metadata": {
        "id": "8c2e98d1"
      },
      "outputs": [],
      "source": [
        "shutil.copymode('source.txt', 'destination.txt')"
      ]
    },
    {
      "cell_type": "markdown",
      "id": "7aeb7a5f",
      "metadata": {
        "id": "7aeb7a5f"
      },
      "source": [
        "- `shutil.copystat(src, dst)`: Копирует метаданные (дата создания, изменения и т.д.), но не содержимое и не права доступа."
      ]
    },
    {
      "cell_type": "code",
      "execution_count": null,
      "id": "44fb0f7b",
      "metadata": {
        "id": "44fb0f7b"
      },
      "outputs": [],
      "source": [
        "shutil.copystat('source.txt', 'destination.txt')"
      ]
    },
    {
      "cell_type": "markdown",
      "id": "cf4a0b95",
      "metadata": {
        "id": "cf4a0b95"
      },
      "source": [
        "5. **Копирование дерева директорий**\n",
        "\n",
        "   - `shutil.copytree(src, dst, symlinks=False, ignore=None, copy_function=copy2, ignore_dangling_symlinks=False, dirs_exist_ok=False)`"
      ]
    },
    {
      "cell_type": "code",
      "execution_count": null,
      "id": "353730bc",
      "metadata": {
        "id": "353730bc"
      },
      "outputs": [],
      "source": [
        "shutil.copytree('source_folder', 'destination_folder')"
      ]
    },
    {
      "cell_type": "markdown",
      "id": "19a01337",
      "metadata": {
        "id": "19a01337"
      },
      "source": [
        "- **Аргументы функции:**\n",
        "     - `symlinks`: Если `True`, символические ссылки копируются как символические ссылки.\n",
        "     - `ignore`: Функция, которая определяет, какие файлы или директории игнорировать при копировании.\n",
        "     - `copy_function`: Функция, используемая для копирования файлов. По умолчанию `copy2`.\n",
        "     - `dirs_exist_ok`: Если `True`, не будет возникать ошибки, если директория назначения уже существует (Python 3.8+).\n",
        "\n",
        "   - **Использование параметра `ignore`:**\n",
        "\n",
        "     Можно использовать функцию `shutil.ignore_patterns(*patterns)`, которая возвращает функцию, пригодную для параметра `ignore`."
      ]
    },
    {
      "cell_type": "code",
      "execution_count": null,
      "id": "c26794df",
      "metadata": {
        "id": "c26794df"
      },
      "outputs": [],
      "source": [
        "ignore_patterns = shutil.ignore_patterns('*.pyc', 'tmp*')\n",
        "shutil.copytree('src', 'dst', ignore=ignore_patterns)"
      ]
    },
    {
      "cell_type": "markdown",
      "id": "60e1682b",
      "metadata": {
        "id": "60e1682b"
      },
      "source": [
        "#### Перемещение и переименование файлов и директорий"
      ]
    },
    {
      "cell_type": "markdown",
      "id": "635507f2",
      "metadata": {
        "id": "635507f2"
      },
      "source": [
        "- `shutil.move(src, dst, copy_function=copy2)`: Перемещает файл или директорию `src` в `dst`."
      ]
    },
    {
      "cell_type": "code",
      "execution_count": null,
      "id": "c2c5d1f6",
      "metadata": {
        "id": "c2c5d1f6"
      },
      "outputs": [],
      "source": [
        "shutil.move('old_name.txt', 'new_name.txt')  # Переименование файла\n",
        "shutil.move('/path/to/file.txt', '/new/path/file.txt')  # Перемещение файла"
      ]
    },
    {
      "cell_type": "markdown",
      "id": "be1f9061",
      "metadata": {
        "id": "be1f9061"
      },
      "source": [
        "- Если `dst` существует и является файлом, он будет перезаписан."
      ]
    },
    {
      "cell_type": "markdown",
      "id": "c4674095",
      "metadata": {
        "id": "c4674095"
      },
      "source": [
        "#### Удаление файлов и директорий"
      ]
    },
    {
      "cell_type": "markdown",
      "id": "af862c16",
      "metadata": {
        "id": "af862c16"
      },
      "source": [
        "1. **Удаление файла**\n",
        "\n",
        "   - Используйте `os.remove(path)` или `os.unlink(path)` из модуля `os`."
      ]
    },
    {
      "cell_type": "code",
      "execution_count": null,
      "id": "c11cb75e",
      "metadata": {
        "id": "c11cb75e"
      },
      "outputs": [],
      "source": [
        "import os\n",
        "os.remove('file.txt')"
      ]
    },
    {
      "cell_type": "markdown",
      "id": "4cba094d",
      "metadata": {
        "id": "4cba094d"
      },
      "source": [
        "2. **Удаление пустой директории**\n",
        "\n",
        "   - Используйте `os.rmdir(path)`."
      ]
    },
    {
      "cell_type": "code",
      "execution_count": null,
      "id": "a77e0d16",
      "metadata": {
        "id": "a77e0d16"
      },
      "outputs": [],
      "source": [
        "os.rmdir('empty_folder')"
      ]
    },
    {
      "cell_type": "markdown",
      "id": "d71e4658",
      "metadata": {
        "id": "d71e4658"
      },
      "source": [
        "3. **Рекурсивное удаление директории**\n",
        "\n",
        "   - `shutil.rmtree(path, ignore_errors=False, onerror=None)`: Удаляет директорию `path` и все её содержимое."
      ]
    },
    {
      "cell_type": "code",
      "execution_count": null,
      "id": "dcfb9f38",
      "metadata": {
        "id": "dcfb9f38"
      },
      "outputs": [],
      "source": [
        "shutil.rmtree('folder_to_delete')"
      ]
    },
    {
      "cell_type": "markdown",
      "id": "15d412a6",
      "metadata": {
        "id": "15d412a6"
      },
      "source": [
        "- **Аргументы функции:**\n",
        "     - `ignore_errors`: Если `True`, игнорирует ошибки при удалении.\n",
        "     - `onerror`: Функция обработки ошибок."
      ]
    },
    {
      "cell_type": "markdown",
      "id": "73bbe703",
      "metadata": {
        "id": "73bbe703"
      },
      "source": [
        "#### Работа с архивами"
      ]
    },
    {
      "cell_type": "markdown",
      "id": "6cd125be",
      "metadata": {
        "id": "6cd125be"
      },
      "source": [
        "1. **Создание архивов**\n",
        "\n",
        "   - `shutil.make_archive(base_name, format, root_dir, base_dir, verbose=0, dry_run=0, owner=None, group=None, logger=None)`"
      ]
    },
    {
      "cell_type": "code",
      "execution_count": null,
      "id": "2ddd901b",
      "metadata": {
        "id": "2ddd901b"
      },
      "outputs": [],
      "source": [
        "shutil.make_archive('archive_name', 'zip', 'folder_to_archive')"
      ]
    },
    {
      "cell_type": "markdown",
      "id": "c7f0e79b",
      "metadata": {
        "id": "c7f0e79b"
      },
      "source": [
        "- **Аргументы функции:**\n",
        "     - `base_name`: Имя выходного архива.\n",
        "     - `format`: Формат архива ('zip', 'tar', 'gztar', 'bztar', 'xztar').\n",
        "     - `root_dir`: Директория, где начинается архивирование.\n",
        "     - `base_dir`: Директория внутри `root_dir`, которая будет заархивирована.\n",
        "\n",
        "   - **Примеры:**\n",
        "\n",
        "     Создание TAR.GZ архива:"
      ]
    },
    {
      "cell_type": "code",
      "execution_count": null,
      "id": "0ecf0959",
      "metadata": {
        "id": "0ecf0959"
      },
      "outputs": [],
      "source": [
        "shutil.make_archive('archive_name', 'gztar', root_dir='project_folder')"
      ]
    },
    {
      "cell_type": "markdown",
      "id": "e31bfbdd",
      "metadata": {
        "id": "e31bfbdd"
      },
      "source": [
        "2. **Распаковка архивов**\n",
        "\n",
        "   - `shutil.unpack_archive(filename, extract_dir=None, format=None)`"
      ]
    },
    {
      "cell_type": "code",
      "execution_count": null,
      "id": "52e14df1",
      "metadata": {
        "id": "52e14df1"
      },
      "outputs": [],
      "source": [
        "shutil.unpack_archive('archive_name.zip', 'extracted_folder')"
      ]
    },
    {
      "cell_type": "markdown",
      "id": "4d57fffd",
      "metadata": {
        "id": "4d57fffd"
      },
      "source": [
        "- Если `extract_dir` не указан, распаковка произойдёт в текущую директорию."
      ]
    },
    {
      "cell_type": "markdown",
      "id": "5aa1ce6a",
      "metadata": {
        "id": "5aa1ce6a"
      },
      "source": [
        "#### Работа с символическими ссылками"
      ]
    },
    {
      "cell_type": "markdown",
      "id": "088581fe",
      "metadata": {
        "id": "088581fe"
      },
      "source": [
        "- **Копирование символических ссылок:**\n",
        "\n",
        "  При использовании `shutil.copytree` с аргументом `symlinks=True`, символические ссылки копируются как ссылки, а не как файлы, на которые они ссылаются."
      ]
    },
    {
      "cell_type": "code",
      "execution_count": null,
      "id": "4a997151",
      "metadata": {
        "id": "4a997151"
      },
      "outputs": [],
      "source": [
        "shutil.copytree('src', 'dst', symlinks=True)"
      ]
    },
    {
      "cell_type": "markdown",
      "id": "c755fa2d",
      "metadata": {
        "id": "c755fa2d"
      },
      "source": [
        "- **Игнорирование \"висячих\" ссылок:**\n",
        "\n",
        "  Если ссылка указывает на отсутствующий файл, она называется \"висячей\". Можно игнорировать такие ссылки с помощью параметра `ignore_dangling_symlinks=True`."
      ]
    },
    {
      "cell_type": "markdown",
      "id": "400e4465",
      "metadata": {
        "id": "400e4465"
      },
      "source": [
        "#### Работа с дисковым пространством"
      ]
    },
    {
      "cell_type": "markdown",
      "id": "2f6680e7",
      "metadata": {
        "id": "2f6680e7"
      },
      "source": [
        "- `shutil.disk_usage(path)`: Возвращает namedtuple с информацией о дисковом пространстве: `total`, `used`, `free`."
      ]
    },
    {
      "cell_type": "code",
      "execution_count": null,
      "id": "f3dad1ee",
      "metadata": {
        "id": "f3dad1ee"
      },
      "outputs": [],
      "source": [
        "total, used, free = shutil.disk_usage('/')\n",
        "print(f'Общее место: {total / (2**30):.2f} ГБ')\n",
        "print(f'Использовано: {used / (2**30):.2f} ГБ')\n",
        "print(f'Свободно: {free / (2**30):.2f} ГБ')"
      ]
    },
    {
      "cell_type": "markdown",
      "id": "d69e6e79",
      "metadata": {
        "id": "d69e6e79"
      },
      "source": [
        "#### Выбор функции копирования файлов"
      ]
    },
    {
      "cell_type": "markdown",
      "id": "af222cd6",
      "metadata": {
        "id": "af222cd6"
      },
      "source": [
        "- **Пользовательская функция копирования:**\n",
        "\n",
        "  Вы можете определить свою функцию копирования и передать её в `copy_function` для `copytree` или `move`."
      ]
    },
    {
      "cell_type": "code",
      "execution_count": null,
      "id": "d42e6a6c",
      "metadata": {
        "id": "d42e6a6c"
      },
      "outputs": [],
      "source": [
        "def my_copy(src, dst):\n",
        "    print(f'Копирование {src} в {dst}')\n",
        "    return shutil.copy2(src, dst)\n",
        "\n",
        "shutil.copytree('src', 'dst', copy_function=my_copy)"
      ]
    },
    {
      "cell_type": "markdown",
      "id": "d598c4f4",
      "metadata": {
        "id": "d598c4f4"
      },
      "source": [
        "#### Управление форматами архивов"
      ]
    },
    {
      "cell_type": "markdown",
      "id": "b369b55f",
      "metadata": {
        "id": "b369b55f"
      },
      "source": [
        "- **Получение доступных форматов архивирования:**\n",
        "\n",
        "  - `shutil.get_archive_formats()`: Возвращает список поддерживаемых форматов архивов."
      ]
    },
    {
      "cell_type": "code",
      "execution_count": null,
      "id": "08d40b6f",
      "metadata": {
        "id": "08d40b6f"
      },
      "outputs": [],
      "source": [
        "formats = shutil.get_archive_formats()\n",
        "print(formats)"
      ]
    },
    {
      "cell_type": "markdown",
      "id": "b3593b3d",
      "metadata": {
        "id": "b3593b3d"
      },
      "source": [
        "- **Регистрация нового формата архива:**\n",
        "\n",
        "  Вы можете добавить поддержку нового формата архива с помощью `shutil.register_archive_format`. Аналогично, можно удалить формат с помощью `shutil.unregister_archive_format`."
      ]
    },
    {
      "cell_type": "code",
      "execution_count": null,
      "id": "1c6768b5",
      "metadata": {
        "id": "1c6768b5"
      },
      "outputs": [],
      "source": [
        "def my_archive(base_name, base_dir):\n",
        "    # Реализация создания архива\n",
        "    pass\n",
        "\n",
        "shutil.register_archive_format('myformat', my_archive)"
      ]
    },
    {
      "cell_type": "markdown",
      "id": "045cd966",
      "metadata": {
        "id": "045cd966"
      },
      "source": [
        "#### Обработка ошибок при операциях"
      ]
    },
    {
      "cell_type": "markdown",
      "id": "1e91bc28",
      "metadata": {
        "id": "1e91bc28"
      },
      "source": [
        "- **Параметр `onerror` в `shutil.rmtree`:**\n",
        "\n",
        "  Позволяет обработать ошибки, возникающие при удалении файлов или директорий."
      ]
    },
    {
      "cell_type": "code",
      "execution_count": null,
      "id": "90e19c87",
      "metadata": {
        "id": "90e19c87"
      },
      "outputs": [],
      "source": [
        "def onerror(function, path, excinfo):\n",
        "    print(f'Ошибка при удалении {path}')\n",
        "    # Дополнительная обработка ошибки\n",
        "\n",
        "shutil.rmtree('folder_to_delete', onerror=onerror)"
      ]
    },
    {
      "cell_type": "markdown",
      "id": "3739d034",
      "metadata": {
        "id": "3739d034"
      },
      "source": [
        "- **Исключения:**\n",
        "\n",
        "  Функции модуля `shutil` могут выбрасывать различные исключения, такие как `OSError` или его подклассы, например, `FileNotFoundError`, `PermissionError`. Рекомендуется обрабатывать возможные исключения с помощью блоков `try-except`."
      ]
    },
    {
      "cell_type": "code",
      "execution_count": null,
      "id": "64f073f8",
      "metadata": {
        "id": "64f073f8"
      },
      "outputs": [],
      "source": [
        "try:\n",
        "    shutil.copy('source.txt', 'destination.txt')\n",
        "except FileNotFoundError:\n",
        "    print('Файл не найден.')\n",
        "except PermissionError:\n",
        "    print('Недостаточно прав для выполнения операции.')"
      ]
    },
    {
      "cell_type": "markdown",
      "id": "2766cbc7",
      "metadata": {
        "id": "2766cbc7"
      },
      "source": [
        "### Полезные скрипты с использованием модуля shutil"
      ]
    },
    {
      "cell_type": "markdown",
      "id": "d7b18962",
      "metadata": {
        "id": "d7b18962"
      },
      "source": [
        "#### 1. Синхронизация двух директорий"
      ]
    },
    {
      "cell_type": "markdown",
      "id": "1b9d0a34",
      "metadata": {
        "id": "1b9d0a34"
      },
      "source": [
        "Скрипт для односторонней синхронизации содержимого из директории `source` в директорию `destination`."
      ]
    },
    {
      "cell_type": "code",
      "execution_count": null,
      "id": "50210633",
      "metadata": {
        "id": "50210633"
      },
      "outputs": [],
      "source": [
        "import os\n",
        "import shutil\n",
        "from filecmp import dircmp\n",
        "\n",
        "def sync_directories(source, destination):\n",
        "    if not os.path.exists(destination):\n",
        "        shutil.copytree(source, destination)\n",
        "        return\n",
        "\n",
        "    comparison = dircmp(source, destination)\n",
        "    copy_files(source, destination, comparison)\n",
        "\n",
        "def copy_files(source, destination, comparison):\n",
        "    for file_name in comparison.left_only:\n",
        "        src_path = os.path.join(source, file_name)\n",
        "        dst_path = os.path.join(destination, file_name)\n",
        "        if os.path.isdir(src_path):\n",
        "            shutil.copytree(src_path, dst_path)\n",
        "        else:\n",
        "            shutil.copy2(src_path, dst_path)\n",
        "\n",
        "    for sub_dir in comparison.common_dirs:\n",
        "        sync_directories(\n",
        "            os.path.join(source, sub_dir),\n",
        "            os.path.join(destination, sub_dir)\n",
        "        )\n",
        "\n",
        "sync_directories('source_folder', 'destination_folder')"
      ]
    },
    {
      "cell_type": "markdown",
      "id": "06ebca79",
      "metadata": {
        "id": "06ebca79"
      },
      "source": [
        "#### 2. Очистка старых файлов по дате"
      ]
    },
    {
      "cell_type": "markdown",
      "id": "a2b93dcc",
      "metadata": {
        "id": "a2b93dcc"
      },
      "source": [
        "Удаление файлов в указанной директории, которые старше определённого количества дней."
      ]
    },
    {
      "cell_type": "code",
      "execution_count": null,
      "id": "c2637027",
      "metadata": {
        "id": "c2637027"
      },
      "outputs": [],
      "source": [
        "import os\n",
        "import time\n",
        "import shutil\n",
        "\n",
        "def remove_old_files(folder, days):\n",
        "    time_in_secs = time.time() - (days * 86400)\n",
        "\n",
        "    for filename in os.listdir(folder):\n",
        "        file_path = os.path.join(folder, filename)\n",
        "        if os.path.isfile(file_path):\n",
        "            file_time = os.path.getmtime(file_path)\n",
        "            if file_time < time_in_secs:\n",
        "                os.remove(file_path)\n",
        "                print(f'Удалён файл: {file_path}')\n",
        "        elif os.path.isdir(file_path):\n",
        "            shutil.rmtree(file_path)\n",
        "            print(f'Удалена директория: {file_path}')\n",
        "\n",
        "remove_old_files('/path/to/folder', 30)"
      ]
    },
    {
      "cell_type": "markdown",
      "id": "c3e87204",
      "metadata": {
        "id": "c3e87204"
      },
      "source": [
        "#### 3. Создание инкрементных резервных копий"
      ]
    },
    {
      "cell_type": "markdown",
      "id": "adc2c911",
      "metadata": {
        "id": "adc2c911"
      },
      "source": [
        "Скрипт создаёт резервную копию папки проекта с таймстемпом."
      ]
    },
    {
      "cell_type": "code",
      "execution_count": null,
      "id": "cb145ef4",
      "metadata": {
        "id": "cb145ef4"
      },
      "outputs": [],
      "source": [
        "import shutil\n",
        "import datetime\n",
        "\n",
        "project_folder = 'my_project'\n",
        "timestamp = datetime.datetime.now().strftime('%Y%m%d%H%M%S')\n",
        "backup_name = f'{project_folder}_backup_{timestamp}'\n",
        "\n",
        "shutil.make_archive(backup_name, 'zip', project_folder)\n",
        "print(f'Резервная копия создана: {backup_name}.zip')"
      ]
    },
    {
      "cell_type": "markdown",
      "id": "e611993e",
      "metadata": {
        "id": "e611993e"
      },
      "source": [
        "#### 4. Автоматическое удаление лишних пробелов в текстовых файлах"
      ]
    },
    {
      "cell_type": "markdown",
      "id": "9d09efe4",
      "metadata": {
        "id": "9d09efe4"
      },
      "source": [
        "Скрипт проходит по всем текстовым файлам в директории и удаляет лишние пробелы и пустые строки."
      ]
    },
    {
      "cell_type": "code",
      "execution_count": null,
      "id": "6a117e05",
      "metadata": {
        "id": "6a117e05"
      },
      "outputs": [],
      "source": [
        "import os\n",
        "import shutil\n",
        "\n",
        "def clean_text_files(folder):\n",
        "    temp_folder = os.path.join(folder, 'temp')\n",
        "    os.makedirs(temp_folder, exist_ok=True)\n",
        "\n",
        "    for filename in os.listdir(folder):\n",
        "        file_path = os.path.join(folder, filename)\n",
        "        if os.path.isfile(file_path) and filename.endswith('.txt'):\n",
        "            temp_file_path = os.path.join(temp_folder, filename)\n",
        "            with open(file_path, 'r') as f_in, open(temp_file_path, 'w') as f_out:\n",
        "                lines = f_in.readlines()\n",
        "                clean_lines = [line.strip() for line in lines if line.strip()]\n",
        "                f_out.write('\\n'.join(clean_lines))\n",
        "            shutil.move(temp_file_path, file_path)\n",
        "            print(f'Отредактирован файл: {filename}')\n",
        "\n",
        "    shutil.rmtree(temp_folder)\n",
        "\n",
        "clean_text_files('/path/to/text_files')"
      ]
    },
    {
      "cell_type": "markdown",
      "id": "1d2b7501",
      "metadata": {
        "id": "1d2b7501"
      },
      "source": [
        "#### 5. Массовое переименование файлов"
      ]
    },
    {
      "cell_type": "markdown",
      "id": "186866e2",
      "metadata": {
        "id": "186866e2"
      },
      "source": [
        "Скрипт переименовывает все файлы в директории, добавляя префикс или суффикс к именам файлов."
      ]
    },
    {
      "cell_type": "code",
      "execution_count": null,
      "id": "78371965",
      "metadata": {
        "id": "78371965"
      },
      "outputs": [],
      "source": [
        "import os\n",
        "import shutil\n",
        "\n",
        "def rename_files(folder, prefix='', suffix=''):\n",
        "    for filename in os.listdir(folder):\n",
        "        file_path = os.path.join(folder, filename)\n",
        "        if os.path.isfile(file_path):\n",
        "            name, ext = os.path.splitext(filename)\n",
        "            new_name = f'{prefix}{name}{suffix}{ext}'\n",
        "            new_path = os.path.join(folder, new_name)\n",
        "            shutil.move(file_path, new_path)\n",
        "            print(f'{filename} переименован в {new_name}')\n",
        "\n",
        "rename_files('/path/to/files', prefix='new_')"
      ]
    },
    {
      "cell_type": "markdown",
      "id": "85222c0a",
      "metadata": {
        "id": "85222c0a"
      },
      "source": [
        "### Советы и рекомендации при использовании модуля shutil"
      ]
    },
    {
      "cell_type": "markdown",
      "id": "2382de23",
      "metadata": {
        "id": "2382de23"
      },
      "source": [
        "1. **Проверка существования файлов и директорий:**\n",
        "\n",
        "   Перед выполнением операций убедитесь, что файлы и директории существуют, чтобы избежать исключений."
      ]
    },
    {
      "cell_type": "code",
      "execution_count": null,
      "id": "8939e7d8",
      "metadata": {
        "id": "8939e7d8"
      },
      "outputs": [],
      "source": [
        "if os.path.exists('file.txt'):\n",
        "    shutil.copy('file.txt', 'backup.txt')\n",
        "else:\n",
        "    print('Файл не найден.')"
      ]
    },
    {
      "cell_type": "markdown",
      "id": "330ec88e",
      "metadata": {
        "id": "330ec88e"
      },
      "source": [
        "2. **Использование блоков `try-except`:**\n",
        "\n",
        "   Обрабатывайте возможные исключения, особенно при работе с файловой системой."
      ]
    },
    {
      "cell_type": "code",
      "execution_count": null,
      "id": "ff27ac59",
      "metadata": {
        "id": "ff27ac59"
      },
      "outputs": [],
      "source": [
        "try:\n",
        "    shutil.rmtree('folder')\n",
        "except Exception as e:\n",
        "    print(f'Ошибка: {e}')"
      ]
    },
    {
      "cell_type": "markdown",
      "id": "95c73e52",
      "metadata": {
        "id": "95c73e52"
      },
      "source": [
        "3. **Осторожность с функциями удаления:**\n",
        "\n",
        "   Функции вроде `shutil.rmtree` удаляют данные без возможности восстановления. Используйте их с осторожностью.\n",
        "\n",
        "4. **Права доступа:**\n",
        "\n",
        "   При копировании файлов между различными системами (например, с Windows на Unix) могут возникнуть проблемы с правами доступа. Обращайте внимание на параметры `copymode`, `copystat`.\n",
        "\n",
        "5. **Выбор правильной функции копирования:**\n",
        "\n",
        "   Используйте `copy2`, если нужно сохранить метаданные файлов. Если метаданные не важны, можно использовать `copy`.\n",
        "\n",
        "6. **Работа с большими объёмами данных:**\n",
        "\n",
        "   При копировании или перемещении больших файлов или директорий учитывайте время выполнения и ресурсы. Возможно, стоит добавлять индикаторы прогресса или логи."
      ]
    },
    {
      "cell_type": "markdown",
      "id": "b1a5eccd",
      "metadata": {
        "id": "b1a5eccd"
      },
      "source": [
        "### Заключение"
      ]
    },
    {
      "cell_type": "markdown",
      "id": "68c6d9f9",
      "metadata": {
        "id": "68c6d9f9"
      },
      "source": [
        "Модуль **shutil** предоставляет широкий спектр возможностей для работы с файлами и директориями в Python. Он значительно упрощает выполнение сложных операций, делая код более читаемым и поддерживаемым. Освоив функции этого модуля, вы сможете эффективно управлять файловой системой, автоматизировать задачи по администрированию и обработке данных.\n",
        "\n",
        "**Дополнительные ресурсы:**\n",
        "\n",
        "- [Официальная документация модуля shutil](https://docs.python.org/3/library/shutil.html)\n",
        "- [Модуль os для работы с операционной системой](https://docs.python.org/3/library/os.html)\n",
        "- [Модуль glob для поиска файлов по шаблону](https://docs.python.org/3/library/glob.html)\n",
        "\n",
        "**Пример использования вместе с другими модулями:**\n",
        "\n",
        "Модуль `shutil` часто используется в связке с модулями `os`, `pathlib`, `glob` для расширения возможностей по управлению файлами и директориями."
      ]
    },
    {
      "cell_type": "code",
      "execution_count": null,
      "id": "c7f273b4",
      "metadata": {
        "id": "c7f273b4"
      },
      "outputs": [],
      "source": [
        "import os\n",
        "import shutil\n",
        "from glob import glob\n",
        "\n",
        "# Удаление всех файлов с расширением .log в директории\n",
        "for log_file in glob('/path/to/logs/*.log'):\n",
        "    os.remove(log_file)\n",
        "    print(f'Удалён файл лога: {log_file}')\n",
        "\n",
        "# Копирование всех изображений в другую директорию\n",
        "for img_file in glob('/path/to/images/*.jpg'):\n",
        "    shutil.copy(img_file, '/path/to/backup/images/')\n",
        "    print(f'Скопировано изображение: {img_file}')"
      ]
    },
    {
      "cell_type": "markdown",
      "id": "b9c402c1",
      "metadata": {
        "id": "b9c402c1"
      },
      "source": [
        "**Пример использования с модулем pathlib (Python 3.4+):**\n",
        "\n",
        "Модуль `pathlib` предоставляет объектно-ориентированный интерфейс для работы с путями."
      ]
    },
    {
      "cell_type": "code",
      "execution_count": null,
      "id": "1ade3f08",
      "metadata": {
        "id": "1ade3f08"
      },
      "outputs": [],
      "source": [
        "from pathlib import Path\n",
        "import shutil\n",
        "\n",
        "source = Path('/path/to/source')\n",
        "destination = Path('/path/to/destination')\n",
        "\n",
        "for file_path in source.glob('**/*.txt'):\n",
        "    relative_path = file_path.relative_to(source)\n",
        "    dest_file_path = destination / relative_path\n",
        "    dest_file_path.parent.mkdir(parents=True, exist_ok=True)\n",
        "    shutil.copy2(file_path, dest_file_path)\n",
        "    print(f'Скопирован файл: {file_path} в {dest_file_path}')"
      ]
    },
    {
      "cell_type": "markdown",
      "id": "3aabdeaa",
      "metadata": {
        "id": "3aabdeaa"
      },
      "source": [
        "## **3. Описание основных методов модуля  `pathlib`**"
      ]
    },
    {
      "cell_type": "markdown",
      "id": "284fb70c",
      "metadata": {
        "id": "284fb70c"
      },
      "source": [
        "Модуль **pathlib** в Python 3 предоставляет объектно-ориентированный подход к работе с путями файловой системы. Он упрощает взаимодействие с файловой системой и делает код более понятным и лаконичным по сравнению с использованием модуля `os.path`."
      ]
    },
    {
      "cell_type": "markdown",
      "id": "fe4549c6",
      "metadata": {
        "id": "fe4549c6"
      },
      "source": [
        "#### Установка и использование модуля pathlib"
      ]
    },
    {
      "cell_type": "markdown",
      "id": "cf8e36b3",
      "metadata": {
        "id": "cf8e36b3"
      },
      "source": [
        "Модуль **pathlib** встроен в стандартную библиотеку Python начиная с версии 3.4, поэтому дополнительная установка не требуется. Чтобы начать работу с модулем, необходимо импортировать его:"
      ]
    },
    {
      "cell_type": "code",
      "execution_count": null,
      "id": "a84d0e40",
      "metadata": {
        "id": "a84d0e40"
      },
      "outputs": [],
      "source": [
        "from pathlib import Path"
      ]
    },
    {
      "cell_type": "markdown",
      "id": "c2f51a5b",
      "metadata": {
        "id": "c2f51a5b"
      },
      "source": [
        "#### Создание объекта Path"
      ]
    },
    {
      "cell_type": "markdown",
      "id": "d96ca782",
      "metadata": {
        "id": "d96ca782"
      },
      "source": [
        "Объект `Path` представляет путь к файлу или директории. Он автоматически учитывает особенности операционной системы при работе с разделителями путей."
      ]
    },
    {
      "cell_type": "code",
      "execution_count": null,
      "id": "ecde1135",
      "metadata": {
        "id": "ecde1135"
      },
      "outputs": [],
      "source": [
        "from pathlib import Path\n",
        "\n",
        "# Создаем объект Path для текущей директории\n",
        "current_dir = Path('.')\n",
        "\n",
        "# Создаем путь к файлу\n",
        "file_path = Path('/home/user/documents/file.txt')"
      ]
    },
    {
      "cell_type": "markdown",
      "id": "7f2dd7cf",
      "metadata": {
        "id": "7f2dd7cf"
      },
      "source": [
        "#### Навигация по файловой системе"
      ]
    },
    {
      "cell_type": "markdown",
      "id": "61c2d648",
      "metadata": {
        "id": "61c2d648"
      },
      "source": [
        "Вы можете легко перемещаться по директориям, используя операторы деления:"
      ]
    },
    {
      "cell_type": "code",
      "execution_count": null,
      "id": "c79960ab",
      "metadata": {
        "id": "c79960ab"
      },
      "outputs": [],
      "source": [
        "from pathlib import Path\n",
        "\n",
        "# Переходим в поддиректорию\n",
        "subdir = Path('/home/user') / 'documents' / 'projects'\n",
        "\n",
        "print(subdir)\n",
        "# Вывод: /home/user/documents/projects"
      ]
    },
    {
      "cell_type": "markdown",
      "id": "6f16f57c",
      "metadata": {
        "id": "6f16f57c"
      },
      "source": [
        "#### Проверка существования файлов и директорий"
      ]
    },
    {
      "cell_type": "markdown",
      "id": "24d84cd6",
      "metadata": {
        "id": "24d84cd6"
      },
      "source": [
        "Модуль **pathlib** предоставляет методы для проверки существования файлов и директорий:"
      ]
    },
    {
      "cell_type": "code",
      "execution_count": null,
      "id": "2e6d3374",
      "metadata": {
        "id": "2e6d3374"
      },
      "outputs": [],
      "source": [
        "from pathlib import Path\n",
        "\n",
        "path = Path('/home/user/documents/file.txt')\n",
        "\n",
        "# Проверяем, существует ли путь\n",
        "if path.exists():\n",
        "    print(\"Путь существует\")\n",
        "\n",
        "# Проверяем, является ли путь файлом или директорией\n",
        "if path.is_file():\n",
        "    print(\"Это файл\")\n",
        "elif path.is_dir():\n",
        "    print(\"Это директория\")"
      ]
    },
    {
      "cell_type": "markdown",
      "id": "9e24ec43",
      "metadata": {
        "id": "9e24ec43"
      },
      "source": [
        "#### Создание и удаление файлов и директорий"
      ]
    },
    {
      "cell_type": "markdown",
      "id": "996b746c",
      "metadata": {
        "id": "996b746c"
      },
      "source": [
        "Вы можете создавать и удалять файлы и директории с помощью методов **pathlib**:"
      ]
    },
    {
      "cell_type": "code",
      "execution_count": null,
      "id": "e6467a39",
      "metadata": {
        "id": "e6467a39"
      },
      "outputs": [],
      "source": [
        "from pathlib import Path\n",
        "\n",
        "# Создание директории\n",
        "new_dir = Path('/home/user/documents/new_folder')\n",
        "new_dir.mkdir(parents=True, exist_ok=True)\n",
        "\n",
        "# Создание файла\n",
        "file = new_dir / 'new_file.txt'\n",
        "file.touch()\n",
        "\n",
        "# Удаление файла\n",
        "file.unlink()\n",
        "\n",
        "# Удаление директории\n",
        "new_dir.rmdir()"
      ]
    },
    {
      "cell_type": "markdown",
      "id": "afd32389",
      "metadata": {
        "id": "afd32389"
      },
      "source": [
        "#### Чтение и запись файлов"
      ]
    },
    {
      "cell_type": "markdown",
      "id": "c0d156b2",
      "metadata": {
        "id": "c0d156b2"
      },
      "source": [
        "**Pathlib** облегчает работу с файлами:"
      ]
    },
    {
      "cell_type": "code",
      "execution_count": null,
      "id": "1f971591",
      "metadata": {
        "id": "1f971591"
      },
      "outputs": [],
      "source": [
        "from pathlib import Path\n",
        "\n",
        "file = Path('example.txt')\n",
        "\n",
        "# Запись в файл\n",
        "file.write_text('Привет, мир!')\n",
        "\n",
        "# Чтение из файла\n",
        "content = file.read_text()\n",
        "print(content)"
      ]
    },
    {
      "cell_type": "markdown",
      "id": "d03fa0bb",
      "metadata": {
        "id": "d03fa0bb"
      },
      "source": [
        "#### Получение информации о файле"
      ]
    },
    {
      "cell_type": "markdown",
      "id": "31cd5bb0",
      "metadata": {
        "id": "31cd5bb0"
      },
      "source": [
        "Вы можете получить различную информацию о файле или директории:"
      ]
    },
    {
      "cell_type": "code",
      "execution_count": null,
      "id": "b366c19f",
      "metadata": {
        "id": "b366c19f"
      },
      "outputs": [],
      "source": [
        "from pathlib import Path\n",
        "\n",
        "file = Path('example.txt')\n",
        "\n",
        "# Размер файла\n",
        "print(f\"Размер файла: {file.stat().st_size} байт\")\n",
        "\n",
        "# Время последнего изменения\n",
        "import time\n",
        "mod_time = time.ctime(file.stat().st_mtime)\n",
        "print(f\"Последнее изменение: {mod_time}\")"
      ]
    },
    {
      "cell_type": "markdown",
      "id": "74c37bba",
      "metadata": {
        "id": "74c37bba"
      },
      "source": [
        "#### Поиск файлов и директорий"
      ]
    },
    {
      "cell_type": "markdown",
      "id": "c67b9d80",
      "metadata": {
        "id": "c67b9d80"
      },
      "source": [
        "Для поиска файлов по шаблону используйте метод `glob()` или `rglob()` для рекурсивного поиска:"
      ]
    },
    {
      "cell_type": "code",
      "execution_count": null,
      "id": "01b37598",
      "metadata": {
        "id": "01b37598"
      },
      "outputs": [],
      "source": [
        "from pathlib import Path\n",
        "\n",
        "# Поиск всех файлов .txt в текущей директории\n",
        "for txt_file in Path('.').glob('*.txt'):\n",
        "    print(txt_file)\n",
        "\n",
        "# Рекурсивный поиск во всех поддиректориях\n",
        "for txt_file in Path('.').rglob('*.txt'):\n",
        "    print(txt_file)"
      ]
    },
    {
      "cell_type": "markdown",
      "id": "528c6aec",
      "metadata": {
        "id": "528c6aec"
      },
      "source": [
        "#### Полезные скрипты с использованием pathlib"
      ]
    },
    {
      "cell_type": "markdown",
      "id": "2af07c79",
      "metadata": {
        "id": "2af07c79"
      },
      "source": [
        "**1. Скрипт для очистки директории от временных файлов**"
      ]
    },
    {
      "cell_type": "code",
      "execution_count": null,
      "id": "7633e3a1",
      "metadata": {
        "id": "7633e3a1"
      },
      "outputs": [],
      "source": [
        "from pathlib import Path\n",
        "\n",
        "temp_extensions = ['*.tmp', '*.log', '*.bak']\n",
        "\n",
        "def clean_temp_files(directory):\n",
        "    for ext in temp_extensions:\n",
        "        for temp_file in Path(directory).rglob(ext):\n",
        "            print(f\"Удаление файла: {temp_file}\")\n",
        "            temp_file.unlink()\n",
        "\n",
        "clean_temp_files('/path/to/directory')"
      ]
    },
    {
      "cell_type": "markdown",
      "id": "4a65428b",
      "metadata": {
        "id": "4a65428b"
      },
      "source": [
        "**2. Скрипт для переименования расширений файлов**"
      ]
    },
    {
      "cell_type": "code",
      "execution_count": null,
      "id": "185f773d",
      "metadata": {
        "id": "185f773d"
      },
      "outputs": [],
      "source": [
        "from pathlib import Path\n",
        "\n",
        "def change_extension(directory, old_ext, new_ext):\n",
        "    for file in Path(directory).rglob(f'*{old_ext}'):\n",
        "        new_file = file.with_suffix(new_ext)\n",
        "        file.rename(new_file)\n",
        "        print(f\"Переименован: {file} -> {new_file}\")\n",
        "\n",
        "change_extension('/path/to/directory', '.txt', '.md')"
      ]
    },
    {
      "cell_type": "markdown",
      "id": "7f44259b",
      "metadata": {
        "id": "7f44259b"
      },
      "source": [
        "**3. Скрипт для подсчета общего размера файлов в директории**"
      ]
    },
    {
      "cell_type": "code",
      "execution_count": null,
      "id": "6838709e",
      "metadata": {
        "id": "6838709e"
      },
      "outputs": [],
      "source": [
        "from pathlib import Path\n",
        "\n",
        "def get_total_size(directory):\n",
        "    total_size = sum(f.stat().st_size for f in Path(directory).rglob('*') if f.is_file())\n",
        "    print(f\"Общий размер файлов в '{directory}': {total_size} байт\")\n",
        "\n",
        "get_total_size('/path/to/directory')"
      ]
    },
    {
      "cell_type": "markdown",
      "id": "88537f2c",
      "metadata": {
        "id": "88537f2c"
      },
      "source": [
        "**4. Скрипт для создания резервной копии файлов**"
      ]
    },
    {
      "cell_type": "code",
      "execution_count": null,
      "id": "87d492f2",
      "metadata": {
        "id": "87d492f2"
      },
      "outputs": [],
      "source": [
        "from pathlib import Path\n",
        "import shutil\n",
        "\n",
        "def backup_files(source_dir, backup_dir):\n",
        "    source = Path(source_dir)\n",
        "    backup = Path(backup_dir)\n",
        "\n",
        "    if not backup.exists():\n",
        "        backup.mkdir(parents=True)\n",
        "\n",
        "    for file in source.rglob('*'):\n",
        "        if file.is_file():\n",
        "            relative_path = file.relative_to(source)\n",
        "            backup_file = backup / relative_path\n",
        "            backup_file.parent.mkdir(parents=True, exist_ok=True)\n",
        "            shutil.copy2(file, backup_file)\n",
        "            print(f\"Скопирован: {file} -> {backup_file}\")\n",
        "\n",
        "backup_files('/path/to/source', '/path/to/backup')"
      ]
    },
    {
      "cell_type": "markdown",
      "id": "60a39f82",
      "metadata": {
        "id": "60a39f82"
      },
      "source": [
        "#### Заключение"
      ]
    },
    {
      "cell_type": "markdown",
      "id": "300f982a",
      "metadata": {
        "id": "300f982a"
      },
      "source": [
        "Модуль **pathlib** значительно упрощает работу с файловой системой в Python, предоставляя удобный и интуитивно понятный интерфейс для выполнения различных операций с путями, файлами и директориями. Используя **pathlib**, вы можете писать более чистый и понятный код, который будет работать на разных операционных системах без изменений."
      ]
    },
    {
      "cell_type": "markdown",
      "id": "7a6bf923",
      "metadata": {
        "id": "7a6bf923"
      },
      "source": [
        "##  **4. Описание основных методов модуля `glob`**"
      ]
    },
    {
      "cell_type": "markdown",
      "id": "eea6630d",
      "metadata": {
        "id": "eea6630d"
      },
      "source": [
        "Модуль `glob` в Python предназначен для поиска всех путей, **совпадающих с заданным шаблоном**, в соответствии с правилами, используемыми оболочкой Unix. Он широко используется для операций с файлами и каталогами, позволяя легко находить и обрабатывать файлы по определённым шаблонам."
      ]
    },
    {
      "cell_type": "markdown",
      "id": "5893fd87",
      "metadata": {
        "id": "5893fd87"
      },
      "source": [
        "### Начало работы с `glob`"
      ]
    },
    {
      "cell_type": "markdown",
      "id": "e890c3f1",
      "metadata": {
        "id": "e890c3f1"
      },
      "source": [
        "#### Импорт модуля"
      ]
    },
    {
      "cell_type": "markdown",
      "id": "9985225f",
      "metadata": {
        "id": "9985225f"
      },
      "source": [
        "Первым шагом необходимо импортировать модуль `glob`:"
      ]
    },
    {
      "cell_type": "code",
      "execution_count": null,
      "id": "3de087b2",
      "metadata": {
        "id": "3de087b2"
      },
      "outputs": [],
      "source": [
        "import glob"
      ]
    },
    {
      "cell_type": "markdown",
      "id": "7cd3dbcc",
      "metadata": {
        "id": "7cd3dbcc"
      },
      "source": [
        "#### Основная функция `glob.glob()`"
      ]
    },
    {
      "cell_type": "markdown",
      "id": "13ece4b2",
      "metadata": {
        "id": "13ece4b2"
      },
      "source": [
        "Функция `glob.glob(pattern, recursive=False)` возвращает **список путей**, соответствующих заданному шаблону `pattern`. Параметр `recursive` определяет, будет ли поиск выполняться рекурсивно по подкаталогам.\n",
        "\n",
        "**Пример:**"
      ]
    },
    {
      "cell_type": "code",
      "execution_count": null,
      "id": "fea1768b",
      "metadata": {
        "id": "fea1768b"
      },
      "outputs": [],
      "source": [
        "# Поиск всех файлов с расширением .txt в текущем каталоге\n",
        "text_files = glob.glob('*.txt')\n",
        "print(text_files)"
      ]
    },
    {
      "cell_type": "markdown",
      "id": "c401cad0",
      "metadata": {
        "id": "c401cad0"
      },
      "source": [
        "**Вывод:**\n",
        "\n",
        "```\n",
        "['document.txt', 'notes.txt', 'data.txt']\n",
        "```"
      ]
    },
    {
      "cell_type": "markdown",
      "id": "55e245a8",
      "metadata": {
        "id": "55e245a8"
      },
      "source": [
        "#### Понимание шаблонов"
      ]
    },
    {
      "cell_type": "markdown",
      "id": "038d0318",
      "metadata": {
        "id": "038d0318"
      },
      "source": [
        "Модуль `glob` использует **метасимволы** для построения шаблонов:\n",
        "\n",
        "- `*` — соответствует **любому количеству любых символов**, включая отсутствие символов.\n",
        "- `?` — соответствует **любому одному символу**.\n",
        "- `[seq]` — соответствует **любому символу** из набора `seq`.\n",
        "- `[!seq]` — соответствует **любому символу, не входящему в набор** `seq`.\n",
        "\n",
        "**Примеры использования шаблонов:**"
      ]
    },
    {
      "cell_type": "code",
      "execution_count": null,
      "id": "c8cbedab",
      "metadata": {
        "id": "c8cbedab"
      },
      "outputs": [],
      "source": [
        "# Найти все файлы, начинающиеся с 'img' и имеющие расширение из двух символов\n",
        "images = glob.glob('img.??')\n",
        "print(images)\n",
        "\n",
        "# Найти все файлы, название которых состоит из четырёх символов\n",
        "files = glob.glob('????')\n",
        "print(files)\n",
        "\n",
        "# Найти все файлы, которые начинаются с букв 'a' или 'b'\n",
        "ab_files = glob.glob('[ab]*')\n",
        "print(ab_files)"
      ]
    },
    {
      "cell_type": "markdown",
      "id": "66292d73",
      "metadata": {
        "id": "66292d73"
      },
      "source": [
        "### Рекурсивный поиск файлов"
      ]
    },
    {
      "cell_type": "markdown",
      "id": "99166294",
      "metadata": {
        "id": "99166294"
      },
      "source": [
        "Для поиска файлов во всех подкаталогах используется шаблон `**` и параметр `recursive=True`.\n",
        "\n",
        "**Пример:**"
      ]
    },
    {
      "cell_type": "code",
      "execution_count": null,
      "id": "5bcc8616",
      "metadata": {
        "id": "5bcc8616"
      },
      "outputs": [],
      "source": [
        "# Поиск всех файлов с расширением .py в текущем каталоге и подкаталогах\n",
        "python_files = glob.glob('**/*.py', recursive=True)\n",
        "print(python_files)"
      ]
    },
    {
      "cell_type": "markdown",
      "id": "b51296e9",
      "metadata": {
        "id": "b51296e9"
      },
      "source": [
        "### Функция `glob.iglob()`"
      ]
    },
    {
      "cell_type": "markdown",
      "id": "94833a64",
      "metadata": {
        "id": "94833a64"
      },
      "source": [
        "Функция `glob.iglob()` возвращает **итератор**, который генерирует пути по одному, что экономит память при работе с большим количеством файлов.\n",
        "\n",
        "**Пример:**"
      ]
    },
    {
      "cell_type": "code",
      "execution_count": null,
      "id": "0cb16c74",
      "metadata": {
        "id": "0cb16c74"
      },
      "outputs": [],
      "source": [
        "# Итеративный поиск файлов .csv\n",
        "for csv_file in glob.iglob('data/**/*.csv', recursive=True):\n",
        "    print(csv_file)"
      ]
    },
    {
      "cell_type": "markdown",
      "id": "764bc872",
      "metadata": {
        "id": "764bc872"
      },
      "source": [
        "### Экранирование специальных символов"
      ]
    },
    {
      "cell_type": "markdown",
      "id": "56df4c0e",
      "metadata": {
        "id": "56df4c0e"
      },
      "source": [
        "Если в именах файлов или каталогов присутствуют специальные символы (`*`, `?`, `[`, `]`), их можно **экранировать** с помощью функции `glob.escape()`.\n",
        "\n",
        "**Пример:**"
      ]
    },
    {
      "cell_type": "code",
      "execution_count": null,
      "id": "6ad116d8",
      "metadata": {
        "id": "6ad116d8"
      },
      "outputs": [],
      "source": [
        "# Поиск файла с именем 'data[1].txt'\n",
        "import os\n",
        "\n",
        "filename = 'data[1].txt'\n",
        "escaped_filename = glob.escape(filename)\n",
        "found_files = glob.glob(escaped_filename)\n",
        "print(found_files)"
      ]
    },
    {
      "cell_type": "markdown",
      "id": "dd8eb368",
      "metadata": {
        "id": "dd8eb368"
      },
      "source": [
        "### Практические примеры"
      ]
    },
    {
      "cell_type": "markdown",
      "id": "db3a080a",
      "metadata": {
        "id": "db3a080a"
      },
      "source": [
        "#### Пример 1: Массовое переименование файлов"
      ]
    },
    {
      "cell_type": "code",
      "execution_count": null,
      "id": "a44aff40",
      "metadata": {
        "id": "a44aff40"
      },
      "outputs": [],
      "source": [
        "import glob\n",
        "import os\n",
        "\n",
        "# Добавление префикса 'new_' ко всем файлам .txt\n",
        "for filename in glob.glob('*.txt'):\n",
        "    new_name = f'new_{filename}'\n",
        "    os.rename(filename, new_name)"
      ]
    },
    {
      "cell_type": "markdown",
      "id": "a297cc35",
      "metadata": {
        "id": "a297cc35"
      },
      "source": [
        "**Комментарий:**\n",
        "\n",
        "Этот скрипт переименовывает все файлы с расширением `.txt`, добавляя к их именам префикс `new_`."
      ]
    },
    {
      "cell_type": "markdown",
      "id": "ef0ef4c2",
      "metadata": {
        "id": "ef0ef4c2"
      },
      "source": [
        "#### Пример 2: Подсчёт количества файлов определённого типа"
      ]
    },
    {
      "cell_type": "code",
      "execution_count": null,
      "id": "4d366608",
      "metadata": {
        "id": "4d366608"
      },
      "outputs": [],
      "source": [
        "import glob\n",
        "\n",
        "# Подсчёт количества изображений в формате .jpg\n",
        "image_count = len(glob.glob('photos/*.jpg'))\n",
        "print(f'Найдено {image_count} изображений в формате .jpg.')"
      ]
    },
    {
      "cell_type": "markdown",
      "id": "492c5957",
      "metadata": {
        "id": "492c5957"
      },
      "source": [
        "#### Пример 3: Проверка наличия файлов по шаблону"
      ]
    },
    {
      "cell_type": "code",
      "execution_count": null,
      "id": "ab40c690",
      "metadata": {
        "id": "ab40c690"
      },
      "outputs": [],
      "source": [
        "import glob\n",
        "\n",
        "# Проверка, существуют ли файлы отчётов за текущий месяц\n",
        "from datetime import datetime\n",
        "\n",
        "current_month = datetime.now().strftime('%Y-%m')\n",
        "report_files = glob.glob(f'reports/report_{current_month}-*.pdf')\n",
        "\n",
        "if report_files:\n",
        "    print('Файлы отчётов найдены:')\n",
        "    for report in report_files:\n",
        "        print(report)\n",
        "else:\n",
        "    print('Файлы отчётов не найдены.')"
      ]
    },
    {
      "cell_type": "markdown",
      "id": "996ee3e0",
      "metadata": {
        "id": "996ee3e0"
      },
      "source": [
        "#### Пример 4: Создание списка файлов для передачи в другую программу"
      ]
    },
    {
      "cell_type": "code",
      "execution_count": null,
      "id": "10424dd9",
      "metadata": {
        "id": "10424dd9"
      },
      "outputs": [],
      "source": [
        "import glob\n",
        "\n",
        "# Создание списка видеофайлов для плейлиста\n",
        "video_files = glob.glob('videos/**/*.mp4', recursive=True)\n",
        "\n",
        "with open('playlist.txt', 'w') as playlist:\n",
        "    for video in video_files:\n",
        "        playlist.write(video + '\\n')"
      ]
    },
    {
      "cell_type": "markdown",
      "id": "9b1865cb",
      "metadata": {
        "id": "9b1865cb"
      },
      "source": [
        "### Полезные советы"
      ]
    },
    {
      "cell_type": "markdown",
      "id": "811064a8",
      "metadata": {
        "id": "811064a8"
      },
      "source": [
        "- **Используйте `glob.iglob()` для экономии памяти** при работе с большими наборами файлов.\n",
        "- **Экранируйте специальные символы** в именах файлов с помощью `glob.escape()`, чтобы избежать неверного интерпретирования шаблона.\n",
        "- **Комбинируйте `glob` с другими модулями**, такими как `os` или `shutil`, для расширения функциональности и автоматизации рутинных задач."
      ]
    },
    {
      "cell_type": "markdown",
      "id": "6acd8e76",
      "metadata": {
        "id": "6acd8e76"
      },
      "source": [
        "### Заключение"
      ]
    },
    {
      "cell_type": "markdown",
      "id": "9613b918",
      "metadata": {
        "id": "9613b918"
      },
      "source": [
        "Модуль `glob` предоставляет простой и удобный интерфейс для поиска файлов и каталогов по шаблону в Python. Его использование позволяет значительно упростить задачи, связанные с файловой системой, и автоматизировать многие рутинные процессы."
      ]
    }
  ],
  "metadata": {
    "colab": {
      "provenance": [],
      "collapsed_sections": [
        "3aabdeaa"
      ],
      "include_colab_link": true
    },
    "language_info": {
      "name": "python"
    },
    "kernelspec": {
      "name": "python3",
      "display_name": "Python 3"
    }
  },
  "nbformat": 4,
  "nbformat_minor": 5
}