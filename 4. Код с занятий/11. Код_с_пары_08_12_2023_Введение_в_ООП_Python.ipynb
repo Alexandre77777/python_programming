{
  "nbformat": 4,
  "nbformat_minor": 0,
  "metadata": {
    "colab": {
      "provenance": [],
      "collapsed_sections": [
        "yYoNP7s_7wQ3"
      ],
      "authorship_tag": "ABX9TyPK/qWsdbWTK0Z+ey8GiwPA",
      "include_colab_link": true
    },
    "kernelspec": {
      "name": "python3",
      "display_name": "Python 3"
    },
    "language_info": {
      "name": "python"
    }
  },
  "cells": [
    {
      "cell_type": "markdown",
      "metadata": {
        "id": "view-in-github",
        "colab_type": "text"
      },
      "source": [
        "<a href=\"https://colab.research.google.com/github/Alexandre77777/python_programming/blob/main/4.%20%D0%9A%D0%BE%D0%B4%20%D1%81%20%D0%B7%D0%B0%D0%BD%D1%8F%D1%82%D0%B8%D0%B9/11.%20%D0%9A%D0%BE%D0%B4_%D1%81_%D0%BF%D0%B0%D1%80%D1%8B_08_12_2023_%D0%92%D0%B2%D0%B5%D0%B4%D0%B5%D0%BD%D0%B8%D0%B5_%D0%B2_%D0%9E%D0%9E%D0%9F_Python.ipynb\" target=\"_parent\"><img src=\"https://colab.research.google.com/assets/colab-badge.svg\" alt=\"Open In Colab\"/></a>"
      ]
    },
    {
      "cell_type": "markdown",
      "source": [
        "# Объектно-ориентированное программирование в Python\n",
        "\n",
        "\n"
      ],
      "metadata": {
        "id": "BSeKKQK0NmrO"
      }
    },
    {
      "cell_type": "markdown",
      "source": [
        "**Объектно-ориентированное программирование (ООП)**– это парадигма программирования, основанная на концепции \"объектов\", которые могут содержать данные в виде полей (часто называемых атрибутами или свойствами) и код в виде процедур (часто называемых методами).\n",
        ">\n",
        ">\n",
        "Python – это мощный язык, который поддерживает как объектно-ориентированный, так и процедурный стили программирования\\*.\n",
        ">\n",
        "**В ООП Python основные концепции включают классы, объекты, наследование, инкапсуляция и полиморфизм.**\n",
        ">\n",
        ">\n",
        "**Классы и объекты:**\n",
        "Класс в Python – это синтаксический конструкт, который позволяет создавать свои собственные типы данных. Классы определяют функциональность – набор методов, которые их объекты смогут использовать."
      ],
      "metadata": {
        "id": "MPLhgoX_KwpZ"
      }
    },
    {
      "cell_type": "markdown",
      "source": [
        "> *Python — это процедурно-ориентированный и одновременно объектно-ориентированный язык программирования.\n",
        ">\n",
        "> **Процедурно-ориентированный**\n",
        ">\n",
        "> * *«Процедурно-ориентированный» подразумевает наличие функций. Программист может создавать функции, которые затем используются в сторонних скриптах.*\n",
        ">\n",
        "> **Объектно-ориентированный**\n",
        ">\n",
        "> * *«Объектно-ориентированный» подразумевает наличие классов. Есть возможность создавать классы, представляющие собой прототипы для будущих объектов.*\n"
      ],
      "metadata": {
        "id": "kubJcMBZ6VmM"
      }
    },
    {
      "cell_type": "markdown",
      "source": [
        "## Создание класса в Python"
      ],
      "metadata": {
        "id": "adYdAl-4NyPc"
      }
    },
    {
      "cell_type": "markdown",
      "source": [
        "- Класс в объектно-ориентированном программировании (ООП) на Python — это структура (шаблон), которая определяет состояние и поведение, свойственные объектам этого класса. С помощью классов можно создавать собственные типы данных (объекты), объединяющие данные и функционал.\n",
        "\n",
        "- В классе определяются атрибуты (переменные), которые относятся к состоянию, и методы (функции), относящиеся к поведению. Атрибуты класса принадлежат классу в целом, в то время как атрибуты экземпляра уникальны для каждого созданного объекта (экземпляра) класса."
      ],
      "metadata": {
        "id": "5bhHyxhD5UrV"
      }
    },
    {
      "cell_type": "markdown",
      "source": [
        "Для создания класса пишется ключевое слово class, его имя и двоеточие (:).\n",
        "\n",
        "*   Первая строчка в теле класса описывает его. (По желанию) получить доступ к этой строке можно с помощью ClassName.\\_\\_doc\\_\\_\n",
        "*   В теле класса допускается объявление атрибутов, методов и конструктора.\n",
        "\n",
        "\n"
      ],
      "metadata": {
        "id": "l9TOpWceO59y"
      }
    },
    {
      "cell_type": "code",
      "execution_count": null,
      "metadata": {
        "id": "5LF951h3M0-W"
      },
      "outputs": [],
      "source": [
        "class ClassName:\n",
        "  '''Краткое описание класса (необязательно)'''\n",
        "  pass"
      ]
    },
    {
      "cell_type": "code",
      "source": [
        "ClassName.__doc__\n"
      ],
      "metadata": {
        "colab": {
          "base_uri": "https://localhost:8080/",
          "height": 35
        },
        "id": "n1xO3lgmPl8i",
        "outputId": "71afe1e4-4063-4e16-bf18-21f3acee564e"
      },
      "execution_count": null,
      "outputs": [
        {
          "output_type": "execute_result",
          "data": {
            "text/plain": [
              "'Краткое описание класса (необязательно)'"
            ],
            "application/vnd.google.colaboratory.intrinsic+json": {
              "type": "string"
            }
          },
          "metadata": {},
          "execution_count": 10
        }
      ]
    },
    {
      "cell_type": "markdown",
      "source": [
        "## Атрибут:\n",
        "\n",
        "* Атрибут — это элемент класса. Например, у прямоугольника таких 2: ширина (width) и высота (height).\n",
        "\n",
        "## Метод:\n",
        "\n",
        "\n",
        "*   Метод класса напоминает классическую функцию, но на самом деле — это функция класса. Для использования ее необходимо вызывать через объект.\n",
        "\n",
        "*   Первый параметр метода всегда self (ключевое слово, которое ссылается на сам объект этого класса).\n",
        "\n",
        "## Конструктор:\n",
        "\n",
        "* Конструктор — уникальный метод класса, который называется **\\_\\_init\\_\\_**.\n",
        "* Первый параметр конструктора во всех случаях **self** (ключевое слово, которое ссылается на сам объект этого класса).\n",
        "* Конструктор нужен для создания объекта.\n",
        "* Конструктор передает значения аргументов свойствам создаваемого объекта.\n",
        "* В одном классе всегда только один конструктор.\n",
        "* Если класс определяется не конструктором, Python предположит, что он наследует конструктор родительского класса."
      ],
      "metadata": {
        "id": "uDpUkd_hPoym"
      }
    },
    {
      "cell_type": "code",
      "source": [
        "# Прямоугольник.\n",
        "class Rectangle :\n",
        "    'Это класс Rectangle'\n",
        "    # Шаблон создания объекта класса Rectangle (конструктор)\n",
        "    def __init__(self, width, height):\n",
        "        self.width= width\n",
        "        self.height = height\n",
        "\n",
        "    # Метод, возвращающий значение width (ширина)\n",
        "    def getWidth(self):\n",
        "        return self.width\n",
        "\n",
        "    # Метод, возвращающий значение height (высота)\n",
        "    def getHeight(self):\n",
        "        return self.height\n",
        "\n",
        "    # Метод расчета площади\n",
        "    def getArea(self):\n",
        "        return self.width * self.height"
      ],
      "metadata": {
        "id": "D-ltj4fkRuph"
      },
      "execution_count": null,
      "outputs": []
    },
    {
      "cell_type": "markdown",
      "source": [
        "## Создание объекта с помощью класса Rectangle:\n",
        "\n",
        "![image.png](data:image/png;base64,iVBORw0KGgoAAAANSUhEUgAAAfAAAAFNCAIAAABwmqoaAAAgAElEQVR4nO3dX0gbab8H8F82u1IVBN/Shbd/Nt3dqKXmRsqBblK758huIb5gW6FVzo2FQyNbSvUmLbTSi8UW2twkRVyacsDcHGoL9g80gb6L+1qbvIWleBNLNbNtU62FFVcQEiVLds7F/MlMMpNETUx88v2wsDqZeTJj9TtPfs8zMwae5wkAALa/T0q9AwAAUBgIdAAARnwq/O/58+el3Q8AANiYI0eOCF98mrkIAAC2C2V3HCUXAABGINABABiBQAcAYAQCHQCAEQh0AABGINABABiBQAcAYAQCHQCAEQh0AABGINABABiBQAcAYAQCHQCAEQh0AABGfJp7FR0Gg6GA+wGwSXj2FsDGA53wJwRlA90LAELJBQCAGQh0AABGINABABiBQAcAYAQCHQCAEQh0AABGINABABiBQAcAYAQCHQCAEQh0AABGINABABiBQAcAYAQCvVQ4j81gMPQGdF/UeUkp0KvbAgBUHgR6SVkPNmgt5p7cC+WxdeCht8D7AwDbGQK9VMx9QZ4P9pm1Xou8CpHjhF25SKMzzs2GdU8JAFCBEOhlKPDQm5HnD70Z2R15FSKyNGqeEgCgAiHQC4bz2GweLtsaeZa8udlwengHHnrJevofmdmdlvsAUMkQ6IUScPWHQq8iyiXq/OY8g16r22kncUBUHe2BXoPI1nMvJIW3MHJqMLR7iUL9DdIqvQFS576wXo7zCQAwDoFeKA0HrarvA73tqiHLgKs/5BgQauZpNXLOYzO0h90Rnuf5iJtCIbmQYu4L8jwfcVuJHH5edtsuNCLkPuexNfSHiCh07wkSHaCCIdCLg/MMeq1WK4VnxYgNPJS650LfOpXngd6GfnJHxPFRc6MlfaSTe3IvY4xUaMTSaKZAb0N/yOHneb+D1J8QAKDCINALxfyP06n8Drj6ye0LDjikTnPgoTdVA4+8CsmRHeht9zr88mwXzjPoTR/pjLwKaUxmERoJ9LZ7re7IbbvwEUE+fwBABfq01DvADnOjRegimznPoNcxwJuJTjja212Bvtv00Gs9HZFCezZMlhNijXzQa3VHpM435+npD2V00GfDGgOi3GyYLAefDHqt7oj23EcAqDTooReO/YSDvIOegKenn8Tqiv2Eg7ztNtugon8uTDdMfSl3xzlPT7/F73ekNatYPW2pt7+f3D4pzs2NFlTRASoaAr2A7CccFOpvTw1+EtmdbiuFQiHNOYdKgV5Dw73Tkdt2orRSeGq0VTE5RrhI1JqKc/ntXbgVAEDFEqZNTE5O8uskbwspGfNRtPgdRFZhTouwAZFyI6mLLq2SWpK2KPWdsmmNpRUAv41QsZTpbeB5noieP39+5MiRdZ0JDAZxW4CSw28jVCxleqPkAgDACAQ6AAAjEOgAAIxAoAMAMAKBDgDACAQ6AAAjEOgAAIxAoAMAMAKBDgDACAQ6AAAjEOgAAIxAoAMAMAKBDgDACAQ6AAAjEOgAAIxAoAMAMAKBDgDACAQ6AAAjEOgAAIxAoAMAMAKBDgDACAQ6AAAjEOgAAIxAoAPAtsZ5bAaDzcOVej/KAQIdALYrzmMzGBr6Q6Xej7Lxaal3AABg/QK9hnav/J319D/MJdyZsoEeOgCUnUCvsorCeWwGg8EgLQr0GgyGdi9Z3RGe5yNuK5GlEXlOhEAHgPITeJjqfHMem1xUCd17whHZb/M8z/N8sM9MRJFXIbIebCjNjpYblFwAoBwJVZRAb0N/iBx+/rZdezVuNoyCiww9dAAoM9xsWKiiBHrbvdnSnIQOOkgQ6ABQnjjPoJcc/ixprsh+IEKgQ+kFeg2G3kCp9wLKiFAWn3X1h3LEOaRBoENpcZ5Bb+61oOKE+vu9VrczV5yrh0SF6TAV3D3AoCiUVuRViMhxAt0wyJDvWGeov8HQX+yd2R7QQy8/8qTbNMXpd6gn/G65wEMvYdIZaNHLc9UfiHBxkcPPK1RwlQaBXna4J/dClP4ryvN+h7e9CMmrnPBbAtxsGFf5gTadoc6AS5iVLlxWxPsd+ISXgkAvO+ZGC1Fm8dB+2++gUL+rsN30Ugdq5FUIcxQgnf2EQ/9zm/qyIrLfrugueRoEetnRm4fFzYZ1NlBfF60h0KvzOvfkXihrnsttb77eI+6Eqi1uNqzVvcp9RMA2+205sGE9EOjlRsjYjM6JcMFcRvhxHpuh4dWA8MlTuC46Y0Opzkih/h4hIOXAbOgPCUNKWoV6zmNL3chOXe9RFd6l1vTTN9BrMBgenuDFG29426V30bhqO/cRAYAOBHq5ySxCSLciIqs7ov5sGeht6LcIl9EFHno1+vWcx9buFevxfgdR6FWEiMjcF5TCVapEpo8niTfQUNQple+rKLyLZxoinXoQ57EZ2smv+lisyvC0Y81xRACQhfBnPDk5ya+TvK0uvyNzaC8PEbeVcm+4wcbLnhSywk8hJS13eV74EQiLhbzNWEVoQ17sd6St4nfo/aDT/w3S1kx9q/WV9j6qD0/xnWKbnEekK/dvIwCjlOldxEDXj4vstPqNBWu87EkHluoT6/wopDAUV9QJ/Gw/yPQ4Vb+g3DC9JSl4lf8KWv9s6XGe3pD69dxHpA+BDhVrawI9r1zeqDwa355deHXXWOqmaxypsgev+YPI+UFH92eYHsNiwKaaEpM37YSQcY7VjvP0TdTd9ewnMX0IdKhYyvQuXg29qBPScjceeOjdtteryPtt7gvyEbeVQv0N6UOO4j3mrO6IajoAx3HKFbLNz9X7GQYeehUTX9TPhUltKdxpQzm7suGgukikbkerIfW8nZxHBAA5FHdQNMd8/83NicvaeFqabBuZ9wI19wWF8czMUCeHXzW1K9BraOhRTgtJP6NxHpu6CcUKnMfWGyBVynIem6HdK/XFw7PSrJbZsHSnDZ/i7c2NFiLvQ+mfUpnW4kwbq9udZXpxXkcEAFkULdC52bD8pysEd1oaBXoNDfdOR3je70jFAOexacR76lJf8SX9xqVV272q6Xjb62494lyUFPttXg515bGk4lPMTEXENhy0Kmf9CU/TvXfap5rcK76TMEGRUkkr/OjkJwuYGy2KSSzSSccxoJ4o3HDQSuRtV/5Ti/8E4hSdYF8j5fhgle2IACCXzCpMnih71VKeUpEqjabVZRUvy1XVzMJ3qsyqqPnmaFx/uK/sZR0ckI42NatEJWMz1SoZP460eTRpxfC09pQVed3qvNiitJ389nqzWtIayuOIdOX4bQRg11YMikbcVnL4FSNlqqiWvhH+hNV/4YqgUP/9p17M3vh2zvN12dQoIs9rJW6RaQ23Zp42NrJPCHSoWFsR6EIfWvEHG3FbVV03q9Wa+Wermimd9teu+DZr45lbQpko4lxTBDpULGV6F+l+6NxsmCwHnwx6re5IRglUGFQLhTIeFcjNhslyQlhdfPqUtLHwGARHozlX44SnxpZcoNcweDCScSuOwEMv7otXfm4YPi/1LlSuS/zvhW2wSIEeeRUib6hfkbjmRguF7j3h+oQFVrfyD57z2FyNwduUmuLBPbkXsrp94h9/oLfhHlmlcdBcjUdehYhOF+fAIA92p3uwocHQr3y6r3ATgjyeQANbr35mutS7UImWm5oL3mZxZrkI9/pQT1Cwn5Du/irFr7BcvBlT2g0wI69C4nSIQK/BMHgw4jstzY/I3jgpJ0RrT5qBYjP3BSNuacpL6jZgmLECUFzFm4ee8ddrv+13CJOZ7bf9DnlOYQ/5lDduEmc72084xDh4eILng33myKuQYgJzlsaJzH0DYvMN905HcK/kkjD3BdXzVhx+3A8VoMgMPM8T0fPnz48cObK+LQ3itluC89ga7p3OrMsCEG31byNTbhg+R8mlJJabmgtSQ1em93a5fW7kVQjjnAAA2ZRhoHOe3vQnJXCeQS/yHAAgqzIMdHPfiVcNyjsFcJ6e/lD6deYAAKBWhoEu3LokcvqedCcWDG0CAOShLAOdSH5KGs/zeFosMAzX9UABlW2gA1QKZDoUCgId9HEeW8Ztj6HgLvG/I9OhIBDooCvg6k9/3AYAlDEEegVLPThE8xkgwj0WivYYQVBAJx0KAoFekYQob1B2wL3tabUV8Rly2/XBrNtOZWd6dK27eblpIKH94siK3ktKzwZ0W6gYCPSKIzxvTnyKnHhz8ojbqnjGnEB40hyu59pClZ3pRC1mo9bi5L8CyTy2Tvz8oMD7sw0h0CtLoFcKc4efT90UzdxoIVI8B5rkDjoKLqBhItbUvOKLFq5B04670/V3z2gH+m9h6vq+SrlIozMe/WtW95RQaAU//IIp0v3QoRwJ9yQnIs1Hi5A6vYUOOp5HsRkb6G4LnfSCP/eggBJXm2OjRERVX5q25A0n/hylqjvfqvbh5wfU4lRn97vkFFHXl8UO9PwOfyLWdE4635ysnRms0l+1sBDolYLz2IS+eUaak1xeUZTLhYjPUkCX29NsUBLoNQjnkLRHmuTzKhM2EM3lmunRte721SmiFmfdU4od4z47mm3tpK8rRjfrevRT79nA8lnKHXbRt0myVKmamfhzlIyX/yszu6u++zZjWaHke/iJq82xUUv10+l6YZ+jIytNzWuX/dl+FIWDkktl4Dw9/SEisrojWuFrv51+RW7kVUi/gB7oVY6oetu1niEijLuKeU2keKRJ7lcrXimL6dGRlaautaj8dfNyU3PsGVH0lwQ562am6++eMUa5ZI7ixsTa9XDyt3fKJTGhHelt1oYfGC+frZLeRfGSuPJyU/NyU/PKpUCyxf6ZiYgo6etabmpebjqXIEpeb18W1xlIkJj7RkWGLnePZKm8J642S5un/stWRcnr8KNr3c2x0ZO1M6M75PQ2nam7czJ5/eLallRoEOiVIBXn+T4ySOigaxbQpW61OKDqdxB529WXHynGXVPPhA6mng+b7VUQlCzTo1ySGj4xET0bWD7G7ZiZrrtsSfw8QaYzdVKNO/k2Qo3Zixv7jS2q7xNXz6lK3s/urE6d3CF0WqNckk6mOrzRkZWmc8nL/vqZ6fqnTpoKy+9l7Bmtn5muu2whOlk7M10v/jdYJTQi5H50ZOWYK0lEU4E/dTNUKLg761KNTNddtqjPQGp5HH7Sd3F1SqvAcvT7KgontyTQUXKpAOIFQut5ApzQQc8suIhleEWFpOGglSikzH7x9KFTRcn+KpRa8m2EWuzG6MiKXA/pGa1PW+e3sPHr/etoNDqyNmoxtoSTb6N01EREiZ8fGC/7q+R37DonheBE7JiL5AKF6UsjEaneK/pnIKxYX7Hbjd8baSJ2zJXsGq7/kWJN55JRIu06h2nH3ekd6kXGjMPUo3340ZHY9XDVndEtK5drQg+deZxnUBgJXccNiMVB0symxDBWnBkyyu/ck3vp6yibyPoqKJWkk578LUyN9OelQNVTvep29K/ZnM2YPrNbaPatUPRI/K+LLt+sO3cyGfglSUQ08eeopeo/TfI7yvmYuHou0TUsl5uTvuEEkVE1/PguOUWZeSo0krh6LtHirPvxW+EjQvJtMXrF2oef/FdA9TlD+ZJvOKHzUsGhh846IUHJ6naue75KWsVFjHOHX9m11pvdGHoVIdLN7Oyvgqw0A6SjrtWu4fqsY3jGXFNcjF820BSXJDJGR9ZGT+6YMRF9X3X23NqzM7X0z0SLvU5sIPrXLBm/E2ovI2ujluqn0sBmdCR2PUxyZVxc+DZJqZOBvPSvWTJ+/cvaqKX6qfbcxzTyZBWVruH6H/MaVs04fO3PDUSU9HWtbGHPHT101m3o+iBhIzWhcJN2YpCqOYrijPkfp61E5G3Xup1AjlchU0n66Vmni7xLThEpxxU1hx+Pfl9FD9Z8E2uXXCQMftK3n3VR4mzXyvADo12eoyK2RqQo3xMRRdcuuYx3htNzMMppDXW+S05R4rqLLt+URiNNnzSS9IFA6wB/TFXPU//lleb5HT6J66xcD1fdma7dku45IdCZt4nrg1QldLFwo67bBHpT81RSzH1B4dJT8rZn3iUm+6tQFvRKB6lJJomzzTEaFnNQHC2ciKnS7dvPuih5/Vxq8JOo6n+cRgonpzK72GkmYk3tCbu/9ihR2nCiSZ5eEl3rbl6+OkFE9OyfCSJqcdYqpgZWfXeSplxrqskzm5L18E2f2S00OpyayvJsYLlJmPGydWlOCHTmZc4wz4NGCT3zOiP5MiXSOF+Y+4LiDQWE4FbfJyb7q6CyxSUX49cWresto2vdzSvXw8LMkNouMl72a/ZnFV1vIb6p6o6iFm86UzczXa+c1UdEJBW7j56tbnkQa2pebvrnZzPTdT0mqVPfvCzPpDSd2dEVXj3WvNzUnrAr98FSfUNdbDk6WNtVqDJ67sM39tysbhF2rHm5qXl52Fwnz8DZQgae54no+fPnR44cWd+WBnFbKGfi9T/ZLv6hQK/h4Qnl68JGyoko6UvkZv3U3u7N59oinWkt2V/NW3n+Nm4+i7cgzW8YPq+fmS7qW4Cm5abmgvzjKtMbPXTGiXdp8Q5qd4I5j81gaPdqXuEfehWRv1YV1cUbwljdkdv2hoNWUt8EJp39tt+hv3/ZX61sZXm9KJQ1BDrr7E63lYhC/Q3qwkag1yDeQTdr711q5YRDaMQgXuDp8AvXAgknDN0LPcUThs6obPZXAWCdEOjMM/cFhU6wGMci+TZd+mmu7HcretJWd0SxkRz1Ng+nfmSGdMKQCyrZXwUVdM9hAxDolcB+Wx6DlFjdEZ7XC3NhbmFat1m430vmVfriRwCyNJqlSYky8dJ+cYvsr0IK0hw2BoOiwILy/G3Mc/54WnZvcZpjULRUijEoiitFAYolnz/XtNBH3xw2AyUXAABGINABygW657BJCHSAsoA0h81DoAOUHtIcCgKBDgDACAQ6QImhew6FgkAHKDGkORQKAh2glFhO82cDy00DidzrpYmudTfn3nCDjTMOgQ4ARZH4+cHGN9a4J3vhGmcXAh0A1msi1tS84sv+7IjoX7O5c1mLacdd+SlIm2i8Irvwm7r032AwFGo/AGBbkB+vXJXjOdHvklNEXV+uP9DzkbvxxM8PqMVZnHePrnW3r05lLG5x1uU4DxXdxgO9DO+FBABFI6VYi7PuKcWOcZrPHU2T9WHTRNGRlWOuJBF1Def3gOb8G5/4c5SMl/+rGPGauNq+OmWpfpr+IL1ygJILAChER1bkB3hGR1aampebmmPPiKK/JMhZJzwTOcolc9ZSom+TZDGaFO2knh9NRETPBpaPBaqeTtffOUmj/0yk3r05lv5kZ2GYVNqTrI0rH+WcvN4uPuFTp/aSuCo9AlTxX45S0rOB2GiZpjkh0AFAJcolqeETkxC43I6Z6brLlsTPE2Q6I9cTkm8j1JirlhLlki32z0yKbvhU4M9UVE7Ezkaqn47uMEXXhh9Q1/dVqXc/qer7PxtYbrpIN6brZ/zVLZQYHklmbdzYM1o/M1132UJ0snZmul78T/NhzUIh3lmXWm267rIl+ds7/aOaiJ19YLx8szzTnHD7XABQSr6NUIvdGB1ZOUu1Qg72jNanrfNb2Pj1/tztNH5vpInYMVeya7j+R4o1nUtGiUxERImr5xJdw/WmiVjTuQSdrL37bWqrrnNy+CZ9XSvXG2pnRuUlVefOGHM1ThT9MxBWtqPDtOPu9A71ImPGwartN7ZQ4nr78nVpwYaKRcWDQAeAlORvYWq0/3kpUPV0VCcQo3/NEn2dux3j1/sTV9sTLc66H78lihpbKPE2SkdNYoG7ZXi5KZw2kKg6VTwbWLlO1U+lzvWzO6tTlmpTzsZJGDI12nOccjZEfQ6IjqwcO7c8W/qxUBkCHQDURl2rXcP1WasKxhxTXKJ/zZLx61/WRi3VTzPCLvo2SZScClfdma49mrHVd2JpfG34AXUNS8WN6NrwA6KTn5hyNS62b6n6z9xlEXnGjkr+nW7Tmbo73PJZLkmEQAeAMpV1Asm75BSRMg01puu9S05RYsplvOyXEtn0SSMlA78ke4Q11eOK0ZGV//2y7kdKynMBo78kpizVN8TdSFxtT5BFmnieq/Eopxp9zXKYP05X/ZjfqjqSbyNEDZtqoqAwKAoAaU5qTklUTiBJnG2O0bA4liim+URMnm3y7J8JImpx1vakuslV352kKdfaMyLTl0YKJ/4VTTV7jNuR1imWx2ZpItbUvPa1v9ZO4khs9saJyCTPwImudTcvX50oyA9FOHzFDJyJWFPzyvVw1R3NEdfSQA8dAFKMX1u0rsBUTEK/eyZ5tXnta39dj0ZNw2iXp35bqm+ou+1HB2u7Hqy9jdLRb2vvnFw+Kw4tGi/762dSTSWFUvjR76voXKzpQYxO1s5M1xIlripHYrM0biLTmR1drtix5lWhca393ABjz2gdda2cbU7NgCyzEVEiEp+VrnxuNABUjhuGz+tnpku9FzlF17rbE3bts8g2tdzUXJBbsynTGyUXACh/75JTeY1zVjgEOgCUleja1ZG0Uc2kbzghXEkEWSHQAaCsmHZ8x60oL8GPjsSuh4VLiiA7DIoCQJk5Olg/c3atW74g01L9dLpsr7YvKwh0AChDGtflQ04ouQAAMAKBDgDACAQ6AAAjEOgAAIxAoAMAMAKBDgDACAQ6AAAjEOgAAIzAhUUAlW65qbnUuwCFgUAHqGgFuYMrlAmUXAAAGIFABwBgBAIdAIARCHQAAEYg0AEAGIFABwBgBAIdAIARCHQAAEbgwiIomBuGzzewFS5sASgUBDoU0nrTeWPnAADQhJILAAAjEOgAAIxAoAMAMAKBDgDACAQ6AAAjEOgAAIxAoAMAMAKBDgDACAQ6AAAjEOgAAIxAoAMAMAL3coF1K+wNWPRaw027ANYLgQ7rdon//Ybh84IErmYjhWocoNKg5AIbIWR6MVpGmgNsGAIdNqgYmY40B9gMBDpsXGEzHWkOsEmoocOmyJm+mSzefAsAQAh02DwhiDfcv0bHHKBQUHKBwthY+QVpDlBACHQomPVmOtIcoLBQcoFCyrOkjqI5QDEg0KHAcpbU0TEHKBKUXKAo9MovSHOA4kGgQ7FkZjrSHKCoEOhQRMpMR5oDFBtq6FBcBbnyCADygUCHokOUA2wNlFwAABiBQAcAYAQCHQCAEQh0gHXjPDaDyObhSr03ABIEOsC6cB6boaE/JH0b6m9ApkO5QKAD5E0Oc4ef53mej7itRBTqdwVKvWcARAh0AKVAr7KIIldWbB6OiPPYGvpDZHVHeP62nYiIzH1Bv4OIvIPopEM5QKADyAIPvfLXYn4TEVHo3hOOzH0Dfj/PB/vMyk0aDlqJyNKoWghQGriwCEDFevofZqJAb0N/iBx+qS9ORER2uz197YCrP0RWtzPjBYASQA8dQMLNhoXOdqC33Zue5loCve1esrp9feifQ1lAoAOk4TyDXnL4c6e5od1LDn8QcQ7lAoEOIIm8CpH14KyrP5QrzjmPzdDuJas7kiv2AbYQaugASqH+/pDVHckW00LXnKzuCDrnUF4Q6ABphGFRLWKUI8yhTKHkAqCmk+eBXoOY5kQU6m8waOjFBUZQUgh0ADWtOeWcxyZ3zXl9KKhDaSHQAST2Ew4i68GGzFcir8Tr/VFogXKGGjqAzH6b53VfuL3FOwOwbuihAwAwAoEOAMAIBDoAACMQ6AAAjECgAwAwArNctrcbhs9LvQuwjV3ify/1LkAhIdC3PdvkWKl3AbalYGtnqXcBCgwlFwAARiDQAQAYgUAHAGAEAh0AgBEIdAAARiDQAQAYgUAHAGAEAh0AgBEIdAAARiDQAQAYgUAHAGAEAh0AgBEIdAAARiDQAQAYgUAHAGAEAh0AgBEIdAAARiDQAQAYgUAHAGAEAh0AgBEIdAAARiDQAQAYgUAHAGAEAh220sL8D53B1qElzRc/PJrSe0npxZBuCwCVDYEOW86yr1prcTwUjOex9dLkeIH3B4AVn5Z6B6Ci7N7709henddW33HU0bVTuejFUNBJBybPKxYurL7RPSUAVDgEOmhbcnW+fix+vcs11ni42G/4cukx7XIdUu3D5DhZetTZ/TEeJurYW1PMXcnv2F/Otl5bFL9uU591AEoDJRfI8GIo2Nr5+nHbgckx2+TYgQ5adF6c/6C9bvz+xan7C7lay6Pk/WE+RuaafcpFL5ceU03bf2Rm967WQxnLCiS/Y19ydQZbR2vujtkmx2yTY7a7+963dub4OQAUH3roFezDo6nu4K67N/fuEb72xYl2ua6Qc5w6rticYmjudA6Z3pyPDj7620/HM7L15fwtLt7xkWi3vGS29RqlerUL877xmgtDO8W389WqOrypTm6NxRy32P62h0g4SdzixFVunQ/eEr5qOzB5fueH+RiZd+2T998Xt/S0aOyYSNnXltVcGGo5tVtr9ZezuY99Yf6H89Gwuku+53iLay7odM9bb+7do7MrAMWHQK9gc3Nx+qJ6j1yqHqu+f3FqkmyTY42q9T7Gw1RzQaOnTPT3Govq+yXXtUWiXfL3L8ai4bYDP+2W3q7tCznNPzya6vbRhSHbqd3i1x1dwlvUnLppOyXE+hfppYy5OTH3pTMQhYN/fDheox2jQsFdlfjx+xen3inPQEqHGnMde/y+Oz3NBYe/2UXj8TkiBDqUDgK9csXn3pPFVv3h0ZQ88Hjqpi1jtSXXtUVLj06XVu3Do/ePzTUWLja3QId3E9HSpNQ9F94uNeb5crbbR3JPec/eWiLa/3dFWwt/jGeMkQqNfPVNDb2c7fbFO67YnDTbek0/RjXGYGu0jlFP+rF/eDRzi9vluolyOZQn1NAr1+o7jr6iPwaDu+7qDugtuTpfP247oFvT2P23NjO9mRemGy79n48u9Lf0tMXHf40TEb1cemzeZd0tv12NFNlLrmuLHVfkoIzfH10kqt2nPGd8jIepRhXxqUbEnHUeEj4ixOaKUrzOPPZ4KBintp1aY6Tx+6OLOg/2GM8AAAg1SURBVC8BbBn00CvbY1+044pNp0ogJlrW+Rs1+76g8NwqUc2HR+8ft30xuZvom13Oa/MvjjfSvxctthax8YXVN1TbuptI7Mib7koDmx8ezdziKG1EVKiVW9M+FiysvqHa/b++f2w23dWtm2ccQsZSRZU864Zpx679oYGkoj967lByCPRKpz1jRKhQd1yxTeaaT3L4m1107f39b1bHfSRWVw7t7KDXzosxC1fTNiTF7sd4WNpErt0TES3MD/pqXVdqnaOqZufmtC4y+hgP02LYV3NhSBp73F39FcXHf42f0s73nc4xmzPHEaTL/9iJSDpnbMnMToAcEOgVLrNKoJhe/fhaMK17K5WtF1MjjYd2dtDirWtRkgY/iXb+d0/NY188bDYNZK+8v5xtvRa7MNRy+OMscapS+L59NfSeiMRZJV9dsTkP0Yt/LxKRpadJUdDf2dpGj33zL44XIk9zHHtLmzl6a3T+vw+Jp5MXQ0HnOCahQ/lAoFeu6v3mjEsuxUTL2t98SaSaHi7Ed61LPY1v8njmluJg6eFOk+X861YhCoVZJbt3dtBrZ+cimU3CNMo9x7/o8L3u7owS1QgzYURm04C6M374/IGO8ffSMOwm5HPsfzeNn492d0aF7yw9LZNjRb3ECWBdDDzPE9Hz58+PHDlS6p2Bdbth+Nw2OVaw5l4MBZ3vxUitNJV37MHWzkv876XeC9gsZXqjhw4Kh8/bJku9D6VSyccOrMC0RQAARiDQAQAYgUAHAGAEAh0AgBEIdAAARiDQAQAYgUAHAGAEAh0AgBEIdAAARiDQAQAYgUAHAGAEAh0AgBEIdNi0F0PB1qGldW+2MP9DZ+4NN9g4QCVCoMNmLU2Ob3zj9BuyF7RxgAqDQIdNWlh9kzuXteze+9OYTffx03k3XvQu/MvZ1s6p+9mfQ53POgBFh/uhgzbl45WzPsTnYzxM1LG3OA/uyd340uQ4WXrWfzrJi/xD2LVP93FI+awDsDUQ6JBB/ajMJVfna+fFmqyP8tF+0rRMeOwyCY8kzevJy3k3/nLpMdVc+I9Cn04W5n84Hw0TWXpa7tJM91zGk1fzXAdgSyHQK9iHR1PdwV1CUkuZu8t1hZzjyuTd6RwyvTkfHXz0N83yyIf5GJl37ZMb9MVTz48mIvnRbmN754aCzn8vOQ/tlNasTe/4SxEpfybQbzx+/+LULU7c7tb54C3hK+3nNSs/bchqLgy1nNLpU3/4dZF6WiaP1xDRi6G4Zs0nn3UAthYCvYLNzcXpi+o9QubSgcmx6vsXpybJJj64WfYxHtbvBc/NxS22vylOCRQO/vHheI3YnX85Kz6oc2F+cJw6ruxMvXXbF8o0l3Lftmdh/ofzUd+jvYeP1+g3XnPqpu2UEOtfaIa4glCIV51m4vcvTr37SKQT6HuOt/wkrTn3nr76RuPY81kHYGsh0CtXfO49WWzVHx5NOUnMxFM3bRmrLbmuLVp69DqzUpa9nO32xTuu2Jw023otPke0R9q244ptz8vZ1muL1Hbgp0OprTq65BSWcvmmvGRXz/GaXI0TLfwxzinb0bF7709je9WLarSOVNPqO65m/983vw7AFsAsl8q1+o6jr+iPweCuu7o93CVX5+vHbQf056IIWSaGvvMQ0d9rLBSbE+Z7vFx6TDVvRoOt1xYtPS2KfrQqAV8MTd0ik7wPL8aiYXPNvpyNk/jRobhJurD6piDrAGwF9NAr22NftOOKTWe0U0zzbAWNhdU3VLv/1/ePzaa7GaH/YT5GFA9zGZNkFlbfUG2r0OVfmPeNU8cVacR1Yd43TtRWvSdX4yRV2K2555Zo1tDzH6GtzWP6Sj7rABQbAr3Sac8hEWrWHVdsk9kj72M8TIthX82FISmRd1d/RfHxX+OnhAg2m5TTYz48mvq/vS1OioflJb8uhs2mAfFdllznF8ksTTzP1fjcXDy/Y9zpHLM581tV6wBJeUpIG/LNdx2ArYBAr3BtGZPthHo3ERE9vhZM69hKhexFIbNe/HuRiCw9TYoK+87WNnrsm39xvPHw3lriFkMLe0/tplSh/DjRy1SD8sAsvZxtvRa7MNS03z31bm8NEeVonGjfvhp6T0Ti9JivNjInUo9qFo2zc1Hr3JbPOgBbCYFeuar3mzMuwhTTPOuVRC+JqKZNnvRiNg2oe6OHzx/oGH8/t0CHDzW62oJOcU5hzYUh22QqmmNzC3R4Nx3+Zhdde90qTHsfayRacikHGLM0vpv2HP+iw/e6uzMqNK43B3HdFBPMfzq+6up8vz9zgmM+6wBsNQPP80T0/PnzI0eOlHpnYN1uGD63TY4VrDlx7mC2a4iKbGH+h/OLbQjHrRBs7bzE/17qvYDNUqY3euigcPi8bbK0e/AxHjbvGkCaA2wEpi1CqSzMux6ljWrG748uClcSAcD6IdChVHbvbZ2bUt6k8MOjmVuccEkRAGwASi5QOofP2yY753+Q78RiNt0dK135HmDbQ6BDaWlclw8AG4OSCwAAIxDoAACMQKADADACgQ4AwAgEOgAAIxDoAACMQKADADACgQ4AwAgEOgAAIxDoAACMQKADADACgQ4AwAgEOgAAIxDoAACMQKADADACgQ4AwAgEOgAAIxDoAACMQKADADACgQ4AwAgEOgAAIxDoAACM+LTUOwCbFWztLPUuAEBZQKBvb5f430u9CwBQLlByAQBgBAIdAIARCHQAAEYg0AEAGIFABwBgBAIdAIARCHQAAEYg0AEAGIFABwBgROpK0efPn5dwPwAAYJMMPM+Xeh8AAKAAUHIBAGAEAh0AgBH/D9AMICjhBwY1AAAAAElFTkSuQmCC)"
      ],
      "metadata": {
        "id": "wgycZz4rSxhP"
      }
    },
    {
      "cell_type": "code",
      "source": [
        "# Создаем 2 объекта: r1 & r2\n",
        "r1 = Rectangle(10,5)\n",
        "r2 = Rectangle(20,11)"
      ],
      "metadata": {
        "id": "1wvmweJiS39u"
      },
      "execution_count": null,
      "outputs": []
    },
    {
      "cell_type": "code",
      "source": [
        "# Выведем свойства созданных объектов и применим к ним имеющиеся методы\n",
        "\n",
        "print(\"r1.width = \", r1.width)\n",
        "print(\"r1.height = \", r1.height)\n",
        "print(\"r1.getWidth() = \", r1.getWidth())\n",
        "print(\"r1.getArea() = \", r1.getArea())\n",
        "\n",
        "print(\"-----------------\")\n",
        "\n",
        "print(\"r2.width = \", r2.width)\n",
        "print(\"r2.height = \", r2.height)\n",
        "print(\"r2.getWidth() = \", r2.getWidth())\n",
        "print(\"r2.getArea() = \", r2.getArea())"
      ],
      "metadata": {
        "colab": {
          "base_uri": "https://localhost:8080/"
        },
        "id": "SnaLxKrqS-7F",
        "outputId": "a2e4e7ef-9502-4992-c2ab-5d53e432865a"
      },
      "execution_count": null,
      "outputs": [
        {
          "output_type": "stream",
          "name": "stdout",
          "text": [
            "r1.width =  10\n",
            "r1.height =  5\n",
            "r1.getWidth() =  10\n",
            "r1.getArea() =  50\n",
            "-----------------\n",
            "r2.width =  20\n",
            "r2.height =  11\n",
            "r2.getWidth() =  20\n",
            "r2.getArea() =  220\n"
          ]
        }
      ]
    },
    {
      "cell_type": "markdown",
      "source": [
        "## Что происходит при создании объекта с помощью класса?\n",
        "\n",
        "При создании объекта класса Rectangle запускается конструктор выбранного класса, и атрибутам нового объекта передаются значения аргументов. Как на этом изображении:\n",
        "\n",
        "![image.png](data:image/png;base64,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)"
      ],
      "metadata": {
        "id": "a4Ct48BpTbHO"
      }
    },
    {
      "cell_type": "markdown",
      "source": [
        "## Конструктор с аргументами по умолчанию\n",
        "\n",
        "В других языках программирования конструкторов может быть несколько. В Python — только один. Но этот язык разрешает задавать значение по умолчанию.\n",
        "\n",
        "> Все требуемые аргументы нужно указывать до аргументов со значениями по умолчанию.\n",
        "\n"
      ],
      "metadata": {
        "id": "ook5D9D8UGNj"
      }
    },
    {
      "cell_type": "code",
      "source": [
        "class Person:\n",
        "    # Параметры возраста и пола имеют значение по умолчанию.\n",
        "    def __init__(self, name, age=1, gender=\"Male\"):\n",
        "        self.name = name\n",
        "        self.age = age\n",
        "        self.gender= gender\n",
        "\n",
        "    def showInfo(self):\n",
        "        print(\"Name: \", self.name)\n",
        "        print(\"Age: \", self.age)\n",
        "        print(\"Gender: \", self.gender)"
      ],
      "metadata": {
        "id": "ymlkVWiRU3ax"
      },
      "execution_count": null,
      "outputs": []
    },
    {
      "cell_type": "code",
      "source": [
        "# Создаём объект Person со своими параметрами\n",
        "aimee = Person(\"Aimee\", 21, \"Female\")\n",
        "aimee.showInfo()\n",
        "print(\" --------------- \")\n",
        "\n",
        "# Создаём объект Person с параметрами по умолчанию\n",
        "alice = Person( \"Alice\" )\n",
        "alice.showInfo()\n",
        "\n",
        "print(\" --------------- \")\n",
        "\n",
        "# Создаём объект Person со своим значением параметра age и значением параметра gender по умолчанию\n",
        "tran = Person(\"Tran\", 37)\n",
        "tran.showInfo()"
      ],
      "metadata": {
        "colab": {
          "base_uri": "https://localhost:8080/"
        },
        "id": "LwV_K5a7U-ux",
        "outputId": "fe1c1ae0-7bf0-4e25-ac15-1fe34308afa2"
      },
      "execution_count": null,
      "outputs": [
        {
          "output_type": "stream",
          "name": "stdout",
          "text": [
            "Name:  Aimee\n",
            "Age:  21\n",
            "Gender:  Female\n",
            " --------------- \n",
            "Name:  Alice\n",
            "Age:  1\n",
            "Gender:  Male\n",
            " --------------- \n",
            "Name:  Tran\n",
            "Age:  37\n",
            "Gender:  Male\n"
          ]
        }
      ]
    },
    {
      "cell_type": "markdown",
      "source": [
        "# Основные принципы ООП"
      ],
      "metadata": {
        "id": "2OswntUvdmfi"
      }
    },
    {
      "cell_type": "markdown",
      "source": [
        "## Абстракция*"
      ],
      "metadata": {
        "id": "_3oAxLhhd2Sh"
      }
    },
    {
      "cell_type": "markdown",
      "source": [
        "Абстракция – это выделение основных, наиболее значимых характеристик объекта и игнорирование второстепенных.\n",
        "\n",
        "Любой составной объект реального мира – это абстракция. Говоря «ноутбук», вам не требуется дальнейших пояснений, вроде того, что это организованный набор пластика, металла, жидкокристаллического дисплея и микросхем. Абстракция позволяет игнорировать нерелевантные детали, поэтому для нашего сознания это один из главных способов справляться со сложностью реального мира. Если б, подходя к холодильнику, вы должны были иметь дело с отдельно металлом корпуса, пластиковыми фрагментами, лакокрасочным слоем и мотором, вы вряд ли смогли бы достать из морозилки замороженную клубнику."
      ],
      "metadata": {
        "id": "qRktwY_Dd8sM"
      }
    },
    {
      "cell_type": "markdown",
      "source": [
        "## Инкапсуляция"
      ],
      "metadata": {
        "id": "qzDPW2uheSL2"
      }
    },
    {
      "cell_type": "markdown",
      "source": [
        "Инкапсуляция – это ещё один принцип, который нужен для безопасности и управления сложностью кода. Инкапсуляция блокирует доступ к деталям сложной концепции. Абстракция подразумевает возможность рассмотреть объект с общей точки зрения, а инкапсуляция не позволяет рассматривать этот объект с какой-либо другой.\n",
        "\n",
        "Вы разработали для муниципальных служб класс «Квартира». У неё есть свойства вроде адреса, метража и высоты потолков. И методы, такие как получение информации о каждом из этих свойств и, главное, метод, реализующий постановку на учёт в Росреестре. Это готовая концепция, и вам не нужно чтобы кто-то мог добавлять методы «открыть дверь» и «получить место хранения денег». Это А) Небезопасно и Б) Избыточно, а также, в рамках выбранной реализации, не нужно. Работникам Росреестра не требуется заходить к вам домой, чтобы узнать высоту потолков – они пользуются только теми документами, которые вы сами им предоставили."
      ],
      "metadata": {
        "id": "9ky9zT4HeTat"
      }
    },
    {
      "cell_type": "markdown",
      "source": [
        "### Пример:"
      ],
      "metadata": {
        "id": "D4YPqlNFf71c"
      }
    },
    {
      "cell_type": "code",
      "source": [
        "# Создадим класс \"Чайник\"\n",
        "\n",
        "class Kettle:\n",
        "\n",
        "  def turn_on(self):\n",
        "    print(\"Нажали кнопку\")\n",
        "    self.boil()\n",
        "    self.check_temperature()\n",
        "    self.beep()\n",
        "    self.turn_off()\n",
        "\n",
        "  def boil(self):\n",
        "    print(\"Разогревание воды\")\n",
        "\n",
        "  def check_temperature(self):\n",
        "    print(\"Проверка температуры воды\")\n",
        "\n",
        "  def beep(self):\n",
        "    print(\"Подача звукового сигнала\")\n",
        "\n",
        "  def turn_off(self):\n",
        "    print(\"Автоматическое выключение\")"
      ],
      "metadata": {
        "id": "fki81aksfI-l"
      },
      "execution_count": null,
      "outputs": []
    },
    {
      "cell_type": "code",
      "source": [
        "my_kettle = Kettle()\n",
        "my_kettle.turn_on()\n",
        "# my_kettle.boil()\n",
        "# my_kettle.check_temperature()\n",
        "# my_kettle.beep()\n",
        "# my_kettle.turn_off()"
      ],
      "metadata": {
        "colab": {
          "base_uri": "https://localhost:8080/"
        },
        "id": "r_0Uw6pRf6Gq",
        "outputId": "4bb8b703-2707-4baf-dd41-06f058e551d5"
      },
      "execution_count": null,
      "outputs": [
        {
          "output_type": "stream",
          "name": "stdout",
          "text": [
            "Нажали кнопку\n",
            "Разогревание воды\n",
            "Проверка температуры воды\n",
            "Подача звукового сигнала\n",
            "Автоматическое выключение\n"
          ]
        }
      ]
    },
    {
      "cell_type": "markdown",
      "source": [
        "#### Режимы доступа к данным в Python:\n",
        "\n",
        "> attribute (без одного или двух подчеркиваний вначале) – публичное свойство (public);\n",
        "\n",
        "> _attribute (с одним подчеркиванием) – режим доступа protected (служит для обращения внутри класса и во всех его дочерних классах)\n",
        "\n",
        "> __attribute (с двумя подчеркиваниями) – режим доступа private (служит для обращения только внутри класса)."
      ],
      "metadata": {
        "id": "JXsfhL25ho8n"
      }
    },
    {
      "cell_type": "code",
      "source": [
        "# Пересоздадим класс \"Чайник\", используя приватные модификаторы доступа\n",
        "\n",
        "class Kettle:\n",
        "\n",
        "  def turn_on(self):\n",
        "    print(\"Нажали кнопку\")\n",
        "    self.__boil()\n",
        "    self.__check_temperature()\n",
        "    self.__beep()\n",
        "    self._turn_off()\n",
        "\n",
        "  def __boil(self):\n",
        "    print(\"Разогревание воды\")\n",
        "\n",
        "  def __check_temperature(self):\n",
        "    print(\"Проверка температуры воды\")\n",
        "\n",
        "  def __beep(self):\n",
        "    print(\"Подача звукового сигнала\")\n",
        "\n",
        "  def _turn_off(self):\n",
        "    print(\"Автоматическое выключение\")"
      ],
      "metadata": {
        "id": "r81le70CiMFG"
      },
      "execution_count": null,
      "outputs": []
    },
    {
      "cell_type": "code",
      "source": [
        "my_kettle = Kettle()\n",
        "\n",
        "# my_kettle.turn_on()\n",
        "# my_kettle.boil()\n",
        "# my_kettle.check_temperature()\n",
        "# my_kettle.beep()\n",
        "# my_kettle._turn_off()\n",
        "my_kettle._Kettle__boil()"
      ],
      "metadata": {
        "id": "QhBfMKzTidN6",
        "colab": {
          "base_uri": "https://localhost:8080/"
        },
        "outputId": "42968fa6-66ab-4991-fa83-0c28f292f085"
      },
      "execution_count": null,
      "outputs": [
        {
          "output_type": "stream",
          "name": "stdout",
          "text": [
            "Разогревание воды\n",
            "['_Kettle__beep', '_Kettle__boil', '_Kettle__check_temperature', '__class__', '__delattr__', '__dict__', '__dir__', '__doc__', '__eq__', '__format__', '__ge__', '__getattribute__', '__gt__', '__hash__', '__init__', '__init_subclass__', '__le__', '__lt__', '__module__', '__ne__', '__new__', '__reduce__', '__reduce_ex__', '__repr__', '__setattr__', '__sizeof__', '__str__', '__subclasshook__', '__weakref__', '_turn_off', 'turn_on']\n"
          ]
        }
      ]
    },
    {
      "cell_type": "markdown",
      "source": [
        "## Наследование"
      ],
      "metadata": {
        "id": "ihvFbfWdeLoK"
      }
    },
    {
      "cell_type": "markdown",
      "source": [
        "Это способность одного класса расширять понятие другого, и главный механизм повторного использования кода в ООП. Например, на уровне абстракции «Автотранспорт» мы не учитываем особенности каждого конкретного вида транспортного средства, а рассматриваем их «в целом». Если же более детализировано приглядеться, например, к грузовикам, то окажется, что у них есть такие свойства и возможности, которых нет ни у легковых, ни у пассажирских машин. Но, при этом, они всё ещё обладают всеми другими характеристиками, присущими автотранспорту.\n",
        ">\n",
        ">\n",
        "Мы могли бы сделать отдельный класс «Грузовик», который является наследником «Автотранспорта». Объекты этого класса могли бы определять все прошлые атрибуты (цвет, год выпуска), но и получить новые. Для грузовиков это могли быть грузоподъёмность, снаряженная масса и наличие жилого отсека в кабине. А методом, который есть только у грузовиков, могла быть функция сцепления и отцепления прицепа."
      ],
      "metadata": {
        "id": "K76jVKtYeOqW"
      }
    },
    {
      "cell_type": "code",
      "source": [
        "# класс \"Животное\". Это достаточно абстрактный класс всего с одним методом \"Издать звук\".\n",
        "class Animal:\n",
        "    def make_a_sound(self):\n",
        "        print(\"Издаёт животный звук\")"
      ],
      "metadata": {
        "id": "wCFkSpDNj5IY"
      },
      "execution_count": null,
      "outputs": []
    },
    {
      "cell_type": "markdown",
      "source": [
        "Создадим классы-наследники:"
      ],
      "metadata": {
        "id": "76MnJL3emVsZ"
      }
    },
    {
      "cell_type": "code",
      "source": [
        "# факт наследования в Python указывается при объявлении класса-наследника.\n",
        "# в скобках, после имени класса, указывается класс-родитель\n",
        "class Cat(Animal):\n",
        "    def scratching_sofa(self):\n",
        "        print('Царапает диван')\n",
        "\n",
        "\n",
        "class Dog(Animal):\n",
        "    def gnawing_on_sneakers(self):\n",
        "        print('Грызёт тапки')"
      ],
      "metadata": {
        "id": "scRWWjw8kLbA"
      },
      "execution_count": null,
      "outputs": []
    },
    {
      "cell_type": "code",
      "source": [
        "Tom = Cat()\n",
        "Tom.make_a_sound()\n",
        "Tom.scratching_sofa()\n",
        "\n",
        "Buffy = Dog()\n",
        "Buffy.make_a_sound()\n",
        "Buffy.gnawing_on_sneakers()"
      ],
      "metadata": {
        "colab": {
          "base_uri": "https://localhost:8080/"
        },
        "id": "wL1O43o6mbkz",
        "outputId": "88184d59-793c-4ed7-ba0c-8dcc8f6d2093"
      },
      "execution_count": null,
      "outputs": [
        {
          "output_type": "stream",
          "name": "stdout",
          "text": [
            "Издаёт животный звук\n",
            "Царапает диван\n",
            "Издаёт животный звук\n",
            "Грызёт тапки\n"
          ]
        }
      ]
    },
    {
      "cell_type": "markdown",
      "source": [
        "## Полиморфизм"
      ],
      "metadata": {
        "id": "3dnZo8oGd2ZY"
      }
    },
    {
      "cell_type": "markdown",
      "source": [
        "Полиморфизм подразумевает возможность нескольких реализаций одной идеи. Простой пример: у вас есть класс «Персонаж», а у него есть метод «Атаковать». Для воина это будет означать удар мечом, для рейнджера – выстрел из лука, а для волшебника – чтение заклинания «Огненный Шар». В сущности, все эти три действия – атака, но в программном коде они будут реализованы совершенно по-разному."
      ],
      "metadata": {
        "id": "eWeUP1gseJ_b"
      }
    },
    {
      "cell_type": "markdown",
      "source": [
        "Примеры полиморфизма в Python:"
      ],
      "metadata": {
        "id": "go3obQFQofvY"
      }
    },
    {
      "cell_type": "markdown",
      "source": [
        "### Полиморфизм на примере оператора сложения:"
      ],
      "metadata": {
        "id": "1Bou9gbHo1Pv"
      }
    },
    {
      "cell_type": "code",
      "source": [
        "num1 = 1\n",
        "num2 = 2\n",
        "print(num1 + num2)\n",
        "\n",
        "str1 = \"Python\"\n",
        "str2 = \"Programming\"\n",
        "print(str1+\" \"+str2)"
      ],
      "metadata": {
        "colab": {
          "base_uri": "https://localhost:8080/"
        },
        "id": "bRtiHNXzonuh",
        "outputId": "c98aff69-9600-423b-a0da-3fb7b7d4d29c"
      },
      "execution_count": null,
      "outputs": [
        {
          "output_type": "stream",
          "name": "stdout",
          "text": [
            "3\n",
            "Python Programming\n"
          ]
        }
      ]
    },
    {
      "cell_type": "markdown",
      "source": [
        "### Полиморфизм на примере функций:"
      ],
      "metadata": {
        "id": "b19wC_zhpD92"
      }
    },
    {
      "cell_type": "code",
      "source": [
        "print(len(\"Programiz\"))\n",
        "print(len([\"Python\", \"Java\", \"C\"]))\n",
        "print(len({\"Name\": \"John\", \"Address\": \"Nepal\"}))"
      ],
      "metadata": {
        "colab": {
          "base_uri": "https://localhost:8080/"
        },
        "id": "jjoUF648osSN",
        "outputId": "e6fe13aa-f6b2-4be7-d029-0ff6f83a744b"
      },
      "execution_count": null,
      "outputs": [
        {
          "output_type": "stream",
          "name": "stdout",
          "text": [
            "9\n",
            "3\n",
            "2\n"
          ]
        }
      ]
    },
    {
      "cell_type": "markdown",
      "source": [
        "### Полиморфизм в методах класса (переопределение метода):"
      ],
      "metadata": {
        "id": "YMLPixdPpI7L"
      }
    },
    {
      "cell_type": "markdown",
      "source": [
        "> Сейчас у нас и кошка, и собака просто \"издают животные звуки\", а хотелось бы, конечно, слышать звуки, свойственные именно этим животным. Для этого существует механика переопределения. Достаточно объявить в классе-наследнике метод с тем же названием, что и в базовом классе:"
      ],
      "metadata": {
        "id": "LxaC80HrmyMn"
      }
    },
    {
      "cell_type": "code",
      "execution_count": null,
      "metadata": {
        "id": "Bdcgj0UIQv0i"
      },
      "outputs": [],
      "source": [
        "class Cat(Animal):\n",
        "    def scratching_sofa(self):\n",
        "        print('Царапает диван')\n",
        "\n",
        "    def make_a_sound(self):\n",
        "        print('Мяу-мяу!')\n",
        "\n",
        "class Dog(Animal):\n",
        "    def gnawing_on_sneakers(self):\n",
        "        print('Грызёт тапки')\n",
        "\n",
        "    def make_a_sound(self):\n",
        "        print('Гав-гав!')"
      ]
    },
    {
      "cell_type": "code",
      "source": [
        "class Elephant(Animal):\n",
        "    def fear_mouse(self):\n",
        "        print('Боится мышь!')"
      ],
      "metadata": {
        "id": "eYE5flvYln7_"
      },
      "execution_count": null,
      "outputs": []
    },
    {
      "cell_type": "code",
      "source": [
        "Djambo = Elephant()\n",
        "Djambo.make_a_sound()\n",
        "Djambo.fear_mouse()"
      ],
      "metadata": {
        "colab": {
          "base_uri": "https://localhost:8080/"
        },
        "id": "Bpr4OIjOlvdH",
        "outputId": "ff32e1f9-22a7-435f-c965-5a2439c1884b"
      },
      "execution_count": null,
      "outputs": [
        {
          "output_type": "stream",
          "name": "stdout",
          "text": [
            "Издаёт животный звук\n",
            "Боится мышь!\n"
          ]
        }
      ]
    },
    {
      "cell_type": "code",
      "source": [
        "Tom = Cat()\n",
        "Tom.make_a_sound()\n",
        "Tom.scratching_sofa()\n",
        "\n",
        "Buffy = Dog()\n",
        "Buffy.make_a_sound()\n",
        "Buffy.gnawing_on_sneakers()"
      ],
      "metadata": {
        "colab": {
          "base_uri": "https://localhost:8080/"
        },
        "id": "ZPdwXpVynMn9",
        "outputId": "36fd5515-679c-4d21-a598-41d88390485e"
      },
      "execution_count": null,
      "outputs": [
        {
          "output_type": "stream",
          "name": "stdout",
          "text": [
            "Мяу-мяу!\n",
            "Царапает диван\n",
            "Гав-гав!\n",
            "Грызёт тапки\n"
          ]
        }
      ]
    },
    {
      "cell_type": "markdown",
      "source": [
        "### Дополнительный пример"
      ],
      "metadata": {
        "id": "mCBa9ybB6pvw"
      }
    },
    {
      "cell_type": "code",
      "source": [
        "from abc import ABC, abstractmethod\n",
        "import random\n",
        "\n",
        "class Инструмент(ABC):\n",
        "    def __init__(self, износ=100):\n",
        "        self.износ = износ\n",
        "\n",
        "    @abstractmethod\n",
        "    def использовать(self):\n",
        "        pass\n",
        "\n",
        "    def починить(self):\n",
        "        self.износ = 100\n",
        "        print(f\"{self.__class__.__name__} отремонтирован!\")\n",
        "\n",
        "class Молоток(Инструмент):\n",
        "    def использовать(self):\n",
        "        if self.износ > 0:\n",
        "            print(\"Молоток забивает гвозди\")\n",
        "            self.износ -= 10\n",
        "        else:\n",
        "            print(\"Молоток сломан и нуждается в ремонте\")\n",
        "\n",
        "class Отвертка(Инструмент):\n",
        "    def использовать(self):\n",
        "        if self.износ > 0:\n",
        "            print(\"Отвертка закручивает винты\")\n",
        "            self.износ -= 5\n",
        "        else:\n",
        "            print(\"Отвертка сломана и нуждается в ремонте\")\n",
        "\n",
        "class Пила(Инструмент):\n",
        "    def использовать(self):\n",
        "        if self.износ > 0:\n",
        "            print(\"Пила распиливает дерево\")\n",
        "            self.износ -= 15\n",
        "        else:\n",
        "            print(\"Пила сломана и нуждается в ремонте\")\n",
        "\n",
        "class Мастер:\n",
        "    def __init__(self):\n",
        "        self.ящик_с_инструментами = [Молоток(), Отвертка(), Пила()]\n",
        "\n",
        "    def использовать_инструмент(self):\n",
        "        инструмент = random.choice(self.ящик_с_инструментами)\n",
        "        инструмент.использовать()\n",
        "\n",
        "    def починить_инструмент(self, инструмент):\n",
        "        инструмент.починить()"
      ],
      "metadata": {
        "id": "rZM-dAc5Gbic"
      },
      "execution_count": null,
      "outputs": []
    },
    {
      "cell_type": "code",
      "source": [
        "# Демонстрация полиморфизма\n",
        "инструменты = [Молоток(), Отвертка(), Пила()]\n",
        "\n",
        "for инструмент in инструменты:\n",
        "    инструмент.использовать()\n",
        "\n",
        "# Воспользоваться функционалом класса мастер\n",
        "мастер = Мастер()\n",
        "\n",
        "# Мастер работает со случайными инструментами\n",
        "мастер.использовать_инструмент()\n",
        "мастер.использовать_инструмент()\n",
        "мастер.использовать_инструмент()\n",
        "\n",
        "# Чиним один из инструментов\n",
        "мастер.починить_инструмент(инструменты[1])"
      ],
      "metadata": {
        "colab": {
          "base_uri": "https://localhost:8080/"
        },
        "id": "cPxAsoykHqa0",
        "outputId": "85ed672d-d1f4-476f-bff7-ad1540264e7c"
      },
      "execution_count": null,
      "outputs": [
        {
          "output_type": "stream",
          "name": "stdout",
          "text": [
            "Молоток забивает гвозди\n",
            "Отвертка закручивает винты\n",
            "Пила распиливает дерево\n",
            "Пила распиливает дерево\n",
            "Отвертка закручивает винты\n",
            "Молоток забивает гвозди\n",
            "Отвертка отремонтирован!\n"
          ]
        }
      ]
    },
    {
      "cell_type": "markdown",
      "source": [
        "#### Про @abstractmethod"
      ],
      "metadata": {
        "id": "yYoNP7s_7wQ3"
      }
    },
    {
      "cell_type": "markdown",
      "source": [
        "Декоратор `@abstractmethod` используется в Python для обозначения методов внутри класса, который является абстрактным базовым классом (Abstract Base Class, или ABC). Этот декоратор импортируется из модуля `abc`, и он необходим для того, чтобы указать, что метод определён как абстрактный — то есть его нельзя использовать напрямую, и он должен быть переопределён в дочерних классах.\n",
        "\n",
        "Давайте более плотно погрузимся в концепцию абстрактного метода и его использование:\n",
        "\n",
        "1. **Абстрактный метод**:\n",
        "   Абстрактный метод — это метод, который объявлен, но не содержит реализации. Таким образом, абстрактный класс определяет интерфейс для серии методов, но выполнение этих методов откладывается на дочерние классы, которые уже реализуют эти методы.\n",
        "\n",
        "2. **Интерфейс и разделение обязанностей**:\n",
        "   Использование абстрактных базовых классов и абстрактных методов позволяет задавать \"шаблонный\" интерфейс для ряда классов. Это обеспечивает единообразие интерфейсов и разделение обязанностей, тем самым улучшая читаемость и поддержку кода.\n",
        "\n",
        "3. **Принудительная реализация**:\n",
        "   Когда разрабатывается библиотека или фреймворк, `@abstractmethod` гарантирует, что разработчики, которые будут использовать ваш код, реализуют определённые методы. Это особенно полезно в больших и сложных проектах с множеством контрибьюторов.\n",
        "\n",
        "4. **Ошибки при несоответствии**:\n",
        "   Если разработчик пытается создать объект абстрактного класса, который содержит абстрактные методы, не реализовав их в дочернем классе, Python выдаст ошибку TypeError. Это предотвращает некорректное использование классов.\n",
        "\n",
        "Вот простой пример использования `@abstractmethod`:\n",
        "\n",
        "```python\n",
        "from abc import ABC, abstractmethod\n",
        "\n",
        "class Shape(ABC):\n",
        "    \n",
        "    @abstractmethod\n",
        "    def area(self):\n",
        "        pass\n",
        "\n",
        "    @abstractmethod\n",
        "    def perimeter(self):\n",
        "        pass\n",
        "\n",
        "class Rectangle(Shape):\n",
        "    \n",
        "    def __init__(self, width, height):\n",
        "        self.width = width\n",
        "        self.height = height\n",
        "    \n",
        "    def area(self):\n",
        "        return self.width * self.height\n",
        "    \n",
        "    # Забудем определить perimeter — получим ошибку при попытке создать экземпляр\n",
        "    # def perimeter(self):\n",
        "    #     return 2 * (self.width + self.height)\n",
        "\n",
        "# rect = Rectangle(2, 3) — вызовет TypeError, потому что метод perimeter не реализован.\n",
        "```\n",
        "\n",
        "В этом примере, если вы попытаетесь создать объект `Rectangle` без определения метода `perimeter`, Python не позволит вам это сделать, потому что `Rectangle` не реализует все абстрактные методы своего базового класса `Shape`."
      ],
      "metadata": {
        "id": "th6yIA1NIdtK"
      }
    },
    {
      "cell_type": "markdown",
      "source": [
        "##Объектно-ориентированная парадигма программирования VS Функциональная парадигма программирования"
      ],
      "metadata": {
        "id": "2ndOvBx_8d4Q"
      }
    },
    {
      "cell_type": "markdown",
      "source": [
        "ООП (объектно-ориентированное программирование) и функциональное программирование — это разные парадигмы, каждая из которых имеет свои преимущества в зависимости от задачи и предпочтений разработчика. ООП хорошо подходит для моделирования сложных систем с четко определенными объектами и взаимоотношениями, в то время как функциональное программирование облегчает работу с неизменяемыми данными и предоставляет мощные абстракции для работы со списками и потоками данных.\n",
        "\n",
        "Чтобы показать, как ООП может быть удобнее для определенных ситуаций, рассмотрим задачу моделирования автомобильного парка. В ООП, мы можем создать класс `Car` для представления автомобиля с методами для запуска, остановки и получения информации о состоянии машины.\n",
        "\n",
        "* Пример:\n"
      ],
      "metadata": {
        "id": "soxTRCkX8MYa"
      }
    },
    {
      "cell_type": "code",
      "source": [
        "class Car:\n",
        "    def __init__(self, brand, model):\n",
        "        self.brand = brand\n",
        "        self.model = model\n",
        "        self.is_running = False\n",
        "\n",
        "    def start_engine(self):\n",
        "        self.is_running = True\n",
        "        print(f\"{self.brand} {self.model} engine started.\")\n",
        "\n",
        "    def stop_engine(self):\n",
        "        self.is_running = False\n",
        "        print(f\"{self.brand} {self.model} engine stopped.\")\n",
        "\n",
        "car1 = Car(\"Toyota\", \"Corolla\")\n",
        "car2 = Car(\"Ford\", \"Focus\")"
      ],
      "metadata": {
        "id": "fjpUYo2-8YKV"
      },
      "execution_count": null,
      "outputs": []
    },
    {
      "cell_type": "code",
      "source": [
        "# Манипуляции с автомобилями\n",
        "car1.start_engine()\n",
        "car2.start_engine()\n",
        "car1.stop_engine()"
      ],
      "metadata": {
        "colab": {
          "base_uri": "https://localhost:8080/"
        },
        "id": "FYfOih0K8wfK",
        "outputId": "aef1047c-c383-433b-946d-f5023ce23c40"
      },
      "execution_count": null,
      "outputs": [
        {
          "output_type": "stream",
          "name": "stdout",
          "text": [
            "Toyota Corolla engine started.\n",
            "Ford Focus engine started.\n",
            "Toyota Corolla engine stopped.\n"
          ]
        }
      ]
    },
    {
      "cell_type": "markdown",
      "source": [
        "Теперь представьте, что вы хотите выполнить те же действия с использованием функциональной парадигмы:"
      ],
      "metadata": {
        "id": "e7YClZGc8Xs3"
      }
    },
    {
      "cell_type": "code",
      "source": [
        "def create_car(brand, model):\n",
        "    return {\"brand\": brand, \"model\": model, \"is_running\": False}\n",
        "\n",
        "def start_engine(car):\n",
        "    new_car = car.copy()\n",
        "    new_car[\"is_running\"] = True\n",
        "    print(f\"{new_car['brand']} {new_car['model']} engine started.\")\n",
        "    return new_car\n",
        "\n",
        "def stop_engine(car):\n",
        "    new_car = car.copy()\n",
        "    new_car[\"is_running\"] = False\n",
        "    print(f\"{new_car['brand']} {new_car['model']} engine stopped.\")\n",
        "    return new_car\n",
        "\n",
        "car1 = create_car(\"Toyota\", \"Corolla\")\n",
        "car2 = create_car(\"Ford\", \"Focus\")"
      ],
      "metadata": {
        "id": "hgNf03am84Rg"
      },
      "execution_count": null,
      "outputs": []
    },
    {
      "cell_type": "code",
      "source": [
        "# Манипуляции с \"автомобилями\"\n",
        "car1 = start_engine(car1)\n",
        "car2 = start_engine(car2)\n",
        "car1 = stop_engine(car1)"
      ],
      "metadata": {
        "colab": {
          "base_uri": "https://localhost:8080/"
        },
        "id": "VQvmF1ds9EBY",
        "outputId": "4a5611db-8bcb-40fc-ba76-3a2dc5c1e687"
      },
      "execution_count": null,
      "outputs": [
        {
          "output_type": "stream",
          "name": "stdout",
          "text": [
            "Toyota Corolla engine started.\n",
            "Ford Focus engine started.\n",
            "Toyota Corolla engine stopped.\n"
          ]
        }
      ]
    },
    {
      "cell_type": "markdown",
      "source": [
        "В функциональном подходе мы имитируем изменение состояния через создание новых копий словарей, чтобы не мутировать исходные объекты, что является довольно общим сценарием для функционального программирования (неизменяемость состояния).\n",
        "\n",
        "Как видно, в ООП стиле код получается более структурированным и понятным в отношении конкретных объектов и их состояний, в то время как функциональный подход может усложнить понимание изменения и отслеживание состояний, так как оно основано на неизменяемости и функциях, которые эту неизменяемость поддерживают. Однако стоит помнить, что предпочтение одной парадигмы перед другой часто зависит от специфических требований проекта и личных предпочтений разработчика."
      ],
      "metadata": {
        "id": "Tdjt8kvL8Sua"
      }
    },
    {
      "cell_type": "markdown",
      "source": [
        "# Специальные (магические) методы"
      ],
      "metadata": {
        "id": "NKCXeihOZZB1"
      }
    },
    {
      "cell_type": "markdown",
      "source": [
        "* В Python есть группа методов, названия которых начинаются и заканчиваются двойным подчеркиванием (\\_\\_init__, \\_\\_module__, \\_\\_doc__). Такие методы предназначены для работы с классами и экземплярами классов, и позволяют выполнять некоторые весьма специфичные операции. Поэтому такие методы обычно называют специальными или магическими.\n",
        "\n",
        "* Также есть группа полей, которые в названии в начале и конце содержат по два символа подчеркивания. Эти поля доступны для каждого класса и/или экземпляра по умолчанию:"
      ],
      "metadata": {
        "id": "rGNpXVZzaauq"
      }
    },
    {
      "cell_type": "markdown",
      "source": [
        "![image.png](data:image/png;base64,iVBORw0KGgoAAAANSUhEUgAAAwcAAAGVCAIAAAAkCxp5AAAACXBIWXMAAA7EAAAOxAGVKw4bAAAgAElEQVR4nOzdeVxM6/8A8GemorRvykVZUmlRVExR0aIUbZYWpSRLZCeXa7lkX3NRtiSKInIpRem2ahERXdm7WSKlvWmZaX5/HN9z587MOTOtlt/n/fLHzHPOec7neZ7POfM458xEYbFYCAAAAADg/z3qtw4AAAAAAOC7ALMiAAAAAACEYFYEAAAAAICBWREAAAAAAEIwKwIAAAAAwMCsCAAAAAAAIZgVAQAAAABgYFYEAAAAAIAQzIoAAAAAADAwKwIAAAAAQAhmRQAAAAAAGGHBV3VdvDav8DHPRZF/7JpgNLqbQgJfzVnxW3Vt3Y3wI+yFuQ+K3JYEQocDAAAA3a4DsyKEkOEo7dgTB9hLsu4Vei5b360hAQAAAAB8A3AHDQAAAAAAoW6fFTEYjBNRsZZu8zXMHSzd5l/8MxFflPugaIixLce/9NwChBCLxTp14Yr5jLkjzKZauS+IS0rt3qh+Yi2trXtCzkxw8VYznWpg5/bb3iPNLa3YovTcArs5SzQnOkyc6Yt3qa719NBzMfjmq4MOOPmtIK/qZFSsloUTvsm78k+CDBzJjtgXNbe0Gjt6jneeg72FTAAAAPANdewOGl/rdgan5RYEb1mrr62ZnJm7fvfhhsam+R7T8RXuRJ8arjoYIfSu/NMEF2+scO/xs+cuX9+/abU5zTD1bv7KrXvbWe3Tp1h1b2w/pd/2Hil6+vzswaDBvyg/+vvZgnXbBvRXCPBxf/+xwi/w91V+XrNd7ONTMlYH7RsxVEVHQ60TVZFs0vWBOxF1ubyicqBy/+6qEAAAAOi07rxW9Kbs/ZXElA0B80zHGUhKiLtMsfSZ6RAcFklvbiHZ6ktN7akLVxZ5zZoyaUI/MdGplmbuDlP2Hz/LYrG6MbYf1OOSFxxX19yWBOJLGxqbriWlBvi4qw1R6dunz1h9XRND/ax7hQihgcr9X2TE+89xlZKQmGk/ub2dlVdYRLIjkqpEREQYDCb3Jl0fuE+VVSciL2urD++uCgEAAICu6M5ZUf6jJwghs3GGeMlEY6PGJvqTZy9JtiooKmYwGGY0A7yENmZUeUVl2YeP3RjbD0pXc0RpThL7v+hje/GlEuL9XmYlaA4fev5K/JYDITMXrb6dfreltZW9BgaDcSUxhUKh6GiMINkRSVWDf1FqbWurrq3j2KTrA7c39OxYfV2zcQbdVSEAAADQFd15B622rh4hJCcrjZfIy8oghBoam0i2qq6tRwg5+i7jKK+qrlEdOKAbw/spBR0+GX4pTldT3UBXa4HHjLhbqR8+fcaXfvxcZezoyWKxdDTU9LU1sMI9oeF7QsPxdfS1NcmrMhylLSkhvvPo6c3LF9KbW25n5GDr8x04oh1hHpe8uJ78V9L50NiEZAErBAAAAHpUd86KpKUkEUJfqmsV5WWxks9fqhFCMlKS+DoUCoVjK0nxfgihjNhwFfjk66C8wsdh0Vd3rlvm4WSHlcTcuMW+grKi/Ju7iSWvSt2XBAafjly32BchtM5/rv8cV2yF1UEHXv3zlrwqGSnJiEPbN+8/NsbOVVJcXHXQ12HiO3A8d4QLOnxitpM99pCZgBUCAAAAPao776AZ6WkjhLBvJ2HScu71ExPVUh+GEMKeDqFSOfc4RldLiErNyLuPl4Sci9G2dG6iN3djbD+lsvflCCFz2tdblm1tjEdPn3E/haM5fIiRns6T5686XdUYnZHxZ4++yIh/kBhzZNvXn6fqysAlpWU/e1W6ws+TvRAyAQAAwLfVnbOiYSqDXKZY7joWlpn/oKGx6WrinXOxN5b6uPft0wchhD0dIi0pwbGVsqK8h7Pd/hMRKVm5TfTmzPwHxyKiF3nO6icm2o2x/ZRG62gKUalnYq410ukfPlWs3XHwc1V1c3MLQij6etIo6xlpOfcaGpsKn5TkPHhkOEqrc1UR6crAPXr6fIWfF/tFxC5WCAAAAHRdN38zf++GlYfPRAXuPFT1pWbo4IFbVy92c7BFCDnOW/70xWufmY6y0lLYmhQKRYhKpVIoCKHfVy1WUpDfeuj4x8+Vg5SVVs338nV17t7AfkpqQ1QOblkbHBYZFRc/QEnRagJtfYDfvuNna+rqXafZVNfUbjkQUl5RKScj5TrNZrGXa+eq4pi7sOv0wA1TGeQ1fWo3VggAAAB0HQW+9gwAAAAAgOAvfgAAAAAAYGBWBAAAAACAEMyKAAAAAAAwMCsCAAAAAEAIZkUAAAAAABiYFQEAAAAAIASzIgAAAAAADMyKAAAAAAAQglkRAAAAAAAGZkUAAAAAAAjBrAgAAAAAAAOzIgAAAAAAhGBWBAAAAACAERZwvfc19B6NAwAAAACgKwbKiHWxBgqLxeqWUAAAAAAAfmhwBw0AAAAAACGYFQEAAAAAYGBWBAAAAACAEMyKAAAAAAAwMCsCAAAAAEAIZkUAAAAAABiYFQEAAAAAIASzIgAAAAAADMyKAAAAAAAQglkRAAAAAAAGZkUAAAAAAAjBrAgAAAAAAAOzIgAAAAAAhBAS7ukdaFk4rZjnuWD2jJ7e0c9n8uyFz1//g72mUikyUlImBnq/Lpk3aIDStw0M9KiktOwzMdf+fvGqobFJiEodOEApbN/WEUNVvnVcAADw8+vxWRHoCmsz41N7tiCE2toYZR/KVwcd8Fq+IfnCCWFhGLif06X4Wyejruz6dbmW+rB+oqIUCuVbRwQAAP+PwB20H4OIiPBw1cEBPm5v3r5/8uzltw4H9JSjZ6N3BC410tMWFxODKREAAPSy3rjk8P5jhe+azfkPn0hJSHjPdFj4v7tpLa2twacjb6Skf/xcJS0pYTtx/KblC0X79kEIFT4p2XXsdPGzVxLi/UaOGLZ6wRxdzREIIRaLdfri1cir8R8qPqsO/GWJt5uzrQVWG9EmPxMhqpCwkJByf0XsLYPBCIu5dunGrXflnwYNUPJzd3F3nIItSs8t2BMS/rrsrbKiwvJ5nlgv6VpPr29oRAgJUanycjIejnYr/Dyx9XWtpy/2mpVd8PDeo2J5WZm5sxzne0zHFpEME81h9gz7yWsWemN79F65MetqBHaDz3/D9rr6hqgju8lrIBpQ3zWbU7PzOZpfnBon1lf05IXYi9dulldUDuivMHPq5MVz3KhUSkbe/b2h4S/elLW0tmIrezjZ7Vy3jKOG9nYWz83xnsG5TrPZs2El3jP+c1wRQs0trZNm+VKp1Oy4cyS1kYwLfkO5vKLSZ+VGYWGhhIhj+E4/fq56V/5RTLSv25LAh8UlEuLiLlMs1yz07iMiQt6NPIebJAySTDC0d/d0tsffYhrpdG0L50NbAp1tLeLvZARs3Hlw81qXKZYIoTvZefPWbDmy7ddp1hPZN+HZ0twHRW5LAjkGJeLQdnOaIUnriPq5E/1P0nAAAEAIIVYPGznJUZVmExIRXVNXn/hXluZEh7OX/8QWrQ7ab+2x4MWbf5pbWvIKi/QmzzgSfoHFYtU3NOpYuRwOi2pson+pqV25de+4aR5MZjuLxdodckZrktPN1MzGJvqNlHQ1U/vYm8nkm/y4rD0W+AX+jr1mMJkvS8tcF6+NikvAV1i1dd+YKa4ZuQV19Q1Xbqaom007GRXLYrHelX9SM7UPiYiura+PiksYamL7uOQFi8XSsXIJiYhmsViNTfTYhNuqNJu/7uZjVelYuQwzmRIcFlldW4cNE1YVi3iYWCzWuGke+46fxV6n5dxTpdm8/fARe7tofZBHwDq+NRANKKa5pUWVZnM5/jZesvXQcX2bmanZ+fUNjXmFRWOnehw9e7Gmrl7DfFrgjoNV1bXYarZe/ut3H+buUp6bs/cMZqpPQOCOg3jP4IuCwyJVaTYmTl7ktRGNC4vFGjnJ8UTkZRaLtWnf0fW7D3OkaEFRsZqp/Sjr6SER0dW1dQ+LS8Y7z/HfsJ28G4mGmyQMkkwwsHM7dOo8R781NDWp0myuJt7B3s4P3Go63aeNwWAwmVbu8+et2cLd1TxbmnP/kSrN5mVpGbbO2w8fVWk2aTn3SFpH0s+d6H+ShgMAAIvF6o1Zkeey9fjbHUdOGU11ZzLb6xsah4+3+/P2X/gi/w3bXRevZbFY9x//rUqzKXr6nKOqquqa4RPs/zhzAS/ZtO8ozWF2e3s70SY/NGuPBao0G/Z/I0yn7j4W1t7ezmKxXv/zTpVmE5vw74xh55FTWhZOTfRm9kpaW9tUaTanL15hcX32s099dKxcsM7H7Dp6Wt9mJoPJJBkmlmCzIpIaSAYUe8sxK6qpqx9mMuVMzDWOjnpZWqZKs8l9UISX8JwVEW3O3TM8Z0UfP1eOnORoN2cxNisiqo18XLC5QmMTXdvS+cmzlxzbZuY/UKXZzFnxG15yO/0ultjkA4HDh5s8DJJMEGRW9Olzla7V9LDouGMR0dqWzuUVldxdyrOlRLMiktYR9XPn+p+k4QAAwGKxeuO5InOaIf7aeIxeReWX8orPEuL9XmYlaA4fev5K/JYDITMXrb6dfhe7/aExfEh/Bbm5qzcfOnW++PkrfNuComIGg2FGM8BLaGNGlVdUln34SLTJj87azLg0J6k0J+lV9s3suHOONpNCz1+6+GciQij/0ROEkNm4f/t2orFRYxOd/akjBoNxJTGFQqHoaPznZiKDwbgcf5ve3KKvrYkXWk2g4a9NDPWra+telpaRDJOASGogGVCeVT0sLmG2txsb6HGUD1MZZDp2TETs9XflnxhMJlEkRJsLaG/o2bH6umbjDMhr4zsuTCYz9HyM+lBVbfXhHNtiDxKxD4TpOAOEUF7hY0EGgn24BUkPRJAJfPVXkNuw1G/7Hyf2hoZvCPBTVpTnuRpJSzmQtI6onzvd/5jONRwA8NPrjeeK5GSk8dey0pIIoU+VVQOV+wcdPhl+KU5XU91AV2uBx4y4W6kfPn1GCImLicWdCj4eeSn6etLhM1EDlfsv8XbzcLKrrq1HCDn6cj4sUlVdozpwAM9NeqF1vUOISh2o3H/Xr8vvZOUl3MnwcLKrratHCMnJ/tu38rIyCKGGxibs7cfPVcaOniwWS0dDTV9bAyvcExq+JzQcez1iqIqW+jB8c0V5Wfy1rLQUQqi2rgEhRDRMgiOqgXxAueuprq1D/0shdhQKJfxg0KmoWNPpPiwWCysczfVpR7S5IB6XvLie/FfS+dDYhGTy2viOy57QcGFh4ZiQvdx7ERcTRQgpyMngJaJ9+/Tt0wd7FIZ8IDiG+9Hfz/iGQZQJwWGRwWGRfUREBvRXsLMwXT6Px5M39hamvx8MYba3204cT9RpJC3lRpwkvPu5K/1P1HAAAOiNWVF947/PsVZW1yCEZKWk8gofh0Vf3bluGT53iblxC19toHL/oDUBQWsCnjx7efz8pQ17/tBWHy4p3g8hlBEbrsLrI5PnJnpaGj3btt4lLCQ0+Bdl7PwuLSWJEPpSXYvPZj5/qUYIyUh9/ZxQVpR/czex5FWp+5LA4NOR6xb7IoTW+c/1n+PKbG8vffvec9n6bYeOY88UI4Rq6urxHVVV1yCE5GWlyYdJECQ1kA8oN0kJcYRQdW29kgLnxYm2NkZkXEJ/ebnIP3apDRls572kQ5vzFXT4xGwn++Gqg/nWxndc1i7yqW9onB+4NeHs0QFKiuzbDlRWQv/7vMfU1je0tLbKy8rwHQiO4R4yeCB5GCSZsGKe5wo/TwaTWfLyjd/aLdW1dZtWLOTokF3HwlgsRKVQgw6fOLSF8wFq8pZyf7eOLEkI+rnT/U/ScAAA6I07aPcePsFfZ+Y9UFKQHzL4l7L35Yjt5lpbG+PR02f4f/RxOhpqvy2djxD65335GF0tISo1I+8+vjTkXIy2pXMTvZlok55p0DfT1sZ4XfZu5IhhCCEjPW2EUHpuAb40LedePzFRjv/7ag4fYqSn8+S/dxWFqNThqoPNaYaFxSV4YV7hY/x11r1CJQX5YSqDBBwmEiQ1CDigOH0tDWEhobzCIu5F4Zeuvf9YsWn5ghFDVYi+0E6yObmktOxnr0o5vqxEVBvfcRERFl7rP7e/gtym/cc4tlWUl9UYNiQz/wFecis9GyFkOm6MgAOBD7eA6cEzEzDCQkI6GmoW48flPXzMsSj3QdHFPxNXLZizdK57XFIq+17YcbcUC5hK5TztkLSOqJ873f98Gw4A+P+sN2ZFN//KvBx/u4ne/Oftvy7+mbh64RwKhTJaR1OISj0Tc62RTv/wqWLtjoOfq6qbm1sQQpl594ePt7uZmklvbqlraDgeeVm8n5jxGD1lRXkPZ7v9JyJSsnKb6M2Z+Q+ORUQv8pzVT0yUaJNeaF2vqaquWb/ncGtrm6+rM0JomMoglymWu46FZeY/aGhsupp451zsjaU+7n379Im+njTKekZazr2GxqbCJyU5Dx4ZjtJir4rBZL54U5Z1r5D9WtqttOwL127WNzTGp6RHXo3nO0wCIqmBZEB5ViUvKzPb2f6PMxfuFjxsbWt79rp08uyF63cfbmhsOhkVqzdS3d7SjCQSos35NuHR0+cr/Lzwiw3ktZGMC76tEJW6cdmClKxc9gkQZn3AvNvpd09duFJb35BX+Hj3sTPujlOGDh5I0o08h1uQMBBBJmDozS0FRcV/3c0foz2Svby5pXXdzkO6miP83F0Wec3SGjF8w54/Gul0nl3H0VLsiTFpSQmO1UhaR9TPXel/8oYDAP4/o3To//2doGXhNHeW071HTwqLS5QVFQJ83F2n2WCL/rz9V3BYZPmnzwOUFK0m0BTkZPcdP1uQcFFGSvJy/O3wS3+WvnvPYrH0tTV/XeyLnbyY7e2h52Jibtz6+LlykLKSp4u9r6szdm2AaJMfF/tf/KBQKJLi4kZ62svnzR41Uh0rZDAYh89Exd5MqfpSM3TwwLmuTm4OtgghFot1/Pyl6OtJ5RWVcjJSU63M1/n7iogIs/8qj6y01Hij0UFrlmCPEOlaT7edOL780+fC4hIlBfkl3q7T7ayxNUmGieYw++PnKpImTLUyPxq0nqQGkgFFCLW0tmqYO+zfuHqG/ddgmO3tR8IvxNy4VfmlWllRwcF64op5nsfORQefjrx4dA/+7O2UOYtHa2ty/14Rz82xnsF/lAghNG3uUq0Rw/DfK1KUk7194YSwkBBCaE/ImevJadjvFRHVRjQu6L9/AMd3zeb35RU3z4cI/ffaSVJa9uEzUW/K3klKiDvZWKzzn4v9lDlRN0pLSvAcbpIwSDLB0N698ks1QohKpSjKyU00NtywdL6wsBD+e0Xb/zh59vL1+LNHNYcPQQgVP3/l6LvMa/rULSv92VvB3VJR0b5PX7z2cLL7fdXXNd9/rDCb7nP2YJDpOAPyJOHZz53of5KGAwAA6oVZEfghcEwLukXw6ciX/7w9GrS+G+sEAAAAeg78xQ8AAAAAAIQE/w7aEGPbTtT+IPGSnMw3uzrN888LCOLbhg0AAACAbwLuoAEAAAAAIAR30AAAAAAAMDArAgAAAABACGZFAAAAAAAYmBUBAAAAACAEsyIAAAAAAAzMigAAAAAAEIJZEQAAAAAABmZFAAAAAAAIwawIAAAAAAADsyIAAAAAAIQE/zto72voPRoHAAAAAEBXDJQR62IN8HfQAAAAAAAQgjtoAAAAAAAYmBUBAAAAACAEsyIAAAAAAAzMigAAAAAAEIJZEQAAAAAABmZFAAAAAAAIwawIAAAAAAADsyIAAAAAAIRgVgQAAAAAgIFZEQAAAAAAQjArAgAAAADAwKwIAAAAAAAhmBUBAAAAAGCEe3l/AZt2fa76EhOyDyGkaz19sdcs/zmuJOs/ffH6dmbOct/ZvRXgd2Ty7IXPX/+DvaZSKTJSUiYGer8umTdogNK3DQwATFJa9pmYa3+/eNXQ2CREpQ4coBS2b+uIoSrfOi4AAOik3p4VsXucfIXvOgdPn29pae2FYL5P1mbGp/ZsQQi1tTHKPpSvDjrgtXxD8oUTwsLfcuAAQAhdir91MurKrl+Xa6kP6ycqSqFQvnVEAADQVXAH7ccgIiI8XHVwgI/bm7fvnzx7+a3DAQAdPRu9I3CpkZ62uJgYTIkAAD+HHr/k0NLauvtY2J+301paW6dZmTfR6fgi9jto7e2skxdiL167WV5ROaC/wsypkxfPcfNZtTEj7z5CaIixbdbVCLhzJEQVEhYSUu6viL1lMBhhMdcu3bj1rvzToAFKfu4u7o5TsEXpuQV7QsJfl71VVlRYPs/T2dYCIaRrPb2+oREhJESlysvJeDjarfDzxNbHxiK74OG9R8XysjJzZznO95iOLWppbQ0+HXkjJf3j5yppSQnbieM3LV8o2rcPQojmMHuG/eQ1C72xPXqv3IgPk/+G7XX1DVFHdpPXwGKxTl+8Gnk1/kPFZ9WBvyzxdsNC9V2zOTU7n6P5xalxYn1FufOESqVk5N3fGxr+4k1ZS+vXK4seTnY71y3jqIFnmlGplNwHRW5LAjlWjji03ZxmSNLJJP1J0mSSrlY3m/brEl9fV2eSHCBqAvs6RHsn6lWagydRSOwHaXNL66RZvlQqNTvu3MfPVe/KP4qJ9nVbEviwuERCXNxliuWahd59RES2BZ+4cjO5ICFaROTr6cVn1aY+IiIMJoPn3oWFhIj6ytDevfJL9ZaV/nNnOWLrY2mmICdbkHCRJDyOvWhZOK2Y57lg9ozyikqflRuFhYUSIo6RDDrJ8BH1P1E5SVUAgO8Rq4cFbNo13nnOw7+fVVXXrN99WJVmM8t/DbZIx8olJCIae7310HF9m5mp2fn1DY15hUVjp3ocPXuRxWL5Bf7utXxDTwf5fbL2WOAX+Dv2msFkviwtc128NiouAV9h1dZ9Y6a4ZuQW1NU3XLmZom427WRULIvFelf+Sc3UPiQiura+PiouYaiJ7eOSFyy2Dm9soscm3Fal2fx1Nx+rSsfKZZjJlOCwyOrausS/sjQnOmBVsVis1UH7rT0WvHjzT3NLS15hkd7kGUfCL2CLxk3z2Hf8LPY6LeeeKs3m7YeP2NtF64M8AtbxrWF3yBmtSU43UzMbm+g3UtLVTO1jbybjDWxuaVGl2VyOv42X8MyTmrp6DfNpgTsOVlXXYqvZevmv332Yu0uJ0izn/iNVms3L0jJstbcfPqrSbNJy7pF0Mnl/kjSZpKtHmE4Ni75KnhVETWBHsneevUoSEvtBGhwWqUqzMXHyYrFYBUXFaqb2o6ynh0REV9fWPSwuGe88x3/DdhaL9ejvZ6o0m+TMHGyr+oZGNVP7G8lpRHsnidbAzk3LwglPJBaLtWb7gaEmtgZ2buThcRg5yfFE5GUWi7Vp39H1uw8zme0s0kEnCYmo/4nKyccCAPC96dk7aGXvy28kp/262FdvpLqcjHTQ2oDBvyhzr1Zb3xBx+c9lvrMnmRhJiPcbq6+bdyNqibdbj8b2Q0jOyBlibDvE2Hb4eDtLt/kPHj/Fph0IoTdl768kpmwImGc6zkBSQtxliqXPTIfgsEh6c8tA5f4vMuL957hKSUjMtJ/c3s7KKyxir7afmOh0O2sx0b4v3pThhUb6Ost9Z8tISdpOHO89wyHkXAyzvb2hselaUmqAj7vaEJW+ffqM1dc1MdTPulcoeBNIavhSU3vqwpVFXrOmTJrQT0x0qqWZu8OU/cfPYg3kRpQnlV+qm1taXaZYyclIkUTSiTQj6WSS/uTbaTy7WpDOFKQJnRsyviF9qqw6EXlZW3049pbe3NLWxtDX1vSf4yojJamnpbFlxaKbqZmPS16MGqk+VGXg9dtp2Jp3svNEhIUtJ9B47pdvtBNphnkPn2DX5BgMxu30u+NGj+KuhyM8nprozVeT7sx2tue4tCZ4SET9T1Te9cMHANDLenZWVFD0N0JorL4u9laISqWN4XFGe1hcwmxvNzbQ69FgfkTWZsalOUmlOUmvsm9mx51ztJkUev7SxT8TEUL5j54ghMzGGeIrTzQ2amyisz91xGAwriSmUCgUHY0R7NUyGIzL8bfpzS362pp4oRXb55aJoX51bd3L0jIJ8X4vsxI0hw89fyV+y4GQmYtW306/i9+lEgRJDQVFxQwGw4xmgK9MGzOqvKKy7MNHnlUR5ckwlUGmY8dExF5/V/6JwWQSRdKJNBOkkxFXf/LtNJ5dLUg8gjShc0PGN6S9oWfH6uuajfs6WNiDROxbmY4zQAjlFT5GCDlOnpSSlYvNHZPSsi0n0MRE+3YuWh0NNUU5mfTcAoRQZn5h3759jPS0uevhCI8bk8kMPR+jPlSVfOZEHhJR/xOVd/3wAQD0sp6dFdXWNyCEZKX//R+8jJQk92rVtXUIIVlpHosARohKHajcf9evy+VkpBPuZCCEauvqEUJystL4OvKyMgihhsYm7O3Hz1UjzKb9uitYW324vrYGVrgnNHyIsa2a6dS1Ow6OGKqipT4M31xRXhZ/jQ1ZbV0DQijo8Elbr0WxN5OFhIQWeMyYbG5CcCmHEFEN1bX1CCFH32XY9bAhxraLf9uBEKqqruFZD1GeUCiU8INBuhpqptN91CbYDzG2ffriteCbk+DbyUT9Sd5pRF2NENoWfGKIsa2GucMk13nBpyMZDEYnmtCJISMJCSH0uOTF9eS/Ni1fgJeIi4kihBTkZPAS0b59+vbpg13UcbKxaKI3p2TmNLe0pucWOFhP7Eq0Vqa05MxchFD8nQx7C1MqhfOsxR0etz2h4aHnL/+2bD7JOnxDIup/knHp+uEDAOhNPfu0NXaaqKqpVVaUx0q+1NRxryYpIY4Qqq6tV1KQ79F4fnTCQkKDf1HGPpKlpSQRQl+qa/HPs89fqhHbvFNZUf7N3cSSV6XuSwKDT0euW+yLEFrnP9d/jiuzvb307XvPZeu3HTq+Z8NKbP2aunp8R9i8RF5WOq/wcVj01Z3rlnk42WGLYm7c6lDMJDVIivdDCGXEhqsMHCBIVSR50tbGiIxL6C8vF/nHLrUhg+28l3d2jx4AACAASURBVHRocwz3F6n4djLP/uTbaTy7Gnu7ecVCX1dnBoPxuOSl75rNTc3NGwL8BG8CIu1wEiQhIYSCDp+Y7WQ/XHUwXjJQWQn9bzaAqa1vaGltxWaNQwb9ojdSPTEtW0RERFhIeCLt34ttnYjW2tR46aZd9OaW5Iyc8IPbMvMecKzAHR63tYt86hsa5wduTTh7dICSIl7OPehkGUvQ/0TlXT98AAC9rGevFY0bPYpCoWTlfz2Ltbez7hcVc6+mr6UhLCTE8ewLRogKvx3wr7Y2xuuydyNHDEMIYfcRsDsLmLSce/3ERNkv/yCENIcPMdLTefL8FXuhEJU6XHWwOc2wsLgEL8TufWCy7hUqKcgPUxlU9r4cIWT+v0+1tjbGo6fPiJ774YmkhjG6WkJUKvY1Q0zIuRhtS+cmejPPqkjyJPzStfcfKzYtXzBiqArRt8RJNsfioXIlm4CdzNGffDuNZ1ezVygsLDxaR3O80Wj2NcmbgOvckJGElJSW/exVKf71OoyivKzGsCGZ+f9OUG6lZyOETMeNwd462lhk5N2/cO2mzUQT/MtonYvWeIwes739wMkI8X6iY3RGctTAMzxuIsLCa/3n9leQ27T/GFZCNOgkIRH1P1F51w8fAEAv69k5x4D+Cp4u9nuPh+c/fFJTV7/jyKnSdx+4V5OXlZntbP/HmQt3Cx62trU9e106efbC9bsPI4SkJSU+fa6qrq0j+qT8/6Oqumb9nsOtrW3YN7eHqQxymWK561hYZv6Dhsamq4l3zsXeWOrj3rdPn+jrSaOsZ6Tl3GtobCp8UpLz4JHhKC32qhhM5os3ZVn3CvW0NPDCW2nZF67drG9ojE9Jj7wav3rhHAqFMlpHU4hKPRNzrZFO//CpYu2Og5+rqpv/+6wxOZIalBXlPZzt9p+ISMnKbaI3Z+Y/OBYRvchzVj8xUZ5VEeVJQ2PTyahYvZHq9pZmJJGQpBn2JJO0pATHJiSdTNKffDuNZ1ezV9hEb75b8PBuQeEYHU32cpImCNLhJEhCevT0+Qo/L+573+sD5t1Ov3vqwpXa+oa8wse7j51xd5wydPBAbOk0K3M6vTkj776DlTnJfgWJVkRE2HycQXjMNXtLM+4pL1F43ISo1I3LFqRk5WKTOaJBJwmJqP+Jyrt++AAAelmP/17R76sWS0tKLtm4o76h0Zxm6Gxr8eHTZ+7VNq9cJCsjtXr7gcov1cqKCg7WE1fM80QIzXV19lu7Zew0jwtH9vB8yvLnhn0HDSFEoVAkxcWN9LQvH9+vPkwVW7p3w8rDZ6ICdx6q+lIzdPDArasXuznYIoRcp9lU19RuORBSXlEpJyPlOs1msdfXP6uyJzR8T2g4QkhWWmq80Wj2uzMudlY3UzN3HDmlpCC/I3DpdDtrhJDaEJWDW9YGh0VGxcUPUFK0mkBbH+C37/jZmrp67HPo6NmLR89exCuZ4OLNHn/Apl1Hg9aT1PD7qsVKCvJbDx3/+LlykLLSqvle5L/WwzNPjp2LrqmrD925ke9vCfLc3HHe8qcvXvvMdMQfgKNQKEJUKpVCIelkkv7k22k8uxqzLfjEtuATVCpFSUF+qqX5mkU+gjSBfQW+e+eJJKRhKoO8pk/l3mSisdGxHb8dPhN14GSEpIT4dDurdf5z8aWK8rLGBnpPX74xMRpNMiICRmttZpyQmjmV16yXKDyeJhiNthg/dvvhk6KifYkGnTwkov7nWS4iItyJsQAAfEMUuJwLkGB/k66jgk9Hvvzn7dGg9d1Y50+gJ7q6i3ooJHvvJSaG+r8tFegBZwAA+B7AUzsAgO7EYDKb6M03ktNelr71neX0rcMBAIAOEPQOGnYfp6MeJF4i/2E9AfH8bf7eDAAAICA6vdnYyUtMtO/BLWvZv+0FAADfP7iDBgAAAACAENxBAwAAAADAwKwIAAAAAAAhmBUBAAAAAGBgVgQAAAAAgBDMigAAAAAAMDArAgAAAABACGZFAAAAAAAYmBUBAAAAACAEsyIAAAAAAAzMigAAAAAAEBL876C9r6H3aBwAAAAAAF0xUEasizXA30EDAAAAAEAI7qABAAAAAGBgVgQAAAAAgBDMigAAAAAAMDArAgAAAABACGZFAAAAAAAYmBUBAAAAACAEsyIAAAAAAAzMigAAAAAAEIJZEQAAAAAABmZFAAAAAAAIwawIAAAAAAADsyIAAAAAAIRgVgQAAAAAgBH+1gEAQpNnL3z++h/sNZVKkZGSMjHQ+3XJvEEDlL5tYACA78rm/ccGKCn6e8361oGAjvn9YGh7e/u6xb63M3Iu/pl4KXTft47oP9yWBM5zc7E2pZGsszrowJWbyTwXbQjwWzB7Rs+E1oMoLBbrW8cAeJs8e6HqoF9O7dmCEGprY5R9KF8ddKC2rj75wglhYZjOAgAQQqigqHj5lj2pMaf79unzrWMBHVNVXROwaVfhk6dDBg88uHmN1ojh3zqi/3hc8mJ+4O+3L5yQkpAQZH0LVz+N4UNCd27s6cB6FNxB+zGIiAgPVx0c4OP25u37J89efutwAADfi51HTvu6OsGU6EckLytz8eiekrTrSedDv7cpEUJIV3PEiKGqYRfjvnUgvQouOfxIhKhCwkJCyv0VsbcMBiMs5tqlG7felX8aNEDJz93F3XEKtig9t2BPSPjrsrfKigrL53k621oghHStp9c3NCKEhKhUeTkZD0e7FX6e2Pq61tMXe83KLnh471GxvKzM3FmO8z2mY4taWluDT0feSEn/+LlKWlLCduL4TcsXivbtgxCiOcyeYT95zUJvbI/eKzdmXY3AbvD5b9heV98QdWQ3eQ0sFuv0xauRV+M/VHxWHfjLEm83LFTfNZtTs/M5ml+cGifWV/TkhdiL126WV1QO6K8wc+rkxXPcqFRKRt79vaHhL96UtbS2Yit7ONntXLeMfXOiOvuJivKMASGkZeG0Yp7ngtkzyisqfVZuFBYWSog41t7O4o7BL3ALz8rFxcTYSyxc/V6XvcPf9hMT/Tv1GvlQcscwbvSoKzeTCxKiRUS+Hr8+qzb1ERE5uWezob175ZfqLSv9585yxDPBe+VGBTnZgoSLJB2O54D/HFfs7eqgA6/+eXvtdDBRv9EcPPH1m1taJ83ypVKp2XHnyNOJpKUk+UmSQkRhcyziiFCQhCFKgNwHRW5LAjnWjDi03ZxmSBInz7ShUilE5SRVsXvw5GlhccmxHb+h7yPDBRxinOs0mz0bVpIPFlEXGdq7ezrb40mCaaTTtS2cD20J5HvSI+nh0bazfF2dl851RwgVP3/1+8GQR38/l5GWnD7FavVCb2EhISTw2Y+kXSSLvpMkRAjZW5rtDT3jP8eVO/cERHLO6Yn06wYs8L2y9ljgF/g79prBZL4sLXNdvDYqLgFfYdXWfWOmuGbkFtTVN1y5maJuNu1kVCyLxXpX/knN1D4kIrq2vj4qLmGoie3jkhcsFkvHyiUkIprFYjU20WMTbqvSbP66m49VpWPlMsxkSnBYZHVtXeJfWZoTHbCqWCzW6qD91h4LXrz5p7mlJa+wSG/yjCPhF7BF46Z57Dt+FnudlnNPlWbz9sNH7O2i9UEeAev41rA75IzWJKebqZmNTfQbKelqpvaxN5PxBja3tKjSbC7H38ZLth46rm8zMzU7v76hMa+waOxUj6NnL9bU1WuYTwvccbCquhZbzdbLf/3uwzx7lbtOkhhGTnI8EXmZxWJt2nd0/e7DTGY7UQxElXOY4OJ9O/0u9vpE5OWRkxzJh5JnDI/+fqZKs0nOzMFWqG9oVDO1v5GcxmKxDOzctCyc8J5nsVhrth8YamJrYOfGt7F4enwNadt+x3nLSfqNff3gsEhVmo2Jkxe+iCidSFpKkp8kKUQSNlGEgicMzwTIuf9IlWbzsrQMW+fth4+qNJu0nHvkcRKlDVE5SVXsthwIcfBdxl7ybTOcJdgQY6b6BATuOEg+WCTxGNi5HTp1nmPvDU1NqjSbq4l3OKrtUFLp28z848wFFotVW18/2nbW5v3HqqprH/39jOboueVACLaOgGc/8sOEaBG7b5iELBarqrp2iLFtSlYuj5HmMmnWvEXrgzgKezn9ug7uoH3XkjNyhhjbDjG2HT7eztJt/oPHT7EDDyH0puz9lcSUDQHzTMcZSEqIu0yx9JnpEBwWSW9uGajc/0VGvP8cVykJiZn2k9vbWXmFRezV9hMTnW5nLSba98WbMrzQSF9nue9sGSlJ24njvWc4hJyLYba3NzQ2XUtKDfBxVxui0rdPn7H6uiaG+ln3CgVvAkkNX2pqT124sshr1pRJE/qJiU61NHN3mLL/+FkWwbNutfUNEZf/XOY7e5KJkYR4v7H6unk3opZ4u1V+qW5uaXWZYiUnI9XRHhYkhiZ689WkO7Od7alUClEMAu6utbVNUkKco5BkKHnGMGqk+lCVgddvp2GL7mTniQgLW074+kTkRJph3sMn2P+PGQzG7fS740aPEryxnfCpsupE5GVt9f9c/+eZToK0FHHlZ9eTkCPCjiYMe+eTrEYSJ1HaEJUL3uTcB490NNRIourlDBdwiElwDFYX48F1LqkiryYICwttWrFQTkZq1Ej1AG+3yKvxNXX1Hd07d7sEXITr/STEKpSTkRqo3D+v8HEnmox6Pf26BcyKvmvWZsalOUmlOUmvsm9mx51ztJkUev7SxT8TEUL5j54ghMzGGeIrTzQ2amyisz91xGAwriSmUCgUHY0R7NUyGIzL8bfpzS362pp4odWEf79oYGKoX11b97K0TEK838usBM3hQ89fid9yIGTmotW30+/iNx0EQVJDQVExg8EwoxngK9PGjCqvqCz78JFnVQ+LS5jt7cYGehzlw1QGmY4dExF7/V35JwaTKXhsgsTAZDJDz8eoD1XFzllEMQiC2d5eVV0jLyvDUc53KDliQAg5Tp6UkpWLfdIkpWVbTqCJifbFFuloqCnKyaTnFiCEMvML+/btY6SnLWBjO2dv6Nmx+rpm4wzYC3mmkyBJi7jys+tJyBFhhxKGu/OJkMRJlDZE5YI3+e2HT78oKZJE1ZsZjgQ7L5HjGKwuxoPrXFIVFBWP0RmJ3TJDCI3W0WQwmY+fPu9EADwPE76LMN8kCXGDBii9L/9Evl8ivZx+3QKeK/oxCFGpA5X77/p1+Z2svIQ7GR5OdrV19QghOVlpfB3s47ahsQl7+/FzlbGjJ4vF0tFQ09fWwAr3hIbvCQ3HXo8YqqKlPgzfXFFeFn8tKy2FEKqta0AIBR0+GX4pTldT3UBXa4HHjLhbqR8+fe5Q8EQ1VNfWI4QcfTkf5qiqrlEdOIC7nuraOoSQrLQkRzmFQgk/GHQqKtZ0ug/+X5DRbBM+Enxj2BMaLiwsHBOylzwGQVRUfmEwmdw/rMB3KDliQAg52VgEn45MycyxNjNJzy04vPVX9gqtTGnJmblTrczj72TYW5hSKVTBG4unB0JIX4A+fFzy4nryX0nnQ2MT/vPtXJ7pJEhLeeYneRKSh80dYYcShrvzSRCnOu+0IUknQY679nZWI52OT4h56s0MRwIkMznuwSKPJzgsMjgsso+IyID+CnYWpsvneXKv07mkOnAy4sDJCITQrKk2eKGMlCRCqLa+QZC2kLdLkEXsTfgmSYjpJyZaJ9jwcevl9OsWMCv6kQgLCQ3+RRk7v0hLSSKEvlTX4h8/n79Uo/8dtwghZUX5N3cTS16Vui8JDD4duW6xL0Jonf9c/zmuzPb20rfvPZet33boOPaoI0KI/bJwVXUNQkheVjqv8HFY9NWd65Z5ONlhi2Ju3OpQzCQ1SIr3QwhlxIar8JoDccPuPVXX1ispyHMsamtjRMYl9JeXi/xjl9qQwXbeSwQMj28Maxf51Dc0zg/cmnD26AAlRZIY+Hpc8lx14ADuzzC+Q8kRA0JoyKBf9EaqJ6Zli4iICAsJT6QZsldobWq8dNMuenNLckZO+MFtmXkPBGwslh7Ya+yxZb6NCjp8YraT/XDVwRzlPNOJb0t55iffJCQPm2eEgicMd+djKBTOGxlkqU6QNkTlAh53VCpFSkKi7r/PL3PozQxHAiQzOe7BIo9nxTzPFX6eDCaz5OUbv7VbqmvrNq1YyLFO55Jq9QLvpXPdvVdurK6txQuxrJaSFOhr6uTtEmQR7pskIa62rmGgcn/yBhLp5fTrFnAH7UfS1sZ4XfZu5IhhCCHstgh2owSTlnOvn5go++UfhJDm8CFGejpPnr9iLxSiUoerDjanGRYWl+CF7HeOs+4VKinID1MZVPa+HCFk/r8P3bY2xqOnzzr0GApJDWN0tYSo1Iy8+/jKIeditC2dm+jNPKvS19IQFhLieEYKE37p2vuPFZuWLxgxVIX7TEGCbwwiwsJr/ef2V5DbtP8YeQx8ZeUXGurpcJfzHUqOGDCONhYZefcvXLtpM9EE/zIaxniMHrO9/cDJCPF+omN0Rgre2I5KSst+9qqU40tAGJ7pJGDScuRnV5KQKELBE4a787FdU6mcJ0+SOInShqhc8Cb/oqz4saKSJP7ezHAk8HmJJ56DJUg8wkJCOhpqFuPH5T0kfPylc0k1WkfzwZMSBoOBvX3w+Cm2L75t4dsuvovYfZMkxH38XNnpWVEvp1+3gFnRD6Oqumb9nsOtrW2+rs4IoWEqg1ymWO46FpaZ/6Chselq4p1zsTeW+rj37dMn+nrSKOsZaTn3GhqbCp+U5Dx4ZDhKi70qBpP54k1Z1r1CPS0NvPBWWvaFazfrGxrjU9Ijr8avXjiHQqGM1tEUolLPxFxrpNM/fKpYu+Pg56rqZoEfnEQIkdSgrCjv4Wy3/0RESlZuE705M//BsYjoRZ6z+omJ8qxKXlZmtrP9H2cu3C142NrW9ux16eTZC9fvPtzQ2HQyKlZvpLq9pVlHe1WQGISo1I3LFqRk5WbmPyCKge+O6hoariSmOFibcy8iGUqeMWAl06zM6fTmjLz7DlacdYqICJuPMwiPuWZvacb+kd/RDufr0dPnK/y8eF4G4JlOgrQUceVnV5KQZ4QdTRiOzsceiZDmumBAEidR2hCVC97kCUajHzx5ShJ8r2U4RsAh5onnYAkSD725paCo+K+7+WO0RyICnUsq7xkOTCZzx5FTNXX1BUXFR8Ivzpw6WU5GmtceOtYuvos49H4SYhVWVH55/7HCdOyYDjUZ18vp1y3gDtp3DfsOGkKIQqFIiosb6WlfPr5ffZgqtnTvhpWHz0QF7jxU9aVm6OCBW1cvdnOwRQi5TrOprqndciCkvKJSTkbKdZrNYq+v9xfwW+yy0lLjjUZvCPDD9+ViZ3UzNXPHkVNKCvI7ApdOt7NGCKkNUTm4ZW1wWGRUXPwAJUWrCbT1AX77jp+tqavHjuSjZy8ePXsRr2SCizd7/AGbdh0NWk9Sw++rFispyG89dPzj58pBykqr5nthcz4im1cukpWRWr39QOWXamVFBQfriSvmeR47F11TVx+6c2OHrhLhBIlhgtFoi/Fjtx8+efN8CM8Y+O5llPUMhJD3Ss5ffbVw9UuNOU00lEQxCFGpivKyxgZ6T1++MTEazb07azPjhNTMqVyf+h3tcHLDVAZ5TZ/KcxHPdELESYvhmZ98k7CjEZ6OvtrRhME7X1S079MXr31mOmIPSyGEKBSKEJVKpVDI4yRKG57lIiLCAjbZxnx8WHQc9ssuRMH3UIZv3n/s3JUbz9Kvc8x4BElmnojSiSQe7LkiKpWiKCc30dhww9L53Jt3JalkpaXOBe/YFnzCaKq7tKSks61F4KK5+FJBzn4k7SJfxK2XkxCrOSPvvpyM1NjRugihHUdOnbpwpSg5VsCfusb0zgm2G8Ff/AAIcf0UXrcIPh358p+32HkBDDG2vRN9iuPpgdsZd3cfO5Mac7pzddp7LzEx1P+N1yfBt9UT6QSIuMxfOclkLPaTg73M1nNR4vnQzv1v5Of205z9ZixcbU4z/CbZ9a3AHTQAfjAMJrOJ3nwjOe1l6VvfWU7fOhzwja1d5BMVF9/c0oGfKugW9x4VU6hUmBL9xB4Wl5S+++Az0+FbB9Kr4A4aAL2hNCeJu3CymclkM5OOVkWnNxs7eYmJ9j24Ze0A0t+qAf8fGBvoWU6ghUVf7eUfu3v09zP220ng57Pz6OkdgUu5f3j25wZ30AAAAAAAEII7aAAAAAAAGJgVAQAAAAAgBLMiAAAAAAAMzIoAAAAAABCCWREAAAAAAAZmRQAAAAAACMGsCAAAAAAAA7MiAAAAAACEen9WFLBpl+vitb28UwAAAABgfj8Yunn/scYmelxS6iz/H+kTuRcih2tFAAAAwP8jS+e6vygtM7BzPRF1+fdVi751OB3QC5H39l/8CNi063PVl5iQfb25UwAAAAAAvnr8r8O2tLbuPhb25+20ltbWaVbmTXQ6vojBYITFXLt049a78k+DBij5ubu4O07BFrW3s05eiL147WZ5ReWA/gozp05ePMeNSv1/98eZLVz9Xpe9w9/2ExP9O/UaIu06LQunFfM8F8yeUV5R6bNyo7Cw0LjRo67cTC5IiBYR+TrcPqs29REROblns6G9e+WX6i0r/efOcsQWpecWeK/cqCAnW5BwESHEYrFOX7waeTX+Q8Vn1YG/LPF2c7a1wNbUtZ6+2GuW/xxX7O3qoAOv/nl77XSw75rNqdn5HA0pTo2jOXji6ze3tE6a5UulUrPjzuFVZRc8vPeoWF5WZu4sx/ke07ENSVqqaz29vqERISREpcrLyXg42q3w88QWtbS2Bp+OvJGS/vFzlbSkhO3E8ZuWLxTt24ckbI5FHBFm5N3fGxr+4k1ZS+vXv0zu4WS3c90yjmby7U+i5vis2vTsden54B1qQ1TiklJXbt37IPGSnIxUfEr6hj1HVvjN9nV1JomcpJfYkdRAPtBYP+Ncp9ns2bCSfL9EhzDJWJPEgIiPBZ478gvcQpSERDnTiVQnXyTIoGwLPkF0bHIfyAkRx0gSOz23YE9I+Ouyt8qKCsvneWLBE61PdJCOtpn16xJfX1dn7uTBkRx3OKL6+4mKEnVy7oMityWBHJtEHNpuTjMkTwwczx4jqZakM4myl6icpCqeXYfDDyW+6cfzkCEZC/IzJ9GJjl1Hj6xOnMN5DlnXI+8qVg8L2LRrvPOch38/q6quWb/7sCrNZpb/GmzRqq37xkxxzcgtqKtvuHIzRd1s2smoWGzR1kPH9W1mpmbn1zc05hUWjZ3qcfTsxZ4O9Ts0wcX7dvpd7PWJyMsjJzlir0m6buQkxxORl1ks1qZ9R9fvPsxktj/6+5kqzSY5Mwdbob6hUc3U/kZyGovFMrBz07Jw8ghYh+9xzfYDQ01sDezcsLe7Q85oTXK6mZrZ2ES/kZKuZmofezMZW6Rj5RISEY1vuGrbfsd5y/G3zS0tqjSby/G38RL29YPDIlVpNiZOXviiYSZTgsMiq2vrEv/K0pzogDeHpKV4hY1N9NiE26o0m7/u5mOLVgftt/ZY8OLNP80tLXmFRXqTZxwJv8A3bKIIa+rqNcynBe44WFVdiy219fJfv/sw93jx7U+i5jCZ7cFhkYs3bGexWFcT76jSbKqqa9va2gzt3fIfPuEbOUkvsSOpQfCBnuoTELjjIN/9Eh3CJGNNEgOL+FggOVeQJCF3znQu1bs4KCTHJveBzCJO7Hfln9RM7UMiomvr66PiEoaa2D4ueUGyPlH/jDCdGhZ9lUWKpA85cNdP0sk59x+p0mxelpZhb99++KhKs0nLuUe+FTuePUZSLUnnECUVUTl5P3N3HYb9UCJPP6JDhmQsBDlzsrhOxew6emR14hzOc8i6HnkX9exzRWXvy28kp/262FdvpLqcjHTQ2oDBvyhji96Uvb+SmLIhYJ7pOANJCXGXKZY+Mx2CwyLpzS219Q0Rl/9c5jt7komRhHi/sfq6eTeilni79Wio36fW1jZJCXGOQpKuw9dpojdfTboz29meSqWMGqk+VGXg9dtp2KI72XkiwsKWE2jY24k0w7yHT7D/cDAYjNvpd8eNHoUt+lJTe+rClUVes6ZMmtBPTHSqpZm7w5T9x8+yunbX9VNl1YnIy9rqw9kLjfR1lvvOlpGStJ043nuGQ8i5GGZ7uyAtRQj1ExOdbmctJtr3xZsyhFBDY9O1pNQAH3e1ISp9+/QZq69rYqifda+w0xFWfqlubml1mWIlJyPFd1uS/iRpDpVK8XC0S8nKq/xSjVeVlJatKCdnpKdNvkcBe4lE5wa604cwz7HmGwPPY6HT5wqOnOn2VBdwUMiPTfTfA5kksQcq93+REe8/x1VKQmKm/eT2dlZeYVHXDwRyHH3IV+c6uaNbsfcYSbUknUOUVETlXe9nvm3keciw18AxFgKmH89TMaYTR1anz+HsQ9b1yLuuZ2dFBUV/I4TG6utib4WoVNqYr58Q+Y+eIITMxhniK080Nmpsoj959vJhcQmzvd3YQK9HY/v+Mdvbq6pr5GVlOMpJuu7rhkxm6PkY9aGqeNI4Tp6UkpWLJVZSWrblBJqYaF9skY6GmqKcTHpuAUIoM7+wb98++MdwQVExg8EwoxngO6KNGVVeUVn24WNX2rU39OxYfV2zcQbshVZsnwQmhvrVtXUvS8v4thTDYDAux9+mN7foa2sihCTE+73MStAcPvT8lfgtB0JmLlp9O/0ufuerExEOUxlkOnZMROz1d+WfGEwm+bYk/UneHEV52YnGhn+cudDGaEMI1dTVHTsX4+lizzdaAXuJROcGutOHMM+xJo+B6Fjo9LmCI2e6PdUFHxSSY5PjQBYksRkMxpXEFAqFoqMxousHAjmOPuSrc53coa24T31ESDqHKKmIyrvez3zbyPOQYa+BYywETD+ep2LyxpLo3DmcY8i6HnnX9exzRbX1DQghWel//4ctIyVZ9r4cIVRbV48QkpOVxhdhp7yGxqba+nqEkKy0ZI/GW5gaGgAAIABJREFU9v2rqPzCYDIHDVDiKCfpOuztntBwYWHhmJC9+ApONhbBpyNTMnOszUzScwsOb/2VvUIrU1pyZu5UK/P4Oxn2FqZUyte5cnVtPULI0Zfz6Zmq6hrVgQOwHe0JDcfLBTk5Pi55cT35r6TzobEJyezlivKy+GssYWrrGgRpKR7AiKEqWurDsNdBh0+GX4rT1VQ30NVa4DEj7lbqh0+f8UrIw+aOkEKhhB8MOhUVazrdB//f22jixhL1J9/mBPrPdfBddu7KDYSQhauftvrwWVMns9fMM3K+1fKtge9A89TpQ5jnWJPHQHQsVNfWkeyIJ54505VU7+KgkByb3AcyeWJ//Fxl7OjJYrF0NNT0tTX4rs/TtuAT24JP9O3T5xdlRUfrSQE+bsLCnB8TRMcduc6lWYe24u4xEkSdQ5RUJMnWiX7+b8182sjzkMHe8hwLQdKP6FTMt7FEOn0OZx+yrkfedT07K8L6tKqmVllRHiv5UlOHvZCWkkQIfamuxbvy85dqhJCMlGQ7qx0hVF1br6Qg36PhfecelzxXHTgA/48jjqTrsLdrF/nUNzTOD9yacPboACVFhNCQQb/ojVRPTMsWERERFhKeSDNkr9Da1Hjppl305pbkjJzwg9sy8x5g5ZLi/RBCGbHhKgTnrHX+czmeM+XbqKDDJ2Y72Q9XHcxRXlNXj7+uqq5BCMnLSvNtKRYAs7299O17z2Xrtx06vmfDyrzCx2HRV3euW+bhZIetFnPjluBh84ywrY0RGZfQX14u8o9dakMG23kvIWkjUX+SN6e2vsFn1SY7C1MdDbUtB0ISz4Ws+H3v6qADh7euI4+cby/xbTvfgeap04cwz7HGbh0SxUB0LGD31Dp0ruCZM11J9S4OCsmxyXEg801sZUX5N3cTS16Vui8JDD4dOdHYiHx9njavWOjr6sxgMB6XvPRds7mpuXlDgJ8gfci3ZkHSjELhvO3VoeTkPvURVUvSmURJRVTOd1z44ttGnocM9pbnWAiSfkSnYvLGkujcOZxjyLoeedf17B20caNHUSiUrPyvnwrt7az7RcXYa+y2AnajAZOWc6+fmKiW+jB9LQ1hIaG8wqIeje37l5VfaKinw11O0nXYWxFh4bX+c/sryG3afwxfx9HGIiPv/oVrN20mmuBfeMEYj9FjtrcfOBkh3k90jM5IvHyMrpYQlZqRdx8vCTkXo23p3ERv7lyLktKyn70q5f7GCkIor/Ax/jrrXqGSgvwwlUF8W4oRolKHqw42pxkWFpcghLCLkeb/+3Rpa2M8evpMwAdEiCIMv3Tt/ceKTcsXjBiqwn2G5UDUn+TN2XX0NIPJ3LZ6iZSEBEJISVFh78ZV15PTkjNzyXcnYC+R6NxAd/oQ5jnW5DEQHQudPldw5Ey3p3qHBoXo2OQ4kAVMbM3hQ4z0dJ48f9WVA0FYWHi0juZ4o9Hsg8WBow/5Iu9kLDAqlfMjqUNDw33qI6qWpHOIkoqovCv9LGAbeR4y7DVwjAXf9CM5FZM3lkTnzuEcQ9b1yLuuZ2dFA/oreLrY7z0env/wSU1d/Y4jp0rffcAWDVMZ5DLFctexsMz8Bw2NTVcT75yLvbHUx71vnz7ysjKzne3/OHPhbsHD1ra2Z69LJ89euH734R4N9XtT19BwJTHFwdqcexFJ1+HrCFGpG5ctSMnKzfzflHSalTmd3pyRd9/BirNOERFh83EG4THX7C3N2D/ylRXlPZzt9p+ISMnKbaI3Z+Y/OBYRvchzVj8x0c416tHT5yv8vHhew7iVln3h2s36hsb4lPTIq/GrF86hUCiCtBQhxGAyX7wpy7pXqKelgRAaraMpRKWeibnWSKd/+FSxdsfBz1XVzYI9eswzwobGppNRsXoj1e0tzQSphKg/SZpT/PzVpfhb6/znsl8O0Rup7jh50o4/Tra1MUh2J2AvkejcQHf6EOY51iQxkBwLnT5XcORMt6d6hwaF5NhkP5BJEjv6etIo6xlpOfcaGpsKn5TkPHhkOEqrKwdCE735bsHDuwWFY3QI7xRz9CFf5J2MPUMjLSnRoa24cZz6iKol6RyipCIq70o/C9hGnocMew0cY8E3/UhOxZhOHFmdPoezD1nXI++6Hv+9ot9XLZaWlFyycUd9Q6M5zdDZ1gK/4bp3w8rDZ6ICdx6q+lIzdPDArasXuznYYos2r1wkKyO1evuByi/VyooKDtYTV8zrwbnhd2iU9QyEkPfKjRzlFq5+qTGnSboON8FotMX4sdsPn7x5PkSISlWUlzU20Hv68o2J0Wju3VmbGSekZk7l+tT/fdViJQX5rYeOf/xcOUhZadV8L/LfMiE3TGWQ1/SpPBe52FndTM3cceSUkoL8jsCl0+2ssXLyluL31GWlpcYbjcYu9asNUTm4ZW1wWGRUXPwAJUWrCbT1AX77jp+tqavneyzxjPB09NWauvrQnRv5XiXCEfUnUXO2HjquqzHCcfIkjvXX+c+d5DovLCZukedMkt0Jkg/kOjfQnTuEicaaKAbyY6Gj5wqeOdPpHuhc53AgPzbZD2SixHadZlNdU7vlQEh5RaWcjJTrNJvFXq4iIsKdOBCw54qoVIqSgvxUS/M1i3y41yHqQ76IOtlx3vKnL177zHTEH0KlUChCVCqVQiHZigjeY6KifYmqJT9LECUVz/LO9bOAPYMhOmRIxoI8/UhOxbiOHlmdO4dj2JO865F3Vbd/1x90C/bf2MDdSs+eNGtep+u0m7N4+x8nuxZXj+D4GQ/wE+vEWPfEsfC9+W6PTfDN/RCnxx8iSAHB30H7+TGYzCZ6843ktJelb31nOX3rcAAAX8GxCcD3RtA7aEOMO3ZBHoP91YJObMiN5w+393IMvak0J4m7cLKZyWQzk45WRac3Gzt5iYn2PbhlLfv3MgD4IXTjsfC9gWMTgO9Nb/91WAAAAACA7xPcQQMAAAAAQAhmRQAAAAAAGJgVAQAAAAAgBLMiAAAAAAAMzIoAAAAAABCCWREAAAAAAAZmRQAAAAAACMGsCAAAAAAAA7MiAAAAAACEYFYEAAAAAICBWREAAAAAAEIwK/qe6VpPDz0Xg71ubmk1dvQc7zwHe5v7oGiIsS3Hv/TcAvKtOCrn2HzdzkPs+/Vctl7D3MHEac6pC1cECam9nXU88rL5jLnqZtPMZ8w9evZiezuLfUfDx9uNneYRfDoSr43BYJyIirV0m69h7mDpNv/in4l8d+S7ZjN3wxvpdHWzaWdi4vj2J1GTSSIh6erRtrOOhF/EVit+/mrmotXqZtPGTvPYE3KGwWRyB5CeW2A3Z4nmRIeJM33jklK5W4oQWh10wMlvBfa6pbV1T8iZCS7eaqZTDezcftt7pLmlFSF0MipWy+Lfv6/+rvwTHhKLxTp14Yr5jLkjzKZauS/A90K+I5JhJakQAAB+PsLfOgAgkBNRl8srKgcq92cvvBN9arjqYITQu/JPE1y8BdwKt85/rv8cV+z1tLlL2RftPxGxbN7so9s35D4oWrl1L0Jovsd08sq3/3EyLunOwc1rjfS0/37xaumm3RQKZYm3G76jJnpz4l+Zq4MO6GtrTDQ2Qgit2xmcllsQvGWtvrZmcmbu+t2HGxqbyHd0Zv82hFBLa6uGucP+jatn2FsL0Hn8m8w3EvKurmto8Fq+YZqV+YndW96Vf1y4Poje3PL7Kn/2dd5/rPAL/H2Vn9dsF/v4lIzVQftGDFXR0VAjifa3vUeKnj4/ezBo8C/Kj/5+tmDdtgH9FQJ83Ek22Xv87LnL1/dvWm1OM0y9m79y6952Vvv0KVaCdQ9CXMPa9QoBAOAHAteKfgCfKqtORF7WVh/eC1thjPR1lvvOlpGStJ043nuGQ8i5GGZ7O0nltfUNEZf/XOY7e5KJkYR4v7H6unk3orApEa6fmOh0O2sx0b4v3pQhhN6Uvb+SmLIhYJ7pOANJCXGXKZY+Mx2CwyLpzS3d1QoBCRgJicirCcLCQptWLJSTkRo1Uj3A2y3yanxNXT37OgOV+7/IiPef4yolITHTfnJ7OyuvsIikzobGpmtJqQE+7mpDVPr26TNWX9fEUD/rXiFCSEREhMHgcS3qS03tqQtXFnnNmjJpQj8x0amWZu4OU/YfP8tisQRsCEdvd71CAAD4scCs6AewN/TsWH1ds3EGvbAVxmoCDX9tYqhfXVv3srSMpPKHxSXM9nZjAz2SOhkMxuX42/TmFn1tTYRQ/qMnCCGzcYb4ChONjRqb6E+eveyuVghIwEhIFBQVj9EZKSz0f+zdd1wTydsA8EkI0jsIngpWVARBBQ0oRelFqgqCCmJX7Cce/ixn74onzYKIgooieAcIKnKIIEUEsaJYEAuKYICEnrDvH3u3lwtkSeAQ9H2+H//YzM4+O/PMJoy7m6wI/nKs9kg2h/Po2Yt2K7PZ7CvJqRQKRXvEcJKY0lKSLzOTRg4dfO5K4tZDITOWrLtx+25TczNCaOBPqs0tLYya2rbNYLPZJvR/ckUfN6a8orLs4ycBO8KT7a4HBACA7wtcQevtHhWX/HHzz5RzobFJN7t7K4KKkgKxrCAnixCqqWWRBMf/QivIybQbbV9oxL7QCHx5+GB1Lc0hCKGaWiZCSFFBjqimpCCPEGLV1XeuF9sDj28PPC7Wp89PaipOllP8fDxoNIEOb0Faws+hE5GHTkQihGY6WBOF8rIyCKEaJqtt/U9fqgydZmMYpj1imN7oEXghd34QQvisESG04+iJiEvxOiM1x+toLfKcHn897ePnLwgh/TGjZaSldged2rJqcUNj042MbLw+o4aJEHLyXcmz0ypGtUb/fiQ7wrU3rB0EBACAHwzMinq7HUePeznb4ze18KBQKJ3YShDcV3+qGNUIISWuSUPb4DLSUgghRg1TVVmpbTT8bh5Oa2vpuw+zVwZsPxK2b+MaOVkZhNBXRg0xA/vylYH+nlJ0ohdbVi/2dXdhs9mPil/6/rylvrFxo98CQTYUpCX8Ur1ukfeKebO812xi1NQQhXj2ZGWk29ZXU1F6cze5+FXprOX+gaeiNizzRf++22ndjkOv3r5DCOUWPgq/GLd7w0pPZzt8VUzCdXxBXlYm8sjOLQeDx9m5y0hJaQz4a4IiIyWJEMqIjVDnM2Vpd0eEdoa1o4AAAPCDgStovVpKetbzV6WrF8zmKcdv7KBS2x8+flsJLrfwEbGcea9QVVlpiPoAkuB6WiNoIiLkN8qIUKlDNQaa0vULnxQjhAx0RyOE8G9O4dKz70lKiONnkjrdCxqNNlZ75CSDsdxdIEfeEvJU48Zqjyx4XMxms/GXBY+e0URESO6kHjl0kIGu9uMXr0hiln0oRwiZ0v+6rtfSwi569py4oWec9qjEM0ElGYkFyTHHtgf8VaijJUKlZuTeJ4KEnI0Zbe5S39BIsiNcu9nuSkAAAPgewayoVyt69mL1gjncJy1w+I0dcu2djSDZSnDX07POX73GZNUlpt6Oiktct3gucbKk3eBKCvJeLva/nT5/N/9Bc0vL89elVl6LA/Ye5a7D5nBK3pRl3ivU1RqBEBqiPsDV1nxPcPidvAJWXX1c8q2zsQkrfGaJ9enTlV7UNzTezX9wN79wnPbIjmsj1GFLyFON857uyOFwdh07WV3LzH/45FjEhRkOVoryctx1Lv6RMsZyenr2PVZdfeHj4uyCIv0xWiQxx2qPFKFST8dcrWto+Pi5Yv2uw1+qGI2kN4CrqSh5utgdPB6ZmplT39B4J68gOPLiktkzJSXEO0xCu9nuSkAAAPgewRW0Xm2I+oA5bg48hU7zVz0ree0zwwm/4wchRKFQRKhU6t8Tl3a3EoqrncW1tDu7jp1UVVba5b/Cze6fL8DzC75lzRIFedl1Ow9VfmWoqSg7Wpqtnv/XiQfidhYFOdlJBmOJC1v7N645ejraf/eRqq/Vgwf237ZumYejTYc74ge/r4hKpagqKzmYm/68xEfwbfm1pMNU4xTkZM8G7toeeNzAYZacjIyLzVT/JfN4duE+zZpRXbP1UEh5RaWivKz7NOtlc9xJmjRskPrhresDw6Oi4xP7qapYTKYH+C04EHamupZJMlP8de0yVWWlbUfCPn2pHKCmunbhHF93F0EywC/bnQ4IAADfIwp8yRbw0LF0WzZnJnEDCgAAAPD/BFxBAwAAAABACGZFAAAAAAA4uIIGAAAAAIAQnCsCAAAAAMDBrAgAAAAAACGYFQEAAAAA4GBWBAAAAACAEMyKAAAAAABwMCsCAAAAAEAIZkUAAAAAADiYFQEAAAAAIASzIgAAAAAAHMyKAAAAAAAQQogmYL0P1Q3d2g4AAAAAgK7oLy/RxQjwHDQAAAAAAITgChoAAAAAAA5mRQAAAAAACMGsCAAAAAAAB7MiAAAAAACEYFYEAAAAAICDWREAAAAAAEIwKwIAAAAAwMGsCAAAAAAAIZgVAQAAAADgYFYEAAAAAIAQzIoAAAAAAHAwKwIAAAAAQAhmRQAAAAAAOFpPN0Bofpv3fKn6GhNygLyapsm0X5b7+rq7fJtWdQcrr8UvXr/Fl6lUirysrNF43V+Wzx/QT7VnGwYAAAD8kOBcUa9maWJYmp1Smp3yPD3hctjB958q5qzayGaze7pdAAAAwA8IZkXfB1FR2lCNgX4+Hm/efXj8/GVPNwcAAAD4AXX7FTQdS7f1i33S7ublFBRJSkjMnT7N0dJs84Gg+4+eqiorbVyx0NrUCCHEZrPDY65eSrj+vvzzgH6qC2a5znKyxSM0NTfvDQ7//UZ6U3PzNAvT+oYGIjjPZTJ+F9cwDDt1IS4qLvFjxReN/j8t9/ZwsZna3R3vDiJUEZqIiFpfFfwlSdJu5+TvC4l4XfZOTUV51fzZeH91LN2YrDqEkAiVqqQo7+lkt3rBbLy+jqXbsjkzs/If3Ct6oqQgP2+m00JPN3xVU3Nz4KmohNTbn75UyclI25hN2rxqsbhYH4QQ3dFrur3Vz4u98T16r9mUGReJX+BbunFnLZMVfWwveQR+Q+P785a0rDye7j9Ji5cQEz9xPvbC1WvlFZX9+irPcLBaNteDSqVk5N7fHxpR8qasqbkZr+zpbLd7w0qeCPr2syq/MrauWTpvphORKO81m5QVFfKTLpCnFCE01X3B67L3xEtJCfGnaVe3Bx6/cu1mftJFUdG/3k0+azf3ERU9sW9LTsFDj+X+PG2IPLLTlK4vyBVeranOq+fPXuQ1vbyi0mfNJhpNJCkymCQmSZ5bW7F288avnCQUAAD8yLBupm3hOtzY4fcbf9Y3NAaduaBBtzZwmJWWlVddy9x8IEhrinN1LRPDsLXbDoyzdc/Iya9lsq5cS9U0mXYiOhaP4Ld5zySXuQ+ePq9iVAfsPapBt5659Gd81XBjh/CLccS+lm/a3e6qvSGntaY4X0u7U1ffkJB6e5ixfey1m93d8a6z9Fy0wP9XfJnN4bwsLXNftj46PomowC9p78s/DzO2D4m8WMNkRscnDTayeVRcgmGYtoVrSORFDMPq6htik25o0K3/vJuHh9K2cB1iZBsYHsWoqU3+M3OkmSOR/3U7Dlp6Lip587axqSm38KGu1fRjEefxVROneR4IO4Mvp2ff06Bbv/v4CX+5JGCHp9+GDiOQD01jU5MG3fpy4g2iZNuRMD3rGWlZeUxWXW7hwwkOnkFnLlTXMkeYTvPfdbiKUYNXs5mzNGDv0bYpHW/noTXVmWgYhmE/7zw02MhmvJ0HeUpxk129b9y+iy8fj7o8aooThmFFT59r0K1v3snGy5msumHG9gk30zEMy75fpEG3fllahq969/GTBt06Pfse1ubQbdeoKU7Hoy5jGLb5QFDA3qMcTit5TJI8t5s3knKSUAAA8AP7FlfQpk6a4GhpJiEu5uVijxCyNZs8xchATkba18OlrqHhxeu3b8o+XElO3eg333jieBlpKVdbc58ZjoHhUQ2NTWUfyhNupv+yzFd3lKaivNyO9X4Df1ITau9fq2tOnr+yZM5M2ymTJSXEHcxNZjnaHgw7g2FY93T3v3QzI3uQoc0gQ5uhk+zMPRYWPHqGTzsQQiRJ66/WtyQjcelcd1lp6Rn2Vq2tWG7hQ+6wkhLibnaWEuJiJW/KiEIDPe1Vvl7ysjI2ZpO8pzuGnI3htLay6uqvpqT5+cwaNkhdrE+fCXo6Rvp6mfcKBe8CSQRhh6aGyYq8/PtKX68pRgbSUpIT9HRyE6KXe3tUfmU0NjW72looyst22B4zun7ug8f4OTM2m33j9t2JY8fgq0hSildobm6RkZbiCThmlOZg9f5/3EjHX97KyhWl0cwn0wVPEbn6hsa4lFteLvZUKoWkGkme+eWNX3nXBx0AAL5T32JWpDlEA1+QlpJECA0bpI6/lJKQQAjVslh5RY8RQiYT9YlNzAwN6uobHj9/mf/wKUJogp4OXi5CpdLHjRFq7/kPn7DZbBP6eKKEPm5MeUVl2cdPne7RN0Pcbf0q61pW/Fkn6ymh5y5d+D0ZIUSSNKKEzWZfSU6lUCjaI4Zzh2Wz2ZcTbzQ0NumNHkkUWnD9ITfS12PU1L4sLZOWknyZmTRy6OBzVxK3HgqZsWTdjdt3iatUgiCJIOzQPHhSzGltNRyvy1M+RH2A8YRxkbF/vC//zOZwyNujPWKYiqL87Zx8hNCdvEIxsT4GuqPxVeQp5bS2VjGqlRTk28Z0spqSmpmDT55S0rPMJ9MlxMU6yItgOBxO6LkYzcEaozWHktckyTO/vPEr7/qgAwDAd+pbfDNfQuxffyGI2y8INbVMhJCighxRgv/tYdXV1zBZCCEFuX/OAcjLypR9KBd874waJkLIyZf3FpMqRrVG/36Cx+lZIlRqf7W+e35ZdSszN+lWhqezHUnS8JefvlQZOs3GMEx7xDC90SPwwn2hEftCI/Dl4YPVtTSHEJurKCkQy3jCa2pZCKEdR09EXIrXGak5Xkdrkef0+OtpHz9/Earx/CIIOzSMmlqEkIKcDE85hUKJOLzjZHSssZsPcZ5pLNeEj4eFMf3mnRwHC9PEWxn2U42plL/+b0Ce0orKr2wOp92fRXC2nhp4Kir1TralidHtnPyj234hzcdftgce3x54XKxPn5/UVJwsp/j5eNBovG+NfaERNBotJmS/IAH557n9vPErJwkFAAA/tl7xe0VysjIIoa+MGuIP85evDISQvKwM/pFdVV2jpqKEr/paXUtsSKFQWlv/udrS1NTUNriMlCRCKCM2Qv37mQPxQxMRGfiTGv5HmiRp+Es1FaU3d5OLX5XOWu4feCpqwzJfhNCGpfOWznXntLaWvvswe2XA9iNh+zauwetX1zKJHVUxqhFCSgpyuYWPwi/G7d6w0tPZDl8Vk3BdqDaTRBB2aPCrV4wapqqyEs+qlhZ2VHxSXyXFqN/2DBs00M57OUkcS2PDFZv3NDQ23czIjji8/U5uAV5OntJHxS80+vdr9yTQoAE/6Y7STE7PEhUVpYnQzOj63GsplPavfG1ZvdjX3YXNZj8qfun785b6xsaNfgt46qxf4sNk1S3035Z0JqifqgpJTLI888kbv/KuDzoAAHynesU38/FLGPhFDVx69j1JCXEtzSETx46hUCiZeX/93Wptxe4/fEJUk5aSxP+/ixDCMOz53795yG2cjpYIlZqRe58oCTkbM9rcpb6hsTv60q1aWtivy96PGj4EkSaNe5ORQwcZ6Go/fvGKu1CESh2qMdCUrl/4pJgozC18RCxn3itUVVYaoj4APy1n+vef+ZYWdtGz50LdkkUSQdih0dMaQRMR4blHChdx6eqHTxWbVy0aPlid3yyEYDhOl9PaeuhEpJSk+DjtUUQ5eUoz8wr1dbX5xXSynpqRe//81WvWZkbE2VC8m1Qq2buMRqON1R45yWAsd/4JojTa+qXz+iorbj4YTB6TJM/88savvOuDDgAA36leMSsaoj7A1dZ8T3D4nbwCVl19XPKts7EJK3xmifXp06+v8mxX+/1hEXkPHlfXMncdO1n6/iOxoZmhQXxK2qu372pZrD3B4eUV7ZzkV1NR8nSxO3g8MjUzp76h8U5eQXDkxSWzZ0pKiH/DLv4HqhjVAfuONje34F/nJknaxT9SxlhOT8++x6qrL3xcnF1QpD9GizsUm8MpeVOWea9QV2sEUXg9Pev81WtMVl1i6u2ouMR1i+dSKJSx2iNFqNTTMVfrGho+fq5Yv+vwlypGY2M75+T4IYkg7NAoKch7udj/dvr83fwHzS0tz1+XWnktDth7lFVXfyI6VneUpr25iSBNEhWlmU4cHxFz1d7chHsKRZLSWhbrSnKqo6Upv5jTLEwbGhozcu87WvxTB79BSk5GmqQx9Q2Nd/Mf3M0vHKfd/iU/ESp108pFqZk5d/IKSGKS5Jlf3viVd33QAQDgO9UrrqAhhPZvXHP0dLT/7iNVX6sHD+y/bd0yD0cbfNWva5fJycgs37SLyaozpeu72EwlbnHY6Dd/88HgafNW9BEVtTc38Z3p/ODp87bBf127TFVZaduRsE9fKgeoqa5dOOd7eRII/h00hBCFQpGRkjLQHX057CBx9zq/pLlPs2ZU12w9FFJeUakoL+s+zXrZHHd8E+K+IgU52UkGY7kv2bjaWVxLu7Pr2ElVZaVd/ivc7CwRQsMGqR/euj4wPCo6PrGfqorFZHqA34IDYWeqa5n4daWgMxeCzlwggkx29eZuv9/mPUE7AkgiCDs0W9YsUZCXXbfzUOVXhpqKsqOl2er5s4PPXqyuZYbu3tThWSKCpYlhUtodhzazKH4pHWM5HSHkvWYTT/2p7gvSYk4hhFSUFAzH6z57+cbIYCy+ymn+qmclr31mOBF3xVEoFBEqlfp3I/H7iqhUiqqykoO56c9LfPi1drLB2KmTJuw8ekJcXIxfTPKRajdv/PIpKkojH3QAAPhRUeDEOEB//4rj0rnu/2HMwFNRL9++C9roHYvlAAAgAElEQVQR8B/G7CmDDG1uXTw5VGMgd+GNjLt7g0/jsyKEkL33ciN9vf+tWNgTDQQAAPAf6BVX0AD4frE5nPqGxoSb6S9L3/nOdO7p5gAAAOg8Qa+g4ddxhFWQfEmQH9brEe0+OUEQvblToJuUZqe0LbQyMbIyMWKy6gyd50iIix3eup77a2IAAAC+O3AFDQAAAAAAIbiCBgAAAACAg1kRAAAAAABCMCsCAAAAAMDBrAgAAAAAACGYFQEAAAAA4GBWBAAAAACAEMyKAAAAAABwMCsCAAAAAEAIZkUAAAAAADiYFQEAAAAAICT4c9A+VDd0azsAAAAAALqiv7xEFyPAc9AAAAAAABCCK2gAAAAAADiYFQEAAAAAIASzIgAAAAAAHMyKAAAAAAAQglkRAAAAAAAOZkUAAAAAAAjBrAgAAAAAAAezIgAAAAAAhGBWBAAAAACAg1kRAAAAAABCMCsCAAAAAMDBrAgAAAAAACGYFQEAAAAA4Gg93QDAl5XX4hev3+LLVCpFXlbWaLzuL8vnD+in2rMNAwAAAH5IcK6oV7M0MSzNTinNTnmennA57OD7TxVzVm1ks9k93S4AAADgBwSzou+DqChtqMZAPx+PN+8+PH7+sqebAwAAAPyAuv0Kmo6l2/rFPml383IKiiQlJOZOn+Zoabb5QND9R09VlZU2rlhobWqEENKa6uzhaPvn3bxKRvWeX1bZmBqFx1y9lHD9ffnnAf1UF8xyneVk291N7f1EqCI0ERG1vir4SzabzS9Lt3Py94VEvC57p6aivGr+bBebqQghHUs3JqsOISRCpSopyns62a1eMBuvr2PptmzOzKz8B/eKnigpyM+b6bTQ0w1f1dTcHHgqKiH19qcvVXIy0jZmkzavWiwu1gchRHf0mm5v9fNib3yP3ms2ZcZF4hf4lm7cWctkRR/bSx4Bw7BTF+Ki4hI/VnzR6P/Tcm8PvKm+P29Jy8rj6f6TtHgJMfET52MvXL1WXlHZr6/yDAerZXM9qFRKRu79/aERJW/Kmpqb8cqezna7N6zkiTDWZqavu8uKebPwl+t2HHr19t3VU4EkLeHOG8F9mvW+jWtIhuBEdGxgeNTTtKt4/fflnye7ekce2WlK19ea6rx6/uxFXtPLKyp91myi0USSIoNJUsQNH6alc93btp8kQmsr1m7Scgoeeiz359kF3kiSbCCEproveF32nngpKSGO95TkgCQ59khaTtJf7lWNTc1TZvpSqdSs+LMIIQEPhnYHgiQnncgwv3IBhxsA0AOwbqZt4Trc2OH3G3/WNzQGnbmgQbc2cJiVlpVXXcvcfCBIa4pzdS0Tw7BRU5w0TaY9fv7y+avSKkbN2m0Hxtm6Z+Tk1zJZV66lappMOxEd291N7W0sPRct8P8VX2ZzOC9Ly9yXrY+OTyIq8MvS+/LPw4ztQyIv1jCZ0fFJg41sHhWXYBimbeEaEnkRw7C6+obYpBsadOs/7+bhobQtXIcY2QaGRzFqapP/zBxp5kgkfN2Og5aei0revG1sasotfKhrNf1YxHl81cRpngfCzuDL6dn3NOjW7z5+wl8uCdjh6behwwh7Q05rTXG+lnanrr4hIfX2MGP72Gs3iQ42NjVp0K0vJ94gSrYdCdOznpGWlcdk1eUWPpzg4Bl05kJ1LXOE6TT/XYerGDV4NZs5SwP2Hm2bUj3rGb+dPv9PArcfdJq/qsOWEHnDOfj4+e86TD4Ex6Muj5riRGzy7uMnDbp1evY9DMNGTXE6HnUZw7DNB4IC9h7lcFrJU8SNpyXc7SeJ0G7SMAzLvl+kQbd+WVrWtpHk4zLZ1fvG7bv4MndPSd62JMceSctJ+su9KjA8SoNubeQ8B8MwwQ+GdgeCJCedyDC/cgGHGwDw7X2LK2hTJ01wtDSTEBfzcrFHCNmaTZ5iZCAnI+3r4VLX0EDcUGxlajRac6jmEI2aWuaV5NSNfvONJ46XkZZytTX3meEYGB7V0Nj0DVrbq9zMyB5kaDPI0GboJDtzj4UFj57h0w6E0JuyD/yy1F+tb0lG4tK57rLS0jPsrVpbsdzCh9xhJSXE3ewsJcTFSt6UEYUGetqrfL3kZWVszCZ5T3cMORvDaW1l1dVfTUnz85k1bJC6WJ8+E/R0jPT1Mu8VCt4Fkghfq2tOnr+yZM5M2ymTJSXEHcxNZjnaHgw7g3ewrRomK/Ly7yt9vaYYGUhLSU7Q08lNiF7u7VH5ldHY1Oxqa6EoL9uZLAvfEhzJEIiKirLZHJJt6xsa41JuebnYU6mUbk0yv6R1JRvNzS0y0lKCZ4O7Gs+x1/W+f66sOh51ebTmUPylsAcD90CQVOtEhvmVd73LAIDu8y2+g6Y5RANfkJaSRAgNG6SOv5SSkEAI1bJY+Ev1n9Twhbyixwghk4n6RAQzQ4Pj0bGPn7800B39DRrce1iaGJ7ctxUhxGlt/VRRGRgeFXru0sCf1Dyd7QTJEpvNvpKcSqFQtEcM5w7LZrPjU9IaGpv0Ro8kCi0m04llI329sKjLL0vLRgwZ9DIz6cXrt+euJL4sLXta8qrwcbHOqH9FIyctJckvQv7DJ2w224Q+nqhMHzfm7JWEso+fNPr3axvqwZNiTmur4XhdnvIh6gOMJ4yLjP2jv1pftb7KNBERwZuHE7YlOJIhGPiTanNLC6OmVkGunb/NHA4n9FyM5mAN/G85SYoERBKBX9JIkGeD09paxahWUpAXPBvcb1ueY6/rfd8femaCns6oYYP/uJmOhDwYeAaCRCcyzK+8610GAHSfbzErkhAT434pKtr+TuVkpPGFmlomQkhRQY5YhX8Es+rqu6uJvZ4Ildpfre+eX1bdysxNupXh6WzXYZY+fakydJqNYZj2iGF6o0fghftCI/aFRuDLwwera2kOITZXUVIglvG/5TW1LITQjqMnIi7F64zUHK+jtchzevz1tI+fvwjVeH4RGDVMhJCTL+8NH1WM6nbnIoyaWoSQgpwMTzmFQok4vONkdKyxmw9xPmMs14SvQ8K2BEcyBPpjRstIS+0OOrVl1eKGxqYbGdncG+4LjaDRaDEh+4kSwZPMPYIIIWJeyz/J7SeNBHk2Kiq/sjmctj8P0eEBye/YI+87v/7iHhWX/HHzz5RzobFJN/ESoQ6GtgNBQtgMk2S+6+8pAEA36Y2/VyQnK4MQ+sqoIf5Of/nKQAjJywrxyf5DoomIDPxJDf8z02GW1FSU3txNLn5VOmu5f+CpqA3LfBFCG5bOWzrXndPaWvruw+yVAduPhOF3DSOEqmuZxI6qGNUIISUFudzCR+EX43ZvWOnpbIevikm4LlSbSSLISEkihDJiI9T5zzy44VdtGDVMVWUlnlUtLeyo+KS+SopRv+0ZNmignfdyoRopbEtwJEMgLysTeWTnloPB4+zcZaSkNAb8K+z6JT5MVt1C/21JZ4L6qaoIlWR8BPFl/O5jRJ5k/knDUSi8V47Is/Go+IVG/34S4mI85R0ekO0eex32vd3+EnYcPe7lbD9UYyB3oeAHA89AkOSkExnmV9719xQAoPv0xm/m4+fbb+fkEyXp2fckJcS5T2z8/9TSwn5d9n7U8CFI4CyNHDrIQFf78YtX3IUiVOpQjYGmdP3CJ8VEYW7hI2I5816hqrLSEPUBZR/KEUKmdH2iAUXPnpPfbcODJMI4HS0RKjUj9z5ROeRszGhzl/qGxnZD6WmNoImI8NwjhYu4dPXDp4rNqxYNH6ze9k9ah4RtCY58CMZpj0o8E1SSkViQHHNsewD3hqI02vql8/oqK24+GIxIUyQgkggkScMrUKm8HwLk2cjMK9TX1RY2GwSeY68rfU9Jz3r+qpT4LhtB8IOBZyAQ/5x0IsP8yrs+3ACA7tMbZ0VD1Ae42prvCQ6/k1fAqquPS751NjZhhc8ssT7/r7+5WsWoDth3tLm5xdfdBZFm6eIfKWMsp6dn32PV1Rc+Ls4uKNIfo8Udis3hlLwpy7xXqKs1gii8np51/uo1JqsuMfV2VFziusVzKRTKWO2RIlTq6ZirdQ0NHz9XrN91+EsVo1GY295JIqipKHm62B08HpmamVPf0HgnryA48uKS2TMlJcTbDaWkIO/lYv/b6fN38x80t7Q8f11q5bU4YO9RVl39iehY3VGa9uYmncms8C3BdeVAFaFSN61clJqZcyevoFuTzC9pCKGyj58Q15VrQbJRy2JdSU51tDTtdDZ4jr2u9L3o2YvVC+bwnEIW9mDgHgiSnHQiw/zKuz7cAIDu0xuvoCGE9m9cc/R0tP/uI1VfqwcP7L9t3TIPR5ueblQPwL+DhhCiUCgyUlIGuqMvhx0k7l7nlyX3adaM6pqth0LKKyoV5WXdp1kvm/PXNQjiLg0FOdlJBmM3+i0g9uVqZ3Et7c6uYydVlZV2+a9ws7NECA0bpH546/rA8Kjo+MR+qioWk+kBfgsOhJ2prmXif42CzlwIOnOBCDLZ1Zu7/X6b9wTtCCCJ8OvaZarKStuOhH36UjlATXXtwjn4nI+fLWuWKMjLrtt5qPIrQ01F2dHSbPX82cFnL1bXMkN3bxLkLNGhE5GHTkRylyzcsO3kvq3CtgTXlQN1ssHYqZMm7Dx64tq5EPIkd4h8mNpNmtP8Vc9KXvvMcCLuB6dQKCJUKpVCQQjxy8YYy+kIIe81m3gaMNV9QVrMKfJstHvsdXiAkRiiPmCOmwNP4amLcYIfDDhiIMTFxfjlpBMZRnwOV1FRWheHGwDQfShw5hagNj+X958IPBX18u27oB0BHVftOaFnYwqeFONf9AMdGmRoc+viSZ77eG5k3N0bfDot5lRPtQoAAP4rvfEKGgAAAADAtyfoFTT8Oo6wCpIvdfqH9dpq98f4v30zAPh/qzQ7pW2hlYmRlYnRt28MAAD85+AKGgAAAAAAQnAFDQAAAAAAB7MiAAAAAACEYFYEAAAAAICDWREAAAAAAEIwKwIAAAAAwMGsCAAAAAAAIZgVAQAAAADgYFYEAAAAAIAQzIoAAAAAAHAwKwIAAAAAQEjw56B9qG7o1nYAAAAAAHRFf3mJLkaA56ABAAAAACAEV9AAAAAAAHAwKwIAAAAAQAhmRQAAAAAAOJgVAQAAAAAgBLMiAAAAAAAczIoAAAAAABCCWREAAAAAAA5mRQAAAAAACMGsCAAAAAAAB7MiAAAAAACEYFYEAAAAAICDWREAAAAAAEIwKwIAAAAAwNF6ugGALyuvxS9ev8WXqVSKvKys0XjdX5bPH9BPtWcbBgAAAPyQ4FxRr2ZpYlianVKanfI8PeFy2MH3nyrmrNrIZrN7ul0AAADADwhmRd8HUVHaUI2Bfj4eb959ePz8ZU83BwAAAPgBdfsVNB1Lt5XzPPMePMrKfyBKozlYmG5ds6SPqChCqKm5OfBUVELq7U9fquRkpG3MJm1etVhcrA++1frFPml383IKiiQlJOZOn+Zoabb5QND9R09VlZU2rlhobWqEEMIw7NSFuKi4xI8VXzT6/7Tc28PFZmp396gHiVBFaCIian1V8JdsNjs85uqlhOvvyz8P6Ke6YJbrLCdbfNXtnPx9IRGvy96pqSivmj8bT4uOpRuTVYcQEqFSlRTlPZ3sVi+YjdfXsXRbNmdmVv6De0VPlBTk5810Wujphq8iGSa6o9d0e6ufF3vje/ResykzLhK/wLd0485aJiv62F7yCPxG0PfnLWlZeTzdf5IWLyEmfuJ87IWr18orKvv1VZ7hYLVsrgeVSsnIvb8/NKLkTVlTczNe2dPZbveGlTwR8G4uneuOEGpsap4y05dKpWbFn0UI6dvPqvzK2Lpm6byZTkQOvddsUlZUyE+6gBAScBdaU51Xz5+9yGt6eUWlz5pNNJpIUmRwTsFDj+X+PDUjj+w0peuTJKe1FWu3s/zKSUIBAAAQCNbNtC1cNU2mXUq4zqqvz75fNMJ0WljUZXzVuh0HLT0Xlbx529jUlFv4UNdq+rGI88RWw40dfr/xZ31DY9CZCxp0awOHWWlZedW1zM0HgrSmOFfXMjEM2xtyWmuK87W0O3X1DQmpt4cZ28deu9ndPfpmLD0XLfD/FV9mczgvS8vcl62Pjk8iKqzddmCcrXtGTn4tk3XlWqqmybQT0bEYhr0v/zzM2D4k8mINkxkdnzTYyOZRcQmGYdoWriGRFzEMq6tviE26oUG3/vNuHh5K28J1iJFtYHgUo6Y2+c/MkWaOeCiMdJgmTvM8EHYGX07PvqdBt3738RP+cknADk+/DR1GIB/BxqYmDbr15cQbRMm2I2F61jPSsvKYrLrcwocTHDyDzlyormWOMJ3mv+twFaMGr2YzZ2nA3qNtU0pkAMOwwPAoDbq1kfMc/OV4Ow+tqc5EmzEM+3nnocFGNuPtPDAME3wXo6Y4HY+6jGHY5gNBAXuPcjitGIZl3y/SoFu/LC3D67z7+EmDbp2efY88Oe12lqScJBQAAABBfIsraJbG9BkOVlISEvRxY4wnjv/zbh5CiFVXfzUlzc9n1rBB6mJ9+kzQ0zHS18u8V0hsNXXSBEdLMwlxMS8Xe4SQrdnkKUYGcjLSvh4udQ0NL16//Vpdc/L8lSVzZtpOmSwpIe5gbjLL0fZg2BkMw75Bp76NmxnZgwxtBhnaDJ1kZ+6xsODRM3zagRB6U/bhSnLqRr/5xhPHy0hLudqa+8xwDAyPamhs6q/WtyQjcelcd1lp6Rn2Vq2tWG7hQ+6wkhLibnaWEuJiJW/KiEIDPe1Vvl7ysjI2ZpO8pzuGnI3htLZ2OEwdIokg7AjWMFmRl39f6es1xchAWkpygp5ObkL0cm+Pyq+MxqZmV1sLRXlZAVv1ubLqeNTl0ZpDuQvN6Pq5Dx7jp9PYbPaN23cnjh2DrxJ2F/UNjXEpt7xc7KlUCkk1kuTw6yy/8q6PFAAAgG/xHbThQzSIZQVZ2YovVQghaSnJl5lJL16/PXcl8WVp2dOSV4WPi3VGDSdqav69lbSUJEJo2CB1/KWUhARCqJbFyn/4hM1mm9DHE5vQx405eyWh7OMnjf79ur9b34KlieHJfVsRQpzW1k8VlYHhUaHnLg38Sc3T2S6v6DFCyGSiPlHZzNDgeHTs4+cvDXRH4yVsNvtKciqFQtEeMZw7LJvNjk9Ja2hs0hs9kii0mEwnlo309cKiLr8sLRsxZBD5MHWIZKCFHcEHT4o5ra2G43V5yoeoDzCeMC4y9o/+an3V+irTREQ6bNX+0DMT9HRGDRv8x810olB7xLCCx89u5+Q7WJjeySsUE+tjoDsanzgKtQsOhxN6LkZzsAbPrKstkuTw6yy/8g7fUAAAADr0LWZFfWj/7IVCQa1/nwnYcfRExKV4nZGa43W0FnlOj7+e9vHzF6KmhJgYdxBRUd6mMmqYCCEnX94bO6oY1T/MrIggQqX2V+u755dVtzJzk25leDrb1dQyEUKKCnJEHSUFeYQQq64ef/npS5Wh02wMw7RHDNMbPQIv3BcasS80Al8ePlhdS3MIsbmKkgKxrCAnixCqqWWhjoZJEPwiCDuCjJpahJCCnAxPOYVCiTi842R0rLGbD3GeaSzXhI/Ho+KSP27+mXIuNDbpJs8qC2P6zTs5Dhamibcy7KcaUynUTuxiX2gEjUaLCdnPrwHc+Cen/c7yKycJBQAAQEA99ntFuYWPwi/G7d6w0tPZDi+JSbguVAQZKUmEUEZshPoPNwfihyYiMvAnNXzeIycrgxD6yqghZjNfvjIQQvKyf/29VFNRenM3ufhV6azl/oGnojYs80UIbVg6b+lcd05ra+m7D7NXBmw/ErZv4xq8fnUtk9hRFaMaIaSkINf1YSKJIOwIykhLIYQYNUxVZSWeVS0t7Kj4pL5KilG/7Rk2aKCd93KSODuOHvdyth+qMbDtKktjwxWb9zQ0Nt3MyI44vP1ObkEndrF+iQ+TVbfQf1vSmaB+qipEOYXCezWNLDl8OsuvvOsjBQAAoMe+mV/2oRwhZEr/6wJQSwu76NlzoW4JGqejJUKlZuTeJ0pCzsaMNnepb2j8b5vae7S0sF+XvR81fAhCCL9Mdjsnn1ibnn1PUkKc+/QPQmjk0EEGutqPX7ziLhShUodqDDSl6xc+KSYKcwsfEcuZ9wpVlZWGqA/o+jCRRBB2BPW0RtBERHjukcJFXLr64VPF5lWLhg9Wbzv54JaSnvX8VSnx5TsehuN0Oa2th05ESkmKj9Me1bldiNJo65fO66usuPlgMF6C95dK5X27kSSHX2f5lXd9pAAAAPTYrGis9kgRKvV0zNW6hoaPnyvW7zr8pYrR2NgkeAQ1FSVPF7uDxyNTM3PqGxrv5BUER15cMnumpIR49zW7B1UxqgP2HW1ubvF1d0EIDVEf4Gprvic4/E5eAauuPi751tnYhBU+s8T69Ln4R8oYy+np2fdYdfWFj4uzC4r0x2hxh2JzOCVvyjLvFepqjSAKr6dnnb96jcmqS0y9HRWXuG7xXAqF0vVhIokg7AgqKch7udj/dvr83fwHzS0tz1+XWnktDth7lFVXfyI6VneUpr25SYftKXr2YvWCOcQZNR6iojTTieMjYq7am5twT32E2gVCSIRK3bRyUWpmzp28AoRQ2cdPCCE5GWnBk8Ovs/zKuz5SAAAAeuwK2rBB6oe3rg8Mj4qOT+ynqmIxmR7gt+BA2JnqWia/v1ht/bp2maqy0rYjYZ++VA5QU127cA4+Y/hh4N9BQwhRKBQZKSkD3dGXww4S96Hv37jm6Olo/91Hqr5WDx7Yf9u6ZR6ONggh92nWjOqarYdCyisqFeVl3adZL5vjjm9C3FekICc7yWDsRr8FxL5c7Syupd3ZdeykqrLSLv8VbnaWSIBhCjpzIejMBSLIZFdv7vb7bd4TtCOAJIKwI7hlzRIFedl1Ow9VfmWoqSg7Wpqtnj87+OzF6lpm6O5N5KdwcEPUB8xxcyCpYGlimJR2x+Hfs59TF+ME3wVussHYqZMm7Dx6Qlxc7FnJa58ZTvjdWgghCoUiQqVSKRTy9LbbWX5JEBWldf0NBQAA/89R4Bw7QP/+ecP/SuCpqJdv3wXtCPgPYwIAAADdB574AQAAAACAkOBX0PDrOMIqSL4k+A/r/VfafbqCIHqktQAAAADoJeAKGgAAAAAAQnAFDQAAAAAAB7MiAAAAAACEYFYEAAAAAICDWREAAAAAAEIwKwIAAAAAwMGsCAAAAAAAIZgVAQAAAADgYFYEAAAAAIAQzIoAAAAAAHAwKwIAAAAAQEjw56B9qG7o1nYAAAAAAHRFf3mJLkaA56ABAAAAACAEV9AAAAAAAHAwKwIAAAAAQAhmRQAAAAAAOJgVAQAAAAAgBLMiAAAAAAAczIoAAAAAABCCWREAAAAAAA5mRQAAAAAACMGsCAAAAAAAB7MiAAAAAACEYFYEAAAAAICDWREAAAAAAEIwKwIAAAAAwNF6ugGALyuvxS9ev8WXqVSKvKys0XjdX5bPH9BPtWcbBsA3tuVgcD9VlaVzZvZ0Q3qd8opKQ6fZ4Qe3mU+a2NNt6aVS0rNOx1x9WvKKVVcvQqX276cafmDb8MHqPd0u0EvBrKhXszQxPLlvK0KopYVd9rF83Y5Dc1ZtvHn+OI0GAwf+v8h/+ORWVm5azKmebgj4/lxKvH4i+sqeX1ZpaQ6RFBenUCg93SLQ28EVtO+DqChtqMZAPx+PN+8+PH7+sqebA8C3s/vYKV93Z7E+fXq6IeD7E3Tm4i7/FQa6o6UkJGBKBAQBpxy+JyJUEZqIiFpfFfwlm80Oj7l6KeH6+/LPA/qpLpjlOsvJFl91Oyd/X0jE67J3airKq+bPdrGZihDSsXRjsuoQQiJUqpKivKeT3eoFs/H6OpZuy+bMzMp/cK/oiZKC/LyZTgs93fBVTc3NgaeiElJvf/pSJScjbWM2afOqxeJifRBCdEev6fZWPy/2xvfovWZTZlwkfoFv6cadtUxW9LG95BEwDDt1IS4qLvFjxReN/j8t9/bAm+r785a0rDye7j9Ji5cQEz9xPvbC1WvlFZX9+irPcLBaNteDSqVk5N7fHxpR8qasqbkZr+zpbLd7w0qeCEQGCO7TrPdtXEOezJyChx7L/XlCRR7ZaUrXx/O2dK47Xrhux6FXb99dPRVIHpBfr9u2lgje2NQ8ZaYvlUrNij+LENK3n1X5lbF1zdJ5M52IEfdes0lZUSE/6QJCSMCEaE11Xj1/9iKv6eUVlT5rNtFoIkmRwST9JRnK1las3aHhV04SilvB42eFT4qDd/2PZwTbHsMEfgePmKhouyNyIjo2MDzqadpVvOb78s+TXb3x/vIbKZJNOndIdDig3OrqGzYfDLqefldFScHNzhIhlF/05Lfw6Bdv3o7VHnXgf2v7q/Ul3x3J+73DlvAbOH5plxQXF+Ro58av5cKO7KcvVe/LP0mIi3ks93/wpFhaSsrV1vznxd59REXJk8Cvjz5rNz9/XXoucNewQerxKWlrtu0vSL6kKC+bmHp7475jqxd4+bq7kBzYY21m+rq7rJg3CyH05MWrXw+HFD19IS8n42ZrsW6xN01EBAn8oUryGSLUsdTu23OB/9Z280x3nN1uxrYHHr9y7WZ+0kVR0b9mFD5rN/cRFT2xb0vbTxhVFaW2wee6Tfv9xp/tRuA3TCQ7JT+6OoaB3srSc9EC/1/xZTaH87K0zH3Z+uj4JKLC2m0Hxtm6Z+Tk1zJZV66lappMOxEdi2HY+/LPw4ztQyIv1jCZ0fFJg41sHhWXYBimbeEaEnkRw7C6+obYpBsadOs/7+bhobQtXIcY2QaGRzFqapP/zBxp5oiHwjBs3Y6Dlp6LSt68bWxqyi18qGs1/VjEeXzVxGmeB8LO4Mvp2fc06NbvPn7CXy4J2OHpt6HDCHtDTmtNcb6WdqeuviEh9fYwY/vYazeJDjY2NWnQrS8n3iBKth0J07OekZaVx2TV5RY+nODgGXTmQnUtc0ah6IkAABqOSURBVITpNP9dh6sYNXg1mzlLA/YebZtSIgM4Bx8//12HyZOJYVj2/SINuvXL0jL85buPnzTo1unZ99oGXLv9oNP8VR0GJO91u60NDI/SoFsbOc/BX46389Ca6kxkGMOwn3ceGmxkM97OA8MwwRMyaorT8ajLGIZtPhAUsPcoh9NK3l+SoWx3aEjKSUJx23ooxNF3ZductD2GebQ9ePiNyPGoy6OmOBHVuPvLb6RINuncIUE+oDzWbj9oNtP39dv3L0vLjN18NOjWOhZu94oef/5S5bXiFwcfvw53R/J+77Al5APXNu0CHu3/6iD/lre7C3718x8+GWZsP8bSLSTyIqOm9sGT4kkuc5du3NlhEvj1kcNpDQyPWrZxJ4Zhccm3NOjWVYyalpYWfXuPvAePO8yPnvWM306fxzCshskcazNzy8HgKkZN0dPndKfZWw+F4HUE/FAlyapQxxK/t2e7eeaXsaKnzzXo1jfvZOPVmKy6Ycb2CTfTMT6fMG2Dk0ToxE67CK6g9Wo3M7IHGdoMMrQZOsnO3GNhwaNn+DsEIfSm7MOV5NSNfvONJ46XkZZytTX3meEYGB7V0NjUX61vSUbi0rnustLSM+ytWlux3MKH3GElJcTd7CwlxMVK3pQRhQZ62qt8veRlZWzMJnlPdww5G8NpbWXV1V9NSfPzmTVskLpYnz4T9HSM9PUy7xUK3gWSCF+ra06ev7JkzkzbKZMlJcQdzE1mOdoeDDuDd7CtGiYr8vLvK329phgZSEtJTtDTyU2IXu7tUfmV0djU7GproSgv25kskybzPw8obK8RQp8rq45HXR6tOZS70Iyun/vgMX7ihM1m37h9d+LYMfgqYRNS39AYl3LLy8WeSiW7xEAylPyGhl+54MdVTkGR9ohhbcvbPYZJkIyIqKgom81puwnJSPHbpHMNwCuQDCi3z5VVv19P818yb7B6/6EaA5fMnoEQmuFgpT9mdF9lxe0/L39UXJJT8LDD3bX7fu+wJcJ+IHTiaBf2zUhSv6GxqaWFrTd65NK57vKyMrpaI7auXnIt7c6j4hKSJJD0kUqleDrZpWbmVn5lEA1ISc9SUVQ00B0teH6i4pJoNJHNqxcrysuOGaXp5+0RFZdYXcvklxNhsyrgscTv7Umy63YzNmaU5mD1/n/cSMfr3MrKFaXRzCfTia06/IQhj9C5nXYazIp6NUsTw9LslNLslFdZ17LizzpZTwk9d+nC78kIobyixwghk4n6RGUzQ4O6+gbuu47YbPaV5FQKhaI9Yjh3WDabfTnxRkNjk97okUShBdfxZKSvx6ipfVlaJi0l+TIzaeTQweeuJG49FDJjybobt+8SF2UEQRIh/+ETNpttQh9PVKaPG1NeUVn28VO7oR48Kea0thqO1+UpH6I+wHjCuMjYP96Xf2ZzhPtbhRMkmf9VQGF7jRDaH3pmgp6OycTx3IXaI4apKMrfzslHCN3JKxQT64N/LiMhE8LhcELPxWgO1uCZdbVFMpT8hoZfueDH1buPn39SVWlb3u4xTIJkRAb+pNrc0sKoqeXZhGSk+G3SuQbgL0kGlNuT56/YHI7+mL9WjRmliRDSGfnXxHGI+gBZaemHz150uLt23+8dtkTYD4ROHO3CvhlJ6uM3EnH31HjieIRQbuEjkiSQ91FFScHMUP+30+db2C0Ioera2uCzMbNd7YXKT/7DJ+O0R+GXzBBCY7VHsjmcR89e8MtJ283JsyrgscTv7UmC32HjZDUlNTMHn7mmpGeZT6ZLiIvh1QT8hCGJ0ImddgXcV/R9EKFS+6v13fPLqluZuUm3Mjyd7WpqmQghRQU5oo6SgjxCiFVXj7/89KXK0Gk2hmHaI4bpjR6BF+4LjdgXGoEvDx+srqU5hNhcRUmBWFaQk0UI1dSyEEI7jp6IuBSvM1JzvI7WIs/p8dfTPn7+IlTj+UVg1DARQk6+vDe7VDGqNfr3axsH/yOkICfDU06hUCIO7zgZHWvs5kP8b2msYH8scR0mkwR3ShFC+B9pkoDC9vpRcckfN/9MORcam3STZ5WFMf3mnRwHC9PEWxn2U42plL/+kyNUQvaFRtBotJiQ/R32FJENZftDw6+cJBS31lasrqGB55OO5BgmQTIi+mNGy0hL7Q46tWXV4obGphsZ2X83nu9I8dukbQuRAIcEUcJvQLlVMhgIITlZafylnIw0QkhWWpqoICcrXcmoxpdJdsfv/d5hS4T6QBD2aEfCvxlJ6uMHnrKiPLFKXKyPWJ8+xM2FnfvQ8186z9F35dkrCQihqe4LRmsOnelgJWB+Dp2IPHQiEiE008GaKJSXlUEI1TD/yT85QbIqyLFE8vbkh1/GnK2nBp6KSr2TbWlidDsn/+i2X4hqAn7CkEToxE67AmZF3xOaiMjAn9TwTwc5WRmE0FdGDXHEfPnKQH+/wRBCaipKb+4mF78qnbXcP/BU1IZlvgihDUvnLZ3rzmltLX33YfbKgO1HwvB7jRFC3OdvqxjVCCElBbncwkfhF+N2b1jp6WyHr4pJuC5Um0kiyEhJIoQyYiPU+Xw+8pCRlkIIMWqYqspKPKtaWthR8Ul9lRSjftszbNBAO+/lQjWyw2QihPh9gQVPKb6M31pLHrChsREJ0+sdR497OdsP1RjYdpWlseGKzXsaGptuZmRHHN5+J7eAWCV4QtYv8WGy6hb6b0s6E9SP66xM2/6SDSWfoeFXLuBxRaVSZKWla/99gzzJMUyCZETkZWUij+zccjB4nJ27jJSUxoC/xoX8+Gx3E+4W4suCHBLEhiQDSsAnQExWHf63v66+ASHU3NJCVPjKqOmrpIhnnmR37b7fO2yJsB8Iwr7HkWCJErB+fzVV9PffflwNk9XU3IynDnXqQ6+GyfJZu9luqrH2iGFbD4Uknw1Z/ev+dTsOHd22AQmQn3WLvFfMm+W9ZhOjpoYoxJshKyONBCNIVgU5lkg+Ufnhd9gMGvCT7ijN5PQsUVFRmgjNjP7PqTt+nzA8SCJ0YqddAVfQvictLezXZe9HDR+CEMLPiOLnSHHp2fckJcR5/us8cuggA13txy9ecReKUKlDNQaa0vULnxQThcRZZYRQ5r1CVWWlIeoDyj6UI4RM/z7aWlrYRc+ek9wT0BZJhHE6WiJUakbufaJyyNmY0eYu9Q2N7YbS0xpBExHhuUcKF3Hp6odPFZtXLRo+WL0T378lTybeWipViDcLSUChep2SnvX8VWnbr1nhDMfpclpbD52IlJIUH6c9inuV4AkRpdHWL53XV1lx88FgvIRff0mGkt/Q8CsX/Lj6SU3lU0Vl2/J2j2ES5EM8TntU4pmgkozEguSYY9sD8ArkI9XuJp1uAI5kQAm6WiMoFMr9R0/xl89flyKEiItfT168qmto0NUa0eHu2n2/d9gSYT8QhH2PI4E/2QSpr6KkMGLIoDt5/0wIrt/OQggZTxxHkgTyPu4JOsXmcLavW45PT1VVlPdvWvvHzfSbd3IEz89Y7ZEFj4vZbDb+suDRM5qISLv3z7VLkKwKciyRfKLyQ3LYOFlPzci9f/7qNWszI+J7Yai9Txh++EXoxE67AmZF340qRnXAvqPNzS2+7i4IoSHqA1xtzfcEh9/JK2DV1ccl3zobm7DCZ5ZYnz4X/0gZYzk9Pfseq66+8HFxdkGR/hgt7lBsDqfkTVnmvUJdrRFE4fX0rPNXrzFZdYmpt6PiEtctnkuhUMZqjxShUk/HXK1raPj4uWL9rsNfqhiNwtyDTBJBTUXJ08Xu4PHI1Myc+obGO3kFwZEXl8yeKSkh3m4oJQV5Lxf7306fv5v/oLml5fnrUiuvxQF7j7Lq6k9Ex+qO0rQ3N+lMZkmTiRDCr9bLCfw/OfKAQvW66NmL1Qvm8PtfsqgozXTi+IiYq/bmJtxTH2ETIkKlblq5KDUzB//7wa+/JEPJb2j4lQt+XE02GFvw+Fnb8naPYRLkQ9wuYY/PrjeA34By69dX2dXGfPexU8WvSj9+rgg9G4MQOncl8cmLV+Wfv2w5GDxBT9tAd3SHu2v3/d5hS4T9QOhEDoUdKfL6AX7zb9y+e/L8lRomK7fw0d7g07OcbAcP7E+SBJI+Pnnx6lLi9Q1L53Ff1dUdpelkNWXXbydaWtgC5sd7uiOHw9l17GR1LTP/4ZNjERdmOFgpysshwQiSVUGOJX5vT5Jdkxw20yxMGxoaM3LvO1qY8mzF8wnDD78Indtpp8EVtF4N/w4aQohCochISRnojr4cdlBziAa+dv/GNUdPR/vvPlL1tXrwwP7b1i3zcLRBCLlPs2ZU12w9FFJeUakoL+s+zXrZnL/O5xN3PCjIyU4yGLvRbwGxL1c7i2tpd3YdO6mqrLTLfwX+OyjDBqkf3ro+MDwqOj6xn6qKxWR6gN+CA2FnqmuZ+J/qoDMXgs788xsYk129udvvt3lP0I4Akgi/rl2mqqy07UjYpy+VA9RU1y6cg8/5+NmyZomCvOy6nYcqvzLUVJQdLc1Wz58dfPZidS0zdPemrvxKG79kOs1f9azktc8MJ/x6Nj4WIlQqtaN98QuIEBK810PUB8xxcyDZi6WJYVLaHYd/z35OXYwTNiGTDcZOnTRh59ET4uJi/PpLfjC0OzSIz5CJitLIjyuCtemk8Ivx+I+p4CUkxzA5khHhR9jjs+sNaHdAeez+ZeW2I2Fui9YoyMm6T7MpflVqb268csve9+WfjfR1929cK8ju2n2/d9iSDj8Q2iLJ4ZaDwWevJDy//QfPjEfYkSKpb2ZoELzrf0dPRx86ESkjLeVmZ7Fh6TzyJJD0cduRMJ0Rw52spvA0YMPSeVPc54fHxC+ZPUOQ/CjIyZ4N3LU98LiBwyw5GRkXm6n+S/5plSAfqoIcmYIcS/zetvyQHDYqSgqG43WfvXxjZDC27YbEJ8y1cyEifM6784vQ6Z12Ute/3P+NDTd2CL8Y19Ot+NHw/MjKf+LIyXPLN+3+b2OC/4dcFqzGf+UFtPXx8xcNunVqZo5QW3XH+71zrL0Wt7a29siue08SBNezH6odZsxu7rKdv53oyi7aRvgGO+UBV9AAAL3a+iU+0fGJjU1C/B4E+C7cK3pCoVLhQRzfOzaHU9/QmHAz/WXpO9+Zzt8mQtd3yg9cQQMA9GqG43XNJ9PDL8aR/74c+O4UPX3OfeUIfKcaGhoNnedIiIsd3rqe5Ftm/22Eru+UHwomzPeJOqGpuXlvcPjvN9KbmpttzCbLyUg9efEqJuQAQkjTZNovy32Jq6F+m/d8qfqKryJ5lAz3VjqWbivneeY9eJSV/0CURnOwMN26Zgn+jBuSCDqWbusX+6TdzcspKJKUkJg7fZqjpdnmA0H3Hz1VVVbauGKhtakREvhhVQAAAAD4MXT7FbQNuwNT0rPCD2y7ffl0ayvnbGyCIFv9b/+xW1m5Zw7veHIrLnT3/5JuZZy6cKXdmgePR1qZGN1LunB875Yr125GXPpdkAg7fzvhamtemHJ5vodL4Kkoj+X+C2a55SacN6Xrr912AP81rf1hZwJPRf2yfH7R9djVC2b77z58JTm1y/kAAAAAQC/VvbOiD58qrl5P81/qO1Z7pLKiwr6Na+T4fE+Bm1CP2rE0ps9wsJKSkKCPG2M8cfyfd/MEiTB10gRHSzMJcTEvF3uEkK3Z5ClGBnIy0r4eLnUNDS9ev+3E43sAAAAA8F3r3vuK8h8+QQjRx+rgL/uIippMHNfh8yLwR8m8eP323JXEl6VlT0teFT4u1hk1vN3Kw//+mjpCSEFWtuJLlSARiC+3S0tJIoSGDVLHX0pJSCCEalmsdh80c/ZKQtnHT/x+qB4AAAAA37XunRXhDyuRl/vnwd0qSoqCPEVL8Eft9KH90wUKBbX+fS6HPIKE2L+erNT2NzE78fgeAAAAAHzXundWpCgvixCqYlQP6KeKl1TX/PNAEwqF0tr6zwWppqa/fgC0W5+9JaBOPL4HAAAAAN+17r2vyEBPm/txLa2t2L2ix8RaaSlJ4rl9GIY9f/0WX+7WZ28JqBOP7wEAAADAd617Z0WqykreM5wOnTibfb+oupa5O+jkm3cfiLVmhgbxKWmv3r6rZbH2BIeXV/x1hatbn70loP/2EUgAAAAA6P26/VccN61cJCsjtXLrXlZd/RSjCZP09dgcDr5qo9/8zQeDp81b0UdU1N7cxHem84Onz1GnHrXDo+sR0H/9CCQAAAAA9HLd/iuOPLh/qhGAH5XHcv/5Hq6WxvSebggAAAAhwHPQAPjv/W/Fws0HjtWyWD3dEAAAAEIQ9AraIEObTkQvSL6Efw3th5FT8NBjuX8nNvzxUgFI6IwcPnywRviF+DUL5/R0WwAAAAgMA72VtoWrBt1ag249xMjWwGHWkZPniFXZ94vwVdz/0rPvYRjW0tISFnV5qvsCTZNpU90XnL96Dd/Ee80mutPskjdvMQyLS76lQbeuYtRgGJZwM13Hwi38YhyGYa2trSeiY03cfIYZ25t7LIxLvsXdmJDIi8TLtdsPOs1f1eGq8XYe3M3GserrNejWePCE1NsadOsr11LxVamZORp06z9u/MmzyagpTsejLmMY9vHzFyvPxXZzl5EnobGpaW9w+CSXuUMn24+zdd+477eGxiY8FIfTGnrukombz3BjBxM3n2MR5zmcVpJyfvkkHyAMwy78njzWZgaxXwAAAL1ft99tDbpiw9J5S+e61zc0Jv95Z92OQ3qjR5gZGhBrb108OVRjIELoffnnya7ef22yOzA9Jz9w63q90SNv3skJ2HuUVVe/0NPt9MHtx86cP3LyXPCu/xER2Gz2tsCw8IPbDHRHI4T2h505e/mPg5vXmdL10+7mrdm2vxVrdbO16L4OOpib/HEjPTA8ytHKjEKh7A0Ot5hMn2Zpxq9+6NmY8WO0dq5fQZS0m4T/7T/28NmLM4d3DPxJrejp80Ubtvfrq+znMwshtPO3E/Eptw5vWW+gO/ppyasVm/dSKJTl3h78yvnlE98RyQBZmRgF7D2alV9oPmli9yQPAADAfwzuK/oOSEqIu9lZSoiLlbwpI6/5puzDleTUjX7zjSeOl5GWcrU195nhGBge1dDYRKVSPJ3sUjNzK78yiPop6Vkqior4lKinHv22c71fdQ3zbGzC8ajL5RWVO/1X8KtZ39AYl3LLy8WeSqWQBCR5Cl4NkxV5+feVvl5TjAykpSQn6OnkJkQv9/bgV06ST+49tjtAivKy/dX65hY+6nKGAAAAfCMwK/oOsNnsy4k3Ghqb9EaPJK+ZV/QYIWQyUZ8oMTM0qKtvePz8JUJIRUnBzFD/t9PnW9gtCKHq2trgszGzXe3xmu0++q28orLs46f/vEfc+iorblyxYOdvx/eHRmz0W6CmotRuNQ6HE3ouRnOwxmjNoeQB8afgjRw6+NyVxK2HQmYsWXfj9t2m5maE0IMnxZzWVsPxujyb8CsnzyeB3wAN6Kf6ofwzeWsBAAD0HnAFrVfbFxqxLzQCXx4+WF1Lcwh5/ZpaJkJIUUGOKFFSkEcIserq8Zf+S+c5+q48eyUBITTVfcFozaEzHazwVR0++o27MQgh7hkAyarA8KjA8Kg+oqL9+irbTTVeNX9222bbTzX+9XAIp7XVxmwSv67tC42g0WgxIfvJM4Dj9xQ8/LfUFeR4f7OKX3mH+SQfIEkJ8dq/awIAAOj94FxRr7Zh6bzS7JRXWdduXTzJqqvffiSMey2FwnshSU5WBiH0lVFDlHz5ykAI4b9dWcNk+azdbDfVeNu6ZQih5LMhbDZn3Y5DeE3i0W+l2Snc/8Zpj+JuDP7Pzc6ybTvbXbV6/uzS7JSnf14N3vW/+JRbvx4OadvNPcHhGIaoFOqOo8f5pWL9Ep8FHi4L/beV//s5wW2TgD8Fb+f6Fb+HH92yerGliWFzc8tffZSWQn/P/7jxKyfPJ+pogGpqWQoC/2ooAOD/2ruzkKjiKI7jZ+5MqWFuaQVm0WKWJWWYGRZqkRSBQ5GVtOBki1ZTqaQkVhipLYYoBSUWEVQUUbSAhe1GqZmKIG20EBktZj1UVir08A8ZRmcwTE36fh7P3Lnzn3Nfftz7nzlAjyMV9QJ6TRs5zCcsJKiq9pGqqL0+mmZ9+dQOoVulFa2Vm/fu93NyVPcwsvcXNre07Ehe5+LsLCKDvDz3pCddKL5ZXFIqXTz6zaDXj/cbNSN0Slm19T6b0sqak+eLklYvN5tizl2+brl4S30Mhs0JpoGeHltzDqiKrSbYmYI30d/PoNeXVdVYvcVW3X4/W7W9QMrbD/Xegwe2+3UAAP8gUlEv0NzS8vTFqzv3qyb4+6mK2uvj2t/Z6sgRQ4fMnzMz+8DhkvLKL1+/nS26duzMRXNsjEPfvrVPnp2+dCU1weTk6NB6/ISxo42REZn5BU1NzV06+q3x+4+Kmtobd8snjRtrWf/+42dqVm7AGN+VMfPjly309x2Ztjv/a2NjuyfRa1r6htVX75SWlFfaaYKdKXgD3N2WzJubf+TE3Yrqn01Nj5+/jFyyZsuuPFt1O/20/MS2F0hE3tc31L19Pz14Uue7BwDoHuwr+qe1bltxd3UJnRyYtn6liBjjNj58+jw22uju+vtvIXU6nV7TNJ1ORPakJeYdOZ6Slfux4fNwH++M5LWLo2aLSEbuwQA/X2NkhNVHpCaYIhbFHT51Ln5pdFeMflP7ijRN5+XhET41KM28yvLVnENH6959OLR7u17TRGRvepJxxYacg0e3Jya0e7ZpkwNnhAbvzCtwdHSw1QT7U/C2Jca7u7kk79xX3/BpsJdn1KzwTXFLRcRW3VY/7Vwg5XbZAw83l+DAgE42EADQbbp7Dhrwn1iwJjksJMhsiunphQAAOoonaMDfV1376OXrN7HRUT29EADAHyAVAX9f1v7CzBSz+mkbAKC34AkaAACACPeKAAAAFFIRAACACKkIAABAIRUBAACIkIoAAAAUUhEAAIAIqQgAAEAhFQEAAIiQigAAABRSEQAAgIiIoYPH1X1u7NJ1AAAAdIa3m1Mnz8AcNAAAABGeoAEAACikIgAAABFSEQAAgEIqAgAAECEVAQAAKKQiAAAAEZFfh/fbnetMtZwAAAAASUVORK5CYII=)"
      ],
      "metadata": {
        "id": "bWnNLX-ZbxGU"
      }
    },
    {
      "cell_type": "markdown",
      "source": [
        "## Пример использования перечисленных специальных полей:"
      ],
      "metadata": {
        "id": "epNv5RnWb-2U"
      }
    },
    {
      "cell_type": "code",
      "execution_count": null,
      "metadata": {
        "id": "OTYTDYJZJmA8"
      },
      "outputs": [],
      "source": [
        "class Alpha:\n",
        "  def hello(self):\n",
        "    pass\n",
        "  class Bravo ():\n",
        "    pass\n",
        "class Charlie (Alpha):\n",
        "  pass\n",
        "class Delta(Charlie):\n",
        "  pass\n",
        "obj = Alpha ()"
      ]
    },
    {
      "cell_type": "code",
      "source": [
        "# Поле __class__ экземпляра класса\n",
        "print (\"Поле __class__\")\n",
        "print(\"Экземпляр obj: \", obj.__class__)\n",
        "\n",
        "# Поле __class_. класса\n",
        "print(\"Класс Alpha: \", Alpha.__class__)\n",
        "print(\"Класс Alpha.Bravo: \", Alpha.Bravo.__class__)\n",
        "print(\"Класс Charlie: \", Charlie.__class__)\n",
        "\n",
        "# Поля __bases__ и __mro__\n",
        "print(\"\\nВозвращается список базовых классов и цепочка наследования класса:\")\n",
        "print(\"\\nПоля __bases__ и __mro__\")\n",
        "print(\"Класс Delta, поле __bases__:\", Delta.__bases__)\n",
        "print(\"Класс Delta, поле __mro__: \", Delta.__mro__)\n",
        "print(\"Класс Alpha, поле __bases__: \", Alpha.__bases__)\n",
        "print(\"Класс Alpha, поле__mro__: \", Alpha.__mro__)\n",
        "\n",
        "# Поле __doc__\n",
        "print(\"\\nВозвращается текст документирования класса (текст, описывающий класс). Текст документирования можно непосредственно указать в теле класса первой строкой или присвоить полю значение:\")\n",
        "print(\"\\nПоле __doc__\")\n",
        "print(\"Описание класса Alpha: \", Alpha.__doc__)\n",
        "Delta.__doc__ = \"Класс Delta наследует класс Charlie\"\n",
        "print(\"Описание класса Delta: \", Delta.__doc__)\n",
        "\n",
        "# Поле __module__\n",
        "print(\"\\nВозвращается модуль класса:\")\n",
        "print(\"\\nПоле __module__\")\n",
        "print(\"Модуль класса Alpha: \", Alpha.__module__)\n",
        "\n",
        "# Поле __dict.__\")\n",
        "print(\"\\nВозвращается словарь с атрибутами класса:\")\n",
        "print(\"\\nАтрибуты класса Alpha: \", Alpha.__dict__)\n",
        "print(\"Атрибуты класса Alpha.Bravo: \", Alpha. Bravo.__dict__)\n",
        "print (\"Атрибуты класса Delta: \", Delta.__dict__)\n",
        "\n",
        "# Поле __name__ и __gualname_\n",
        "print(\"\\nВозвращается имя класса и полное имя класса (в точечном формате, отображающем структуру вложенных классов:)\")\n",
        "print (\"\\nПоле __name__ и __qualname___\")\n",
        "print(\"Класс Alpha, поле name: \", Alpha.__name__)\n",
        "print (\"Класс Alpha, поле qualname: \", Alpha. __qualname__)\n",
        "print(\"Класс Alpha.Bravo, поле name: \", Alpha. Bravo.__name__)\n",
        "print (\"Класс Alpha.Bravo, поле qualname: \", Alpha.Bravo.__qualname__)\n",
        "print (\"Класс Delta, поле name: \", Delta.__name__)\n",
        "print(\"Класс Delta, поле qualname: \", Delta.__qualname__)"
      ],
      "metadata": {
        "colab": {
          "base_uri": "https://localhost:8080/"
        },
        "id": "PleTuX5EcJy2",
        "outputId": "66156ce1-e44c-43b2-ef01-3ee794bdb1bc"
      },
      "execution_count": null,
      "outputs": [
        {
          "output_type": "stream",
          "name": "stdout",
          "text": [
            "Поле __class__\n",
            "Экземпляр obj:  <class '__main__.Alpha'>\n",
            "Класс Alpha:  <class 'type'>\n",
            "Класс Alpha.Bravo:  <class 'type'>\n",
            "Класс Charlie:  <class 'type'>\n",
            "\n",
            "Возвращается список базовых классов и цепочка наследования класса:\n",
            "\n",
            "Поля __bases__ и __mro__\n",
            "Класс Delta, поле __bases__: (<class '__main__.Charlie'>,)\n",
            "Класс Delta, поле __mro__:  (<class '__main__.Delta'>, <class '__main__.Charlie'>, <class '__main__.Alpha'>, <class 'object'>)\n",
            "Класс Alpha, поле __bases__:  (<class 'object'>,)\n",
            "Класс Alpha, поле__mro__:  (<class '__main__.Alpha'>, <class 'object'>)\n",
            "\n",
            "Возвращается текст документирования класса (текст, описывающий класс). Текст документирования можно непосредственно указать в теле класса первой строкой или присвоить полю значение:\n",
            "\n",
            "Поле __doc__\n",
            "Описание класса Alpha:  None\n",
            "Описание класса Delta:  Класс Delta наследует класс Charlie\n",
            "\n",
            "Возвращается модуль класса:\n",
            "\n",
            "Поле __module__\n",
            "Модуль класса Alpha:  __main__\n",
            "\n",
            "Возвращается словарь с атрибутами класса:\n",
            "\n",
            "Атрибуты класса Alpha:  {'__module__': '__main__', 'hello': <function Alpha.hello at 0x7ac3557dc160>, 'Bravo': <class '__main__.Alpha.Bravo'>, '__dict__': <attribute '__dict__' of 'Alpha' objects>, '__weakref__': <attribute '__weakref__' of 'Alpha' objects>, '__doc__': None}\n",
            "Атрибуты класса Alpha.Bravo:  {'__module__': '__main__', '__dict__': <attribute '__dict__' of 'Bravo' objects>, '__weakref__': <attribute '__weakref__' of 'Bravo' objects>, '__doc__': None}\n",
            "Атрибуты класса Delta:  {'__module__': '__main__', '__doc__': 'Класс Delta наследует класс Charlie'}\n",
            "\n",
            "Возвращается имя класса и полное имя класса (в точечном формате, отображающем структуру вложенных классов:)\n",
            "\n",
            "Поле __name__ и __qualname___\n",
            "Класс Alpha, поле name:  Alpha\n",
            "Класс Alpha, поле qualname:  Alpha\n",
            "Класс Alpha.Bravo, поле name:  Bravo\n",
            "Класс Alpha.Bravo, поле qualname:  Alpha.Bravo\n",
            "Класс Delta, поле name:  Delta\n",
            "Класс Delta, поле qualname:  Delta\n"
          ]
        }
      ]
    },
    {
      "cell_type": "markdown",
      "source": [
        "## Пример использования специальных методов:"
      ],
      "metadata": {
        "id": "d4zaqRPIjPjG"
      }
    },
    {
      "cell_type": "markdown",
      "source": [
        "* Далее - мы рассмотрим специальные методы. Начнем в качестве иллюстрации с метода call(), который предназначен для выполнения достаточно благородной миссии: если в классе описан этот метод, то экземпляр класса можно вызывать как функцию.\n",
        "\n",
        "* Небольшой пример, иллюстрирующий, как определяется метод \\_\\_call__() представлен ниже."
      ],
      "metadata": {
        "id": "edg_N63pejH9"
      }
    },
    {
      "cell_type": "code",
      "source": [
        "class Box:\n",
        "# Конструктор\n",
        "  def __init__(self, width, height, depth):\n",
        "  # Поля экземпляра класса\n",
        "    self.width = width\n",
        "    self.height = height\n",
        "    self.depth = depth\n",
        "  def __call__(self, width, height, depth):\n",
        "    self.width = width\n",
        "    self.height = height\n",
        "    self.depth = depth\n",
        "\t# Вычисляем произведение полей экземпляра\n",
        "    volume = self.width * self.height * self.depth\n",
        "    return volume\n",
        "\n",
        "\n",
        "obj = Box(10,20,30)\n",
        "print(obj(10,20,30))"
      ],
      "metadata": {
        "colab": {
          "base_uri": "https://localhost:8080/"
        },
        "id": "FXgEFEexLnG3",
        "outputId": "cba50049-9d9e-4871-fe21-2e13620f48ed"
      },
      "execution_count": null,
      "outputs": [
        {
          "output_type": "stream",
          "name": "stdout",
          "text": [
            "6000\n"
          ]
        }
      ]
    },
    {
      "cell_type": "markdown",
      "source": [
        "* В этом примере мы эксплуатируем идею с классом, который описывает некоторый «ящик» или «коробку» (в геометрическом смысле этого понятия). Класс называется Вох. В классе описан конструктор, при выполнении которого полям width, height и depth присваиваются значения (аргументы конструктора).\n",
        "\n",
        "* Для вычисления объема вместо того, чтобы описывать метод экземпляра класса, определяем метод _call_ ( ) . Поскольку метод будет вызываться (неявно) через экземпляр класса, аргументом метода указана ссылка self на экземпляр класса. В теле класса командой volume=self.width\\*self.height\\*self.depth вычисляется произведение полей экземпляра класса (то есть объем «коробки») и записывается в локальную переменную volume, после чего значение этой переменной отображается в окне вывода. На этом описание класса Вох заканчивается.\n",
        "\n",
        "* Вне программного кода класса Вох создается экземпляр obj этого класса, а затем следует команда obj() — то есть мы обращаемся к экземпляру класса так, как если бы это была функция. Поскольку в теле. класса Вох определен метод call(), то автоматически вызывается этот метод. В результате в окне вывода появляется сообщение с информацией об объеме «коробки»."
      ],
      "metadata": {
        "id": "-QG6_8I0e3kW"
      }
    },
    {
      "cell_type": "markdown",
      "source": [
        "*Помимо метода \\_\\_call__(), существуют и другие полезные специальные методы, которые условно, в зависимости от их назначения, можно разбить на группы. Так, есть достаточно много методов, предназначенных для преобразования экземпляров класса к базовым типам — таким, например, как целые числа или текст. В таблице представленной ниже описаны некоторые из таких методов. При описании все они имеют один аргумент – ссылку на экземпляр класса (это, фактически, тот экземпляр, который нужно преобразовать к базовому типу). Явно эти методы обычно не вызываются. При каких обстоятельствах они срабатывают, описано в таблице."
      ],
      "metadata": {
        "id": "15-pgCVPffbO"
      }
    },
    {
      "cell_type": "markdown",
      "source": [
        "![image.png](data:image/png;base64,iVBORw0KGgoAAAANSUhEUgAAAwIAAAHVCAIAAADNettRAAAACXBIWXMAAA7EAAAOxAGVKw4bAAAgAElEQVR4nOydd1wTydvAJ6FKkyrYABsgRZAmHaQIggJWsKCI2LueeuqpZz0LKhbABoiCwoniKQoqehSRIoKNE9vpa6MqnVBC8v6x91tzSXazCah4PN9P/sjOzM48zzPP8+xkZ5PQ2Gw2AgAAAAAA6H7Qv7cAAAAAAAAA3wdYBgEAAAAA0E2BZRAAAAAAAN0UWAYBAAAAANBNgWUQAAAAAADdFFgGAQAAAADQTYFlEAAAAAAA3RRYBgEAAAAA0E2BZRAAAAAAAN0UWAYBAAAAANBNEReq9egZC5+++Hv8aJf9m1ZzlpdXfbL2mc5ise9cjOnXW71TJezuZOXdj0y49KC4pLmlpX8fDS8XhyA/XwU5ue8tFwAAAAD88Ah9N2hA/743MnNa29o4C6/eytTu17fzpAL+IfRk7OzVv44YbpQae7Qo9fz21UvScwq8Zy39vw+l31s0AAAAAPjhEXoZZKA7WF5WJiP3Pmfh5ZsZrvZWnScVgBBCaXdyD0bFRfz2y4KAyRpqKj2kpUYMN4oP2yMnK7P8190sFvwnLgAAAAB0COE2xTCcbUdcvZXp9r91z/vS8rKKSkPdwXgDNpt98tzF2IvJHysqtfr2WTTTf5yHM0Io6KdNt7PzuXorvp0kJSERmXDp9yvX35eW9+utHjxl/BSf0V+G8wv+++17/FCmh/Rfty+JIPYPR1hMvKWJoYvtCM5CaSnJ1fMDZ6745e79B3YWw43cJtQ3NHI28Bvrvnv9CoSQkduEhQGTF8zwQwg1t7SOnBxEp9Ozk04jhFgs9vGziecuXSutqOrdS3XSmFELZ/jT6bSW1tbQk7FX0jLKKj/1lJfzcLLduGyetJQkV28IoVXb9r36v3eXToaSD0TkCQAAAADQFRBlGeRqZ7V4487WtjZJCQmE0JWb6c62I2gcDfYcPXX6/OWQjascrcxv381fsWUPi82aMNo1KmQrQqiltVXX0Tvkl1UTvdyw9qu2hqTnFoRuXm1ioHczK3fdroMNjU1zpk7AatuYzBO7N7s5WCOEjsclhkbGdkjjH4T6hsaHfz1bPjuAt8rGzERKUvJ2dr6dxXCE0NoFs/DVydhZS/j2dizufGlFVV+NXtjh9kPHk1Jv7d+02sLY4K8Xr5Zs3EWj0RbN9N+w5/Cjp89P7d/Wv4/Gw7+ezV27tXcv1cWBU6iLzTUQkSdQ7xAAAAAAvh6ifFPMxtyYxWJl5BRgh5fTMlztvuyIfa6pPXH2wvyAyaNH2sn0kB7j4jDFe3TI0VNsNv9NnNdvP1xISVu/eLb9CDN5Odnxo10CJ3mHRsYymluwBq2tbfJysiLI+UPzobySxWL37qXKWyUhIa6movShrJxiV+VVn47FnjfQGYQd1tY3xJz/Y2nQtJE2FnKyMpYmRnlX4hbN9G9obLqUentx4JTB2ppSkpKWJkY25iZ37hVRl5lrIGE9AQAAAAC+MaIsg6QkJe0sTZNvZSKE/n77/s27D7YWJnhtwaNiJpPpYGWGl1iZDiutqHr7sYxvb/kPnyCEHEaY4yVO1haNTYwnz14ihNpZrE/VNSpKiiLI+WPDZiOExMTE+FaKE5TzZU/EKUsTI4cR/8zIg+KSdhbL2syYq5mcrMzLO1f1Bg04cyF5877wSfNX3ci429LaKvJAwnoCAAAAAHxjRNkUQwi52lltDT3a0tp6JS3DztJUSlISr6qurUcI+QQt5TrlU3WNVt/evF3V1tUjhJSVeuIl2KKnobEJIVRR9ZnZ3t4Nv4TfR0ONRqOVV1bxVrWzWOVVn5xtLan087jkxeWbf6aeiUi8ehMrqa6tQwgp9ZTnbbzt4PHo35OM9HTMjPTnTp2YdP32x/JKvHZ3RPTuiGj80MRAT9BAwnkCAAAAAHxjRFwGudha/vxbaEZuwZWbGXOnTeCskpeVQQhlJkZrUrvU9VSQRwh9rq5VU1HCSio/VyOEFBXkEUKPS55r9e3dQ1pKNDl/XBTk5CyMDdJzC/DnfnDyix4zmluc//3oNBHbDh6b5us1SKs/XoLtMFbX1qurqnC2zCt6HBl/cefapVN9PbGShCvXORtwPoSEPSItYCAhPQEAAAAAvjEi/oq0qrLSsKE6h6PPvfq/d842/7otYWqkL0anZ+Z9+UZ9+OkEA5dxTYxmvl1ZGBsghDJyC/CS9Jx7Mj2k9XUGIoTu5BeZGxuKJuSPzpLAKfkPnlzPuMtZ2NrWtis8ylhf18bMhOhEnNT07Gev3iwPns5ZaKKvKy4mllf0iKvx2w+lCCFHq392J9vamA+fPqP4HA/fgYT1BAAAAAD4xoj+ZxqudlaPS16YGOiqKitxlmuoqUwd5xlyLCbtTm4TozkrvzAsJn7+9MkyPaT59jNQs9/40S6/hUVm5Rc2NDZdTLl1OvHKksApUpKSdQ0NF1LSvN0cRRbyh8Z+hNlP82Yu3bTrWFxi5afq1ra2widPpy35ubau/tDWn+l0msAeHj59vjw4ALuvhqOipDhtnNehqLN3Cx60trU9+/vNqGnz1u06ONxQT4xOj0q41MhgfCyvWL1jf+Wn6ub/PaguwkDCegIAAAAAfGNE3BRDCLnajdh3PIbzO2I4v65cqK6qsuXA0bLKqn4a6ivnBAT5jSPpas/6FQej4tbsPPDpc82A/n23rFro7+2BEBrmNhEhNHPFL1ztnf2CbyecFFnyH4hFM/1NDYdGxiedPHehvqER+zON2X7jKH51bqBmv4AJY3jLN62Yr6SosGr7vqrP1Rpqqt5uTstnT5eQEN+/eXVoZGxcUnJvdTVXO6t1i4P3Hj1VU1fPtb6hPpCwngAAAAAA3xJaV/72sra1x634E5yPmyCEbmTe3RUW1U2WQQAAAAAAfD3gH+YBAAAAAOimdOm7QQAAAAAAAF8PuBsEAAAAAEA3BZZBAAAAAAB0U2AZBAAAAABANwWWQQAAAAAAdFNgGQQAAAAAQDcFlkEAAAAAAHRTYBkEAAAAAEA3BZZBAAAAAAB0U2AZBAAAAABANwWWQQAAAAAAdFNgGQQAAAAAQDdFnHrTDzWMrycHAAAAAABAB+mr2EOo9vDXqgAAAAAAdFNgUwwAAAAAgG4KLIMAAAAAAOimwDIIAAAAAIBuCiyDAAAAAADopsAyCAAAAACAbgosgwAAAAAA6KbAMggAAAAAgG4KLIMAAAAAAOimwDIIAAAAAIBuCiyDAAAAAADopsAyCAAAAACAbgosgwAAAAAA6KbAMgjo7tTW1mJvmpubsTeVlZUMBuP7SQQAAAB8I2AZ1HUZPWOhtrXHyq17ucrLqz4NtB2tbe3xvrT8uwj2H0NSUlJJSYlOpy9atEhaWppGo0lLS+fk5HxvuQDgv8mmkLCIM79/vf71nX2PxyV2Yoc6DmOjEpKw9/6L1tzMyhV4yqhp87StPbDXQNvRpqP9Fv+yEzJ21wSWQV2aAf373sjMaW1r4yy8eitTu1/f7yXSf4+PHz9WV1ezWKyoqKjm5mY2m/3u3bvq6urvLRcA/AcpeFR8KzsvyM/3ewsiIhuWzNm493BdQ4PAlm4O1m9yUt/kpD5Lv3L+aMj7soqAZeuZTOY3EBIQClgGdWkMdAfLy8pk5N7nLLx8M8PV3up7ifTfQ0ZGJioqCj/csGFDVlbW8OHDv6NIAPBfZefhk0F+vlKSkt9bEBEx0hsyZIBW5Lkk6qdISIgP0uq/OND/9bsPT569/HqyAaIh/r0FAATgbDvi6q1Mt/+te96XlpdVVBrqDsYbsNnsk+cuxl5M/lhRqdW3z6KZ/uM8nBFCQT9tup2dz9Vb8e0kKQmJyIRLv1+5/r60vF9v9eAp46f4jP4ynF/w32/f44cyPaT/un2Jj1QEzXILH/kvWsPVOObAdkcr88y8+3siol+8ftvS2oqVT/X13Ll2KVdjI7cJ9Q2NnCV+Y913r1+BVS0MmJxd8ODew2IVJcVZk33mTJ2An7UwYPKCGX4IoeaW1pGTg+h0enbSac4Oxeh0FWXFqT6ey4On/8t0F668LysLCgrCCs3MzFxdXeXk5Ih0JDI4lxgIoVXb9r36v3eXToaSS0jRMu8+lv26PyL/4RMJcTF3R9sNS+bIycoghPSdfZfPnj532sTSiqrAFb+Ii4tdjQnLyC3YHR7999t3Gmqqy2ZPxyQkkdzca0rV5+rNKxbMmuyDlWTkFsxc8YuqslLB1XPk8yLapJPMZktra+jJ2CtpGWWVn3rKy3k42W5cNk9aivvCyVdxzgYkgjGZTKIo4NR0oGa/2wkniebueFxiaGQsHiDvS8vtxs/E+icxNYvFPn428dyla6UVVb17qU4aM2rhDH86ncZXHRI5yadsa+ixC9duFlyNl5D4J8kHrtwoKSFxfPcm3BREKcLKe7rAaOJyAyrDIYQKnzwtKi4J27Ghc0dHPHwoqwj6aVP+gycKcnIzJ3nPmzYRKyexJ0kVF14uDnsiohbM8OP1SRLE6GLiYmIavdSwQ3OvKdPHeeG5CKORwTBwHndg8xrMW/hGMZUTSZIeSXAJeynpISXN15O/V6oXGVgGdXVc7awWb9zZ2tYmKSGBELpyM93ZdgSNo8Geo6dOn78csnGVo5X57bv5K7bsYbFZE0a7RoVsRQi1tLbqOnqH/LJqopcb1n7V1pD03ILQzatNDPRuZuWu23WwobEJd7I2JvPE7s1uDtYIISzL85WKvNmt+BODtPqj/10YEEK19Q1z127xGTXydOhOZUUFhNDoGQuJVF67YBa+khg7awlnVcixmKWzpx3Zvj638NGKLXsQQrjkOMfizpdWVPXV6MXVYROjOeXPrFXb9pkY6DpZW3Caztp0GN5YQkJCWlqaTqcT6UhkcCJ1eOGUkKJlmltaZ6zYYGowNOvCqbKKqgXrt89Zu+Xs4V002hdfiDidYDZMf/vqJR/KKoLX/LoyOGDaeK/ktMxV2/YOGaBpqDuYXHJZmR5pWTn4NTX5ViadzuloZPOCRJp0otncsOfwo6fPT+3f1r+PxsO/ns1du7V3L9XFgVOI7IkrzreWVzCE0NqdoSRRwKkpF7zexRcSU28/dDwp9db+TastjA3+evFqycZdNBpt0Ux/vuqQy0kyZb7uI6MSkjLyClztrBBCDY1N2QVFBzat5hSSKEWQ68vXDagMhxC6fCN92FCd3r1UO3d0XmISL69dMOvA5jU59x+u2LJHWkpy5kRvcnuSm5qTUQ4263YdzC4ocrEdQSQAJ+0s1pt3H47Fnd/60yINNRUqpyCEiKKY4ulESY8kuIS9lGwNPcbrydPHj/mOqV40YFOsq2NjbsxisTJyCrDDy2kZWKLB+FxTe+LshfkBk0ePtJPpIT3GxWGK9+iQo6fYbDbf3l6//XAhJW394tn2I8zk5WTHj3YJnOQdGhnLaG7BGrS2tsnLyQqUimIznKrP1c0treNHu2KBITIWJobLgqYpKsh7ONnOnOgdfjqhncXibFBe9elY7HkDnUG858r0kJ7g6dZDWurF67eIx3R4M9x0fHUU1uC8cElI0TLpOffefSzfsmqhooK83uABW39alHP/YW7hI7xBE6P5YuqtaeO86HRaX41eLzKTF8zwU5CTm+Q1isVi5xU9Eii5k5V53oMn2OczJpN5I+PuiOHD+EtDDYGq8Z3NhsamS6m3FwdOGaytKSUpaWliZGNucudeEdEonIpTFExgFBDBNXcSEhJMZjtvMxJT19Y3xJz/Y2nQtJE2FnKyMpYmRnlX4jjXQJzqCJSTZMqGDdUZoNn38o107PBWdp6EuLiLnXCb6STRxAXF4XILH1K/kFMfnRd7S9MFM/ywux0BE8aGxcSzWGwSewrlEsqKCn01euUVPSaX4WZmDvaI9CBbTxf/OYWPn777WEY9UfCNYmHtwJX0SIJL2MxG5MldIdULCyyDujpSkpJ2lqbJtzIRQn+/ff/m3QdbCxO8tuBRMZPJdLAyw0usTIeVVlS9/VjGt7f8h08QQg4jzPESJ2uLxiYGtmPdzmJ9qq5RUVIkF4liM04GavaztzSNSbz8vrSc2c7nykERziWgjblJdW3dyzdvORvsiThlaWLkMMKM51TEZDLPJ99gNLeYGOghfqbDqPxcg4h1FNbgvHBJSNEyHk62L7OSsV0wTHeZHtL3HhZjh+3t7RFnEnQGaHElBSaTeSEljUajGeoOESi5oe5gNWXFjNwChFBWfpGUlKSFsQFFpfgiUDW+syknK/PyzlW9QQPOXEjevC980vxVNzLu4nfXuSBSnBzyKCCBa+7691FvbWurrq3jakZi6gfFJe0slrWZMRV1BMpJPmU+o0am3cnFLuSp6dkudlY9pKXIFSTXlxwqw737WN5HXe1rjM6Fo9UXo1mbGldUfS6tqCSxp7Au0a+3+gdBX/vCH5F+lX0tO+m0j/vIiDO/n/sjRVhdOKNYhHM5kx5JcAmb2Yg8uSukemGBTbEfAFc7q62hR1taW6+kZdhZmnI+XVhdW48Q8gni3nb9VF2j1bc3b1e1dfUIIWWlnngJdqVvaGxCCFVUfWa2t/frrU4uD8VmnNBotOj9207EJdpPCMQ/Xgw30KPeA4aaihL+XqmnAkKotu7LVzYel7y4fPPP1DMRiVdvcp61OyJ6d0Q09n7IAE19nYHo36Zjs1n/l3sDa1Df0ECio0CDc46FEDL5t468EgprGe+gpY+ePsfe19TV4QqKi4snhO/hbFlW+cnaZzqbzTbUHWxioHvp+p/kkiOEXO2tbmbljnF1TL6V6eVsT6d16GOSQNWIZnPbwePRvycZ6emYGenPnTox6frtj+WVfIfgq7hAyKOACN65Mx9mIC8nu/PIyU3L5jGaW25k/vMjCyROgq2ZlHrKU1GHipwkU+br7hx6MjYtK8fNwSYjt+Dglp9JtKOiLzkCh2Ox2I0MBsWlmLCjc6Gs+MVomLXLqz6R2FNYl5DpIV1H6i2ciNHpfTV6/fbzslt38q7eypzq64mVh0bGhkbGSkpI9O6l6ulsv2z2dN5zuaKY+ol8kx4iDi5hLyVEnvx9U71owDLoB8DF1vLn30Izcguu3MyYO+1f+6PysjIIoczEaE1+nspLTwV5hNDn6lrcySo/VyOEFBXkEUKPS55r9e0tME8JbMb5wApOWxszNulqLxXl2EO/Ddbu7zlzERWBuaipq8fff6quQQipcGSubQePTfP1wh4E4QTbgcZ26KcvXbf1wNHd61dwmq6V42YDdjqRjgINzrnbjT0izVnLV0KhLHM56hBCiM1mG7qOl5XpgRWunh9Y39A4Z82Wq6eO9P7fp20NNZXXd1NKXr2ZsmhN6MlYI70h5JIjhNzsrZds/I3R3HIzMyd6/9asvEISSbgQYdL5zmZe0ePI+Is71y7FrxYJV64TDcpXcYGCkUcBEbxzp6ggH3Ng+6aQMFNPP3lZWa1+/xiWxEmwi0d1bb26Kp9nRLjUoSInyZRp9+tjPFQnJT1bQkJCXEzcieMGCRWIookIgcPR6TQFObm6fz8V21mjc1Hf+GWUquoahJCSggKJPYV1idq6BmEfSREXE+vfR4NzXbV89vTlwdOZ7e0lL18Hr95cXVu3cfk8rrO4onjtwiCKJ/JNeiTBJeylBHtggK8nf8dULxqwKfYDoKqsNGyozuHoc6/+752zjSVnlamRvhidnpn35Rv14acTDFzGNTGa+XaF3TPH7qJjpOfck+khjX1WuJNfZG5sKFAekmbY8p9O5+NX0b9f+lBWsXHZ3CEDNPleMqnAuR9/516RuqrKQM1+2GFqevazV2+4vkDBiRidPkirv6OVeVFxCeJnOgzsFjGRjsIanBMiCalY5sTZC5Zjp+Kfrh49fd7YxBg29J9PhxLi4qsXzOqlqrwxJIzrRL1B2hbGhk+ev6IiubWpcTuLte94jKyMtKnhUIEaYYg86Xxn8+2HUsSxqdHWxnz49BnRAwokipMIRh4FfCGaO1PDocmnjrzITC5MSTi8dd0/hcSmNtHXFRcTI3rIg0sdKnKST5mPu3Nm3v2zl665O9ng3+GigsBo4ovA4fpoqJVVVH2l0Tm59+AJ/j4rr1BdVUW7fx8SewrrEmWVQj+Z29bG/Pvt+6FDuDsUFxMz1B3sbDsi7wHhw0Z4FAt7IlfSIwkuYTMbiSd/91QvLLAM+jFwtbN6XPLCxEBXVVmJs1xDTWXqOM+QYzFpd3KbGM1Z+YVhMfHzp0/mfOaXk4Ga/caPdvktLDIrv7Chseliyq3TiVeWBE6RkpSsa2i4kJLm7eZILgl5M2wjuae8HFd5Q2PT8bhE46E6Xi4OVHXmx/X07LOXrtU3NCanZcReTF41bwYeZg+fPl8eHEDygZ7Z3v7i9ds794qM9XURj+nwZuSmENbgnPCVkKJlJni6stnsXWGR9Q2Nr99+2BgSNlhbc6T1lw/cYnT6L0vnpt3JzcovjL+cOsxtYnrOvYbGpqInJTmFD82H6VORXEJC3HGEWXTCJS8XB+r5S+RJ5zubww31xOj0qIRLjQzGx/KK1Tv2V36qbiZ+eJlTcYqCkUQB0SgCvYsTElOrKClOG+d1KOrs3YIHrW1tz/5+M2ravHW7DvJVh4qc5FM21tWRwWjOzLvv7SogrjuiL/Xh7CyGFz55+pVG5+Tan1nnk280MZr/uPHnuT9SMNcisadQLlFR9flDWYW9pSl1eT5V16zbfbC1tS3IbxxXFaO5peBR8Z93800N/rWK5RvFVE7khCvpkQSXsJmNyJO7QqoXFtgU+zFwtRux73iMK78vevy6cqG6qsqWA0fLKqv6aaivnBPAG2mc7Fm/4mBU3JqdBz59rhnQv++WVQv9vT0QQsPcJiKEZq74hau9s1/w7YST+CFJM3k52acv/g6c5INt5SKEaDSaGJ1Op9FOxl+sqauP2PmLyB8OMMZ7ul67nbXj8Al1VZUda5ZM8PzyJduBmv0CJozhexa+Ta7UU8HWYvj6xcFYOW660oqKl1nX8PZmnv40Gp3IFMIanFxCipZRVux57sjuHYdP2I6b2dzSYmU6LHzHBnHxf8WvncVwZ1vL7QePXz0dVl1Tu3lfeGlFlbKigt9Y94UBfoiaq7g5WF+9nTWGcgrzmb1M5EnnO5uDtTX3b14dGhkbl5TcW13N1c5q3eLgvUdP1dTVEyU+XPFrZ8LF/nfvh0QwRBwFRJB4F19ITL1pxXwlRYVV2/dVfa7WUFP1dnNa/u9nOzjVoSInyZSpqShZmxk/ffnaxkK4nwMVVl+Kw7k72kbGJ2E/M9Ppo3OyIMDv/NUb6/cc0lBT3bZ68eQx7lg5iT2pu0Rm3n1lRQXL4UYIoR2HT5w4e+HRzUQFOe7VNvZNMYQQjUaTl5W1MDY4fzREZ6AW3gB7xIdOp6kpKztZm69fMofzdL+x7nyjWOCJGHyTHnlwCZvZ+Hpy2On475jqRYQNAGw2m83WsnJ/+eYtV+H1jOyRk2eL0OxrYOg6Pjwm/mv03NLSwmazsXC4fPmy5gi376Vj9+HrzSbAieeMhdsPHe86w40LXn4o6uw3k+drMGHuyh9dhS7ON04OsCkGAIjF8YsULBYLUf1pDwDoojDb25sYzVdupr988y5o8lf/Ay/qw62eHxiXlNzcwv8XELo+D4pL3rz/GDjJ+3sLAnQasCkG/MObnFTewlEONqMcbERo9gNRW1vbs+eX7yD4+PjY2NjI8dzi/qF1BLobDEaztW9AD2mp/ZtXE32H7rsMZ21m7GJnFRl/kfNHI38gdh45uWPNEqF+PBbo4tDYlH/UEgD+kzAYjD59+tTU1Njb29+9e7e9vb2uru7evXvOzs7fWzQAAADg6wJ3g4DuzsePH6urqxFCDQ0N2E2gv/76CysBAAAA/tvAMgjo7sjIyERHR9fU1IiLi9Pp9NbWVjk5ORcXl+8tFwAAAPDVgU0xoLvDYrFaW1tZLBb2DU82m02n0yUlJfn+HiAAAADwXwKWQQAAAAAAdFPg8y4AAAAAAN0UWAYBAAAAANBNgWUQAAAAAADdFFgGAQAAAADQTYFlEACg0ooqbWuPW9l531sQEdF39j0el9iJHeo4jI1KSOIs2RQSFnHmd4SQ/6I1N7NyO3EsAACA7wgsgwAAEEDBo+Jb2XlBfr4IoQ1L5mzce7iuoeF7CwUAANAJwDIIAAAB7Dx8MsjPV0pSEiFkpDdkyACtyHNJAs8CAADo+sAyqOti5DYh4nQC9r65pdXaZ7rtuBnYIYvFPhp73nHiLB2HsY4TZx05dY7FYmOnaFt7cL7W7jyAncJkMo/FJbr4z9F19Hbxn3PujxR8oNzCR1xnaVt7ZOQWIH6bIxgZuQWeMxbpOXk7TQpKSr0tcAhcsEG2npZjp4aejMWrWlpbd4dH2Y2fOdh+jJmn/4Y9h/F/n+a0AEJo1bZ9vsHLBRqHpIqTxibGyq17DZzHOU0KSrx6EyFU8LDYJ2jp0JE+U5f8/KGsAiG0NfSY8aiJbW1M/KzAlRvnrt1KLhu+RVVaUeU+bb7XzEUIoeEekw9Hn/tKuiCEPpRVBP20ydB1vI3vjGMcG2Qkk0JSxUnhk6dFxSWezg54iZeLw5mLV3j/JJxEWhIfo6gjiQtRlIFkysy9pvB22MhgaFt7YO6dfCtT29rjYsotrOpWdp62tceVm+lcpxAFJpH6RA52PC5R3/nL/7S/Ly3HzUUSL5l598cELtZ19MaHWL/7EHXhOeHrw1QCXNvaw9kvGCt09gvm1BfXiEQFTkhmXOB8oa+QDEn8h8jyCCE2m33i7AXHibOGOIxxnTIXFy/op028AzUyGEQuRDIE0EHgzzR+DI7FnS+tqOqr0Qs73H7oeFLqrf2bVlsYG/z14tWSjbtoNBr2j81rF8xaMMMPazZ21hK8h7U7Q9NzC0I3rzYx0LuZlbtu18GGxqY5UyfgDW7Fnxik1R8h9L603G78TBJhPpRVBK/5dWVwwLTxXslpmau27R0yQJ1BI7EAACAASURBVNNQdzD5EJhgTYzmlD+zVm3bZ2Kg62RtgRDasOfwo6fPT+3f1r+PxsO/ns1du7V3L9XFgVNENg7Fqk37wouKS5JPHWGxWbNWbUIIxSVdi9q3RbNP75Vb985ft+1K9GFf95FRCUkZeQWudlYIoYbGpuyCogObVlMULOJ0gtkw/e2rlwhu2jFdEEIxiZfXLph1YPOanPsPV2zZIy0lOXOiNyKdd4EugXH5RvqwoTq9e6niJaMcbNbtOphdUORiO0IoRQT6GLmORC4klAyiMcbF4fKN9NDIWO9RTjQabVdYpKud1Vg3J65mJIGJ+KlP5GAfyyuJJCGKl9r6hrlrt/iMGnk6dKeyogJCaPSMhUIJzxdOH6YS4JzntjGZJ3ZvdnOwRggdj0sMjYwlV4F3dGFnnO/p2PuvlAwRQiSWRwjtOXrq9PnLIRtXOVqZ376bv2LLHhabNWG0a1TIVoRQS2urrqN3yC+rJnq5Ye23hh7jdaHp48eQDAF0ELgb9ANQXvXpWOx5A51B2GFtfUPM+T+WBk0baWMhJytjaWKUdyUOT7V8ef32w4WUtPWLZ9uPMJOXkx0/2iVwkndoZCyjuUUEefpq9HqRmbxghp+CnNwkr1EsFjuv6BHFIWR6SE/wdOshLfXi9VuEUENj06XU24sDpwzW1pSSlLQ0MbIxN7lzr4i6MFzGoV71x/Xba+bPGqDZd5BW//nTJyGEJo0ZZT7MoJeq8tafFj0ueZFb+GjYUJ0Bmn0v30jHzrqVnSchLu5iZ0VFsCZG88XUW9PGedHptK+qC4a9pemCGX495eU8nGwDJowNi4lnsdgkk0LdJXILHxrqDuYsUVZU6KvRK6/osQiKiKY+J1wu1LkykLB99eKa2vrTiVeOxZ4vrajavoZ7dStCYBI5mISEBJPZztueJF6qPlc3t7SOH+2KXSaFFZ4vnD4sQg5pbW2Tl5OlrgIRFGecIp2bDBGp5T/X1J44e2F+wOTRI+1kekiPcXGY4j065Ogpoj9vIHIh8skFOggsg34A9kScsjQxchhhhh0+KC5pZ7GszYyp95D/8AlCyGGEOV7iZG3R2MR48uxlRwRjMpkXUtJoNJqh7hCKQzCZzPPJNxjNLSYGegghOVmZl3eu6g0acOZC8uZ94ZPmr7qRcbellc8dciK4jEOxqvjZK2Z7u/kwA+xw2FAdhJCR3j8X+4Ga/RTk5B49fY4Q8hk1Mu1OLpYiU9OzXeysekhLCZSqvb094kyCzgAtoS7DoumC4Wj1xfLWpsYVVZ9LKypJJoW6S7z7WN5HXY2rsF9v9Q+l5SIoQgLFs7hcqHNlIKGXqvL6JcHbDx3bExG9fnGwhpoKVwMRAhMROFj/PuqtbW3VtXVcjUniZaBmP3tL05jEy+9Ly5nt3EsogcLzwuXDwuaQdhbrU3WNipIidRWIoDjjFOn0ZEhi+YJHxUwm08HqixNamQ4rrah6+7GMb1dELkQ+uUAHgU2xrs7jkheXb/6ZeiYCe34FIYQlR6We8tQ7qa2rRwgpK/XES7D01NDYJPDcraHHtoYek5KU7KOh5uM2cnGgv7i4OEKorPKTtc90NpttqDvYxED34V/PyIfYHRG9OyIaez9kgKa+zkDs/baDx6N/TzLS0zEz0p87dWLS9ducOwKcZyGEuPIgr3GoVCGEqqqrEUI9FeSww57ycgghBTk5vEFPBbmq6hqEkK+7c+jJ2LSsHDcHm4zcgoNbfqYi2+6IaHFx8YTwPfwsyh+RdcFQVvxiecw3yqs+kcw7RZdgsdiNDAbvyk+mh3QdgfNQkVa0s4hciHpvJFMWGhkbGhkrKSHRu5eqp7P9stnTebv1crb/dX94O4vl4WTLWytCYCICBzMfZiAvJ7vzyMlNy+YxmltuZObg7YnihUajRe/fdiIu0X5CIH6zYTiHguTC88Llw8LmkIqqz8z29n691XmryEOeSwaiGacyX3zpSDLk6z8klq+urUcI+QQt5ernU3WNVt/evP0TuZDAyQU6AtwN6upsO3hsmq8XtlGNgd1nxgKMIj0V5BFCn6tr8ZLKz9UIIUWFL/GG/b86L5uWz3uTk1p86+L+jatjEi/vOXoKK9dQU3l9NyU19uiHsorQk7ECh1i7YNabnNRX2dduxZ9oaGzaeuAoQiiv6HFk/MXtq5f8EXlw0/J5bg7Wra1tnKNjZ2GvCZ5uAo1DpQr9b8VT39CIHTY2MRBCrW1fhv5cXdtLRRkhpN2vj/FQnZT07PSce+Ji4k4cN11IZFs9PzDYf9ycNVtKiR/y6CxdMOobG/H32AJOSUGBZFKouARCiE6nKcjJ1TU0on9TW9egpMD/ek8iLZGPkZ+Fw9eFhOqNZMqWz57+Jif1rz8vhe3YkJR669f94bzd/hYWyWYjOo2+7eAx3lqBgclXfb4OpqggH3Ng+9MXf5t6+nkELLiSlo41Jo+XtjZmbNLVXirKN88ef303ZeiQfy0TyYXnhcuHKToMzuOS51p9e/MuoAWGPCckM05lvvjSkWRI5D9ElpeXlUEIZSZG42dhL1PDoXz7J3Eh8skFOgIsg7o0qenZz169WR78rw86Jvq64mJieUWPqPdjYWyAEMK+74CRnnNPpoc09ukK+3hBp5M5g7i4+HBDPVuL4VxPhOgN0rYwNnzy/BX5EDhidPogrf6OVuZFxSUIobcfShHHhk5bG/Ph02dEG+dc8DWOwCoMY31dGo12//Ff2OGzv98ghF6++efJg+LnrxoZDGN9XezQx905M+/+2UvX3J1sJCQo3UCVEBdfvWBWL1XljSFhX1sXjHsPnuDvs/IK1VVVtPv3IZkUivOFEOqjoVZWUcVVWFbJ/9FjImnJfYyijhhcLtTB3rgQFxMz1B3sbDsi7wH3k0+5hY/O/ZGycu6MJbOmJKXe5jQdBklgkqvP18FMDYcmnzryIjO5MCXh8NZ1WCF5vET/fulDWcXGZXOHDNDkupALFJ4XLh+m7jAYd/KLzI0NectFCHmSGSeZLyI6ngx5IbK8qZG+GJ2emXcfLwk/nWDgMq6J0cy3HxIXIplcoIPAMqhL8/Dp8+XBAVyft1SUFKeN8zoUdfZuwYPWtrZnf78ZNW3eul0HSfoZqNlv/GiX38Iis/ILGxqbLqbcOp14ZUngFOyXYLCNamxjiIgmRvPdggd3C4pMDfXiL6cOc5uYnnOvobGp6ElJTuFD82H65EPgMNvbX7x+e+deEbbIGG6oJ0anRyVcamQwPpZXrN6xv/JTdTO1ZxX5GkdgFUbvXqrjPVx2Hj5Z8urNx/IK7HuwZy4kFz9/VVpeuSkkzNLEEEuXCKGxro4MRnNm3n1vV0cqgmGI0em/LJ2bdic3K7/wq+qCce3PrPPJN5oYzX/c+PPcHymr5s2g0Wgkk0JxvhBCdhbDC5885SypqPr8oazC3tKUurTkPkZRRwwuF+pgb1wwmlsKHhX/eTff1OBfn9ebW1rX7jxgpDckeMr4+QGT9YcMWr/7UCODwdmGJDDJ1afuYCTx0tDYdDwu0XiojpeLA9dZVITnC6cPU3cYhFBdQ8OFlDRvNz7qiBDyJDNONF8kdDwZckFieQ01lanjPEOOxaTdyW1iNGflF4bFxM+fPlmmhzTfrohciGQIoOPAs0FdmoGa/QImjOEt37RivpKiwqrt+6o+V2uoqXq7OS0XtDW+Z/2Kg1Fxa3Ye+PS5ZkD/vltWLfT39kAI+cxe9vTF34GTfJR6/vMdBBqNJkan0//3gQN7NohOp6mrqoxxcfxpfqCMtHR1Te3mfeGlFVXKigp+Y90XBviRDIGBb6sr9VSwtRi+fnEwQmiwtub+zatDI2PjkpJ7q6u52lmtWxy89+ipmrp6gZcxIuOQV+Hs/HnplgNHJ8xdodRTwW+sR8mrN14u9ks37XpfWm5jbrxn/Uq8pZqKkrWZ8dOXr20shpP3yYWdxXBnW8vtB49fOxOOENp3PGbf8RjOBnPWbjmxe3PHdUEILQjwO3/1xvo9hzTUVLetXjx5jDtWTjIp5POF4+5oGxmfVFpRhX9nPjPvvrKiguVwI4rSCvQxijrydSGKMggEe9aETqepKSs7WZuvXzKHszbk2KkP5ZXHdm8Wo9MRQnt/WekTtDTk6KnNKxZwNuMbmALVp+5gJPFy6vwfNXX1ETt/4b1VQCL8ppCw0xeuPMu4zHc1g/7twxQdBiE0zG0iQmjmil+4yp39gm8nnKQe8iQzTj5f5IicDPlyMv4ikeURQr+uXKiuqrLlwNGyyqp+Guor5wQE+Y0j6Y2vC4WdjicZAuggNIobEADwH6a0osraZ3pkyBaiH8LxmrnIxtxkgzCpViARpxMKi0uwZVAXZ/ycFSNtLJfM+ueXXSbOW+VoZY4fAh3nazgYRTymz085E9G511dtaw/8p3dwbmTe3RUWdTvhZCcOBAAdBzbFAIAQZnt7E6P5ys30l2/eBU32FXzCf5TV8wPjkpKxn/p9UFzy5v3HwEne31uo/wLf3cHuPSym0elwjwHozsCmGAAQwmA0W/sG9JCW2r95dW+e387pPlibGbvYWUXGX1w003/nkZM71izh/Vk8QAS+u4M9/OvZmvmzOr3bNzmpvIWjHGxGOdh0+lgA0EFgUwwAAAAAgG4KbIoBAAAAANBNgWUQAAAAAADdFFgGAQAAAADQTYFlEAAAAAAA3RRYBgEAAAAA0E2BZRAAAAAAAN0UWAYBAAAAANBNgWUQAAAAAADdlG+xDNJ39j0el9iJHeo4jI1KSOp4P5tCwiLO/I4Q8l+05mZWbsc7BAAA6FLgWQ4AAL5037tBBY+Kb2XnBfn5IoQ2LJmzce/huoaG7y0UAABAp8GZ5QAA4Ev3XQbtPHwyyM9XSlISIWSkN2TIAK3Ic51whwkAAKCLwJnlAADgyzdaBn0oqwj6aZOh63gb3xnHODbImEzmsbhEF/85uo7eLv5zzv2RQqWq4xQ+eVpUXOLp7ICXeLk4nLl4BfsP7S5CS2vr7vAou/EzB9uPMfP037DnMC6ekdsEbWsPbWuPQbaelmOnhp6MxcqDftqElXO+GhkMEmOae03RtvaI/v0PvCQjt0Db2sPcawq5GERjGblNiDidgJ3b3NJq7TPddtwMhNDxuER95y+fSt+Xlmtbe2TkFiCE2Gz2ibMXHCfOGuIwxnXK3KTU23gzFot9NPa848RZOg5jHSfOOnLqHIvFRhw7raUVVe7T5nvNXIRIfYZkCE5ww+KvtTsP4FURpxOmL12n6+ht4zvjxNkLnGfxVZlkpgSK5OwXzCkGbjqSszjFQAit2rbPN3i5QAkpWoavwTnJLXzE6w/Y/JLMC6fBnf2CSUT9vv5DHiZbQ48Zj5rY1sbEawNXbpy7diunfYSNF0TsjVSGQzxZjsQ9qKSazooIgQlHoIfzHZEIYSea1yERcTCS2I2Tdx/LZv+02chtgunoyet2HWxobCKRLSO3wHPGIj0nb6dJQbjuJDYRaE+SGSSJ2cy8+2MCF+s6euPl63cfEnkWujrsr8/QkT5aVu7hMfE1dfUpf97Rc/I+df4PrGrllr2mo/0ycwvq6hsuXEvTcRh7PC5RYNUQ+zGR8Rc7ItLmfeHeQUs5Sz5V12pbe6Tdye1It53Lqm0hblPnvnj9f80tLXlFj4xHTTwcfRarMnQdHx4Tz2azG5sYiVdvaFm5/3k3Hz+xuaVFy8r9fPINvITEmGae/vrOvlMXr8Ub/7R93wAbDzNPf4Fi8B0Ll43NZodGxmpZudv4BrDZ7GOx54eO9MGbvftYpmXlnp5zj81m7wqP0h/pe+12VmMT40paxmB7r8RrN7FmWw4cNXGfdDs7v76hMa/okeWYqUdOnWOz2UNH+hyLPc9mszfuPbJu18H2dha5miRDcMIpPJvNHhO4eM2O/XjVQJvRoZGx1bV1mBvjnROpTD5T5CLZjZ95I+Mu9p7TdCRncQm/cmuIz+xlAiWkaBm+Buck5/5DLSv3l2/e8s4vybxwyUwi6vf1H/IwefjXMy0r95tZOVhVfUPjYHuvKzfTec1IPV54jYN7I8XhuLIciXtQSTVcMrBFjQiBCYfcw4lGJELYieZ1SDZxMJLnRgxGc4vT5KCVW/ZW19Y9ffG306Qg/0VrWCwWX9nel5YPtvcKj4mvra+PS7o6wMbjcckLcpsItCfJDBLFbE1dva7j2DU79n+qrsWqPAIWrNt1UORZ6OJ8o7tB9pamC2b49ZSX83CyDZgwNiwmnsViv3774UJK2vrFs+1HmMnLyY4f7RI4yTs0MpbR3EJS1Sny5BY+NNQdzFmirKjQV6NXXtHjTum/4zQ0Nl1Kvb04cMpgbU0pSUlLEyMbc5M794q4msn0kJ7g6dZDWurF67dEXQk0ppOVed6DJ/UNjQghJpN5I+PuiOHDhBKDL+VVn47FnjfQGYQdSkhIMJntvM0+19SeOHthfsDk0SPtZHpIj3FxmOI9OuToKTabXVvfEHP+j6VB00baWMjJyliaGOVdiVs00x8/t4nRfDH11rRxXnQ6jURNkiGoKIJjYWK4LGiaooK8h5PtzIne4acT2lksEpU54ZopgSK1trbJy8lStxVFFbgkFLZDToNTHFHkWO46/oM1JgmTYUN1Bmj2vXwjHTu8lZ0nIS7uYmdF0UR89SWB4nC8WY4vHYlx0SKCxJICHVLgiHwRaqJ54RuMFO2WnnPv3cfyLasWKirI6w0esPWnRTn3H+YWPuIrW1+NXi8ykxfM8FOQk5vkNYrFYucVPRJoExJ7ikbV5+rmltbxo12VFRX4NhBtFros32gZ5Ghljr+3NjWuqPpcWlGZ//AJQshhxJcqJ2uLxibGk2cvSao6RZ53H8v7qKtxFfbrrf6htLxT+u84crIyL+9c1Rs04MyF5M37wifNX3Uj425LK/cdVyaTeT75BqO5xcRAj6grgcY01B2spqyI3QvNyi+SkpK0MDYQSgy+7Ik4ZWli5DDCDDvs30e9ta2turaOq1nBo2Imk+lgZYaXWJkOK62oevux7EFxSTuLZW1mzLf/9vb2iDMJOgO0sCRLoibJEFQUwXHluNLYmJtU19a9fPOv1SeXypxwzRS5SO0s1qfqGhUlRa5OOq4Il4RCdchlcIqIHMtdx3+wQ5IwQQj5jBqZdicXu5Smpme72Fn1kJYiV5BcX3KoDMc3y/HSkRgXLSJILCnQIQWOyIuwE819OkEwUrSbh5Pty6xkOVkZXGaZHtL3HhbzlQ2HyWReSEmj0WiGukME2oTcM0VgoGY/e0vTmMTL70vLme18PnuIMAtdGfFvM4yyYk/8vVJPeYRQedWn2rp6hJCy0pcqzNUaGptIqjouDIvFbmQweLOGTA/pus7ov7PYdvB49O9JRno6Zkb6c6dOTLp++2N5JV67OyJ6d0Q09n7IAE19nYFE/VAxpqu91c2s3DGujsm3Mr2c7em0L+tjcjGIeFzy4vLNP1PPRCRevYmVmA8zkJeT3Xnk5KZl8xjNLTcyc7Dy6tp6hJBP0FKuHj5V12DXPMxheNkdES0uLp4QvkegmiRDaPXtLVAXHDUVJfy9Uk8FhFBt3ZdvF/KqjMvJO1PkIlVUfWa2t/frrc5VK1ARzrEQQlyLY14JhbIMl8EpIlosdyn/wUtIwsTX3Tn0ZGxaVo6bg01GbsHBLT+TaEdFX3IEDsc3yxG5h2gxjkSNCERsSYEOST4iX0SYaE6IghEJaTfvoKWPnj7H3tfU1fGVDaOs8pO1z3Q2m22oO9jEQPfS9T+RoCAl8UwRoNFo0fu3nYhLtJ8QiN9zGs6RTESYha7MN1oG1Tc24u+rqmsQQkoKCj0V5BFCn6trcZtWfq5GCCkqyJNUdVwYOp2mICdX19DIVV5b19BXo1fH++8U8ooeR8Zf3Ll26VRfT6wk4cp1zgZrF8xaMMOvncV68+7D9KXrth44unv9Cr5dUTGmm731ko2/MZpbbmbmRO/fmpVXSFEMIrYdPDbN12uQVn+8RFFBPubA9k0hYaaefvKyslr9/glgeVkZhFBmYrQmz3UXu4xV19arq6rwDrF6fmB9Q+OcNVuunjrSW12NRE1GczPREEJRU1ePv/9UXYMQUuFIprwqY/CdKRKtEUKPS55r9e3Nu1InPwsfC3u/atu+V//3jrOWV0KBHXLCZXC+bWg07s0y0WK5S/kPfgpRmCCEtPv1MR6qk5KeLSEhIS4m7sRx/5sKRM5DhMDh+GY5vu4hcowjUSMCEVtSoEOSj8gXESaaE6JgFNZul6MOIYTYbLah63hZmR58ZcMKNdRUXt9NKXn1ZsqiNaEnY430hiBBQUrimQLhjVmEUFsbMzbpai8V5dhDvw3W7u/5769EiDALXZlvtCl278ET/H1WXqG6qop2/z7YjTvsVh5Ges49mR7S+joDSao6RZ4+GmplFVVchWWVVV1nGfT2Qyni2Exsa2M+fPqM94kNMTp9kFZ/RyvzouISoq6oGNPa1Lidxdp3PEZWRtrUcKiwYnCRmp797NWb5cHTucpNDYcmnzryIjO5MCXh8NZ1/xQa6YvR6Zl59/Fm4acTDFzGNTGaTfR1xcXE8ooeIX5IiIuvXjCrl6ryxpAwcjVJhiBXhAvOR8fu3CtSV1UZqNmPXGUcrpkiF+lOfpG5sSFvJx1RhK+EQnXIZXAuMK+g07lTigix3NX8By8hChMMH3fnzLz7Zy9dc3eykZAQ4hOmQOfhi8Dh+GY5XkSLcQyRI4LIkgIdkmREIkSYaE6IgpGi3U6cvWA5dipe/ujp88YmxrChunxl40RvkLaFseGT56+oBCm5ZxJBFLMIoejfL30oq9i4bO6QAZq86yQRZqEr842WQdf+zDqffKOJ0fzHjT/P/ZGyat4MGo02ULPf+NEuv4VFZuUXNjQ2XUy5dTrxypLAKVKSkiRVnSKPncXwwidPOUsqqj5/KKuwtzTtlP47znBDPTE6PSrhUiOD8bG8YvWO/ZWfqpt5HuJjtre/eP32zr0iY31doq6oGFNCQtxxhFl0wiUvFwdOp6coBhcPnz5fHhxA8dadhprK1HGeIcdi0u7kNjGas/ILw2Li50+fLNNDWkVJcdo4r0NRZ+8WPGhta3v295tR0+at23UQP1eMTv9l6dy0O7lZ+YUkapIMQUVCnOvp2WcvXatvaExOy4i9mIy5MUWVuWaKRKS6hoYLKWnebo5C2Uqg8HwlFLZDToNzVWFPKvSUl+MqFyGWu5r/4O2JwgRjrKsjg9GcmXff25XP3JEglL7Uh+PNcnwRLcYxRI4IIksKdEiSEUkQdqJxSIKRot0meLqy2exdYZH1DY2v337YGBI2WFtzpPWXu3ecssVfTh3mNjE9515DY1PRk5Kcwofmw/SpBCm5ZxJBFLMNjU3H4xKNh+p4uTjwO0/EWeiyfKNNsQUBfuev3li/55CGmuq21Ysnj3HHyvesX3EwKm7NzgOfPtcM6N93y6qF/t4eAqs6jrujbWR8UmlFVe9eqlhJZt59ZUUFy+FGnTVEBxmsrbl/8+rQyNi4pOTe6mqudlbrFgfvPXqqpq4eyyz4Nr9STwVbi+HrFweT9EbFmG4O1ldvZ435t98LFIMvAzX7BUwYQ13ZX1cuVFdV2XLgaFllVT8N9ZVzAoL8xmFVm1bMV1JUWLV9X9Xnag01VW83p+Wz//X50s5iuLOt5faDx6+dCSdRk2QI6oz3dL12O2vH4RPqqio71iyZ4OlGRWWimSISaZjbRITQzBW/cPXj7Bd8O+GkyIoQSShsh5wGF/vf50if2cuevvg7cJIP9qAAQohGo4nR6XQaDQkfy13Qf3D4hgmGmoqStZnx05evbSyGUxdeBH0pDseb5fgiWoxjiBYRGESWJHdIohE3hYSdvnDlWcZlouW1sBONQR6MVOymrNjz3JHdOw6fsB03s7mlxcp0WPiODeLi/7ry4rJdPR1WXVO7eV94aUWVsqKC31j3hQF+Am1Cbk8iSGL2ZPzFmrr6iJ2/EC1uSOb9h+Qbf0G/6zAuePmhqC+/8TBh7krOQwDggu8PinwNOH/JA+d6RvbIybO/wehAR/CcsXD7oeNdZziuLNe5fLOIoDii+7R52O/xdCIQjLx8+3n/2nTfP9NYPT8wLikZ+9HPB8Ulb95/DJzk/b2FAgDgx4PZ3t7EaL5yM/3lm3dBk7/6H3hRH44zy/23ufewmEan/9BbM8D3QohNMW1rUfakClN+J/oJpg6SW/jIf9EaEU7ERLI2M3axs4qMv7hopv/OIyd3rFnC+wNZAPDteZOTyls4ysFmlIPNtxcGoAKD0WztG9BDWmr/5tVE36H7LsNxZrmvLdX35eFfz9bMn9Xp3UIwdgdobCF/SBcAAAAAAOC/QffdFAMAAAAAoJsDyyAAAAAAALopsAwCAAAAAKCbAssgAAAAAAC6KbAMAgAAAACgmwLLIAAAAAAAuimwDAIAAAAAoJsCyyAAAAAAALop3+ivVQEA6LakpmdHJVz668WrhsYmMTq9b2/1yL1bhgzQ/N5yAQAAwDIIAICvye/J14/HXfjt52X6OgNlpKXhX58AAOhSwJ9pAADwFXGYOGvvhpUjhht9b0EAAAD4AM8GdVG2hh4zHjWxrY2JlwSu3Dh37VaEkL6z7/G4RIRQaUWV+7T5XjMXIYRaWlt3h0fZjZ852H6Mmaf/hj2H8b+Vzsgt8JyxSM/J22lSUFLqbayQpL2R24SI0wn4uKu27fMNXs4roZHbBG1rD21rj0G2npZjp4aejOVtE/TTJqwN56uRwWAymcfiEl385+g6erv4zzn3Rwp+irnXFG1rj+jf/8BLMnILtK09zL2m8PYvsDGbzT5x9oLjxFlDHMa4TpmLq48QYrHYR2PPO06cpeMw1nHirCOnzrFYbCKBSfohArePtrWHs18wVujsF8zZs76zr0A5uSDqgcSkuYWPeJXKyC0IXLnR2jfg5Zu3CKGkQ17c8gAAIABJREFU1Nva1h6fa+oQQslpGcPcJkYlJCFSZyAZEaes8tP70rIe0lL+i9boOXmbe03ZeeRka1sbPn28btPIYGhbe2AWIJoOHYexmHgkEGlNLjnvrHFaoLml1dpnuu24GQih43GJuPERQu9Ly/H+hfU6RBDUJHJSdBi+sU8yp0RpQTRlSQYisip11SgilMGJ1KcSKSRiC5XTOKGSY0muFES6dzA0eIURLUuIbJbOhw10SR7+9UzLyv1mVg52WN/QONje68rNdDabPXSkz7HY82w2e+PeI+t2HWxvZ7HZ7FXbQtymzn3x+v+aW1ryih4Zj5p4OPosm81+X1o+2N4rPCa+tr4+LunqABuPxyUvSNqz2WxD1/HhMfG4JCu3hvjMXsYrId6ssYmRePWGlpX7n3fz+erS3NKiZeV+PvnGlz637DUd7ZeZW1BX33DhWpqOw9jjcYlYlZmnv76z79TFa/HGP23fN8DGw8zTn7dngY13hUfpj/S9djursYlxJS1jsL1X4rWbWNWWA0dN3Cfdzs6vb2jMK3pkOWbqkVPniAQm6YcILjNi2I2feSPjLvb+WOz5oSN9hO2fqAcSk+bcf6hl5f7yzVvs8N3HMi0r9/Sce+3trNDI2IXrt7PZ7Ispt7Ss3D9V17a1tZl7+ec/eMJXC05nIBkRp+BR8WB7r2FuE8Jj4qtr6x4Ul9iOm7Fg/Xas1szT/8CJM1ynNDQ1aVm5X0y5hZfwTscQ+zGR8Rf52geHSGtyyXlnjbMkNDJWy8rdxjeAy/hc/YvgdXyDmkROKg5DFPskc0qUFkRTlmQgIqtSVI06QhmcSH0qkUIitlA5jRMqOZbkSkGkewdDg1cY0bKEyGbpdOBuUBdl2FCdAZp9L99Ixw5vZedJiIu72FnhDZoYzRdTb00b50Wn0xoamy6l3l4cOGWwtqaUpKSliZGNucmde0UIob4avV5kJi+Y4acgJzfJaxSLxc4rekTSXgRkekhP8HTrIS314vVbKu1fv/1wISVt/eLZ9iPM5OVkx492CZzkHRoZy2huwRo4WZnnPXhS39CIEGIymTcy7o4YPoyoN5LGn2tqT5y9MD9g8uiRdjI9pMe4OEzxHh1y9BSbza6tb4g5/8fSoGkjbSzkZGUsTYzyrsQtmunPdwiSfoQyFEKotbVNXk62I/3z7UGgSflCp9Om+nim3cmr+lyNF6amZ6spK1sYG5ArQnFERnNLWxvTxEBvwQw/RQV5Y33dzcvnX7ud9bjkBXn/Xw/RbIUQKq/6dCz2vIHOIOxQQkKCyWznbdYRr+MMahI5KToM39gnUZAkLYigLLkxiazaibGGEBLK4CTqC4wUgWILldN4IcmxRFcKoVIcBsXQoJ7wOzfVfz1gGdR18Rk1Mu1OLuYxqenZLnZWPaSlsKr29vaIMwk6A7Sw9CEnK/PyzlW9QQPOXEjevC980vxVNzLutrS2cvbGZDIvpKTRaDRD3SFU2lOHyWSeT77BaG4xMdCj0j7/4ROEkMMIc7zEydqisYnx5NlL7NBQd7CasiJ2kzYrv0hKSpLkqkzSuOBRMZPJdLAywxtbmQ4rrah6+7HsQXFJO4tlbWZMRWCSfqicjtPOYn2qrlFRUhS5f6IeBJqUCDUVJSdr80NRZ9uYbQihmrq6sNMJ08d7CdSF4ojYA9GuHMt3+xFmCKG8oscCh/hKiGyrPRGnLE2MHEb8M039+6i3trVV19ZxNRPZ67iCmkROYR2SM/ZJFCRJCyIoSzIQJ1xW7axYwxDK4ORZkTxSBIotVE7jhTzH8r1SCJXiMCiGBvWE37mp/usB3xTruvi6O4eejE3LynFzsMnILTi45We8andEtLi4eEL4Hrxk28Hj0b8nGenpmBnpz506Men67Y/llXhtWeUna5/pbDbbUHewiYGuwPa7I6J3R0Tjh0TuztlsyABNfZ2BVPSqratHCCkr9cRLsOt6Q2MTXuJqb3UzK3eMq2PyrUwvZ3s6jWy9TtS4urYeIeQTtJSr/afqGiyhK/WUpyIwST9afXtT6QGjouozs729X291kfsn6oGKSYlYs2CWd9DS0xeuIISc/YINdAZNHjOKswFfZ6A4omwPaYSQqvKXdZu0lKSUpCT2+Q8hFBoZGxoZKykh0buXqqez/bLZ0wUKjLE19NjW0GNSkpJ9NNR83EYuDvQXF6eUzUSz1eOSF5dv/pl6JiLx6k2sxHyYgbyc7M4jJzctm8dobrmRmYOVi+x1XEFNIqdQDskb+4g4wInSggjKYpKQZxJeq1JRraW1VdfRm9t8CCGE+mr0yk46jR8KZXAS9TFIIoWK2ELlNE4hBeZYvlcKoVIchsDQIBFG5Cwhmlk6F1gGdV20+/UxHqqTkp4tISEhLibuZPVlTb16fmB9Q+OcNVuunjrSW10tr+hxZPzFnWuXTvX1xBokXLnO2ZWGmsrruyklr95MWbQm9GSsk7UFefu1C2YtmOGHvV+1bd+r/3vHV0KsWTuL9ebdh+lL1209cHT3+hUC9eqpII8Q+lxdq6aihJVUfq5GCCkqfIlYN3vrJRt/YzS33MzMid6/NSuvkKRDosbysjIIoczEaE2eawOWI6pr69VVVQQKTNKPUDwuea7Vtzd+S0+E/ol6oGJSvt9Ur61vCFy50dPZ3lB38OZ94Smnw5f/umfVtn0Ht6zF2/B1BiojIoT6aqij/1kbH7GltRW/obV89vTlwdOZ7e0lL18Hr95cXVu3cfk8ciNgbFo+L8hvHJPJfFzyMuinTU3NzesXB/M249WaouRcbDt4bJqv1yCt/niJooJ8zIHtm0LCTD395GVltfr9M3ciex1XUJPIyWhuJhqCF67YX7swCBHMKUkaEUFZDPJMwmtVKrEgJSn5JidVoOIIIWz7mKLBybMoeaRQEVuonIZDJcfyvVKQ645ECg0SYUTOEqKZpXOBTbEujY+7c2be/bOXrrk72UhIfFmzSoiLr14wq5eq8saQMITQ2w+lCCHH/62T2tqYD58+491N1xukbWFs+OT5K4rtKSJGpw/S6u9oZV5UXEKlPXbbE7sRipGec0+mhzTnZwtrU+N2Fmvf8RhZGWlTw6HkHRI1NjXSF6PTM/Pu4yXhpxMMXMY1MZpN9HXFxcTIH5Wg0g+V03Hu5BeZGxt2pH+iHshNis0snc4n2H87cpLZ3r511SIFOTmEkLqa6p5fVl6+mX4zK5dcFyqTiBBSU1HSHaidlf8ltV3PyEYI2Y8w5WwmLiZmqDvY2XZE3gPhNsvExcWHG+rZWgzn3WUj0pqi5Jykpmc/e/VmeTD3nSpTw6HJp468yEwuTEk4vHXdP4Wieh1XUJPIKYJD4rFP1AAJSiPCKksyEAZfq3ZWrGEIZXBy9ckjhYrYQuU0LgTmWN4rBYnuHQwN6gm/01P9VwKWQV2asa6ODEZzZt59b1dHrioxOv2XpXPT7uRm5RcON9QTo9OjEi41MhgfyytW79hf+am6ubkFIRR/OXWY28T0nHsNjU1FT0pyCh+aD9MnaS8CzPb2F6/f3rlXZKyvS6X9QM1+40e7/BYWmZVf2NDYdDHl1unEK0sCp0hJSuJtJCTEHUeYRSdc8nJxEPiDe0SNNdRUpo7zDDkWk3Ynt4nRnJVfGBYTP3/6ZJke0ipKitPGeR2KOnu34EFrW9uzv9+MmjZv3a6DfPsn6YeKvhh1DQ0XUtK83bjnkXr/JD2QmxR7QKGnvBzXWcXPX/2efH3tglmct5eMh+r4jBq549Bxzq/gCjsiJ+sWz76RcffE2Qu19Q15RY93hUVN8Rk9oH9fzjaM5paCR8V/3s03NRAuDzYxmu8WPLhbUGRqyL1vS6Q1dclxHj59vjw4gPx2EU5HvI4zqEnkpOgwfGOfRHIR0kJHQoOvVTsl1nCEMjiJ+gIjhYrYQuU0LgTmWN4rBYnuHQwN6gm/01P9VwI2xbo0aipK1mbGT1++trEYzltrZzHc2dZy+8Hj186E79+8OjQyNi4pube6mqud1brFwXuPnqqpq/cb615dU7t5X3hpRZWyooLfWPeFAX4SEuJE7Snmegx8P1ipp4KtxXC+uxJ82bN+xcGouDU7D3z6XDOgf98tqxb6e3twtXFzsL56O2uMiwOVDoka/7pyobqqypYDR8sqq/ppqK+cExDkNw6r2rRivpKiwqrt+6o+V2uoqXq7OS0nfjCFrJ+QsNMXrjzLuExyHUUIDXObiBCaueIXrnJnv+DbCSdJ+qfYA5FJfWYve/ri78BJPko9FbD2NBpNjE6n02hbDhw10h3iM2okV4drF8wa6Tc7MiFp/vRJJBpRmUSEkJO1RdiODQej4vYdj5GXk53g6bp2wSy8Fns2iE6nqSkrO1mbr18yh2RETrBng+h0mrqqyhgXx5/mB3LWkmhNXXKcgZr9AiaMoSgY6pjXcQY1iZxUHIZv7JOIPVhbU4S0QEUSvhBZVeQO+SKUwYnUpxIpVMQmSlMkOYRijuV7peCre0dCQ4SE3+mp/msAvyLd1fGaucjG3GQD5csD8O3xmD4/5UwE+UcZbWuPW/EnOB+DQAjdyLy7KyzqdsJJKqN0vAcAALomVHIIOXClEBnYFOuiMNvbmxjNV26mv3zzLmiyr+ATgO/EvYfFNDod/ioLAADR6EgOgStFx4G7QV2U+oZGa9+AHtJSv65c6OVs/73FAQg5ee7iIK3+I20svrcgAAD8kHQkh8CVouPAMggAAAAAgG4KbIoBAAAAANBNgWUQAAAAAADdFFgGAQAAAADQTYFlEAAAAAAA3RRYBgEAAAAA0E2BZRAAAAAAAN0UWAYBAAAAANBNgWUQAAAAAADdFFgGAV0C/0Vrbmblfm8pAAAAgO4FLIOALsGGJXM27j1c19DwvQUBAAAAuhGwDAK6BEZ6Q4YM0Io8l/S9BQEAAAC6EfCfYl0XJpMZmXDp9yvX35eW9+utHjxl/BSf0ViVkduE+oZGzsZ+Y913r1+BEGKz2SfPXYy9mPyxolKrb59FM/3HeTjjZy0MmJxd8ODew2IVJcVZk33mTJ2AVbW0toaejL2SllFW+amnvJyHk+3GZfOkpSSDftp0OzufS7Di20lSEhIkshGNQiIbQij+cuqeiKi7l2KlpSQ72ZQAAAAAwBc20FVZuWWv6Wi/zNyCuvqGC9fSdBzGHo9LxKoMXceHx8TjLccELl6zY///s3efcU0kbQDAJ6EjIE2RQ8GKhaoChq4UaUoRFQsqIvaKnnh6lsPCWVCxoggiCipnwVfBRjlAEFAEGyd2zoYgSieUJLwf9m4vl7LZBBC4PP8fH5Ld2Z1nn53dDNnNDvZ659GTI8Z5Xk+7U99Av5aSMdja7eL1ZHypgRYuYVGxldU1N37PGjbWHV/hmm2hjjMWvHz7Z2NTU17hY6Pxkw9Fn8XX39jUpENzupB4m2Rs/GohiK21tfVrZXV/c+eUrNz2TSMAAADAD1wU66Levvt46UbKhmXzrMeMVlToMcnF3m+Ke1hULL2xiWCpb1XVJ85eWjRrqss4K3k52Qn2NtPdXUKPnWr9+zs/U2P9lf4zlZUUncdazpnsfvR0PJPFqqtvuHIzbZnf9MH9tWWkpc2MDSxMjLPuF4ocG89aBMamqqyk1ad3XuGTdkohAAAAIAB0g7qoe4+eIoRsxpjgU8aam9Y30J8+f0WwVP7jIgaDYUMbjU+hjTIsLa949+kz9tbBiobPsjAxrqyueVXyTqGH/KuspGGDBpy5lLhl79Epi9bczrjb1Nwscmw8axEYG0Kor6bGx9Iygg0EAAAA2pFkZwcAeKuuqUUIqar0xKeoqSgjhOrqGwiWqqyuRQh5+K/gmP61skpHSxMh1EtNBZ+o0lMJIVRdU4cQ2nYgIvq3BINhuqMNRiyYMTnhVtqnsi8ix8azFoGxIYTk5WRrCDcQAAAAaEfQDeqieiopIoS+VVbjXYov3yoRQspKigRLKfaQRwhlXozW/rtjwaGqphZ//bWyCiGkptIzr/BJ1PnLIetWzPB0xWbFX7vVlth41lLxrZI4NoRQdU2dVp/eBFUDAAAA7QguinVRpkZ6CKGM3Hx8SnrOfXk52RG6AwmWGmUwQoJKzcx7gE85ejpez96rgd6IvWW/8ybrfqGGutpA7b7vPpYihGxpf13kamlhPHr2vJX/TwgFxsazFoGxIYQ+f6mAbhAAAIDvBrpBXdRA7b6TXOx/PRJ1515BXX3D5Ruppy9eW+43XUaa6MfkfXqpzfByDT0ek5KV20BvvHOv4EjM+UW+U+XlZLECt9Kzz165XltXn5iSEXs5cc3C2RQKZaT+MAkq9WT8lXo6/VNZ+dod+758rWzkfy+2wNh41iIwtvKKbx8/l1ubjWqnFAIAAAACwEWxrmv3hsADJ+OCQvZ//VY1oJ9W8Jol09ydBS71y+olGupqwfuPff5S0bePxur5s/x9vPC5k1wdrqfd2XHohIa62o6g5d6ujgihwf21921ZGxYVG5eQqKnRy8GKtn5ZwJ5jp6pqavldgyOOjWctAmPLzHugqqxkNtJAtHQBAAAAwoLHJ4oR7MGGi2f7dM1aJi9cY0szWT53ekdEBQAAAHCDi2KgS3hYVFzy4ZPfFPfODgQAAIAYgW4Q6BJCDkfuCFquqNCjswMBAAAgRuCiGAAAAADEFHwbBAAAAAAxBd0gAAAAAIgp6AYBAAAAQExBNwgAAAAAYgq6QQAAAAAQU9ANAgAAAICYgm4QAAAAAMQUdIMAAAAAIKagGwQAAAAAMQXdIAAAAACIKUnyRT9W0TsuDgAAAACANtJSlhOqPIwpBgAAAAAxBRfFAAAAACCmoBsEAAAAADEF3SAAAAAAiCnoBgEAAABATEE3CAAAAABiCrpBAAAAABBT0A0CAAAAgJiCbhAAAAAAxBR0gwAAAAAgpqAbBAAAAAAxBd0gAAAAAIgp6AYBAAAAQExBNwgAAAAAYgq6QV2Xy+wl/c2dV2/dwzG9rOLrQEuX/ubOH0rLOiUwAEC72xx6JPzMb50dRTvTtZl4Mj5B5MWnLQ1KvpMrsBicKkFbQDeoSxvQT+t2Zk5zSwv7xKTUzP59tTorJABAu8t/XJSanefv49nZgXQtPy+fv2nPoZq6OoEl4VQJRAbdoC5Nb+hgxR7yGbkP2CdeTc5wsKZ1VkgAgHYXcijS38dTRlq6swPpWgyGDRkyQCfqnODvk+BUCUQm2dkBAAHsLMckpWY6/n0wfygt+1z+RX/oYLxAa2tr5LnLsZcTP5V/0dH6YemcaV7Odggh/x83p2Xf41hbUVqCjJRUVPyV367d+lBa1ldTI2D6pOkeLv9U5xPw5t0H/K28nOwfaVd4RMWnWG7B42lLgzgKx+zfbkszycx7sDs8+uXbd03Nzdj0GZ6uIetWcBQ2cPSuratnn+Iz0WnXhkBs1pJZU7PzH95/VKSmojx3qsf8Gd74UktmTV082wch1NjUPG6qP5VKzU44zb5CCSpVTVV5hofrqgBf4tQRbyPBUuxhIITWbNv7+s/3VyLDiCMkmZkRdp6r5vkumDm5tLzCL3CjpKREUswRgQUYDAa/3W3iNr3iW+WWwMVzp3pgUzJy8+cEblRXVclPOke8Lwh2NEF+eEbIYrVGnL147sr10vIKzd7qUyaMXzJ7GpVKIUimyBu1Nez4pevJ+UnnpaT+OvX5rd4kLSUVsWszvhX8Dhyau6/ANsaRKDLVIYQKnj4rLCo+suPn9q2dYyX88kyQTANH77UL/dLu3ssteCQvJzd78kR3x7Gb9hx+8OQPDXW1DcvnO9laIMIDkx2/hpGYmrlsY8i+zWsnudgjhFKz8+b9uOXQ1p8mOo5FCLnZ2+wOP7l4to+sjIA+Yhc5VZq4Tff1csNPMph6Ol3Pzmv/liD2MwyeZH4nKDKrysjN33U0+s279316qa+c54tNJLMgQb1Nzc1hkbHXUjI+f/naU1HBeazlppULsfwLm0M5GVmerY7kSe87aQVdlfOsxUs3hqRl3xth59nU3IxNPBpzfv3OA1dv/65Dc3r/6XNra+vOoydHjPO8nnanvoF+LSVjsLXbxevJ+Eoam5p0aE4XEm/jU1YH7xnl4pOZm19TW3fpeoquzcSIuIv4XKtJc25n3MVeH4+9MHycB8/Y+BXLefBIh+b0quQd9vb9p886NKf0nPtVNbVDbScG7dj3tbIa37r1Ow9wr1nfYdLRmPP42wl+y4J27MNnDbRwCYuKrayuufF71rCx7njk7EuFRcXq0JwsPGdxzKpvoF9Muq1Dc/r97j1sFnHq+G0jwVIcwa/eGuoxbyVxhOQzM3ycx/HYC62trZv2HF6/8wCTySJTgGB3j3adNsLOc8aydfgafty+d4CF82jXaQL3Bb8dTZwfnhEG7z9m7DQlLftebV19XuFjswkzDp86R5xMkTfq0R/PdWhOyXdysFm1dfWDrd2uJadzZ5v7wCHTxjgSRbK6LXuPuvuvaPfaOfDLM0Ey9R0mDbGe8L/bvzfQGw+fOqdDczKdMD0t+15VTe2mPYdHjPOsqqltJTwwh1hPiDp/GXtN0DDmBwVbe/u1MBgMJtNh+vx5P27Bw/5aWd3f3DklK5d7i3Bd6lQ52nXa/hNnOCKsa2jQoTldvpHKHTzBCUrgqj6Ulg22djsac766tjYuIWmAhfOT4pckYyCod822UMcZC16+/bOxqSmv8LHR+MmHos9is4TNIc9WR/6k933ARbGuzsLEiMViZeTkY2+vpmQ4WP3zNe+3quoTZy8tmjXVZZyVvJzsBHub6e4uocdOtba28lzb23cfL91I2bBsnvWY0YoKPSa52PtNcQ+LiqU3NmEFmptbFBV6CIyKZDFcxbfKxqbmSS4OqspK5JfiZmqsv9J/prKSovNYyzmT3Y+ejmeyWOwFyiq+Ho+9oKc7iHtZeTlZb1dHOVmZl2/fIRKp47mNwiacG0eEwmamgd54+WbqTC83KpUisIDA3T2WZpL38Cn2TyGDwbidcXfMSEOSG8ITmfywR1hdWxdz4X8r/GeOszBV6CFvZmyQdy1u6ZxpBFW0ZaMMh+sO0Na6ejsde5uanSclKWlvJdx1E4I2xoFkdbkFj9i/tGiv2tnxy7PAZNpZmrk7jpWTlZnp5YYQchlrNc7CtKeigv80r3o6/cWbP7FiAg9M4oaxfe2yqura0xevHY+9UFpesT1oOb6gqrKSVp/eeYVPBG5j1zxVksdxgiJDq0/vl5mJi2f7KCkoTHEbz2K15hU+bmO9dfUNV26mLfObPri/toy0tJmxgYWJcdb9QiR8Dvm1uvb6OGgv0A3q6mSkpa3MRiWmZiKE3rz7UPL+o6WpMT43/3ERg8GwoY3Gp9BGGZaWV7z79Jnn2u49eooQshljgk8Za25a30B/+vwVQojJYn2trFJTUSYOiWQxdgO1+1qbjYq5ePVDaRmDySS/IAf285qFiXFldc2rkn+dMnaHnzIzNrAZM5prUcRgMC4k3qY3NhnrDUOCUsdvG4VNODeOCIXKDJPJDD8TrztAh9+nIEcB4t2NENIfOriXqnJGbj5C6M69QhkZaVMjPZIbwpPA/HBE+LComMlimY82Il9FGzfKY/y4lKxc7MPsZnq2vRVNTlZGqG0kaGPcyFT3/lPZDxq9OqJ2HL88C0ym7kAd7IVCD3mE0OD+2tjbHnJyCCH85mWBByZxw+itrrphecD2g8d3h0dvWBbQp5ca+7J9NTU+kvipVxc8VQqF4wQl7LKXbqRQKBT9oUPaWK9CD/lXWUnDBg04cylxy96jUxatuZ1xF7t0JWwO+bW69vo4aC9wb1A34GBF2xp2rKm5+VpKhpXZKPb7KCuraxFCHv6cl1S/VlbpaGlyr6q6phYhpKrSE5+CHcl19Q0IofKKbwwms6+mBnE8JIuxo1Ao0fu2nYi7aO3th//rMFL4o72Xmgr+WqWnEkKouuafX5E8KX55Nfn3m2fCLyYlsy+1Kzx6V3g09nrIAO0RugORoNTx20aBCWevCyHEcUbjjlCozOwKj5aUlIw/upvnXO4CxLsb42BNS76TO8HBNjE1083Omkpp079GZPLDHmFldQ1CSKWnIr/N4U5mGzfK08kuLDI25U6Oo41FRm7+geCfhNpAfm2MH4HVsVit9XQ6ya6YsLXj+OVZYDLlZP4VGH6TEwfiAxORaBhudta/7DvKZLGcx1pylJGXk61h27kEusipMiwqNiwqVlpKSrO3uqud9cp5vjyL4XieoMiv6vOXr+Yevq2trfpDBxvrDSW/IL96tx2IiP4twWCY7miDEQtmTE64lfap7AsSPof8Wl17fRy0F+gGdQP2lmY//RqWkZt/LTljwcx/3Xuo2EMeIZR5MVqbVyvk1lNJESH0rbIaP219+VaJEFJWUkQIPSl+oaOlKfCMLLAYhcLjek1LCyM2Iam3mmrswV8H9+/nOmcpmYA5VNXU4q+/VlYhhNTYzlPbDhyf6ek2SKcfx1LrFs9dPNuHyWKVvP/ou2L91v3Hdm0IJE4dv20UmHCsLuw1dlcv+1yeEZLPzNpFfrV19fODgpNOHdbk9f0BRwHi3Y1xtDZfvulXemNTcmZO9L6td/IK+NXOjXtHC8wPR4TYZYXK6loNdTXuwjyT2caN6t/3B6PhujfSs6WkpCQlJMfS/vl3nwx+bYwfgdVRqRQlBYWaf9/j3F614/jlmUwyySA+MBGJhvHrkajWVkSlULcdOL5/y7/uvq+uqdPq05tMGF3kVLlqnu+qAF8Gk1n86m3A2i2V1TWbVi0kqIvnCYr8qvr0Unt790bx65LpS4PCImPXLfEnuSDPevMKn0SdvxyybsUMT1esWPy1W6LlkODobpePg/YCF8W6AXVVFcPhuoeiz73+872dhRn7rFEGIySo1My8f34mevR0vJ69VwO9keeqsKsD2PUCTHrOfXk5Wez/gKx7hSZG+gLjISiGde2pVB7tKvrFnCS8AAAgAElEQVS3Kx8/l29auWDIAG2e/SQy2G8RyLpfqKGuNlC7L/b2Znr289clHD+OYCdBpQ7S6WdLMyksKkaCUsdvG4VNODt+EZLPjJSk5NrFc3urq24KPUKmAPHuxpiPMmKyWHsjYnrIy47SHy5wKzD8drTA/HBEaDxiqKSEhFA3NLR9ozyc7DLzHpy9ct1prAW/rzd4EtjGeBJY3Q99en0ur+ig2jH88kwmmWQQHJgY4oaRW/D43P9urF4we/nc6Qk309jjQQh9/lJBshvUpU6VkhIS+kMH21mOyXso+MYmxHWCEnZVwwb1NzXSf/ritbALctT77mMpQsj27/56Swvj0bPn2PEubA4Jju52+ThoL9AN6h4crGhPil8a6w1VV1Vhn96nl9oML9fQ4zEpWbkN9MY79wqOxJxf5DtVXk6W53oGaved5GL/65GoO/cK6uobLt9IPX3x2nK/6TLS0jV1dZdupLg72hJHQlwMu0jcU1GBY3pdfUNE3EWj4bpu9jZkt5mXW+nZZ69cr62rT0zJiL2cuGbhbPwQevTsxaqAWQT/xTKYzJdv32XdLzQaMRQRpo5gG4VNODueEQqbGQkqdeOKBSlZuXfu8f7ahr0Awe7Gy0tJSdqOGR0df8XN3ob8+YjfjiaTH/YI1VSUZ3q5HTx59m7+w+aWludvSsbPXLh+5wGCqtu+URMdbOn0xsy8B+4OAlo7B4FtjCeB1VmZjix4+qyDasfwyzOZZJJBcGBiCBpGY1PzupD9BsOGBEyftGjW1BFDBm3YdbCeTscWLK/49vFzubXZKJKRdJ1TJb2xKf9x0e93743SI/XfBccJisyqzl+9aeg4OT3nfl19Q+HT4pyCRyaGI4SNgaPekfrDJKjUk/FX6un0T2Xla3fs+/K1srGxCQmfQ36trr0+DtoLXBTrHhysxuyNiHHg9ZOWX1Yv0VBXC95/7POXir59NFbPn+Xv40Wwqt0bAg+cjAsK2f/1W9WAflrBa5ZMc3dGCBk6TkYIzQncyFHezicgLT4Sf0tQTFGhx7OXb/ymeGA3ByCEKBSKBJVKpVAiz1+uqqkND9nYxo7/JFeH62l3dhw6oaGutiNouberIz5roHbfWd4TeC6FXwJX6alkaTpyw7IAbDq/1BGnQtiEE0coQmasTEfaWZptPxBx/cxRCV5fvLEX4Le72TnamCel3ZlA+pTkMW8lvx2NyDVI9gg3By5SUVZas31vxbfKPr3U3R3HrhJ0L0UbN6qXmor5aKNnr95amI4kuckYgjZGQGB1TraWUecTsAertHvtOH55JpNMgQgOTBy/hhF6/NTHsi/Hd23BGvOejas9/FeEHju1JXAxQigz74GqspLZSAOE0I5DJ06cvfQ4+aKSAmf/G9cVTpXYfTlUKqWXqupYc5MNy+cTZ4/fCUrgqnwmOlVWVW/Ze7S0vEJVWclnotOSWT5kFiSod3B/7X1b1oZFxcYlJGpq9HKwoq1fFrDn2KmqmlplJUVhc8iz1R05fb5dPg7aTWf8Sv97YH9exXe2ac/ho6fjW1tbfZasvZ2Z0ykxiID9MTC4WxnZ46bOE6FYR+B4PkrH6cRtBN+H6+wl2w9GdJ3qvAJWHTx59rvF07469MD0XrC6q2UGzg//MXBRrJ2xjw1EfkAcAMB3wGAyG+iN15LTX5W895/a4QN4ka9u7SK/uITExqbmjg6pe3lYVFzy4ZPfFPfODgT8l8FFsXbGPjYQPiBO4PxZnR2XYCU5N7knjrexGG9jIUKxbk0ctlE80emN5p6z5GRl9m1Zy/Ondp1VnfloI3srWtT5y8SPjhQ3IYcjdwQtb9+nFLYdnB/+YyitpJ9+K7JOGctG12biT0v9scuWrSKNZSOCgqfPvBesvnvlDH6N//zVm7vDT969EitwQBwAAAAAfG/f4cJbNx3LRgTcYwORGRAHAAAAAJ2iw+8N6r5j2YiAe2wg8gPiAAAAAOA76/BuULcey0ZYPMcGIjkgDgAAAAC+sw6/Rbpbj2UjFH5jA5EfEAcAAAAA31OHd4O69Vg2QuE3NhD5AXEAAAAA8D11+EWxbj2WjbB4jg1EfkAcAAAAAHxPHd4N6r5j2YiAe2wgYQfEAQAAAMB38z0en9hNx7IRAffYQOwD4gAAAACgS/kej0/sONjjExfP9unsQP4xaX7gOAuz5XOnY28nL1xjSzPB3wIxVFpeYe7hGxUabG85prNj6TbYH38qss2hRzQ1ei2eNXXa0qB50yY5WvMYbhMAIOZgTLF2xj42EAyIA0BngdH9AABkCHFRrL+50FesEEIFN35TVVYSYcHOklvweNpSUX4vhm0p+9hAXXNAHADEQfcd3Q8A8F119mOsAV/6DpN0aE7sf0E79uGzjsacn7n8J12bieYes/AhRPBZ2Gt6YxPNfaaF5yyeK+dXjMlkhZ/5zcbbb4j1BBtvv0PRZ5lMFnE8LS0tx2Iv2PkE6NpMtPMJOHvlOl5RzoNHHEvp0JzSc+63/nvAE3bpOfddZi0ZajvRdvLcyzdSBVaBBzbQwsV0wvT9J87gsxqbmnYeibL0mj3Iym2Ui8+GXQfpjU3cGWhtbV29NdRj3kqBySGZ3rr6hsDg3SPGedpOnnvw5FkdmtPOI1Huc5cPG+s+fdm6D6Vlra2twfuPGTp6Nze34EvNCdw4PyiYOLbh4zyOx15obW39VPZl/IyFrrOXtLa2GjtNOXjybAdtC7/2QLxHCNpnzIWrcwI3DrWdONJ56v7IM6//fD9j2bqhthNtvP1upmdjxdjbBovFioi7aOPtN9jazX7afLxJXEvJ0KE5Xbqegr1NycrVoTldvf17a2vrgyd/9Dd3/lT2Ba/33P9ujHSegu99AADAwEWxLm3d4rklOTexP4NhQ9hnhR6PMTXWz7sWt3nVwn0nTp84e4l78eNxF0q5fsAvsNj2gxHHYy/8snpJwY34PRtXn7mUGH4mnjiedSFhEXEXfwlclJ90bumcab/sC+eIJ/X8CWyprMsxxMF8/FweEPTLRAebe4lnF8ycvGbbHuzB4sRVYIE9Sbm8bvHcsKjY9Jz72PSfdx9Kzc47tW9bUerl8JCfk1IzI8/xSBT55JCctXnv0cKi4sRTh6NCgy8k3UYIxSVc37RqYcaFaCqFsmj9NoSQp9O46tq6jLy/ntFQV9+QnV/o7mhLMrDw0/GjDUdciz7c0dvCrz0Q7xGC9rn9YMQkF/vCmxfmTfMKi4ydtjQoYLp33rWztjST1cF7qms5L13tPnYqLDL2p6XzHt26uCrANyhk36UbKQihCfY2420swqJiGUwmk8XaeSTKwYqGjYt89Xa64XBd/JcKCKHxNhaV1bXZ+YXk0wUAEAfQDequBA6mVlbx9XjsBT3dQcTr4SjGbww4gjUIHB5OKFp9er/MTFw820dJQWGK23gWqzWv8DHJKuTlZL1dHeVkZV6+fYcQqqtvuHIzbZnf9MH9tWWkpc2MDSxMjLPuC/FBSJBD4ln/u5UWtGjuAG2tQTr9FvlOQQhNmTDexFCvt7rq1h+XPil+mVvw2HC47gBtrau307GlUrPzpCQl7a1I3cbbQG+8fDN1ppcblUoRXLoN2yLymIAE7ZPkcIEY0cYEhNH9AAAkQTeouxI4mNru8FNmxgY2Y0ZzLYoIivEbA46AwOHhRMNgMC7dSKFQKPpDh5CsgsFgXEi8TW9sMtYbhhBS6CH/Kitp2KABZy4lbtl7dMqiNbcz7jY1N5OPgSCHBLOKnr9mMJkmhnrYW8Phugghg2F/fSoP1O6rpKDw+NkLhJDH+HEpWblY1+Fmera9FY17MBZuTCYz/Ey87gAdgX3ctm+LyGMCErRPksMFYkQbExBG9wMAkPQ9nhsEOgLxYGpPil9eTf795pnwi0nJBCvhLsZvDDgCAoeHI7A17PjWsOMy0tI/9Onl4Thumd80SUlJhNDnL1/NPXxbW1v1hw421hv66I/nxFXsCo/eFR6NvR4yQBt/Fvm2AxHRvyUYDNMdbTBiwYzJCbfSPpV9wVfCvhRCCOs84QhySJzeispKhFBPJQXsbU9FBYSQkoICXqCnkkJFZRVCyNPJLiwyNuVOjqONRUZu/oHgn8jEtis8WlJSMv7obl4Z5U3kbRF5TECC9klyuMC/AxB6TEAY3Q8AQB50g7or4sHUth04PtPTbZBOP+KVcBfjNwYcATLDw3E82hu3edVCfx8vBoPxpPiV/4+bGxobNywLQAj16aX29u6N4tcl05cGhUXG9u+nRVzFusVzF8/2YbJYJe8/+q5Yv3X/sV0bAvMKn0SdvxyybsUMT1esWPy1W+y1Y0thr9ds2/v6z/fEySEzC/3d46mtq8d6BvUNdIRQc0sLXuBbZXVvNVWEUP++PxgN172Rni0lJSUpITmW9s+XKwSxrV3kV1tXPz8oOOnUYU2u7zx4EnlbRB4TUOBgfySJMCYgjO4HACAPLop1VwSDqd1Mz37+umRVgC/xGngW4zcGHAHi4eGwezioVKKWJikpOVJ/mKXpSI5bN4YN6m9qpP/0xWuSI9BJUKmDdPrZ0kwKi4oRQu8+liKEbP/uW7S0MB49e95K7nmhBDkUmF6jEUMpFMqDJ39gb5+/KUEI4ZeEil68rqfTjUYMxd56ONll5j04e+W601gL4u9FcFKSkmsXz+2trrop9EhHb4vIYwIKHOyPJNHGBITR/QAAJEE3qLsiGEzt0bMXqwJmsX8ZwxPPYvzGgCNYD/HwcNg9HNiFIX4a6I138x/ezS8cpT/s/NWbho6T03Pu19U3FD4tzil4ZGI4guQIdAwm8+Xbd1n3C7FOxkj9YRJU6sn4K/V0+qey8rU79n35WtlI7sZtghwKTK9mb/VJzvYhhyKLX5d8KisPPx2PEDpzKbHoxevSsi+bQ4+YGetj3QiE0EQHWzq9MTPvgbsD2d+IIYQkqNSNKxakZOXeuVfQodsi8piAAgf7I0m0MQFhdD8AAElwUay7IhhMbaB231neEwSugV8xfmPAEeA3PJzHvJXPXr7xm+KB3R2CEKJQKBJUKvXvT0Ts3iAqlaKhrjbB3vbHRX7ysrKVVdVb9h4tLa9QVVbymei0ZJYPQRUY/E4alZ5KlqYjsStrg/tr79uyNiwqNi4hUVOjl4MVbf2ygD3HTlXV1ArsIxLkkEx6Q35aEbz/mPeCQJWeSj4TnYtfl7jZW6/YvPNDaZmFidHuDavxkr3UVMxHGz179dbCdCTxOjlYmY60szTbfiDi+pmjCKG9ETF7I/71MIL564JP7NrS9m0RbUxAMoP9kSTCmIAwuh8AgKTuPaaY2OqCg6kBfgSOKeY2Z6mFifHPy+e3Y6Xhp+MLioqxbtD31xXaJ4zuBwAgAy6KAdA5GExmA73xWnL6q5L3/lM9Ozuc/xoY3Q8AQAZcFAOgc9Dpjeaes+RkZfZtWUvyB1+APBjdDwBABlwUAwAAAICYgotiAAAAABBT0A0CAAAAgJiCbhAAAAAAxBR0gwAAAAAgpqAbBAAAAAAxBd0gAAAAAIgp6AYBAAAAQExBNwgAAAAAYgq6QQAAAAAQU9ANAgAAAICYEmJMsY9V9I6LAwAAAACgjbSU5YQqD2OKAQAAAEBMwUUxAAAAAIgp6AYBAAAAQExBNwgAAAAAYgq6QQAAAAAQU9ANAgAAAICYgm4QAAAAAMQUdIMAAAAAIKagGwQAAAAAMQXdIAAAAACIKegGAQAAAEBMQTcIAAAAAGIKukEAAAAAEFPQDQIAAACAmIJuUNflMntJf3Pn1Vv3cEwvq/g60NKlv7nzh9KyTgkMADFXWl4xeeGaITYT7HwCdG0mnoxPaMvanr18c+BkHL+5m0OPhJ/5jTuA/ubOqdl5bakXAMwv+8I3hx6pb6An3EybunhtZ4fDiV9405YGJd/Jbfv6oRvUpQ3op3U7M6e5pYV9YlJqZv++Wp0VEgAg5sL/XpW8y758+saZo21f277IMw8e/8FzVv7jotTsPH8fz7bXAgA/y+dOf1nybrSrz/G4C7+sXtTZ4XDiF97Py+dv2nOopq6ujeuXbOPyoEPpDR384HFRRu4DR2saPvFqcoaDNS0i7mInBgaAOKuqqe33Q5/e6qodXVHIoUh/H08ZaemOrgiIMzUV5XOHd3V2FHzxC89g2JAhA3SiziUEzp/VlvVDN6irs7Mck5SaiXeDPpSWfS7/oj90MF6gtbU18tzl2MuJn8q/6Gj9sHTONC9nO4SQ/4+b07LvcaytKC1BRkoqKv7Kb9dufSgt66upETB90nQPl3+q8wl48+4D/lZeTvaPtCs8ouJTLLfg8bSlQRyFY/Zvt6WZZOY92B0e/fLtu6bmZmz6DE/XkHUrOAobOHrX1tWzT/GZ6LRrQyA2a8msqdn5D+8/KlJTUZ471WP+DG98qSWzpi6e7YMQamxqHjfVn0qlZiecZl+hBJWqpqo8w8N1VYAvceqIt5FgKfYwEEJrtu19/ef7K5FhxBGSzMwIO89V83wXzJxcWl7hF7hRUlIiKeYIPjci7mJYVCy+sz6UlllNmoNlnqBqFqs14uzFc1eul5ZXaPZWnzJh/JLZ06hUCsF+ZDAY/NoPQaoJljJxm17xrXJL4OK5Uz2wKRm5+XMCN6qrquQnndsadvzS9eT8pPNSUn+drPxWb5KWkorYtRkPjF9Tp7n7CmwVOKyZkakObxj9zZ13BC1nXwnBZjY1N4dFxl5Lyfj85WtPRQXnsZabVi6UlZGevernzLwH2NqyLsf01dTA11bw9FlhUfGRHT9jb+sb6JtCD99Kv9tLTcXb1REhlP+o6GBU3Iu3f47UH77n59VafXoTx0BwBBHvBYL4+SW/h5wc9vq7tUx+EXIU5rdm9jIEZyHRAiA4NAiWGuk81d/Ha/nc6Qihohevf9l39NEfL5R7Knq7OKxZOEdSQgIhRHOfOdlt/I8L5+C7DG9Fizdsr6mtizu0E5E+a3HsBZywnyYEO53neUxgo+UXnpu9ze7wk4tn+3DvaPKgG9TVOVjRlm0KaW5pkZaSQghdS063sxzDfsjuPnbq9IWroZvW2NJM0u7eCwzezWplebs4nAzdihBqam4eauseunHNZDdHrPyaraHpuflhW9Ya6w1LvpO7fueBuvoG/GzYwmCc2LXF0cYc/d2UeUZFXCz1/IlBOv3Q360fIVRdW7dgXbDH+HGnw0JUlZUQQi6zl/Db5HWL5+I9iYlz//UxE3o8ZsW8mYe3b8gteBwYvBshhEeOOx53obS8AvtIYF9hA73xxu931mzba6w3dKy5KUHqiLeReCky2CMUKjOY8NPxow1HbF+7nLiYwKoRQtsPRiTcTN23ea2pkd4fL18v37STQqEsnTMNm8u9HxFC60LCCNoPv1QTL9VDXi7lTg7+AZyYmol/LHk6jTsZn5CRl+9gRUMI1dU3ZOcX7t/8r9sX+DV1gg1HfJoZmerS4iPXhez/4+Wba9GHEELB+4/9s07+m/nz7kOPn704tW9bvx/6PPrj+YJ1WzV7qy/zm346bMf8dcFNTc2nw3ZwxHz1drrhcF3N3urY2817jxYWFSeeOsxqZc1dsxkhFJdw/eTeYO0fNFdv3bNo/TYsHuJUExxBBHuBIH4yySej7S2TX4QcFRGvGUdwFhItAH6HBpmwa+rqZq3cMNHB9vjOLR9KPy9cv43e2PTL6sXk00vyrMV9mGBE+zQhxn4eI260BOGNt7FYv/NAdn6hveUY8tngAPcGdXUWJkYsFisjJx97ezUlAztBY75VVZ84e2nRrKku46zk5WQn2NtMd3cJPXaqtbWV59revvt46UbKhmXzrMeMVlToMcnF3m+Ke1hULL2xCSvQ3NyiqNBDYFQki+EqvlU2NjVPcnHAPulFZmqsv9J/prKSovNYyzmT3Y+ejmeyWOwFyiq+Ho+9oKc7iHtZeTlZb1dHOVmZl2/fIRKp47mNwiacG0eEwmamgd54+WbqTC83jv9fpaSkGAymUFVX19bFXPjfCv+Z4yxMFXrImxkb5F2L4/48YCew/WA4Ui1wqbE0k7yHT7F/lxkMxu2Mu2NGGmKzDIfrDtDWuno7HXubmp0nJSlpz3YIkEHQKji0pTqCzayrb7hyM22Z3/TB/bVlpKXNjA0sTIyz7hcSrzC34BH+vW9Zxdf/3UoLWjR3gLbWIJ1+i3ynIISmTBhvYqjXW111649LnxS/zC14LDDVBEcQwV4QLX7M92mZJCMUYc0kkQyA49AguVTs5SRJSYlNqxaqKisZDtddNmda7OXEqppakrGRPGuRP0wwBI1N4E5nP4+RPKvwDE9VWUmrT++8wickY+YJukFdnYy0tJXZqMTUTITQm3cfSt5/tDQ1xufmPy5iMBg2tNH4FNoow9LyinefPvNc271HTxFCNmNM8CljzU3rG+hPn79CCDFZrK+VVWoqysQhkSzGbqB2X2uzUTEXr34oLWMwBZwTCbB3AS1MjCura16VvGMvsDv8lJmxgc2Y0VyLIgaDcSHxNr2xyVhvGBKUOn7bKGzCuXFEKFRmmExm+Jl43QE63Keqfj9oNLe0VFbXkK/6YVExk8UyH21EMnIkqP3gOFItcCn9oYN7qSpn5OYjhO7cK5SRkTY10sMLe4wfl5KVi50Tb6Zn21vR5GRlyMfMveHERK6OYDMVesi/ykoaNmjAmUuJW/YenbJoze2Mu/g1UH7efyr7QaMX9rro+WsGk2li+FdaDIfrIoQMhv3VSRqo3VdJQeHxsxcCU01wBBHsBdHix3yflkkyQhHW3L4BcBwaJJfKf1w0Sn84dhUMITRSfxiDyXzy7AXJ2EietYQ6TBBhgyfe6RznMZJnFX7h9dXU+Ni2H03DRbFuwMGKtjXsWFNz87WUDCuzUez3S1ZW1yKEPPw57yP5Wlmlo6XJvarqmlqEkKpKT3wK9klfV9+AECqv+MZgMtnvTuCJZDF2FAolet+2E3EXrb398H9BRuoNI78GTC81Ffy1Sk8lhFB1zT8/E3hS/PJq8u83z4RfTEpmX2pXePSu8Gjs9ZAB2iN0ByJBqeO3jQITzl4XQsj439vIHaFQmdkVHi0pKRl/dDf3LBNDPUWFHiGHIzevXEhvbLqdmcNRgLtq7CSl0lORZ108EbcfxCfVApdCCDlY05Lv5E5wsE1MzXSzs6ZS/vkPzdPJLiwyNuVOjqONRUZu/oHgn8gHjPi3Cn5Ero54M7cdiIj+LcFgmO5ogxELZkxOuJX2qewLwdpYrNZ6Oh3vgVVUViKEeiopYG97KioghJQUFPDyPZUUKiqrsNcEqSY+ggj2grDx475PyyQZoWhrbpcAeB4aApfaGxGzNyIGITR1ghM+UVlJESFUXUv2F1JkPiaEPUwQYYMn3ukc5zEy5weC8OTlZGvYSooAukHdgL2l2U+/hmXk5l9Lzlgw81+XSxV7yCOEMi9Ga/Pq9HDrqaSIEPpWWY2fDb98q0R/H1dPil/oaGkK/N9XYDEKhcI9saWFEZuQ1FtNNfbgr4P793Ods5RMwBzYvwf+WlmFEFJjO3i2HTg+09MNu2bPDrsqz2SxSt5/9F2xfuv+Y7s2BBKnjt82Ckw4+y0F2C3S7HN5Rkg+M2sX+dXW1c8PCk46dVjz7+8JMMpKijH7t28OPTLK1UexRw+dvpzhcVeNXfKrrK7VUFfjWR33fiRuP4hPqgUuhRBytDZfvulXemNTcmZO9L6td/IK8Fn9+/5gNFz3Rnq2lJSUpITkWNo//zWSwa9V8CNydQSbmVf4JOr85ZB1K2Z4umKz4q/dIl4blUpRUlCo+ftGXazHU1tXj31C1DfQEULsj9L4VlndW00V26cEqSY+gvjtBRHix32flkkyQoFrJkmEAHgeGgKXWrNgzvK50+cEbqysrsYnYjtRSVEBkUPmY0LYwwQRNnjinc5xHiNzfiAIr7qmjvtmJqHARbFuQF1VxXC47qHoc6//fG9nYcY+a5TBCAkqFfulCebo6Xg9e68GeiPPVWHfcmPfe2PSc+7Ly8li/5pk3Ss0MdIXGA9BMez7DCqVR7uK/u3Kx8/lm1YuGDJAm2c/iQz2a8BZ9ws11NUGavfF3t5Mz37+ugT//QU3CSp1kE4/W5pJYVExEpQ6ftsobMLZ8YuQfGakJCXXLp7bW111U+gR7rmj9Icnnjr8MjOx4Eb8oa3rBVZtPGKopIREXuFj7lXx24/E7QfHkWoyS5mPMmKyWHsjYnrIy47SH85Rr4eTXWbeg7NXrjuNtcB/w0WGwFbBk2jVEWzmu4+lCCHbv3tULS2MR8+e41/+SfA6XhBCP/Tp9bm8AnttNGIohUJ58OSvxws9f1OCEMKvZxW9eF1PpxuNGCow1QRHEOK/F4jjF+g7tEySERKsmaQ2BsBxaJBcaqT+sIKnxQwGA3tb8OSZpIQE+++FiQk8a4l2mBA3NoKdznEeE9hoicP7/IXHPd1CgW5Q9+BgRXtS/NJYb6i6qgr79D691GZ4uYYej0nJym2gN965V3Ak5vwi36nycrI81zNQu+8kF/tfj0TduVdQV99w+Ubq6YvXlvtNl5GWrqmru3Qjxd3RljgS4mLYxeaeXP+m1NU3RMRdNBqu62ZvQ3abebmVnn32yvXauvrElIzYy4lrFs7G+w2Pnr1YFTCL/R8IDgwm8+Xbd1n3C41GDEWEqSPYRmETzo5nhMJmRoJK3bhiQUpW7p17BYJLE1atpqI808vt4Mmzd/MfNre0PH9TMn7mwvU7DyD++5Gg/bAX40g1maWkpCRtx4yOjr/iZm/D3Rec6GBLpzdm5j1wdxDQPslsuECiVUewmSP1h0lQqSfjr9TT6Z/Kytfu2Pfla2Xj33eA9lRUKPvytbK6hqMzbWU6suDpM+y1Zm/1Sc72IYcii1+XfCorDz8djxA6cymx6MXr0rIvm0OPmBnrmxrpCUw1wRGE+O8F4vjbor1aJskICdZMUhsD4PxVUH4AACAASURBVDg0SC41Z7I7k8nccehEVU1t/uOiQ9HnpkwYr6rcE5Ej8Kwl2mFC8mzAE/t5TOB6CMIrr/j28XO5tdkooSLnABfFugcHqzF7I2IceP1i5ZfVSzTU1YL3H/v8paJvH43V82f5+3gRrGr3hsADJ+OCQvZ//VY1oJ9W8Jol09ydEUKGjpMRQnMCN3KUt/MJSIuPxN8SFFNU6PHs5Ru/KR7YPQcIIQqFIkGlUimUyPOXq2pqw0M2ivw9EGaSq8P1tDs7Dp3QUFfbEbQce3oKZqB231neE3guhV+VV+mpZGk6csOyAGw6v9QRp0LYhBNHKEJmrExH2lmabT8Qcf3MUX5fJJCpGiG0OXCRirLSmu17K75V9uml7u44dtU8X495K/ntR8S//WD4pZp4KYyjjXlS2p0JvLqDvdRUzEcbPXv11sJ0JJntFbjhxESujt9mDu6vvW/L2rCo2LiERE2NXg5WtPXLAvYcO1VVU6uspDjXxytg7RaziTPOHtrFfm+4k61l1PkE7PE2CKGQn1YE7z/mvSBQpaeSz0Tn4tclbvbWKzbv/FBaZmFitHvDauIYMARHEIbnXiCOX6gUcWivlkk+Qp5rJhltWwLgeWiQDFulp9LpsB1bw46bTpjeU1HRy9kuaNFcfO7hU+cOnzqHv8V/wI9ZtunXw9vWE5+1RDtMELnjmh/28xjxegjCy8x7oKqsZDbSACG049CJE2cvPU6+yH7PHCmtHe9T2RfvBasHW7uNmzpviPWEqPOX27K2P168DouKbXtUm/YcPno6vrW11WfJ2tuZOW1fYXenQ3N6VfKOY+KtjOxxU+eJUKwj6DtMOhpzvqNrae3UbQT8uM5esv1gxH+1On68AlYdPHmWe/qnsi86NKeUrFyh1vbdjiDQRew/cWbpxpDOjqIDeS9YzfMAEcr3uCj23cbfIY99pJ72GpcEANDuGExmA73xWnL6q5L3/lM7fGit71ydQGsX+cUlJDY2kfppOgBi5WFRccmHT35T3Nu4nu9xUey7jb9DHvtIPe01Lkl3V5Jzk3vieBuL8TYWIhTr1sRhG7sLOr3R3HOWnKzMvi1rOX4c9x+oTiDz0Ub2VrSo85fb5RF/APyXhByO3BG0XKgH+fJEaSV9t79o2Adm2hG0PHj/sZ+W+mNXJdsy/g5CiGP8HfIKnj7zXrD67pUz+FPqz1+9uTv85N0rsW0ZlwQAAAAA3UuHXxRLi4/0mehkMGxISc7NmV5u7LPWhYRFxF38JXBRftK5pXOm/bIv/MTZS9isn3cfSs3OO7VvW1Hq5fCQn5NSMyPPXUIInQ7b4WhjbjNmdEnOTdH6QIhrpB6E0Hgbi8rq2ux8Us+GBwAAAMB/Q6f9YL7dx98hj32kHky7jEsCAAAAgO6l07pB7T7+DnnsI/Xg2j4uCQAAAAC6l07rBgkcf8d51qKL15MlJCQWzJg83taivW5h4hipB9f2cUkAAAAA0L102uMT23f8HfI4RurBtX1cEgAAAAB0L532bVC7j79DHvtIPbi2j0sCAAAAgO6l07pB7T7+DnnsI/Vg2mVcEgAAAAB0L505tOruDYEzPF2CQvaPcvE5HnsheM2SxbN90N/DrKTdzRvt4jNzxfpeairrlwW8fvehqqYWITTXx6ueTjebOKPoxWvR6nWytXz59l0p2xdC7OOSAAAAAEBMdPjjE7umSfMDx1mYLZ87HXs7eeEaW5oJ/raLcJm95NnLN5Nc7PdtXss+vaziq7mHL4vVKvIDJAEAxErLK8w9fKNCg+0tx3R2LKIoLa9YvunXR8+e99Ps86G0DH9orWievXxz+07OSv+Z+JTNoUc0NXotnjV12tKgedMmOVrzGPUZgG6hM78N6kTsI/W017gkHWFAP63bmTnNLS3sE5NSM/v31eqskAAAXV+HjuQIYzKC/xIhfinW39xZcCEuBTd+U1VWEmFBYrkFj6ctDRI5HvaRetprXJKOoDd08IPHRRm5D9j/2bqanOFgTYuIu9iJgQEAurIOHckRxmQE/yVCdIN4jjfZWWijDNsYz46g5diL38JD2yOijmJnOSYpNRPvBn0oLftc/oX9Kditra2R5y7HXk78VP5FR+uHpXOmeTnbIYT8f9ycln2PY21FaQkyUlL8hnJD/x4DDiEkLyf7R9oVjpUYOHrX1tUjhCSoVDVV5RkerqsCfLFZJm7Tfb3c8LeYejpdz85r/5YgLLCM3PxdR6PfvHvfp5f6ynm+2EQyCxLUy28QOhHyIycjG3H24rkr10vLKzR7q0+ZMH7J7GlUKiUz78Hu8OiXb9/hT/Kc4ekasm4Fv+TgfCY67doQiM1aMmtqdv7D+4+K1FSU5071mD/DG19qyayp2L1xjU3N46b6U6nU7ITT3CvnV4zFauUZNkE8BIP68fw3I2b/dluaia7NRJ5XWHjuVoIqRNub7BlACK3Ztvf1n++vRIYRJ4dkeusb6JtCD99Kv9tLTcXb1REhlP+o6GBU3Iu3f47UH77n59VafXpvDTt+6XpyftJ5Kam/Tp5+qzdJS0lF7NpMENsIO89V83wXzJxcWl7hF7hRUlIiKebISOep/j5e+LX4dtwW/Cjub+6Mn+gwbRnJsb+5c9blmPKv3wqLio/s+Blfp5u9ze7wk4tn+8CYjKA7EtOLYt2IgxUt+c4/18WuJafbWY6hsBXYfexUWGTsT0vnPbp1cVWAb1DIvks3UhBCJ0O3luTcfJ5xFSEUunFNSc7NkpybPeTkCIZyQwi1MBgndm3BCm9YFsAvqnWL55bk3HyScnnd4rlhUbHpOfdJbs7Hz+UBQb9MdLC5l3h2wczJa7btefr8Ffls8KuX3yB0IuRn+8GI47EXflm9pOBG/J6Nq89cSgw/E19dW7dgXbCe7qCc/8ViJYcPGUgcJPZnMGwI+6zQ4zGmxvp51+I2r1q478Rp9szjjsddKOV6oIPAYjzDJo6HuCUghFLPn8CWyrocQxwMv91KXIUIe5MkghwSzNq892hhUXHiqcNRocEXkm4jhOISrm9atTDjQjSVQlm0fhtCyNNpXHVtXUbeX0/6qKtvyM4vdHe0JRlY+On40YYjrkUf7tBt6dCRHGFMRvAfA92grs7CxIjFYmXk/HXavZqS4WD1zwWyb1XVJ85eWjRrqss4K3k52Qn2NtPdXUKPneJ35zvBUG5YgebmFvLXB+XlZL1dHeVkZV6+fUdyEa0+vV9mJi6e7aOkoDDFbTyL1ZpX+JjksvzqJRiETtj8VNfWxVz43wr/meMsTBV6yJsZG+Rdi1s6Z1rFt8rGpuZJLg5tvMJraqy/0n+mspKi81jLOZPdj56OZ7JY7AXKKr4ej72gpzuIeD0cxfiFTbAGgS1BKDx3K8kqyO9NkghySDzrf7fSghbNHaCtNUin3yLfKQihKRPGmxjq9VZX3frj0ifFL3MLHhsO1x2grXX1djq2VGp2npSkpL0VqRuEG+iNl2+mzvRyo1Ipgku3YVv4aZeRHGFMRvAfA92grk5GWtrKbFRiaiZC6M27DyXvP1qaGuNz8x8XMRgMG9pofAptlGFpecW7T595ro1gKDeEEJPF+lpZhY1qQgaDwbiQeJve2GSsN0zY7WIwGJdupFAoFP2hQwSXJqyXYBA6YfPzsKiYyWKZjzbimD5Qu6+12aiYi1c/lJYxmExhA8axd2EtTIwrq2telfyrB7k7/JSZsYHNmNFciyKCYvzCJkDcEkTGvltJVkF+b5JEkEOCWUXPXzOYTBNDPeyt4XBdhJDBsL8+7wdq91VSUHj87AVCyGP8uJSsXKwzdzM9296Kxj04Dzcmkxl+Jl53gI5QHRfRtoWfdhnJEcZkBP8xnTaYBiDPwYq2NexYU3PztZQMK7NR2J2JmMrqWoSQhz/nHSpfK6t0tDS5V0U8lFt5xTcGk0nmR/i7wqN3hUdjr4cM0B6h+88VorCo2LCoWGkpKc3e6q521ivn+XIv/vnLV3MP39bWVv2hg431hpJfkF+92w5ERP+WYDBMd7TBiAUzJifcSvtU9kWE/FRW1yCEVHoqckynUCjR+7adiLto7e2Hf5M0UvjOHz50DEJIpacSQqi65p+f2Dwpfnk1+febZ8IvJiUTrIS7GL+wCRC3BGJbw45vDTsuIy39Q59eHo7jlvlNk5SURFy79dEfz4mrEHZvci+FEOLoghPkkDi9FZWVCKGeSgrY256KCgghJQUFvEBPJYWKyiqEkKeTXVhkbMqdHEcbi4zc/APBP5GJbVd4tKSkZPzR3bwyypvI28KPwJEcCdKOgTEZwX8PdIO6AXtLs59+DcvIzb+WnLFgpjf7LMUe8gihzIvR2rw+1LkRDOWGEHpS/EJHS5PMv7brFs9dPNuHyWKVvP/ou2L91v3HsLtuEUKr5vmuCvBlMJnFr94GrN1SWV2zadVCjsX79FJ7e/dG8euS6UuDwiJj1y3xJ7kgz3oJBqETNj/YBcHK6loNdTWOWS0tjNiEpN5qqrEHfx3cv5/rnKVkVsgBewQo5mtlFUJIje0zaduB4zM93Qbp9CNeCXcxgrD5IW4JGAqF97WbzasW+vt4MRiMJ8Wv/H/c3NDYiN1GxrFb+/fTIq5C2L3JvhT2GrutmDg5ZGahv3s8tXX1WM+gvoGOEGJ/VsW3yureaqoIof59fzAarnsjPVtKSkpSQnIs7Z8vVwhiW7vIr7aufn5QcNKpw5pc36bwJPK28NP2kRxhTEbw3wMXxboBdVUVw+G6h6LPvf7zvZ2FGfusUQYjJKhU7HccmKOn4/XsvfiNNEIwlBtCKOteoYmRPvnAJKjUQTr9bGkmhUXFHLMkJST0hw62sxyT95DvHQPDBvU3NdJ/+u+ngZNZkKNegkHohM2P8YihkhISPG9Xiv7tysfP5ZtWLhgyQJtf/0Ag9vsnsu4XaqirDdTui729mZ79/HUJx2/luPEsRhA2P8QtAcselXD8PklJyZH6wyxNR3LcFILvVuIqcOT3pkAEORSYXqMRQykUyoMnfz0d5/mbEoQQfsmy6MXrejrdaMRf31x6ONll5j04e+W601gL/CdjxKQkJdcunttbXXVT6JGO3hZ+2mUkRxiTEfzHQDeoe3Cwoj0pfmmsN1RdVYV9ep9eajO8XEOPx6Rk5TbQG+/cKzgSc36R71R5OVme6yEYyq2mru7SjRTyv3lBCDGYzJdv32XdL8Q/HnD0xqb8x0W/3703Sm84+/TzV28aOk5Oz7lfV99Q+LQ4p+CRieEIMgsS1EswCJ2w+VFTUZ7p5Xbw5Nm7+Q+bW1qevykZP3Ph+p0H6uobIuIuGg3XdbO3IZ8fbrfSs89euV5bV5+YkhF7OXHNwtl4j+rRsxerAmaxfxnDE89i/MImWA9BS0AIYfdOYReG+GmgN97Nf3g3v3CU/jCeu5W4Chz5vSkQQQ4Fplezt/okZ/uQQ5HFr0s+lZWHn45HCJ25lFj04nVp2ZfNoUfMjPWxbgRCaKKDLZ3emJn3wN1BiONFgkrduGJBSlbunXsFHbot/LTLSI4wJiP4j4GLYt2Dg9WYvRExDrx+kPLL6iUa6mrB+499/lLRt4/G6vmziJ+av3tD4IGTcUEh+79+qxrQTyt4zZJp7s4IIUPHyQihOYEbOcrb+QSkxUdyTMTvgVDpqWRpOpL9p/XYLT5UKqWXqupYc5MNy+ezL+gz0amyqnrL3qOl5RWqyko+E52WzPIhsyBBvdggdGFRsXEJiZoavRysaOuXBew5dqqqplZZSVHY/GwOXKSirLRm+96Kb5V9eqm7O45dNc/3yOnzVTW14SEbRf4eCDPJ1eF62p0dh05oqKvtCFqOPZwGM1C77yzvCQLXwK8Yz7CJV8WvJXjMW/ns5Ru/KR7Y3UsIIQqFIkGlUv/eduzeICqVoqGuNsHe9sdFfvKysjx3K78qMCLsTdGSQzwLF/LTiuD9x7wXBKr0VPKZ6Fz8usTN3nrF5p0fSsssTIx2b1iNl+ylpmI+2ujZq7cWpiOJ18nBynSknaXZ9gMR188cRQjtjYjZG/GvhxHMXxd8YteWtm8LP/z2CHHa5/p4BazdYjZxxtlDu5xsLaPOJ2CPp8LWCWMygm5NTMcUA9z6mzunnj/BcbfB7cy7O4+c5O4GARFwPF4PdGUCxxRzm7PUwsT4Z16ddZGFn44vKCrGukFdWbcYkxEAkuCiGAAAkMVgMhvojdeS01+VvPef6tnZ4XSO7jImIwBkwEUx8Beeg5OMt7EYb2Px/YMBoGui0xvNPWfJycrs27KW5A++/nu6y5iMAJABF8UAAAAAIKbgohgAAAAAxBR0gwAAAAAgpqAbBAAAAAAxBd0gAAAAAIgp6AYBAAAAQExBNwgAAAAAYgq6QQAAAAAQU9ANAgAAAICYgm4QAAAAAMQUdIMAAAAAIKaEGFPsYxW94+IAAAAAAGgjLWU5ocrDmGIAAAAAEFNwUQwAAAAAYgq6QQAAAAAQU9ANAgAAAICYgm4QAAAAAMQUdIMAAAAAIKagGwQAAAAAMQXdIAAAAACIKegGAQAAAEBMQTcIAAAAAGIKukEAAAAAEFPQDQIAAACAmIJuEAAAAADEFHSDAAAAACCmoBvUdbnMXtLf3Hn11j0c08sqvg60dOlv7vyhtKxTAgMAdB2bQ4+En/mt49Zv4OgdfjpeYLFnL98cOBmHvZ62NCj5Tq7AReAUB7oCyc4OABAZ0E/rdmZOc0uLtJQUPjEpNbN/X6037z50YmAAgK4g/3FRanZeWnxkx1XxJPkSmWL7Is80NTVjr39ePn9+0C9jRuorKSgQLwWnONDp4NugLk1v6GDFHvIZuQ/YJ15NznCwpnVWSACAriPkUKS/j6eMtHRnB/IvBsOGDBmgE3UuQWBJOMWBTgffBnV1dpZjklIzHf8+KXwoLftc/kV/6GC8QGtra+S5y7GXEz+Vf9HR+mHpnGleznYIIf8fN6dl3+NYW1FagoyUVFT8ld+u3fpQWtZXUyNg+qTpHi7/VOcTwP5PmLyc7B9pV3hExadYbsHjaUuDOArH7N9uSzPJzHuwOzz65dt3Tc1//cs4w9M1ZN0KjsIGjt61dfXsU3wmOu3aEIjNWjJranb+w/uPitRUlOdO9Zg/wxtfasmsqYtn+yCEGpuax031p1Kp2Qmn2VcoQaWqqSrP8HBdFeBLnDribSRYij0MhNCabXtf//n+SmQYcYQkMzPCznPVPN8FMyeXllf4BW6UlJRIijnCXmCk81R/H6/lc6dz104QM8EuYzAYPJtKRNzFsKhYvGF8KC2zmjQHW4RgM1ms1oizF89duV5aXqHZW33KhPFLZk+jUikEAbQ91Ryz+G0RQsjEbXrFt8otgYvnTvXApmTk5s8J3KiuqpKfdG5r2PFL15Pzk85LSf11zvRbvUlaSipi12Y8Zn5HHM3dV2DjxGGtnUx1CKGCp88Ki4qP7Pi5fWvnWAl7Pg0cvVfMnXHv4ZPs/IdSkpITHGy3BC6SlpKavernzLwHCKH+5s5Zl2P6amq42dvsDj+5eLaPrIyALloXPMURnDRM3Kb7ernhbzH1dLqendf+LUFYYBm5+buORr95975PL/WV83yxiWQWJKi3qbk5LDL2WkrG5y9feyoqOI+13LRyIZZbYfMjJyPL80jsrFN0p4NuUFfnYEVbtikE/9L4WnK6neUYCluB3cdOnb5wNXTTGluaSdrde4HBu1mtLG8Xh5OhWxFCTc3NQ23dQzeumezmiJVfszU0PTc/bMtaY71hyXdy1+88UFffgDfWFgbjxK4tjjbm6O9PO55RERdLPX9ikE4/9PcHJEKourZuwbpgj/HjToeFqCorIYRcZi/ht8nrFs/FP8Mmzl3OPiv0eMyKeTMPb9+QW/A4MHg3QgiPHHc87kJpeYVWn94cK2ygN974/c6abXuN9YaONTclSB3xNhIvRQZ7hEJlBhN+On604Yjta5cTF2MnMGbuXYYQWhcSRtBUhNpMhND2gxEJN1P3bV5raqT3x8vXyzftpFAoS+dMIwig7anmQLxFPeTlUu7k4N2gxNRMKvWvQ83TadzJ+ISMvHwHKxpCqK6+ITu/cP/mtewr53fEEeQE8WntZKpDCF29nW44XFezt3r71k4s9HjM9rXLwoLXPXn20m/1Rm0tzYUzJ58O2zF/XXBTU/PpsB1YsfE2Fut3HsjOL7S3HEO8wq55iuN30hDo4+fygKBfVgfMmjnJLTElc822PUMGaLP36ojxq/fn3YceP3txat+2fj/0efTH8wXrtmr2Vl/mN12E/GwNO859JPpOmtCJp+jOBRfFujoLEyMWi5WRk4+9vZqSgZ0ZMd+qqk+cvbRo1lSXcVbycrIT7G2mu7uEHjvV2trKc21v3328dCNlw7J51mNGKyr0mORi7zfFPSwqlt7YhBVobm5RVOghMCqSxXAV3yobm5onuThgB5jITI31V/rPVFZSdB5rOWey+9HT8UwWi71AWcXX47EX9HQHcS8rLyfr7eooJyvz8u07RCJ1PLdR2IRz44hQ2Mw00Bsv30yd6eWGf0ILJFrMBE1FSkqKwWAKtZnVtXUxF/63wn/mOAtThR7yZsYGedfi8D5QO4Yt2hZhBcbSTPIePsX+02UwGLcz7o4ZaYjNMhyuO0Bb6+rtdOxtanaelKSkvZVwF24IGicHktXlFjwi//lKvnZijta0KRPG95CTo40ytB4z+ve7nN83YFSVlbT69M4rfCJwhV3zFIfhOGmQodWn98vMxMWzfZQUFKa4jWexWvMKH5Ncll+9dfUNV26mLfObPri/toy0tJmxgYWJcdb9QiR8fvgdiV3hFN1ZoBvU1clIS1uZjUpMzUQIvXn3oeT9R0tTY3xu/uMiBoNhQxuNT6GNMiwtr3j36TPPtd179BQhZDPGBJ8y1ty0voH+9PkrhBCTxfpaWaWmokwcEsli7AZq97U2GxVz8eqH0jIGU8AnKAH286OFiXFldc2rkn+dnnaHnzIzNrAZM5prUcRgMC4k3qY3NhnrDUOCUsdvG4VNODeOCIXKDJPJDD8TrztAR6iTiGgxEzSVfj9oNLe0VFbXECzOsZkPi4qZLJb5aKOODpsAceNHCOkPHdxLVTkjNx8hdOdeoYyMtKmRHl7YY/y4lKxc7NP0Znq2vRVNTlZGqAAIGic3MtW9/1T2g0avjqidwJCBOvhrFSUlOr2RX8m+mhofSfzUqwue4nAcJw2hMBiMSzdSKBSK/tAhIizLXq9CD/lXWUnDBg04cylxy96jUxatuZ1xF7t0JWx++B2JXeEU3Vngolg34GBF2xp2rKm5+VpKhpXZKPbbISuraxFCHv6cl2+/VlbpaGlyr6q6phYhpKrSE5+CnRHq6hsQQuUV3xhMZl9NDeJ4SBZjR6FQovdtOxF30drbD/83ZaTwZ5Zeair4a5WeSgih6po6fMqT4pdXk3+/eSb8YlIy+1K7wqN3hUdjr4cM0B6hOxAJSh2/bRSYcPa6EEIcZ0/uCIXKzK7waElJyfiju3nO5UfYRoIhaComhnqKCj1CDkduXrmQ3th0OzOHY1nuzcT6TCo9FdsxbIJU85xF3PgxDta05Du5ExxsE1Mz3eysqZR//lH0dLILi4xNuZPjaGORkZt/IPgn8tuC+DdOfgRWx2K11tPpJLtiwtZOQFryn08NCgWx+H85Jy8nW8OWWwJd7RSH+Jw0MGFRsWFRsdJSUpq91V3trFfO8+Ve/POXr+Yevq2trfpDBxvrDSW/IL96tx2IiP4twWCY7miDEQtmTE64lfap7IsI+eF3JHbuKbpzQTeoG7C3NPvp17CM3PxryRkLZv7rOqtiD3mEUObFaG3+n2fseiopIoS+VVbjjfXLt0qEkLKSIkLoSfELHS1NgSdWgcUoFB7Xa1paGLEJSb3VVGMP/jq4fz/XOUvJBMyhqqYWf/21sgohpMZ2vtt24PhMTzfsFhN22JVsJotV8v6j74r1W/cf27UhkDh1/LZRYMLZr5pjN+eyz+UZIfnMrF3kV1tXPz8oOOnUYU3SXwOQaSTcu4ygqSgrKcbs37459MgoVx/FHj10+nKulnszscsQldW1GupqJANoS6p5ziJu/BhHa/Plm36lNzYlZ+ZE79t6J68An9W/7w9Gw3VvpGdLSUlJSkiOpf3zfQMZ/BonPwKro1IpSgoKNf++WbW9am8X1TV1JO//6GqnOMTnpIHNWjXPd1WAL4PJLH71NmDtlsrqmk2rFnIs3qeX2tu7N4pfl0xfGhQWGbtuiT/JBXnWm1f4JOr85ZB1K2Z4umLF4q/dEi0/BEdiJ56iOxdcFOsG1FVVDIfrHoo+9/rP93YWZuyzRhmMkKBSsd9oYI6ejtez92rg80019iU/9rU/Jj3nvrycLPY/R9a9QhMjfYHxEBTD/o2gUnm0q+jfrnz8XL5p5YIhA7R59pPIYL/VIOt+oYa62kDtvtjbm+nZz1+XcPwQg50ElTpIp58tzaSwqBgJSh2/bRQ24ez4RUg+M1KSkmsXz+2trvr/9u48Lqa1DwD4M1NRaV8sF5Wt0k6L9tKilDYhWyQh+1ouF13rtSTZSpFEpa7CJUTltkhFiugVWbq2tNDetMw07x/HnTummTNnxlLM7/vpj+Ysz/N7lvOcZ+acmbM5+CjOZjzFzKnJ8LvKWK3RKaeOlGenFF1LPLxtA9di6mmoCQsJsb1JglMAX1LVbOGXCGMyVpfW1bU/MqafuOhYrdEsKbg52GQX3Iu/eNXB2pTxHS4iuHZOtrhm98tAxffVtd8od14JdWvB9zVEb4PtbUMcA8ugwUxYSEhLbaSN2biC+xzvf1IfoWKoq/Xo6XNed2TJ99XbSoSQ1b9T4c5O6oPHT7ADh9f6wTkSe3yI7ikwDfox2JkbPywr19NUU5CTZV4+UFF+podTcERM+q38Vkpbzp2iozEJ/rOniYuJsk1nuNKQyRNt/zgalXOnlPgf3gAAIABJREFUqLml9fy1jNNJl5f7zOjbp09jc3PytXRXeyv8SPA3wy5IS0uy/mZac0trZFyS7mhVZ1tLomVm53pmbvzFq03NLSnpWbHnU9YumsM4XB88frrKz5v5nT0LKo1W/vLVrbvFuhpqCLfqcMrIa4UzYxshrzUjRCZvWrEw/VZ+zp0i7lsTiJlTk+F0FT6KKS8rM8vD+dDJ+NuF9zs6O5+8qJgwa9GG3QdxAviSqmaLSIlERIStxulHJ150trXsfiZwsbOiUNqyC+652nE5TFhw7Zxscc3O3HBM0aPH3yh3XklLSlTVfKhraMROwNW1H9++r7YwGktw994zxDFjGTSYUdraC0tK/759Z6zmZ9PlhEupOvZTMvPuNre0Fj8qyyt6YKCjQWRHnHzHaKkLkcknEy+2UCjvqqoDdobUfKhra2vno344HYm9YYjuKXBR7MdgZz5uf2SMHbtvpvy+ZskABfmtB469r6kdMnDAmgXevl4eOEnt3bj64Mm4wF0HPnysHzZ08Na1S6a7OiKEdOynIITmrt7Esr2Nlx/zb9TibCYp0e9x+QufqW7YJWGEEIlEEiKTySTSiYTz9Y1N4bs28f0mAzPZye7qzZydh48PUJDfGbjc0+m/bwUPVxri7TmJ7V6My+2y0lJmhmM2LvPDlnOqOvyq4LXC8SPko2bMDcfYmBntOBh59UwYy1vw/ZEx+yNjmJcsWL/1+J4gTjG7zV/JqckQ567CRzERQltW+8vKSK3dsb/2Y91ARQVXe+tV82fjB8B3VXNCpET2liZXbuZMYncyUJSXNdHXffzspanhGJ7yxemcOLhm52BlFpVwAfv1l6+eO6/meXn4BQQZucyMP7zHUFczu+CenIyU0RhthNDOw8ePxyeXpCXh/Kh07xniMJwGDfTvLT5kMklRTs7axGDj8gXMO3q5ONTVNwTtD6usrpWTkfJycVji7UVkR5x8R6oohQQFhEbFxl1IGTRA0c7ceMMyv33HTtU3NslISfJaP2yPxKOnE3pwiO5h9G9Py25yWEwC183+9/R5aFTsl2e3ed+RsNOJdDrda0nAjey8L09QQCgbOzyreMWy8HpW7vhp8/nY7Fsg2JG+XA+W8esKi0nwC/y9p6P4qTjNWbLjUGTvyc7Db9Whk/HfLR7iPBeu6W2B/TTHda/13Ybor+t7XBR7mJbMuF0RR8iJM/dK/veFeWFP2PH1ckcI/bZ8weZ9hxubm7nuBQAAOKg0Wiul7XJa5rOK177T3HtPdgH+PnEXUtr+fZhXL3G/tKzizTufqa49HQgA3P1sF8WYn7DDeK7N6gXePR3XD6AiL7X7wgmWphMsTfnY7IcmCGUEPKFQ2kzcvcVE+4YEBRD/jt53yM5EX9fW3Dgq4Tz+b1F+Z7uOnNgZuJynX1j9DuC4BmyR6Pz+JCtxPD2SBiGEPZKGj4yKHj32XLjm9sUzjCvlCZdS94afvH0xlutzbQAAAAAgaHrgm2LBETETLE3vXjkbsXtL8tW06D//QgidDt1pb2liOU6/Ii+VvzkQ+vwJO5gJlqZ1DU25hcVfJ3QAAAAA/ER6YBpE8JE0fOj+hB3iz7UBAAAAgKDpgWkQ8UfS8IrtE3YIPtcGAAAAAIKmB6ZBxB9JwxNOT9gh/lwbAAAAAAiUn+dXpDk9YaehsVm29/1sJQAAAAB6XC+aBnV/JA2v2D5hh/hzbQAAAAAgUHrRNIjlkTR86P6EHV6fawMAAAAAwdGLpkHzvDxaKBQjl5mlnz+PlzgHK7Pyl68qmT4QYn6uDQAAAAAAs+/x84nf0+QFq8ebGi2fNwN7OWXRWitjA8ZLANiqrK41cZsdFbzV1mxcT8fCD+ZfKMXxuPzFjZy8lb6zGEu2BB8dNEBxsfe06UsD50+fbG/B5sGWAADwE+tFnwZ9FcxP2IHn2gABwd9j++ABfAAAwMMzxVRMHPnIoOjan3IyUsS3zy8qmb40kO+MmJ+w0zufawNALwEP4AMAANTTj7gHHGnZTQ6LScD+p7S1G7vOMnX3xl7SaF3hZ/609PQZZTHJ0tPncHQ8jdaF7aJs7MD8F7gzBNuls7PzWOw5Gy8/VUsXGy+/+ItXGRnl3XvAspeysUNm3l06nT7KYlJUwvnusWXm3Z3ovUTNysVqyrzz1zK4ZsEIbLjpRMNJMw4cP8NY1dbevvtolJnHnBHmzmMnem3cc4jS1t69Buh0+pptwW7zV3KtHJxVzJpbWldv3asx3t1qyrxDJ+OVjR12H41ynbdc3dp1xrL1byqr6HT61gPHdOw9Ozo6GXvNXb1pQeBW/NhGj3eLiD1Hp9PfVdVMmLnIac4SOp2u5zD10Mn4b1QW5s207CZHxiX5BQSNHu+mY++5cc+h9o4OOp3uvXIjo3Ffv3t/7+H/VEwc31XVMBI5+9e1MY5TGZUPAACC4Ge7KPaziog7x3zr945DkRGx535fs6ToWuK+TWvOJKeEn0nEVq1fPK8iLxX701Yfxdhl/a7QyLik31f7F145u3Tu9N9Dwo/HJzNnkZFwHNvr1vkY/GDevq/2C/zdxc7yTkr8wllT1m7f9+jJM65ZYIE9TD+/fvG80KjYzLy72PLf9h7OyC04FbK9NON8+K7frmRknzibzD5jYpVDcNWW/WHFpWUpp45EBW89d+UGQijuwtXNqxZlnYsmk0j+G7YjhNwdxjc0NWcVFGK7NLe05hYWu9pbEQws/HSivo7G5egj37osLIg8tg8ewAcAAOjnuzfop1RV+yEi9pym6gjsZUNTc8y5v1b4zhpvaijRT9xIT7vgctzSudNxUnj56m3ytfSNy+ZbjNOXlOg3eaKtz1TX0KhYSls7H/EMHti/PDtl8RwvKQmJqc4TurroBcUlBLMQFxP1dLIXE+1b/vIVQqi5pfVi6s1lPjNGqij17dPHSE/b1EDv1l0ezsQslUN81V/Xbwb6zxumNHiE8lD/2VMRQlMnTTDQ0eyvILdt3dKHZeX5RSU6o1WHKQ2+dCMT2ysjt0BEWNjWnNB9xK2UtvOpGbM8nMlk0jctS3dEHtsHD+ADAAAE06Afwt7wU0Z62pbj9LGX90vLaF1dJvq6xFO48+ARQshynAFjibWJYUsrBfsUh29UKjX5WjqJRNJSG0UwCyqVei7lBqWtXU9THSEk0U/82a0r6iOGnUlOCdofNtV/7Y2s2+0dHcRjYKkcgqtKnzyn0mgGOprYS53RqgghbfVP04LhSkOkJCRKHj9FCLlNGJ9+Kx+bzKVm5tqaG3d/YEt3NBot/Eyi6jBlghOXLylLd0Qe2wcP4AMAAATToN7vYVn5pbS/N69cyFhS19CIEJKV5uEJIQ2NTQghOVlpxhJ5WRmEUDOBp61tC41QMXFUs3Id7zU/9EQslUrFlr+v+TDK0uXXP0I1VUfoaapxzWJPeLSKieNIi0kBO0NGDVPSUB2OLd9+MNLR2z/papqQkNDCmVMmWJky/4YDthf2l3w1jSW27pVDZBVCqLauDiEkLSWBvZSWlEAISUlIMDaQlpKoratHCLk72LRS2tJz8traO7LyC13trYnEtic8OvzMud9WLGCbO1t8l6U7ro/tgwfwAQAABqZBvd32gxGz3J1HKA9lLMG++1bX0EQ8EWkpSYTQx7oGxpKaj3UIIRmmp62RSOyv3WxZtagiL7U043zI5oCYpEt7j53Clg9UlH95+1pq7LG376tDT8RyzQK7N+h57tWMhOPNLa3bDhxDCBUUP4xKOL8jYPlfUQe3rFpkb2nS0dHJnDvzrU6eTvZcK4fIKvTvjKfp3yfQtbRSEEIdnf9l/bGuob+8HEJIZcgvuqNVr2XmZubdFRYStjb+7+MunNgC/H38pnssCNxaWVXDNgCeAsYvCx/gAXwAAICBaVCvlpqZ++R5xSq/2cwL9TTUhIWECopLiKdjqKuJEMrKL2Qsycy7Ky4min0kQ6fTEUJk3Ge6CQsLj9FSNzMcw3LviPoIFUNdrUdPn+NnwSBEJo9QHmplbFBcWoYQevW2EiFk9e/corOT+uDxEzqxn/RkWzlcV2F0NdRIJNK9h59+ROfJiwqE0LOKV9jL0qfPWygUXQ017KWbg012wb34i1cdrE1FRAj9xoSIsHDA4nn9FeQ2Bx/91mUhjvmxffAAPgAAQDAN6uUePH66ys9b5vM36PKyMrM8nA+djL9deL+js/PJi4oJsxZt2H0QJ53hSkMmT7T942hUzp2i5pbW89cyTiddXu4zA/vNmFfv3qN/Lwxx0kppu114/3Zh8Vgt9YRLqTr2UzLz7ja3tBY/KssremCgo4GfBQOVRit/+erW3WJskjFGS12ITD6ZeLGFQnlXVR2wM6TmQ10bsRu32VYO11WYQf0VJjva7jp8oux5xbuq6vDTiQihM8kppU+fV1bVbAk+aqSnhU3sEEIudlYUSlt2wT1XO6LfEUMICZHJm1YsTL+Vn3On6JuWhTjmx/bBA/gAAADx9POJ4PsbrjTE23NS9+VbVvvLykit3bG/9mPdQEUFV3vrVfO5fFqwd+PqgyfjAncd+PCxftjQwVvXLpnu6ogQcpu/8nH5C5+pbrLSn37lkkQiCZHJ5H+vkW0LjdgWGkEmkwYoyE+ytVrn7yMuKlpX3xC0P6yyulZORsrLxWGJtxdOFpg94dF7wqMRQrLSUmaGYzYu80MIjVRRCgkKCI2KjbuQMmiAop258YZlfvuOnapvbOJ64udUOfirGHb9umLrgWOeC1fLSkt5uTiWPa9wtrVYsWX3m8oqUwPdvRvXMLZUlJc10dd9/OylqeEY/DRZmBuOsTEz2nEw8uqZMITQ/siY/ZGf/RjBgvVbj+8J+vKyEDTPy8MvIMjIZWb84T0OVmZRCRcqq2sZ35lnfgDfzsPHj8cnl6QlMd8vBQAAP5+f7ZliAPCB6zPFnOcuNTXQ+205D7c8cxV+OrGotAybBvUIeAAfAADARTEAOKLSaK2Utstpmc8qXvtOc+/pcL4yeAAfAADARTEAOKJQ2kzcvcVE+4YEBQzq9is7Pzp4AB8AAMBFMQAAAAAIKLgoBgAAAAABBdMgAAAAAAgomAYBAAAAQEDBNAgAAAAAAgqmQQAAAAAQUDANAgAAAICAgmkQAAAAAAQUTIMAAAAAIKBgGgQAAAAAAQXTIAAAAAAIKB6eKfa2nvLt4gAAAAAA+EKDZcR42h6eKQYAAAAAAQUXxQAAAAAgoGAaBAAAAAABBdMgAAAAAAgomAYBAAAAQEDBNAgAAAAAAgqmQQAAAAAQUDANAgAAAICAgmkQAAAAAAQUTIMAAAAAIKBgGgQAAAAAAQXTIAAAAAAIKJgGAQAAAEBAwTQIAAAAAAIKpkG918Q5S1RMHNds28eyvKr2w3CziSomjm8qq3okMADAD6qyulbFxDEjt6CnA/kKtgQfDT/zZ09H8WN4XP7i4Mk4tqumLw1My8n/zvH0KjAN6tWGDR18Izuvo7OTeeGVjGyVIYN7KiQAAOhxhSWlGbkFvl7uPR3IjyHkxJl7Jf9ju+q35Qs27zvc2Nz8nUPqPWAa1Ktpqo2U7CeelX+PeeGltCw7C+OeCgkAAHrcrsMnfL3c+/bp09OB/PC01UeNGqYcdfZCTwfSY4R7OgDAhY3ZuCsZ2fb/znveVFa9r67RUhvJ2IBOp584ez72fMq76hrlwb8snTvdw9EGIeS7bsvN3DssqZXevNBXRCQq8eKfl6+/qawaMmiA34zJM9wm/pedl9+LV28YL8XFRP938yKbqDhsll9UMn1pIMvGMQd2WBkbZBfc2xseXf7yVXtHB7Z8prvTrvUrWDbWtvdsam5hXuLl4rBn42ps1RLvabmF9+8+KJWXlZk3zW3BTE/GXku8py2e44UQamvvGD/Nl0wm5144zZygEJksLycz081pld9s/KrDLyPOXsxhIITWbt///J/XF0+E4kdIsGZev3v/e0j4nQePRISFHKzMflu+QKKfOEJIw8Z91fzZC2dNqayu9Vm9SVhY6ErM0az8wj1h0S9evR6oqLBy/mwsQpzIDZxn1H6sC1q9eN40N2xJVn7h3NWbFORkC6+cxW8X/hodpzXbOzpCT8ReTs96X/NBWlLC0dps88pFon1ZT3hsC85Yy6n/i4uKcqoEtgl2ddEj45POXrxaWV07qL/C1EkTlsyZ7hcYxOvBhdMPqVQqp73w22VbaETy1bTCKwkiIp9Gcp81m/uIiETu2cIcWEsrZXPwkeuZtxXlZT2d7BFChQ9KD0XFPX35zxit0ft+WzN4YH/8MHAai2vP4dSabBtojqfLXzf+5lqiokePi0vLju78DaehjV1ncx0TGBidmQWnQQCnixIcBFhWGTjPmO3hzOgSnxqOQtG08TgQFOjhaJOSkb1s066QLQGTJ9oihDJyC+avCzq87VcXe2vmXYoflf1x9ETpk+cS/cRHjxq+duEcbfVRc1b9ll1wDyGkYuJ463zMhFmLprtO/Pv2ndq6+j9+XTnJ1tLZ1nJv+MnFc7y6H2UCgQ56K0fvxUs37bqZe0fDxr29owNbGBaTsGH3wUs3/lY2dnj97j2dTt8ddlJjvPvVmzktrZTL6VkjLZyTrqYxEmlrb1c2djiXcoOxZM3WfWMnemXnFzY2NSdfTVe1dImMS2KsNZ8890bWbez/iNhzo8e7sY2N02Z59x4oGzs8q3iFvXz97r2ysUNm3t36xiY1K5fAnSEf6hoYpduw+2D3lLXsJofFJDBeTvJZFrgzhLFquOnE0KjYuobGa3/fUrd2ZUTOvFdoVKyysYOpuzfLqpZWStKVG8rGDn/fvoOtwq86TmXE2Ysl+DXbgt3mr8SPkGDNUNraraf5rtm6r66h8XH5C+upvtOXBnZ1ddHp9NHj3SJiz9Hp9M37jmzYfZBG63pTWTXSwjksJqGhqSnuwpVhpo4Py8rxI9d3mq5h4z5z2XpGjut27B9m6qjvNJ1ru/DX6DituXZ7sP3MheUv/2lrby8oLtGdMOVwdDy9m+4F775N9/6PUwlsE9x64Jiew9SbuXeamlsKikuMJs08cuosp8RxDi6cfoizF367PPjfE2Vjh7ScPGxVU3PLSAvny2mZLJWwZluw9TTfF/+8eVbxysLTR9nYQdvO8+6DR1U1H2Yt/3WSzzIiwXNqLK49B781WeqQYImC9oe5+q7Ab2giYwKGuTOz4DQI4BSK4CDAskrfafqB42dYcm9ubVU2djh/LQN7uSBwq4WnTyeVSqXR7GYsmL8uiGX7puYWLbvJB6PiWlopH+sbVm/dO85lJtaN/QJ/9165Edts9Hg3VUuXR0+ePXlegR2bH+oaVEwc02/ls62Enx5cFOvtTA10u7q6svIKsZeX0rPszP+7IvaxvuF4fLK/97SJ483FxUQn2VrOcJ0YfOwUnU5nm9rLV2+Tr6VvXDbfYpy+pES/yRNtfaa6hkbFUtrasQ06OjolJfpxjYrgZgy1H+va2jsmT7STk5Eivld3hnpaK31nyUhJOlqbzZ3iGnY6kdbVxbxBVe2HiNhzmqojuu8rLibq6WQvJtq3/OUrRKDq2JaR1wrvjiVCgjWTmXf39buqrWuXyEhJqo8ctm3d0rx7D/KLShgbtFLazqdmzPJwJpNJgwf2L89OWTzHS0pCYqrzhK4uekFxCdfIrY0NCu4/wt4lU6nUG1m3x43RIVgotrgWjW1rNre0Xky9ucxnxkgVpb59+hjpaZsa6N26W8wpF+aCcw2JSPMxJ9jQ1Bxz7q8VvrPGmxpK9BM30tMuuBy3dO50tolzPbgwLP2Q61447aIzWnWY0uBLNzKxlxm5BSLCwrbmn10xr6r98Nf1m4H+84YpDR6hPNR/9lSE0NRJEwx0NPsryG1bt/RhWXl+UQnXMHAOPZwIeW1NIiVCCOUXPWD+RBwfzpjAFdtBgNdCfS07ApbVNzSdTrocEXuusrp2R+Bylg2evvynqbllvKmhuJiorLRUyJaA/EtxbI+LCVammqojVIcrY8emnIzU4IH9C4offusi9E4wDert+vbpY240NiUjGyH04tWbitdvzQz1GGsLS0qpVKqlsT5jifFYncrq2lfv3rNN7c6DRwghy3EGjCXWJoYtrZRHT54hhGhdXR/q6uVlZfBDIrgZs+FKQyyMxsYkXXpTWUWl0YjvyIJ5CmhqoFfX0Pis4hXzBnvDTxnpaVuO0++2K6JSqedSblDa2vU01RG3quNURl4rvDuWCAnWjKO12bOcFOwqGFZ2cTHRuw9KsZc0Gi38TKLqMGWWsZ5KpSZfSyeRSFpqo7hGrqU2UlFOJiu/ECGUc6e4b98+hrqaBAvFFteisW1NiX7iz25dUR8x7ExyStD+sKn+a29k3WZcU2PBqeCccK0ElgTvl5bRurpM9HWJJI5/cDGw9EOue+G3i9uE8em38rHJSmpmrq25sZhoX+bsSp88p9JoBjqfdtEZrYoQ0lb/NIcYrjRESkKi5PFTrmHgHHo4EfLUmgRLhBB6/a7qlwGKOIkwwxkT8HEaBPgo1FfRX0Fu43K/HYci9oZHb1zmN1BRnmUDtREq/RXk5q3dcuD4mdKnz3GSUvplIMuSIYMGvBXUrx7DvUE/ADtz422hx9o7Oi6nZ5kbjWW+K7CuoQkh5ObLeh/Jh7p65cGDuifV0NiEEJKTlWYswQ7y5pZWhFB17UcqjTZk0AD8eAhuxoxEIkWHbD8el2Th6cN45z1GU514ChhFeVnG/7LSUgihhsb/vuDwsKz8UtrfqWfCk66kMe+1Jzx6T3g09v+oYUoaqsMRt6rjVEauFc6cF0JI7/Mydo+Q15px9V1R8vgp9n99YyOjgMLCwolhe5m3fF/zwcRtNp1O11IbqaepdvH63/iRI4TsLIzTcvIn2VmlZGQ721iQSV/0Nolr0Ti15vaDkdF/XtBWV9XX1lg4c8qF6zffVdWwzYJtwXEQaT7mBOsaGhFCstKSRBLHP7gQh37IdS+E2y7uDjahJ2LTc/LsLU2z8gsPbv2VJaraujqEkLSUBPZSWlICISQlIcHYQFpKorauHvsfJwz8Qw8nQuKtSbBEXV30Fgql+9yILU5jAhE4Ax1+oXAGAZxVoVGxoVGxfUREBvVXcLKxWDn/s/uEMM42Fr+HhNG6uhytzbqv7ScmduF46LHYPxMupR48GTd4YP+lc6fPdHfqviXWDZiJi4k2MnU5gQLToB+ArZnRr3+EZuUXXk7LWjjLk3mVZD9xhFB2UrQSu0lPd9JSkgihj3UNjEGt5mMdQkhGShIh9LDsqfLgQVzHF66bkUhsPobt7KTGXrjSX14u9tAfI1WGOs1dSiRgFvWNTYz/P9TVI4TkmQbu7QcjZrk7j1AeyrLX+sXzFs/xonV1Vbx+O3vFhm0Hju3ZuBq/6jiVkWuFY3lh/2O3QDKvZRshTzVz6eQhhBCdTteym9xPXAxbGODv09TcsiBw65VTRwb9+y55oKL8y9vXyp5XzFgaGHoiVlt9FH7kCCF7C5Plm/+gtLWnZedFh2zLKSjCiYQFH43OtjULih9GJZzftX4FY/hOvHydU6ZsC46Da/OxJIhdEKlraBqgwPrOuzv8gwtx6Idc90K47aIy5Bfd0arXMnNFRESEhYStjf/7OAeDzXiamluwaU1LKwUhxPwbHB/rGvrLy2ElxQkD/9DjFCFPrUmwRGQySUpCovHze5w54TQmEMFpEOBaKJxBAGfVqvmzV/nNptJoZc9e+gUE1TU0bl61iCXrP45G0emITCJvPxhxIIj1ewkIocED+29ft2z7umWPnjw7dubPjXsOaaqO0NVQ41rYhsZm7E55AQQXxX4ACnKyOqNVD0efff7PaxtTI+ZVY7U1hMhk7FsAmLDTiZq2Hq2UNrZJYR9WYx9fYzLz7oqLiWJvTG/dKTbQ1eIaD85m2Jt+MplNv4r+8+Lb99WbVy4cNUyJ7SmTCOar17fuFg9QkB+uNAR7mZqZ++R5BctXLZgJkckjlIdaGRsUl5YhblXHqYy8VjgzThESqZnj8clGLjMZn6mUPH7a0krRGf1pdBMRFg5YPK+/gtzm4KMsO6qPUDHU1Xr09DmRyE3G6tK6uvZHxvQTFx2rNZpriTB8Nzrb1nz1thIhZPXvya+zk/rg8RNOt17hFJwtrpXAkqCehpqwkFBBcQn75D6Hf3AxsPRDInvht4ubg012wb34i1cdrE0ZX7Bi0NVQI5FI9x5++s2YJy8qEEKM61mlT5+3UCi6Gmpcw8A59HAi5Kk1CZYIIfTLQMX31bX4iSACYwI+ToMAf4UiSFhISEttpI3ZuIL7rHfq5BeVnP3r2pqFc5bPm3Eh9SZzY3WnpTbyt+ULEEL/vK1ECAmxOzyZva+phWkQ6NXszI0flpXraaopyMkyLx+oKD/Twyk4Iib9Vn4rpS3nTtHRmAT/2dPExUTZpjNcacjkibZ/HI3KuVPU3NJ6/lrG6aTLy31m9O3Tp7G5Oflauqu9FX4k+Jth91h0/8S1uaU1Mi5Jd7Sqs60l0TKzcz0zN/7i1abmlpT0rNjzKWsXzWGcXB88frrKz5v5PTQLKo1W/vLVrbvF2HsjnKrDKSOvFc6MbYQEa8bTyY5Op+8+GtXU3PLy1dvNwUdHqiiNN/nvjbIQmbxpxcL0W/k5d4oSLqXq2E/JzLvb3NJa/Kgsr+iBgY4GkchFRIStxulHJ150trUkPlXlu9HZtuYYLXUhMvlk4sUWCuVdVXXAzpCaD3Vtn99lzIy54FxDJVIJzAnKy8rM8nA+dDL+duH9js7OJy8qJsxatGH3QbaJ4xxczJux9EMie+G3i4udFYXSll1wz9WOTY8d1F9hsqPtrsMnyp5XvKuqDj+diBA6k5xS+vR5ZVXNluCjRnpahrqaXMPAOfRwIuS1NYmUCCFkbjim6NFj/EQQgTEBB84gwF+hCKK0tReWlP59+85Yzc/mu23tHet3HdBWH+XM3OEhAAAgAElEQVQ3Y7K/9zSNUSM27jnUQqEwb5NTcG+EmdPVmzmUtvbG5uZjsef6iYuZjNVFCElLSlTVfKhraGT7hq269uPb99UWRmO/ShF+OHBR7MdgZz5uf2SMXbdvTCCEfl+zZICC/NYDx97X1A4ZOGDNAm9fLw+cpPZuXH3wZFzgrgMfPtYPGzp469ol010dEUI69lMQQnNXb2LZ3sbL72biCcZLnM0kJfo9Ln/hM9UNu3UAIUQikYTIZDKJdCLhfH1jU/iuTXx/DoSZ7GR39WbOzsPHByjI7wxcjv0ICma40hBvz0ls92Jcj5eVljIzHLNxmR+2nFPV4VcFrxWOHyHBmpGTkT57ZM/Ow8fNPOa2tbcbj9UJ2/mbsPBnx6+54RgbM6MdByOvnD5aV98QtD+ssrpWTkbKy8VhibcXTnmZ2VuaXLmZM4nwbNVt/kq+G51ta45UUQoJCgiNio27kDJogKKdufGGZX77jp2qb2zidD5jFPzqmTCu73qJVAJzgltW+8vKSK3dsb/2Y91ARQVXe+tV7G7awHA6uDCc+iH+XhicdlGUlzXR13387KWp4Ri2Ue36dcXWA8c8F66WlZbycnEse17hbGuxYsvuN5VVpga6ezeuIRIGzqGHEyEfrUmkRA5WZlEJF7BfcuKUCMIdE7jCHwT4KBRX2L1BZDJJUU7O2sRg4/IFzGuDI069raqJ2BOE9fB9m9a4+a4IPnYqaPVixjYW4/R3b1h15FTCuh376XS6nqZ6/OHd2FXOeV4efgFBRi4z4w/v6Z51dsE9ORkpozHaCKGdh48fj08uSUtivoHsJ/e9v6EPeivmn35huJ6VO37afD42+xZYfnXj2+nBMgqO79aagsBpzpIdhyKJbPmuqkbZ2IHXX4j5/o3FtUQefqsOnWTza1Jfi0ANAp4L13zTyuzl4KIYAAD8kKg0Wiul7XJa5rOK177TfoanaxEvUYC/T9yFlLb2b/419Z/e/dKyijfvfKa69nQgPQYuioFPKvJSuy+cYGk6wdKUj81+aIJQRvAToFDaTNy9xUT7hgQFEPmiXO9HvEQm+rq25sZRCec5/ZrlFxKcQWDXkRM7A5fz9HO4PxkS/Svd3w4AAAAA8GOBi2IAAAAAEFAwDQIAAACAgIJpEAAAAAAEFEyDAAAAACCgYBoEAAAAAAEF0yAAAAAACCiYBgEAAABAQME0CAAAAAACqienQY/LXxw8GffVk90SfDT8zJ8IoelLA9Ny8r96+t/NxDlLVEwc12zbx7K8qvbDcLOJKiaObyqreiQwAABCqLK6VsXEMSO3oKcD+cq4jsw/zRgLAOrZaVDIiTP3Sv73ddMsLCnNyC3w9XJHCP22fMHmfYcbm5u/bhbf07Chg29k53V0djIvvJKRrTJkcE+FBAD4ueGPzD/ZGAvAz3ZRbNfhE75e7n379EEIaauPGjVMOershZ4Oin+aaiMl+4ln5d9jXngpLcvOwrinQgIACLKfbIwF4HtMg4oflU1bvE7TxmOcyyyfNZsflpUjhOas+i0tOy+74B52cUfDxn1baMT4afO17T1TMrL5y6jo0ePi0jInG0vGEmdbyzPnL//QTyG2MRt3halC3lRWva+u0VIbyVhCp9OPxydbTZk3ynKS3YyFF1JvYst9121RMXFk+WuhUKhUakRcku30BWpWrrbTF5z969pn2Xn5MW+vYfPpIc8GzjNCT8SyxNZCoaiYODJyZKZt74mlMMLMychlJvO+RJLKyi90mrNU3drVeqovYyGRHXHybe/o2BN20nzy3JEWk/Sdpv+29zCjY/Bah11d9GOx56ymzFO1dLGaMu/IqbNdXXSEUHbBvUk+y9SsXBkbb9xzCKdyGH/rdx1grAo/nTh7xQY1K1dT9znH45OZ9wo/nYj939beYeI228xjDtvEOW3GKWyceHB6S35RSffKycovRAipWrqcTGRzamTbrDhZ8NeazDWAEFq7fb+73yqulUOweltaKWu27dO08bCe6pt0JQ0hVPig1M13xejxbjOX//r2fTVCaFtohO6EKZ2dVMZePms2L1y/DT82DRv3yLgkhFBlda3DLH/nuUsRQmMcpx2OPvuNysLHyEx8jMWJAafnEO/knDoGA6eDl9PBnpKRrWLieP5aBvYyI7dAxcTxclomS7KcDiJOheLUGSLjkhijK0LoTWUVoxJw+janEYZg8MzY9jciB6OKiaONlx+2kNP5AqcIvdA3nwY1t7TOWf2bueHYu1fOpsaGy8lILQj8vauLfjp0p72lieU4/Yq81CGDBiCE4i5cObJjY3JEiKm+Hn95XbqRqTNadVB/BcaSCZamdQ1NuYXFX6cwPcHO3Dgt57/rYpfTMm3MxpGYNth77FToidhfl85/cD1pld/swF0hydfSEUIng7dV5KU+ybqEEAretLYiL7UiL7WfmNj6XaGRcUm/r/YvvHJ26dzpv4eEM59rO6nU43uCsI03LvP7ksjXL55XkZf6MP38+sXzQqNiM/PuEtzx7ftqv8DfXews76TEL5w1Ze32fY+ePPvyfH/bezgjt+BUyPbSjPPhu367kpF94uyngvNahzsORUbEnvt9zZKia4n7Nq05k5wSfiaxoal54fqtmqoj8v6KxbYcPWo4fpDYn7b6KOZVwRExhnpaBZfjtqxaFHL8NHPrMETEnausruVaFSybsQ0bPx783oIQykg4ju1163wMfjCcmhU/Cz5akyCcOsRZtWV/WHFpWcqpI1HBW89duYEQirtwdfOqRVnnoskkkv+G7Qghd4fxDU3NWQWF2C7NLa25hcWu9lYEAws/naivo3E5+sg3LQt/IzN/YyzbGLj2HPxOznV44XTwcjrYJ9laTrA0DY2KpdJotK6u3Uej7MyNXeytWZLFOYjYFoqPzsCpb+OMMASDZ4u5vxE5GCvyUm8mnsCWcDpffPnh+T1982nQ05f/NDW3jDc1FBcTlZWWCtkSkH8pjkwmdd9ygpWppuoI1eHKcjJS/OWVX/SA+WMShJCcjNTggf0Lih/yl2BvYGqg29XVlZX36Si6lJ5lZ/7fFbGP9Q3H45P9vadNHG8uLiY6ydZyhuvE4GOn6HQ629RevnqbfC1947L5FuP0JSX6TZ5o6zPVNTQqltLWjm3Q0dEpKdHvK8YvLibq6WQvJtq3/OUrgrsMHti/PDtl8RwvKQmJqc4TurroBcUlX5hvc0vrxdSby3xmjFRR6tunj5GetqmB3q27xYj3Omxoao4599cK31njTQ0l+okb6WkXXI5bOnd67ce6tvaOyRPt+O7AGEM9rZW+s2SkJB2tzeZOcQ07nUjr6mLeoKr2Q0TsOU3VEfjpsGzGKWycFLj2Fp6wbVaCWRBvTYJw6hB/1V/Xbwb6zxumNHiE8lD/2VMRQlMnTTDQ0eyvILdt3dKHZeX5RSU6o1WHKQ2+dCMT2ysjt0BEWNjWnNCF7FZK2/nUjFkezmwHya9YFv5GZj7GWILdlb+9eB1e8A/2HQHL6huaTiddjog9V1lduyNwOcvufBxEnDqDiIgIlUrrvj1O38YfYbgGzxZzf+PjeGd7vvjyw/M7++bTILURKv0V5Oat3XLg+JnSp89xtlT6ZeAX5vX6XdUvAxRZFg4ZNODtj/yNqr59+pgbjcUuFL549abi9Vszw/8+LSssKaVSqZbG+owlxmN1KqtrX717zza1Ow8eIYQsxxkwllibGLa0UrD35bSurg919fKyMl8xfiqVei7lBqWtXU9TnY99k6+lk0gkLbVR3LfGzVein/izW1fURww7k5wStD9sqv/aG1m32zs6EO91eL+0jNbVZaKvy7J8uNIQC6OxMUmX3lRWUWlsBjiCmKe5pgZ6dQ2Nzyo+G+L3hp8y0tO2HKffbVeEsxmnsHHg9xa+MTcrwSyItyZBOHWIs6r0yXMqjWago4m91BmtihDSVv80LRiuNERKQqLk8VOEkNuE8em38rHzR2pmrq25sZhoX65R0Wi08DOJqsOUeZo08FcW/kZmPsZYgt2Vv714HV7wD/b+CnIbl/vtOBSxNzx64zK/gYryLLvzcRAhDp1h6C8DOjo76xoaWTbG6dv4IwzX4Ltj6W+8Hu+czhdffnh+Z8LfOoN+YmIXjocei/0z4VLqwZNxgwf2Xzp3+kx3p+5bSktKfElGXV30Fgql+1gjLiba2NL6JSn3ODtz422hx9o7Oi6nZ5kbjcVuTsTUNTQhhNx8V7Ds8qGuXnnwoO5JNTQ2IYTkZKUZS7BO3NzSihCqrv1IpdGwT8K7C42KDY2K7SMiMqi/gpONxcr5s/HD3hMevSc8Gvt/1DAlDdX/rhARSep9zQcTt9l0Ol1LbaSephrxHTnlu/1gZPSfF7TVVfW1NRbOnHLh+s13VTWI9zrERi5ZaUmW5SQSKTpk+/G4JAtPH8YnSWN4n/wpyssy/peVlkIINTT+902ch2Xll9L+Tj0Tjt2Ywkn3zTiFjQO/t+DbFhqxLTSib58+vwxUdLMfv8xnurCwMOrWrA/+9wQ/C15bs/teCCGWcyROHeJXb21dHUJIWurTSIUNWVIS/w1c0lIStXX1CCF3B5vQE7HpOXn2lqZZ+YUHt/5KJLY94dHCwsKJYXvZ1Sh7fJeFj5GZjzGWYHflYy+c4QUH14Pd2cbi95AwWleXo7UZu915PogQh85goKMpKdFv15ETW1YuorS138jOY2zPqW9zHWHwg++Opb/xerzjnC/wD8/e5ptPgxBCgwf2375u2fZ1yx49eXbszJ8b9xzSVB2hq6H2dXMhk0lSEhKNzS0syxsamwcP7P918/rObM2Mfv0jNCu/8HJa1sJZnsyrJPuJI4Syk6KV2J2wu5OWkkQIfaxrYJxraz7WIYRkpCQRQg/LnioPHsTpbeuq+bNX+c2m0mhlz176BQTVNTRuXrUIJ6/1i+ctnuNF6+qqeP129ooN2w4c27NxNfGkBirKv7x9rex5xYylgaEnYtcv8SW4I9t8C4ofRiWc37V+BWOgT7x8nb86xD4ErmtoGqDA+n6rs5Mae+FKf3m52EN/jFQZ6jR3KZEEWdQ3NjH+/1BXjxCSZxqYth+MmOXuPEJ5KH4i3TfDCZsT/N6CIZHYX7vZsmqRr5cHlUp9WPbMd92W1rY27NYBlmZVGToYPwteW5N5L+z/tdv3P//nNX7lEFmF/p3xNDW3YKeHllYKQoj59yw+1jX0l5dDCKkM+UV3tOq1zFwRERFhIWFr4//eYePEFuDv09TcsiBw65VTRwZ1+9CFLb7LgngfmfkYY3Fi4NRziESOcIcXHFwP9j+ORtHpiEwibz8YcSAokHV3bgcR20Kx7QwyUpIxB3ZsCT461slLsl8/5SGf4sHv2/gjDH7w3bH0NyLHOzNO5wuuh2dv812/MK+lNvK35QsQQv+8rUQICZG/cu6/DFR83+2Wuvc1tT/6NEhBTlZntOrh6LPP/3ltY2rEvGqstoYQmZxd8N836sNOJ2raerRS2tgmZairiRDCvo+Aycy7Ky4mir2XunWn2EBXCz8YYSEhLbWRNmbjCu4TuuNKiEweoTzUytiguLSMj6TUR6gY6mo9+vxDeyI7suT76m0lQsjq37NRZyf1weMn2DsqXutQT0NNWEiI7e1K0X9efPu+evPKhaOGKeGM8viYb7O4dbd4gIL8cKUh2MvUzNwnzytW+XH5HI7tZjhhc4LfW7DaI+MexcLCwmO01M0Mx7DcO8JoVvwsGIi3Jlc4dci1enU11Egk0r2Hn35T58mLCoQQ45Jl6dPnLRQKYxrh5mCTXXAv/uJVB2tTERFCbzhFhIUDFs/rryC3Ofjoty4LM+IjM09jLKcY8HsOT5HjDC9s4R/s+UUlZ/+6tmbhnOXzZlxIvcncLTE4BxF+odh2hrFao1NOHSnPTim6lnh42wZsIX7fxhlhuAbfHUt/I3gwMnA6X3zJ4dkjvvk0KKfg3ggzp6s3cyht7Y3Nzcdiz/UTFzMZq4sQkpaUqKr5UNfQyOl8wytzwzFFjx4zL6mu/fj2fbWF0divkn4PsjM3flhWrqeppiAny7x8oKL8TA+n4IiY9Fv5rZS2nDtFR2MS/GdPExcTZZvOcKUhkyfa/nE0KudOUXNL6/lrGaeTLi/3mdG3T5/G5ubka+lcv89CaWsvLCn9+/adsZqjiUROpdHKX766dbe4+7tMTkklXErVsZ+SmXe3uaW1+FFZXtEDAx0NXmNgyXeMlroQmXwy8WILhfKuqjpgZ0jNh7q2tnbEex3Ky8rM8nA+dDL+duH9js7OJy8qJsxatGH3weaW1si4JN3Rqs62lmx3JOh6Zm78xatNzS0p6Vmx51PWLprDGO8ePH66ys+b05szBrabcQobJx2c3oIQwm6nwL+W3Uppu114/3Zh8VgtdbbNip8FA/HW5AqnDrlW76D+CpMdbXcdPlH2vOJdVTX21e4zySmlT59XVtVsCT5qpKeFnUsQQi52VhRKW3bBPVc7ot8RQwgJkcmbVixMv5Wfc6fom5aFv5GZpzGWUwz4PYdgJ8fgDC9s4Rzsbe0d63cd0FYf5Tdjsr/3NI1RIzbuOdRCoTDvjnMQ4ReKeGfA6ds4IwyR4Nli7m8ED0YMzvniSw7PHvHNL4pZjNPfvWHVkVMJ63bsp9Ppeprq8Yd3Y5+5zfPy8AsIMnKZGX94z1fJy8HKLCrhQmV1LeP7nNkF9+RkpIzGaH+V9HuQnfm4/ZExduy+bPL7miUDFOS3Hjj2vqZ2yMABaxZ4+3p54CS1d+PqgyfjAncd+PCxftjQwVvXLpnu6ogQ0rGfghCau3oTy/Y2Xn7Y1yOx+3LIZJKinJy1icHG5QvwY2ZcvJeVljIzHMP8dUr8pLxcHOrqG4L2h1VW18rJSHm5OCzx9iKyI06+I1WUQoICQqNi4y6kDBqgaGduvGGZ375jp+obm2SkJHmtwy2r/WVlpNbu2F/7sW6gooKrvfWq+bOPnk6ob2wK37WJ78+BMJOd7K7ezNl5+PgABfmdgcs9newZq4YrDfH2nMQ1BU6bsQ0bPylOvcVt/srH5S98prphdy8hhEgkkhCZTP637Ni9QWQyaYCC/CRbq3X+PuKiomyblVMWGD5ak7/KwV/FsOvXFVsPHPNcuFpWWsrLxbHseYWzrcWKLbvfVFaZGuju3biGsaWivKyJvu7jZy9NDcfgp8nC3HCMjZnRjoORV8+EIYT2R8bsj/zsK+UL1m89vifoC8vC38jM0xjLNgauPYdgJ8cZXvBxOtiDI069raqJ2BOEfRi2b9MaN98VwcdOBa1ezLw724OIa6GIdwacvn3q3F+cRhic4LcEHz2dfPlJ1iW2sxn0eX/DPxiZ4Z8v+D48ewb95+Lht+rQyXjGS8+Fa5hfAhzKxg7PKl6xLLyelTt+2vweiUcwadlNDotJ6OkoACHvqmqUjR3Sb+Vz2sBpzpIdhyK/bqZhMQl+gb9/3TR5AmMsf75FZyDIYdairq6ur5vmz3S++NkephHg7xN3IQX7wcr7pWUVb975THXt6aAAAAKESqO1Utoup2U+q3jtO82d+w4/FBhjedLjneHug1ISmfyFH1H/3Hi4KKZiwv7DMXxF1/7k6dfk8otKpi/lfos7p4xM9HVtzY2jEs4vnTt915ETOwOXf90fA/yJVeSldl84wdJ0gqXp9w8GgB8XhdJm4u4tJto3JCiA4Be+fiAwxvKkxzvDg/89CfSf99WT/ZnOFyR6L75/GwAAAADg2/nZLooBAAAAABAE0yAAAAAACCiYBgEAAABAQME0CAAAAAACCqZBAAAAABBQMA0CAAAAgICCaRAAAAAABBRMgwAAAAAgoGAaBAAAoAdUVteqmDhm5Bb0dCBAoME0CAAAAAACCqZBAAAAABBQPDxaFXxn2vaeTc0tCCEhMlleTmamm9Mqv9nYKgPnGbM9nBkvMS0UiqaNx4GgQA9HG+bdGbxcHPZsXI0QolKpUYkX/7x8/U1l1ZBBA/xmTJ7hNhHbhu2jbWMO7LAyNtC291ziPW3xHC9s4drt+5//8/riiVCEUHbBvb3h0eUvX7V3dGBrZ7o77Vq/AiFEp9NPnD0fez7lXXWN8uBfls6djoXnu27Lzdw7LBmV3rwg1lc0Mj7p7MWrldW1g/orTJ00Ycmc6WQyCScLZu0dHaEnYi+nZ72v+SAtKeFobbZ55SLRvn1w6pNTJH1FRDjVkoHzjNqPdUGrF8+b5oYtycovnLt6k4KcbOGVszhhcMrL2HU2o27b2jvGT/Mlk8m5F05HxiWFRsX+7+ZFbMs3lVXmk+dizcGpYhFCXV10tnWoYeO+av7shbOmVFbX+qzeJCwsdCXmKE5nwMmCGU5Pw/pMbuH9uw9K5WVl5k1zWzDTk7EX2yLjtBTXkGy8/F68esN4KS4milUdzl44vRonQoI1w7bCGWs5dQZxUVGeWtYvMIjXDoxTwzj9Ab/bbwuNSL6aVnglQUTk02nFZ83mPiIikXu2MAfW0krZHHzkeuZtRXlZTyd7hFDhg9JDUXFPX/4zRmv0vt/WDB7YHz8MnE71dQ/MOZ4uf934m2uJwA+PDnorLbvJYTEJdDq9pZWSdOWGsrHD37fvYKv0naYfOH6GZfvm1lZlY4fz1zJYdsdM8lkWuDME+3/N1n1jJ3pl5xc2NjUnX01XtXSJjEvCVuXde6Bs7PCs4hX28vW798rGDpl5d7snuGZbsNv8lXQ6vb6xSc3KJXBnyIe6BmyVo/fiDbsPYv/vDjupMd796s2cllbK5fSskRbOSVfTGIm0tbcrGzucS7nBWLL1wDE9h6k3c+80NbcUFJcYTZp55NRZ/CyYrd0ebD9zYfnLf9ra2wuKS3QnTDkcHc+1PtlGglNL+k7TNWzcZy5bz9h43Y79w0wd9Z2mcw2DbV7MdRsaFats7GDq7k2n0yNiz40e78bYjLk5cCqWbR3S6fTR490iYs/R6fTN+45s2H2QRuvCLyZ+27ENnv55T9OymzzcdGJoVGxdQ+O1v2+pW7syEudUZPyWwg/JfPLcG1m3sf+Zqw5nL069Gj9CgjXDtsJZdO8MfLQs23RwWhanhvnu9g/+90TZ2CEtJw9b1dTcMtLC+XJaJkt512wLtp7m++KfN88qXll4+igbO2jbed598Kiq5sOs5b9O8llGJHhOnerrHpgESwR+dHBR7AcgLibq6WQvJtq3/OWrL0/t5au3ydfSNy6bbzFOX1Ki3+SJtj5TXUOjYilt7fwlWPuxrq29Y/JEOzkZKZZVH+sbjscn+3tPmzjeXFxMdJKt5QzXicHHTtHpdLZJNTQ1x5z7a4XvrPGmhhL9xI30tAsuxy2dOx0nC2bNLa0XU28u85kxUkWpb58+RnrapgZ6t+4Ws2xGpD651pK1sUHB/UfYW2oqlXoj6/a4MTo8hcFWVe2HiNhzmqojsJciIiJUKq37ZjgVy6kOGfu2UtrOp2bM8nAmk0k4xeS17Tgx1NNa6TtLRkrS0dps7hTXsNOJtK4unCIzY2kpriF1dHRKSvQjXlcEi8ASIa8JMlc417y+pGWZETzMWWr4S7q9zmjVYUqDL93IxF5m5BaICAvbmhuz1ORf128G+s8bpjR4hPJQ/9lTEUJTJ00w0NHsryC3bd3Sh2Xl+UUlXMPA6VRf8cAkUiLwE4Bp0A+ASqWeS7lBaWvX01T/8tTuPHiEELIcZ8BYYm1i2NJKefTkGX8JDlcaYmE0Nibp0pvKKirts3N2YUkplUq1NNZnLDEeq1NZXfvq3Xu2Sd0vLaN1dZno6xLPgplEP/Fnt66ojxh2JjklaH/YVP+1N7JuMy6iMRCpT661pKU2UlFOJiu/ECGUc6e4b98+hrqaPIXB1t7wU0Z62pbjPtXY0F8GdHR21jU0smyGU7Gc6hBDo9HCzySqDlPGTuo4xeS17TixYzptmBro1TU0Pqv4bPbJUmRmLC2FHxKtq+tDXb28rAxLIl9eEJYIeUqQpcK54rtlWRA8zFlq+Eu6PULIbcL49Fv52GQlNTPX1txYTLQvc3alT55TaTQDnU+76IxWRQhpq4/EXg5XGiIlIVHy+CnXMHA61dc9MLmWCPwE4N6gXm1PePSe8Gjs/1HDlDRUhzNWhUbFhkbF9hERGdRfwcnGYuX82RzSYNXQ2IQQkpOVZizBzhzNLa08xYMQwoZOEokUHbL9eFyShacP4w3xGE11hFBdQxNCyM2X9Q6eD3X1yoMHdU8fO9/LSkuyLMfJgsX2g5HRf17QVlfV19ZYOHPKhes331XVsI2fpT5ZEKklOwvjtJz8SXZWKRnZzjYWZNJ/byrww+DkYVn5pbS/U8+EJ11Jw5YY6GhKSvTbdeTElpWLKG3tN7LzsOU4FcupDhk1ICwsnBi2l2sxeW07ThTlZRn/y0pLIYQaGptxisyIs3tL4YdUXfuRSqMNGTSAZS3XgrDt1TgR8lQzLBXOFd8ty4JrB2Zbw1/Y7d0dbEJPxKbn5NlbmmblFx7c+itLVLV1dQghaSkJ7KW0pARCSEpCgrGBtJREbV099j9OGPid6isemFxLBH4CMA3q1dYvnrd4jhetq6vi9dvZKzZsO3AMu/MUIbRq/uxVfrOpNFrZs5d+AUF1DY2bVy0ikqa0lCRC6GNdA2MoqflYhxCSkfpveCWR2H96j8WD/Y/dTIr939lJjb1wpb+8XOyhP0aqDHWauxRbLtlPHCGUnRStROzEiV3RqGtoGqAgz7KKUxbMCoofRiWc37V+xUx3J2xJ4uXr3eNnW58siNSSvYXJ8s1/UNra07LzokO25RQUEQyDk+0HI2a5O49QHspYIiMlGXNgx5bgo2OdvCT79VMe8qkacSoWO1myrUOEUIC/T1Nzy4LArVdOHRk0QBGnmJS2Nk5Z8KS+sYnx/4e6eoSQPNPprXuRMWxbCr87PSx7qjx4UPc361w7IadezSlCnno1S4Vz3Z7vlmXBte0BNd4AAAXiSURBVAOzreEv6fYIIZUhv+iOVr2WmSsiIiIsJGxt/N/HORhsxtPU3IJNa1paKQihjs5OxgYf6xr6y8th4wBOGPid6isemFxLBH4CcFHsByBEJo9QHmplbFBcWsaySlhISEttpI3ZuIL7Dwmmhn1EjH1ojMnMuysuJoq9HcQ+ayGTeesY0X9efPu+evPKhaOGKTFPocZqawiRydkF9xhLwk4natp6tFLa2Kajp6EmLCRUUFxCPAtmr95WIoSs/h2qOjupDx4/6X7HBk59MuDXEsZkrC6tq2t/ZEw/cdGxWqN5DYNFambuk+cVLN/+QwiN1RqdcupIeXZK0bXEw9s2fFrIuWJx6hAhJCIsHLB4Xn8Fuc3BR/GLyWvbcVJQ/F/PvHW3eICC/HClIfhFZmBpKfyQbt0pNtDV6p7IlxSEbYQ8JchS4Vzx3bIsiHRg1K2Gv6TbY9wcbLIL7sVfvOpgbcr4ghWDroYaiUS69/B/2MsnLyoQQozrWaVPn7dQKLoaalzDwOlUOBHyd2Dilwj8BGAa9AOg0mjlL1/dulusq6HGsorS1l5YUvr37TtjNVnHI06GKw2ZPNH2j6NROXeKmltaz1/LOJ10ebnPjL59+iCEsPsbsA+rCWpuaY2MS9Idrepsa8myaqCi/EwPp+CImPRb+a2Utpw7RUdjEvxnTxMXE2WblLyszCwP50Mn428X3u/o7HzyomLCrEUbdh/EyYLZGC11ITL5ZOLFFgrlXVV1wM6Qmg91bd1u/capTwb8WsKIiAhbjdOPTrzobGvJPDMjGAaLB4+frvLzZn7bjQOnYjnVIWNfITJ504qF6bfyc+4U4RST17bj5HpmbvzFq03NLSnpWbHnU9YumsOoK65FZmkpnJAam5uTr6W72lvxVFdcg2cbIa8JMlc41xy/pGWZEenAqFsNf0m3x7jYWVEobdkF91zt2LTFoP4Kkx1tdx0+Ufa84l1VdfjpRITQmeSU0qfPK6tqtgQfNdLTMtTV5BoGTqfCiZC/AxO/ROAnAHPbXo1x/V5WWsrMcMzGZX6MVdi9QWQySVFOztrEYOPyBcST3btx9cGTcYG7Dnz4WD9s6OCta5dMd3VECLnNX/m4/IXPVDfscjtCiEQiCZHJZA6fvmBOJJyvb2wK37WJ7Yc0v69ZMkBBfuuBY+9raocMHLBmgbevlwdOaltW+8vKSK3dsb/2Y91ARQVXe+tV82cfPZ2AkwXDSBWlkKCA0KjYuAspgwYo2pkbb1jmt+/YqfrGJuxMhlOfxGuJmb2lyZWbOZM+n5xxDYOt4UpDvD0n4cTDAqdi2dYh877mhmNszIx2HIy8eiYMp5i8th1bk53srt7M2Xn4+AAF+Z2By7GfiuFaZE4txSkkHfspCKG5qzexpGPj5Xcz8QTfBeEUIa8JMle4ELePWr+kZZnhd2BONcx3t8coysua6Os+fvbS1HAM26h2/bpi64FjngtXy0pLebk4lj2vcLa1WLFl95vKKlMD3b0b1xAJA6dT4UTI34HJUqKdh48fj08uSUtivqUJ/NBIvH79FQAACGL5ccJvR8XEMSPhOMs9Rjeyb+8+evJm4olvnTtg5jx3qamB3m8E3phVVteauM2OCt5qazaOePrfrVMxEC8R+BHBRTEAAABfikqjtVLaLqdlPqt47TvNvafD+Qp+vhIBtuCiGADgh1eRl9p94QRL0wmWpt8/GMFEobSZuHuLifYNCQog8p243u/nKxFgCy6KAQAAAEBAwUUxAAAAAAgomAYBAAAAQEDBNAgAAAAAAgqmQQAAAAAQUDANAgAAAICAgmkQAAAAAAQUTIMAAAAAIKBgGgQAAAAAAQXTIAAAAAAIKJgGAQAAAEBA8fBMsbf1lG8XBwAAAADAFxosI8bT9vBMMQAAAAAIKLgoBgAAAAABBdMgAAAAAAgomAYBAAAAQEDBNAgAAAAAAgqmQQAAAAAQUDANAgAAAICAgmkQAAAAAAQUTIMAAAAAIKBgGgQAAAAAAfV/f3sp2wwXmbgAAAAASUVORK5CYII=)"
      ],
      "metadata": {
        "id": "WGD2Ywrifh5P"
      }
    },
    {
      "cell_type": "markdown",
      "source": [
        "Небольшой пример с использованием этих методов приведен ниже. В этом примере мы описываем класс MyClass. Экземпляр, который создается на основе этого класса, будет иметь поле-список с числовыми элементами. Далее мы устанавливаем такие «правила» приведения экземпляра к разным типам:\n",
        "\n",
        "* Если экземпляр приводится к целочисленному типу, то в качестве значения возвращается целое число — количество элементов в поле-списке.\n",
        "\n",
        "* При приведении экземпляра к типу float в качестве значения возвращается среднее арифметическое значение элементов в поле-списке.\n",
        "\n",
        "* Если экземпляр приводится к типу complex, то в качестве значения возвращается комплексное число, которое создается по такому алгоритму: действительная часть комплексного числа — это элемент из списка с максимальным значением, а мнимая часть комплексного числа — это элемент из списка с минимальным значением.\n",
        "\n",
        "* К логическому типу bool экземпляр будет приводиться так: если в поле-списке нечетное количество элементов, при приведении экземпляра к типу boo l возвращается значение T ru e , а если количество элементов в списке четное, возвращается значение False.\n",
        "\n",
        "* Наконец, при приведении экземпляра к текстовому типу будет возвращаться текст, в котором, кроме прочего, содержатся значения элементов из поля-списка."
      ],
      "metadata": {
        "id": "mFal1u84hLdW"
      }
    },
    {
      "cell_type": "code",
      "source": [
        "class MyClass:\n",
        "\tdef __init__(self, nums):\n",
        "\t\tself.nums = list ()\n",
        "\t\tfor n in nums:\n",
        "\t\t\tself.nums.append (n)\n",
        "\n",
        "\tdef __str__(self):\n",
        "\t\ttxt = \"Значение поля-списка: \\n\"\n",
        "\t\tfor n in self.nums:\n",
        "\t\t\ttxt += str(n) + \" | \"\n",
        "\t\treturn txt\n",
        "\n",
        "\tdef __int__(self):\n",
        "\t\treturn len(self.nums)\n",
        "\n",
        "\tdef __float__(self):\n",
        "\t\tavr = sum(self.nums)/int (self)\n",
        "\t\treturn avr\n",
        "\n",
        "\tdef __bool__(self):\n",
        "\t\tif int(self)%2==1:\n",
        "\t\t\treturn True\n",
        "\t\telse:\n",
        "\t\t\treturn False\n",
        "\n",
        "\tdef __complex__ (self):\n",
        "\t\tmn = min (self.nums)\n",
        "\t\tmx = max (self.nums)\n",
        "\t\tz = complex (mx, mn)\n",
        "\t\treturn z"
      ],
      "metadata": {
        "id": "u1dPs1EmNXZl"
      },
      "execution_count": null,
      "outputs": []
    },
    {
      "cell_type": "code",
      "source": [
        "obj = MyClass ({2.8,4.1,7.5,2.5,9.3})\n",
        "print (obj)\n",
        "print (f\"Элементов в списке: {int(obj)}\")\n",
        "if obj:\n",
        "\tprint(\"Нечетное количество элементов\")\n",
        "else:\n",
        "\tprint(\"Четное количество элементов\")\n",
        "\n",
        "print(\"Среднее значение: \", float(obj))\n",
        "print(\"Минимум и максимум: \", complex(obj))\n",
        "\n"
      ],
      "metadata": {
        "colab": {
          "base_uri": "https://localhost:8080/"
        },
        "id": "3dabBODrhdZv",
        "outputId": "0df49735-58df-464d-cbb5-907d43bba38a"
      },
      "execution_count": null,
      "outputs": [
        {
          "output_type": "stream",
          "name": "stdout",
          "text": [
            "Значение поля-списка: \n",
            "2.8 | 2.5 | 4.1 | 7.5 | 9.3 | \n",
            "Элементов в списке: 5\n",
            "Нечетное количество элементов\n",
            "Среднее значение:  5.24\n",
            "Минимум и максимум:  (9.3+2.5j)\n"
          ]
        }
      ]
    },
    {
      "cell_type": "markdown",
      "source": [
        "* В рассмотренном выше примере для определения количества элементов в списке-поле экземпляра класса мы определяли метод \\_\\_int__() , в котором вызывалась функция lеn(), которой, в свою очередь, определялось количество элементов в поле-списке экземпляра класса. Можно было пойти иным путем: описать в теле класса метод \\_\\_lеn\\_\\_() . Этот метод вызывается, если вызывается функция len() с аргументом — экземпляром соответствующего класса.\n",
        "\n",
        "* Другими словами, если описать в классе метод \\_\\_len\\_\\_() , то можно будет вызывать функцию lеn() для экземпляра этого класса. Ниже приведен пример описания метода \\_\\_lеn__ (). Кроме этого метода, также описаны методы (из тех, что пока нам незнакомы) \\_\\_indех\\_\\_() (вызывается при использовании функций bin(), oct() и hex()) и \\_\\_round__ ( ) (вызывается при использовании функции round ())."
      ],
      "metadata": {
        "id": "8Hkq3tqLiY0-"
      }
    },
    {
      "cell_type": "code",
      "source": [
        "class MyClass:\n",
        "\tdef __init__(self, txt):\n",
        "\t\tself.name = txt\n",
        "\tdef __str__(self):\n",
        "\t\treturn self.name\n",
        "\tdef __len__(self):\n",
        "\t\treturn len (self.name)\n",
        "\n",
        "\tdef __index__(self):\n",
        "\t\tp = self.name.count(\" \") +1\n",
        "\t\treturn p\n",
        "\tdef __round__ (self):\n",
        "\t\tself.name = \"Сброс значения\"\n",
        "\t\treturn self"
      ],
      "metadata": {
        "id": "ZfuBEeWRRpO5"
      },
      "execution_count": null,
      "outputs": []
    },
    {
      "cell_type": "code",
      "source": [
        "txt = \"Просто текст\"\n",
        "txt += \"\\nПривет, Мир!\\n\"\n",
        "\n",
        "obj = MyClass(txt)\n",
        "\n",
        "print(obj)\n",
        "print (\"Количество букв (символов) : \", len(obj))\n",
        "print (\"Количество слов (пробелов): \", obj.__index__())\n",
        "print(\"В двоичном коде: \", bin(obj))\n",
        "print (\"В восьмеричном коде: \", oct(obj))\n",
        "print (round(obj))\n",
        "print(obj)"
      ],
      "metadata": {
        "colab": {
          "base_uri": "https://localhost:8080/"
        },
        "id": "JYkdl4Wpi2xd",
        "outputId": "76e28590-143d-4155-f543-eb928e990ec4"
      },
      "execution_count": null,
      "outputs": [
        {
          "output_type": "stream",
          "name": "stdout",
          "text": [
            "Просто текст\n",
            "Привет, Мир!\n",
            "\n",
            "Количество букв (символов) :  26\n",
            "Количество слов (пробелов):  3\n",
            "В двоичном коде:  0b11\n",
            "В восьмеричном коде:  0o3\n",
            "Сброс значения\n",
            "Сброс значения\n"
          ]
        }
      ]
    },
    {
      "cell_type": "markdown",
      "source": [
        "## Перегрузка операторов с помощью специальных методов"
      ],
      "metadata": {
        "id": "F6FCK9dd-zRV"
      }
    },
    {
      "cell_type": "markdown",
      "source": [
        "В языке Python операторы также можно перегрузить с помощью специальных методов класса, которые имеют определенное название и специальное синтаксическое значение. Вот некоторые из самых часто используемых операторов и соответствующие им методы.\n",
        "\n",
        "1. Оператор `+` (сложение) - метод `__add__`\n",
        "2. Оператор `-` (вычитание) - метод `__sub__`\n",
        "3. Оператор `*` (умножение) - метод `__mul__`\n",
        "4. Оператор `/` (деление) - метод `__truediv__`\n",
        "5. Оператор `%` (остаток от деления) - метод `__mod__`\n",
        "6. Оператор `//` (целочисленное деление) - метод `__floordiv__`\n",
        "7. Оператор `**` (возведение в степень) - метод `__pow__`\n",
        "8. Оператор `+=` - метод `__iadd__`\n",
        "9. Оператор `-=` - метод `__isub__`\n",
        "10. Оператор `==` (равенство) - метод `__eq__`\n",
        "11. Оператор `!=` (неравенство) - метод `__ne__`\n",
        "12. Оператор `<` (меньше) - метод `__lt__`\n",
        "13. Оператор `>` (больше) - метод `__gt__`\n",
        "14. Оператор `<=` (меньше или равно) - метод `__le__`\n",
        "15. Оператор `>=` (больше или равно) - метод `__ge__`\n",
        "16. Оператор `[]` (индексация) - метод `__getitem__`\n",
        "17. Оператор `[]` (присваивание значения по индексу) - метод `__setitem__`\n",
        "18. Оператор `()` (вызов метода) - метод `__call__`"
      ],
      "metadata": {
        "id": "AcpWrTlp9c5c"
      }
    },
    {
      "cell_type": "markdown",
      "source": [
        "Пример перегрузки оператора `+` в классе `Vector` для сложения двух векторов:\n"
      ],
      "metadata": {
        "id": "G93gxCjB_ViQ"
      }
    },
    {
      "cell_type": "code",
      "source": [
        "class Vector:\n",
        "    def __init__(self, x, y):\n",
        "        self.x = x\n",
        "        self.y = y\n",
        "\n",
        "    def __add__(self, other):\n",
        "        return Vector(self.x + other.x, self.y + other.y)\n",
        "\n",
        "v1 = Vector(1, 2)\n",
        "v2 = Vector(2, 3)\n",
        "v3 = v1 + v2  # вызывается метод __add__\n",
        "print(v3.x, v3.y)  # выводит 3 5"
      ],
      "metadata": {
        "colab": {
          "base_uri": "https://localhost:8080/"
        },
        "id": "4JjsCejf_N3p",
        "outputId": "4e2bf963-5fef-4fe1-e2eb-26e83ac2b8a8"
      },
      "execution_count": 11,
      "outputs": [
        {
          "output_type": "stream",
          "name": "stdout",
          "text": [
            "3 5\n"
          ]
        }
      ]
    },
    {
      "cell_type": "markdown",
      "source": [
        "### Пример перегрузки большей части основных операторов:"
      ],
      "metadata": {
        "id": "q8HZAIuC_bAf"
      }
    },
    {
      "cell_type": "code",
      "source": [
        "# Создаем класс Vector\n",
        "class Vector:\n",
        "    # Конструктор класса, принимает координаты x и y\n",
        "    def __init__(self, x, y):\n",
        "        self.x = x\n",
        "        self.y = y\n",
        "\n",
        "    # Перегрузка оператора сложения\n",
        "    def __add__(self, other):\n",
        "        return Vector(self.x + other.x, self.y + other.y)\n",
        "\n",
        "    # Перегрузка оператора вычитания\n",
        "    def __sub__(self, other):\n",
        "        return Vector(self.x - other.x, self.y - other.y)\n",
        "\n",
        "    # Перегрузка оператора умножения на скаляр\n",
        "    def __mul__(self, scalar):\n",
        "        return Vector(self.x * scalar, self.y * scalar)\n",
        "\n",
        "    # Перегрузка оператора деления на скаляр\n",
        "    def __truediv__(self, scalar):\n",
        "        return Vector(self.x / scalar, self.y / scalar)\n",
        "\n",
        "    # Перегрузка оператора нахождения остатка от деления на скаляр\n",
        "    def __mod__(self, scalar):\n",
        "        return Vector(self.x % scalar, self.y % scalar)\n",
        "\n",
        "    # Перегрузка оператора целочисленного деления на скаляр\n",
        "    def __floordiv__(self, scalar):\n",
        "        return Vector(self.x // scalar, self.y // scalar)\n",
        "\n",
        "    # Перегрузка оператора возведения в степень\n",
        "    def __pow__(self, scalar):\n",
        "        return Vector(self.x ** scalar, self.y ** scalar)\n",
        "\n",
        "    # Перегрузка оператора плюс-равно\n",
        "    def __iadd__(self, other):\n",
        "        self.x += other.x\n",
        "        self.y += other.y\n",
        "        return self\n",
        "\n",
        "    # Перегрузка оператора минус-равно\n",
        "    def __isub__(self, other):\n",
        "        self.x -= other.x\n",
        "        self.y -= other.y\n",
        "        return self\n",
        "\n",
        "    # Перегрузка оператора равенства\n",
        "    def __eq__(self, other):\n",
        "        return self.x == other.x and self.y == other.y\n",
        "\n",
        "    # Перегрузка оператора неравенства\n",
        "    def __ne__(self, other):\n",
        "        return not self.__eq__(other)\n",
        "\n",
        "    # Перегрузка оператора меньше\n",
        "    def __lt__(self, other):\n",
        "        return self.x < other.x and self.y < other.y\n",
        "\n",
        "    # Перегрузка оператора больше\n",
        "    def __gt__(self, other):\n",
        "        return self.x > other.x and self.y > other.y\n",
        "\n",
        "    # Перегрузка оператора меньше или равно\n",
        "    def __le__(self, other):\n",
        "        return self.x <= other.x and self.y <= other.y\n",
        "\n",
        "    # Перегрузка оператора больше или равно\n",
        "    def __ge__(self, other):\n",
        "        return self.x >= other.x and self.y >= other.y\n",
        "\n",
        "    # Перегрузка оператора доступа к элементу по индексу\n",
        "    def __getitem__(self, index):\n",
        "        if index == 0:\n",
        "            return self.x\n",
        "        elif index == 1:\n",
        "            return self.y\n",
        "        else:\n",
        "            raise IndexError(\"Index out of range\")\n",
        "\n",
        "    # Перегрузка оператора установки значения элемента по индексу\n",
        "    def __setitem__(self, index, value):\n",
        "        if index == 0:\n",
        "            self.x = value\n",
        "        elif index == 1:\n",
        "            self.y = value\n",
        "        else:\n",
        "            raise IndexError(\"Index out of range\")\n",
        "\n",
        "    # Перегрузка оператора вызова объекта\n",
        "    def __call__(self):\n",
        "        print(\"Calling Vector class\")\n",
        "\n",
        "\n",
        "    # Перегрузка метода str\n",
        "    def __str__(self):\n",
        "      return f'Vector({self.x}, {self.y})'"
      ],
      "metadata": {
        "id": "hYbRbGkM_lN3"
      },
      "execution_count": 9,
      "outputs": []
    },
    {
      "cell_type": "code",
      "source": [
        "# Примеры использования\n",
        "\n",
        "v1 = Vector(1, 2)\n",
        "v2 = Vector(3, 4)\n",
        "\n",
        "print(v1 + v2)  # Vector(4, 6)\n",
        "print(v1 - v2)  # Vector(-2, -2)\n",
        "print(v1 * 2)  # Vector(2, 4)\n",
        "print(v1 / 2)  # Vector(0.5, 1.0)\n",
        "print(v1 % 2)  # Vector(1, 0)\n",
        "print(v1 // 2)  # Vector(0, 1)\n",
        "print(v1 ** 2)  # Vector(1, 4)\n",
        "\n",
        "v1 += v2\n",
        "print(v1)  # Vector(4, 6)\n",
        "\n",
        "v1 -= v2\n",
        "print(v1)  # Vector(1, 2)\n",
        "\n",
        "print(v1 == v2)  # False\n",
        "print(v1 != v2)  # True\n",
        "print(v1 < v2)  # True\n",
        "print(v1 > v2)  # False\n",
        "print(v1 <= v2)  # True\n",
        "print(v1 >= v2)  # False\n",
        "\n",
        "print(v1[0])  # 1\n",
        "v1[0] = 5\n",
        "print(v1[0])  # 5\n",
        "\n",
        "v1()  # Calling Vector class\n"
      ],
      "metadata": {
        "colab": {
          "base_uri": "https://localhost:8080/"
        },
        "id": "INv_wZmg_ohJ",
        "outputId": "f1cc5e37-e99a-4770-fd70-7cd747107580"
      },
      "execution_count": 10,
      "outputs": [
        {
          "output_type": "stream",
          "name": "stdout",
          "text": [
            "Vector(4, 6)\n",
            "Vector(-2, -2)\n",
            "Vector(2, 4)\n",
            "Vector(0.5, 1.0)\n",
            "Vector(1, 0)\n",
            "Vector(0, 1)\n",
            "Vector(1, 4)\n",
            "Vector(4, 6)\n",
            "Vector(1, 2)\n",
            "False\n",
            "True\n",
            "True\n",
            "False\n",
            "True\n",
            "False\n",
            "1\n",
            "5\n",
            "Calling Vector class\n"
          ]
        }
      ]
    },
    {
      "cell_type": "markdown",
      "source": [
        "# [Практическая работа №11](https://colab.research.google.com/drive/1ZPhAcmJeeHg8K-vrfHxtXnAr46zFi9QF?usp=sharing)"
      ],
      "metadata": {
        "id": "yn5p-gbYHt-Z"
      }
    }
  ]
}