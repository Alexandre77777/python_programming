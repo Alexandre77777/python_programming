{
  "nbformat": 4,
  "nbformat_minor": 0,
  "metadata": {
    "colab": {
      "provenance": [],
      "authorship_tag": "ABX9TyOeTJMSKsZm7nneZY1Kk84J",
      "include_colab_link": true
    },
    "kernelspec": {
      "name": "python3",
      "display_name": "Python 3"
    },
    "language_info": {
      "name": "python"
    }
  },
  "cells": [
    {
      "cell_type": "markdown",
      "metadata": {
        "id": "view-in-github",
        "colab_type": "text"
      },
      "source": [
        "<a href=\"https://colab.research.google.com/github/Alexandre77777/python_programming/blob/main/4.%20%D0%9A%D0%BE%D0%B4%20%D1%81%20%D0%B7%D0%B0%D0%BD%D1%8F%D1%82%D0%B8%D0%B9/2.%20%D0%9A%D0%BE%D0%B4_%D1%81_%D0%BF%D0%B0%D1%80%D1%8B_22_09_2023.ipynb\" target=\"_parent\"><img src=\"https://colab.research.google.com/assets/colab-badge.svg\" alt=\"Open In Colab\"/></a>"
      ]
    },
    {
      "cell_type": "markdown",
      "metadata": {
        "id": "e53GY3al7d-i"
      },
      "source": [
        "# Структуры данных и встроенные функции"
      ]
    },
    {
      "cell_type": "markdown",
      "metadata": {
        "id": "sAjK_o5P7g3y"
      },
      "source": [
        "## list\n",
        "\n",
        "**массив, список, лист**\n",
        "\n",
        "Вот мы и добрались до типов языка python, которые представляют собой *контейнеры*, то есть, это типы данных, которые являют собой хранилища для других типов данных.\n",
        "\n",
        "Один из таких типов -- `list` (массив, список, лист). Это контейнер, куда можно положить сколько угодно других переменных, значений, и эти переменные даже могут быть разных типов и даже так же могут быть контейнерами! То есть, в list можно положить list:\n",
        "\n",
        "Чтобы задать list, надо в квадратные скобки `[]` положить нужные элементы. Пустые скобки задают пустой list. Пустой лист также можно задать, написав `list()`:"
      ]
    },
    {
      "cell_type": "code",
      "metadata": {
        "id": "KAiiJAqh7dS7"
      },
      "source": [
        "a = list()\n",
        "b = []\n",
        "\n",
        "# убедимся, что два варианта создания пустого массива эквивалентны:\n",
        "print(a == b)"
      ],
      "execution_count": null,
      "outputs": []
    },
    {
      "cell_type": "code",
      "metadata": {
        "id": "eXuvMS0H7jnS"
      },
      "source": [
        "# можно хранить разные типы данных!\n",
        "c = [2, 'a', [4, 'stroka', 6.56]]"
      ],
      "execution_count": null,
      "outputs": []
    },
    {
      "cell_type": "markdown",
      "metadata": {
        "id": "qMqkCfG97rX7"
      },
      "source": [
        "Что можно делать с list:\n",
        "\n",
        "Можно положить элемент в конец массива:"
      ]
    },
    {
      "cell_type": "code",
      "metadata": {
        "id": "_mwd85ur7I5G"
      },
      "source": [
        "c.append(4.67)\n",
        "c"
      ],
      "execution_count": null,
      "outputs": []
    },
    {
      "cell_type": "markdown",
      "metadata": {
        "id": "6iki5eSy7w-H"
      },
      "source": [
        "можно удалить элемент с конца массива:"
      ]
    },
    {
      "cell_type": "code",
      "metadata": {
        "id": "wunFxb7U7v-z"
      },
      "source": [
        "c.pop()\n",
        "c"
      ],
      "execution_count": null,
      "outputs": []
    },
    {
      "cell_type": "markdown",
      "metadata": {
        "id": "t2cK-d9D7zeu"
      },
      "source": [
        "**Методы list, которые мы рассмотрим ниже, будут работать для всех iterable контейнеров**\n",
        "\n",
        "(что значит iterabel, можно прочитать тут: http://pythonz.net/references/named/iterable/\n",
        "\n",
        "кратко -- это структуры данных, поддерживающие поочередный проход по своим элементам)\n",
        "\n",
        "По индексам можно получить доступ к элементам массива (индексация, как обычно, с 0):"
      ]
    },
    {
      "cell_type": "code",
      "metadata": {
        "id": "YZSeMTgR7yVq"
      },
      "source": [
        "print(c[0])\n",
        "print(c[2])\n",
        "# да, индексы могут быть отрицательные: -i есть i-ый с конца элемент массива (в нумерации с 1)\n",
        "print(c[-1])"
      ],
      "execution_count": null,
      "outputs": []
    },
    {
      "cell_type": "markdown",
      "metadata": {
        "id": "mC5K1R2Z72xT"
      },
      "source": [
        "Можно не только получать по 1 элементу массива, но и *слайс* -- элементы массива с индексами между i (включительно) и j (не включительно):"
      ]
    },
    {
      "cell_type": "code",
      "metadata": {
        "id": "0cGdGjID71ey"
      },
      "source": [
        "# в d будет записан новый массив, в котором будут 1 и 2 элементы массива c\n",
        "d = c[1:3]\n",
        "print(d)"
      ],
      "execution_count": null,
      "outputs": []
    },
    {
      "cell_type": "markdown",
      "metadata": {
        "id": "xcuZQQgO74wJ"
      },
      "source": [
        "А еще можно сделать операцию наоборот -- не по индексу получить элемент массива, а по элементу массива получить его индекс.\n",
        "\n",
        "`L.index(element)` - возвращает индекс элемента `element` в списке `L`, если он там присутствует, `None` иначе (вот еще один пример использования None)"
      ]
    },
    {
      "cell_type": "code",
      "metadata": {
        "id": "Tg0lMqmr73jC"
      },
      "source": [
        "c.index('a')"
      ],
      "execution_count": null,
      "outputs": []
    },
    {
      "cell_type": "markdown",
      "metadata": {
        "id": "ma6pTfHh7940"
      },
      "source": [
        "Можно проверять принадлежность элемента массиву:"
      ]
    },
    {
      "cell_type": "code",
      "metadata": {
        "id": "ka1lZNge76Ea"
      },
      "source": [
        "5 in c"
      ],
      "execution_count": null,
      "outputs": []
    },
    {
      "cell_type": "code",
      "metadata": {
        "id": "tK8BeYrB789C"
      },
      "source": [
        "if 'a' in c:\n",
        "    print(\"element \\'a\\' in c\")"
      ],
      "execution_count": null,
      "outputs": []
    },
    {
      "cell_type": "markdown",
      "metadata": {
        "id": "wyvSw30a8BO4"
      },
      "source": [
        "Можно еще сложнее: получить каждый k-й элемент массива c, начиная с элемента с индексом i (включительно) и заканчивая элементом с индексом j (не включительно):"
      ]
    },
    {
      "cell_type": "code",
      "metadata": {
        "id": "vQfT_feP8ACC"
      },
      "source": [
        "c = [1, 2, 3, 4, 5, 6, 7, 8, 9]\n",
        "d = c[1:7:2]\n",
        "\n",
        "# в си это выглядело бы как-то так:   for(int i = 1; i < 7; i += 2) {}\n",
        "# в питоне это компактное название_массива[с какого считаем : по какой считаем : с каким шагом]\n",
        "\n",
        "print(d)"
      ],
      "execution_count": null,
      "outputs": []
    },
    {
      "cell_type": "markdown",
      "metadata": {
        "id": "wNYMbbOn8Dr0"
      },
      "source": [
        "С помощью слайсов можно перевернуть массив, например:"
      ]
    },
    {
      "cell_type": "code",
      "metadata": {
        "id": "ajXFVkKc8CKS"
      },
      "source": [
        "print(c)\n",
        "# получим каждый минус первый элемент массива начиная с 0 индекса и заканчивая последним\n",
        "d = c[::-1]\n",
        "print(d)"
      ],
      "execution_count": null,
      "outputs": []
    },
    {
      "cell_type": "markdown",
      "metadata": {
        "id": "HIDmDnxJ8YGo"
      },
      "source": [
        "Элементы массива также можно изменять, обращаясь к ним по индексу или слайсу:"
      ]
    },
    {
      "cell_type": "code",
      "metadata": {
        "id": "GWe4bXH48E1p"
      },
      "source": [
        "print(c)\n",
        "c[0] = 100500\n",
        "print(c)"
      ],
      "execution_count": null,
      "outputs": []
    },
    {
      "cell_type": "code",
      "metadata": {
        "id": "nHjtOWY98ZTI"
      },
      "source": [
        "# вместо 2, 3 и 4 элементов массива запишем  число 80\n",
        "c[2:5] = [80]\n",
        "print(c)\n",
        "# вместо 2, 3 и 4 элементов массива запишем  числа 80, 90\n",
        "c[2:5] = [80, 90]\n",
        "print(c)"
      ],
      "execution_count": null,
      "outputs": []
    },
    {
      "cell_type": "markdown",
      "metadata": {
        "id": "vWVsz1bJ8bud"
      },
      "source": [
        "Также массивы можно складывать. Результатом сложения двух массивов будет новый массив, в котором сначала будут записаны элементы первого массива, затем -- второго:"
      ]
    },
    {
      "cell_type": "code",
      "metadata": {
        "id": "pwNYfAS28aV4"
      },
      "source": [
        "d = [9, 0]\n",
        "c+d"
      ],
      "execution_count": null,
      "outputs": []
    },
    {
      "cell_type": "markdown",
      "metadata": {
        "id": "PHWAax5f8ePg"
      },
      "source": [
        "А вот вычитать нельзя:"
      ]
    },
    {
      "cell_type": "code",
      "metadata": {
        "id": "gh_eq3WQ8c34"
      },
      "source": [
        "c-d"
      ],
      "execution_count": null,
      "outputs": []
    },
    {
      "cell_type": "markdown",
      "metadata": {
        "id": "9tcIPhBC8hja"
      },
      "source": [
        "С помощью `len()` можно получить размер листа (и вообще любого iterable объекта):"
      ]
    },
    {
      "cell_type": "code",
      "metadata": {
        "id": "5j7ZvPba8fkI"
      },
      "source": [
        "len(c)"
      ],
      "execution_count": null,
      "outputs": []
    },
    {
      "cell_type": "markdown",
      "metadata": {
        "id": "qkHbmxV98kZW"
      },
      "source": [
        "можно отсортировать элементы массива, вызвав метод .sort():"
      ]
    },
    {
      "cell_type": "code",
      "metadata": {
        "id": "vx4Z4iWe8ik4"
      },
      "source": [
        "# вызов метода sort изменяет сам объект c, а не возвращает копию:\n",
        "c.sort()\n",
        "c"
      ],
      "execution_count": null,
      "outputs": []
    },
    {
      "cell_type": "markdown",
      "source": [
        "### Основные методы объектов класса List:"
      ],
      "metadata": {
        "id": "_OmBpf7JmNUg"
      }
    },
    {
      "cell_type": "code",
      "source": [
        "l = ['12', 34, 'Hi', '12']\n",
        "print(f'Список {l}')\n",
        "l2 = list([1,5,9])\n",
        "print(f'Список {l2}')\n",
        "x = 15\n",
        "a = range(0,14,2)\n",
        "\n",
        "# Основные методы при работе со списком\n",
        "list(a) # Преобразует объект a в список.\n",
        "print(\"Преобразует объект a в список\", list(a))\n",
        "l.append(x) # Добавляет новый элемент x в конец списка l.\n",
        "print('Добавляет новый элемент x в конец списка l.', l)\n",
        "l.extend(l2) # Добавляет новый список l2 в конец списка l.\n",
        "print('Добавляет новый список l2 в конец списка l.', l)\n",
        "l.insert(1,66) # Вставляет x в элемент с индексом i.\n",
        "print('Вставляет x в элемент с индексом i.', l)\n",
        "l2 = l.copy() # Создаёт поверхностную копию списка l\n",
        "print('Создаёт поверхностную копию списка l', l2)\n",
        "\n",
        "# Поиск значений в списке\n",
        "l.count(x) # Определяет количество вхождений x в список l.\n",
        "print('Определяет количество вхождений x в список l.', l.count(4))\n",
        "\n",
        "l.index(x, 0, -1) # Возвращает наименьшее значение индекса i, где s[i] == x.\n",
        "                            # Необязательные значения start и stop определяют индексы начального и конечного\n",
        "                            # элементов диапазона, где выполняется поиск.\n",
        "print('Возвращает наименьшее значение индекса i, где s[i] == x.', l.index(x, 0, -1))\n",
        "\n",
        "\n",
        "# Удаление элементов списка\n",
        "l.pop(-2) # Возвращает i-й элемент и удаляет его из списка. Если индекс i не указан,возвращается последний элемент.\n",
        "print('Возвращает i-й элемент и удаляет его из списка', l)\n",
        "l.remove('Hi') # Отыскивает в списке l элемент со значением x и удаляет его.\n",
        "print('Отыскивает в списке l элемент со значением x и удаляет его.', l)\n",
        "l2.clear() # Очищает список\n",
        "print('Очищает список', l2)\n",
        "del l[1:3]  # удаление элемента по индексу или нескольких элементов по срезу\n",
        "            # del не удаляет объекты в буквальном смысле,\n",
        "            # она лишь открепляет ссылки, разрывая связь между именем\n",
        "            # и объектом. Удаление объекта произойдет как следствие работы\n",
        "            # сборщика мусора в отношении объектов, на которые больше\n",
        "            # не ссылается ни один другой объект.\n",
        "            # Изменение порядка элементов в списке\n",
        "print('Удаление элемента по индексу или нескольких элементов по срезу', l)\n",
        "\n",
        "l.reverse() # Изменяет порядок следования элементов в списке l на обратный.\n",
        "print('Изменяет порядок следования элементов в списке l на обратный', l)\n",
        "\n",
        "l = [9, 56, 32, 1, 4]\n",
        "l.sort() # Сортирует элементы списка l. key – это функция, которая вычисляет значение\n",
        "                         # ключа. reverse – признак сортировки в обратном порядке. Аргументы key и reverse\n",
        "                         # всегда должны передаваться как именованные аргументы.\n",
        "print('Сортирует элементы списка', l)"
      ],
      "metadata": {
        "colab": {
          "base_uri": "https://localhost:8080/"
        },
        "id": "z-mS4ftemZV4",
        "outputId": "06674abc-244c-47ae-c8f7-c1fedf9d4c9e"
      },
      "execution_count": 1,
      "outputs": [
        {
          "output_type": "stream",
          "name": "stdout",
          "text": [
            "Список ['12', 34, 'Hi', '12']\n",
            "Список [1, 5, 9]\n",
            "Преобразует объект a в список [0, 2, 4, 6, 8, 10, 12]\n",
            "Добавляет новый элемент x в конец списка l. ['12', 34, 'Hi', '12', 15]\n",
            "Добавляет новый список l2 в конец списка l. ['12', 34, 'Hi', '12', 15, 1, 5, 9]\n",
            "Вставляет x в элемент с индексом i. ['12', 66, 34, 'Hi', '12', 15, 1, 5, 9]\n",
            "Создаёт поверхностную копию списка l ['12', 66, 34, 'Hi', '12', 15, 1, 5, 9]\n",
            "Определяет количество вхождений x в список l. 0\n",
            "Возвращает наименьшее значение индекса i, где s[i] == x. 5\n",
            "Возвращает i-й элемент и удаляет его из списка ['12', 66, 34, 'Hi', '12', 15, 1, 9]\n",
            "Отыскивает в списке l элемент со значением x и удаляет его. ['12', 66, 34, '12', 15, 1, 9]\n",
            "Очищает список []\n",
            "Удаление элемента по индексу или нескольких элементов по срезу ['12', '12', 15, 1, 9]\n",
            "Изменяет порядок следования элементов в списке l на обратный [9, 1, 15, '12', '12']\n",
            "Сортирует элементы списка [1, 4, 9, 32, 56]\n"
          ]
        }
      ]
    },
    {
      "cell_type": "markdown",
      "metadata": {
        "id": "rVWqOI8j8net"
      },
      "source": [
        "## tuple\n",
        "\n",
        "**кортеж**\n",
        "\n",
        "этот тип данных очень похож на list, имеет ту же структуру, но отличается тем, что он неизменяемый\n",
        "\n",
        "это нужно, например, чтобы `tuple` мог выступать в качестве ключей словаря (о них ниже). list в качестве ключей словаря выступать не может.\n",
        "\n",
        "Задать tuple можно круглыми скобками:"
      ]
    },
    {
      "cell_type": "code",
      "metadata": {
        "id": "ozpvJBWD8la3",
        "colab": {
          "base_uri": "https://localhost:8080/"
        },
        "outputId": "cfcdd602-88a8-48cf-d95c-2d442db98db1"
      },
      "source": [
        "t = 'a', 5, 12.345, (2, 'b')\n",
        "t"
      ],
      "execution_count": null,
      "outputs": [
        {
          "output_type": "execute_result",
          "data": {
            "text/plain": [
              "('a', 5, 12.345, (2, 'b'))"
            ]
          },
          "metadata": {},
          "execution_count": 2
        }
      ]
    },
    {
      "cell_type": "markdown",
      "metadata": {
        "id": "pNp-uu_b8rpY"
      },
      "source": [
        "Tuple нельзя изменять. Давайте в этом убедимся:"
      ]
    },
    {
      "cell_type": "code",
      "metadata": {
        "id": "6X8c3kDr8qKO"
      },
      "source": [
        "t.append(5)"
      ],
      "execution_count": null,
      "outputs": []
    },
    {
      "cell_type": "code",
      "metadata": {
        "id": "4UzHGykf8tIm"
      },
      "source": [
        "t[0] = 9"
      ],
      "execution_count": null,
      "outputs": []
    },
    {
      "cell_type": "markdown",
      "metadata": {
        "id": "X8fWO93b8vOE"
      },
      "source": [
        "Но получать элементы по индексу и слайсам, конечно, можно (tuple же iterable):"
      ]
    },
    {
      "cell_type": "code",
      "metadata": {
        "id": "aFjAQ4RS8t9u"
      },
      "source": [
        "print(t[2])\n",
        "print(t.index(5))\n",
        "print(t[:2])"
      ],
      "execution_count": null,
      "outputs": []
    },
    {
      "cell_type": "markdown",
      "metadata": {
        "id": "PA3nqEPe8xsW"
      },
      "source": [
        "Как и list, кортежи можно складывать и работает сложение так же, как в list\n",
        "\n",
        "(вообще, с кортежами можно делать все, что можно делать с list, если это не изменяет кортеж)"
      ]
    },
    {
      "cell_type": "code",
      "metadata": {
        "id": "JTwqdT9G8w2W"
      },
      "source": [
        "m = (1, 2, 3)\n",
        "# складывать\n",
        "print(t + m)\n",
        "# узнать размер\n",
        "print(len(t))\n",
        "# проверить наличие элемента\n",
        "print(5 in t)"
      ],
      "execution_count": null,
      "outputs": []
    },
    {
      "cell_type": "code",
      "metadata": {
        "id": "XXAUjhR58yjF"
      },
      "source": [
        "a = [1, 2, 3]\n",
        "b = a\n",
        "b[0] = 49\n",
        "print(a)"
      ],
      "execution_count": null,
      "outputs": []
    },
    {
      "cell_type": "markdown",
      "metadata": {
        "id": "1OzlVeR59GGl"
      },
      "source": [
        "## range\n",
        "\n",
        "Для работы с циклами в питоне есть очень полезная функция `range()`. Допустим, вы хотите написать цикл, который бы отработал 100 раз. Можно сделать это следующим образом:\n",
        "\n",
        "```\n",
        "i = 0\n",
        "while i < 100:\n",
        "    i += 1\n",
        "    <code>\n",
        "```\n",
        "\n",
        "но это неудобно: нужно завести вспомогательную переменную i, написать лишние 2 строчки кода (i=0 и i+=1). Так код терядет в понятности и читабельности. Гораздо проще записать этот цикл с помощью range.\n",
        "\n",
        "`range()` принимает 3 аргумента: начало интервала begin, конец интервала end и шаг step, с которым будет двигаться по игтервалу, и возвращает iterable объект -- по сути, массив чисел начиная с begin включительно, заканчивая end не включительно, числа в массиве идут с шагом step.\n",
        "\n",
        "Посмотрим на пример:"
      ]
    },
    {
      "cell_type": "code",
      "metadata": {
        "id": "SCrT8mj-9Eqd"
      },
      "source": [
        "r = range(1, 100, 10)\n",
        "#приведем возвращаемый iterable к list и выведем на экран:\n",
        "print(list(r))"
      ],
      "execution_count": null,
      "outputs": []
    },
    {
      "cell_type": "markdown",
      "metadata": {
        "id": "jR4ldbhz9Iy-"
      },
      "source": [
        "Теперь легко записать цикл:"
      ]
    },
    {
      "cell_type": "code",
      "metadata": {
        "id": "meGjCEpq9HpV"
      },
      "source": [
        "for i in range(1, 10, 1):\n",
        "    print(i)\n",
        "# for(int i = 1; i < 10; i += 1){cout << i;}"
      ],
      "execution_count": null,
      "outputs": []
    },
    {
      "cell_type": "markdown",
      "metadata": {
        "id": "B4-2LZKu9K0X"
      },
      "source": [
        "Если у range не указывать последний алгумент step, он по умолчанию будет 1.\n",
        "\n",
        "А если указать всего один аргумент, то range выдаст iterable с началом в 0 и концом в этом аргументе:"
      ]
    },
    {
      "cell_type": "code",
      "metadata": {
        "id": "hOpFdaD99Jt1"
      },
      "source": [
        "list(range(4, 8))"
      ],
      "execution_count": null,
      "outputs": []
    },
    {
      "cell_type": "code",
      "metadata": {
        "id": "hoUewwI19MIM"
      },
      "source": [
        "list(range(8))"
      ],
      "execution_count": null,
      "outputs": []
    },
    {
      "cell_type": "markdown",
      "metadata": {
        "id": "N4nmyJTB9PYg"
      },
      "source": [
        "С помощью range нетрудно переписать цикл, который мы писали выше, где итерировались по названиям моделей, так, чтобы элементы массива models  можно было изменять внутри цикла:"
      ]
    },
    {
      "cell_type": "code",
      "metadata": {
        "id": "xMEkXMEV9M2N"
      },
      "source": [
        "# создадим list элементов\n",
        "models = ['decision tree', 'linear model', 'svm', 'ensemble']\n",
        "\n",
        "# итерируемся по индексам массива models\n",
        "for i in range(len(models)):\n",
        "    # тут если вы поменяете models[i], то значение в models тоже изменится\n",
        "    print(models[i])\n",
        "\n",
        "# этот код уже будет выполняться ПОСЛЕ цикла, потому что он записан без отступа в 4 пробела после for:\n",
        "print(\"Done\")"
      ],
      "execution_count": null,
      "outputs": []
    },
    {
      "cell_type": "markdown",
      "metadata": {
        "id": "edmyAo3n_ytz"
      },
      "source": [
        "## set"
      ]
    },
    {
      "cell_type": "markdown",
      "metadata": {
        "id": "J6zOSkZU_0_3"
      },
      "source": [
        "**Множество**\n",
        "\n",
        "Множество -- это массив, в котором элементы не могут повторяться (то есть, как и в математическом определении множества)\n",
        "\n",
        "Внутри языка множество устроено совсем не так, как массив или кортеж, элементы множества хранятся не последовательно, поэтому к элементам множества нельзя обрашаться по индексу.\n",
        "\n",
        "Пустое множество можно создать с помощью set():"
      ]
    },
    {
      "cell_type": "code",
      "metadata": {
        "id": "t4CfqlPj_upB"
      },
      "source": [
        "s = set()\n",
        "\n",
        "print(s, '|', type(s))"
      ],
      "execution_count": null,
      "outputs": []
    },
    {
      "cell_type": "markdown",
      "metadata": {
        "id": "ywxlLBfv_3AM"
      },
      "source": [
        "А можно привести список к множеству:\n",
        "\n",
        "Обратите внимание, что элементы set'а выводятся в отсортированном порядке!"
      ]
    },
    {
      "cell_type": "code",
      "metadata": {
        "id": "5YxMXi-P_2Ch"
      },
      "source": [
        "s = set([5, 2, 3, 2])\n",
        "s"
      ],
      "execution_count": null,
      "outputs": []
    },
    {
      "cell_type": "markdown",
      "metadata": {
        "id": "Z5wWwBjh_5mq"
      },
      "source": [
        "Можно добавлять элементы в множество с помощью метода `.add()`:"
      ]
    },
    {
      "cell_type": "code",
      "metadata": {
        "id": "Izh5dVV0_4Vp"
      },
      "source": [
        "s.add(1)\n",
        "s.add('a')\n",
        "# None тоже можно добавить =)\n",
        "s.add(None)\n",
        "s.add('bullet')\n",
        "print(s)"
      ],
      "execution_count": null,
      "outputs": []
    },
    {
      "cell_type": "markdown",
      "metadata": {
        "id": "gSpwLmAW_76U"
      },
      "source": [
        "Метод .difference() позволяет получить элементы, которые есть в одном сете, но нет в другом:"
      ]
    },
    {
      "cell_type": "code",
      "metadata": {
        "id": "EYocAZdK_6m5"
      },
      "source": [
        "s1 = set(range(0, 10))\n",
        "s2 = set(range(5, 15))\n",
        "\n",
        "print('s1: ', s1, '\\ns2: ', s2)"
      ],
      "execution_count": null,
      "outputs": []
    },
    {
      "cell_type": "code",
      "metadata": {
        "id": "c6jm1z9S_9DJ"
      },
      "source": [
        "# элементы, которые есть в s1, но нет в s2\n",
        "print(s1.difference(s2))\n",
        "print()\n",
        "# элементы, которые есть в s2, но нет в s1\n",
        "print(s2.difference(s1))"
      ],
      "execution_count": null,
      "outputs": []
    },
    {
      "cell_type": "code",
      "metadata": {
        "id": "X-6p952Y_-Kx"
      },
      "source": [
        "# пересечение множеств s1 и s2 можно записать двумя способами:\n",
        "print(s1.intersection(s2))\n",
        "print(s1 & s2)"
      ],
      "execution_count": null,
      "outputs": []
    },
    {
      "cell_type": "code",
      "metadata": {
        "id": "-kMpXkwu__sx"
      },
      "source": [
        "# объединение множеств s1 и s2 тоже можно записать двумя способами:\n",
        "print(s1.union(s2))\n",
        "print(s1 | s2)"
      ],
      "execution_count": null,
      "outputs": []
    },
    {
      "cell_type": "markdown",
      "metadata": {
        "id": "ldRRTP8MACOt"
      },
      "source": [
        "Из сета можно удалить элемент по значению:"
      ]
    },
    {
      "cell_type": "code",
      "metadata": {
        "id": "A7utc1iRABDp"
      },
      "source": [
        "s1.discard(0)\n",
        "s1"
      ],
      "execution_count": null,
      "outputs": []
    },
    {
      "cell_type": "code",
      "metadata": {
        "id": "bkWmaY9VADGg"
      },
      "source": [
        "l = [1, 2, 3]\n",
        "if 4 in l:\n",
        "    # pass - ничего не делать, иначе получим ошибку, что нету кода\n",
        "    pass\n",
        "\n",
        "s = set(l)\n",
        "if 4 in s:\n",
        "    pass"
      ],
      "execution_count": null,
      "outputs": []
    },
    {
      "cell_type": "markdown",
      "source": [
        "### Основные методы объектов класса Set:"
      ],
      "metadata": {
        "id": "2ExXUvXNnN0V"
      }
    },
    {
      "cell_type": "markdown",
      "source": [
        "Множества — это неупорядоченная коллекция уникальных элементов, сгруппированных под одним именем.\n",
        "\n",
        "* Множество может быть неоднородным — включать элементы разных типов.\n",
        "* Множество всегда состоит только из уникальных элементов (дубли запрещены) в отличие от списков и кортежей в Python.\n",
        "* Объект set — это также коллекция уникальных хэшируемых объектов. Объект называется хэшируемым в том случае, если его значение хэша не меняется. Это используется в ключах словарей и элементах множеств, ведь значения хэшей применяются в их внутренних структурах.\n",
        "* Чаще всего множества в Python используются для проверки на принадлежность, удаления повторов из последовательности и выполнения математических операций, таких как пересечение, объединение, поиск разностей и симметрических разностей."
      ],
      "metadata": {
        "id": "yhz86feTnZyx"
      }
    },
    {
      "cell_type": "code",
      "source": [
        "a = set() # создаём пустое множество a\n",
        "\n",
        "print(a)\n",
        "print(type(a))\n",
        "\n",
        "b = {} # используя пустые фигурные скобки по умолчанию создается словарь, не множество !\n",
        "print(type(b))\n",
        "\n",
        "b = {\"self\", 1, (1,2, 3)} # объявляем и инициализируем множество b. Способ 1\n",
        "print(b)\n",
        "print(type(b))\n",
        "\n",
        "b = set((\"self\", 1, (1,2, 3))) # объявляем и инициализируем множество b. Способ 2\n",
        "print(b)\n",
        "print(type(b))\n",
        "\n",
        "a.add(2) # добавление одного элемента во множество a\n",
        "print(a)\n",
        "\n",
        "a.update((3,4,5,6)) # добавление нескольких элементов во множество a\n",
        "print(a)\n",
        "\n",
        "# запрещено добавлять элементы изменяемых типов, такие как список или словарь\n",
        "\n",
        "list_1 = [1,2,3]\n",
        "dict = {\"one\": 1}\n",
        "\n",
        "#a.add(list)\n",
        "#print(a)\n",
        "\n",
        "#a.add(dict)\n",
        "#print(a)\n",
        "\n",
        "# но с помощью функции set() можно преобразовать любой контейнер во множество\n",
        "\n",
        "print(set(list_1))\n",
        "print(set(dict))\n",
        "\n",
        "# Удаление элементов из множества\n",
        "\n",
        "set1 = {1, 2, 3, 4, 'a', 'p'}\n",
        "print(set1)\n",
        "\n",
        "set1.remove(2) #Метод remove() удаляет из множества конкретный элемент и возвращает ошибку в том случае, если его нет во множестве.\n",
        "print(set1)\n",
        "#set1.remove(5) # возникает ошибка\n",
        "\n",
        "\n",
        "set1 = {1, 3, 4, 'a', 'p'}\n",
        "print(set1)\n",
        "\n",
        "set1.discard('a') # Метод discard() удаляет конкретный элемент и НЕ возвращает ошибку, если тот не был найден во множестве.\n",
        "print(set1)\n",
        "\n",
        "set1.discard(6)\n",
        "print(set1) # ошибки не возникает\n",
        "\n",
        "\n",
        "set1 = {1, 2, 3, 4}\n",
        "set1.pop() #Метод pop() удаляет и возвращает по одному элементу за раз в случайном порядке. Set — это неупорядоченная коллекция, поэтому pop() не требует аргументов (индексов в этом случае). Метод pop() можно воспринимать как неконтролируемый способ удаления элементов по одному из множеств в Python.\n",
        "a = set1.pop()\n",
        "print(set1, a)\n",
        "\n",
        "\n",
        "#Проверка вхождения объекта во множество\n",
        "\n",
        "num_set = {1 ,3, 5, 7, 9, 10}\n",
        "print(num_set)\n",
        "\n",
        "print(7 in num_set)\n",
        "print(1 not in num_set)\n",
        "\n",
        "\n",
        "# Количество элементов во множестве num_set\n",
        "print(len(num_set))\n",
        "\n",
        "new_set = num_set.copy() # метод copy() — создает копию существующего множества и сохраняет ее в новом объекте.\n",
        "print(len(new_set))\n",
        "\n",
        "num_set.clear() # метод clear() —очищает множество (удаляет все элементы за раз)\n",
        "print(num_set)\n",
        "\n",
        "del num_set # del — удаляет множество целиком\n",
        "\n",
        "#Операции множеств в Python\n",
        "\n",
        "# Объединение множеств\n",
        "#При использовании на двух множествах вы получаете новый объект, содержащий элементы обоих (без повторов). Операция объединения в Python выполняется двумя способам: с помощью символа | или метода union().\n",
        "\n",
        "A = {1, 2, 3}\n",
        "B = {2, 3, 4, 5}\n",
        "C = A | B  # используя символьный метод\n",
        "C = A.union(B) # используя метод union\n",
        "print(C)\n",
        "\n",
        "# Пересечение множеств\n",
        "# При использовании на двух множествах вы получаете новый объект, содержащий общие элементы обоих (без повторов). Операция пересечения выполняется двумя способами: с помощью символа & или метода intersection().\n",
        "\n",
        "A = {1, 2, 3, 4}\n",
        "B = {3,4,5,6}\n",
        "C = A & B  # используя символьный метод\n",
        "C = A.intersection(B)  # используя метод intersection\n",
        "print(C)\n",
        "\n",
        "# Разность множеств\n",
        "#При использовании на двух множествах вы получаете новый объект, содержащий элементы, которые есть в первом, но не втором (в данном случае — в множестве “A”). Операция разности выполняется двумя способами: с помощью символа - или метода difference().\n",
        "\n",
        "A = {1, 2, 3, 4}\n",
        "B = {3,4,5,6}\n",
        "C = A - B # используя символьный метод\n",
        "C = A.difference(B) # используя метод difference\n",
        "print(C)\n",
        "\n",
        "#Симметричная разность множеств\n",
        "#При использовании на двух множествах вы получаете новый объект, содержащий все элементы, кроме тех, что есть в обоих. Симметрическая разность выполняется двумя способами: с помощью символа ^ или метода symmetric_difference().\n",
        "\n",
        "C = A ^ B  # используя символьный метод\n",
        "C = A.symmetric_difference(B)  # используя метод symmetric_difference\n",
        "print(C)\n",
        "\n",
        "#Подмножество и надмножество в Python\n",
        "#Множество B (SetB) называется подмножеством множества A (SetA), если все элементы SetB есть в SetA. Проверить на подмножество в Python можно двумя способами: с помощью символа <= или метода issubset(). Он возвращает True или False в зависимости от результата.\n",
        "\n",
        "A = {1, 2, 3, 4, 5}\n",
        "B = {2,3,4}\n",
        "print(B <= A)  # используя символьный метод\n",
        "print(B.issubset(A)) # используя метод issubset\n",
        "\n",
        "# Множество A (SetA) называется надмножеством множества B (SetB), если все элементы SetB есть в SetA. Проверить на надмножество в Python можно двумя способами: с помощью символа >= или метода issuperset(). Он возвращает True или False в зависимости от результата.\n",
        "\n",
        "A = {1, 2, 3, 4, 5}\n",
        "B = {2,3,4}\n",
        "print(A >= B)  # используя символьный метод\n",
        "print (A.issuperset(B)) # используя метод issubset\n",
        "\n",
        "# Удаление дубликатов из списка путём преобразования его во множество и обратно\n",
        "\n",
        "List1 = [1, 2, 3, 5, 3, 2, 4, 7]\n",
        "print(List1)\n",
        "\n",
        "List_without_duplicate = set(List1)\n",
        "List1 = list(List_without_duplicate)\n",
        "print(List1)\n",
        "\n",
        "# В одну строку:\n",
        "\n",
        "List1 = list(set(List1))\n",
        "print(List1)"
      ],
      "metadata": {
        "id": "IK5yIVrAnQnd"
      },
      "execution_count": null,
      "outputs": []
    },
    {
      "cell_type": "markdown",
      "metadata": {
        "id": "3xr8AszQAMC3"
      },
      "source": [
        "## dict"
      ]
    },
    {
      "cell_type": "markdown",
      "metadata": {
        "id": "ptBynFEVAOIE"
      },
      "source": [
        "**словарь, ассоциативный массив**\n",
        "\n",
        "Словарь -- это структура данных, которая представляет отображение из одного типа данных в другой. Представляет собой набор пар ключ-значение, в качестве ключа могут выступать immutable типы данных (int, str, tuple, ...)\n",
        "\n",
        "Массивы, которые мы до этого рассматривали, были отображением непрерывного отрезка [0, n] в другой тип данных. `dict` может быть гораздо удобнее, когда нужно использовать в качестве ключа другой тип данных (например, сопоставить именам людей (str) их даты рождения) или когда в качестве ключа хочется использовать int, но не все значения из промежутка [0, n] нужны. Например, если хочется сопоставить года рождения великих писателей их именам."
      ]
    },
    {
      "cell_type": "markdown",
      "metadata": {
        "id": "NAZDE-0hAP64"
      },
      "source": [
        "Пустой словарь можно создать либо с помощью `{}`, либо с `dict()`:"
      ]
    },
    {
      "cell_type": "code",
      "metadata": {
        "id": "ZC4DDa15AD-Z"
      },
      "source": [
        "d = {}\n",
        "dd = dict()\n",
        "\n",
        "print(d == dd, '|', type(d))"
      ],
      "execution_count": null,
      "outputs": []
    },
    {
      "cell_type": "markdown",
      "metadata": {
        "id": "U4kgjSYWASVE"
      },
      "source": [
        "Добавим значение value по ключу key в словарь:"
      ]
    },
    {
      "cell_type": "code",
      "metadata": {
        "id": "VzKNCJg9ARSv"
      },
      "source": [
        "key = 'b'\n",
        "value = 100\n",
        "\n",
        "d[key] = value\n",
        "d"
      ],
      "execution_count": null,
      "outputs": []
    },
    {
      "cell_type": "markdown",
      "metadata": {
        "id": "SSPvo6iFAUwe"
      },
      "source": [
        "Непустой словарь можно создать несколькими способами:"
      ]
    },
    {
      "cell_type": "code",
      "metadata": {
        "id": "TaVIfsBdATb3"
      },
      "source": [
        "{\n",
        "    'зарплаты':{\n",
        "        'Петя':100000,\n",
        "        'Аня':100000,\n",
        "    },\n",
        "    'проекты':['']\n",
        "}"
      ],
      "execution_count": null,
      "outputs": []
    },
    {
      "cell_type": "code",
      "metadata": {
        "id": "s4NhnUaPAV2P"
      },
      "source": [
        "d = {\n",
        "    'short': ['dict'],\n",
        "    'long': 'dictionary'\n",
        "}\n",
        "d"
      ],
      "execution_count": null,
      "outputs": []
    },
    {
      "cell_type": "code",
      "metadata": {
        "id": "49AueevAAW-n"
      },
      "source": [
        "d = dict(short='dict', long='dictionary')\n",
        "d"
      ],
      "execution_count": null,
      "outputs": []
    },
    {
      "cell_type": "code",
      "metadata": {
        "id": "A-CKUinrAYH3"
      },
      "source": [
        "d = dict([(1, 1), (2, 4)])\n",
        "d"
      ],
      "execution_count": null,
      "outputs": []
    },
    {
      "cell_type": "markdown",
      "metadata": {
        "id": "W2or85XqAaQm"
      },
      "source": [
        "Создать дефолтный (со значениями по умолчанию) словарь с ключами из списка, значениями None:"
      ]
    },
    {
      "cell_type": "code",
      "metadata": {
        "id": "4JwTJ4M0AZYH"
      },
      "source": [
        "d = dict.fromkeys(['a', 'b'])\n",
        "d"
      ],
      "execution_count": null,
      "outputs": []
    },
    {
      "cell_type": "markdown",
      "metadata": {
        "id": "CfjTNR2xAf49"
      },
      "source": [
        "Создать дефолтный словарь с ключами из списка, всеми значениями по умолчанию 100:"
      ]
    },
    {
      "cell_type": "code",
      "metadata": {
        "id": "ey4wZ-ZIAeh2"
      },
      "source": [
        "d = dict.fromkeys(['a', 'b'], 100)\n",
        "d"
      ],
      "execution_count": null,
      "outputs": []
    },
    {
      "cell_type": "code",
      "metadata": {
        "id": "qV1IEdamAhS2"
      },
      "source": [
        "100 in d"
      ],
      "execution_count": null,
      "outputs": []
    },
    {
      "cell_type": "markdown",
      "metadata": {
        "id": "lmQncSIJAkbP"
      },
      "source": [
        "**dict comprehensions**\n",
        "\n",
        "Еще один способ объявления словаря: создадим словарь, где каждому целому числу от 0 до 6 поставим в соответствие квадрат этого числа:"
      ]
    },
    {
      "cell_type": "code",
      "metadata": {
        "id": "cBD6vzMHAjpP"
      },
      "source": [
        "d = {a: a ** 2 for a in range(7)}\n",
        "d"
      ],
      "execution_count": null,
      "outputs": []
    },
    {
      "cell_type": "markdown",
      "metadata": {
        "id": "fwGyY5acAmku"
      },
      "source": [
        "Будьте осторожны, если ключа, по которому поступил запрос, нет в словаре, то выбросит исключение:"
      ]
    },
    {
      "cell_type": "code",
      "metadata": {
        "id": "rp6T7KIQAiKl"
      },
      "source": [
        "d = {1: 100, 2: 200, 3: 300}\n",
        "d['a']"
      ],
      "execution_count": null,
      "outputs": []
    },
    {
      "cell_type": "markdown",
      "metadata": {
        "id": "eovdGkRKAo3R"
      },
      "source": [
        "Поэтому безопаснее использовать **get(key)**. Тогда, если нужно, можно проверить на **None**:"
      ]
    },
    {
      "cell_type": "code",
      "metadata": {
        "id": "5Oeeu4PSAnzM"
      },
      "source": [
        "d.get(123)"
      ],
      "execution_count": null,
      "outputs": []
    },
    {
      "cell_type": "code",
      "metadata": {
        "id": "FOJrm-k0Ap49"
      },
      "source": [
        "d.get('a') == None"
      ],
      "execution_count": null,
      "outputs": []
    },
    {
      "cell_type": "markdown",
      "metadata": {
        "id": "28BIBqq7Ar97"
      },
      "source": [
        "Самое часто используемое - получение ключей, получение значений и получение всего вместе:"
      ]
    },
    {
      "cell_type": "code",
      "metadata": {
        "id": "Du4omha9Aqpt"
      },
      "source": [
        "# получить список ключей\n",
        "print(d.keys(), '|', type(d.keys()))\n",
        "\n",
        "# чтобы вывести ключи, нужно привести d.keys() к списку\n",
        "print(list(d.keys()))"
      ],
      "execution_count": null,
      "outputs": []
    },
    {
      "cell_type": "code",
      "metadata": {
        "id": "x9LjmzNEAtmV"
      },
      "source": [
        "# получить список значений\n",
        "print(d.values(), '|', type(d.values()))\n",
        "\n",
        "# то же самое -- чтобы вывести значения, нужно привести d.values() к списку\n",
        "print(list(d.values()))"
      ],
      "execution_count": null,
      "outputs": []
    },
    {
      "cell_type": "code",
      "metadata": {
        "id": "m2TI9wBoAwfl"
      },
      "source": [
        "# получить список пар ключ-значение\n",
        "print(d.items(), '|', type(d.items()))\n",
        "\n",
        "# то же самое -- чтобы вывести пары ключ-значения, нужно привести d.items() к списку\n",
        "print(list(d.items()))"
      ],
      "execution_count": null,
      "outputs": []
    },
    {
      "cell_type": "markdown",
      "source": [
        "### Основные методы объектов класса Dict:"
      ],
      "metadata": {
        "id": "x5IzN8xxn1VI"
      }
    },
    {
      "cell_type": "markdown",
      "source": [
        "Словари (dict) в Python - неупорядоченные коллекции произвольных объектов с доступом по ключу. Их иногда ещё называют ассоциативными массивами или хеш-таблицами."
      ],
      "metadata": {
        "id": "y1It-A7poHjn"
      }
    },
    {
      "cell_type": "code",
      "source": [
        "d = {}\n",
        "d = dict()\n",
        "\n",
        "d = {\n",
        "\t\"Vasya\":777,\n",
        "\t\"Petya\":328,\n",
        "\t\"Vanya\":543\n",
        "}\n",
        "\n",
        "\n",
        "print(\"Исходный словарь:\", d, \"\\n\")\n",
        "\n",
        "len(d) # Возвращает количество элементов в словаре d.\n",
        "print(len(d), \"\\n\")\n",
        "\n",
        "d[\"Vasya\"] # Возвращает элемент словаря d с ключом k.\n",
        "print(d[\"Vasya\"] , \"\\n\")\n",
        "\n",
        "d[\"Vitya\"] = 178 # Записывает в элемент d[k] значение x.\n",
        "print(d , \"\\n\")\n",
        "\n",
        "del d[\"Petya\"] # Удаляет элемент d[k] (по ключу).\n",
        "print(d , \"\\n\")\n",
        "\n",
        "print(\"Petya\" in d) # Возвращает True, если ключ k присутствует в словаре d.\n",
        "print()\n",
        "\n",
        "k = d.copy() # Создает копию словаря d.\n",
        "print(k , \"\\n\")\n",
        "\n",
        "k.clear() # Удаляет все элементы из словаря k.\n",
        "print(k , \"\\n\")\n",
        "\n",
        "c = dict.fromkeys([23, 34, \"Qwer\"], \"True\") # Создает новый словарь с ключами, перечисленными в последовательности s, а все значения устанавливает равными value.\n",
        "print(c , \"\\n\")\n",
        "\n",
        "d.get(\"Petya\", \"Элемента не существует!\") # Возвращает элемент d[k], если таковой имеется, в противном случае возвращает v.\n",
        "print(d.get(\"Petya\", \"Элемента не существует!\") , \"\\n\")\n",
        "\n",
        "d.items() # Возвращает последовательность пар (key, value).\n",
        "print(d.items() , \"\\n\")\n",
        "\n",
        "d.keys() # Возвращает последовательность ключей.\n",
        "print(d.keys() , \"\\n\")\n",
        "\n",
        "d.values() # Возвращает последовательность всех значений в словаре d.\n",
        "print(d.values(), \"\\n\")\n",
        "\n",
        "d.pop(\"Vasya\" ,\"default\") # Возвращает элемент d[k], если таковой имеется, и удаляет его из словаря; в противном случае возвращает default, если этот аргумент указан, или возбуждает исключение KeyError.\n",
        "print(d , \"\\n\")\n",
        "\n",
        "d.popitem() # Удаляет из словаря случайную пару (key, value) и возвращает ее в виде кортежа.\n",
        "print(d , \"\\n\")\n",
        "\n",
        "d.setdefault(\"Ibrahim\", 198) # Возвращает элемент d[k], если таковой имеется, в противном случае возвращает значение v и создает новый элемент словаря d[k] = v.\n",
        "print(d , \"\\n\")\n",
        "\n",
        "b = {'Ahmed': 800, 'Shapi': 398}\n",
        "d.update(b) # Добавляет все объекты из b в словарь d.\n",
        "print(d , \"\\n\")"
      ],
      "metadata": {
        "id": "6yl8Fv0On4rk"
      },
      "execution_count": null,
      "outputs": []
    }
  ]
}