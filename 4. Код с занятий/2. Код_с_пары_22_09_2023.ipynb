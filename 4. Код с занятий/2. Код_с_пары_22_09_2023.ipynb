{
  "nbformat": 4,
  "nbformat_minor": 0,
  "metadata": {
    "colab": {
      "provenance": [],
      "toc_visible": true,
      "authorship_tag": "ABX9TyPBk6JK+imIlH43zFcbA5YV",
      "include_colab_link": true
    },
    "kernelspec": {
      "name": "python3",
      "display_name": "Python 3"
    },
    "language_info": {
      "name": "python"
    }
  },
  "cells": [
    {
      "cell_type": "markdown",
      "metadata": {
        "id": "view-in-github",
        "colab_type": "text"
      },
      "source": [
        "<a href=\"https://colab.research.google.com/github/Alexandre77777/python_programming/blob/main/4.%20%D0%9A%D0%BE%D0%B4%20%D1%81%20%D0%B7%D0%B0%D0%BD%D1%8F%D1%82%D0%B8%D0%B9/2.%20%D0%9A%D0%BE%D0%B4_%D1%81_%D0%BF%D0%B0%D1%80%D1%8B_22_09_2023.ipynb\" target=\"_parent\"><img src=\"https://colab.research.google.com/assets/colab-badge.svg\" alt=\"Open In Colab\"/></a>"
      ]
    },
    {
      "cell_type": "markdown",
      "metadata": {
        "id": "e53GY3al7d-i"
      },
      "source": [
        "# **Циклы и структуры данных**"
      ]
    },
    {
      "cell_type": "markdown",
      "source": [
        "## **Структуры данных**"
      ],
      "metadata": {
        "id": "b8w0puVEh0zJ"
      }
    },
    {
      "cell_type": "markdown",
      "source": [
        "**Структуры данных** - это способы организации и хранения данных в компьютерных системах, которые позволяют эффективно обрабатывать и управлять информацией. Давайте рассмотрим это определение подробнее:\n",
        "\n",
        "#### Основные характеристики структур данных:\n",
        "\n",
        "1. **Организация данных**: Структуры данных определяют, как элементы информации связаны друг с другом и как они располагаются в памяти компьютера.\n",
        "\n",
        "2. **Эффективность обработки**: Правильно выбранная структура данных позволяет оптимизировать алгоритмы и повысить производительность программ\n",
        "\n",
        "3. **Управление информацией**: Они предоставляют методы для хранения, доступа и манипулирования данными\n",
        "\n",
        "4. **Абстракция**: Структуры данных позволяют абстрагироваться от конкретной реализации и работать с данными на более высоком уровне.\n",
        "\n",
        "#### Важность структур данных:\n",
        "\n",
        "- **Оптимизация ресурсов**: Правильный выбор структуры данных может значительно сократить использование памяти и времени выполнения программы\n",
        "\n",
        "- **Решение сложных задач**: Некоторые задачи становятся гораздо проще при использовании подходящей структуры данных\n",
        "\n",
        "- **Основа алгоритмов**: Многие алгоритмы тесно связаны с определенными структурами данных и опираются на их свойства.\n",
        "\n",
        "#### Примеры структур данных:\n",
        "\n",
        "- списки\n",
        "- Связанные списки\n",
        "- Стеки и очереди\n",
        "- Деревья и графы\n",
        "- Хеш-таблицы"
      ],
      "metadata": {
        "id": "8wLUM3ixg_VO"
      }
    },
    {
      "cell_type": "markdown",
      "source": [
        "**В Python есть несколько встроенных структур данных, каждая из которых имеет свои особенности и применения:**\n",
        "#### 1. Списки (Lists)\n",
        "- **Определение**: Упорядоченные изменяемые последовательности элементов\n",
        "- **Синтаксис**: `my_list = [1, 2, 3, 'a', 'b']`\n",
        "- **Особенности**: Позволяют хранить элементы разных типов, легко изменяются\n",
        "\n",
        "#### 2. Кортежи (Tuples)\n",
        "- **Определение**: Упорядоченные неизменяемые последовательности\n",
        "- **Синтаксис**: `my_tuple = (1, 2, 3, 'a', 'b')`\n",
        "- **Особенности**: Неизменяемы после создания, что делает их более эффективными по памяти\n",
        "\n",
        "#### 3. Словари (Dictionaries)\n",
        "- **Определение**: Неупорядоченные коллекции пар ключ-значение\n",
        "- **Синтаксис**: `my_dict = {'key1': 'value1', 'key2': 'value2'}`\n",
        "- **Особенности**: Обеспечивают быстрый доступ к данным по ключу\n",
        "\n",
        "#### 4. Множества (Sets)\n",
        "- **Определение**: Неупорядоченные коллекции уникальных элементов\n",
        "- **Синтаксис**: `my_set = {1, 2, 3, 4}`\n",
        "- **Особенности**: Удобны для удаления дубликатов и выполнения теоретико-множественных операций"
      ],
      "metadata": {
        "id": "UkhnjgkVhgVC"
      }
    },
    {
      "cell_type": "markdown",
      "source": [
        "**Рассмотрим более подробно каждую из них:**"
      ],
      "metadata": {
        "id": "1NackO0khvaB"
      }
    },
    {
      "cell_type": "markdown",
      "metadata": {
        "id": "sAjK_o5P7g3y"
      },
      "source": [
        "### **Список (list)**\n",
        "\n",
        "**Список** (`list`) — это упорядоченная коллекция элементов, сгруппированных под одним именем. Это контейнер, в который можно поместить любое количество значений, и эти значения могут быть разными по типу, включая другие списки.\n",
        "\n",
        "Чтобы задать список, нужно заключить нужные элементы в квадратные скобки `[]`, разделив их запятыми. Пустые скобки обозначают пустой список. Пустой список также можно создать, написав `list()`."
      ]
    },
    {
      "cell_type": "code",
      "metadata": {
        "id": "KAiiJAqh7dS7",
        "outputId": "f72760ca-8be1-4a86-e172-f698065df8e1",
        "colab": {
          "base_uri": "https://localhost:8080/"
        }
      },
      "source": [
        "a = list()\n",
        "b = []\n",
        "\n",
        "# убедимся, что два варианта создания пустого списка эквивалентны:\n",
        "print(a == b)"
      ],
      "execution_count": 1,
      "outputs": [
        {
          "output_type": "stream",
          "name": "stdout",
          "text": [
            "True\n"
          ]
        }
      ]
    },
    {
      "cell_type": "code",
      "metadata": {
        "id": "eXuvMS0H7jnS"
      },
      "source": [
        "# можно хранить разные типы данных!\n",
        "c = [2, 'a', [4, 'stroka', 6.56]]"
      ],
      "execution_count": 2,
      "outputs": []
    },
    {
      "cell_type": "markdown",
      "metadata": {
        "id": "qMqkCfG97rX7"
      },
      "source": [
        "Что можно делать с list:\n",
        "\n",
        "Можно поместить элемент в конец списка:"
      ]
    },
    {
      "cell_type": "code",
      "metadata": {
        "id": "_mwd85ur7I5G",
        "outputId": "033fe95a-05ce-4803-c724-fa0f6c9814a1",
        "colab": {
          "base_uri": "https://localhost:8080/"
        }
      },
      "source": [
        "c.append(4.67)\n",
        "c"
      ],
      "execution_count": 3,
      "outputs": [
        {
          "output_type": "execute_result",
          "data": {
            "text/plain": [
              "[2, 'a', [4, 'stroka', 6.56], 4.67]"
            ]
          },
          "metadata": {},
          "execution_count": 3
        }
      ]
    },
    {
      "cell_type": "markdown",
      "metadata": {
        "id": "6iki5eSy7w-H"
      },
      "source": [
        "можно удалить элемент с конца списка:"
      ]
    },
    {
      "cell_type": "code",
      "metadata": {
        "id": "wunFxb7U7v-z",
        "outputId": "1e2ba2a7-1f79-4bee-f0de-ae0774dee0cd",
        "colab": {
          "base_uri": "https://localhost:8080/"
        }
      },
      "source": [
        "c.pop()\n",
        "c"
      ],
      "execution_count": 4,
      "outputs": [
        {
          "output_type": "execute_result",
          "data": {
            "text/plain": [
              "[2, 'a', [4, 'stroka', 6.56]]"
            ]
          },
          "metadata": {},
          "execution_count": 4
        }
      ]
    },
    {
      "cell_type": "markdown",
      "metadata": {
        "id": "t2cK-d9D7zeu"
      },
      "source": [
        "**Методы list, которые мы рассмотрим ниже, будут работать для всех iterable контейнеров**\n",
        "\n",
        "(что значит iterabel, можно прочитать тут: https://pyneng.readthedocs.io/ru/latest/book/13_iterator_generator/iterable.html\n",
        "\n",
        "кратко -- это структуры данных, поддерживающие поочередный проход по своим элементам)\n",
        "\n",
        "По индексам можно получить доступ к элементам списка (индексация, как обычно, с 0):"
      ]
    },
    {
      "cell_type": "code",
      "metadata": {
        "id": "YZSeMTgR7yVq",
        "outputId": "b1d58267-a09f-459f-a0b8-e76d516ac00c",
        "colab": {
          "base_uri": "https://localhost:8080/"
        }
      },
      "source": [
        "print(c[0])\n",
        "print(c[2])\n",
        "# да, индексы могут быть отрицательные: -i есть i-ый с конца элемент списка (в нумерации с 1)\n",
        "print(c[-1])"
      ],
      "execution_count": 5,
      "outputs": [
        {
          "output_type": "stream",
          "name": "stdout",
          "text": [
            "2\n",
            "[4, 'stroka', 6.56]\n",
            "[4, 'stroka', 6.56]\n"
          ]
        }
      ]
    },
    {
      "cell_type": "markdown",
      "metadata": {
        "id": "mC5K1R2Z72xT"
      },
      "source": [
        "Можно не только получать по одному элементу списка, но и *срез* -- элементы списка с индексами между i (включительно) и j (не включительно):"
      ]
    },
    {
      "cell_type": "code",
      "metadata": {
        "id": "0cGdGjID71ey",
        "outputId": "0e584e06-639a-42dc-9dc5-7c5481cc6d4f",
        "colab": {
          "base_uri": "https://localhost:8080/"
        }
      },
      "source": [
        "# в d будет записан новый список, в котором будут 1 и 2 элементы списка c\n",
        "d = c[1:3]\n",
        "print(d)"
      ],
      "execution_count": 6,
      "outputs": [
        {
          "output_type": "stream",
          "name": "stdout",
          "text": [
            "['a', [4, 'stroka', 6.56]]\n"
          ]
        }
      ]
    },
    {
      "cell_type": "markdown",
      "metadata": {
        "id": "xcuZQQgO74wJ"
      },
      "source": [
        "А еще можно сделать операцию наоборот -- не по индексу получить элемент списка, а по элементу списка получить его индекс.\n",
        "\n",
        "`L.index(element)` - возвращает индекс элемента `element` в списке `L`, если он там присутствует, `None` иначе (вот еще один пример использования None)"
      ]
    },
    {
      "cell_type": "code",
      "metadata": {
        "id": "Tg0lMqmr73jC",
        "outputId": "f719e16e-feef-4898-bf83-ba39b27ba3c7",
        "colab": {
          "base_uri": "https://localhost:8080/"
        }
      },
      "source": [
        "c.index('a')"
      ],
      "execution_count": 7,
      "outputs": [
        {
          "output_type": "execute_result",
          "data": {
            "text/plain": [
              "1"
            ]
          },
          "metadata": {},
          "execution_count": 7
        }
      ]
    },
    {
      "cell_type": "markdown",
      "metadata": {
        "id": "ma6pTfHh7940"
      },
      "source": [
        "Можно проверять принадлежность элемента списку:"
      ]
    },
    {
      "cell_type": "code",
      "metadata": {
        "id": "ka1lZNge76Ea",
        "outputId": "d1f865ed-511f-4d91-8a7c-61fbe764b677",
        "colab": {
          "base_uri": "https://localhost:8080/"
        }
      },
      "source": [
        "5 in c"
      ],
      "execution_count": 8,
      "outputs": [
        {
          "output_type": "execute_result",
          "data": {
            "text/plain": [
              "False"
            ]
          },
          "metadata": {},
          "execution_count": 8
        }
      ]
    },
    {
      "cell_type": "code",
      "metadata": {
        "id": "tK8BeYrB789C",
        "outputId": "65a7e695-a6a3-4145-9d4d-d83d184a1aa7",
        "colab": {
          "base_uri": "https://localhost:8080/"
        }
      },
      "source": [
        "if 'a' in c:\n",
        "    print(\"element \\'a\\' in c\")"
      ],
      "execution_count": 9,
      "outputs": [
        {
          "output_type": "stream",
          "name": "stdout",
          "text": [
            "element 'a' in c\n"
          ]
        }
      ]
    },
    {
      "cell_type": "markdown",
      "metadata": {
        "id": "wyvSw30a8BO4"
      },
      "source": [
        "Можно еще сложнее: получить каждый k-й элемент списка c, начиная с элемента с индексом i (включительно) и заканчивая элементом с индексом j (не включительно):"
      ]
    },
    {
      "cell_type": "code",
      "metadata": {
        "id": "vQfT_feP8ACC",
        "outputId": "ebca86e3-1fa0-4787-b91f-4e2c8ee29a88",
        "colab": {
          "base_uri": "https://localhost:8080/"
        }
      },
      "source": [
        "c = [1, 2, 3, 4, 5, 6, 7, 8, 9]\n",
        "d = c[1:7:2]\n",
        "\n",
        "# в языке С (Си) это выглядело бы как-то так:   for(int i = 1; i < 7; i += 2) {}\n",
        "# в питоне это компактное название_списка[с какого считаем : по какой считаем : с каким шагом]\n",
        "\n",
        "print(d)"
      ],
      "execution_count": 10,
      "outputs": [
        {
          "output_type": "stream",
          "name": "stdout",
          "text": [
            "[2, 4, 6]\n"
          ]
        }
      ]
    },
    {
      "cell_type": "markdown",
      "metadata": {
        "id": "wNYMbbOn8Dr0"
      },
      "source": [
        "С помощью срезовов можно перевернуть список, например:"
      ]
    },
    {
      "cell_type": "code",
      "metadata": {
        "id": "ajXFVkKc8CKS",
        "outputId": "74338928-a2c9-45f3-9cd0-0a45d2600c6b",
        "colab": {
          "base_uri": "https://localhost:8080/"
        }
      },
      "source": [
        "print(c)\n",
        "# получим каждый минус первый элемент списка начиная с 0 индекса и заканчивая последним\n",
        "d = c[::-1]\n",
        "print(d)"
      ],
      "execution_count": 11,
      "outputs": [
        {
          "output_type": "stream",
          "name": "stdout",
          "text": [
            "[1, 2, 3, 4, 5, 6, 7, 8, 9]\n",
            "[9, 8, 7, 6, 5, 4, 3, 2, 1]\n"
          ]
        }
      ]
    },
    {
      "cell_type": "markdown",
      "metadata": {
        "id": "HIDmDnxJ8YGo"
      },
      "source": [
        "Элементы списка также можно изменять, обращаясь к ним по индексу или срезу:"
      ]
    },
    {
      "cell_type": "code",
      "metadata": {
        "id": "GWe4bXH48E1p",
        "outputId": "25b57175-c36b-45c5-b381-8b4e45ffbad4",
        "colab": {
          "base_uri": "https://localhost:8080/"
        }
      },
      "source": [
        "print(c)\n",
        "c[0] = 100500\n",
        "print(c)"
      ],
      "execution_count": 12,
      "outputs": [
        {
          "output_type": "stream",
          "name": "stdout",
          "text": [
            "[1, 2, 3, 4, 5, 6, 7, 8, 9]\n",
            "[100500, 2, 3, 4, 5, 6, 7, 8, 9]\n"
          ]
        }
      ]
    },
    {
      "cell_type": "code",
      "metadata": {
        "id": "nHjtOWY98ZTI",
        "outputId": "51ae3dd7-394a-4ccc-992b-009c25c47877",
        "colab": {
          "base_uri": "https://localhost:8080/"
        }
      },
      "source": [
        "# вместо 2, 3 и 4 элементов списка запишем  число 80\n",
        "c[2:5] = [80]\n",
        "print(c)\n",
        "# вместо 2, 3 и 4 элементов списка запишем  числа 80, 90\n",
        "c[2:5] = [80, 90]\n",
        "print(c)"
      ],
      "execution_count": 13,
      "outputs": [
        {
          "output_type": "stream",
          "name": "stdout",
          "text": [
            "[100500, 2, 80, 6, 7, 8, 9]\n",
            "[100500, 2, 80, 90, 8, 9]\n"
          ]
        }
      ]
    },
    {
      "cell_type": "markdown",
      "metadata": {
        "id": "vWVsz1bJ8bud"
      },
      "source": [
        "Также списки можно складывать. Результатом сложения двух списков будет новый список, в котором сначала будут записаны элементы первого списка, затем -- второго:"
      ]
    },
    {
      "cell_type": "code",
      "metadata": {
        "id": "pwNYfAS28aV4",
        "outputId": "08368c54-e6f6-4249-f6f0-d8e52369dab4",
        "colab": {
          "base_uri": "https://localhost:8080/"
        }
      },
      "source": [
        "d = [9, 0]\n",
        "c+d"
      ],
      "execution_count": 14,
      "outputs": [
        {
          "output_type": "execute_result",
          "data": {
            "text/plain": [
              "[100500, 2, 80, 90, 8, 9, 9, 0]"
            ]
          },
          "metadata": {},
          "execution_count": 14
        }
      ]
    },
    {
      "cell_type": "markdown",
      "metadata": {
        "id": "PHWAax5f8ePg"
      },
      "source": [
        "А вот вычитать нельзя:"
      ]
    },
    {
      "cell_type": "code",
      "metadata": {
        "id": "gh_eq3WQ8c34",
        "outputId": "5d6931b1-46f6-46fa-f36d-6b268013f460",
        "colab": {
          "base_uri": "https://localhost:8080/",
          "height": 144
        }
      },
      "source": [
        "c-d"
      ],
      "execution_count": 15,
      "outputs": [
        {
          "output_type": "error",
          "ename": "TypeError",
          "evalue": "unsupported operand type(s) for -: 'list' and 'list'",
          "traceback": [
            "\u001b[0;31m---------------------------------------------------------------------------\u001b[0m",
            "\u001b[0;31mTypeError\u001b[0m                                 Traceback (most recent call last)",
            "\u001b[0;32m<ipython-input-15-e33c52a5f238>\u001b[0m in \u001b[0;36m<cell line: 1>\u001b[0;34m()\u001b[0m\n\u001b[0;32m----> 1\u001b[0;31m \u001b[0mc\u001b[0m\u001b[0;34m-\u001b[0m\u001b[0md\u001b[0m\u001b[0;34m\u001b[0m\u001b[0;34m\u001b[0m\u001b[0m\n\u001b[0m",
            "\u001b[0;31mTypeError\u001b[0m: unsupported operand type(s) for -: 'list' and 'list'"
          ]
        }
      ]
    },
    {
      "cell_type": "markdown",
      "metadata": {
        "id": "9tcIPhBC8hja"
      },
      "source": [
        "С помощью `len()` можно получить размер листа (и вообще любого iterable объекта):"
      ]
    },
    {
      "cell_type": "code",
      "metadata": {
        "id": "5j7ZvPba8fkI",
        "outputId": "beaf3dc0-fd5f-4416-9f59-ee944d45201d",
        "colab": {
          "base_uri": "https://localhost:8080/"
        }
      },
      "source": [
        "len(c)"
      ],
      "execution_count": 16,
      "outputs": [
        {
          "output_type": "execute_result",
          "data": {
            "text/plain": [
              "6"
            ]
          },
          "metadata": {},
          "execution_count": 16
        }
      ]
    },
    {
      "cell_type": "markdown",
      "metadata": {
        "id": "qkHbmxV98kZW"
      },
      "source": [
        "можно отсортировать элементы списка, вызвав метод .sort():"
      ]
    },
    {
      "cell_type": "code",
      "metadata": {
        "id": "vx4Z4iWe8ik4",
        "outputId": "9b41fb9d-28d4-434c-dfc2-5f436f820549",
        "colab": {
          "base_uri": "https://localhost:8080/"
        }
      },
      "source": [
        "# вызов метода sort изменяет сам объект c, а не возвращает копию:\n",
        "c.sort()\n",
        "c"
      ],
      "execution_count": 17,
      "outputs": [
        {
          "output_type": "execute_result",
          "data": {
            "text/plain": [
              "[2, 8, 9, 80, 90, 100500]"
            ]
          },
          "metadata": {},
          "execution_count": 17
        }
      ]
    },
    {
      "cell_type": "markdown",
      "source": [
        "#### **Основные методы объектов класса List:**"
      ],
      "metadata": {
        "id": "_OmBpf7JmNUg"
      }
    },
    {
      "cell_type": "code",
      "source": [
        "l = ['12', 34, 'Hi', '12']\n",
        "print(f'Список {l}')\n",
        "l2 = list([1,5,9])\n",
        "print(f'Список {l2}')"
      ],
      "metadata": {
        "id": "Lb0Iw83zpMYM",
        "outputId": "d3b486d6-2cb9-4cd9-8bb8-4adda99cecc7",
        "colab": {
          "base_uri": "https://localhost:8080/"
        }
      },
      "execution_count": 96,
      "outputs": [
        {
          "output_type": "stream",
          "name": "stdout",
          "text": [
            "Список ['12', 34, 'Hi', '12']\n",
            "Список [1, 5, 9]\n"
          ]
        }
      ]
    },
    {
      "cell_type": "code",
      "source": [
        "a = range(0,14,2)\n",
        "list(a) # Преобразует объект range (диапазон) a в список.\n",
        "print(\"Преобразует объект a в список\", list(a))"
      ],
      "metadata": {
        "id": "kTpYKVJrpO-F",
        "outputId": "1800db70-896d-4c65-ae05-3f76a877cb1a",
        "colab": {
          "base_uri": "https://localhost:8080/"
        }
      },
      "execution_count": 98,
      "outputs": [
        {
          "output_type": "stream",
          "name": "stdout",
          "text": [
            "Преобразует объект a в список [0, 2, 4, 6, 8, 10, 12]\n"
          ]
        }
      ]
    },
    {
      "cell_type": "code",
      "source": [
        "l.append(x) # Добавляет новый элемент x в конец списка l.\n",
        "print('Добавляет новый элемент x в конец списка l.', l)"
      ],
      "metadata": {
        "id": "MuNjnvwHpeVv",
        "outputId": "631c9dec-6e38-410e-f009-3666b846769e",
        "colab": {
          "base_uri": "https://localhost:8080/"
        }
      },
      "execution_count": 99,
      "outputs": [
        {
          "output_type": "stream",
          "name": "stdout",
          "text": [
            "Добавляет новый элемент x в конец списка l. ['12', 34, 'Hi', '12', 15]\n"
          ]
        }
      ]
    },
    {
      "cell_type": "code",
      "source": [
        "l.extend(l2) # Добавляет новый список l2 в конец списка l.\n",
        "print('Добавляет новый список l2 в конец списка l.', l)"
      ],
      "metadata": {
        "id": "0UJGMYVZpgeF",
        "outputId": "c783ac38-616b-42e4-ca7b-6cbf9c08dafb",
        "colab": {
          "base_uri": "https://localhost:8080/"
        }
      },
      "execution_count": 100,
      "outputs": [
        {
          "output_type": "stream",
          "name": "stdout",
          "text": [
            "Добавляет новый список l2 в конец списка l. ['12', 34, 'Hi', '12', 15, 1, 5, 9]\n"
          ]
        }
      ]
    },
    {
      "cell_type": "code",
      "source": [
        "l.insert(1,66) # Вставляет x в элемент с индексом i.\n",
        "print('Вставляет x в элемент с индексом i.', l)"
      ],
      "metadata": {
        "id": "T0mZOsIIpjW6",
        "outputId": "025e6d90-fb14-44df-8850-12eb2d649477",
        "colab": {
          "base_uri": "https://localhost:8080/"
        }
      },
      "execution_count": 101,
      "outputs": [
        {
          "output_type": "stream",
          "name": "stdout",
          "text": [
            "Вставляет x в элемент с индексом i. ['12', 66, 34, 'Hi', '12', 15, 1, 5, 9]\n"
          ]
        }
      ]
    },
    {
      "cell_type": "code",
      "source": [
        "l2 = l.copy() # Создаёт поверхностную копию списка l\n",
        "print('Создаёт поверхностную копию списка l', l2)"
      ],
      "metadata": {
        "id": "Vqjtxvp1pmiM",
        "outputId": "66efbea0-60df-40a0-d180-373c161b3c12",
        "colab": {
          "base_uri": "https://localhost:8080/"
        }
      },
      "execution_count": 102,
      "outputs": [
        {
          "output_type": "stream",
          "name": "stdout",
          "text": [
            "Создаёт поверхностную копию списка l ['12', 66, 34, 'Hi', '12', 15, 1, 5, 9]\n"
          ]
        }
      ]
    },
    {
      "cell_type": "code",
      "source": [
        "# Поиск значений в списке\n",
        "l.count(x) # Определяет количество вхождений x в список l.\n",
        "print('Определяет количество вхождений x в список l.', l.count(4))"
      ],
      "metadata": {
        "id": "1fzYqKE6po1Q",
        "outputId": "11d0d800-5be3-403f-f350-ca10f0ede53b",
        "colab": {
          "base_uri": "https://localhost:8080/"
        }
      },
      "execution_count": 103,
      "outputs": [
        {
          "output_type": "stream",
          "name": "stdout",
          "text": [
            "Определяет количество вхождений x в список l. 0\n"
          ]
        }
      ]
    },
    {
      "cell_type": "code",
      "source": [
        "l.index(x, 0, -1) # Возвращает наименьшее значение индекса i, где s[i] == x.\n",
        "                            # Необязательные значения start и stop определяют индексы начального и конечного\n",
        "                            # элементов диапазона, где выполняется поиск.\n",
        "print('Возвращает наименьшее значение индекса i, где s[i] == x.', l.index(x, 0, -1))"
      ],
      "metadata": {
        "id": "u4_0xejZpsvk",
        "outputId": "e341d2fb-c8df-4e43-b6f2-03d0643f93c3",
        "colab": {
          "base_uri": "https://localhost:8080/"
        }
      },
      "execution_count": 104,
      "outputs": [
        {
          "output_type": "stream",
          "name": "stdout",
          "text": [
            "Возвращает наименьшее значение индекса i, где s[i] == x. 5\n"
          ]
        }
      ]
    },
    {
      "cell_type": "code",
      "source": [
        "# Удаление элементов списка\n",
        "l.pop(-2) # Возвращает i-й элемент и удаляет его из списка. Если индекс i не указан,возвращается последний элемент.\n",
        "print('Возвращает i-й элемент и удаляет его из списка', l)\n",
        "l.remove('Hi') # Отыскивает в списке l элемент со значением Hi и удаляет его.\n",
        "print('Отыскивает в списке l элемент со значением x и удаляет его.', l)\n",
        "l2.clear() # Очищает список\n",
        "print('Очищает список', l2)"
      ],
      "metadata": {
        "id": "SJG_GAjLpyMV",
        "outputId": "85220800-ea14-40c0-ef97-aa5f8011bd2c",
        "colab": {
          "base_uri": "https://localhost:8080/"
        }
      },
      "execution_count": 105,
      "outputs": [
        {
          "output_type": "stream",
          "name": "stdout",
          "text": [
            "Возвращает i-й элемент и удаляет его из списка ['12', 66, 34, 'Hi', '12', 15, 1, 9]\n",
            "Отыскивает в списке l элемент со значением x и удаляет его. ['12', 66, 34, '12', 15, 1, 9]\n",
            "Очищает список []\n"
          ]
        }
      ]
    },
    {
      "cell_type": "code",
      "source": [
        "del l[1:3]  # удаление элемента по индексу или нескольких элементов по срезу\n",
        "            # del не удаляет объекты в буквальном смысле,\n",
        "            # она лишь открепляет ссылки, разрывая связь между именем\n",
        "            # и объектом. Удаление объекта произойдет как следствие работы\n",
        "            # сборщика мусора в отношении объектов, на которые больше\n",
        "            # не ссылается ни один другой объект.\n",
        "            # Изменение порядка элементов в списке\n",
        "print('Удаление элемента по индексу или нескольких элементов по срезу', l)"
      ],
      "metadata": {
        "id": "bl0XPNJ2p7DC",
        "outputId": "a1702357-8693-4e55-8ead-a2e39bf74187",
        "colab": {
          "base_uri": "https://localhost:8080/"
        }
      },
      "execution_count": 106,
      "outputs": [
        {
          "output_type": "stream",
          "name": "stdout",
          "text": [
            "Удаление элемента по индексу или нескольких элементов по срезу ['12', '12', 15, 1, 9]\n"
          ]
        }
      ]
    },
    {
      "cell_type": "code",
      "source": [
        "l.reverse() # Изменяет порядок следования элементов в списке l на обратный.\n",
        "print('Изменяет порядок следования элементов в списке l на обратный', l)"
      ],
      "metadata": {
        "id": "I0OoCtwHp9Sn",
        "outputId": "b92c9344-6a23-4219-8e6e-4dbfd20a11be",
        "colab": {
          "base_uri": "https://localhost:8080/"
        }
      },
      "execution_count": 107,
      "outputs": [
        {
          "output_type": "stream",
          "name": "stdout",
          "text": [
            "Изменяет порядок следования элементов в списке l на обратный [9, 1, 15, '12', '12']\n"
          ]
        }
      ]
    },
    {
      "cell_type": "code",
      "source": [
        "l = [9, 56, 32, 1, 4]\n",
        "l.sort() # Сортирует элементы списка l. key – это функция, которая вычисляет значение\n",
        "                         # ключа. reverse – признак сортировки в обратном порядке. Аргументы key и reverse\n",
        "                         # всегда должны передаваться как именованные аргументы.\n",
        "print('Сортирует элементы списка', l)"
      ],
      "metadata": {
        "colab": {
          "base_uri": "https://localhost:8080/"
        },
        "id": "z-mS4ftemZV4",
        "outputId": "c449d15a-c74e-41d0-d338-92f7e73a1fe4"
      },
      "execution_count": 108,
      "outputs": [
        {
          "output_type": "stream",
          "name": "stdout",
          "text": [
            "Сортирует элементы списка [1, 4, 9, 32, 56]\n"
          ]
        }
      ]
    },
    {
      "cell_type": "markdown",
      "metadata": {
        "id": "rVWqOI8j8net"
      },
      "source": [
        "### **Кортеж (tuple)**\n",
        "\n",
        "**Кортеж** (`tuple`) — это упорядоченная неизменяемая коллекция элементов. Кортежи очень похожи на списки (`list`) по структуре и могут содержать элементы любых типов данных, включая числа, строки, списки и даже другие кортежи. Однако главное отличие кортежей от списков заключается в их неизменяемости: после создания кортежа его содержимое нельзя изменить — нельзя добавлять, удалять или изменять элементы.\n",
        "\n",
        "Неизменяемость кортежей делает их хэшируемыми (при условии, что все их элементы также хэшируемы), что позволяет использовать их в качестве ключей словарей (`dict`) и элементов множеств (`set`). Списки, будучи изменяемыми, не являются хэшируемыми и поэтому не могут выступать в качестве ключей словаря или элементов множества.\n",
        "\n",
        "Кортежи создаются с помощью круглых скобок `()`, перечисляя элементы через запятую. Примеры создания кортежей:"
      ]
    },
    {
      "cell_type": "code",
      "metadata": {
        "id": "ozpvJBWD8la3",
        "colab": {
          "base_uri": "https://localhost:8080/"
        },
        "outputId": "c905007c-7b21-4f88-c001-07a4cde1bb8e"
      },
      "source": [
        "t = 'a', 5, 12.345, (2, 'b')\n",
        "t"
      ],
      "execution_count": 19,
      "outputs": [
        {
          "output_type": "execute_result",
          "data": {
            "text/plain": [
              "('a', 5, 12.345, (2, 'b'))"
            ]
          },
          "metadata": {},
          "execution_count": 19
        }
      ]
    },
    {
      "cell_type": "markdown",
      "metadata": {
        "id": "pNp-uu_b8rpY"
      },
      "source": [
        "Tuple нельзя изменять. Давайте в этом убедимся:"
      ]
    },
    {
      "cell_type": "code",
      "metadata": {
        "id": "6X8c3kDr8qKO",
        "outputId": "38782b3f-8689-4f6d-8e24-d7997837f6c3",
        "colab": {
          "base_uri": "https://localhost:8080/",
          "height": 144
        }
      },
      "source": [
        "t.append(5)"
      ],
      "execution_count": 20,
      "outputs": [
        {
          "output_type": "error",
          "ename": "AttributeError",
          "evalue": "'tuple' object has no attribute 'append'",
          "traceback": [
            "\u001b[0;31m---------------------------------------------------------------------------\u001b[0m",
            "\u001b[0;31mAttributeError\u001b[0m                            Traceback (most recent call last)",
            "\u001b[0;32m<ipython-input-20-7bc26d8122b5>\u001b[0m in \u001b[0;36m<cell line: 1>\u001b[0;34m()\u001b[0m\n\u001b[0;32m----> 1\u001b[0;31m \u001b[0mt\u001b[0m\u001b[0;34m.\u001b[0m\u001b[0mappend\u001b[0m\u001b[0;34m(\u001b[0m\u001b[0;36m5\u001b[0m\u001b[0;34m)\u001b[0m\u001b[0;34m\u001b[0m\u001b[0;34m\u001b[0m\u001b[0m\n\u001b[0m",
            "\u001b[0;31mAttributeError\u001b[0m: 'tuple' object has no attribute 'append'"
          ]
        }
      ]
    },
    {
      "cell_type": "code",
      "metadata": {
        "id": "4UzHGykf8tIm",
        "outputId": "1f5fb8f2-026c-4a12-bf59-404d375b3128",
        "colab": {
          "base_uri": "https://localhost:8080/",
          "height": 144
        }
      },
      "source": [
        "t[0] = 9"
      ],
      "execution_count": 22,
      "outputs": [
        {
          "output_type": "error",
          "ename": "TypeError",
          "evalue": "'tuple' object does not support item assignment",
          "traceback": [
            "\u001b[0;31m---------------------------------------------------------------------------\u001b[0m",
            "\u001b[0;31mTypeError\u001b[0m                                 Traceback (most recent call last)",
            "\u001b[0;32m<ipython-input-22-9a6f3bfc01f7>\u001b[0m in \u001b[0;36m<cell line: 1>\u001b[0;34m()\u001b[0m\n\u001b[0;32m----> 1\u001b[0;31m \u001b[0mt\u001b[0m\u001b[0;34m[\u001b[0m\u001b[0;36m0\u001b[0m\u001b[0;34m]\u001b[0m \u001b[0;34m=\u001b[0m \u001b[0;36m9\u001b[0m\u001b[0;34m\u001b[0m\u001b[0;34m\u001b[0m\u001b[0m\n\u001b[0m",
            "\u001b[0;31mTypeError\u001b[0m: 'tuple' object does not support item assignment"
          ]
        }
      ]
    },
    {
      "cell_type": "markdown",
      "metadata": {
        "id": "X8fWO93b8vOE"
      },
      "source": [
        "Но получать элементы по индексу и срезам, конечно, можно (tuple же iterable):"
      ]
    },
    {
      "cell_type": "code",
      "metadata": {
        "id": "aFjAQ4RS8t9u",
        "outputId": "8bd4e4c3-758e-4ce9-aa1c-82eb0924df25",
        "colab": {
          "base_uri": "https://localhost:8080/"
        }
      },
      "source": [
        "print(t[2])\n",
        "print(t.index(5))\n",
        "print(t[:2])"
      ],
      "execution_count": 23,
      "outputs": [
        {
          "output_type": "stream",
          "name": "stdout",
          "text": [
            "12.345\n",
            "1\n",
            "('a', 5)\n"
          ]
        }
      ]
    },
    {
      "cell_type": "markdown",
      "metadata": {
        "id": "PA3nqEPe8xsW"
      },
      "source": [
        "Как и list, кортежи можно складывать и работает сложение так же, как в list\n",
        "\n",
        "(вообще, с кортежами можно делать все, что можно делать с list, если это не изменяет кортеж)"
      ]
    },
    {
      "cell_type": "code",
      "metadata": {
        "id": "JTwqdT9G8w2W",
        "outputId": "73f8f7f1-6610-4438-9ebf-9231f83a0370",
        "colab": {
          "base_uri": "https://localhost:8080/"
        }
      },
      "source": [
        "m = (1, 2, 3)\n",
        "# складывать (возвращается новый кортеж, исходный естественно не изменяется)\n",
        "print(t + m)\n",
        "# узнать размер\n",
        "print(len(t))\n",
        "# проверить наличие элемента\n",
        "print(5 in t)"
      ],
      "execution_count": 24,
      "outputs": [
        {
          "output_type": "stream",
          "name": "stdout",
          "text": [
            "('a', 5, 12.345, (2, 'b'), 1, 2, 3)\n",
            "4\n",
            "True\n"
          ]
        }
      ]
    },
    {
      "cell_type": "code",
      "metadata": {
        "id": "XXAUjhR58yjF",
        "outputId": "76029be4-0b3e-4a26-8481-1f664b5da395",
        "colab": {
          "base_uri": "https://localhost:8080/"
        }
      },
      "source": [
        "a = [1, 2, 3]\n",
        "b = a\n",
        "b[0] = 49\n",
        "print(a)"
      ],
      "execution_count": 25,
      "outputs": [
        {
          "output_type": "stream",
          "name": "stdout",
          "text": [
            "[49, 2, 3]\n"
          ]
        }
      ]
    },
    {
      "cell_type": "markdown",
      "metadata": {
        "id": "edmyAo3n_ytz"
      },
      "source": [
        "### **Множество (set)**"
      ]
    },
    {
      "cell_type": "markdown",
      "metadata": {
        "id": "J6zOSkZU_0_3"
      },
      "source": [
        "**Множество** (`set`) — это неупорядоченная коллекция уникальных элементов. В отличие от списка (`list`), множество не допускает повторяющихся элементов и не сохраняет порядок элементов. Элементы множества хранятся таким образом, что доступ к ним осуществляется очень быстро, но они не имеют определённого индекса, поэтому обращаться к элементам по индексу невозможно.\n",
        "\n",
        "Множества используются для хранения уникальных элементов и позволяют эффективно выполнять операции проверки принадлежности, удаления дубликатов из последовательностей и выполнять математические операции над множествами, такие как объединение, пересечение, разность и симметрическая разность.\n",
        "\n",
        "Пустое множество создаётся с помощью функции `set()`. Обратите внимание, что использование пустых фигурных скобок `{}` создаст пустой словарь, а не множество.\n",
        "\n",
        "Примеры создания множества:"
      ]
    },
    {
      "cell_type": "code",
      "metadata": {
        "id": "t4CfqlPj_upB",
        "outputId": "32fc8a67-cad1-483c-fedf-6cd7c2a3b629",
        "colab": {
          "base_uri": "https://localhost:8080/"
        }
      },
      "source": [
        "s = set()\n",
        "\n",
        "print(s, '|', type(s))"
      ],
      "execution_count": 26,
      "outputs": [
        {
          "output_type": "stream",
          "name": "stdout",
          "text": [
            "set() | <class 'set'>\n"
          ]
        }
      ]
    },
    {
      "cell_type": "markdown",
      "metadata": {
        "id": "ywxlLBfv_3AM"
      },
      "source": [
        "А можно привести список к множеству:\n",
        "\n",
        "Обратите внимание, что элементы сета (множества) выводятся в отсортированном порядке!"
      ]
    },
    {
      "cell_type": "code",
      "metadata": {
        "id": "5YxMXi-P_2Ch",
        "outputId": "a0dfe084-f31a-4729-a95c-7c8887981534",
        "colab": {
          "base_uri": "https://localhost:8080/"
        }
      },
      "source": [
        "s = set([5, 2, 3, 2])\n",
        "s"
      ],
      "execution_count": 27,
      "outputs": [
        {
          "output_type": "execute_result",
          "data": {
            "text/plain": [
              "{2, 3, 5}"
            ]
          },
          "metadata": {},
          "execution_count": 27
        }
      ]
    },
    {
      "cell_type": "markdown",
      "metadata": {
        "id": "Z5wWwBjh_5mq"
      },
      "source": [
        "Можно добавлять элементы в множество с помощью метода `.add()`:"
      ]
    },
    {
      "cell_type": "code",
      "metadata": {
        "id": "Izh5dVV0_4Vp",
        "outputId": "ce734d41-b23c-46c6-ba82-ecc88b13d7e9",
        "colab": {
          "base_uri": "https://localhost:8080/"
        }
      },
      "source": [
        "s.add(1)\n",
        "s.add('a')\n",
        "# None тоже можно добавить\n",
        "s.add(None)\n",
        "s.add('bullet')\n",
        "print(s)"
      ],
      "execution_count": 28,
      "outputs": [
        {
          "output_type": "stream",
          "name": "stdout",
          "text": [
            "{1, 2, 3, 5, 'bullet', 'a', None}\n"
          ]
        }
      ]
    },
    {
      "cell_type": "markdown",
      "metadata": {
        "id": "gSpwLmAW_76U"
      },
      "source": [
        "Метод .difference() позволяет получить элементы, которые есть в одном сете, но нет в другом:"
      ]
    },
    {
      "cell_type": "code",
      "metadata": {
        "id": "EYocAZdK_6m5",
        "outputId": "fc6c1b66-5e68-449e-cf1e-e5681f826956",
        "colab": {
          "base_uri": "https://localhost:8080/"
        }
      },
      "source": [
        "s1 = set(range(0, 10))\n",
        "s2 = set(range(5, 15))\n",
        "\n",
        "print('s1: ', s1, '\\ns2: ', s2)"
      ],
      "execution_count": 29,
      "outputs": [
        {
          "output_type": "stream",
          "name": "stdout",
          "text": [
            "s1:  {0, 1, 2, 3, 4, 5, 6, 7, 8, 9} \n",
            "s2:  {5, 6, 7, 8, 9, 10, 11, 12, 13, 14}\n"
          ]
        }
      ]
    },
    {
      "cell_type": "code",
      "metadata": {
        "id": "c6jm1z9S_9DJ",
        "outputId": "d78a67fc-6014-41f9-d409-60e313074845",
        "colab": {
          "base_uri": "https://localhost:8080/"
        }
      },
      "source": [
        "# элементы, которые есть в s1, но нет в s2\n",
        "print(s1.difference(s2))\n",
        "print()\n",
        "# элементы, которые есть в s2, но нет в s1\n",
        "print(s2.difference(s1))"
      ],
      "execution_count": 30,
      "outputs": [
        {
          "output_type": "stream",
          "name": "stdout",
          "text": [
            "{0, 1, 2, 3, 4}\n",
            "\n",
            "{10, 11, 12, 13, 14}\n"
          ]
        }
      ]
    },
    {
      "cell_type": "code",
      "metadata": {
        "id": "X-6p952Y_-Kx",
        "outputId": "e0485229-2085-4be3-8166-3cbf8bd1fd9d",
        "colab": {
          "base_uri": "https://localhost:8080/"
        }
      },
      "source": [
        "# пересечение множеств s1 и s2 можно записать двумя способами:\n",
        "print(s1.intersection(s2))\n",
        "print(s1 & s2)"
      ],
      "execution_count": 31,
      "outputs": [
        {
          "output_type": "stream",
          "name": "stdout",
          "text": [
            "{5, 6, 7, 8, 9}\n",
            "{5, 6, 7, 8, 9}\n"
          ]
        }
      ]
    },
    {
      "cell_type": "code",
      "metadata": {
        "id": "-kMpXkwu__sx",
        "outputId": "e73659c5-db9f-440e-af03-85b1feb97815",
        "colab": {
          "base_uri": "https://localhost:8080/"
        }
      },
      "source": [
        "# объединение множеств s1 и s2 тоже можно записать двумя способами:\n",
        "print(s1.union(s2))\n",
        "print(s1 | s2)"
      ],
      "execution_count": 32,
      "outputs": [
        {
          "output_type": "stream",
          "name": "stdout",
          "text": [
            "{0, 1, 2, 3, 4, 5, 6, 7, 8, 9, 10, 11, 12, 13, 14}\n",
            "{0, 1, 2, 3, 4, 5, 6, 7, 8, 9, 10, 11, 12, 13, 14}\n"
          ]
        }
      ]
    },
    {
      "cell_type": "markdown",
      "metadata": {
        "id": "ldRRTP8MACOt"
      },
      "source": [
        "Из сета можно удалить элемент по значению:"
      ]
    },
    {
      "cell_type": "code",
      "metadata": {
        "id": "A7utc1iRABDp",
        "outputId": "2621e105-f8d9-4fbe-8d0b-a386af0f1a97",
        "colab": {
          "base_uri": "https://localhost:8080/"
        }
      },
      "source": [
        "s1.discard(0)\n",
        "s1"
      ],
      "execution_count": 33,
      "outputs": [
        {
          "output_type": "execute_result",
          "data": {
            "text/plain": [
              "{1, 2, 3, 4, 5, 6, 7, 8, 9}"
            ]
          },
          "metadata": {},
          "execution_count": 33
        }
      ]
    },
    {
      "cell_type": "code",
      "metadata": {
        "id": "bkWmaY9VADGg"
      },
      "source": [
        "l = [1, 2, 3]\n",
        "if 4 in l:\n",
        "    # pass - ничего не делать, иначе получим ошибку, что нету кода\n",
        "    pass\n",
        "\n",
        "s = set(l)\n",
        "if 4 in s:\n",
        "    pass"
      ],
      "execution_count": 34,
      "outputs": []
    },
    {
      "cell_type": "markdown",
      "source": [
        "**Еще о свойствах множеств:**\n",
        "\n",
        "- **Неоднородность**.\n",
        "\n",
        "Множество может быть неоднородным — действительно, множество может содержать элементы разных типов, при условии, что эти элементы являются хэшируемыми. Это означает, что элементы должны быть неизменяемыми объектами, такими как числа (`int`, `float`), строки (`str`), кортежи (`tuple`), содержащие хэшируемые элементы, и т.д.\n",
        "\n",
        "- **Уникальность**\n",
        "\n",
        "Множество всегда состоит только из уникальных элементов (дубли запрещены). При попытке добавить в множество элемент, который уже присутствует, никаких изменений не произойдет. Это отличает множества от списков и кортежей, которые могут содержать повторяющиеся элементы.\n",
        "\n",
        "- **Хэшируемость**\n",
        "\n",
        "Объект `set` — это коллекция уникальных хэшируемых объектов. Объект называется хэшируемым, если на протяжении его жизни значение хэша остаётся неизменным. Это достигается тем, что объект неизменяем. Хэшируемость важна для множеств, поскольку они используют хэш-значения элементов для организации внутренней структуры данных (обычно хеш-таблицы). Это же требование хэшируемости распространяется на ключи словарей.\n",
        "\n",
        "- **Применение**\n",
        "\n",
        "Множества используются для проверки принадлежности, удаления повторов и выполнения математических операций — абсолютно верно. Множества предоставляют эффективные методы для операций объединения (`union`), пересечения (`intersection`), разности (`difference`) и симметричной разности (`symmetric_difference`). Кроме того, они полезны для удаления дубликатов из последовательностей и быстрой проверки наличия элемента."
      ],
      "metadata": {
        "id": "yhz86feTnZyx"
      }
    },
    {
      "cell_type": "markdown",
      "source": [
        "#### **Основные методы объектов класса Set:**"
      ],
      "metadata": {
        "id": "2ExXUvXNnN0V"
      }
    },
    {
      "cell_type": "code",
      "source": [
        "a = set() # создаём пустое множество a\n",
        "\n",
        "print(a)\n",
        "print(type(a))"
      ],
      "metadata": {
        "id": "mszD2uzonHLH",
        "outputId": "20f34caf-885b-47a3-c318-3bd7a8a4cf73",
        "colab": {
          "base_uri": "https://localhost:8080/"
        }
      },
      "execution_count": 51,
      "outputs": [
        {
          "output_type": "stream",
          "name": "stdout",
          "text": [
            "set()\n",
            "<class 'set'>\n"
          ]
        }
      ]
    },
    {
      "cell_type": "code",
      "source": [
        "b = {} # используя пустые фигурные скобки по умолчанию создается словарь, не множество !\n",
        "print(type(b))"
      ],
      "metadata": {
        "id": "mexJ2QX6nIhx",
        "outputId": "ed657795-4206-4e34-fee3-e0d84bd63660",
        "colab": {
          "base_uri": "https://localhost:8080/"
        }
      },
      "execution_count": 52,
      "outputs": [
        {
          "output_type": "stream",
          "name": "stdout",
          "text": [
            "<class 'dict'>\n"
          ]
        }
      ]
    },
    {
      "cell_type": "code",
      "source": [
        "b = {\"self\", 1, (1,2, 3)} # объявляем и инициализируем множество b. Способ 1\n",
        "print(b)\n",
        "print(type(b))"
      ],
      "metadata": {
        "id": "8pmanCUQnLu6",
        "outputId": "3583bf49-0b9d-447e-bcba-3f4f0ffeda94",
        "colab": {
          "base_uri": "https://localhost:8080/"
        }
      },
      "execution_count": 53,
      "outputs": [
        {
          "output_type": "stream",
          "name": "stdout",
          "text": [
            "{1, 'self', (1, 2, 3)}\n",
            "<class 'set'>\n"
          ]
        }
      ]
    },
    {
      "cell_type": "code",
      "source": [
        "b = set((\"self\", 1, (1,2, 3))) # объявляем и инициализируем множество b. Способ 2\n",
        "print(b)\n",
        "print(type(b))"
      ],
      "metadata": {
        "id": "cD894Gc0nN_6",
        "outputId": "041f9155-dd58-42ea-f41e-8e08d9018baf",
        "colab": {
          "base_uri": "https://localhost:8080/"
        }
      },
      "execution_count": 54,
      "outputs": [
        {
          "output_type": "stream",
          "name": "stdout",
          "text": [
            "{1, 'self', (1, 2, 3)}\n",
            "<class 'set'>\n"
          ]
        }
      ]
    },
    {
      "cell_type": "code",
      "source": [
        "a.add(2) # добавление одного элемента во множество a\n",
        "print(a)"
      ],
      "metadata": {
        "id": "IWEFEjkNnQOk",
        "outputId": "fd5e1743-122b-43b1-ebfa-2f8800e28f64",
        "colab": {
          "base_uri": "https://localhost:8080/"
        }
      },
      "execution_count": 55,
      "outputs": [
        {
          "output_type": "stream",
          "name": "stdout",
          "text": [
            "{2}\n"
          ]
        }
      ]
    },
    {
      "cell_type": "code",
      "source": [
        "a.update((3,4,5,6)) # добавление нескольких элементов во множество a\n",
        "print(a)"
      ],
      "metadata": {
        "id": "aTLwVwa9nR3F",
        "outputId": "8909ea01-e079-4712-e3f0-6b07b76feac6",
        "colab": {
          "base_uri": "https://localhost:8080/"
        }
      },
      "execution_count": 56,
      "outputs": [
        {
          "output_type": "stream",
          "name": "stdout",
          "text": [
            "{2, 3, 4, 5, 6}\n"
          ]
        }
      ]
    },
    {
      "cell_type": "code",
      "source": [
        "# запрещено добавлять элементы изменяемых типов, такие как список или словарь\n",
        "\n",
        "dict = {\"one\": 1}\n",
        "\n",
        "a.add(dict)\n",
        "print(a)"
      ],
      "metadata": {
        "id": "7aK9MASdnTWs",
        "outputId": "86383282-fac9-4ed6-8202-ff85462859be",
        "colab": {
          "base_uri": "https://localhost:8080/",
          "height": 198
        }
      },
      "execution_count": 57,
      "outputs": [
        {
          "output_type": "error",
          "ename": "TypeError",
          "evalue": "unhashable type: 'dict'",
          "traceback": [
            "\u001b[0;31m---------------------------------------------------------------------------\u001b[0m",
            "\u001b[0;31mTypeError\u001b[0m                                 Traceback (most recent call last)",
            "\u001b[0;32m<ipython-input-57-676c6a1649f8>\u001b[0m in \u001b[0;36m<cell line: 6>\u001b[0;34m()\u001b[0m\n\u001b[1;32m      4\u001b[0m \u001b[0mdict\u001b[0m \u001b[0;34m=\u001b[0m \u001b[0;34m{\u001b[0m\u001b[0;34m\"one\"\u001b[0m\u001b[0;34m:\u001b[0m \u001b[0;36m1\u001b[0m\u001b[0;34m}\u001b[0m\u001b[0;34m\u001b[0m\u001b[0;34m\u001b[0m\u001b[0m\n\u001b[1;32m      5\u001b[0m \u001b[0;34m\u001b[0m\u001b[0m\n\u001b[0;32m----> 6\u001b[0;31m \u001b[0ma\u001b[0m\u001b[0;34m.\u001b[0m\u001b[0madd\u001b[0m\u001b[0;34m(\u001b[0m\u001b[0mdict\u001b[0m\u001b[0;34m)\u001b[0m\u001b[0;34m\u001b[0m\u001b[0;34m\u001b[0m\u001b[0m\n\u001b[0m\u001b[1;32m      7\u001b[0m \u001b[0mprint\u001b[0m\u001b[0;34m(\u001b[0m\u001b[0ma\u001b[0m\u001b[0;34m)\u001b[0m\u001b[0;34m\u001b[0m\u001b[0;34m\u001b[0m\u001b[0m\n",
            "\u001b[0;31mTypeError\u001b[0m: unhashable type: 'dict'"
          ]
        }
      ]
    },
    {
      "cell_type": "code",
      "source": [
        "# но с помощью функции set() можно преобразовать любой контейнер в множество\n",
        "list_1 = [1,2,3]\n",
        "\n",
        "print(set(list_1))\n",
        "print(set(dict))"
      ],
      "metadata": {
        "id": "g-s9W8ZRnVaP",
        "outputId": "bd0a9a36-c7b4-48ab-9b3b-1e4d94a94da5",
        "colab": {
          "base_uri": "https://localhost:8080/"
        }
      },
      "execution_count": 58,
      "outputs": [
        {
          "output_type": "stream",
          "name": "stdout",
          "text": [
            "{1, 2, 3}\n",
            "{'one'}\n"
          ]
        }
      ]
    },
    {
      "cell_type": "code",
      "source": [
        "# Удаление элементов из множества\n",
        "\n",
        "set1 = {1, 2, 3, 4, 'a', 'p'}\n",
        "print(set1)"
      ],
      "metadata": {
        "id": "r6HG54CQn4Ij",
        "outputId": "de0c7129-9a23-4159-b4fa-ea5b75abdf0c",
        "colab": {
          "base_uri": "https://localhost:8080/"
        }
      },
      "execution_count": 59,
      "outputs": [
        {
          "output_type": "stream",
          "name": "stdout",
          "text": [
            "{1, 2, 3, 4, 'a', 'p'}\n"
          ]
        }
      ]
    },
    {
      "cell_type": "code",
      "source": [
        "set1.remove(2) #Метод remove() удаляет из множества конкретный элемент и возвращает ошибку в том случае, если его нет во множестве.\n",
        "print(set1)\n",
        "#set1.remove(5) # возникает ошибка"
      ],
      "metadata": {
        "id": "ySyTAgPHn6N9",
        "outputId": "93d0945e-ebf1-4c7f-c2c6-85680e77b454",
        "colab": {
          "base_uri": "https://localhost:8080/"
        }
      },
      "execution_count": 60,
      "outputs": [
        {
          "output_type": "stream",
          "name": "stdout",
          "text": [
            "{1, 3, 4, 'a', 'p'}\n"
          ]
        }
      ]
    },
    {
      "cell_type": "code",
      "source": [
        "set1 = {1, 3, 4, 'a', 'p'}\n",
        "print(set1)\n",
        "\n",
        "set1.discard('a') # Метод discard() удаляет конкретный элемент и НЕ возвращает ошибку, если тот не был найден во множестве.\n",
        "print(set1)\n",
        "\n",
        "set1.discard(6)\n",
        "print(set1) # ошибки не возникает"
      ],
      "metadata": {
        "id": "mszubATRn9s6",
        "outputId": "65e6e558-a38b-4f7c-8221-1578e8f29c34",
        "colab": {
          "base_uri": "https://localhost:8080/"
        }
      },
      "execution_count": 62,
      "outputs": [
        {
          "output_type": "stream",
          "name": "stdout",
          "text": [
            "{1, 3, 4, 'a', 'p'}\n",
            "{1, 3, 4, 'p'}\n",
            "{1, 3, 4, 'p'}\n"
          ]
        }
      ]
    },
    {
      "cell_type": "code",
      "source": [
        "set1 = {1, 2, 3, 4}\n",
        "set1.pop() #Метод pop() удаляет и возвращает по одному элементу за раз в случайном порядке. Set — это неупорядоченная коллекция, поэтому pop() не требует аргументов (индексов в этом случае). Метод pop() можно воспринимать как неконтролируемый способ удаления элементов по одному из множеств в Python.\n",
        "a = set1.pop()\n",
        "print(set1, a)"
      ],
      "metadata": {
        "id": "UwROyUGSoBgK"
      },
      "execution_count": null,
      "outputs": []
    },
    {
      "cell_type": "code",
      "source": [
        "#Проверка вхождения объекта во множество\n",
        "\n",
        "num_set = {1 ,3, 5, 7, 9, 10}\n",
        "print(num_set)\n",
        "\n",
        "print(7 in num_set)\n",
        "print(1 not in num_set)"
      ],
      "metadata": {
        "id": "29MjoTfWoDKO",
        "outputId": "a48af69d-cead-4dc3-fc46-4e7dabc15a08",
        "colab": {
          "base_uri": "https://localhost:8080/"
        }
      },
      "execution_count": 63,
      "outputs": [
        {
          "output_type": "stream",
          "name": "stdout",
          "text": [
            "{1, 3, 5, 7, 9, 10}\n",
            "True\n",
            "False\n"
          ]
        }
      ]
    },
    {
      "cell_type": "code",
      "source": [
        "# Количество элементов во множестве num_set\n",
        "print(len(num_set))"
      ],
      "metadata": {
        "id": "r4ktffV3oGTf",
        "outputId": "e497e823-6fa7-4469-a8b4-266eaa713600",
        "colab": {
          "base_uri": "https://localhost:8080/"
        }
      },
      "execution_count": 64,
      "outputs": [
        {
          "output_type": "stream",
          "name": "stdout",
          "text": [
            "6\n"
          ]
        }
      ]
    },
    {
      "cell_type": "code",
      "source": [
        "new_set = num_set.copy() # метод copy() — создает копию существующего множества и сохраняет ее в новом объекте.\n",
        "print(len(new_set))"
      ],
      "metadata": {
        "id": "OLKr57A5oJPn",
        "outputId": "421e51e3-244e-4d95-983d-47920b453046",
        "colab": {
          "base_uri": "https://localhost:8080/"
        }
      },
      "execution_count": 65,
      "outputs": [
        {
          "output_type": "stream",
          "name": "stdout",
          "text": [
            "6\n"
          ]
        }
      ]
    },
    {
      "cell_type": "code",
      "source": [
        "num_set.clear() # метод clear() —очищает множество (удаляет все элементы за раз)\n",
        "print(num_set)"
      ],
      "metadata": {
        "id": "m_Gh15bYoLPD",
        "outputId": "c3a6a3c0-6b76-4445-b61d-f4f25b47c397",
        "colab": {
          "base_uri": "https://localhost:8080/"
        }
      },
      "execution_count": 66,
      "outputs": [
        {
          "output_type": "stream",
          "name": "stdout",
          "text": [
            "set()\n"
          ]
        }
      ]
    },
    {
      "cell_type": "code",
      "source": [
        "del num_set # del — удаляет множество целиком"
      ],
      "metadata": {
        "id": "oKmIwk4-oM6p"
      },
      "execution_count": 67,
      "outputs": []
    },
    {
      "cell_type": "code",
      "source": [
        "#Операции множеств в Python\n",
        "\n",
        "# Объединение множеств\n",
        "#При использовании на двух множествах вы получаете новый объект, содержащий элементы обоих (без повторов). Операция объединения в Python выполняется двумя способам: с помощью символа | или метода union().\n",
        "\n",
        "A = {1, 2, 3}\n",
        "B = {2, 3, 4, 5}\n",
        "C = A | B  # используя символьный метод\n",
        "C = A.union(B) # используя метод union\n",
        "print(C)"
      ],
      "metadata": {
        "id": "JLcDc4JCoSZ1",
        "outputId": "5afd3cf0-508b-4b97-e151-be554f7e884c",
        "colab": {
          "base_uri": "https://localhost:8080/"
        }
      },
      "execution_count": 69,
      "outputs": [
        {
          "output_type": "stream",
          "name": "stdout",
          "text": [
            "{1, 2, 3, 4, 5}\n"
          ]
        }
      ]
    },
    {
      "cell_type": "code",
      "source": [
        "# Пересечение множеств\n",
        "# При использовании на двух множествах вы получаете новый объект, содержащий общие элементы обоих (без повторов). Операция пересечения выполняется двумя способами: с помощью символа & или метода intersection().\n",
        "\n",
        "A = {1, 2, 3, 4}\n",
        "B = {3,4,5,6}\n",
        "C = A & B  # используя символьный метод\n",
        "C = A.intersection(B)  # используя метод intersection\n",
        "print(C)"
      ],
      "metadata": {
        "id": "HmDUWUWToUo7",
        "outputId": "9b002e7f-0a77-400b-cdb1-b682dac34cfe",
        "colab": {
          "base_uri": "https://localhost:8080/"
        }
      },
      "execution_count": 70,
      "outputs": [
        {
          "output_type": "stream",
          "name": "stdout",
          "text": [
            "{3, 4}\n"
          ]
        }
      ]
    },
    {
      "cell_type": "code",
      "source": [
        "# Разность множеств\n",
        "#При использовании на двух множествах вы получаете новый объект, содержащий элементы, которые есть в первом, но не втором (в данном случае — в множестве “A”). Операция разности выполняется двумя способами: с помощью символа - или метода difference().\n",
        "\n",
        "A = {1, 2, 3, 4}\n",
        "B = {3,4,5,6}\n",
        "C = A - B # используя символьный метод\n",
        "C = A.difference(B) # используя метод difference\n",
        "print(C)"
      ],
      "metadata": {
        "id": "o3_rD1SBoVtD",
        "outputId": "44a40335-5b77-4933-eb19-4c24fce4d790",
        "colab": {
          "base_uri": "https://localhost:8080/"
        }
      },
      "execution_count": 71,
      "outputs": [
        {
          "output_type": "stream",
          "name": "stdout",
          "text": [
            "{1, 2}\n"
          ]
        }
      ]
    },
    {
      "cell_type": "code",
      "source": [
        "#Симметричная разность множеств\n",
        "#При использовании на двух множествах вы получаете новый объект, содержащий все элементы, кроме тех, что есть в обоих. Симметрическая разность выполняется двумя способами: с помощью символа ^ или метода symmetric_difference().\n",
        "\n",
        "C = A ^ B  # используя символьный метод\n",
        "C = A.symmetric_difference(B)  # используя метод symmetric_difference\n",
        "print(C)"
      ],
      "metadata": {
        "id": "7OBgZNp7oW3C",
        "outputId": "4ddb612e-eeef-41f3-b1e6-d2ed50905d91",
        "colab": {
          "base_uri": "https://localhost:8080/"
        }
      },
      "execution_count": 72,
      "outputs": [
        {
          "output_type": "stream",
          "name": "stdout",
          "text": [
            "{1, 2, 5, 6}\n"
          ]
        }
      ]
    },
    {
      "cell_type": "code",
      "source": [
        "#Подмножество и надмножество в Python\n",
        "#Множество B (SetB) называется подмножеством множества A (SetA), если все элементы SetB есть в SetA. Проверить на подмножество в Python можно двумя способами: с помощью символа <= или метода issubset(). Он возвращает True или False в зависимости от результата.\n",
        "\n",
        "A = {1, 2, 3, 4, 5}\n",
        "B = {2,3,4}\n",
        "print(B <= A)  # используя символьный метод\n",
        "print(B.issubset(A)) # используя метод issubset\n"
      ],
      "metadata": {
        "id": "EEJuQ99BoYWu",
        "outputId": "ad6a5199-13e6-463c-fdda-58ac344db2d9",
        "colab": {
          "base_uri": "https://localhost:8080/"
        }
      },
      "execution_count": 73,
      "outputs": [
        {
          "output_type": "stream",
          "name": "stdout",
          "text": [
            "True\n",
            "True\n"
          ]
        }
      ]
    },
    {
      "cell_type": "code",
      "source": [
        "# Множество A (SetA) называется надмножеством множества B (SetB), если все элементы SetB есть в SetA. Проверить на надмножество в Python можно двумя способами: с помощью символа >= или метода issuperset(). Он возвращает True или False в зависимости от результата.\n",
        "\n",
        "A = {1, 2, 3, 4, 5}\n",
        "B = {2,3,4}\n",
        "print(A >= B)  # используя символьный метод\n",
        "print (A.issuperset(B)) # используя метод issubset"
      ],
      "metadata": {
        "id": "rpJ2nnjgoanL",
        "outputId": "ec01bc08-34ce-41e3-f1e4-f1fdfaf57131",
        "colab": {
          "base_uri": "https://localhost:8080/"
        }
      },
      "execution_count": 74,
      "outputs": [
        {
          "output_type": "stream",
          "name": "stdout",
          "text": [
            "True\n",
            "True\n"
          ]
        }
      ]
    },
    {
      "cell_type": "code",
      "source": [
        "# Удаление дубликатов из списка путём преобразования его во множество и обратно\n",
        "\n",
        "List1 = [1, 2, 3, 5, 3, 2, 4, 7]\n",
        "print(List1)\n",
        "\n",
        "List_without_duplicate = set(List1)\n",
        "List1 = list(List_without_duplicate)\n",
        "print(List1)"
      ],
      "metadata": {
        "id": "3JOKRHYWocKn",
        "outputId": "245fdeb3-cc45-444c-9ae7-5609e9ce1195",
        "colab": {
          "base_uri": "https://localhost:8080/"
        }
      },
      "execution_count": 75,
      "outputs": [
        {
          "output_type": "stream",
          "name": "stdout",
          "text": [
            "[1, 2, 3, 5, 3, 2, 4, 7]\n",
            "[1, 2, 3, 4, 5, 7]\n"
          ]
        }
      ]
    },
    {
      "cell_type": "code",
      "source": [
        "# В одну строку:\n",
        "\n",
        "List1 = list(set(List1))\n",
        "print(List1)"
      ],
      "metadata": {
        "id": "IK5yIVrAnQnd",
        "outputId": "0370ada2-2104-4071-d15c-c8c83c46a470",
        "colab": {
          "base_uri": "https://localhost:8080/"
        }
      },
      "execution_count": 76,
      "outputs": [
        {
          "output_type": "stream",
          "name": "stdout",
          "text": [
            "[1, 2, 3, 4, 5, 7]\n"
          ]
        }
      ]
    },
    {
      "cell_type": "markdown",
      "metadata": {
        "id": "3xr8AszQAMC3"
      },
      "source": [
        "### **Словарь (dict)**"
      ]
    },
    {
      "cell_type": "markdown",
      "metadata": {
        "id": "ptBynFEVAOIE"
      },
      "source": [
        "**Словарь** (также известный как ассоциативный список) — это структура данных, которая хранит набор пар «ключ-значение», где каждый ключ уникален и связан с определённым значением. Основное свойство словаря — быстрый доступ к значениям по их ключам.\n",
        "\n",
        "В Python ключами в словаре могут быть любые объекты, которые являются неизменяемыми и хэшируемыми. К таким типам данных относятся:\n",
        "\n",
        "- **Числовые типы**: `int`, `float`, `complex`\n",
        "- **Логический тип**: `bool`\n",
        "- **Строки**: `str`\n",
        "- **Кортежи**: `tuple` (если все элементы внутри кортежа также неизменяемы и хэшируемы)\n",
        "- **Байтовые строки**: `bytes`\n",
        "- **Неизменяемые множества**: `frozenset`\n",
        "- **NoneType**: объект `None`\n",
        "- **Объекты пользовательских классов**, если они неизменяемы и реализуют методы `__hash__()` и `__eq__()`, обеспечивая корректное поведение при хешировании.\n",
        "\n",
        "Важно отметить, что изменяемые типы данных, такие как списки `list`, множества `set`, словари `dict`, и пользовательские объекты, которые могут менять свое состояние после создания, **не могут** быть ключами в словаре, так как они не являются хэшируемыми.\n",
        "\n",
        "Структуры данных `str`, `tuple`, `list`, которые мы ранее рассматривали, представляют собой упорядоченные коллекции элементов, доступ к которым осуществляется по целочисленным индексам из непрерывного диапазона `[0, n)`. В отличие от списков, словари позволяют использовать в качестве ключей более широкий спектр типов данных и не требуют, чтобы ключи были последовательными числами. Это особенно удобно, когда:\n",
        "\n",
        "- Необходимо использовать в качестве ключа другой тип данных (например, сопоставить именам людей (`str`) их даты рождения).\n",
        "- В качестве ключей нужно использовать числа, но не все значения из некоторого диапазона полезны (например, сопоставить определённым годам рождения великих писателей их имена, без необходимости создавать записи для всех возможных годов).\n",
        "\n",
        "Таким образом, словари являются гибким и эффективным средством для организации данных, где связь между ключами и значениями играет ключевую роль."
      ]
    },
    {
      "cell_type": "markdown",
      "metadata": {
        "id": "NAZDE-0hAP64"
      },
      "source": [
        "Пустой словарь можно создать либо с помощью `{}`, либо с `dict()`:"
      ]
    },
    {
      "cell_type": "code",
      "metadata": {
        "id": "ZC4DDa15AD-Z",
        "outputId": "feefa9b5-4be0-4af5-ad88-95f83819b3c6",
        "colab": {
          "base_uri": "https://localhost:8080/"
        }
      },
      "source": [
        "d = {}\n",
        "dd = dict()\n",
        "\n",
        "print(d == dd, '|', type(d))"
      ],
      "execution_count": 79,
      "outputs": [
        {
          "output_type": "stream",
          "name": "stdout",
          "text": [
            "True | <class 'dict'>\n"
          ]
        }
      ]
    },
    {
      "cell_type": "markdown",
      "metadata": {
        "id": "U4kgjSYWASVE"
      },
      "source": [
        "Добавим значение value по ключу key в словарь:"
      ]
    },
    {
      "cell_type": "code",
      "metadata": {
        "id": "VzKNCJg9ARSv",
        "outputId": "093ca337-f708-406b-c0a8-81243ff9617c",
        "colab": {
          "base_uri": "https://localhost:8080/"
        }
      },
      "source": [
        "key = 'b'\n",
        "value = 100\n",
        "\n",
        "d[key] = value\n",
        "d"
      ],
      "execution_count": 80,
      "outputs": [
        {
          "output_type": "execute_result",
          "data": {
            "text/plain": [
              "{'b': 100}"
            ]
          },
          "metadata": {},
          "execution_count": 80
        }
      ]
    },
    {
      "cell_type": "markdown",
      "metadata": {
        "id": "SSPvo6iFAUwe"
      },
      "source": [
        "Непустой словарь можно создать несколькими способами:"
      ]
    },
    {
      "cell_type": "code",
      "metadata": {
        "id": "TaVIfsBdATb3",
        "outputId": "856e654c-f49f-4fa1-8ca6-f9d0942fd327",
        "colab": {
          "base_uri": "https://localhost:8080/"
        }
      },
      "source": [
        "{\n",
        "    'зарплаты':{\n",
        "        'Петя':100000,\n",
        "        'Аня':100000,\n",
        "    },\n",
        "    'проекты':['']\n",
        "}"
      ],
      "execution_count": 81,
      "outputs": [
        {
          "output_type": "execute_result",
          "data": {
            "text/plain": [
              "{'зарплаты': {'Петя': 100000, 'Аня': 100000}, 'проекты': ['']}"
            ]
          },
          "metadata": {},
          "execution_count": 81
        }
      ]
    },
    {
      "cell_type": "code",
      "metadata": {
        "id": "s4NhnUaPAV2P",
        "outputId": "59912986-3694-41d2-8b46-684f21fce3d7",
        "colab": {
          "base_uri": "https://localhost:8080/"
        }
      },
      "source": [
        "d = {\n",
        "    'short': ['dict'],\n",
        "    'long': 'dictionary'\n",
        "}\n",
        "d"
      ],
      "execution_count": 82,
      "outputs": [
        {
          "output_type": "execute_result",
          "data": {
            "text/plain": [
              "{'short': ['dict'], 'long': 'dictionary'}"
            ]
          },
          "metadata": {},
          "execution_count": 82
        }
      ]
    },
    {
      "cell_type": "code",
      "metadata": {
        "id": "49AueevAAW-n",
        "outputId": "7b5b8d8b-efba-4b7a-f8fa-ac1cd23e75e2",
        "colab": {
          "base_uri": "https://localhost:8080/"
        }
      },
      "source": [
        "d = dict(short='dict', long='dictionary')\n",
        "d"
      ],
      "execution_count": 83,
      "outputs": [
        {
          "output_type": "execute_result",
          "data": {
            "text/plain": [
              "{'short': 'dict', 'long': 'dictionary'}"
            ]
          },
          "metadata": {},
          "execution_count": 83
        }
      ]
    },
    {
      "cell_type": "code",
      "metadata": {
        "id": "A-CKUinrAYH3",
        "outputId": "c8163daf-6cdd-40a4-8776-407d78ac4e6f",
        "colab": {
          "base_uri": "https://localhost:8080/"
        }
      },
      "source": [
        "d = dict([(1, 1), (2, 4)])\n",
        "d"
      ],
      "execution_count": 84,
      "outputs": [
        {
          "output_type": "execute_result",
          "data": {
            "text/plain": [
              "{1: 1, 2: 4}"
            ]
          },
          "metadata": {},
          "execution_count": 84
        }
      ]
    },
    {
      "cell_type": "markdown",
      "metadata": {
        "id": "W2or85XqAaQm"
      },
      "source": [
        "Создать дефолтный (со значениями по умолчанию) словарь с ключами из списка, значениями None:"
      ]
    },
    {
      "cell_type": "code",
      "metadata": {
        "id": "4JwTJ4M0AZYH",
        "outputId": "d78fd908-28c3-419f-c9b1-0e26ef0e3f7e",
        "colab": {
          "base_uri": "https://localhost:8080/"
        }
      },
      "source": [
        "d = dict.fromkeys(['a', 'b'])\n",
        "d"
      ],
      "execution_count": 85,
      "outputs": [
        {
          "output_type": "execute_result",
          "data": {
            "text/plain": [
              "{'a': None, 'b': None}"
            ]
          },
          "metadata": {},
          "execution_count": 85
        }
      ]
    },
    {
      "cell_type": "markdown",
      "metadata": {
        "id": "CfjTNR2xAf49"
      },
      "source": [
        "Создать дефолтный словарь с ключами из списка, всеми значениями по умолчанию 100:"
      ]
    },
    {
      "cell_type": "code",
      "metadata": {
        "id": "ey4wZ-ZIAeh2",
        "outputId": "6ddcbc77-e3b4-4b0f-a2db-cda28fa13488",
        "colab": {
          "base_uri": "https://localhost:8080/"
        }
      },
      "source": [
        "d = dict.fromkeys(['a', 'b'], 100)\n",
        "d"
      ],
      "execution_count": 86,
      "outputs": [
        {
          "output_type": "execute_result",
          "data": {
            "text/plain": [
              "{'a': 100, 'b': 100}"
            ]
          },
          "metadata": {},
          "execution_count": 86
        }
      ]
    },
    {
      "cell_type": "code",
      "metadata": {
        "id": "qV1IEdamAhS2",
        "outputId": "242fee75-111b-4dd8-b8cc-5ddc55ee7b04",
        "colab": {
          "base_uri": "https://localhost:8080/"
        }
      },
      "source": [
        "100 in d"
      ],
      "execution_count": 87,
      "outputs": [
        {
          "output_type": "execute_result",
          "data": {
            "text/plain": [
              "False"
            ]
          },
          "metadata": {},
          "execution_count": 87
        }
      ]
    },
    {
      "cell_type": "markdown",
      "metadata": {
        "id": "lmQncSIJAkbP"
      },
      "source": [
        "**dict comprehensions**\n",
        "\n",
        "Еще один способ объявления словаря: создадим словарь, где каждому целому числу от 0 до 6 поставим в соответствие квадрат этого числа:"
      ]
    },
    {
      "cell_type": "code",
      "metadata": {
        "id": "cBD6vzMHAjpP",
        "outputId": "b4323c0c-28d3-4b89-ce47-92f5b814f671",
        "colab": {
          "base_uri": "https://localhost:8080/"
        }
      },
      "source": [
        "d = {a: a ** 2 for a in range(7)}\n",
        "d"
      ],
      "execution_count": 88,
      "outputs": [
        {
          "output_type": "execute_result",
          "data": {
            "text/plain": [
              "{0: 0, 1: 1, 2: 4, 3: 9, 4: 16, 5: 25, 6: 36}"
            ]
          },
          "metadata": {},
          "execution_count": 88
        }
      ]
    },
    {
      "cell_type": "markdown",
      "metadata": {
        "id": "fwGyY5acAmku"
      },
      "source": [
        "Будьте осторожны, если ключа, по которому поступил запрос, нет в словаре, то выбросит исключение:"
      ]
    },
    {
      "cell_type": "code",
      "metadata": {
        "id": "rp6T7KIQAiKl",
        "outputId": "93334f8b-aa04-49a2-b538-83fd3b6e3157",
        "colab": {
          "base_uri": "https://localhost:8080/",
          "height": 162
        }
      },
      "source": [
        "d = {1: 100, 2: 200, 3: 300}\n",
        "d['a']"
      ],
      "execution_count": 89,
      "outputs": [
        {
          "output_type": "error",
          "ename": "KeyError",
          "evalue": "'a'",
          "traceback": [
            "\u001b[0;31m---------------------------------------------------------------------------\u001b[0m",
            "\u001b[0;31mKeyError\u001b[0m                                  Traceback (most recent call last)",
            "\u001b[0;32m<ipython-input-89-c3e9e00fc198>\u001b[0m in \u001b[0;36m<cell line: 2>\u001b[0;34m()\u001b[0m\n\u001b[1;32m      1\u001b[0m \u001b[0md\u001b[0m \u001b[0;34m=\u001b[0m \u001b[0;34m{\u001b[0m\u001b[0;36m1\u001b[0m\u001b[0;34m:\u001b[0m \u001b[0;36m100\u001b[0m\u001b[0;34m,\u001b[0m \u001b[0;36m2\u001b[0m\u001b[0;34m:\u001b[0m \u001b[0;36m200\u001b[0m\u001b[0;34m,\u001b[0m \u001b[0;36m3\u001b[0m\u001b[0;34m:\u001b[0m \u001b[0;36m300\u001b[0m\u001b[0;34m}\u001b[0m\u001b[0;34m\u001b[0m\u001b[0;34m\u001b[0m\u001b[0m\n\u001b[0;32m----> 2\u001b[0;31m \u001b[0md\u001b[0m\u001b[0;34m[\u001b[0m\u001b[0;34m'a'\u001b[0m\u001b[0;34m]\u001b[0m\u001b[0;34m\u001b[0m\u001b[0;34m\u001b[0m\u001b[0m\n\u001b[0m",
            "\u001b[0;31mKeyError\u001b[0m: 'a'"
          ]
        }
      ]
    },
    {
      "cell_type": "markdown",
      "metadata": {
        "id": "eovdGkRKAo3R"
      },
      "source": [
        "Поэтому безопаснее использовать **get(key)**. Тогда, если нужно, можно проверить на **None**:"
      ]
    },
    {
      "cell_type": "code",
      "metadata": {
        "id": "5Oeeu4PSAnzM"
      },
      "source": [
        "d.get(123)"
      ],
      "execution_count": 90,
      "outputs": []
    },
    {
      "cell_type": "code",
      "metadata": {
        "id": "FOJrm-k0Ap49",
        "outputId": "4bb45e51-c677-4696-bd35-f31f0a6b36c6",
        "colab": {
          "base_uri": "https://localhost:8080/"
        }
      },
      "source": [
        "d.get('a') == None"
      ],
      "execution_count": 91,
      "outputs": [
        {
          "output_type": "execute_result",
          "data": {
            "text/plain": [
              "True"
            ]
          },
          "metadata": {},
          "execution_count": 91
        }
      ]
    },
    {
      "cell_type": "markdown",
      "metadata": {
        "id": "28BIBqq7Ar97"
      },
      "source": [
        "Самое часто используемое - получение ключей, получение значений и получение всего вместе:"
      ]
    },
    {
      "cell_type": "code",
      "metadata": {
        "id": "Du4omha9Aqpt",
        "outputId": "1eb9716e-706b-4353-a10d-079672209d7b",
        "colab": {
          "base_uri": "https://localhost:8080/"
        }
      },
      "source": [
        "# получить список ключей\n",
        "print(d.keys(), '|', type(d.keys()))\n",
        "\n",
        "# чтобы вывести ключи, нужно привести d.keys() к списку\n",
        "print(list(d.keys()))"
      ],
      "execution_count": 92,
      "outputs": [
        {
          "output_type": "stream",
          "name": "stdout",
          "text": [
            "dict_keys([1, 2, 3]) | <class 'dict_keys'>\n",
            "[1, 2, 3]\n"
          ]
        }
      ]
    },
    {
      "cell_type": "code",
      "metadata": {
        "id": "x9LjmzNEAtmV",
        "outputId": "0be87846-cd4a-457c-f5a1-00ebe43d1978",
        "colab": {
          "base_uri": "https://localhost:8080/"
        }
      },
      "source": [
        "# получить список значений\n",
        "print(d.values(), '|', type(d.values()))\n",
        "\n",
        "# то же самое -- чтобы вывести значения, нужно привести d.values() к списку\n",
        "print(list(d.values()))"
      ],
      "execution_count": 93,
      "outputs": [
        {
          "output_type": "stream",
          "name": "stdout",
          "text": [
            "dict_values([100, 200, 300]) | <class 'dict_values'>\n",
            "[100, 200, 300]\n"
          ]
        }
      ]
    },
    {
      "cell_type": "code",
      "metadata": {
        "id": "m2TI9wBoAwfl",
        "outputId": "c59723c8-9d2c-46d1-8b93-a14d6a0131c5",
        "colab": {
          "base_uri": "https://localhost:8080/"
        }
      },
      "source": [
        "# получить список пар ключ-значение\n",
        "print(d.items(), '|', type(d.items()))\n",
        "\n",
        "# то же самое -- чтобы вывести пары ключ-значения, нужно привести d.items() к списку\n",
        "print(list(d.items()))"
      ],
      "execution_count": 94,
      "outputs": [
        {
          "output_type": "stream",
          "name": "stdout",
          "text": [
            "dict_items([(1, 100), (2, 200), (3, 300)]) | <class 'dict_items'>\n",
            "[(1, 100), (2, 200), (3, 300)]\n"
          ]
        }
      ]
    },
    {
      "cell_type": "markdown",
      "source": [
        "#### Основные методы объектов класса Dict:"
      ],
      "metadata": {
        "id": "x5IzN8xxn1VI"
      }
    },
    {
      "cell_type": "markdown",
      "source": [
        "Словари (dict) в Python - неупорядоченные коллекции произвольных объектов с доступом по ключу. Их иногда ещё называют ассоциативными списками или хеш-таблицами."
      ],
      "metadata": {
        "id": "y1It-A7poHjn"
      }
    },
    {
      "cell_type": "code",
      "source": [
        "d = {}\n",
        "d = dict()\n",
        "\n",
        "d = {\n",
        "\t\"Vasya\":777,\n",
        "\t\"Petya\":328,\n",
        "\t\"Vanya\":543\n",
        "}\n",
        "\n",
        "\n",
        "print(\"Исходный словарь:\", d, \"\\n\")"
      ],
      "metadata": {
        "id": "2murD1eGryk_",
        "outputId": "59760fd5-226d-45e1-c01a-8119607ac9cb",
        "colab": {
          "base_uri": "https://localhost:8080/"
        }
      },
      "execution_count": 109,
      "outputs": [
        {
          "output_type": "stream",
          "name": "stdout",
          "text": [
            "Исходный словарь: {'Vasya': 777, 'Petya': 328, 'Vanya': 543} \n",
            "\n"
          ]
        }
      ]
    },
    {
      "cell_type": "code",
      "source": [
        "len(d) # Возвращает количество элементов в словаре d.\n",
        "print(len(d), \"\\n\")"
      ],
      "metadata": {
        "id": "b5YmOMVAr0Ku",
        "outputId": "635e76fc-e949-4313-9870-944e813a5a10",
        "colab": {
          "base_uri": "https://localhost:8080/"
        }
      },
      "execution_count": 110,
      "outputs": [
        {
          "output_type": "stream",
          "name": "stdout",
          "text": [
            "3 \n",
            "\n"
          ]
        }
      ]
    },
    {
      "cell_type": "code",
      "source": [
        "d[\"Vasya\"] # Возвращает элемент словаря d с ключом k.\n",
        "print(d[\"Vasya\"] , \"\\n\")"
      ],
      "metadata": {
        "id": "QSSrZPOor166",
        "outputId": "c2a425a1-1870-4b8c-ddb7-01cc16a82705",
        "colab": {
          "base_uri": "https://localhost:8080/"
        }
      },
      "execution_count": 111,
      "outputs": [
        {
          "output_type": "stream",
          "name": "stdout",
          "text": [
            "777 \n",
            "\n"
          ]
        }
      ]
    },
    {
      "cell_type": "code",
      "source": [
        "d[\"Vitya\"] = 178 # Записывает в элемент d[k] значение x.\n",
        "print(d , \"\\n\")"
      ],
      "metadata": {
        "id": "3lQFaFsJr3D-",
        "outputId": "f043f408-8502-4820-fea6-b94170bb40d0",
        "colab": {
          "base_uri": "https://localhost:8080/"
        }
      },
      "execution_count": 112,
      "outputs": [
        {
          "output_type": "stream",
          "name": "stdout",
          "text": [
            "{'Vasya': 777, 'Petya': 328, 'Vanya': 543, 'Vitya': 178} \n",
            "\n"
          ]
        }
      ]
    },
    {
      "cell_type": "code",
      "source": [
        "del d[\"Petya\"] # Удаляет элемент d[k] (по ключу).\n",
        "print(d , \"\\n\")"
      ],
      "metadata": {
        "id": "tl9EwUCzr41c",
        "outputId": "5a38b67e-6b15-478e-f714-8bfd309bda62",
        "colab": {
          "base_uri": "https://localhost:8080/"
        }
      },
      "execution_count": 113,
      "outputs": [
        {
          "output_type": "stream",
          "name": "stdout",
          "text": [
            "{'Vasya': 777, 'Vanya': 543, 'Vitya': 178} \n",
            "\n"
          ]
        }
      ]
    },
    {
      "cell_type": "code",
      "source": [
        "print(\"Petya\" in d) # Возвращает True, если ключ k присутствует в словаре d.\n",
        "print()"
      ],
      "metadata": {
        "id": "kwhca_lBr6Xk",
        "outputId": "dd77a1a8-639b-4903-a42c-76ffbcf9cbdd",
        "colab": {
          "base_uri": "https://localhost:8080/"
        }
      },
      "execution_count": 114,
      "outputs": [
        {
          "output_type": "stream",
          "name": "stdout",
          "text": [
            "False\n",
            "\n"
          ]
        }
      ]
    },
    {
      "cell_type": "code",
      "source": [
        "k = d.copy() # Создает копию словаря d.\n",
        "print(k , \"\\n\")"
      ],
      "metadata": {
        "id": "J6FxGACxr8iH",
        "outputId": "e1cca923-e15b-4f5c-c394-d472618bc022",
        "colab": {
          "base_uri": "https://localhost:8080/"
        }
      },
      "execution_count": 115,
      "outputs": [
        {
          "output_type": "stream",
          "name": "stdout",
          "text": [
            "{'Vasya': 777, 'Vanya': 543, 'Vitya': 178} \n",
            "\n"
          ]
        }
      ]
    },
    {
      "cell_type": "code",
      "source": [
        "k.clear() # Удаляет все элементы из словаря k.\n",
        "print(k , \"\\n\")"
      ],
      "metadata": {
        "id": "Ohzfv2eQr-wC",
        "outputId": "18aa54bc-2a16-442f-a2c9-66e810061959",
        "colab": {
          "base_uri": "https://localhost:8080/"
        }
      },
      "execution_count": 116,
      "outputs": [
        {
          "output_type": "stream",
          "name": "stdout",
          "text": [
            "{} \n",
            "\n"
          ]
        }
      ]
    },
    {
      "cell_type": "code",
      "source": [
        "c = dict.fromkeys([23, 34, \"Qwer\"], \"True\") # Создает новый словарь с ключами, перечисленными в последовательности s, а все значения устанавливает равными value.\n",
        "print(c , \"\\n\")"
      ],
      "metadata": {
        "id": "vxNBYYinsAHL",
        "outputId": "2412c203-8209-43d1-bb58-7d7256017ca7",
        "colab": {
          "base_uri": "https://localhost:8080/"
        }
      },
      "execution_count": 117,
      "outputs": [
        {
          "output_type": "stream",
          "name": "stdout",
          "text": [
            "{23: 'True', 34: 'True', 'Qwer': 'True'} \n",
            "\n"
          ]
        }
      ]
    },
    {
      "cell_type": "code",
      "source": [
        "d.get(\"Petya\", \"Элемента не существует!\") # Возвращает элемент d[k], если таковой имеется, в противном случае возвращает v.\n",
        "print(d.get(\"Petya\", \"Элемента не существует!\") , \"\\n\")"
      ],
      "metadata": {
        "id": "jtqgrWjNsBVq",
        "outputId": "3c355c2d-fa96-4576-8aab-c23db07c941f",
        "colab": {
          "base_uri": "https://localhost:8080/"
        }
      },
      "execution_count": 118,
      "outputs": [
        {
          "output_type": "stream",
          "name": "stdout",
          "text": [
            "Элемента не существует! \n",
            "\n"
          ]
        }
      ]
    },
    {
      "cell_type": "code",
      "source": [
        "d.items() # Возвращает последовательность пар (key, value).\n",
        "print(d.items() , \"\\n\")"
      ],
      "metadata": {
        "id": "iTAJMwHpsDjM",
        "outputId": "5d60d549-ae15-4031-da68-490b5bad8a29",
        "colab": {
          "base_uri": "https://localhost:8080/"
        }
      },
      "execution_count": 119,
      "outputs": [
        {
          "output_type": "stream",
          "name": "stdout",
          "text": [
            "dict_items([('Vasya', 777), ('Vanya', 543), ('Vitya', 178)]) \n",
            "\n"
          ]
        }
      ]
    },
    {
      "cell_type": "code",
      "source": [
        "d.keys() # Возвращает последовательность ключей.\n",
        "print(d.keys() , \"\\n\")"
      ],
      "metadata": {
        "id": "wfpwf3X-sE3N",
        "outputId": "e3d369b5-0b39-4ebf-8ee9-7f73c776f673",
        "colab": {
          "base_uri": "https://localhost:8080/"
        }
      },
      "execution_count": 120,
      "outputs": [
        {
          "output_type": "stream",
          "name": "stdout",
          "text": [
            "dict_keys(['Vasya', 'Vanya', 'Vitya']) \n",
            "\n"
          ]
        }
      ]
    },
    {
      "cell_type": "code",
      "source": [
        "d.values() # Возвращает последовательность всех значений в словаре d.\n",
        "print(d.values(), \"\\n\")"
      ],
      "metadata": {
        "id": "zb1EhbbFsGT0",
        "outputId": "bfeb5023-9a9e-4a8c-8978-c28339cc665f",
        "colab": {
          "base_uri": "https://localhost:8080/"
        }
      },
      "execution_count": 121,
      "outputs": [
        {
          "output_type": "stream",
          "name": "stdout",
          "text": [
            "dict_values([777, 543, 178]) \n",
            "\n"
          ]
        }
      ]
    },
    {
      "cell_type": "code",
      "source": [
        "d.pop(\"Vasya\" ,\"default\") # Возвращает элемент d[k], если таковой имеется, и удаляет его из словаря; в противном случае возвращает default, если этот аргумент указан, или возбуждает исключение KeyError.\n",
        "print(d , \"\\n\")"
      ],
      "metadata": {
        "id": "_6cVfyY4sIIw",
        "outputId": "5b1511cb-23df-4f36-89de-e5274cff9d49",
        "colab": {
          "base_uri": "https://localhost:8080/"
        }
      },
      "execution_count": 122,
      "outputs": [
        {
          "output_type": "stream",
          "name": "stdout",
          "text": [
            "{'Vanya': 543, 'Vitya': 178} \n",
            "\n"
          ]
        }
      ]
    },
    {
      "cell_type": "code",
      "source": [
        "d.popitem() # Удаляет из словаря случайную пару (key, value) и возвращает ее в виде кортежа.\n",
        "print(d , \"\\n\")"
      ],
      "metadata": {
        "id": "nJ2OZqiVsJgE",
        "outputId": "1b0afe08-f1bd-44b8-b5b1-434082e35e37",
        "colab": {
          "base_uri": "https://localhost:8080/"
        }
      },
      "execution_count": 123,
      "outputs": [
        {
          "output_type": "stream",
          "name": "stdout",
          "text": [
            "{'Vanya': 543} \n",
            "\n"
          ]
        }
      ]
    },
    {
      "cell_type": "code",
      "source": [
        "d.setdefault(\"Ibrahim\", 198) # Возвращает элемент d[k], если таковой имеется, в противном случае возвращает значение v и создает новый элемент словаря d[k] = v.\n",
        "print(d , \"\\n\")"
      ],
      "metadata": {
        "id": "XhYSenyIsLlt",
        "outputId": "1d5ecb18-2b1d-43f6-91e5-35aba6b6a4a5",
        "colab": {
          "base_uri": "https://localhost:8080/"
        }
      },
      "execution_count": 124,
      "outputs": [
        {
          "output_type": "stream",
          "name": "stdout",
          "text": [
            "{'Vanya': 543, 'Ibrahim': 198} \n",
            "\n"
          ]
        }
      ]
    },
    {
      "cell_type": "code",
      "source": [
        "b = {'Ahmed': 800, 'Shapi': 398}\n",
        "d.update(b) # Добавляет все объекты из b в словарь d.\n",
        "print(d , \"\\n\")"
      ],
      "metadata": {
        "id": "6yl8Fv0On4rk",
        "outputId": "44f4778d-15a9-42a1-a4b0-a1da744e6124",
        "colab": {
          "base_uri": "https://localhost:8080/"
        }
      },
      "execution_count": 125,
      "outputs": [
        {
          "output_type": "stream",
          "name": "stdout",
          "text": [
            "{'Vanya': 543, 'Ibrahim': 198, 'Ahmed': 800, 'Shapi': 398} \n",
            "\n"
          ]
        }
      ]
    },
    {
      "cell_type": "markdown",
      "metadata": {
        "id": "wZm-EuMW81KD"
      },
      "source": [
        "## **Циклы - for и while**\n",
        "\n"
      ]
    },
    {
      "cell_type": "markdown",
      "source": [
        "Итерируемые (iterable) стректуры данных так называются, потому что по ним можно *итерироваться* -- последовательно получать значения последовательных элементов этой структуры данных. Итерироваться можно с помощью циклов `for` или `while`.\n",
        "\n",
        "Синтаксис следующий:\n",
        "\n",
        "```\n",
        "for element in iterable:\n",
        "    <code>\n",
        "```\n",
        "\n",
        "В каждой новой итерации цикла в переменную *element* будет записываться очередное значение из контейнера *iterable*, и с ним можно будет работать внутри тела цикла (код). Когда код внутри тела цикла отработает, начнется новая итерация — в переменную element запишется следующее значение из *iterable*, и снова будет выполняться код.\n",
        "\n",
        "Код, который будет выполняться на каждой итерации цикла, записывается после двоеточия с отступом в 4 пробела от строки с for.\n",
        "\n",
        "Рассмотрим на примере:"
      ],
      "metadata": {
        "id": "TJnQ3Lix18OY"
      }
    },
    {
      "cell_type": "code",
      "metadata": {
        "id": "zUEHraOG80E1",
        "outputId": "46fff7f8-6116-4744-a3da-a94d2016993a",
        "colab": {
          "base_uri": "https://localhost:8080/"
        }
      },
      "source": [
        "# создадим list элементов\n",
        "models = ['decision tree', 'linear model', 'svm', 'ensemble']\n",
        "\n",
        "# итерируемся по названиям модели: каждую итерацию цикла в переменную model будет\n",
        "# записываться новое значение из models и оно будет использоваться для print(model)\n",
        "for model in models:\n",
        "    # тело цикла. Здесь с отступом в 4 пробела нужно описать код, который будет выполняться на каждой итерации цикла.\n",
        "    print(model)\n",
        "\n",
        "# этот код уже будет выполняться ПОСЛЕ цикла, потому что он записан без отступа в 4 пробела после for:\n",
        "print(\"Done\")\n",
        "print(model)"
      ],
      "execution_count": 126,
      "outputs": [
        {
          "output_type": "stream",
          "name": "stdout",
          "text": [
            "decision tree\n",
            "linear model\n",
            "svm\n",
            "ensemble\n",
            "Done\n",
            "ensemble\n"
          ]
        }
      ]
    },
    {
      "cell_type": "markdown",
      "metadata": {
        "id": "Kd38WGh987yz"
      },
      "source": [
        "**P.S.** Зметим, что каждую итерацию цикла в переменную model **копируется** очередное значение из models. Это значит, что если вы внутри цикла измените переменную model, соответствующее значение в списке models изменено **не будет**\n",
        "\n",
        "Синтаксис `while`:\n",
        "\n",
        "```\n",
        "while <условие (булевское выражение)>:\n",
        "    <code>\n",
        "```\n",
        "\n",
        "Здесь код, написанный вместо `code` будет выполняться каждую итерацию цикла, пока условие после `while` будет выполняться.\n",
        "\n",
        "Посмотрим на примере: Напишем цикл, в котором будем выводить переменную x и увеличивать x на 1, пока x не станет больше 10:"
      ]
    },
    {
      "cell_type": "code",
      "metadata": {
        "id": "d2sSMtPO842F",
        "outputId": "05f2a9fc-b49a-4e52-93aa-0920ae945932",
        "colab": {
          "base_uri": "https://localhost:8080/"
        }
      },
      "source": [
        "x = 1\n",
        "\n",
        "while x <= 10:\n",
        "    print(x)\n",
        "    # более удобный способ записи x = x + 1\n",
        "    x += 1"
      ],
      "execution_count": 131,
      "outputs": [
        {
          "output_type": "stream",
          "name": "stdout",
          "text": [
            "1\n",
            "2\n",
            "3\n",
            "4\n",
            "5\n",
            "6\n",
            "7\n",
            "8\n",
            "9\n",
            "10\n"
          ]
        }
      ]
    },
    {
      "cell_type": "markdown",
      "metadata": {
        "id": "pMvvjD5X9A70"
      },
      "source": [
        "Иногда бывает нужно прервать выполнение цикла при выполнении какого-то условия\n",
        "\n",
        "Например, мы хотим итерироваться по списку строк, на каждой итерации выводить строку на экран и прервать цико (перестать выводить строки), если мы встретили строку stop.\n",
        "\n",
        "Это делается с помощью ключевого слова `break`:"
      ]
    },
    {
      "cell_type": "code",
      "metadata": {
        "id": "M5aiUahh89Sl",
        "outputId": "68b83df6-de64-4af2-f8a0-a2214d488597",
        "colab": {
          "base_uri": "https://localhost:8080/"
        }
      },
      "source": [
        "mas = ['stroka1', 'stroka2', 'stroka3', 'stop', 'stroka4']\n",
        "\n",
        "for s in mas:\n",
        "    if s == 'stop':\n",
        "        break\n",
        "    print(s)"
      ],
      "execution_count": 132,
      "outputs": [
        {
          "output_type": "stream",
          "name": "stdout",
          "text": [
            "stroka1\n",
            "stroka2\n",
            "stroka3\n"
          ]
        }
      ]
    },
    {
      "cell_type": "markdown",
      "metadata": {
        "id": "XH_USWud9C6o"
      },
      "source": [
        "Иногда же хочется не прервать выполнение всего цикла, а прервать выполнение именно одной итерации цикла и продолжить цикл со следующей итерации.\n",
        "\n",
        "Например, мы так же, как в предыдущем примере, хотим итерироваться по списку строк и выводить строку на каждой итерации на экран, но не хотим выводить строку на экран, если эта строка равна 'null'.\n",
        "\n",
        "Это делается с помощью ключевого слова `continue`:"
      ]
    },
    {
      "cell_type": "code",
      "metadata": {
        "id": "IPSh9cTS9BzV",
        "outputId": "88cd44f4-4a0a-4248-c920-66ed5d112692",
        "colab": {
          "base_uri": "https://localhost:8080/"
        }
      },
      "source": [
        "mas = ['stroka1', 'null', 'stroka3', 'stop', 'null']\n",
        "\n",
        "for s in mas:\n",
        "    if s == 'null':\n",
        "        continue\n",
        "    print(s)"
      ],
      "execution_count": 133,
      "outputs": [
        {
          "output_type": "stream",
          "name": "stdout",
          "text": [
            "stroka1\n",
            "stroka3\n",
            "stop\n"
          ]
        }
      ]
    },
    {
      "cell_type": "markdown",
      "metadata": {
        "id": "7PSzniYeb7pi"
      },
      "source": [
        "### Объекты класса **range**\n",
        "\n",
        "Функция `range()` в Python — это встроенный инструмент для создания последовательности чисел, часто используемый в циклах. Она генерирует итерируемый объект, который можно использовать в цикле `for` для выполнения определенного количества итераций или для создания числовых последовательностей.\n",
        "\n",
        "Синтаксис `range()`:\n",
        "\n",
        "```python\n",
        "range(start, stop, step)\n",
        "```\n",
        "\n",
        "- `start` (необязательный): начальное значение последовательности (по умолчанию 0).\n",
        "- `stop` (обязательный): конечное значение последовательности (не включается в результат).\n",
        "- `step` (необязательный): шаг между числами в последовательности (по умолчанию 1).\n",
        "\n",
        "`range()` может принимать от одного до трех аргументов:\n",
        "\n",
        "1. `range(stop)`: создает последовательность от 0 до `stop - 1`.\n",
        "2. `range(start, stop)`: создает последовательность от `start` до `stop - 1`.\n",
        "3. `range(start, stop, step)`: создает последовательность от `start` до `stop - 1` с шагом `step`.\n",
        "\n",
        "`range()` особенно полезен, когда нужно выполнить цикл определенное количество раз или создать последовательность чисел. Он эффективен с точки зрения памяти, так как не создает список всех чисел сразу, а генерирует их по мере необходимости."
      ]
    },
    {
      "cell_type": "code",
      "metadata": {
        "id": "_fq7rzvbb7pi",
        "outputId": "c7216f23-1483-4a5b-a942-40c91d36d263",
        "colab": {
          "base_uri": "https://localhost:8080/"
        }
      },
      "source": [
        "r = range(1, 100, 10)\n",
        "#приведем возвращаемый iterable объект (range) к списку (list) и выведем на экран:\n",
        "print(list(r))"
      ],
      "execution_count": 127,
      "outputs": [
        {
          "output_type": "stream",
          "name": "stdout",
          "text": [
            "[1, 11, 21, 31, 41, 51, 61, 71, 81, 91]\n"
          ]
        }
      ]
    },
    {
      "cell_type": "markdown",
      "metadata": {
        "id": "dPgTS5T1b7pi"
      },
      "source": [
        "Теперь легко записать цикл:"
      ]
    },
    {
      "cell_type": "code",
      "metadata": {
        "id": "Iu8foJafb7pi",
        "outputId": "e5dcf97d-009a-4cf8-dd01-b62d7a938090",
        "colab": {
          "base_uri": "https://localhost:8080/"
        }
      },
      "source": [
        "for i in range(1, 10, 1):\n",
        "    print(i)\n",
        "# for(int i = 1; i < 10; i += 1){cout << i;}"
      ],
      "execution_count": 128,
      "outputs": [
        {
          "output_type": "stream",
          "name": "stdout",
          "text": [
            "1\n",
            "2\n",
            "3\n",
            "4\n",
            "5\n",
            "6\n",
            "7\n",
            "8\n",
            "9\n"
          ]
        }
      ]
    },
    {
      "cell_type": "markdown",
      "metadata": {
        "id": "wegdeVt6b7pi"
      },
      "source": [
        "Если у range не указывать последний алгумент step, он по умолчанию будет 1.\n",
        "\n",
        "А если указать всего один аргумент, то range выдаст iterable с началом в 0 и концом в этом аргументе:"
      ]
    },
    {
      "cell_type": "code",
      "metadata": {
        "id": "ac1Xvel6b7pj",
        "outputId": "1ae218b8-bc73-4a01-e4e9-58f2dd5d19c8",
        "colab": {
          "base_uri": "https://localhost:8080/"
        }
      },
      "source": [
        "list(range(4, 8))"
      ],
      "execution_count": 129,
      "outputs": [
        {
          "output_type": "execute_result",
          "data": {
            "text/plain": [
              "[4, 5, 6, 7]"
            ]
          },
          "metadata": {},
          "execution_count": 129
        }
      ]
    },
    {
      "cell_type": "code",
      "metadata": {
        "id": "xdeNWTRLb7pj",
        "outputId": "26210cbd-db3e-4245-c0f1-1a2de80916b7",
        "colab": {
          "base_uri": "https://localhost:8080/"
        }
      },
      "source": [
        "list(range(8))"
      ],
      "execution_count": 130,
      "outputs": [
        {
          "output_type": "execute_result",
          "data": {
            "text/plain": [
              "[0, 1, 2, 3, 4, 5, 6, 7]"
            ]
          },
          "metadata": {},
          "execution_count": 130
        }
      ]
    },
    {
      "cell_type": "markdown",
      "metadata": {
        "id": "bWRkzDJ2b7pj"
      },
      "source": [
        "С помощью range нетрудно переписать цикл, который мы писали выше, где итерировались по названиям моделей, так, чтобы элементы списка models  можно было изменять внутри цикла:"
      ]
    },
    {
      "cell_type": "code",
      "metadata": {
        "id": "al1-J1wZb7pj",
        "outputId": "a167e1ea-bee3-4956-94ad-67861bcb2fa8",
        "colab": {
          "base_uri": "https://localhost:8080/"
        }
      },
      "source": [
        "# создадим list элементов\n",
        "models = ['decision tree', 'linear model', 'svm', 'ensemble']\n",
        "\n",
        "# итерируемся по индексам списка models\n",
        "for i in range(len(models)):\n",
        "    # тут если вы поменяете models[i], то значение в models тоже изменится\n",
        "    print(models[i])\n",
        "\n",
        "# этот код уже будет выполняться ПОСЛЕ цикла, потому что он записан без отступа в 4 пробела после for:\n",
        "print(\"Done\")"
      ],
      "execution_count": 134,
      "outputs": [
        {
          "output_type": "stream",
          "name": "stdout",
          "text": [
            "decision tree\n",
            "linear model\n",
            "svm\n",
            "ensemble\n",
            "Done\n"
          ]
        }
      ]
    },
    {
      "cell_type": "markdown",
      "source": [
        "## **Генераторы списков (List comprehension)**"
      ],
      "metadata": {
        "id": "YbSTjhy3uhzm"
      }
    },
    {
      "cell_type": "markdown",
      "source": [
        "List comprehension - это компактный способ создания нового списка на основе существующего итерируемого объекта. Общий синтаксис:\n",
        "\n",
        "```python\n",
        "[expression for item in iterable if condition]\n",
        "```\n",
        "\n",
        "где:\n",
        "\n",
        "- `expression` - выражение, определяющее элементы нового списка. Это может быть простая переменная, преобразование исходного элемента или более сложное вычисление.\n",
        "- `item` - переменная-заполнитель, представляющая каждый элемент в исходном итерируемом объекте.\n",
        "- `iterable` - существующий итерируемый объект (например, список, кортеж, строка), по которому выполняется итерация.\n",
        "- `condition` - необязательное условие, позволяющее фильтровать элементы. Если условие указано, в новый список попадут только те элементы, для которых оно истинно.\n",
        "\n",
        "List comprehension позволяет создавать новые списки, применяя выражение к каждому элементу исходного итерируемого объекта, с возможностью дополнительной фильтрации по условию. Это более краткий и часто более читаемый способ по сравнению с традиционными циклами for."
      ],
      "metadata": {
        "id": "64gmuzpVujuU"
      }
    },
    {
      "cell_type": "markdown",
      "source": [
        "#### Примеры:\n",
        "\n"
      ],
      "metadata": {
        "id": "781XQbXduq1G"
      }
    },
    {
      "cell_type": "markdown",
      "source": [
        "##### **1. Простое преобразование:**"
      ],
      "metadata": {
        "id": "YFCsfDmjvEPs"
      }
    },
    {
      "cell_type": "code",
      "source": [
        "squares = [x**2 for x in range(10)]\n",
        "squares"
      ],
      "metadata": {
        "id": "8H896RJtuwhd",
        "outputId": "f9e73eef-1453-4a60-eca0-ebd09ccf4420",
        "colab": {
          "base_uri": "https://localhost:8080/"
        }
      },
      "execution_count": 140,
      "outputs": [
        {
          "output_type": "execute_result",
          "data": {
            "text/plain": [
              "[0, 1, 4, 9, 16, 25, 36, 49, 64, 81]"
            ]
          },
          "metadata": {},
          "execution_count": 140
        }
      ]
    },
    {
      "cell_type": "markdown",
      "source": [
        "Давайте подробно разберем выражение:\n",
        "\n",
        "1. `range(10)`:\n",
        "   - Это функция, которая создает последовательность чисел от 0 до 9 (10 не включается).\n",
        "   - Таким образом, `range(10)` генерирует числа: 0, 1, 2, 3, 4, 5, 6, 7, 8, 9.\n",
        "\n",
        "2. `for x in range(10)`:\n",
        "   - Это часть синтаксиса list comprehension, которая указывает, что мы будем итерироваться по всем числам, сгенерированным `range(10)`.\n",
        "   - Переменная `x` будет принимать значения от 0 до 9 последовательно.\n",
        "\n",
        "3. `x**2`:\n",
        "   - Это выражение, которое будет применяться к каждому `x`.\n",
        "   - Оператор `**` в Python означает возведение в степень.\n",
        "   - Таким образом, `x**2` возводит каждое число `x` в квадрат.\n",
        "\n",
        "4. `[x**2 for x in range(10)]`:\n",
        "   - Это полное выражение list comprehension.\n",
        "   - Оно создает новый список, где каждый элемент является квадратом соответствующего числа из `range(10)`.\n",
        "\n",
        "5. `squares =`:\n",
        "   - Результат list comprehension присваивается переменной `squares`.\n",
        "\n",
        "В итоге, `squares` будет содержать список квадратов чисел от 0 до 9:\n",
        "`[0, 1, 4, 9, 16, 25, 36, 49, 64, 81]`\n",
        "\n",
        "Это выражение эквивалентно следующему традиционному циклу:\n",
        "\n",
        "```python\n",
        "squares = []\n",
        "for x in range(10):\n",
        "    squares.append(x**2)\n",
        "```\n",
        "\n",
        "Но list comprehension делает код более компактным и часто более читаемым."
      ],
      "metadata": {
        "id": "w9t2EQK30e-H"
      }
    },
    {
      "cell_type": "markdown",
      "source": [
        "##### **2. С условием:**"
      ],
      "metadata": {
        "id": "ZJHdvSwCu1d3"
      }
    },
    {
      "cell_type": "code",
      "source": [
        "evens = [x for x in range(20) if x % 2 == 0]\n",
        "evens"
      ],
      "metadata": {
        "id": "xAOAzzJIvCHP",
        "outputId": "e860a412-992e-4c32-f353-cc7b578ddf2c",
        "colab": {
          "base_uri": "https://localhost:8080/"
        }
      },
      "execution_count": null,
      "outputs": [
        {
          "output_type": "execute_result",
          "data": {
            "text/plain": [
              "[0, 2, 4, 6, 8, 10, 12, 14, 16, 18]"
            ]
          },
          "metadata": {},
          "execution_count": 138
        }
      ]
    },
    {
      "cell_type": "markdown",
      "source": [
        "Разберем это выражение по частям:\n",
        "\n",
        "1. `range(20)`:\n",
        "   - Это функция, которая создает последовательность чисел от 0 до 19 (20 не включается).\n",
        "\n",
        "2. `for x in range(20)`:\n",
        "   - Эта часть указывает, что мы будем итерироваться по всем числам, сгенерированным `range(20)`.\n",
        "   - Переменная `x` будет принимать значения от 0 до 19 последовательно.\n",
        "\n",
        "3. `if x % 2 == 0`:\n",
        "   - Это условие фильтрации.\n",
        "   - Оператор `%` в Python - это остаток от деления.\n",
        "   - `x % 2 == 0` проверяет, делится ли `x` на 2 без остатка, то есть является ли число четным.\n",
        "\n",
        "4. `x for x in range(20) if x % 2 == 0`:\n",
        "   - Это полное выражение list comprehension.\n",
        "   - Оно создает новый список, включая только те значения `x`, которые удовлетворяют условию (то есть четные числа).\n",
        "\n",
        "5. `evens =`:\n",
        "   - Результат list comprehension присваивается переменной `evens`.\n",
        "\n",
        "В итоге, `evens` будет содержать список четных чисел от 0 до 18:\n",
        "`[0, 2, 4, 6, 8, 10, 12, 14, 16, 18]`\n",
        "\n",
        "Это выражение эквивалентно следующему традиционному циклу:\n",
        "\n",
        "```python\n",
        "evens = []\n",
        "for x in range(20):\n",
        "    if x % 2 == 0:\n",
        "        evens.append(x)\n",
        "```\n",
        "\n",
        "List comprehension в данном случае позволяет объединить создание списка, итерацию и фильтрацию в одну компактную строку кода."
      ],
      "metadata": {
        "id": "ZN5B0SRz0vn-"
      }
    },
    {
      "cell_type": "markdown",
      "source": [
        "##### **3. Вложенные циклы:**"
      ],
      "metadata": {
        "id": "UYfXpVnhu5tJ"
      }
    },
    {
      "cell_type": "code",
      "source": [
        "matrix = [[i*j for j in range(3)] for i in range(3)]\n",
        "matrix"
      ],
      "metadata": {
        "id": "D4Os4P7xvLym",
        "outputId": "14000637-0e99-417a-f53b-535b4c464313",
        "colab": {
          "base_uri": "https://localhost:8080/"
        }
      },
      "execution_count": 139,
      "outputs": [
        {
          "data": {
            "text/plain": [
              "[[0, 0, 0], [0, 1, 2], [0, 2, 4]]"
            ]
          },
          "execution_count": 139,
          "metadata": {},
          "output_type": "execute_result"
        }
      ]
    },
    {
      "cell_type": "markdown",
      "source": [
        "Это пример использования вложенного list comprehension в Python для создания двумерного списка (матрицы). Разберем его по частям:\n",
        "\n",
        "1. Внешний list comprehension:\n",
        "   `[... for i in range(3)]`\n",
        "   - Создает внешний список, где `i` принимает значения 0, 1, 2.\n",
        "   - Каждый элемент этого списка будет результатом внутреннего list comprehension.\n",
        "\n",
        "2. Внутренний list comprehension:\n",
        "   `[i*j for j in range(3)]`\n",
        "   - Для каждого значения `i` создается новый список.\n",
        "   - `j` также принимает значения 0, 1, 2.\n",
        "   - Каждый элемент этого внутреннего списка - результат умножения `i` на `j`.\n",
        "\n",
        "3. Результат:\n",
        "   - Создается матрица 3x3, где каждый элемент - произведение его индексов строки и столбца.\n",
        "\n",
        "Итоговая матрица будет выглядеть так:\n",
        "```python\n",
        "[\n",
        "  [0, 0, 0],  # i=0: 0*0, 0*1, 0*2\n",
        "  [0, 1, 2],  # i=1: 1*0, 1*1, 1*2\n",
        "  [0, 2, 4]   # i=2: 2*0, 2*1, 2*2\n",
        "]\n",
        "```\n",
        "\n",
        "Это выражение эквивалентно следующему традиционному вложенному циклу:\n",
        "\n",
        "```python\n",
        "matrix = []\n",
        "for i in range(3):\n",
        "    row = []\n",
        "    for j in range(3):\n",
        "        row.append(i*j)\n",
        "    matrix.append(row)\n",
        "```"
      ],
      "metadata": {
        "id": "7RRBRWMG1R1n"
      }
    },
    {
      "cell_type": "markdown",
      "source": [
        "##### 4. С функциями:"
      ],
      "metadata": {
        "id": "Df-P0dDUu5xz"
      }
    },
    {
      "cell_type": "code",
      "source": [
        "names = ['alice', 'bob', 'charlie']\n",
        "capitalized = [name.capitalize() for name in names]\n",
        "capitalized"
      ],
      "metadata": {
        "id": "h8n5NHwlvPvT",
        "outputId": "68acbdae-fe15-4eb1-ed25-f1189f4f916d",
        "colab": {
          "base_uri": "https://localhost:8080/"
        }
      },
      "execution_count": 141,
      "outputs": [
        {
          "output_type": "execute_result",
          "data": {
            "text/plain": [
              "['Alice', 'Bob', 'Charlie']"
            ]
          },
          "metadata": {},
          "execution_count": 141
        }
      ]
    },
    {
      "cell_type": "markdown",
      "source": [
        "Это пример использования list comprehension в Python для применения метода строки к каждому элементу списка.\n",
        "\n",
        "Разберем его по частям:\n",
        "\n",
        "1. `names = ['alice', 'bob', 'charlie']`:\n",
        "   - Создается исходный список `names`, содержащий три строки с именами в нижнем регистре.\n",
        "\n",
        "2. `[name.capitalize() for name in names]`:\n",
        "   - Это list comprehension, который создает новый список.\n",
        "   - `for name in names`: итерация по каждому элементу списка `names`.\n",
        "   - `name.capitalize()`: для каждого имени вызывается метод `capitalize()`.\n",
        "\n",
        "3. `name.capitalize()`:\n",
        "   - Метод `capitalize()` возвращает копию строки, где первый символ преобразован в верхний регистр, а остальные - в нижний.\n",
        "\n",
        "4. `capitalized =`:\n",
        "   - Результат list comprehension присваивается переменной `capitalized`.\n",
        "\n",
        "В итоге, `capitalized` будет содержать новый список, где каждое имя начинается с заглавной буквы:\n",
        "`['Alice', 'Bob', 'Charlie']`\n",
        "\n",
        "Это выражение эквивалентно следующему традиционному циклу:\n",
        "\n",
        "```python\n",
        "capitalized = []\n",
        "for name in names:\n",
        "    capitalized.append(name.capitalize())\n",
        "```"
      ],
      "metadata": {
        "id": "f6VRUiFP1hzl"
      }
    }
  ]
}