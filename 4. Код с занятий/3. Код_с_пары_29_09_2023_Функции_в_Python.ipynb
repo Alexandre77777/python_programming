{
  "cells": [
    {
      "cell_type": "markdown",
      "metadata": {
        "id": "view-in-github",
        "colab_type": "text"
      },
      "source": [
        "<a href=\"https://colab.research.google.com/github/Alexandre77777/python_programming/blob/main/4.%20%D0%9A%D0%BE%D0%B4%20%D1%81%20%D0%B7%D0%B0%D0%BD%D1%8F%D1%82%D0%B8%D0%B9/3.%20%D0%9A%D0%BE%D0%B4_%D1%81_%D0%BF%D0%B0%D1%80%D1%8B_29_09_2023_%D0%A4%D1%83%D0%BD%D0%BA%D1%86%D0%B8%D0%B8_%D0%B2_Python.ipynb\" target=\"_parent\"><img src=\"https://colab.research.google.com/assets/colab-badge.svg\" alt=\"Open In Colab\"/></a>"
      ]
    },
    {
      "cell_type": "markdown",
      "metadata": {
        "id": "CeHnf-yoSL7o"
      },
      "source": [
        "# Функции в Python\n",
        "\n",
        "***Фу́нкция в программировании (подпрограмма) — фрагмент программного кода, к которому можно обратиться из другого места программы.***\n",
        "\n",
        "Они принимают входные данные (аргументы) и возвращают результат. Функции могут быть встроены в программу или определены пользователем. Они позволяют разбивать программу на более мелкие и понятные части, а также облегчают чтение и поддержку кода.\n",
        "\n"
      ]
    },
    {
      "cell_type": "markdown",
      "source": [
        "## Определение функции\n",
        "\n",
        "В Python функция определяется с помощью ключевого слова `def`, за которым следует имя функции, круглые скобки с параметрами (если они есть) и двоеточие. Тело функции выделяется отступом."
      ],
      "metadata": {
        "id": "CGhjdQjhpgd5"
      }
    },
    {
      "cell_type": "markdown",
      "metadata": {
        "id": "fUoPF5uhSL7p"
      },
      "source": [
        "```python\n",
        "def имя_функции(параметры):\n",
        "    # Тело функции\n",
        "    return значение\n",
        "```"
      ]
    },
    {
      "cell_type": "markdown",
      "metadata": {
        "id": "FVeUTxxESL7p"
      },
      "source": [
        "### Пример простой функции"
      ]
    },
    {
      "cell_type": "code",
      "execution_count": null,
      "metadata": {
        "id": "E4c24HyjSL7p"
      },
      "outputs": [],
      "source": [
        "def greeting():\n",
        "    print(\"Здравствуйте!\")"
      ]
    },
    {
      "cell_type": "markdown",
      "metadata": {
        "id": "QJc3VB5MSL7q"
      },
      "source": [
        "Вызов функции:"
      ]
    },
    {
      "cell_type": "code",
      "execution_count": null,
      "metadata": {
        "colab": {
          "base_uri": "https://localhost:8080/"
        },
        "id": "Xz2pP3rVSL7q",
        "outputId": "ebda9632-7813-44bd-9b76-5ce6132c0865"
      },
      "outputs": [
        {
          "output_type": "stream",
          "name": "stdout",
          "text": [
            "Здравствуйте!\n"
          ]
        }
      ],
      "source": [
        "greeting()"
      ]
    },
    {
      "cell_type": "markdown",
      "metadata": {
        "id": "NjDJmnKbSL7q"
      },
      "source": [
        "## Параметры и аргументы\n",
        "\n",
        "Функции могут принимать входные данные — параметры, и использовать их внутри своего тела."
      ]
    },
    {
      "cell_type": "markdown",
      "metadata": {
        "id": "xBwvN0TBSL7q"
      },
      "source": [
        "### Функция с параметрами"
      ]
    },
    {
      "cell_type": "code",
      "execution_count": null,
      "metadata": {
        "id": "GMxz_NVUSL7q"
      },
      "outputs": [],
      "source": [
        "def greeting(name):\n",
        "    print(f\"Здравствуйте, {name}!\")"
      ]
    },
    {
      "cell_type": "markdown",
      "metadata": {
        "id": "bz03N4EESL7q"
      },
      "source": [
        "Вызов функции с аргументом:"
      ]
    },
    {
      "cell_type": "code",
      "execution_count": null,
      "metadata": {
        "colab": {
          "base_uri": "https://localhost:8080/"
        },
        "id": "QuOtVX81SL7q",
        "outputId": "2000c8b6-1120-4800-a330-50e8d171ac8c"
      },
      "outputs": [
        {
          "output_type": "stream",
          "name": "stdout",
          "text": [
            "Здравствуйте, Анна!\n"
          ]
        }
      ],
      "source": [
        "greeting(\"Анна\")"
      ]
    },
    {
      "cell_type": "markdown",
      "source": [
        "Можно определить и необязательные элементы:\n",
        "```\n",
        "# param3 - передавать необязательно, значение по умолчанию - 2\n",
        "def funсtion(param1, param2, param3 = 2):\n",
        "    return param1+param2+param3\n",
        "```"
      ],
      "metadata": {
        "id": "281FqvGgqAnO"
      }
    },
    {
      "cell_type": "code",
      "source": [
        "def a_plus_b(a, b):\n",
        "    print(a+b)\n",
        "\n",
        "a_plus_b(2, b=5)"
      ],
      "metadata": {
        "colab": {
          "base_uri": "https://localhost:8080/"
        },
        "id": "W-zwimGZqBxr",
        "outputId": "6a8fb4bf-106e-4bcf-9947-497e49ac868a"
      },
      "execution_count": null,
      "outputs": [
        {
          "output_type": "stream",
          "name": "stdout",
          "text": [
            "7\n"
          ]
        }
      ]
    },
    {
      "cell_type": "markdown",
      "metadata": {
        "id": "CfHZWoiBSL7q"
      },
      "source": [
        "## Возврат значения"
      ]
    },
    {
      "cell_type": "markdown",
      "metadata": {
        "id": "fGAd5VGgSL7q"
      },
      "source": [
        "Функции могут возвращать результат своей работы с помощью оператора `return`."
      ]
    },
    {
      "cell_type": "code",
      "execution_count": null,
      "metadata": {
        "id": "DyEQxYJnSL7q"
      },
      "outputs": [],
      "source": [
        "def sum_numbers(a, b):\n",
        "    return a + b"
      ]
    },
    {
      "cell_type": "markdown",
      "metadata": {
        "id": "zlmlZ-NASL7q"
      },
      "source": [
        "Вызов функции и сохранение результата:"
      ]
    },
    {
      "cell_type": "code",
      "execution_count": null,
      "metadata": {
        "colab": {
          "base_uri": "https://localhost:8080/"
        },
        "id": "VdUdv7YjSL7q",
        "outputId": "1bb08e9b-18f0-4404-bd12-1fe1ceea342e"
      },
      "outputs": [
        {
          "output_type": "stream",
          "name": "stdout",
          "text": [
            "12\n"
          ]
        }
      ],
      "source": [
        "result = sum_numbers(5, 7)\n",
        "print(result)"
      ]
    },
    {
      "cell_type": "markdown",
      "metadata": {
        "id": "OKOPkd1_SL7q"
      },
      "source": [
        "Если оператор `return` не указан, функция по умолчанию возвращает `None`."
      ]
    },
    {
      "cell_type": "code",
      "source": [
        "print('Оператор return не указан:', a_plus_b(6,9))\n",
        "print('Оператор return указан:', sum_numbers(6,9))"
      ],
      "metadata": {
        "colab": {
          "base_uri": "https://localhost:8080/"
        },
        "id": "Bn67lVeEqUyP",
        "outputId": "9d61d405-e7d3-4efc-ef88-55be39615ecb"
      },
      "execution_count": null,
      "outputs": [
        {
          "output_type": "stream",
          "name": "stdout",
          "text": [
            "15\n",
            "Оператор return не указан: None\n",
            "Оператор return указан: 15\n"
          ]
        }
      ]
    },
    {
      "cell_type": "markdown",
      "metadata": {
        "id": "It8F2yy8SL7r"
      },
      "source": [
        "# ЗАЧЕМ ИСПОЛЬЗОВАТЬ ФУНКЦИИ? (НАГЛЯДНО)"
      ]
    },
    {
      "cell_type": "markdown",
      "metadata": {
        "id": "kCBNbHHxSL7r"
      },
      "source": [
        "\n",
        "\n",
        "### Код без использования функций (повторяющийся код)\n",
        "\n",
        "Предположим, что нам нужно вычислить площадь и периметр нескольких прямоугольников и вывести результаты. Без использования функций код может выглядеть так:\n"
      ]
    },
    {
      "cell_type": "code",
      "execution_count": null,
      "metadata": {
        "colab": {
          "base_uri": "https://localhost:8080/"
        },
        "id": "u8suzD9ISL7r",
        "outputId": "01fca6c4-806e-4d58-f20d-f24c60fcfb2b"
      },
      "outputs": [
        {
          "output_type": "stream",
          "name": "stdout",
          "text": [
            "Прямоугольник 1: площадь = 15, периметр = 16\n",
            "Прямоугольник 2: площадь = 16, периметр = 20\n",
            "Прямоугольник 3: площадь = 24, периметр = 20\n",
            "Прямоугольник 4: площадь = 35, периметр = 24\n"
          ]
        }
      ],
      "source": [
        "# Прямоугольник 1\n",
        "length1 = 5\n",
        "width1 = 3\n",
        "area1 = length1 * width1\n",
        "perimeter1 = 2 * (length1 + width1)\n",
        "print(f\"Прямоугольник 1: площадь = {area1}, периметр = {perimeter1}\")\n",
        "\n",
        "# Прямоугольник 2\n",
        "length2 = 8\n",
        "width2 = 2\n",
        "area2 = length2 * width2\n",
        "perimeter2 = 2 * (length2 + width2)\n",
        "print(f\"Прямоугольник 2: площадь = {area2}, периметр = {perimeter2}\")\n",
        "\n",
        "# Прямоугольник 3\n",
        "length3 = 6\n",
        "width3 = 4\n",
        "area3 = length3 * width3\n",
        "perimeter3 = 2 * (length3 + width3)\n",
        "print(f\"Прямоугольник 3: площадь = {area3}, периметр = {perimeter3}\")\n",
        "\n",
        "# Прямоугольник 4\n",
        "length4 = 7\n",
        "width4 = 5\n",
        "area4 = length4 * width4\n",
        "perimeter4 = 2 * (length4 + width4)\n",
        "print(f\"Прямоугольник 4: площадь = {area4}, периметр = {perimeter4}\")"
      ]
    },
    {
      "cell_type": "markdown",
      "metadata": {
        "id": "7kMvNirdSL7r"
      },
      "source": [
        "В этом коде мы видим множество повторяющихся строк, где меняются только значения длины и ширины."
      ]
    },
    {
      "cell_type": "markdown",
      "metadata": {
        "id": "-cxECUQUSL7r"
      },
      "source": [
        "### Рефакторинг кода с использованием функций\n",
        "\n",
        "Теперь используем функции, чтобы сделать код более чистым и эффективным:"
      ]
    },
    {
      "cell_type": "code",
      "execution_count": null,
      "metadata": {
        "colab": {
          "base_uri": "https://localhost:8080/"
        },
        "id": "1YF3-kxTSL7r",
        "outputId": "0d0af764-cae3-4051-c9e5-415fb65be62b"
      },
      "outputs": [
        {
          "output_type": "stream",
          "name": "stdout",
          "text": [
            "Прямоугольник 1: площадь = 15, периметр = 16\n",
            "Прямоугольник 2: площадь = 16, периметр = 20\n",
            "Прямоугольник 3: площадь = 24, периметр = 20\n",
            "Прямоугольник 4: площадь = 35, периметр = 24\n"
          ]
        }
      ],
      "source": [
        "def calculate_area(length, width):\n",
        "    return length * width\n",
        "\n",
        "def calculate_perimeter(length, width):\n",
        "    return 2 * (length + width)\n",
        "\n",
        "rectangles = [\n",
        "    {\"name\": \"Прямоугольник 1\", \"length\": 5, \"width\": 3},\n",
        "    {\"name\": \"Прямоугольник 2\", \"length\": 8, \"width\": 2},\n",
        "    {\"name\": \"Прямоугольник 3\", \"length\": 6, \"width\": 4},\n",
        "    {\"name\": \"Прямоугольник 4\", \"length\": 7, \"width\": 5},\n",
        "]\n",
        "\n",
        "for rect in rectangles:\n",
        "    area = calculate_area(rect[\"length\"], rect[\"width\"])\n",
        "    perimeter = calculate_perimeter(rect[\"length\"], rect[\"width\"])\n",
        "    print(f\"{rect['name']}: площадь = {area}, периметр = {perimeter}\")"
      ]
    },
    {
      "cell_type": "markdown",
      "metadata": {
        "id": "C8P5WhkFSL7r"
      },
      "source": [
        "Теперь код стал более компактным и читаемым:\n",
        "\n",
        "- Мы определили функции `calculate_area` и `calculate_perimeter`, которые содержат формулы для вычисления площади и периметра прямоугольника.\n",
        "- Создали список словарей `rectangles`, где хранятся данные о каждом прямоугольнике.\n",
        "- Использовали цикл `for` для обработки каждого прямоугольника из списка."
      ]
    },
    {
      "cell_type": "markdown",
      "metadata": {
        "id": "-5t5NbU-SL7r"
      },
      "source": [
        "### Преимущества использования функций\n",
        "\n",
        "- **Уменьшение повторяющегося кода**: Вместо того чтобы повторять вычисления для каждого прямоугольника, мы вызвали функции с необходимыми параметрами.\n",
        "- **Улучшение читаемости**: Код стал более структурированным и понятным.\n",
        "- **Удобство модификации**: Если формулы вычисления изменятся, нам нужно будет изменить только функции, а не все места в коде.\n",
        "- **Повторное использование**: Функции могут быть использованы для вычисления площади и периметра других фигур, если они принимают необходимые параметры.\n",
        "\n",
        "### Еще один пример: Рассчет BMI (индекс массы тела) для нескольких людей\n",
        "\n",
        "#### Код без использования функций:"
      ]
    },
    {
      "cell_type": "code",
      "execution_count": null,
      "metadata": {
        "colab": {
          "base_uri": "https://localhost:8080/"
        },
        "id": "CQsFkSHlSL7r",
        "outputId": "ecc23c83-7a83-4702-bdd2-ef24ac255b2f"
      },
      "outputs": [
        {
          "output_type": "stream",
          "name": "stdout",
          "text": [
            "Анна: BMI = 24.98\n",
            "Иван: BMI = 26.23\n",
            "Мария: BMI = 21.09\n"
          ]
        }
      ],
      "source": [
        "# Человек 1\n",
        "name1 = \"Анна\"\n",
        "weight1 = 68  # кг\n",
        "height1 = 1.65  # метры\n",
        "bmi1 = weight1 / (height1 ** 2)\n",
        "print(f\"{name1}: BMI = {bmi1:.2f}\")\n",
        "\n",
        "# Человек 2\n",
        "name2 = \"Иван\"\n",
        "weight2 = 85\n",
        "height2 = 1.80\n",
        "bmi2 = weight2 / (height2 ** 2)\n",
        "print(f\"{name2}: BMI = {bmi2:.2f}\")\n",
        "\n",
        "# Человек 3\n",
        "name3 = \"Мария\"\n",
        "weight3 = 54\n",
        "height3 = 1.60\n",
        "bmi3 = weight3 / (height3 ** 2)\n",
        "print(f\"{name3}: BMI = {bmi3:.2f}\")"
      ]
    },
    {
      "cell_type": "markdown",
      "metadata": {
        "id": "Tv_5KTrWSL7r"
      },
      "source": [
        "#### Код с использованием функции:"
      ]
    },
    {
      "cell_type": "code",
      "execution_count": null,
      "metadata": {
        "colab": {
          "base_uri": "https://localhost:8080/"
        },
        "id": "evYza1fDSL7r",
        "outputId": "8ca4ea09-1334-47a6-a401-3362ee4d728f"
      },
      "outputs": [
        {
          "output_type": "stream",
          "name": "stdout",
          "text": [
            "Анна: BMI = 24.98\n",
            "Иван: BMI = 26.23\n",
            "Мария: BMI = 21.09\n"
          ]
        }
      ],
      "source": [
        "def calculate_bmi(weight, height):\n",
        "    return weight / (height ** 2)\n",
        "\n",
        "people = [\n",
        "    {\"name\": \"Анна\", \"weight\": 68, \"height\": 1.65},\n",
        "    {\"name\": \"Иван\", \"weight\": 85, \"height\": 1.80},\n",
        "    {\"name\": \"Мария\", \"weight\": 54, \"height\": 1.60},\n",
        "]\n",
        "\n",
        "for person in people:\n",
        "    bmi = calculate_bmi(person[\"weight\"], person[\"height\"])\n",
        "    print(f\"{person['name']}: BMI = {bmi:.2f}\")"
      ]
    },
    {
      "cell_type": "markdown",
      "metadata": {
        "id": "jQa77smUSL7r"
      },
      "source": [
        "\n",
        "### Преимущества рефакторинга:\n",
        "\n",
        "- **Код стал короче и понятнее**.\n",
        "- **Легко добавить новых людей**: Просто добавьте новый словарь в список `people`.\n",
        "- **Единообраие**: Все расчеты выполняются одной и той же функцией, что уменьшает риск ошибок.\n",
        "\n",
        "\n",
        "Использование функций для выполнения расчетов по формулам позволяет:\n",
        "\n",
        "- **Снизить дублирование кода**.\n",
        "- **Повысить читаемость и поддерживаемость кода**.\n",
        "- **Упростить модификацию и расширение функциональности**.\n",
        "- **Уменьшить вероятность ошибок при изменении логики расчетов**.\n",
        "\n",
        "Таким образом, применение функций в программах с расчетами по формулам делает код более эффективным и удобным для сопровождения."
      ]
    },
    {
      "cell_type": "markdown",
      "source": [
        "# Запаковка и распаковка в Python: операторы `*` и `**` с примерами\n",
        "\n",
        "Python предоставляет мощные инструменты для работы с переменными и коллекциями, среди которых особое место занимают операторы `*` и `**`. Они используются для **запаковки** и **распаковки** значений при вызове функций, определении функций, а также при работе с последовательностями и словарями.\n",
        "\n",
        "Далее мы подробно рассмотрим, как работают операторы `*` и `**` в различных ситуациях, и покажем пратические примеры их применения.\n",
        "\n",
        "## Что такое запаковка и распаковка?\n",
        "\n",
        "- **Запаковка** означает объединение нескольких значений в одну переменную, обычно в коллекцию, используя операторы `*` или `**`.\n",
        "- **Распаковка** — это обратный процесс, извлечение отдельных значений из коллекции с помощью этих же операторов.\n"
      ],
      "metadata": {
        "id": "NkJi9mouab1m"
      }
    },
    {
      "cell_type": "markdown",
      "source": [
        "## 1. Распаковка последовательностей с помощью `*`\n",
        "\n",
        "### 1.1. Распаковка при присваивании\n",
        "\n",
        "Оператор `*` можно использовать для распаковки последовательности при присваивании переменным. Он берет все элементы из итерируемого объекта и вставляет их на место, где находится *.\n",
        "\n",
        "**Пример 1:**"
      ],
      "metadata": {
        "id": "h7E5qvn-afNK"
      }
    },
    {
      "cell_type": "code",
      "source": [
        "numbers = [1, 2, 3, 4, 5]\n",
        "a, b, c, d, e = numbers\n",
        "\n",
        "print(a, b, c, d, e)"
      ],
      "metadata": {
        "colab": {
          "base_uri": "https://localhost:8080/"
        },
        "id": "C-r2LWYhaee3",
        "outputId": "14779f6b-29ba-45f3-93f4-85c12f912019"
      },
      "execution_count": null,
      "outputs": [
        {
          "output_type": "stream",
          "name": "stdout",
          "text": [
            "1 2 3 4 5\n"
          ]
        }
      ]
    },
    {
      "cell_type": "markdown",
      "source": [
        "**Пример 2:**"
      ],
      "metadata": {
        "id": "9klvW-sFajp3"
      }
    },
    {
      "cell_type": "code",
      "source": [
        "numbers = [1, 2, 3, 4, 5]\n",
        "first, *rest = numbers\n",
        "\n",
        "print(first, rest)"
      ],
      "metadata": {
        "colab": {
          "base_uri": "https://localhost:8080/"
        },
        "id": "GJQ9ET8qaj2R",
        "outputId": "1b17be07-9865-499f-d9a9-fff7aac36461"
      },
      "execution_count": null,
      "outputs": [
        {
          "output_type": "stream",
          "name": "stdout",
          "text": [
            "1 [2, 3, 4, 5]\n"
          ]
        }
      ]
    },
    {
      "cell_type": "markdown",
      "source": [
        "**Пример 3:**"
      ],
      "metadata": {
        "id": "U89jJ_Gpaj-p"
      }
    },
    {
      "cell_type": "code",
      "source": [
        "numbers = [1, 2, 3, 4, 5]\n",
        "*rest, last = numbers\n",
        "\n",
        "print(rest, last)"
      ],
      "metadata": {
        "colab": {
          "base_uri": "https://localhost:8080/"
        },
        "id": "l48jYp8TakHO",
        "outputId": "b3410df8-e9bc-4868-a19e-6480ad358ad1"
      },
      "execution_count": null,
      "outputs": [
        {
          "output_type": "stream",
          "name": "stdout",
          "text": [
            "[1, 2, 3, 4] 5\n"
          ]
        }
      ]
    },
    {
      "cell_type": "markdown",
      "source": [
        "### 1.2. Объединение последовательностей\n",
        "\n",
        "С помощью оператора `*` можно объединять несколько последовательностей в одну.\n",
        "\n",
        "**Пример:**"
      ],
      "metadata": {
        "id": "y9X05D7OawMG"
      }
    },
    {
      "cell_type": "code",
      "source": [
        "list1 = [1, 2, 3]\n",
        "list2 = [4, 5, 6]\n",
        "combined = [*list1, *list2]\n",
        "\n",
        "combined"
      ],
      "metadata": {
        "colab": {
          "base_uri": "https://localhost:8080/"
        },
        "id": "u6gQyn_0azql",
        "outputId": "dd302d1a-a494-414c-ab1a-53bbd5f34070"
      },
      "execution_count": null,
      "outputs": [
        {
          "output_type": "execute_result",
          "data": {
            "text/plain": [
              "[1, 2, 3, 4, 5, 6]"
            ]
          },
          "metadata": {},
          "execution_count": 68
        }
      ]
    },
    {
      "cell_type": "markdown",
      "source": [
        "### 1.3. Распаковка в выражениях\n",
        "\n",
        "Оператор `*` можно использовать внутри выраений для распаковки элементов последовательности."
      ],
      "metadata": {
        "id": "qg9KIDMRa1d6"
      }
    },
    {
      "cell_type": "markdown",
      "source": [
        "**Пример:**"
      ],
      "metadata": {
        "id": "QrpoFQnta34E"
      }
    },
    {
      "cell_type": "code",
      "source": [
        "numbers = [1, 2, 3]\n",
        "extended = [0, *numbers, 4]\n",
        "\n",
        "extended"
      ],
      "metadata": {
        "colab": {
          "base_uri": "https://localhost:8080/"
        },
        "id": "3hwCisMka4Ej",
        "outputId": "0be6088b-8f6e-4b7b-b7db-8c1bbde7b468"
      },
      "execution_count": null,
      "outputs": [
        {
          "output_type": "execute_result",
          "data": {
            "text/plain": [
              "[0, 1, 2, 3, 4]"
            ]
          },
          "metadata": {},
          "execution_count": 69
        }
      ]
    },
    {
      "cell_type": "markdown",
      "source": [
        "## 2. Распаковка словарей с помощью `**`\n",
        "\n",
        "### 2.1. Объединение словарей\n",
        "\n",
        "Оператор `**` позволяет объединять несколько словарей в один.\n",
        "\n",
        "**Пример:**"
      ],
      "metadata": {
        "id": "wKWa4h60a8oP"
      }
    },
    {
      "cell_type": "code",
      "source": [
        "dict1 = {'a': 1, 'b': 2}\n",
        "dict2 = {'b': 3, 'c': 4}\n",
        "combined = {**dict1, **dict2}\n",
        "\n",
        "combined"
      ],
      "metadata": {
        "colab": {
          "base_uri": "https://localhost:8080/"
        },
        "id": "uc_NcBO_a-w_",
        "outputId": "145de04e-10b6-414d-b17e-b7efc0b90983"
      },
      "execution_count": null,
      "outputs": [
        {
          "output_type": "execute_result",
          "data": {
            "text/plain": [
              "{'a': 1, 'b': 3, 'c': 4}"
            ]
          },
          "metadata": {},
          "execution_count": 70
        }
      ]
    },
    {
      "cell_type": "markdown",
      "source": [
        "### 2.2. Создание копии словаря\n",
        "\n",
        "С помощью `**` можно создать копию словаря или обновить его содержимое.\n",
        "\n",
        "**Пример:**"
      ],
      "metadata": {
        "id": "GPIgrfqrbA6M"
      }
    },
    {
      "cell_type": "code",
      "source": [
        "original = {'x': 10, 'y': 20}\n",
        "copy = {**original}\n",
        "\n",
        "copy"
      ],
      "metadata": {
        "colab": {
          "base_uri": "https://localhost:8080/"
        },
        "id": "ZR27-izBbDZx",
        "outputId": "654fad1e-a3e3-4667-9841-c2f5d19ae475"
      },
      "execution_count": null,
      "outputs": [
        {
          "output_type": "execute_result",
          "data": {
            "text/plain": [
              "{'x': 10, 'y': 20}"
            ]
          },
          "metadata": {},
          "execution_count": 71
        }
      ]
    },
    {
      "cell_type": "markdown",
      "source": [
        "## 3. Распаковка вложенных структур\n",
        "\n",
        "Операторы `*` и `**` можно использовать для работы с вложенными структурами данных.\n",
        "\n",
        "**Пример с кортежами:**"
      ],
      "metadata": {
        "id": "-nxYUxlPbFJC"
      }
    },
    {
      "cell_type": "code",
      "source": [
        "coordinates = (1, 2, 3)\n",
        "x, y, z = coordinates\n",
        "\n",
        "print(x, y, z)"
      ],
      "metadata": {
        "colab": {
          "base_uri": "https://localhost:8080/"
        },
        "id": "9SWrbkGSbHI-",
        "outputId": "23cad90b-ccb7-4273-eb21-77810552ad91"
      },
      "execution_count": null,
      "outputs": [
        {
          "output_type": "stream",
          "name": "stdout",
          "text": [
            "1 2 3\n"
          ]
        }
      ]
    },
    {
      "cell_type": "markdown",
      "source": [
        "**Пример с вложенными списками:**"
      ],
      "metadata": {
        "id": "qyJ_BB7QbJmg"
      }
    },
    {
      "cell_type": "code",
      "source": [
        "matrix = [[1, 2], [3, 4], [5, 6]]\n",
        "flattened = [element for row in matrix for element in row]\n",
        "\n",
        "print(flattened)"
      ],
      "metadata": {
        "colab": {
          "base_uri": "https://localhost:8080/"
        },
        "id": "9AeAjoZpbMN4",
        "outputId": "949444ac-618d-4402-8d72-8e94b9eb7f80"
      },
      "execution_count": null,
      "outputs": [
        {
          "output_type": "stream",
          "name": "stdout",
          "text": [
            "[1, 2, 3, 4, 5, 6]\n"
          ]
        }
      ]
    },
    {
      "cell_type": "markdown",
      "source": [
        "## 4. Использование в циклах\n",
        "\n",
        "### 4.1. Итерация по нескольким последовательностям\n",
        "\n",
        "Распаковку можно использовать в циклах при итерации.\n",
        "\n",
        "**Пример:**"
      ],
      "metadata": {
        "id": "yNeAb9U4bN-Z"
      }
    },
    {
      "cell_type": "code",
      "source": [
        "list_of_tuples = [(1, 2), (3, 4), (5, 6)]\n",
        "for a, b in list_of_tuples:\n",
        "    # a и b будут последовательно принимать значения (1, 2), (3, 4), (5, 6)\n",
        "    print(f'Первое число в паре: {a}\\nВторое число в паре: {b}')"
      ],
      "metadata": {
        "colab": {
          "base_uri": "https://localhost:8080/"
        },
        "id": "JsKVfiq7bQpX",
        "outputId": "4667702a-85e6-40a4-8f5c-13d0c63b1bdc"
      },
      "execution_count": null,
      "outputs": [
        {
          "output_type": "stream",
          "name": "stdout",
          "text": [
            "Первое число в паре: 1\n",
            "Второе число в паре: 2\n",
            "Первое число в паре: 3\n",
            "Второе число в паре: 4\n",
            "Первое число в паре: 5\n",
            "Второе число в паре: 6\n"
          ]
        }
      ]
    },
    {
      "cell_type": "markdown",
      "source": [
        "\n",
        "\n",
        "## Выводы\n",
        "\n",
        "- Оператор `*` используется для распаковки последовательностей и объединения их элементов.\n",
        "- Оператор `**` используется для распаковки словарей и объединения их содержимого.\n",
        "- Эти операторы помогают писать более гибкий и лаконичный код, упрощая операции с коллекциями и структурами данных."
      ],
      "metadata": {
        "id": "Oz0KhYsVZZSF"
      }
    },
    {
      "cell_type": "markdown",
      "metadata": {
        "id": "AwB9Eft8SL7r"
      },
      "source": [
        "## **Обработка произвольного числа аргументов в функции (\\*args и \\*\\*kwargs)**\n",
        "\n",
        "Иногда при создании функции неизвестно заранее, сколько аргументов она будет принимать. Для обработки произвольного числа аргументов используются `*args` и `**kwargs`."
      ]
    },
    {
      "cell_type": "markdown",
      "metadata": {
        "id": "Fh_M4n_VSL7r"
      },
      "source": [
        "### *args\n",
        "`*args` позволяет передать произвольное количество позиционных аргументов функции. Внутри функции `args` будет представлять собой кортеж."
      ]
    },
    {
      "cell_type": "code",
      "execution_count": null,
      "metadata": {
        "id": "-MpOSLbESL7r"
      },
      "outputs": [],
      "source": [
        "def sum_numbers(*args):\n",
        "    result = 0\n",
        "    for number in args:\n",
        "        result += number\n",
        "    return result"
      ]
    },
    {
      "cell_type": "markdown",
      "metadata": {
        "id": "vsQ1_6XcSL7s"
      },
      "source": [
        "Вызов функции с разным количеством аргументов:"
      ]
    },
    {
      "cell_type": "code",
      "execution_count": null,
      "metadata": {
        "colab": {
          "base_uri": "https://localhost:8080/"
        },
        "id": "e9PP79J0SL7s",
        "outputId": "7d7cc84e-0da0-491f-e0c4-442dccbace7b"
      },
      "outputs": [
        {
          "output_type": "stream",
          "name": "stdout",
          "text": [
            "6\n",
            "22\n",
            "0\n"
          ]
        }
      ],
      "source": [
        "print(sum_numbers(1, 2, 3))         # Результат: 6\n",
        "print(sum_numbers(4, 5, 6, 7))      # Результат: 22\n",
        "print(sum_numbers())                # Результат: 0"
      ]
    },
    {
      "cell_type": "markdown",
      "metadata": {
        "id": "HSaX8nEmSL7s"
      },
      "source": [
        "### **kwargs\n",
        "\n",
        "`**kwargs` позволяет передать произвольное количество именованных аргументов. Внутри функции `kwargs` будет представлять собой словарь."
      ]
    },
    {
      "cell_type": "code",
      "execution_count": null,
      "metadata": {
        "id": "2QXrLh1sSL7s"
      },
      "outputs": [],
      "source": [
        "def info(**kwargs):\n",
        "    for key, value in kwargs.items():\n",
        "        print(f\"{key}: {value}\")"
      ]
    },
    {
      "cell_type": "markdown",
      "metadata": {
        "id": "5aiC_q74SL7s"
      },
      "source": [
        "Вызов функции с именованными аргументами:"
      ]
    },
    {
      "cell_type": "code",
      "execution_count": null,
      "metadata": {
        "colab": {
          "base_uri": "https://localhost:8080/"
        },
        "id": "Nijf3PChSL7s",
        "outputId": "618e2ae2-f6ed-4632-d5c2-133d3f805c31"
      },
      "outputs": [
        {
          "output_type": "stream",
          "name": "stdout",
          "text": [
            "name: Иван\n",
            "age: 30\n",
            "city: Москва\n"
          ]
        }
      ],
      "source": [
        "info(name=\"Иван\", age=30, city=\"Москва\")"
      ]
    },
    {
      "cell_type": "markdown",
      "metadata": {
        "id": "iC48F1ZMSL7s"
      },
      "source": [
        "## Одновременное использование *args и **kwargs\n",
        "\n",
        "Функция может принимать и позиционные, и именованные аргументы одновременно."
      ]
    },
    {
      "cell_type": "code",
      "execution_count": null,
      "metadata": {
        "id": "V_J04awFSL7w"
      },
      "outputs": [],
      "source": [
        "def example(*args, **kwargs):\n",
        "    print(\"Позиционные аргументы:\", args)\n",
        "    print(\"Именованные аргументы:\", kwargs)"
      ]
    },
    {
      "cell_type": "markdown",
      "metadata": {
        "id": "0tRzCGWUSL7w"
      },
      "source": [
        "Вызов функции:"
      ]
    },
    {
      "cell_type": "code",
      "execution_count": null,
      "metadata": {
        "colab": {
          "base_uri": "https://localhost:8080/"
        },
        "id": "kjKIUV7VSL7w",
        "outputId": "af3b0670-1c09-4aa9-a1fd-58d6d69ec8b9"
      },
      "outputs": [
        {
          "output_type": "stream",
          "name": "stdout",
          "text": [
            "Позиционные аргументы: (1, 2, 3)\n",
            "Именованные аргументы: {'name': 'Мария', 'age': 22}\n"
          ]
        }
      ],
      "source": [
        "example(1, 2, 3, name=\"Мария\", age=22)"
      ]
    },
    {
      "cell_type": "markdown",
      "metadata": {
        "id": "PHMNF8FpSL7w"
      },
      "source": [
        "## Разница между функцией и процедурой\n",
        "\n",
        "**Функция** — это блок кода, который принимает входные данные, выполняет определенные операции и возвращает результат с помощью оператора `return`.\n",
        "\n",
        "**Процедура** — это блок кода, который выполняет определенные действия, но не возвращает значимого результата (возвращает `None`).\n",
        "\n",
        "В Python понятия \"функция\" и \"процедура\" не разделены синтаксически, так как любая функция по умолчанию возвращает `None`, если явно не указан оператор `return` с возвращаемым значением."
      ]
    },
    {
      "cell_type": "markdown",
      "metadata": {
        "id": "B-o5vtF7SL7x"
      },
      "source": [
        "### Пример функции"
      ]
    },
    {
      "cell_type": "code",
      "execution_count": null,
      "metadata": {
        "id": "RCOJSgQtSL7x"
      },
      "outputs": [],
      "source": [
        "def calculate_area(length, width):\n",
        "    area = length * width\n",
        "    return area"
      ]
    },
    {
      "cell_type": "markdown",
      "metadata": {
        "id": "_1Zed_chSL7x"
      },
      "source": [
        "### Пример процедуры"
      ]
    },
    {
      "cell_type": "code",
      "execution_count": null,
      "metadata": {
        "id": "ZoHbc8OgSL7x"
      },
      "outputs": [],
      "source": [
        "def print_greeting(name):\n",
        "    print(f\"Привет, {name}!\")"
      ]
    },
    {
      "cell_type": "markdown",
      "source": [
        "### Разница между print() и return 🙃🤯"
      ],
      "metadata": {
        "id": "k-Dfz-hs5uAN"
      }
    },
    {
      "cell_type": "markdown",
      "source": [
        "Основное отличие между `print` и `return` в функции заключается в их назначении:\n",
        "\n",
        "- `print` выводит информацию на экран, но не возвращает значение из функции и не влияет на ее выполнение. (По сути это просто функция, вызванная в другой функции)\n",
        "- `return` завершает выполнение функции и возвращает результат вызывающему коду для дальнейшего использования."
      ],
      "metadata": {
        "id": "JUdQ_aGX6Hkr"
      }
    },
    {
      "cell_type": "markdown",
      "source": [
        "## Аннотация типов\n",
        "\n",
        "Проверка типов – одна из важнейших особенностей любого современного языка программирования; Проверка типов не только облегчает расширение кодовой базы и работу с ней в целом, но и быстро, надежно и автоматически обнаруживает многие ошибки программирования.\n",
        "\n",
        "Впервые представленные в Python 3.5, аннотации типов являются основным способом обозначения типов для переменных и функций в Python.\n",
        "\n",
        "*Аннотации типов не обеспечивают проверку типов на уровне интерпретатора. Они предназначены для использования разработчиками, средами разработки, линтерами, программами проверки типов и т. д.*\n",
        "\n",
        "Пример:"
      ],
      "metadata": {
        "id": "anXyD2KtJzFz"
      }
    },
    {
      "cell_type": "markdown",
      "source": [
        "**Более подробно про аннотацию типов можно прочитать [здесь](https://proglib.io/p/annotacii-tipov-v-python-vse-chto-nuzhno-znat-za-5-minut-2022-01-30)**"
      ],
      "metadata": {
        "id": "BQOBUfuIPmCV"
      }
    },
    {
      "cell_type": "code",
      "source": [
        "from math import pi\n",
        "from typing import Union\n",
        "\n",
        "def gms_to_deg(g: int = None, m: int = None, s: float = None) -> float:\n",
        "  '''\n",
        "  Функция принимает на вход градусы, минуты, секунды и возвращает десятичные градусы (deg)\n",
        "  :param g: Градусы в целочисленном представлении\n",
        "  :param m: Минуты в целочисленном представлении\n",
        "  :param s: Секунды в вещественном представлении\n",
        "  :return deg: Десятичные градусы\n",
        "  '''\n",
        "\n",
        "  # В этом коде используется конструкция try-except для обработки возможных\n",
        "  # исключений при выполнении кода если внутри блока try произойдет ошибка,\n",
        "  # то выполняется код блока except\n",
        "  try:\n",
        "    # расчет десятичных градусов\n",
        "    # переменной deg присваивается результат вычисления\n",
        "    deg: float = int(g) + int(m) / 60 + float(s) / 3600\n",
        "  except:\n",
        "    # если произошло исключение (ошибка), то возвращается значение None\n",
        "    return None\n",
        "\n",
        "  # если ошибок не произошло, то возвращается значение deg\n",
        "  return deg\n",
        "\n",
        "\n",
        "def deg_to_gms(deg: float, formats: str ='string') -> Union[int, float]:\n",
        "    '''\n",
        "\n",
        "    :param deg: Градусы в десятичном представлении\n",
        "    :param formats: Формат конечных данных - форматированная строка (='string') или кортеж из чисел (='num')\n",
        "    :return: Градусы, минуты, секунды - по умолчанию в формате ГГ° ММ′ СС″\n",
        "    '''\n",
        "    degrees = int(deg)\n",
        "    minutes = int((deg - degrees) * 60)\n",
        "    seconds = ((((deg - degrees) * 60) - minutes) * 60)\n",
        "    seconds = round(seconds, 5)\n",
        "\n",
        "    if formats == 'string':\n",
        "        answer = f'{degrees}° {minutes}′ {seconds}″'\n",
        "    elif formats == 'num':\n",
        "        answer = (degrees, minutes, seconds)\n",
        "    else:\n",
        "        answer = None\n",
        "    return answer\n",
        "\n",
        "\n",
        "def deg_to_rad(deg: float) -> float:\n",
        "    '''\n",
        "    :param deg: Градусы в десятичном представлении\n",
        "    :return: Радианы в десятичном представлении\n",
        "    '''\n",
        "    return deg * (pi / 180)\n",
        "\n",
        "\n",
        "def rad_to_deg(rad: float) -> float:\n",
        "    '''\n",
        "    :param rad: Радианы в десятичном представлении\n",
        "    :return: Градусы в десятичном представлении\n",
        "    '''\n",
        "    return rad * (180 / pi)\n",
        "\n",
        "\n",
        "print(deg_to_gms(36.97))\n",
        "print(gms_to_deg(36, 58, 12))\n",
        "print(deg_to_rad(36.97))\n",
        "print(rad_to_deg(deg_to_rad(36.97)))"
      ],
      "metadata": {
        "id": "O4pURHa0NK6o",
        "colab": {
          "base_uri": "https://localhost:8080/"
        },
        "outputId": "ef54fca5-0eda-45e6-e61f-559c0f0dba5c"
      },
      "execution_count": null,
      "outputs": [
        {
          "output_type": "stream",
          "name": "stdout",
          "text": [
            "36° 58′ 12.0″\n",
            "36.97\n",
            "0.6452482244623036\n",
            "36.97\n"
          ]
        }
      ]
    },
    {
      "cell_type": "code",
      "source": [
        "from math import sin\n",
        "\n",
        "def sing(*gms):\n",
        "  deg = gms_to_deg(*gms)\n",
        "  rad = deg_to_rad(deg)\n",
        "  sind = sin(rad)\n",
        "  return sind"
      ],
      "metadata": {
        "id": "RAB-ZWICFMHv"
      },
      "execution_count": null,
      "outputs": []
    },
    {
      "cell_type": "code",
      "source": [
        "sing(36,58,12)"
      ],
      "metadata": {
        "colab": {
          "base_uri": "https://localhost:8080/"
        },
        "id": "FSECRJzeGlcp",
        "outputId": "6ef00159-47bd-4c99-c2d4-3c5cc63f35cc"
      },
      "execution_count": null,
      "outputs": [
        {
          "output_type": "execute_result",
          "data": {
            "text/plain": [
              "0.6013967761004443"
            ]
          },
          "metadata": {},
          "execution_count": 83
        }
      ]
    },
    {
      "cell_type": "markdown",
      "metadata": {
        "id": "V8kYktkMSL7x"
      },
      "source": [
        "# Локальные и глобальные переменные в Python: области видимости и примеры"
      ]
    },
    {
      "cell_type": "markdown",
      "metadata": {
        "id": "e6Tkul7CSL7x"
      },
      "source": [
        "Переменные в Python используются для хранения данных, которые могут быть использованы в программе. Понимание того, где и как доступны эти переменные, является важным аспектом программирования. Это понятие известно как **область видимости переменной**."
      ]
    },
    {
      "cell_type": "markdown",
      "metadata": {
        "id": "1bZKRHogSL7x"
      },
      "source": [
        "## Области видимости переменных\n",
        "\n",
        "В Python существуют четыре основных области видимости, также известных как LEGB (Local, Enclosing, Global, Built-in):"
      ]
    },
    {
      "cell_type": "markdown",
      "metadata": {
        "id": "5VhdLHy5SL7x"
      },
      "source": [
        "1. **Local (Локальная область видимости)**\n",
        "\n",
        "   Переменные, объявленные внутри функции или метода, относятся к локальной области видимости. Они доступны только внутри этой функции и недоступны вне ее.\n",
        "\n",
        "2. **Enclosing (Объемлющая область видимости)**\n",
        "\n",
        "   Эта область видимости относится к функциям, которые вложены в другие функции. Переменные в объемлющей функции доступны во вложенной функции.\n",
        "\n",
        "3. **Global (Глобальная область видимости)**\n",
        "\n",
        "   Переменные, объявленные на уровне модуля (вне всех функций), имеют глобальную область видимости. Они доступны в любом месте модуля.\n",
        "\n",
        "4. **Built-in (Встроенная область видимости)**\n",
        "\n",
        "   Это области видимости, в которых находятся встроенные имена Python, такие как функции `len()`, `print()` и т.д."
      ]
    },
    {
      "cell_type": "markdown",
      "metadata": {
        "id": "DncraS0kSL7x"
      },
      "source": [
        "## Локальные переменные\n",
        "\n",
        "### Определение\n",
        "\n",
        "*Local (Локальная) - эту область видимости имеют переменные, которые создаются и используются внутри функций.*\n"
      ]
    },
    {
      "cell_type": "markdown",
      "source": [
        "\n",
        "### Пример"
      ],
      "metadata": {
        "id": "yEZxoSKdtVPC"
      }
    },
    {
      "cell_type": "code",
      "execution_count": null,
      "metadata": {
        "id": "2VTzgGevSL7x"
      },
      "outputs": [],
      "source": [
        "def my_function():\n",
        "    x = 10  # локальная переменная\n",
        "    print(\"Внутри функции x =\", x)"
      ]
    },
    {
      "cell_type": "code",
      "execution_count": null,
      "metadata": {
        "colab": {
          "base_uri": "https://localhost:8080/",
          "height": 202
        },
        "id": "4XqRtuWxSL7x",
        "outputId": "fab03cf6-205a-4281-a5b0-b2c392c568a6"
      },
      "outputs": [
        {
          "output_type": "stream",
          "name": "stdout",
          "text": [
            "Внутри функции x = 10\n"
          ]
        },
        {
          "output_type": "error",
          "ename": "NameError",
          "evalue": "name 'x' is not defined",
          "traceback": [
            "\u001b[0;31m---------------------------------------------------------------------------\u001b[0m",
            "\u001b[0;31mNameError\u001b[0m                                 Traceback (most recent call last)",
            "\u001b[0;32m<ipython-input-95-c52cd8375b77>\u001b[0m in \u001b[0;36m<cell line: 3>\u001b[0;34m()\u001b[0m\n\u001b[1;32m      1\u001b[0m \u001b[0mmy_function\u001b[0m\u001b[0;34m(\u001b[0m\u001b[0;34m)\u001b[0m\u001b[0;34m\u001b[0m\u001b[0;34m\u001b[0m\u001b[0m\n\u001b[1;32m      2\u001b[0m \u001b[0;31m# Попытка вывести x вне функции вызовет ошибку\u001b[0m\u001b[0;34m\u001b[0m\u001b[0;34m\u001b[0m\u001b[0m\n\u001b[0;32m----> 3\u001b[0;31m \u001b[0mprint\u001b[0m\u001b[0;34m(\u001b[0m\u001b[0;34m\"Вне функции x =\"\u001b[0m\u001b[0;34m,\u001b[0m \u001b[0mx\u001b[0m\u001b[0;34m)\u001b[0m\u001b[0;34m\u001b[0m\u001b[0;34m\u001b[0m\u001b[0m\n\u001b[0m",
            "\u001b[0;31mNameError\u001b[0m: name 'x' is not defined"
          ]
        }
      ],
      "source": [
        "my_function()\n",
        "# Попытка вывести x вне функции вызовет ошибку\n",
        "print(\"Вне функции x =\", x)"
      ]
    },
    {
      "cell_type": "markdown",
      "metadata": {
        "id": "dI3aZne1SL7x"
      },
      "source": [
        "Здесь переменная `x` определена внутри функции `my_function()` и недоступна вне ее, что приводит к ошибке `NameError`."
      ]
    },
    {
      "cell_type": "markdown",
      "metadata": {
        "id": "F2HAW9vASL7x"
      },
      "source": [
        "## Глобальные переменные\n",
        "\n",
        "### Определение\n",
        "\n",
        "Глобальные переменные объявляются на уровне модуля, вне каких-либо функций или классов, и могут быть доступны в любом месте этого модуля. (Модуль – это файл с расширением .py)\n",
        "\n",
        "### Пример"
      ]
    },
    {
      "cell_type": "code",
      "execution_count": null,
      "metadata": {
        "colab": {
          "base_uri": "https://localhost:8080/"
        },
        "id": "bZjjepL3SL7x",
        "outputId": "6b62105d-3596-4a9a-bbe6-1073e8b53dae"
      },
      "outputs": [
        {
          "output_type": "stream",
          "name": "stdout",
          "text": [
            "Внутри функции x = 20\n",
            "Вне функции x = 20\n"
          ]
        }
      ],
      "source": [
        "x = 20  # Глобальная переменная\n",
        "\n",
        "def my_function():\n",
        "    print(\"Внутри функции x =\", x)\n",
        "\n",
        "my_function()\n",
        "print(\"Вне функции x =\", x)"
      ]
    },
    {
      "cell_type": "markdown",
      "metadata": {
        "id": "QEc4QBSTSL7x"
      },
      "source": [
        "Переменная `x` доступна как внутри функции, так и вне ее."
      ]
    },
    {
      "cell_type": "markdown",
      "metadata": {
        "id": "k0-irioGSL7x"
      },
      "source": [
        "## Изменение глобальных переменных внутри функции\n",
        "\n",
        "По умолчанию, если внутри функции присвоить значение переменной с именем, совпадающим с глобальной переменной, Python создаст новую локальную переменную. тобы изменить глобальную переменную внутри функции, необходимо использовать ключевое слово `global`.\n",
        "\n",
        "### Пример без использования `global`"
      ]
    },
    {
      "cell_type": "code",
      "execution_count": null,
      "metadata": {
        "id": "gJhLldxhSL7x"
      },
      "outputs": [],
      "source": [
        "x = 5\n",
        "\n",
        "def my_function():\n",
        "    x = 10  # Это локальная переменная\n",
        "    print(\"Внутри функции x =\", x)"
      ]
    },
    {
      "cell_type": "code",
      "execution_count": null,
      "metadata": {
        "colab": {
          "base_uri": "https://localhost:8080/"
        },
        "id": "CkTENWm6SL7y",
        "outputId": "e97632a9-49cc-49b5-841d-3b3d9057a710"
      },
      "outputs": [
        {
          "output_type": "stream",
          "name": "stdout",
          "text": [
            "Внутри функции x = 10\n",
            "Вне функции x = 5\n"
          ]
        }
      ],
      "source": [
        "my_function()\n",
        "print(\"Вне функции x =\", x)"
      ]
    },
    {
      "cell_type": "markdown",
      "metadata": {
        "id": "sGlZ44cmSL7y"
      },
      "source": [
        "Здесь изменение `x` внутри функции не влияет на глобальную переменную `x`."
      ]
    },
    {
      "cell_type": "markdown",
      "metadata": {
        "id": "oXo5VlApSL7y"
      },
      "source": [
        "### Пример с использованием `global`"
      ]
    },
    {
      "cell_type": "code",
      "execution_count": null,
      "metadata": {
        "id": "tYX8lusSSL7y"
      },
      "outputs": [],
      "source": [
        "x = 5\n",
        "\n",
        "def my_function():\n",
        "    global x\n",
        "    x = 10  # Изменяем глобальную переменную\n",
        "    print(\"Внутри функции x =\", x)"
      ]
    },
    {
      "cell_type": "code",
      "execution_count": null,
      "metadata": {
        "colab": {
          "base_uri": "https://localhost:8080/"
        },
        "id": "9Uvck0IpSL7y",
        "outputId": "c1a90016-6b94-42bc-b30e-1921f6ae04ba"
      },
      "outputs": [
        {
          "output_type": "stream",
          "name": "stdout",
          "text": [
            "Внутри функции x = 10\n",
            "Вне функции x = 10\n"
          ]
        }
      ],
      "source": [
        "my_function()\n",
        "print(\"Вне функции x =\", x)"
      ]
    },
    {
      "cell_type": "markdown",
      "metadata": {
        "id": "DiYjgJhFSL7y"
      },
      "source": [
        "Используя ключевое слово `global`, мы указали, что хотим изменить глобальную переменную `x`."
      ]
    },
    {
      "cell_type": "markdown",
      "metadata": {
        "id": "SZhIVv1GSL7y"
      },
      "source": [
        "## Объемлющая область видимости (Enclosing Scope)\n",
        "\n",
        "Это область видимости, которая возникает при вложении функций. Переменные объемлющей функции доступны во вложенной функции, но не наоборот.\n",
        "\n",
        "### Пример"
      ]
    },
    {
      "cell_type": "code",
      "execution_count": null,
      "metadata": {
        "colab": {
          "base_uri": "https://localhost:8080/"
        },
        "id": "-YPAG8OfSL7y",
        "outputId": "fe5147da-4cb0-4319-bb36-5af7be1584b4"
      },
      "outputs": [
        {
          "output_type": "stream",
          "name": "stdout",
          "text": [
            "Внутренняя функция x = hello\n",
            "Внешняя функция x = hello\n"
          ]
        }
      ],
      "source": [
        "def outer_function():\n",
        "    x = 'hello'  # Переменная объемлющей функции\n",
        "\n",
        "    def inner_function():\n",
        "        print(\"Внутренняя функция x =\", x)\n",
        "\n",
        "    inner_function()\n",
        "    print(\"Внешняя функция x =\", x)\n",
        "\n",
        "outer_function()"
      ]
    },
    {
      "cell_type": "markdown",
      "metadata": {
        "id": "7_Fla4ILSL7y"
      },
      "source": [
        "Переменная `x` доступна как в `outer_function()`, так и в `inner_function()`."
      ]
    },
    {
      "cell_type": "markdown",
      "source": [
        "Суть данной области видимости в том, что внутри функции могут быть вложенные функции и локальные переменные, так вот локальная переменная функции для ее вложенной функции находится в enclosing области видимости."
      ],
      "metadata": {
        "id": "xkgIQ42OuMPF"
      }
    },
    {
      "cell_type": "markdown",
      "metadata": {
        "id": "ZXSuedR2SL7y"
      },
      "source": [
        "### Изменение переменных объемлющей функции\n",
        "\n",
        "Чтобы изменить переменную объемлющей функции во вложенной функции, используется ключевое слово `nonlocal` (доступно в Python 3.x)."
      ]
    },
    {
      "cell_type": "code",
      "execution_count": null,
      "metadata": {
        "colab": {
          "base_uri": "https://localhost:8080/"
        },
        "id": "9q2zi1AZSL7y",
        "outputId": "2c8bb7a0-c9fa-47ec-a956-6615e5f15441"
      },
      "outputs": [
        {
          "output_type": "stream",
          "name": "stdout",
          "text": [
            "До изменения x = hello\n",
            "После изменения x = world\n"
          ]
        }
      ],
      "source": [
        "def outer_function():\n",
        "    x = 'hello'\n",
        "    print(\"До изменения x =\", x)\n",
        "\n",
        "    def inner_function():\n",
        "        nonlocal x\n",
        "        x = 'world'\n",
        "\n",
        "    inner_function()\n",
        "    print(\"После изменения x =\", x)\n",
        "\n",
        "outer_function()"
      ]
    },
    {
      "cell_type": "markdown",
      "metadata": {
        "id": "pdGUcSdsSL7y"
      },
      "source": [
        "Ключевое слово `nonlocal` позволяет изменять переменные объемлющей (но не глобальной) области видимости."
      ]
    },
    {
      "cell_type": "markdown",
      "metadata": {
        "id": "KBeSVSIeSL7y"
      },
      "source": [
        "## Встроенная область видимости (Built-in Scope)\n",
        "\n",
        "В рамках этой области видимости находятся функции open, len и т.п., также туда входят исключения. Эти сущности доступны в любом модуле Python и не требуют предварительного импорта. Built-in – это максимально широкая область видимости."
      ]
    },
    {
      "cell_type": "markdown",
      "metadata": {
        "id": "MQNoNOe2SL7y"
      },
      "source": [
        "### Пример"
      ]
    },
    {
      "cell_type": "code",
      "execution_count": null,
      "metadata": {
        "colab": {
          "base_uri": "https://localhost:8080/"
        },
        "id": "MVSsqavRSL7y",
        "outputId": "3e3a23a7-c094-4b3f-8565-9fd6ffceb0b0"
      },
      "outputs": [
        {
          "output_type": "stream",
          "name": "stdout",
          "text": [
            "6\n"
          ]
        }
      ],
      "source": [
        "print(len(\"Python\"))  # Вызов встроенной функции len()"
      ]
    },
    {
      "cell_type": "markdown",
      "metadata": {
        "notebookRunGroups": {
          "groupValue": "2"
        },
        "id": "e1rjsBKWSL7y"
      },
      "source": [
        "Здесь `len` является встроенной функцией Python."
      ]
    },
    {
      "cell_type": "markdown",
      "metadata": {
        "id": "2H19DGhRSL7y"
      },
      "source": [
        "## Порядок поиска переменных: правило LEGB\n",
        "\n",
        "При обращении к переменной Python следует правилу LEGB:\n",
        "- **L (Local)**: окальная область видимости текущей функции.\n",
        "- **E (Enclosing)**: Объемлющая область видимости, то есть области всех объемлющих функций.\n",
        "- **G (Global)**: Глобальная область видимости текущего модуля.\n",
        "- **B (Built-in)**: Встроенная область видимости (функции и исключения, встроенные в Python)."
      ]
    },
    {
      "cell_type": "markdown",
      "metadata": {
        "id": "YRfpRj-dSL7y"
      },
      "source": [
        "### Пример демонстрации LEGB"
      ]
    },
    {
      "cell_type": "code",
      "execution_count": null,
      "metadata": {
        "colab": {
          "base_uri": "https://localhost:8080/"
        },
        "id": "CpCNZWh5SL7z",
        "outputId": "31893232-25b9-4bb6-df1e-4389f57714e0"
      },
      "outputs": [
        {
          "output_type": "stream",
          "name": "stdout",
          "text": [
            "local x\n",
            "enclosing x\n",
            "global x\n"
          ]
        }
      ],
      "source": [
        "x = 'global x'\n",
        "\n",
        "def outer():\n",
        "    x = 'enclosing x'\n",
        "\n",
        "    def inner():\n",
        "        x = 'local x'\n",
        "        print(x)  # Поиск переменной x начинается с локальной области\n",
        "\n",
        "    inner()\n",
        "    print(x)  # Здесь x из объемлющей области\n",
        "\n",
        "outer()\n",
        "print(x)  # Здесь x из глобальной области"
      ]
    },
    {
      "cell_type": "markdown",
      "source": [
        "![image.png](data:image/png;base64,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)"
      ],
      "metadata": {
        "id": "4oD5yuZUu3oE"
      }
    },
    {
      "cell_type": "markdown",
      "metadata": {
        "id": "hFWnK7kWSL7z"
      },
      "source": [
        "## Локальная и глобальная область видимости в циклах и условных операторах\n",
        "\n",
        "В циклах и условных операторах переменные, объявленные внутри них, относятся к той же области видимости, что и окружающий код.\n",
        "\n",
        "### Пример"
      ]
    },
    {
      "cell_type": "code",
      "execution_count": null,
      "metadata": {
        "colab": {
          "base_uri": "https://localhost:8080/"
        },
        "id": "R1mz9dW4SL7z",
        "outputId": "47623713-ec90-46d2-da0c-8fb62b302ad6"
      },
      "outputs": [
        {
          "output_type": "stream",
          "name": "stdout",
          "text": [
            "Значение x после цикла: 2\n"
          ]
        }
      ],
      "source": [
        "for i in range(3):\n",
        "    x = i  # x имеет ту же область видимости, что и окружающий код\n",
        "\n",
        "print(\"Значение x после цикла:\", x)"
      ]
    },
    {
      "cell_type": "markdown",
      "metadata": {
        "id": "LpTgr8BdSL7z"
      },
      "source": [
        "Переменная `x` доступна после цикла, так как она была объявлена в глобальной области видимости."
      ]
    },
    {
      "cell_type": "markdown",
      "metadata": {
        "id": "l1hqo0BRSL7z"
      },
      "source": [
        "## Практические примеры\n",
        "\n",
        "### Пример 1: Использование глобальной переменной внутри функции"
      ]
    },
    {
      "cell_type": "code",
      "execution_count": null,
      "metadata": {
        "colab": {
          "base_uri": "https://localhost:8080/"
        },
        "id": "4ACnlqSUSL7z",
        "outputId": "01dd7252-765c-4166-d638-da0591ff8492"
      },
      "outputs": [
        {
          "output_type": "stream",
          "name": "stdout",
          "text": [
            "Значение count: 2\n"
          ]
        }
      ],
      "source": [
        "count = 0  # Глобальная переменная\n",
        "\n",
        "def increment():\n",
        "    global count\n",
        "    count += 1\n",
        "\n",
        "increment()\n",
        "increment()\n",
        "print(\"Значение count:\", count)"
      ]
    },
    {
      "cell_type": "markdown",
      "metadata": {
        "id": "sraeErJySL7z"
      },
      "source": [
        "### Пример 2: Вложенные функции и `nonlocal`"
      ]
    },
    {
      "cell_type": "code",
      "execution_count": null,
      "metadata": {
        "colab": {
          "base_uri": "https://localhost:8080/"
        },
        "id": "pRoqn_7CSL7z",
        "outputId": "e06f6eac-bdf1-4c07-ab96-34841090c8a8"
      },
      "outputs": [
        {
          "output_type": "stream",
          "name": "stdout",
          "text": [
            "Внутреннее сообщение\n"
          ]
        }
      ],
      "source": [
        "def outer():\n",
        "    message = 'Внешнее сообщение'\n",
        "\n",
        "    def inner():\n",
        "        nonlocal message\n",
        "        message = 'Внутреннее сообщение'\n",
        "\n",
        "    inner()\n",
        "    print(message)\n",
        "\n",
        "outer()"
      ]
    },
    {
      "cell_type": "markdown",
      "metadata": {
        "id": "CGcrffZcSL7z"
      },
      "source": [
        "### Пример 3: Ошибка при попытке изменить глобальную переменную без `global`\n"
      ]
    },
    {
      "cell_type": "code",
      "execution_count": null,
      "metadata": {
        "colab": {
          "base_uri": "https://localhost:8080/",
          "height": 305
        },
        "id": "oR4lpIv9SL7z",
        "outputId": "21ca3c63-5b89-47a3-85ab-f782da628bdb"
      },
      "outputs": [
        {
          "output_type": "error",
          "ename": "UnboundLocalError",
          "evalue": "local variable 'total' referenced before assignment",
          "traceback": [
            "\u001b[0;31m---------------------------------------------------------------------------\u001b[0m",
            "\u001b[0;31mUnboundLocalError\u001b[0m                         Traceback (most recent call last)",
            "\u001b[0;32m<ipython-input-43-ac6a1be87823>\u001b[0m in \u001b[0;36m<cell line: 6>\u001b[0;34m()\u001b[0m\n\u001b[1;32m      4\u001b[0m     \u001b[0mtotal\u001b[0m \u001b[0;34m+=\u001b[0m \u001b[0mamount\u001b[0m  \u001b[0;31m# Ошибка!\u001b[0m\u001b[0;34m\u001b[0m\u001b[0;34m\u001b[0m\u001b[0m\n\u001b[1;32m      5\u001b[0m \u001b[0;34m\u001b[0m\u001b[0m\n\u001b[0;32m----> 6\u001b[0;31m \u001b[0madd_to_total\u001b[0m\u001b[0;34m(\u001b[0m\u001b[0;36m5\u001b[0m\u001b[0;34m)\u001b[0m\u001b[0;34m\u001b[0m\u001b[0;34m\u001b[0m\u001b[0m\n\u001b[0m",
            "\u001b[0;32m<ipython-input-43-ac6a1be87823>\u001b[0m in \u001b[0;36madd_to_total\u001b[0;34m(amount)\u001b[0m\n\u001b[1;32m      2\u001b[0m \u001b[0;34m\u001b[0m\u001b[0m\n\u001b[1;32m      3\u001b[0m \u001b[0;32mdef\u001b[0m \u001b[0madd_to_total\u001b[0m\u001b[0;34m(\u001b[0m\u001b[0mamount\u001b[0m\u001b[0;34m)\u001b[0m\u001b[0;34m:\u001b[0m\u001b[0;34m\u001b[0m\u001b[0;34m\u001b[0m\u001b[0m\n\u001b[0;32m----> 4\u001b[0;31m     \u001b[0mtotal\u001b[0m \u001b[0;34m+=\u001b[0m \u001b[0mamount\u001b[0m  \u001b[0;31m# Ошибка!\u001b[0m\u001b[0;34m\u001b[0m\u001b[0;34m\u001b[0m\u001b[0m\n\u001b[0m\u001b[1;32m      5\u001b[0m \u001b[0;34m\u001b[0m\u001b[0m\n\u001b[1;32m      6\u001b[0m \u001b[0madd_to_total\u001b[0m\u001b[0;34m(\u001b[0m\u001b[0;36m5\u001b[0m\u001b[0;34m)\u001b[0m\u001b[0;34m\u001b[0m\u001b[0;34m\u001b[0m\u001b[0m\n",
            "\u001b[0;31mUnboundLocalError\u001b[0m: local variable 'total' referenced before assignment"
          ]
        }
      ],
      "source": [
        "total = 0\n",
        "\n",
        "def add_to_total(amount):\n",
        "    total += amount  # Ошибка!\n",
        "\n",
        "add_to_total(5)"
      ]
    },
    {
      "cell_type": "markdown",
      "metadata": {
        "id": "FZnwxXg4SL7z"
      },
      "source": [
        "Без объявления `total` как `global`, Python считает `total` локальной переменной в функции, но она не была инициализирована внутри функции до использования."
      ]
    },
    {
      "cell_type": "markdown",
      "metadata": {
        "id": "V9x6KACMSL7z"
      },
      "source": [
        "#### Рекомендации по использованию глобальных переменных\n",
        "\n",
        "- **Минимизируйте использование глобальных переменных**: Они усложняют отладку и делают код менее прозрачным.\n",
        "- **Избегайте изменений глобальных переменных внутри функций**: Это может привести к непредсказуемому поведению.\n",
        "- **Используйте параметры функций и возвращаемые значения**: Это делает функции более самостоятельными и понятными."
      ]
    },
    {
      "cell_type": "markdown",
      "metadata": {
        "id": "4xuTNTesSL7z"
      },
      "source": [
        "## **Лямбда-функции в Python**\n",
        "\n",
        "**Лямбда-функция** в Python — это небольшая анонимная функция, определяемая без использования ключевого слова `def`. Лямбда-функции могут принимать любое количество аргументов, но содержат только одно выражение.\n",
        "\n",
        "#### Синтаксис\n",
        "\n",
        "```python\n",
        "lambda аргументы: выражение\n",
        "```\n",
        "\n",
        "- **аргументы** — один или несколько аргументов, разделённых запятыми.\n",
        "- **выражение** — единственное выражение, результат которого возвращается.\n",
        "\n",
        "#### Особенности лямбда-функций\n",
        "\n",
        "- **Анонимность**: лямбда-функции не имеют имени.\n",
        "- **Ограниченность**: Содержат только одно выражение.\n",
        "- **Использование**: часто используются в местах, где требуется функция на один раз, или в качестве аргументов других функций."
      ]
    },
    {
      "cell_type": "markdown",
      "metadata": {
        "id": "ausH2hTCSL7z"
      },
      "source": [
        "### Сравнение с обычными функциями\n",
        "\n",
        "Если лямбда-функция становится сложной, лучше использовать обычное определение функции с помощью `def`.\n",
        "\n",
        "#### Использование `def`:\n",
        "\n",
        "```python\n",
        "def add(x, y):\n",
        "    return x + y\n",
        "\n",
        "print(add(3, 4))  # Выведет: 7\n",
        "```\n",
        "\n",
        "#### Использование `lambda`:\n",
        "\n",
        "```python\n",
        "add = lambda x, y: x + y\n",
        "print(add(3, 4))  # Выведет: 7\n",
        "```"
      ]
    },
    {
      "cell_type": "markdown",
      "metadata": {
        "id": "LzdHNdDQSL7z"
      },
      "source": [
        "## Примеры использования\n",
        "\n",
        "### Пример 1: Простая лямбда-функция"
      ]
    },
    {
      "cell_type": "markdown",
      "metadata": {
        "id": "57O9-EmsSL7z"
      },
      "source": [
        "Создадим лямбда-функцию для умножения числа на 2:"
      ]
    },
    {
      "cell_type": "code",
      "execution_count": null,
      "metadata": {
        "colab": {
          "base_uri": "https://localhost:8080/"
        },
        "id": "qDe4edQLSL7z",
        "outputId": "12b7cc6a-e9c7-4e0a-96e2-27973791686a"
      },
      "outputs": [
        {
          "output_type": "stream",
          "name": "stdout",
          "text": [
            "10\n"
          ]
        }
      ],
      "source": [
        "multiply_by_two = lambda x: x * 2\n",
        "print(multiply_by_two(5))  # Выведет: 10"
      ]
    },
    {
      "cell_type": "markdown",
      "source": [
        "\n",
        "\n",
        "1. **Определение лямбда-функции:**\n",
        "   - `multiply_by_two = lambda x: x * 2` создает анонимную функцию (лямбда-функцию).\n",
        "   - Эта функция принимает один аргумент `x` и возвращает результат выражения `x * 2`.\n",
        "\n",
        "2. **Использование функции:**\n",
        "   - `print(multiply_by_two(5))` вызывает созданную лямбда-функцию с аргументом 5.\n",
        "   - Результат выполнения функции (10) выводится на экран с помощью функции `print()`.\n",
        "\n",
        "#### Подробный разбор\n",
        "\n",
        "1. **Лямбда-функция:**\n",
        "   - В данном случае, `x` - это аргумент функции, а `x * 2` - выражение, которое будет выполнено.\n",
        "\n",
        "2. **Операция умножения:**\n",
        "   - Выражение `x * 2` умножает переданный аргумент на 2\n",
        "\n",
        "3. **Присваивание имени:**\n",
        "   - Хотя лямбда-функции анонимны, здесь мы присваиваем её переменной `multiply_by_two`, что позволяет нам использовать эту функцию многократно.\n",
        "\n",
        "4. **Вывод результата:**\n",
        "   - Функция `print()` используется для вывода результата на экран.\n",
        "\n"
      ],
      "metadata": {
        "id": "lbk97F85xsfR"
      }
    },
    {
      "cell_type": "markdown",
      "metadata": {
        "id": "i3Sace63SL7z"
      },
      "source": [
        "### Пример 2: Лямбда-функция без присвоения имени\n",
        "\n",
        "Можно использовать лямбда-функцию непосредственно при вызове:"
      ]
    },
    {
      "cell_type": "code",
      "execution_count": null,
      "metadata": {
        "colab": {
          "base_uri": "https://localhost:8080/"
        },
        "id": "E18fne9ySL7z",
        "outputId": "2101f51d-c6c9-490c-f2af-cc96a081e95f"
      },
      "outputs": [
        {
          "output_type": "stream",
          "name": "stdout",
          "text": [
            "7\n"
          ]
        }
      ],
      "source": [
        "result = (lambda x, y: x + y)(3, 4)\n",
        "print(result)  # Выведет: 7"
      ]
    },
    {
      "cell_type": "markdown",
      "source": [
        "1. **Определение и вызов лямбда-функции:**\n",
        "   - `(lambda x, y: x + y)` создает анонимную функцию, которая принимает два аргумента `x` и `y` и возвращает их сумму.\n",
        "   - `(3, 4)` сразу же вызывает эту функцию с аргументами 3 и 4.\n",
        "\n",
        "2. **Присваивание результата:**\n",
        "   - Результат выполнения лямбда-функции (7) присваивается переменной `result`.\n",
        "\n",
        "3. **Вывод результата:**\n",
        "   - `print(result)` выводит значение переменной `result` на экран.\n",
        "\n",
        "#### Подробный разбор\n",
        "\n",
        "1. **Лямбда-функция:**\n",
        "   - В этом примере лямбда-функция принимает два аргумента, `x` и `y`.\n",
        "   - Выражение `x + y` складывает эти два аргумента.\n",
        "\n",
        "2. **Немедленный вызов функции:**\n",
        "   - Лямбда-функция создается и тут же вызывается с аргументами 3 и 4.\n",
        "   - Это эквивалентно написанию `(lambda x, y: x + y)(3, 4)`, где первая часть определяет функцию, а вторая часть вызывает её.\n",
        "\n",
        "3. **Преимущества такого подхода:**\n",
        "   - Этот метод позволяет создать и использовать функцию \"на лету\", без необходимости давать ей имя.\n",
        "   - Особенно полезно, когда функция нужна только один раз и её логика проста."
      ],
      "metadata": {
        "id": "MkwR8ujsyD1D"
      }
    },
    {
      "cell_type": "markdown",
      "metadata": {
        "id": "bD8xgRpKSL70"
      },
      "source": [
        "### Пример 3: Условное выражение внутри лямбда-функции\n",
        "\n",
        "Лямбда-функции могут включать условные выражения:"
      ]
    },
    {
      "cell_type": "code",
      "execution_count": null,
      "metadata": {
        "colab": {
          "base_uri": "https://localhost:8080/"
        },
        "id": "lwgmLkI4SL70",
        "outputId": "f574ffb2-9ff7-4efe-d481-f56044a3b25d"
      },
      "outputs": [
        {
          "output_type": "stream",
          "name": "stdout",
          "text": [
            "15\n"
          ]
        }
      ],
      "source": [
        "max_func = lambda a, b: a if a > b else b\n",
        "print(max_func(10, 15))  # Выведет: 15"
      ]
    },
    {
      "cell_type": "markdown",
      "source": [
        "1. **Определение лямбда-функции:**\n",
        "   - `lambda a, b: a if a > b else b` создает анонимную функцию, которая принимает два аргумента `a` и `b`.\n",
        "   - Эта функция возвращает большее из двух значений.\n",
        "\n",
        "2. **Присваивание лямбда-функции переменной:**\n",
        "   - Созданная лямбда-функция присваивается переменной `max_func`.\n",
        "\n",
        "3. **Использование функции:**\n",
        "   - `print(max_func(10, 15))` вызывает созданную функцию с аргументами 10 и 15.\n",
        "\n",
        "#### Подробный разбор\n",
        "\n",
        "1. **Структура лямбда-функции:**\n",
        "   - `lambda a, b:` определяет, что функция принимает два аргумента, `a` и `b`.\n",
        "   - Часть после двоеточия - это выражение, которое вычисляется и возвращается функцией.\n",
        "\n",
        "2. **Условное выражение:**\n",
        "   - `a if a > b else b` - это тернарный оператор в Python.\n",
        "   - Он возвращает `a`, если `a > b` истинно, иначе возвращает `b`.\n",
        "\n",
        "3. **Функциональность:**\n",
        "   - Эта лямбда-функция эффективно находит максимум из двух чисел.\n",
        "\n",
        "4. **Применение:**\n",
        "   - При вызове `max_func(10, 15)`, функция сравнивает 10 и 15, и возвращает большее значение (15)."
      ],
      "metadata": {
        "id": "D6vGH7YVy30j"
      }
    },
    {
      "cell_type": "markdown",
      "metadata": {
        "id": "UxxcvGq-SL70"
      },
      "source": [
        "\n",
        "### Пример 4: Применение лямбда-функции в сортировке\n",
        "\n",
        "Лямбда-функции часто используются в качестве ключа сортировки:"
      ]
    },
    {
      "cell_type": "code",
      "execution_count": null,
      "metadata": {
        "colab": {
          "base_uri": "https://localhost:8080/"
        },
        "id": "b2sM9BjYSL70",
        "outputId": "54c26090-f441-46e6-ddf0-8dfcc15cdad2"
      },
      "outputs": [
        {
          "output_type": "stream",
          "name": "stdout",
          "text": [
            "['date', 'apple', 'banana', 'cherry']\n"
          ]
        }
      ],
      "source": [
        "fruits = ['apple', 'banana', 'cherry', 'date']\n",
        "sorted_fruits = sorted(fruits, key=lambda x: len(x))\n",
        "print(sorted_fruits)  # Выведет: ['date', 'apple', 'banana', 'cherry']"
      ]
    },
    {
      "cell_type": "markdown",
      "source": [
        "1. **Создание списка фруктов:**\n",
        "   - `fruits = ['apple', 'banana', 'cherry', 'date']` создает список строк с названиями фруктов.\n",
        "\n",
        "2. **Сортировка списка:**\n",
        "   - `sorted(fruits, key=lambda x: len(x))` сортирует список `fruits` с использованием встроенной функции `sorted()`.\n",
        "   - Параметр `key` определяет критерий сортировки с помощью лямбда-функции.\n",
        "\n",
        "3. **Вывод результата:**\n",
        "   - `print(sorted_fruits)` выводит отсортированный список.\n",
        "\n",
        "#### Подробный разбор\n",
        "\n",
        "1. **Функция `sorted()`:**\n",
        "   - `sorted()` - это встроенная функция Python, которая возвращает новый отсортированный список.\n",
        "   - Она не изменяет исходный список, а создает новый.\n",
        "\n",
        "2. **Параметр `key`:**\n",
        "   - `key=lambda x: len(x)` определяет функцию, которая будет применяться к каждому элементу списка для определения порядка сортировки.\n",
        "   - В данном случае, эта функция возвращает длину каждой строки.\n",
        "\n",
        "3. **Лямбда-функция:**\n",
        "   - `lambda x: len(x)` - это анонимная функция, которая принимает аргумент `x` (в данном случае, строку) и возвращает её длину.\n",
        "\n",
        "4. **Процесс сортировки:**\n",
        "   - Python применяет лямбда-функцию к каждому элементу списка и сортирует элементы на основе возвращаемых значений (длин строк).\n",
        "\n",
        "5. **Результат:**\n",
        "   - Фрукты сортируются по возрастанию длины их названий: 'date' (4 буквы), 'apple' (5 букв), 'banana' (6 букв), 'cherry' (6 букв)."
      ],
      "metadata": {
        "id": "FCpGlTOxzLBC"
      }
    },
    {
      "cell_type": "markdown",
      "metadata": {
        "id": "_wKLSiWeSL70"
      },
      "source": [
        "Здесь список фруктов сортируется по длине названия плода."
      ]
    },
    {
      "cell_type": "markdown",
      "metadata": {
        "id": "1jy1QRXqSL70"
      },
      "source": [
        "### Пример 5: Лямбда-функции с несколькими аргументами\n",
        "\n",
        "Лямбда-функции могут принимать несколько аргументов:"
      ]
    },
    {
      "cell_type": "code",
      "execution_count": null,
      "metadata": {
        "colab": {
          "base_uri": "https://localhost:8080/"
        },
        "id": "9OWN7J01SL70",
        "outputId": "976d4a13-bdc1-40ce-9aaf-3a1b763251e2"
      },
      "outputs": [
        {
          "output_type": "stream",
          "name": "stdout",
          "text": [
            "24\n"
          ]
        }
      ],
      "source": [
        "volume = lambda l, w, h: l * w * h\n",
        "print(volume(2, 3, 4))  # Выведет: 24"
      ]
    },
    {
      "cell_type": "markdown",
      "metadata": {
        "id": "Ky6dWnMESL70"
      },
      "source": [
        "### Пример 6: Использование лямбда-функции в списковых включениях\n",
        "\n",
        "Лямбда-функции можно использовать в списковых включениях для создания списков:"
      ]
    },
    {
      "cell_type": "code",
      "execution_count": null,
      "metadata": {
        "colab": {
          "base_uri": "https://localhost:8080/"
        },
        "id": "NNQr-yHOSL70",
        "outputId": "956dadb2-1bcb-4313-ab24-7640bbecc9c4"
      },
      "outputs": [
        {
          "output_type": "stream",
          "name": "stdout",
          "text": [
            "[1, 4, 9, 16, 25]\n"
          ]
        }
      ],
      "source": [
        "numbers = [1, 2, 3, 4, 5]\n",
        "squared_numbers = [(lambda x: x ** 2)(n) for n in numbers]\n",
        "print(squared_numbers)  # Выведет: [1, 4, 9, 16, 25]"
      ]
    },
    {
      "cell_type": "markdown",
      "source": [
        "1. **Создание исходного списка:**\n",
        "   - `numbers = [1, 2, 3, 4, 5]` создает список целых чисел от 1 до 5.\n",
        "\n",
        "2. **Создание списка квадратов:**\n",
        "   - `[(lambda x: x ** 2)(n) for n in numbers]` использует списковое включение (list comprehension) для создания нового списка.\n",
        "\n",
        "3. **Вывод результата:**\n",
        "   - `print(squared_numbers)` выводит список квадратов чисел.\n",
        "\n",
        "#### Подробный разбор\n",
        "\n",
        "1. **Списковое включение:**\n",
        "   - Это компактный способ создания нового списка на основе существующего.\n",
        "   - Общая форма: `[выражение for элемент in итерируемый_объект]`\n",
        "\n",
        "2. **Лямбда-функция внутри спискового включения:**\n",
        "   - `(lambda x: x ** 2)` создает анонимную функцию, которая возводит свой аргумент в квадрат.\n",
        "   - `(n)` сразу же вызывает эту лямбда-функцию для каждого `n` из `numbers`.\n",
        "\n",
        "3. **Процесс выполнения:**\n",
        "   - Для каждого числа `n` в `numbers` вычисляется его квадрат.\n",
        "   - Результаты собираются в новый список `squared_numbers`.\n",
        "\n",
        "4. **Результат:**\n",
        "   - Получается список `[1, 4, 9, 16, 25]`, где каждое число является квадратом соответствующего числа из исходного списка."
      ],
      "metadata": {
        "id": "woHqZaWb0S8R"
      }
    },
    {
      "cell_type": "markdown",
      "metadata": {
        "id": "T9ZEMfRySL70"
      },
      "source": [
        "### Пример 7: Создание словаря функций с помощью лямбда-функций\n",
        "\n",
        "Можно использовать лямбда-функции для создания словаря функций:"
      ]
    },
    {
      "cell_type": "code",
      "execution_count": null,
      "metadata": {
        "colab": {
          "base_uri": "https://localhost:8080/"
        },
        "id": "22TnzZdfSL70",
        "outputId": "573db2d3-4bcb-40e7-c603-7298922ae62a"
      },
      "outputs": [
        {
          "output_type": "stream",
          "name": "stdout",
          "text": [
            "15\n",
            "5\n",
            "50\n",
            "2.0\n"
          ]
        }
      ],
      "source": [
        "operations = {\n",
        "    'add': lambda x, y: x + y,\n",
        "    'subtract': lambda x, y: x - y,\n",
        "    'multiply': lambda x, y: x * y,\n",
        "    'divide': lambda x, y: x / y if y != 0 else None\n",
        "}\n",
        "\n",
        "print(operations['add'](10, 5))        # Выведет: 15\n",
        "print(operations['subtract'](10, 5))   # Выведет: 5\n",
        "print(operations['multiply'](10, 5))   # Выведет: 50\n",
        "print(operations['divide'](10, 5))     # Выведет: 2.0"
      ]
    },
    {
      "cell_type": "markdown",
      "metadata": {
        "id": "jsPU4AhzSL70"
      },
      "source": [
        "### Пример 8: Лямбда-функция для обработки исключений\n",
        "\n",
        "Хотя лямбда-функции ограничены одним выражением, они могут использовать тернарные операторы для реализации простых проверок:"
      ]
    },
    {
      "cell_type": "code",
      "execution_count": null,
      "metadata": {
        "colab": {
          "base_uri": "https://localhost:8080/"
        },
        "id": "8zEToaveSL70",
        "outputId": "d6191b55-2501-4315-d966-a28a50739503"
      },
      "outputs": [
        {
          "output_type": "stream",
          "name": "stdout",
          "text": [
            "5.0\n",
            "Деление на ноль!\n"
          ]
        }
      ],
      "source": [
        "safe_divide = lambda x, y: x / y if y != 0 else 'Деление на ноль!'\n",
        "print(safe_divide(10, 2))  # Выведет: 5.0\n",
        "print(safe_divide(10, 0))  # Выведет: Деление на ноль!"
      ]
    },
    {
      "cell_type": "markdown",
      "source": [
        "1. **Определение лямбда-функции:**\n",
        "   - `safe_divide = lambda x, y: x / y if y != 0 else 'Деление на ноль!'` создает функцию безопасного деления.\n",
        "\n",
        "2. **Использование функции:**\n",
        "   - `print(safe_divide(10, 2))` вызывает функцию с допустимыми аргументами.\n",
        "   - `print(safe_divide(10, 0))` демонстрирует обработку деления на ноль.\n",
        "\n",
        "#### Подробный разбор\n",
        "\n",
        "1. **Структура лямбда-функции:**\n",
        "   - `lambda x, y:` определяет, что функция принимает два аргумента, `x` (делимое) и `y` (делитель).\n",
        "   - Часть после двоеточия - это условное выражение, которое выполняет деление или возвращает сообщение об ошибке.\n",
        "\n",
        "2. **Условное выражение:**\n",
        "   - `x / y if y != 0 else 'Деление на ноль!'` - это тернарный оператор в Python.\n",
        "   - Он выполняет деление `x / y`, если `y` не равно нулю, иначе возвращает строку 'Деление на ноль!'.\n",
        "\n",
        "3. **Безопасность операции:**\n",
        "   - Функция предотвращает ошибку деления на ноль, которая обычно вызывает исключение в Python.\n",
        "\n",
        "4. **Результаты выполнения:**\n",
        "   - При `safe_divide(10, 2)` функция возвращает 5.0 (результат деления 10 на 2).\n",
        "   - При `safe_divide(10, 0)` функция возвращает строку 'Деление на ноль!' вместо вызова исключения."
      ],
      "metadata": {
        "id": "giOsTwD00tIV"
      }
    },
    {
      "cell_type": "markdown",
      "metadata": {
        "id": "v5w37oyKSL71"
      },
      "source": [
        "#### Когда использовать лямбда-функции?\n",
        "\n",
        "- **Одноразовые функции**: Когда функция нужна только в одном месте, и нет необходимости давать ей имя.\n",
        "- **Передача функции в качестве аргумента**: Когда требуется передать небольшую функцию в другую функцию.\n",
        "- **Улучшение читаемости**: При использовании простых операций, лямбда-функции могут сделать код более кратким и понятным.\n",
        "\n",
        "#### Ограничения лямбда-функций:\n",
        "\n",
        "- **Одно выражение**: лямбда-функции могут содержать только одно выражение, которое вычисляется и возвращается. Нельзя включать несколько инструкций или блоки кода.\n",
        "- **Отсутствие аннотаций типов**: Нельзя добавлять аннотации типов аргументов или возвращаемого значения (в версиях Python до 3.6).\n",
        "- **Отсутствие документации**: Нельзя добавить строку документации (docstring), что может затруднить понимание кода."
      ]
    },
    {
      "cell_type": "markdown",
      "metadata": {
        "id": "6hyN2HWwSL71"
      },
      "source": [
        "# **Функциональные функции в Python: `map()`, `filter()`, `reduce()`, `zip()`**\n",
        "\n",
        "В Python есть несколько встроенных функций, которые поддерживают функциональный стиль программирования. Среди них наиболее часто используются функции `map()`, `filter()`, `reduce()` и `zip()`. Эти функции позволяют обраатывать последовательности данных (списки, кортежи и др.) элегантно и эффективно.\n",
        "\n",
        "## **Функция `map()`**\n",
        "\n",
        "Функция `map()` применяет указанную функцию к каждому элементу итерируемого объекта (например, списка) и возвращает итератор с результатами.\n",
        "\n",
        "### Синтаксис\n",
        "```python\n",
        "map(function, iterable, ...)\n",
        "```\n",
        "\n",
        "- `function` — функция, которая будет применена к каждому элементу.\n",
        "- `iterable` — итерируемый объект (один или несколько), элементы которого будут обработаны."
      ]
    },
    {
      "cell_type": "markdown",
      "source": [
        "### Итератор"
      ],
      "metadata": {
        "id": "BUTTfvQD4zmA"
      }
    },
    {
      "cell_type": "markdown",
      "source": [
        "Итератор - это объект, который позволяет нам последовательно перебирать элементы какой-либо коллекции или последовательности данных. Его можно представить как указатель, который перемещается по элементам один за другим.\n",
        "\n",
        "#### Основные характеристики итератора:\n",
        "\n",
        "1. **Последовательный доступ:** Итератор предоставляет доступ к элементам по одному, в определенном порядке.\n",
        "\n",
        "2. **Одностороннее движение:** Обычно итератор может двигаться только вперед, к следующему элементу.\n",
        "\n",
        "3. **Без индексации:** Итератор не требует знания индексов элементов, он просто знает, как перейти к следующему.\n",
        "\n",
        "4. **Экономия памяти:** Итератор не хранит все элементы в памяти одновременно, что полезно для больших наборов данных.\n",
        "\n",
        "#### Простая аналогия:\n",
        "\n",
        "Представьте, что у вас есть книга (коллекция данных), и вы читаете ее страница за страницей. Ваш палец, который вы двигаете по строкам, - это итератор. Он знает, где вы сейчас находитесь в книге и как перейти к следующей строке или странице.\n",
        "\n",
        "#### Применение:\n",
        "\n",
        "- В циклах для перебора элементов списков, словарей и других коллекций.\n",
        "- При работе с большими объемами данных, когда нецелесообразно загружать все данные в память сразу.\n",
        "- В генераторах, которые создают значения \"на лету\"."
      ],
      "metadata": {
        "id": "nS_id4UW44DF"
      }
    },
    {
      "cell_type": "markdown",
      "metadata": {
        "id": "3YrqLoXRSL71"
      },
      "source": [
        "### Пример 1: Возведение в квадрат элементов списка"
      ]
    },
    {
      "cell_type": "code",
      "execution_count": null,
      "metadata": {
        "colab": {
          "base_uri": "https://localhost:8080/"
        },
        "id": "ghlSPxncSL71",
        "outputId": "0f613529-4e28-493d-8b90-dc6b78c3bdc0"
      },
      "outputs": [
        {
          "output_type": "stream",
          "name": "stdout",
          "text": [
            "[1, 4, 9, 16, 25]\n"
          ]
        }
      ],
      "source": [
        "numbers = [1, 2, 3, 4, 5]\n",
        "squared = map(lambda x: x ** 2, numbers)\n",
        "print(list(squared))"
      ]
    },
    {
      "cell_type": "markdown",
      "source": [
        "1. **Создание исходного списка:**\n",
        "   - `numbers = [1, 2, 3, 4, 5]` создает список целых чисел от 1 до 5.\n",
        "\n",
        "2. **Применение функции `map()`:**\n",
        "   - `map(lambda x: x ** 2, numbers)` применяет лямбда-функцию к каждому элементу списка `numbers`.\n",
        "\n",
        "3. **Вывод результата:**\n",
        "   - `print(list(squared))` преобразует объект map в список и выводит его.\n",
        "\n",
        "#### Подробный разбор\n",
        "\n",
        "1. **Функция `map()`:**\n",
        "   - `map()` применяет заданную функцию к каждому элементу итерируемого объекта.\n",
        "   - В данном случае, она применяет лямбда-функцию к каждому числу в списке `numbers`.\n",
        "\n",
        "2. **Лямбда-функция:**\n",
        "   - `lambda x: x ** 2` создает анонимную функцию, которая возводит свой аргумент в квадрат.\n",
        "   - Эта функция применяется к каждому элементу списка `numbers`.\n",
        "\n",
        "3. **Процесс выполнения:**\n",
        "   - `map()` последовательно берет элементы из `numbers`, передает их в лямбда-функцию и собирает результаты.\n",
        "\n",
        "4. **Результат:**\n",
        "   - Получается объект map, который при преобразовании в список даст `[1, 4, 9, 16, 25]`.\n",
        "   - Это список квадратов чисел из исходного списка `numbers`."
      ],
      "metadata": {
        "id": "4noK7jEr1Wsc"
      }
    },
    {
      "cell_type": "markdown",
      "metadata": {
        "id": "loXxafjBSL71"
      },
      "source": [
        "### Пример 2: Применение функции к двум спискам"
      ]
    },
    {
      "cell_type": "code",
      "execution_count": null,
      "metadata": {
        "colab": {
          "base_uri": "https://localhost:8080/"
        },
        "id": "96Tj5o6pSL71",
        "outputId": "07a28627-3a91-4072-ad09-ad35eee29bab"
      },
      "outputs": [
        {
          "output_type": "stream",
          "name": "stdout",
          "text": [
            "[5, 7, 9]\n"
          ]
        }
      ],
      "source": [
        "a = [1, 2, 3]\n",
        "b = [4, 5, 6]\n",
        "sum_ab = map(lambda x, y: x + y, a, b)\n",
        "print(list(sum_ab))"
      ]
    },
    {
      "cell_type": "markdown",
      "source": [
        "1. **Создание исходных списков:**\n",
        "   - `a = [1, 2, 3]` и `b = [4, 5, 6]` создают два списка чисел.\n",
        "\n",
        "2. **Применение функции `map()`:**\n",
        "   - `map(lambda x, y: x + y, a, b)` применяет лямбда-функцию к элементам списков `a` и `b`.\n",
        "\n",
        "3. **Вывод результата:**\n",
        "   - `print(list(sum_ab))` преобразует объект map в список и выводит его.\n",
        "\n",
        "#### Подробный разбор\n",
        "\n",
        "1. **Функция `map()`:**\n",
        "   - `map()` применяет заданную функцию к каждому элементу итерируемого объекта (или объектов).\n",
        "   - В данном случае, она применяет лямбда-функцию к парам элементов из списков `a` и `b`.\n",
        "\n",
        "2. **Лямбда-функция:**\n",
        "   - `lambda x, y: x + y` создает анонимную функцию, которая принимает два аргумента и возвращает их сумму.\n",
        "\n",
        "3. **Процесс выполнения:**\n",
        "   - `map()` последовательно берет элементы из `a` и `b`, передает их в лямбда-функцию и собирает результаты.\n",
        "\n",
        "4. **Результат:**\n",
        "   - Получается объект map, который при преобразовании в список даст `[5, 7, 9]`.\n",
        "   - Это поэлементная сумма списков `a` и `b`."
      ],
      "metadata": {
        "id": "y6ADr_JA1Neq"
      }
    },
    {
      "cell_type": "markdown",
      "metadata": {
        "id": "6SrnMY0iSL71"
      },
      "source": [
        "## **Функция `filter()`**\n",
        "\n",
        "Функция `filter()` создаёт итератор из тех элементов итерируемого объекта, для которых функция вернёт `True`.\n",
        "\n",
        "### Синтаксис\n",
        "```python\n",
        "filter(function, iterable)\n",
        "```\n",
        "\n",
        "- `function` — функция, возвращающая `True` или `False`.\n",
        "- `iterable` — итерируемый объект."
      ]
    },
    {
      "cell_type": "markdown",
      "metadata": {
        "id": "HXX7EZrrSL71"
      },
      "source": [
        "### Пример 1: Фильтрация чётных чисел"
      ]
    },
    {
      "cell_type": "code",
      "execution_count": null,
      "metadata": {
        "colab": {
          "base_uri": "https://localhost:8080/"
        },
        "id": "W1LQuRq4SL71",
        "outputId": "a025be41-267d-446d-8aba-85171348c8ec"
      },
      "outputs": [
        {
          "output_type": "stream",
          "name": "stdout",
          "text": [
            "[2, 4, 6]\n"
          ]
        }
      ],
      "source": [
        "numbers = [1, 2, 3, 4, 5, 6]\n",
        "even_numbers = filter(lambda x: x % 2 == 0, numbers)\n",
        "print(list(even_numbers))"
      ]
    },
    {
      "cell_type": "markdown",
      "source": [
        "\n",
        "\n",
        "1. **Создание исходного списка:**\n",
        "   - `numbers = [1, 2, 3, 4, 5, 6]` создает список целых чисел от 1 до 6.\n",
        "\n",
        "2. **Применение функции `filter()`:**\n",
        "   - `filter(lambda x: x % 2 == 0, numbers)` применяет лямбда-функцию к каждому элементу списка `numbers` и фильтрует элементы.\n",
        "\n",
        "3. **Вывод результата:**\n",
        "   - `print(list(even_numbers))` преобразует объект filter в список и выводит его.\n",
        "\n",
        "#### Подробный разбор\n",
        "\n",
        "1. **Функция `filter()`:**\n",
        "   - `filter()` создает итератор из элементов, для которых функция-фильтр возвращает True.\n",
        "   - В данном случае, она применяет лямбда-функцию к каждому числу в списке `numbers` и оставляет только те, для которых функция вернула True.\n",
        "\n",
        "2. **Лямбда-функция:**\n",
        "   - `lambda x: x % 2 == 0` создает анонимную функцию, которая проверяет, является ли число четным.\n",
        "   - Оператор `%` возвращает остаток от деления. Если остаток равен 0, число четное.\n",
        "\n",
        "3. **Процесс выполнения:**\n",
        "   - `filter()` последовательно применяет лямбда-функцию к каждому элементу списка `numbers`.\n",
        "   - Элементы, для которых функция возвращает True (четные числа), включаются в результат.\n",
        "\n",
        "4. **Результат:**\n",
        "   - Получается объект filter, который при преобразовании в список даст `[2, 4, 6]`.\n",
        "   - Это список четных чисел из исходного списка `numbers`.\n"
      ],
      "metadata": {
        "id": "zrM3mn1J1nMM"
      }
    },
    {
      "cell_type": "markdown",
      "metadata": {
        "id": "rQ86KQD4SL71"
      },
      "source": [
        "### Пример 2: Фильтрация строк по длине"
      ]
    },
    {
      "cell_type": "code",
      "execution_count": null,
      "metadata": {
        "colab": {
          "base_uri": "https://localhost:8080/"
        },
        "id": "RnjoWXlnSL71",
        "outputId": "c27e8bab-7a8a-44b3-a1bf-934767d4d2e3"
      },
      "outputs": [
        {
          "output_type": "stream",
          "name": "stdout",
          "text": [
            "['banana', 'cherry']\n"
          ]
        }
      ],
      "source": [
        "words = ['apple', 'banana', 'cherry', 'date']\n",
        "long_words = filter(lambda x: len(x) > 5, words)\n",
        "print(list(long_words))"
      ]
    },
    {
      "cell_type": "markdown",
      "source": [
        "1. **Создание исходного списка:**\n",
        "   - `words = ['apple', 'banana', 'cherry', 'date']` создает список строк с названиями фруктов.\n",
        "\n",
        "2. **Применение функции `filter()`:**\n",
        "   - `filter(lambda x: len(x) > 5, words)` применяет лямбда-функцию к каждому элементу списка `words` и фильтрует элементы.\n",
        "\n",
        "3. **Вывод результата:**\n",
        "   - `print(list(long_words))` преобразует объект filter в список и выводит его.\n",
        "\n",
        "#### Подробный разбор\n",
        "\n",
        "1. **Функция `filter()`:**\n",
        "   - `filter()` создает итератор из элементов, для которых функция-фильтр возвращает True.\n",
        "   - В данном случае, она применяет лямбда-функцию к каждому слову в списке `words` и оставляет только те, для которых функция вернула True.\n",
        "\n",
        "2. **Лямбда-функция:**\n",
        "   - `lambda x: len(x) > 5` создает анонимную функцию, которая проверяет, длиннее ли слово 5 символов.\n",
        "   - `len(x)` возвращает длину строки, а `> 5` сравнивает эту длину с 5.\n",
        "\n",
        "3. **Процесс выполнения:**\n",
        "   - `filter()` последовательно применяет лямбда-функцию к каждому элементу списка `words`.\n",
        "   - Элементы, для которых функция возвращает True (слова длиннее 5 символов), включаются в результат.\n",
        "\n",
        "4. **Результат:**\n",
        "   - Получается объект filter, который при преобразовании в список даст `['banana', 'cherry']`.\n",
        "   - Это список слов из исходного списка `words`, длина которых больше 5 символов.\n",
        "\n"
      ],
      "metadata": {
        "id": "RZ_wzkPS18TQ"
      }
    },
    {
      "cell_type": "markdown",
      "metadata": {
        "id": "R5tRkmM3SL71"
      },
      "source": [
        "## **Функция `reduce()`**\n",
        "\n",
        "Функция `reduce()` последовательно применяет функцию-аккумулятор к элементам итерируемого объекта, сводя его к единственному значению. В Python 3 `reduce()` находится в модуле `functools`.\n",
        "\n",
        "### Синтаксис\n",
        "\n",
        "```python\n",
        "from functools import reduce\n",
        "reduce(function, iterable, initializer=None)\n",
        "```\n",
        "\n",
        "- `function` — функция, принимающая два аргумента и возвращающая одно значение.\n",
        "- `iterable` — итерируемый объект.\n",
        "- `initializer` (необязательный) — начальное значение."
      ]
    },
    {
      "cell_type": "markdown",
      "metadata": {
        "id": "_ADgCeEbSL71"
      },
      "source": [
        "### Пример 1: Сумма чисел в списке"
      ]
    },
    {
      "cell_type": "code",
      "execution_count": null,
      "metadata": {
        "colab": {
          "base_uri": "https://localhost:8080/"
        },
        "id": "R5tfB3w4SL71",
        "outputId": "2e484821-26bf-43b6-e47f-f370f1ccb119"
      },
      "outputs": [
        {
          "output_type": "stream",
          "name": "stdout",
          "text": [
            "15\n"
          ]
        }
      ],
      "source": [
        "from functools import reduce\n",
        "numbers = [1, 2, 3, 4, 5]\n",
        "total = reduce(lambda x, y: x + y, numbers)\n",
        "print(total)"
      ]
    },
    {
      "cell_type": "markdown",
      "source": [
        "\n",
        "1. **Импорт функции:**\n",
        "   - `from functools import reduce` импортирует функцию `reduce` из модуля `functools`.\n",
        "\n",
        "2. **Создание списка:**\n",
        "   - `numbers = [1, 2, 3, 4, 5]` создает список целых чисел.\n",
        "\n",
        "3. **Применение функции `reduce()`:**\n",
        "   - `reduce(lambda x, y: x + y, numbers)` применяет лямбда-функцию к элементам списка `numbers`.\n",
        "\n",
        "4. **Вывод результата:**\n",
        "   - `print(total)` выводит итоговое значение.\n",
        "\n",
        "#### Подробный разбор\n",
        "\n",
        "1. **Функция `reduce()`:**\n",
        "   - `reduce()` применяет функцию двух аргументов кумулятивно к элементам последовательности, слева направо, так чтобы уменьшить последовательность до одного значения.\n",
        "\n",
        "2. **Лямбда-функция:**\n",
        "   - `lambda x, y: x + y` создает анонимную функцию, которая складывает два числа.\n",
        "\n",
        "3. **Процесс выполнения:**\n",
        "   - `reduce()` начинает с первых двух элементов списка (1 и 2) и применяет к ним лямбда-функцию.\n",
        "   - Затем берет результат (3) и следующий элемент (3), снова применяет функцию.\n",
        "   - Этот процесс продолжается до конца списка.\n",
        "\n",
        "4. **Результат:**\n",
        "   - Итоговое значение будет 15, что является суммой всех чисел в списке (1 + 2 + 3 + 4 + 5).\n"
      ],
      "metadata": {
        "id": "ZU4Hxm0N2Jc8"
      }
    },
    {
      "cell_type": "markdown",
      "metadata": {
        "id": "yil8_1fkSL71"
      },
      "source": [
        "### Пример 2: Вычисление факториала"
      ]
    },
    {
      "cell_type": "code",
      "execution_count": null,
      "metadata": {
        "colab": {
          "base_uri": "https://localhost:8080/"
        },
        "id": "DJtdC8mUSL71",
        "outputId": "b7d3c793-0a1a-49fc-aa43-3350908ec3f5"
      },
      "outputs": [
        {
          "output_type": "stream",
          "name": "stdout",
          "text": [
            "120\n"
          ]
        }
      ],
      "source": [
        "from functools import reduce\n",
        "n = 5\n",
        "factorial = reduce(lambda x, y: x * y, range(1, n + 1))\n",
        "print(factorial)"
      ]
    },
    {
      "cell_type": "markdown",
      "source": [
        "1. **Импорт функции:**\n",
        "   - `from functools import reduce` импортирует функцию `reduce` из модуля `functools`.\n",
        "\n",
        "2. **Определение числа:**\n",
        "   - `n = 5` задает число, для которого мы хотим вычислить факториал.\n",
        "\n",
        "3. **Вычисление факториала:**\n",
        "   - `reduce(lambda x, y: x * y, range(1, n + 1))` использует `reduce` для вычисления факториала.\n",
        "\n",
        "4. **Вывод результата:**\n",
        "   - `print(factorial)` выводит вычисленный факториал.\n",
        "\n",
        "#### Подробный разбор\n",
        "\n",
        "1. **Функция `reduce()`:**\n",
        "   - `reduce()` применяет функцию двух аргументов кумулятивно к элементам последовательности, уменьшая её до одного значения.\n",
        "\n",
        "2. **Лямбда-функция:**\n",
        "   - `lambda x, y: x * y` создает анонимную функцию, которая умножает два числа.\n",
        "\n",
        "3. **Диапазон `range(1, n + 1)`:**\n",
        "   - Создает последовательность чисел от 1 до n (включительно).\n",
        "\n",
        "4. **Процесс выполнения:**\n",
        "   - `reduce()` последовательно умножает числа от 1 до n.\n",
        "   - Для n = 5, это эквивалентно вычислению 1 * 2 * 3 * 4 * 5.\n",
        "\n",
        "5. **Результат:**\n",
        "   - Для n = 5, результат будет 120, что является факториалом числа 5 (5!).\n"
      ],
      "metadata": {
        "id": "akRoWjYo2zTa"
      }
    },
    {
      "cell_type": "markdown",
      "metadata": {
        "id": "1AQ508OSSL71"
      },
      "source": [
        "## **Функция `zip()`**\n",
        "\n",
        "Функция `zip()` объединяет несколько итерируемых объектов в один итератор кортежей. Она проходит по каждому итерируемому объекту параллельно и объединяет соответствующие элементы в кортежи.\n",
        "\n",
        "### Синтаксис\n",
        "\n",
        "```python\n",
        "zip(*iterables)\n",
        "```\n",
        "\n",
        "- `*iterables` — любое количество итерируемых объектов."
      ]
    },
    {
      "cell_type": "markdown",
      "metadata": {
        "id": "ASslRhEFSL71"
      },
      "source": [
        "### Пример 1: Объединение списков в пары"
      ]
    },
    {
      "cell_type": "code",
      "execution_count": null,
      "metadata": {
        "colab": {
          "base_uri": "https://localhost:8080/"
        },
        "id": "HGcqSKaNSL71",
        "outputId": "f86b622a-8bf6-4c9f-f177-22e0c11d020a"
      },
      "outputs": [
        {
          "output_type": "stream",
          "name": "stdout",
          "text": [
            "[(1, 'a'), (2, 'b'), (3, 'c')]\n"
          ]
        }
      ],
      "source": [
        "a = [1, 2, 3]\n",
        "b = ['a', 'b', 'c']\n",
        "zipped = zip(a, b)\n",
        "print(list(zipped))"
      ]
    },
    {
      "cell_type": "markdown",
      "source": [
        "1. **Создание исходных списков:**\n",
        "   - `a = [1, 2, 3]` создает список чисел.\n",
        "   - `b = ['a', 'b', 'c']` создает список строк.\n",
        "\n",
        "2. **Применение функции `zip()`:**\n",
        "   - `zip(a, b)` объединяет элементы из списков `a` и `b`.\n",
        "\n",
        "3. **Вывод результата:**\n",
        "   - `print(list(zipped))` преобразует объект zip в список и выводит его.\n",
        "\n",
        "#### Подробный разбор\n",
        "\n",
        "1. **Функция `zip()`:**\n",
        "   - `zip()` создает итератор кортежей, где каждый кортеж содержит i-тый элемент из каждого переданного итерируемого объекта.\n",
        "   - В данном случае, она объединяет элементы из списков `a` и `b` попарно.\n",
        "\n",
        "2. **Процесс выполнения:**\n",
        "   - `zip()` берет первый элемент из `a` (1) и первый элемент из `b` ('a'), создавая кортеж (1, 'a').\n",
        "   - Затем берет вторые элементы (2 и 'b'), создавая кортеж (2, 'b').\n",
        "   - Процесс продолжается до тех пор, пока не закончится самый короткий из входных списков.\n",
        "\n",
        "3. **Результат:**\n",
        "   - Получается объект zip, который при преобразовании в список даст `[(1, 'a'), (2, 'b'), (3, 'c')]`.\n",
        "   - Каждый кортеж содержит соответствующие элементы из списков `a` и `b`.\n",
        "\n",
        "\n"
      ],
      "metadata": {
        "id": "YTTIzp6t3Kjn"
      }
    },
    {
      "cell_type": "markdown",
      "metadata": {
        "id": "r5iATP94SL71"
      },
      "source": [
        "### Пример 2: Создание словаря из двух списков"
      ]
    },
    {
      "cell_type": "code",
      "execution_count": null,
      "metadata": {
        "colab": {
          "base_uri": "https://localhost:8080/"
        },
        "id": "JYkLW_5YSL72",
        "outputId": "854d7c7a-24db-4ccb-e7df-87c70c5e8e08"
      },
      "outputs": [
        {
          "output_type": "stream",
          "name": "stdout",
          "text": [
            "{'name': 'Alice', 'age': 30, 'city': 'New York'}\n"
          ]
        }
      ],
      "source": [
        "keys = ['name', 'age', 'city']\n",
        "values = ['Alice', 30, 'New York']\n",
        "dictionary = dict(zip(keys, values))\n",
        "print(dictionary)"
      ]
    },
    {
      "cell_type": "markdown",
      "source": [
        "1. **Создание исходных списков:**\n",
        "   - `keys = ['name', 'age', 'city']` создает список ключей.\n",
        "   - `values = ['Alice', 30, 'New York']` создает список значений.\n",
        "\n",
        "2. **Применение функций `zip()` и `dict()`:**\n",
        "   - `zip(keys, values)` объединяет элементы из списков `keys` и `values`.\n",
        "   - `dict()` преобразует результат `zip()` в словарь.\n",
        "\n",
        "3. **Вывод результата:**\n",
        "   - `print(dictionary)` выводит созданный словарь.\n",
        "\n",
        "#### Подробный разбор\n",
        "\n",
        "1. **Функция `zip()`:**\n",
        "   - `zip(keys, values)` создает итератор кортежей, где каждый кортеж содержит соответствующие элементы из `keys` и `values`.\n",
        "\n",
        "2. **Функция `dict()`:**\n",
        "   - `dict()` принимает итератор пар (ключ, значение) и создает из них словарь.\n",
        "   - В данном случае, она преобразует результат `zip()` в словарь.\n",
        "\n",
        "3. **Процесс выполнения:**\n",
        "   - `zip()` создает пары: ('name', 'Alice'), ('age', 30), ('city', 'New York').\n",
        "   - `dict()` преобразует эти пары в словарь.\n",
        "\n",
        "4. **Результат:**\n",
        "   - Получается словарь: `{'name': 'Alice', 'age': 30, 'city': 'New York'}`.\n",
        "\n"
      ],
      "metadata": {
        "id": "S6QcUJ1H3Zi0"
      }
    },
    {
      "cell_type": "markdown",
      "metadata": {
        "id": "R5yztr0LSL72"
      },
      "source": [
        "### Пример 3: Распаковка с помощью `zip()`"
      ]
    },
    {
      "cell_type": "code",
      "execution_count": null,
      "metadata": {
        "colab": {
          "base_uri": "https://localhost:8080/"
        },
        "id": "YCxjSFk-SL72",
        "outputId": "f86081e2-c779-4aa4-a9e9-41531fc36e3f"
      },
      "outputs": [
        {
          "output_type": "stream",
          "name": "stdout",
          "text": [
            "letters: ('a', 'b', 'c')\n",
            "numbers: (1, 2, 3)\n"
          ]
        }
      ],
      "source": [
        "pairs = [('a', 1), ('b', 2), ('c', 3)]\n",
        "letters, numbers = zip(*pairs)\n",
        "print(\"letters:\", letters)\n",
        "print(\"numbers:\", numbers)"
      ]
    },
    {
      "cell_type": "markdown",
      "source": [
        "\n",
        "\n",
        "1. **Создание исходного списка:**\n",
        "   - `pairs = [('a', 1), ('b', 2), ('c', 3)]` создает список кортежей.\n",
        "\n",
        "2. **Применение функции `zip()` с распаковкой:**\n",
        "   - `zip(*pairs)` распаковывает список кортежей и применяет к ним функцию `zip()`.\n",
        "\n",
        "3. **Присваивание результатов:**\n",
        "   - `letters, numbers = ...` присваивает результаты распаковки двум переменным.\n",
        "\n",
        "4. **Вывод результатов:**\n",
        "   - Выводятся значения `letters` и `numbers`.\n",
        "\n",
        "#### Подробный разбор\n",
        "\n",
        "1. **Оператор распаковки `*`:**\n",
        "   - `*pairs` распаковывает список кортежей, превращая его в отдельные аргументы для `zip()`.\n",
        "\n",
        "2. **Функция `zip()`:**\n",
        "   - В данном случае, `zip()` группирует первые элементы каждого кортежа, затем вторые элементы и т.д.\n",
        "\n",
        "3. **Процесс выполнения:**\n",
        "   - `zip()` создает два кортежа: один из первых элементов каждой пары, другой из вторых элементов.\n",
        "\n",
        "4. **Результат:**\n",
        "   - `letters` будет содержать кортеж `('a', 'b', 'c')`.\n",
        "   - `numbers` будет содержать кортеж `(1, 2, 3)`.\n",
        "\n"
      ],
      "metadata": {
        "id": "aaMwRtux3uTF"
      }
    },
    {
      "cell_type": "markdown",
      "metadata": {
        "id": "HT-Qy0MOSL72"
      },
      "source": [
        "## **Комбинирование функций**\n",
        "\n",
        "Эти функции могут быть особенно производительными при совместном использовании.\n",
        "\n"
      ]
    },
    {
      "cell_type": "markdown",
      "source": [
        "### Пример: Фильтрация и преобраование\n",
        "\n",
        "Пусть у нас есть список чисел, и мы хотим получить квадраты чётных чисел."
      ],
      "metadata": {
        "id": "gm6fQGbN3rzU"
      }
    },
    {
      "cell_type": "code",
      "execution_count": null,
      "metadata": {
        "colab": {
          "base_uri": "https://localhost:8080/"
        },
        "id": "wyxvL70WSL72",
        "outputId": "8aa8bfe8-5c9e-43a0-bb8d-f3ef35d97337"
      },
      "outputs": [
        {
          "output_type": "stream",
          "name": "stdout",
          "text": [
            "[4, 16, 36]\n"
          ]
        }
      ],
      "source": [
        "numbers = [1, 2, 3, 4, 5, 6]\n",
        "even_numbers = filter(lambda x: x % 2 == 0, numbers)\n",
        "squared_even_numbers = map(lambda x: x ** 2, even_numbers)\n",
        "print(list(squared_even_numbers))"
      ]
    },
    {
      "cell_type": "markdown",
      "source": [
        "1. **Создание исходного списка:**\n",
        "   - `numbers = [1, 2, 3, 4, 5, 6]` создает список чисел.\n",
        "\n",
        "2. **Фильтрация четных чисел:**\n",
        "   - `filter(lambda x: x % 2 == 0, numbers)` отбирает четные числа из списка.\n",
        "\n",
        "3. **Возведение в квадрат:**\n",
        "   - `map(lambda x: x ** 2, even_numbers)` возводит отфильтрованные четные числа в квадрат.\n",
        "\n",
        "4. **Вывод результата:**\n",
        "   - `print(list(squared_even_numbers))` преобразует результат в список и выводит его.\n",
        "\n",
        "#### Подробный разбор\n",
        "\n",
        "1. **Функция `filter()`:**\n",
        "   - Применяет лямбда-функцию `lambda x: x % 2 == 0` к каждому элементу `numbers`.\n",
        "   - Оставляет только те элементы, для которых функция возвращает `True` (четные числа).\n",
        "\n",
        "2. **Функция `map()`:**\n",
        "   - Применяет лямбда-функцию `lambda x: x ** 2` к каждому элементу результата `filter()`.\n",
        "   - Возводит каждое четное число в квадрат.\n",
        "\n",
        "3. **Лямбда-функции:**\n",
        "   - `lambda x: x % 2 == 0` проверяет, является ли число четным.\n",
        "   - `lambda x: x ** 2` возводит число в квадрат.\n",
        "\n",
        "4. **Результат:**\n",
        "   - Получается список `[4, 16, 36]`, который содержит квадраты четных чисел из исходного списка.\n"
      ],
      "metadata": {
        "id": "jn5ZAUlx34Wd"
      }
    },
    {
      "cell_type": "markdown",
      "metadata": {
        "id": "wyAouKsSSL72"
      },
      "source": [
        "### Пример: Использование `reduce()` для нахождения наибольшего общего делителя (НОД)"
      ]
    },
    {
      "cell_type": "code",
      "execution_count": null,
      "metadata": {
        "colab": {
          "base_uri": "https://localhost:8080/"
        },
        "id": "fc1nW2_OSL72",
        "outputId": "3fe24a49-14a3-402f-84de-d2e3ff0a6b96"
      },
      "outputs": [
        {
          "output_type": "stream",
          "name": "stdout",
          "text": [
            "НОД чисел: 16\n"
          ]
        }
      ],
      "source": [
        "from functools import reduce\n",
        "import math\n",
        "\n",
        "numbers = [48, 64, 16]\n",
        "gcd = reduce(math.gcd, numbers)\n",
        "print(\"НОД чисел:\", gcd)"
      ]
    },
    {
      "cell_type": "markdown",
      "source": [
        "1. **Импорт функций:**\n",
        "   - `from functools import reduce` импортирует функцию `reduce`.\n",
        "   - `import math` импортирует модуль `math`, который содержит функцию `gcd`.\n",
        "\n",
        "2. **Создание списка чисел:**\n",
        "   - `numbers = [48, 64, 16]` создает список чисел, для которых мы хотим найти НОД.\n",
        "\n",
        "3. **Вычисление НОД:**\n",
        "   - `reduce(math.gcd, numbers)` применяет функцию `math.gcd` ко всем числам в списке.\n",
        "\n",
        "4. **Вывод результата:**\n",
        "   - `print(\"НОД чисел:\", gcd)` выводит полученный НОД.\n",
        "\n",
        "#### Подробный разбор\n",
        "\n",
        "1. **Функция `reduce()`:**\n",
        "   - `reduce()` применяет функцию двух аргументов кумулятивно к элементам последовательности.\n",
        "\n",
        "2. **Функция `math.gcd()`:**\n",
        "   - `math.gcd()` вычисляет наибольший общий делитель (НОД) двух чисел.\n",
        "\n",
        "3. **Процесс выполнения:**\n",
        "   - `reduce()` начинает с первых двух чисел (48 и 64), находит их НОД.\n",
        "   - Затем берет результат и следующее число (16), снова находит НОД.\n",
        "   - Процесс продолжается до конца списка.\n",
        "\n",
        "4. **Результат:**\n",
        "   - НОД чисел 48, 64 и 16 будет равен 16."
      ],
      "metadata": {
        "id": "AAJz4BEO4IIb"
      }
    },
    {
      "cell_type": "markdown",
      "metadata": {
        "id": "d4zTJa8NSL72"
      },
      "source": [
        "\n",
        "\n",
        "#### Примечания\n",
        "\n",
        "- **Итераторы**: В Python 3 функции `map()`, `filter()`, `zip()` возвращают итераторы. Чтобы получить список, нужно явно преобраовать их в список с помощью `list()`.\n",
        "\n",
        "- **Импорт `reduce()`**: В Python 3 функция `reduce()` была перемещена в модуль `functools`, поэтому перед использованием необходимо выполнить `from functools import reduce`.\n",
        "\n"
      ]
    },
    {
      "cell_type": "markdown",
      "source": [
        "#### Заключение\n",
        "\n",
        "Функции `map()`, `filter()`, `reduce()` и `zip()` являются мощными инструментами для обработки и трансформации последовательностей данных в Python. Они позволяют писать код в функциональном стиле, делая его более кратким и выразительным. Их использование может значительно упростить задачи, связанные с обработкой списков и других итерируемых объектов."
      ],
      "metadata": {
        "id": "Isy3InJz4Z0Z"
      }
    }
  ],
  "metadata": {
    "colab": {
      "provenance": [],
      "collapsed_sections": [
        "BUTTfvQD4zmA"
      ],
      "include_colab_link": true
    },
    "kernelspec": {
      "display_name": "Python 3",
      "name": "python3"
    },
    "language_info": {
      "name": "python",
      "version": "3.12.1"
    }
  },
  "nbformat": 4,
  "nbformat_minor": 0
}