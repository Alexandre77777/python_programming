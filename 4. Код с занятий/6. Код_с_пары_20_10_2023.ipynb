{
  "nbformat": 4,
  "nbformat_minor": 0,
  "metadata": {
    "colab": {
      "provenance": [],
      "authorship_tag": "ABX9TyP7FIdSc0oGJ0GzNvPsM+cX",
      "include_colab_link": true
    },
    "kernelspec": {
      "name": "python3",
      "display_name": "Python 3"
    },
    "language_info": {
      "name": "python"
    }
  },
  "cells": [
    {
      "cell_type": "markdown",
      "metadata": {
        "id": "view-in-github",
        "colab_type": "text"
      },
      "source": [
        "<a href=\"https://colab.research.google.com/github/Alexandre77777/python_programming/blob/main/4.%20%D0%9A%D0%BE%D0%B4%20%D1%81%20%D0%B7%D0%B0%D0%BD%D1%8F%D1%82%D0%B8%D0%B9/6.%20%D0%9A%D0%BE%D0%B4_%D1%81_%D0%BF%D0%B0%D1%80%D1%8B_20_10_2023.ipynb\" target=\"_parent\"><img src=\"https://colab.research.google.com/assets/colab-badge.svg\" alt=\"Open In Colab\"/></a>"
      ]
    },
    {
      "cell_type": "markdown",
      "source": [
        "# Чтение из файла"
      ],
      "metadata": {
        "id": "KaJAmNvKvxsM"
      }
    },
    {
      "cell_type": "markdown",
      "source": [
        "Формируем файл с текстом:"
      ],
      "metadata": {
        "id": "Mu2Avsb17eJc"
      }
    },
    {
      "cell_type": "code",
      "source": [
        "new_text = open(\"Words.txt\", mode='w', encoding='utf8')\n",
        "word_list = ['Ромашка\\n', 'Репа\\n', 'Капуста\\n', 'Орех\\n', 'Картофель']\n",
        "new_text.writelines(word_list)\n",
        "new_text.close()"
      ],
      "metadata": {
        "id": "Zx6eat_G7dTy"
      },
      "execution_count": 2,
      "outputs": []
    },
    {
      "cell_type": "code",
      "execution_count": 3,
      "metadata": {
        "colab": {
          "base_uri": "https://localhost:8080/"
        },
        "id": "VbzCj4uyuwtu",
        "outputId": "4d3922ef-8f9d-4f56-f53c-c22af8771bf1"
      },
      "outputs": [
        {
          "output_type": "stream",
          "name": "stdout",
          "text": [
            "<class '_io.TextIOWrapper'>\n"
          ]
        }
      ],
      "source": [
        "# Чтение из файла\n",
        "\n",
        "text = open('Words.txt', mode='r', buffering=-1, encoding=None,\n",
        "          errors=None, newline=None, closefd=True, opener=None)\n",
        "    #\n",
        "    # -> https://docs-python.ru/tutorial/vstroennye-funktsii-interpretatora-python/funktsija-open/\n",
        "    # :param file: абсолютное или относительное значение пути к файлу или файловый дескриптор открываемого файла.\n",
        "    #               Параметр file есть обязательным в функции open(). Все другие параметры являются необязательными\n",
        "    # :param mode: необязательно, строка, которая указывает режим, в котором открывается файл. По умолчанию 'r',\n",
        "    #              это означает что файл открывается в текстовом режиме для чтения.\n",
        "    # :param buffering: необязательно, целое число, используемое для установки политики буферизации.\n",
        "    #                   Понятие «буферизация» означает, что при чтении (записи) информации из файла (в файл) эта информация\n",
        "    #                   предварительно записывается в специальный участок памяти – буфер (buffer).\n",
        "    #                   Таким образом, информация дублируется в буфере заданного размера.\n",
        "    #                   Правильно подобранное значение размера буфера позволяет ускорить выполнение программы,\n",
        "    #                   которая интенсивно использует работу с файлами.\n",
        "    # :param encoding: необязательно, кодировка, используемая для декодирования или кодирования файла\n",
        "    # :param errors: необязательно, строка, которая указывает, как должны обрабатываться ошибки кодирования и декодирования.\n",
        "    #                 Не используется в -бинарном режиме\n",
        "    # :param newline: необязательно, режим перевода строк. Варианты: None, '\\n', '\\r' и '\\r\\n'.\n",
        "    #                 Следует использовать только для текстовых файлов\n",
        "    # :param closefd: необязательно, bool, флаг закрытия файлового дескриптора.\n",
        "    # :param opener: необязательно, пользовательский объект, возвращающий открытый дескриптор файла.\n",
        "    # :return: файловый объект (поток).\n",
        "print(type(text)) # io.TextIOWrapper() - буферизованный текстовый поток\n",
        "text.close() # Закрывает открытый файл, освобождая ресурсы системы\n",
        "             # Важно! Все открытые файлы нужно обязательно закрывать, т. к. из за незакрытых файлов\n",
        "             # может произойти превышение лимита открытых дескрипторов в системе, что может повлечь сбой системы."
      ]
    },
    {
      "cell_type": "code",
      "source": [
        "text = open('Words.txt', encoding='utf8') # Открытие файла с параметрами по умолчанию (для чтения)\n",
        "print(text)"
      ],
      "metadata": {
        "colab": {
          "base_uri": "https://localhost:8080/"
        },
        "id": "ZjOR0MjFu_MQ",
        "outputId": "4f32f7d3-a670-4d95-bfdc-9f78ac8d1f2a"
      },
      "execution_count": 26,
      "outputs": [
        {
          "output_type": "stream",
          "name": "stdout",
          "text": [
            "<_io.TextIOWrapper name='Words.txt' mode='r' encoding='utf8'>\n"
          ]
        }
      ]
    },
    {
      "cell_type": "code",
      "source": [
        "print(text.read()) # Считывает все содержимое файла как одну строку\n",
        "print('Текущая позиция курсора:', text.tell()) # Возвращает текущую позицию курсора (указателя) в файле в (байтах!)"
      ],
      "metadata": {
        "colab": {
          "base_uri": "https://localhost:8080/"
        },
        "id": "tgWDMqNWvIHl",
        "outputId": "2eeb247c-9e43-4492-8d46-4f4fec42b2c5"
      },
      "execution_count": 27,
      "outputs": [
        {
          "output_type": "stream",
          "name": "stdout",
          "text": [
            "Ромашка\n",
            "Репа\n",
            "Капуста\n",
            "Орех\n",
            "Картофель\n",
            "Текущая позиция курсора: 66\n"
          ]
        }
      ]
    },
    {
      "cell_type": "code",
      "source": [
        "text.seek(0) # Устанавливает курсор в начало файла\n",
        "print('Текущая позиция курсора:', text.tell()) # Возвращает текущую позицию курсора (указателя) в файле в (байтах!)"
      ],
      "metadata": {
        "colab": {
          "base_uri": "https://localhost:8080/"
        },
        "id": "OPgde2YBvMBU",
        "outputId": "a7aa758d-c896-4464-ca42-6611b160e90b"
      },
      "execution_count": 11,
      "outputs": [
        {
          "output_type": "stream",
          "name": "stdout",
          "text": [
            "Текущая позиция курсора: 0\n"
          ]
        }
      ]
    },
    {
      "cell_type": "code",
      "source": [
        "print(text.readline()) # Считывает только одну строку из файла и возвращает ее\n",
        "text.seek(0) # Устанавливает курсор на начало файла"
      ],
      "metadata": {
        "colab": {
          "base_uri": "https://localhost:8080/"
        },
        "id": "TvNZo_BqvRKJ",
        "outputId": "6e50bca3-104b-4aea-bfe1-a9df0c483cb5"
      },
      "execution_count": 12,
      "outputs": [
        {
          "output_type": "stream",
          "name": "stdout",
          "text": [
            "Ромашка\n",
            "\n"
          ]
        },
        {
          "output_type": "execute_result",
          "data": {
            "text/plain": [
              "0"
            ]
          },
          "metadata": {},
          "execution_count": 12
        }
      ]
    },
    {
      "cell_type": "code",
      "source": [
        "print(text.readlines()) # Возвращает все строки в файле в виде списка\n",
        "text.seek(0) # Устанавливает курсор на начало файла"
      ],
      "metadata": {
        "colab": {
          "base_uri": "https://localhost:8080/"
        },
        "id": "ayiFX8qvvVIg",
        "outputId": "3f9e7a57-07a3-4213-b810-d0422c4d21d5"
      },
      "execution_count": 13,
      "outputs": [
        {
          "output_type": "stream",
          "name": "stdout",
          "text": [
            "['Ромашка\\n', 'Репа\\n', 'Капуста\\n', 'Орех\\n', 'Картофель']\n"
          ]
        },
        {
          "output_type": "execute_result",
          "data": {
            "text/plain": [
              "0"
            ]
          },
          "metadata": {},
          "execution_count": 13
        }
      ]
    },
    {
      "cell_type": "code",
      "source": [
        "word_list = text.read().splitlines() # возвращает список строк, текста str, разделенного по универсальным разрывам строк.\n",
        "print(word_list)"
      ],
      "metadata": {
        "colab": {
          "base_uri": "https://localhost:8080/"
        },
        "id": "RvcPaJNwvaxC",
        "outputId": "22e7b662-4d1a-43f2-d9be-f67c53516473"
      },
      "execution_count": 14,
      "outputs": [
        {
          "output_type": "stream",
          "name": "stdout",
          "text": [
            "['Ромашка', 'Репа', 'Капуста', 'Орех', 'Картофель']\n"
          ]
        }
      ]
    },
    {
      "cell_type": "code",
      "source": [
        "word_list = [i.upper() for i in word_list] # Перевод всех слов из списка в верхний регистр\n",
        "print(word_list)"
      ],
      "metadata": {
        "colab": {
          "base_uri": "https://localhost:8080/"
        },
        "id": "5d_oRVCtvd88",
        "outputId": "8d1b6463-5a2f-4853-b45c-2a9d28a2ea7e"
      },
      "execution_count": 15,
      "outputs": [
        {
          "output_type": "stream",
          "name": "stdout",
          "text": [
            "['РОМАШКА', 'РЕПА', 'КАПУСТА', 'ОРЕХ', 'КАРТОФЕЛЬ']\n"
          ]
        }
      ]
    },
    {
      "cell_type": "code",
      "source": [
        "text.close() # Закрываем файл\n",
        "\n",
        "print(text.closed) # Проверяем закрыт ли файл"
      ],
      "metadata": {
        "colab": {
          "base_uri": "https://localhost:8080/"
        },
        "id": "cCh_dFoWvigJ",
        "outputId": "2b69c9f3-c99f-4589-b7fb-b78547727a13"
      },
      "execution_count": 16,
      "outputs": [
        {
          "output_type": "stream",
          "name": "stdout",
          "text": [
            "True\n"
          ]
        }
      ]
    },
    {
      "cell_type": "markdown",
      "source": [
        "# Альтернативный способ открытия файла через контекстный менеджер"
      ],
      "metadata": {
        "id": "bIcxv2wHvt2a"
      }
    },
    {
      "cell_type": "code",
      "source": [
        "# Альтернативный способ открытия файла через контекстный менеджер\n",
        "\n",
        "with open('Words.txt', encoding='utf8') as text: # по смыслу аналогично text = open('Words.txt')\n",
        "    word_list = text.read().splitlines()\n",
        "    word_list = [i.upper() for i in word_list]\n",
        "# После выполнения кода в теле конструкции with - файл закрывается автоматически!\n",
        "\n",
        "print(word_list)"
      ],
      "metadata": {
        "colab": {
          "base_uri": "https://localhost:8080/"
        },
        "id": "AWf8END3vmu0",
        "outputId": "08ce0613-727d-441e-b156-5c981d1fa527"
      },
      "execution_count": 18,
      "outputs": [
        {
          "output_type": "stream",
          "name": "stdout",
          "text": [
            "['РОМАШКА', 'РЕПА', 'КАПУСТА', 'ОРЕХ', 'КАРТОФЕЛЬ']\n"
          ]
        }
      ]
    },
    {
      "cell_type": "markdown",
      "source": [
        "# Запись в файл"
      ],
      "metadata": {
        "id": "k5JaQa_Yvpgg"
      }
    },
    {
      "cell_type": "code",
      "source": [
        "# Запись в файл\n",
        "\n",
        "new_text = open(\"new_text.txt\", mode='w', encoding='utf8') # Режим доступа 'w' - Открывает файл только для записи.\n",
        "                                          # Перезаписывает файл, если файл существует.\n",
        "                                          # Если файл не существует, создает новый файл для записи.\n",
        "new_text.write('New_line_1') # Записывает переданную строку в файл\n",
        "new_text.write('New_line_2') # Записывает переданную строку в файл\n",
        "new_text.write('New_line_3') # Записывает переданную строку в файл"
      ],
      "metadata": {
        "colab": {
          "base_uri": "https://localhost:8080/"
        },
        "id": "pJjoTOQjvpq6",
        "outputId": "3fef1199-8574-402e-cfae-88afbb8e1dcd"
      },
      "execution_count": 19,
      "outputs": [
        {
          "output_type": "execute_result",
          "data": {
            "text/plain": [
              "10"
            ]
          },
          "metadata": {},
          "execution_count": 19
        }
      ]
    },
    {
      "cell_type": "code",
      "source": [
        "new_text.writelines(word_list) # Записывает список строк в файл\n",
        "\n",
        "new_text.close()"
      ],
      "metadata": {
        "id": "mud4vdGwwGKX"
      },
      "execution_count": 20,
      "outputs": []
    },
    {
      "cell_type": "code",
      "source": [
        "new_text = open(\"new_text.txt\", mode='a') # Режим доступа 'a' - Открывает файл для ДОЗАПИСИ.\n",
        "                                          # Указатель файла находится в конце файла, если файл существует.\n",
        "                                          # То есть файл находится в режиме добавления.\n",
        "                                          # Если файл не существует, он создает новый файл для записи.\n",
        "new_text.write('New_line_MOD_\"a\"')\n",
        "new_text.close()"
      ],
      "metadata": {
        "id": "_C90PilTwIVr"
      },
      "execution_count": 21,
      "outputs": []
    },
    {
      "cell_type": "markdown",
      "source": [
        "# Смешанные режимы для чтения и записи файла одновременно\n",
        "\n"
      ],
      "metadata": {
        "id": "ORrL416lv39Q"
      }
    },
    {
      "cell_type": "code",
      "source": [
        "# Смешанные режимы для чтения и записи файла одновременно\n",
        "\n",
        "# Режим доступа 'r+'\n",
        "new_text = open(\"new_text.txt\", mode='r+') # 'r+' - Открывает файл для чтения и записи.\n",
        "                                           # Указатель файла помещается в начало файла.\n",
        "new_text.write('WRITE_MOD_\"r+\"')\n",
        "new_text.close()"
      ],
      "metadata": {
        "id": "cpu7-4Q_v4Ir"
      },
      "execution_count": 22,
      "outputs": []
    },
    {
      "cell_type": "code",
      "source": [
        "# Режим доступа 'w+'\n",
        "new_text = open(\"new_text.txt\", mode='w+') # 'w+' - Открывает файл для чтения и записи.\n",
        "                                           # Перезаписывает существующий файл, если файл существует.\n",
        "                                           # Если файл не существует, создается новый файл для чтения и записи.\n",
        "                                           # -> Стирает всю информацию из файла в случае записи\n",
        "new_text.write('WRITE_MOD_\"w+\"')\n",
        "new_text.close()"
      ],
      "metadata": {
        "id": "NvVEEBTCwRbe"
      },
      "execution_count": 23,
      "outputs": []
    },
    {
      "cell_type": "code",
      "source": [
        "# Режим доступа 'a+'\n",
        "new_text = open(\"new_text.txt\", mode='a+') # 'a+' - Открывает файл для добавления и чтения.\n",
        "                                           # Указатель файла находится в конце файла, если файл существует.\n",
        "                                           # Файл открывается в режиме добавления.\n",
        "                                           # Если файл не существует, он создает новый файл для чтения и записи.\n",
        "new_text.write('WRITE_MOD_\"a+\"')\n",
        "new_text.close()"
      ],
      "metadata": {
        "id": "2qLwt6DpwTik"
      },
      "execution_count": 24,
      "outputs": []
    }
  ]
}