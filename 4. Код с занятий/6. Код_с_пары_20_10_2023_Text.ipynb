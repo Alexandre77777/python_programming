{
  "nbformat": 4,
  "nbformat_minor": 0,
  "metadata": {
    "colab": {
      "provenance": [],
      "authorship_tag": "ABX9TyPkX+oYVD1641dGWXA7FSit",
      "include_colab_link": true
    },
    "kernelspec": {
      "name": "python3",
      "display_name": "Python 3"
    },
    "language_info": {
      "name": "python"
    }
  },
  "cells": [
    {
      "cell_type": "markdown",
      "metadata": {
        "id": "view-in-github",
        "colab_type": "text"
      },
      "source": [
        "<a href=\"https://colab.research.google.com/github/Alexandre77777/python_programming/blob/main/4.%20%D0%9A%D0%BE%D0%B4%20%D1%81%20%D0%B7%D0%B0%D0%BD%D1%8F%D1%82%D0%B8%D0%B9/6.%20%D0%9A%D0%BE%D0%B4_%D1%81_%D0%BF%D0%B0%D1%80%D1%8B_20_10_2023_Text.ipynb\" target=\"_parent\"><img src=\"https://colab.research.google.com/assets/colab-badge.svg\" alt=\"Open In Colab\"/></a>"
      ]
    },
    {
      "cell_type": "markdown",
      "metadata": {
        "id": "6f55b537"
      },
      "source": [
        "# **Работа с текстовыми файлами в Python**"
      ]
    },
    {
      "cell_type": "markdown",
      "source": [
        "## **0. БАЗА**"
      ],
      "metadata": {
        "id": "X4wP8nzk6VAz"
      }
    },
    {
      "cell_type": "markdown",
      "source": [
        "### **Чтение из файла**"
      ],
      "metadata": {
        "id": "KaJAmNvKvxsM"
      }
    },
    {
      "cell_type": "markdown",
      "source": [
        "Формируем файл с текстом:"
      ],
      "metadata": {
        "id": "Mu2Avsb17eJc"
      }
    },
    {
      "cell_type": "code",
      "source": [
        "new_text = open(\"Words.txt\", mode='w', encoding='utf8')\n",
        "word_list = ['Ромашка\\n', 'Репа\\n', 'Капуста\\n', 'Орех\\n', 'Картофель']\n",
        "new_text.writelines(word_list)\n",
        "new_text.close()"
      ],
      "metadata": {
        "id": "Zx6eat_G7dTy"
      },
      "execution_count": null,
      "outputs": []
    },
    {
      "cell_type": "code",
      "execution_count": null,
      "metadata": {
        "colab": {
          "base_uri": "https://localhost:8080/"
        },
        "id": "VbzCj4uyuwtu",
        "outputId": "533bf5d6-2e59-46b6-9cb3-9c18e1bb671e"
      },
      "outputs": [
        {
          "output_type": "stream",
          "name": "stdout",
          "text": [
            "<class '_io.TextIOWrapper'>\n"
          ]
        }
      ],
      "source": [
        "# Чтение из файла\n",
        "\n",
        "text = open('Words.txt', mode='r', buffering=-1, encoding=None,\n",
        "          errors=None, newline=None, closefd=True, opener=None)\n",
        "    #\n",
        "    # -> https://docs-python.ru/tutorial/vstroennye-funktsii-interpretatora-python/funktsija-open/\n",
        "    # :param file: абсолютное или относительное значение пути к файлу или файловый дескриптор открываемого файла.\n",
        "    #               Параметр file есть обязательным в функции open(). Все другие параметры являются необязательными\n",
        "    # :param mode: необязательно, строка, которая указывает режим, в котором открывается файл. По умолчанию 'r',\n",
        "    #              это означает что файл открывается в текстовом режиме для чтения.\n",
        "    # :param buffering: необязательно, целое число, используемое для установки политики буферизации.\n",
        "    #                   Понятие «буферизация» означает, что при чтении (записи) информации из файла (в файл) эта информация\n",
        "    #                   предварительно записывается в специальный участок памяти – буфер (buffer).\n",
        "    #                   Таким образом, информация дублируется в буфере заданного размера.\n",
        "    #                   Правильно подобранное значение размера буфера позволяет ускорить выполнение программы,\n",
        "    #                   которая интенсивно использует работу с файлами.\n",
        "    # :param encoding: необязательно, кодировка, используемая для декодирования или кодирования файла\n",
        "    # :param errors: необязательно, строка, которая указывает, как должны обрабатываться ошибки кодирования и декодирования.\n",
        "    #                 Не используется в -бинарном режиме\n",
        "    # :param newline: необязательно, режим перевода строк. Варианты: None, '\\n', '\\r' и '\\r\\n'.\n",
        "    #                 Следует использовать только для текстовых файлов\n",
        "    # :param closefd: необязательно, bool, флаг закрытия файлового дескриптора.\n",
        "    # :param opener: необязательно, пользовательский объект, возвращающий открытый дескриптор файла.\n",
        "    # :return: файловый объект (поток).\n",
        "print(type(text)) # io.TextIOWrapper() - буферизованный текстовый поток\n",
        "text.close() # Закрывает открытый файл, освобождая ресурсы системы\n",
        "             # Важно! Все открытые файлы нужно обязательно закрывать, т. к. из за незакрытых файлов\n",
        "             # может произойти превышение лимита открытых дескрипторов в системе, что может повлечь сбой системы."
      ]
    },
    {
      "cell_type": "code",
      "source": [
        "text = open('Words.txt', encoding='utf8') # Открытие файла с параметрами по умолчанию (для чтения)\n",
        "print(text)"
      ],
      "metadata": {
        "colab": {
          "base_uri": "https://localhost:8080/"
        },
        "id": "ZjOR0MjFu_MQ",
        "outputId": "1c764679-29e9-4386-d60b-a5fa990ad934"
      },
      "execution_count": null,
      "outputs": [
        {
          "output_type": "stream",
          "name": "stdout",
          "text": [
            "<_io.TextIOWrapper name='Words.txt' mode='r' encoding='utf8'>\n"
          ]
        }
      ]
    },
    {
      "cell_type": "code",
      "source": [
        "print(text.read()) # Считывает все содержимое файла как одну строку"
      ],
      "metadata": {
        "colab": {
          "base_uri": "https://localhost:8080/"
        },
        "id": "tgWDMqNWvIHl",
        "outputId": "72f118cf-26b5-410e-e03f-da39f146a21f"
      },
      "execution_count": null,
      "outputs": [
        {
          "output_type": "stream",
          "name": "stdout",
          "text": [
            "Ромашка\n",
            "Репа\n",
            "Капуста\n",
            "Орех\n",
            "Картофель\n"
          ]
        }
      ]
    },
    {
      "cell_type": "code",
      "source": [
        "print('Текущая позиция курсора:', text.tell()) # Возвращает текущую позицию курсора (указателя) в файле в (байтах!)"
      ],
      "metadata": {
        "colab": {
          "base_uri": "https://localhost:8080/"
        },
        "id": "1fFLfAFY7tsQ",
        "outputId": "39adf601-f460-4d84-cf26-322d4d9b7b5b"
      },
      "execution_count": null,
      "outputs": [
        {
          "output_type": "stream",
          "name": "stdout",
          "text": [
            "Текущая позиция курсора: 66\n"
          ]
        }
      ]
    },
    {
      "cell_type": "code",
      "source": [
        "text.seek(0) # Устанавливает курсор в начало файла\n",
        "print('Текущая позиция курсора:', text.tell()) # Возвращает текущую позицию курсора (указателя) в файле в (байтах!)"
      ],
      "metadata": {
        "colab": {
          "base_uri": "https://localhost:8080/"
        },
        "id": "OPgde2YBvMBU",
        "outputId": "9973e488-59f4-4066-9b9c-35b4946f62b8"
      },
      "execution_count": null,
      "outputs": [
        {
          "output_type": "stream",
          "name": "stdout",
          "text": [
            "Текущая позиция курсора: 0\n"
          ]
        }
      ]
    },
    {
      "cell_type": "code",
      "source": [
        "print(text.readline()) # Считывает только одну строку из файла и возвращает ее\n",
        "text.seek(0) # Устанавливает курсор на начало файла"
      ],
      "metadata": {
        "colab": {
          "base_uri": "https://localhost:8080/"
        },
        "id": "TvNZo_BqvRKJ",
        "outputId": "75a37dc8-f345-4316-b94e-7830450a21cd"
      },
      "execution_count": null,
      "outputs": [
        {
          "output_type": "stream",
          "name": "stdout",
          "text": [
            "Ромашка\n",
            "\n"
          ]
        },
        {
          "output_type": "execute_result",
          "data": {
            "text/plain": [
              "0"
            ]
          },
          "metadata": {},
          "execution_count": 7
        }
      ]
    },
    {
      "cell_type": "code",
      "source": [
        "print(text.readlines()) # Возвращает все строки в файле в виде списка\n",
        "text.seek(0) # Устанавливает курсор на начало файла"
      ],
      "metadata": {
        "colab": {
          "base_uri": "https://localhost:8080/"
        },
        "id": "ayiFX8qvvVIg",
        "outputId": "d05185aa-a549-4be7-beb8-e5b1b69faa57"
      },
      "execution_count": null,
      "outputs": [
        {
          "output_type": "stream",
          "name": "stdout",
          "text": [
            "['Ромашка\\n', 'Репа\\n', 'Капуста\\n', 'Орех\\n', 'Картофель']\n"
          ]
        },
        {
          "output_type": "execute_result",
          "data": {
            "text/plain": [
              "0"
            ]
          },
          "metadata": {},
          "execution_count": 8
        }
      ]
    },
    {
      "cell_type": "code",
      "source": [
        "word_list = text.read().splitlines() # возвращает список строк, текста str, разделенного по универсальным разрывам строк.\n",
        "print(word_list)"
      ],
      "metadata": {
        "colab": {
          "base_uri": "https://localhost:8080/"
        },
        "id": "RvcPaJNwvaxC",
        "outputId": "aaa1a79b-c378-4088-813e-754cfa6924d7"
      },
      "execution_count": null,
      "outputs": [
        {
          "output_type": "stream",
          "name": "stdout",
          "text": [
            "['Ромашка', 'Репа', 'Капуста', 'Орех', 'Картофель']\n"
          ]
        }
      ]
    },
    {
      "cell_type": "code",
      "source": [
        "word_list = [i.upper() for i in word_list] # Перевод всех слов из списка в верхний регистр\n",
        "print(word_list)"
      ],
      "metadata": {
        "colab": {
          "base_uri": "https://localhost:8080/"
        },
        "id": "5d_oRVCtvd88",
        "outputId": "8de5c54c-1850-49df-84aa-6949de22cf66"
      },
      "execution_count": null,
      "outputs": [
        {
          "output_type": "stream",
          "name": "stdout",
          "text": [
            "['РОМАШКА', 'РЕПА', 'КАПУСТА', 'ОРЕХ', 'КАРТОФЕЛЬ']\n"
          ]
        }
      ]
    },
    {
      "cell_type": "code",
      "source": [
        "text.close() # Закрываем файл\n",
        "\n",
        "print(text.closed) # Проверяем закрыт ли файл"
      ],
      "metadata": {
        "colab": {
          "base_uri": "https://localhost:8080/"
        },
        "id": "cCh_dFoWvigJ",
        "outputId": "2fa3b5a9-14ab-40f4-c463-6130c1d2a219"
      },
      "execution_count": null,
      "outputs": [
        {
          "output_type": "stream",
          "name": "stdout",
          "text": [
            "True\n"
          ]
        }
      ]
    },
    {
      "cell_type": "markdown",
      "source": [
        "### **Альтернативный способ открытия файла через контекстный менеджер**"
      ],
      "metadata": {
        "id": "bIcxv2wHvt2a"
      }
    },
    {
      "cell_type": "code",
      "source": [
        "# Альтернативный способ открытия файла через контекстный менеджер\n",
        "\n",
        "with open('Words.txt', encoding='utf8') as text: # по смыслу аналогично text = open('Words.txt')\n",
        "    word_list = text.read().splitlines()\n",
        "    word_list = [i.upper() for i in word_list]\n",
        "# После выполнения кода в теле конструкции with - файл закрывается автоматически!\n",
        "\n",
        "print(word_list)"
      ],
      "metadata": {
        "colab": {
          "base_uri": "https://localhost:8080/"
        },
        "id": "AWf8END3vmu0",
        "outputId": "b7d35d79-66b2-43d2-da77-850d9f6e0db5"
      },
      "execution_count": null,
      "outputs": [
        {
          "output_type": "stream",
          "name": "stdout",
          "text": [
            "['РОМАШКА', 'РЕПА', 'КАПУСТА', 'ОРЕХ', 'КАРТОФЕЛЬ']\n"
          ]
        }
      ]
    },
    {
      "cell_type": "markdown",
      "source": [
        "### **Запись в файл**"
      ],
      "metadata": {
        "id": "k5JaQa_Yvpgg"
      }
    },
    {
      "cell_type": "code",
      "source": [
        "# Запись в файл\n",
        "\n",
        "new_text = open(\"new_text.txt\", mode='w', encoding='utf8') # Режим доступа 'w' - Открывает файл только для записи.\n",
        "                                          # Перезаписывает файл, если файл существует.\n",
        "                                          # Если файл не существует, создает новый файл для записи.\n",
        "new_text.write('New_line_1') # Записывает переданную строку в файл\n",
        "new_text.write('New_line_2') # Записывает переданную строку в файл\n",
        "new_text.write('New_line_3') # Записывает переданную строку в файл"
      ],
      "metadata": {
        "id": "pJjoTOQjvpq6"
      },
      "execution_count": null,
      "outputs": []
    },
    {
      "cell_type": "code",
      "source": [
        "new_text.writelines(word_list) # Записывает список строк в файл\n",
        "\n",
        "new_text.close()"
      ],
      "metadata": {
        "id": "mud4vdGwwGKX"
      },
      "execution_count": null,
      "outputs": []
    },
    {
      "cell_type": "code",
      "source": [
        "new_text = open(\"new_text.txt\", mode='a') # Режим доступа 'a' - Открывает файл для ДОЗАПИСИ.\n",
        "                                          # Указатель файла находится в конце файла, если файл существует.\n",
        "                                          # То есть файл находится в режиме добавления.\n",
        "                                          # Если файл не существует, он создает новый файл для записи.\n",
        "new_text.write('New_line_MOD_\"a\"')\n",
        "new_text.close()"
      ],
      "metadata": {
        "id": "_C90PilTwIVr"
      },
      "execution_count": null,
      "outputs": []
    },
    {
      "cell_type": "markdown",
      "source": [
        "### **Смешанные режимы для чтения и записи файла одновременно**\n",
        "\n"
      ],
      "metadata": {
        "id": "ORrL416lv39Q"
      }
    },
    {
      "cell_type": "code",
      "source": [
        "# Смешанные режимы для чтения и записи файла одновременно\n",
        "\n",
        "# Режим доступа 'r+'\n",
        "new_text = open(\"new_text.txt\", mode='r+') # 'r+' - Открывает файл для чтения и записи.\n",
        "                                           # Указатель файла помещается в начало файла.\n",
        "new_text.write('WRITE_MOD_\"r+\"')\n",
        "new_text.close()"
      ],
      "metadata": {
        "id": "cpu7-4Q_v4Ir"
      },
      "execution_count": null,
      "outputs": []
    },
    {
      "cell_type": "code",
      "source": [
        "# Режим доступа 'w+'\n",
        "new_text = open(\"new_text.txt\", mode='w+') # 'w+' - Открывает файл для чтения и записи.\n",
        "                                           # Перезаписывает существующий файл, если файл существует.\n",
        "                                           # Если файл не существует, создается новый файл для чтения и записи.\n",
        "                                           # -> Стирает всю информацию из файла в случае записи\n",
        "new_text.write('WRITE_MOD_\"w+\"')\n",
        "new_text.close()"
      ],
      "metadata": {
        "id": "NvVEEBTCwRbe"
      },
      "execution_count": null,
      "outputs": []
    },
    {
      "cell_type": "code",
      "source": [
        "# Режим доступа 'a+'\n",
        "new_text = open(\"new_text.txt\", mode='a+') # 'a+' - Открывает файл для добавления и чтения.\n",
        "                                           # Указатель файла находится в конце файла, если файл существует.\n",
        "                                           # Файл открывается в режиме добавления.\n",
        "                                           # Если файл не существует, он создает новый файл для чтения и записи.\n",
        "new_text.write('WRITE_MOD_\"a+\"')\n",
        "new_text.close()"
      ],
      "metadata": {
        "id": "2qLwt6DpwTik"
      },
      "execution_count": null,
      "outputs": []
    },
    {
      "cell_type": "markdown",
      "metadata": {
        "id": "3c6706dc"
      },
      "source": [
        "## **1. Краткая теория**"
      ]
    },
    {
      "cell_type": "markdown",
      "metadata": {
        "id": "7741f498"
      },
      "source": [
        "Работа с файлами является фундаментальной частью программирования на Python. Возможность читать данные из файлов и записывать данные в файлы позволяет создавать приложения, которые взаимодействуют с внешними источниками данных, сохраняют результаты работы, обрабатывают текстовые данные и многое другое.\n",
        "\n",
        "В данном разделе мы рассмотрим:\n",
        "\n",
        "- Как открывать файлы с помощью функции `open()`.\n",
        "- Режимы открытия файлов и их особенности.\n",
        "- Чтение данных из файлов.\n",
        "- Запись данных в файлы.\n",
        "- Использование контекстного менеджера `with` для безопасной работы с файлами.\n",
        "- Обработка ошибок при работе с файлами.\n",
        "- Работа с путями файлов и модулем `os`.\n",
        "- Особенности работы с кодировками и бинарными файлами."
      ]
    },
    {
      "cell_type": "markdown",
      "metadata": {
        "id": "8b2fe6cd"
      },
      "source": [
        "## **2. Функция `open()` и режимы открытия файлов**"
      ]
    },
    {
      "cell_type": "markdown",
      "metadata": {
        "id": "41ae64a6"
      },
      "source": [
        "### **2.1. Синтаксис функции `open()`**"
      ]
    },
    {
      "cell_type": "markdown",
      "metadata": {
        "id": "ebfe99c8"
      },
      "source": [
        "Функция `open()` используется для открытия файлов в Python и имеет следующий синтаксис:"
      ]
    },
    {
      "cell_type": "code",
      "execution_count": null,
      "metadata": {
        "id": "dbfad025"
      },
      "outputs": [],
      "source": [
        "open(file, mode='a+', buffering=-1, encoding=None, errors=None, newline=None, closefd=True, opener=None)"
      ]
    },
    {
      "cell_type": "markdown",
      "metadata": {
        "id": "68285de7"
      },
      "source": [
        "Основные параметры:\n",
        "\n",
        "- `file`: путь к файлу (строка).\n",
        "- `mode`: режим открытия файла (по умолчанию `'r'`)."
      ]
    },
    {
      "cell_type": "markdown",
      "metadata": {
        "id": "374c0b43"
      },
      "source": [
        "### **2.2. Основные режимы открытия файлов**"
      ]
    },
    {
      "cell_type": "markdown",
      "metadata": {
        "id": "842dfc1e"
      },
      "source": [
        "Режимы открытия файлов определяют операции, которые вы можете выполнять с файлом:\n",
        "\n",
        "- `'r'`: чтение (файл должен существовать).\n",
        "- `'w'`: запись (создаёт новый файл или перезаписывает существующий).\n",
        "- `'a'`: добавление (запись в конец файла).\n",
        "- `'r+'`: чтение и запись (файл должен существовать).\n",
        "- `'w+'`: чтение и запись (создаёт новый файл или перезаписывает существующий).\n",
        "- `'a+'`: чтение и добавление (файл создаётся, если не существует).\n",
        "\n",
        "Для работы с бинарными файлами используются аналогичные режимы с добавлением `'b'`, например, `'rb'`, `'wb'`."
      ]
    },
    {
      "cell_type": "markdown",
      "metadata": {
        "id": "508c6fdd"
      },
      "source": [
        "## **3. Чтение из файла**"
      ]
    },
    {
      "cell_type": "markdown",
      "metadata": {
        "id": "eb430e08"
      },
      "source": [
        "### **3.1. Открытие файла для чтения**"
      ]
    },
    {
      "cell_type": "markdown",
      "metadata": {
        "id": "93c9e3b4"
      },
      "source": [
        "Пример открытия и чтения содержимого файла:"
      ]
    },
    {
      "cell_type": "code",
      "execution_count": null,
      "metadata": {
        "id": "fcd8517c",
        "colab": {
          "base_uri": "https://localhost:8080/"
        },
        "outputId": "d587a644-5443-4da0-dc62-44d79da5e48a"
      },
      "outputs": [
        {
          "output_type": "stream",
          "name": "stdout",
          "text": [
            "Я к вам пишу — чего же боле?\n",
            "Что я могу еще сказать?\n",
            "Теперь, я знаю, в вашей воле\n",
            "Меня презреньем наказать.\n",
            "Но вы, к моей несчастной доле\n",
            "Хоть каплю жалости храня,\n",
            "Вы не оставите меня.\n",
            "Сначала я молчать хотела;\n",
            "Поверьте: моего стыда\n",
            "Вы не узнали б никогда,\n",
            "Когда б надежду я имела\n",
            "Хоть редко, хоть в неделю раз\n",
            "В деревне нашей видеть вас,\n",
            "Чтоб только слышать ваши речи,\n",
            "Вам слово молвить, и потом\n",
            "Все думать, думать об одном\n",
            "И день и ночь до новой встречи.\n",
            "Но, говорят, вы нелюдим;\n",
            "В глуши, в деревне всё вам скучно,\n",
            "А мы… ничем мы не блестим,\n",
            "Хоть вам и рады простодушно.\n",
            "Зачем вы посетили нас?\n",
            "В глуши забытого селенья\n",
            "Я никогда не знала б вас,\n",
            "Не знала б горького мученья.\n",
            "Души неопытной волненья\n",
            "Смирив со временем (как знать?),\n",
            "По сердцу я нашла бы друга,\n",
            "Была бы верная супруга\n",
            "И добродетельная мать.\n",
            "Другой!.. Нет, никому на свете\n",
            "Не отдала бы сердца я!\n",
            "То в вышнем суждено совете…\n",
            "То воля неба: я твоя;\n",
            "Вся жизнь моя была залогом\n",
            "Свиданья верного с тобой;\n",
            "Я знаю, ты мне послан богом,\n",
            "До гроба ты хранитель мой…\n",
            "Ты в сновиденьях мне являлся,\n",
            "Незримый, ты мне был уж мил,\n",
            "Твой чудный взгляд меня томил,\n",
            "В душе твой голос раздавался\n",
            "Давно… нет, это был не сон!\n",
            "Ты чуть вошел, я вмиг узнала,\n",
            "Вся обомлела, запылала\n",
            "И в мыслях молвила: вот он!\n",
            "Не правда ль? Я тебя слыхала:\n",
            "Ты говорил со мной в тиши,\n",
            "Когда я бедным помогала\n",
            "Или молитвой услаждала\n",
            "Тоску волнуемой души?\n",
            "И в это самое мгновенье\n",
            "Не ты ли, милое виденье,\n",
            "В прозрачной темноте мелькнул,\n",
            "Приникнул тихо к изголовью?\n",
            "Не ты ль, с отрадой и любовью,\n",
            "Слова надежды мне шепнул?\n",
            "Кто ты, мой ангел ли хранитель,\n",
            "Или коварный искуситель:\n",
            "Мои сомненья разреши.\n",
            "Быть может, это все пустое,\n",
            "Обман неопытной души!\n",
            "И суждено совсем иное…\n",
            "Но так и быть! Судьбу мою\n",
            "Отныне я тебе вручаю,\n",
            "Перед тобою слезы лью,\n",
            "Твоей защиты умоляю…\n",
            "Вообрази: я здесь одна,\n",
            "Никто меня не понимает,\n",
            "Рассудок мой изнемогает,\n",
            "И молча гибнуть я должна.\n",
            "Я жду тебя: единым взором\n",
            "Надежды сердца оживи\n",
            "Иль сон тяжелый перерви,\n",
            "Увы, заслуженным укором!\n",
            "Кончаю! Страшно перечесть…\n",
            "Стыдом и страхом замираю…\n",
            "Но мне порукой ваша честь,\n",
            "И смело ей себя вверяю…\n",
            "\n",
            "\n",
            "Читать полное произведение﻿\n",
            "1833 г.\n"
          ]
        }
      ],
      "source": [
        "# Открываем файл в режиме чтения\n",
        "with open('example.txt', 'r', encoding='utf-8') as file:\n",
        "    content = file.read()\n",
        "    print(content)"
      ]
    },
    {
      "cell_type": "markdown",
      "metadata": {
        "id": "2fc95e5d"
      },
      "source": [
        "### **3.2. Методы чтения из файла**"
      ]
    },
    {
      "cell_type": "markdown",
      "metadata": {
        "id": "5625cdc8"
      },
      "source": [
        "- `read(size=-1)`: чтение всего файла или указанного количества символов.\n",
        "- `readline()`: чтение одной строки.\n",
        "- `readlines()`: чтение всех строк в список.\n",
        "\n",
        "Пример использования:"
      ]
    },
    {
      "cell_type": "code",
      "execution_count": null,
      "metadata": {
        "id": "31dd2af4",
        "colab": {
          "base_uri": "https://localhost:8080/"
        },
        "outputId": "b0b2c7b7-8784-45d0-e04f-d742ff50a94a"
      },
      "outputs": [
        {
          "output_type": "stream",
          "name": "stdout",
          "text": [
            "Я к вам пишу — чего же боле?\n",
            "\n",
            "Что я могу еще сказать?\n",
            "Теперь, я знаю, в вашей воле\n",
            "Меня презреньем наказать.\n",
            "Но вы, к моей несчастной доле\n",
            "Хоть каплю жалости храня,\n",
            "Вы не оставите меня.\n",
            "Сначала я молчать хотела;\n",
            "Поверьте: моего стыда\n",
            "Вы не узнали б никогда,\n",
            "Когда б надежду я имела\n",
            "Хоть редко, хоть в неделю раз\n",
            "В деревне нашей видеть вас,\n",
            "Чтоб только слышать ваши речи,\n",
            "Вам слово молвить, и потом\n",
            "Все думать, думать об одном\n",
            "И день и ночь до новой встречи.\n",
            "Но, говорят, вы нелюдим;\n",
            "В глуши, в деревне всё вам скучно,\n",
            "А мы… ничем мы не блестим,\n",
            "Хоть вам и рады простодушно.\n",
            "Зачем вы посетили нас?\n",
            "В глуши забытого селенья\n",
            "Я никогда не знала б вас,\n",
            "Не знала б горького мученья.\n",
            "Души неопытной волненья\n",
            "Смирив со временем (как знать?),\n",
            "По сердцу я нашла бы друга,\n",
            "Была бы верная супруга\n",
            "И добродетельная мать.\n",
            "Другой!.. Нет, никому на свете\n",
            "Не отдала бы сердца я!\n",
            "То в вышнем суждено совете…\n",
            "То воля неба: я твоя;\n",
            "Вся жизнь моя была залогом\n",
            "Свиданья верного с тобой;\n",
            "Я знаю, ты мне послан богом,\n",
            "До гроба ты хранитель мой…\n",
            "Ты в сновиденьях мне являлся,\n",
            "Незримый, ты мне был уж мил,\n",
            "Твой чудный взгляд меня томил,\n",
            "В душе твой голос раздавался\n",
            "Давно… нет, это был не сон!\n",
            "Ты чуть вошел, я вмиг узнала,\n",
            "Вся обомлела, запылала\n",
            "И в мыслях молвила: вот он!\n",
            "Не правда ль? Я тебя слыхала:\n",
            "Ты говорил со мной в тиши,\n",
            "Когда я бедным помогала\n",
            "Или молитвой услаждала\n",
            "Тоску волнуемой души?\n",
            "И в это самое мгновенье\n",
            "Не ты ли, милое виденье,\n",
            "В прозрачной темноте мелькнул,\n",
            "Приникнул тихо к изголовью?\n",
            "Не ты ль, с отрадой и любовью,\n",
            "Слова надежды мне шепнул?\n",
            "Кто ты, мой ангел ли хранитель,\n",
            "Или коварный искуситель:\n",
            "Мои сомненья разреши.\n",
            "Быть может, это все пустое,\n",
            "Обман неопытной души!\n",
            "И суждено совсем иное…\n",
            "Но так и быть! Судьбу мою\n",
            "Отныне я тебе вручаю,\n",
            "Перед тобою слезы лью,\n",
            "Твоей защиты умоляю…\n",
            "Вообрази: я здесь одна,\n",
            "Никто меня не понимает,\n",
            "Рассудок мой изнемогает,\n",
            "И молча гибнуть я должна.\n",
            "Я жду тебя: единым взором\n",
            "Надежды сердца оживи\n",
            "Иль сон тяжелый перерви,\n",
            "Увы, заслуженным укором!\n",
            "Кончаю! Страшно перечесть…\n",
            "Стыдом и страхом замираю…\n",
            "Но мне порукой ваша честь,\n",
            "И смело ей себя вверяю…\n",
            "\n",
            "\n",
            "Читать полное произведение﻿\n",
            "1833 г.\n"
          ]
        }
      ],
      "source": [
        "with open('example.txt', 'r', encoding='utf-8') as file:\n",
        "    # Читаем первую строку\n",
        "    line = file.readline()\n",
        "    print(line)\n",
        "\n",
        "    # Читаем все строки\n",
        "    lines = file.readlines()\n",
        "    for line in lines:\n",
        "        print(line.strip())"
      ]
    },
    {
      "cell_type": "markdown",
      "metadata": {
        "id": "0a4214d4"
      },
      "source": [
        "## **4. Запись в файл**"
      ]
    },
    {
      "cell_type": "markdown",
      "metadata": {
        "id": "75f526c5"
      },
      "source": [
        "### **4.1. Открытие файла для записи**"
      ]
    },
    {
      "cell_type": "markdown",
      "metadata": {
        "id": "5f0a34fd"
      },
      "source": [
        "Запись данных в новый файл или перезапись существующего:"
      ]
    },
    {
      "cell_type": "code",
      "execution_count": null,
      "metadata": {
        "id": "d3485bca"
      },
      "outputs": [],
      "source": [
        "# Открываем файл в режиме записи\n",
        "with open('new_file.txt', 'w', encoding='utf-8') as file:\n",
        "    file.write('Первая строка\\n')\n",
        "    file.write('Вторая строка\\n')"
      ]
    },
    {
      "cell_type": "markdown",
      "metadata": {
        "id": "fb5833b2"
      },
      "source": [
        "### **4.2. Добавление данных в файл**"
      ]
    },
    {
      "cell_type": "markdown",
      "metadata": {
        "id": "86cfc11d"
      },
      "source": [
        "Добавление данных в конец существующего файла:"
      ]
    },
    {
      "cell_type": "code",
      "execution_count": null,
      "metadata": {
        "id": "7fdd890f"
      },
      "outputs": [],
      "source": [
        "# Открываем файл в режиме добавления\n",
        "with open('new_file.txt', 'a', encoding='utf-8') as file:\n",
        "    file.write('Добавленная строка\\n')"
      ]
    },
    {
      "cell_type": "markdown",
      "metadata": {
        "id": "efb0058b"
      },
      "source": [
        "## **5. Режимы чтения и записи**"
      ]
    },
    {
      "cell_type": "markdown",
      "metadata": {
        "id": "3163b7df"
      },
      "source": [
        "- **`'r+'`**: чтение и запись без удаления существующего содержимого. Указатель находится в начале файла.\n",
        "- **`'w+'`**: чтение и запись с предварительным удалением содержимого файла.\n",
        "- **`'a+'`**: чтение и добавление. Указатель находится в конце файла.\n",
        "\n",
        "Пример использования режима `'r+'`:"
      ]
    },
    {
      "cell_type": "code",
      "execution_count": null,
      "metadata": {
        "id": "cf772de2"
      },
      "outputs": [],
      "source": [
        "with open('example.txt', 'r+', encoding='utf-8') as file:\n",
        "    content = file.read()\n",
        "    file.seek(0)\n",
        "    file.write('Новая строка\\n' + content)"
      ]
    },
    {
      "cell_type": "markdown",
      "metadata": {
        "id": "127eb7ff"
      },
      "source": [
        "## **6. Контекстный менеджер `with`**"
      ]
    },
    {
      "cell_type": "markdown",
      "metadata": {
        "id": "fd22819e"
      },
      "source": [
        "Использование `with` гарантирует, что файл будет закрыт корректно после завершения работы с ним, даже если возникнет ошибка."
      ]
    },
    {
      "cell_type": "code",
      "execution_count": null,
      "metadata": {
        "id": "3501fd6c"
      },
      "outputs": [],
      "source": [
        "with open('example.txt', 'r', encoding='utf-8') as file:\n",
        "    # Работа с файлом\n",
        "    pass\n",
        "# Файл автоматически закрывается здесь"
      ]
    },
    {
      "cell_type": "markdown",
      "metadata": {
        "id": "34cf4b47"
      },
      "source": [
        "## **7. Обработка исключений при работе с файлами**"
      ]
    },
    {
      "cell_type": "markdown",
      "metadata": {
        "id": "9d963f0a"
      },
      "source": [
        "Важно обрабатывать возможные ошибки, такие как отсутствие файла или ошибки ввода-вывода:"
      ]
    },
    {
      "cell_type": "code",
      "execution_count": null,
      "metadata": {
        "id": "4cf908ac",
        "colab": {
          "base_uri": "https://localhost:8080/"
        },
        "outputId": "4c6403fd-64f9-48b4-caf3-059b69600303"
      },
      "outputs": [
        {
          "output_type": "stream",
          "name": "stdout",
          "text": [
            "Файл не найден.\n"
          ]
        }
      ],
      "source": [
        "try:\n",
        "    with open('nonexistent_file.txt', 'r', encoding='utf-8') as file:\n",
        "        content = file.read()\n",
        "except FileNotFoundError:\n",
        "    print(\"Файл не найден.\")\n",
        "except IOError:\n",
        "    print(\"Ошибка ввода-вывода.\")"
      ]
    },
    {
      "cell_type": "markdown",
      "metadata": {
        "id": "6def7999"
      },
      "source": [
        "## **8. Работа с путями файлов и модулем `os`**"
      ]
    },
    {
      "cell_type": "markdown",
      "metadata": {
        "id": "93126bf9"
      },
      "source": [
        "### **8.1. Модуль `os`**"
      ]
    },
    {
      "cell_type": "markdown",
      "metadata": {
        "id": "e8a739c9"
      },
      "source": [
        "Модуль `os` предоставляет функции для работы с операционной системой:"
      ]
    },
    {
      "cell_type": "code",
      "execution_count": null,
      "metadata": {
        "id": "c53adad3"
      },
      "outputs": [],
      "source": [
        "import os\n",
        "\n",
        "# Текущая рабочая директория\n",
        "current_dir = os.getcwd()\n",
        "print(\"Текущая директория:\", current_dir)\n",
        "\n",
        "# Смена рабочей директории\n",
        "os.chdir('/path/to/directory')"
      ]
    },
    {
      "cell_type": "markdown",
      "metadata": {
        "id": "1c5911bd"
      },
      "source": [
        "### **8.2. Модуль `os.path`**"
      ]
    },
    {
      "cell_type": "markdown",
      "metadata": {
        "id": "0579d3a7"
      },
      "source": [
        "Работа с путями файлов:"
      ]
    },
    {
      "cell_type": "code",
      "execution_count": null,
      "metadata": {
        "id": "475c2be4",
        "colab": {
          "base_uri": "https://localhost:8080/"
        },
        "outputId": "ceb627b6-cf65-4d4e-a9f5-e9dae6cc00e1"
      },
      "outputs": [
        {
          "output_type": "stream",
          "name": "stdout",
          "text": [
            "Файл не найден.\n"
          ]
        }
      ],
      "source": [
        "import os\n",
        "\n",
        "# Объединение путей\n",
        "file_path = os.path.join(current_dir, 'data', 'example.txt')\n",
        "\n",
        "# Проверка существования файла\n",
        "if os.path.exists(file_path):\n",
        "    print(\"Файл существует.\")\n",
        "else:\n",
        "    print(\"Файл не найден.\")"
      ]
    },
    {
      "cell_type": "markdown",
      "metadata": {
        "id": "a090679e"
      },
      "source": [
        "## **9. Работа с кодировками**"
      ]
    },
    {
      "cell_type": "markdown",
      "metadata": {
        "id": "1183d455"
      },
      "source": [
        "При работе с текстовыми файлами важно учитывать кодировку, чтобы избежать проблем с отображением символов:"
      ]
    },
    {
      "cell_type": "code",
      "execution_count": null,
      "metadata": {
        "id": "a112aa72"
      },
      "outputs": [],
      "source": [
        "with open('example.txt', 'r', encoding='utf-8') as file:\n",
        "    content = file.read()"
      ]
    },
    {
      "cell_type": "markdown",
      "metadata": {
        "id": "4250361d"
      },
      "source": [
        "## **10. Чтение и запись бинарных файлов**"
      ]
    },
    {
      "cell_type": "markdown",
      "metadata": {
        "id": "ad0063c9"
      },
      "source": [
        "Для работы с бинарными файлами используются режимы `'rb'`, `'wb'`, `'ab'`:"
      ]
    },
    {
      "cell_type": "code",
      "execution_count": null,
      "metadata": {
        "id": "e15b66ae"
      },
      "outputs": [],
      "source": [
        "# Чтение бинарного файла\n",
        "with open('image.jpg', 'rb') as file:\n",
        "    data = file.read()"
      ]
    },
    {
      "cell_type": "markdown",
      "metadata": {
        "id": "5978f548"
      },
      "source": [
        "**Бинарные файлы** — это файлы, содержащие данные в формате, который не предназначен для прямого чтения человеком. В отличие от текстовых файлов, где данные хранятся в виде читаемых символов и строк, бинарные файлы могут содержать любую информацию: изображения, видео, аудио, исполняемые программы, данные в структурированном формате и многое другое.\n",
        "**Бинарные файлы** хранят данные в двоичной форме, то есть в виде последовательности байтов. Это позволяет хранить данные более компактно и эффективно работать с ними при помощи программ."
      ]
    },
    {
      "cell_type": "markdown",
      "metadata": {
        "id": "03e9d8f2"
      },
      "source": [
        "## **11. Дополнительные методы работы с файлами**"
      ]
    },
    {
      "cell_type": "markdown",
      "metadata": {
        "id": "4ef9c0d7"
      },
      "source": [
        "- **`file.tell()`**: возвращает текущую позицию указателя в файле.\n",
        "- **`file.seek(offset, whence)`**: перемещает указатель в файле.\n",
        "\n",
        "Пример:"
      ]
    },
    {
      "cell_type": "code",
      "execution_count": null,
      "metadata": {
        "id": "f3b9893d",
        "colab": {
          "base_uri": "https://localhost:8080/"
        },
        "outputId": "4e6c018c-8368-42e2-ae56-a36f8b6f4d88"
      },
      "outputs": [
        {
          "output_type": "stream",
          "name": "stdout",
          "text": [
            " строка\n",
            "Я к вам пишу — чего же боле?\n",
            "Что я могу еще сказать?\n",
            "Теперь, я знаю, в вашей воле\n",
            "Меня презреньем наказать.\n",
            "Но вы, к моей несчастной доле\n",
            "Хоть каплю жалости храня,\n",
            "Вы не оставите меня.\n",
            "Сначала я молчать хотела;\n",
            "Поверьте: моего стыда\n",
            "Вы не узнали б никогда,\n",
            "Когда б надежду я имела\n",
            "Хоть редко, хоть в неделю раз\n",
            "В деревне нашей видеть вас,\n",
            "Чтоб только слышать ваши речи,\n",
            "Вам слово молвить, и потом\n",
            "Все думать, думать об одном\n",
            "И день и ночь до новой встречи.\n",
            "Но, говорят, вы нелюдим;\n",
            "В глуши, в деревне всё вам скучно,\n",
            "А мы… ничем мы не блестим,\n",
            "Хоть вам и рады простодушно.\n",
            "Зачем вы посетили нас?\n",
            "В глуши забытого селенья\n",
            "Я никогда не знала б вас,\n",
            "Не знала б горького мученья.\n",
            "Души неопытной волненья\n",
            "Смирив со временем (как знать?),\n",
            "По сердцу я нашла бы друга,\n",
            "Была бы верная супруга\n",
            "И добродетельная мать.\n",
            "Другой!.. Нет, никому на свете\n",
            "Не отдала бы сердца я!\n",
            "То в вышнем суждено совете…\n",
            "То воля неба: я твоя;\n",
            "Вся жизнь моя была залогом\n",
            "Свиданья верного с тобой;\n",
            "Я знаю, ты мне послан богом,\n",
            "До гроба ты хранитель мой…\n",
            "Ты в сновиденьях мне являлся,\n",
            "Незримый, ты мне был уж мил,\n",
            "Твой чудный взгляд меня томил,\n",
            "В душе твой голос раздавался\n",
            "Давно… нет, это был не сон!\n",
            "Ты чуть вошел, я вмиг узнала,\n",
            "Вся обомлела, запылала\n",
            "И в мыслях молвила: вот он!\n",
            "Не правда ль? Я тебя слыхала:\n",
            "Ты говорил со мной в тиши,\n",
            "Когда я бедным помогала\n",
            "Или молитвой услаждала\n",
            "Тоску волнуемой души?\n",
            "И в это самое мгновенье\n",
            "Не ты ли, милое виденье,\n",
            "В прозрачной темноте мелькнул,\n",
            "Приникнул тихо к изголовью?\n",
            "Не ты ль, с отрадой и любовью,\n",
            "Слова надежды мне шепнул?\n",
            "Кто ты, мой ангел ли хранитель,\n",
            "Или коварный искуситель:\n",
            "Мои сомненья разреши.\n",
            "Быть может, это все пустое,\n",
            "Обман неопытной души!\n",
            "И суждено совсем иное…\n",
            "Но так и быть! Судьбу мою\n",
            "Отныне я тебе вручаю,\n",
            "Перед тобою слезы лью,\n",
            "Твоей защиты умоляю…\n",
            "Вообрази: я здесь одна,\n",
            "Никто меня не понимает,\n",
            "Рассудок мой изнемогает,\n",
            "И молча гибнуть я должна.\n",
            "Я жду тебя: единым взором\n",
            "Надежды сердца оживи\n",
            "Иль сон тяжелый перерви,\n",
            "Увы, заслуженным укором!\n",
            "Кончаю! Страшно перечесть…\n",
            "Стыдом и страхом замираю…\n",
            "Но мне порукой ваша честь,\n",
            "И смело ей себя вверяю…\n",
            "\n",
            "\n",
            "Читать полное произведение﻿\n",
            "1833 г.\n"
          ]
        }
      ],
      "source": [
        "with open('example.txt', 'r', encoding='utf-8') as file:\n",
        "    file.seek(10)  # Перемещаемся на 10 байт от начала файла\n",
        "    print(file.read())"
      ]
    },
    {
      "cell_type": "markdown",
      "metadata": {
        "id": "d4bbbf93"
      },
      "source": [
        "## **12. Практический пример: подсчет слов в файле**"
      ]
    },
    {
      "cell_type": "markdown",
      "metadata": {
        "id": "c8a1208c"
      },
      "source": [
        "Программа для подсчета количества слов в файле:"
      ]
    },
    {
      "cell_type": "code",
      "execution_count": null,
      "metadata": {
        "id": "c98a4109",
        "colab": {
          "base_uri": "https://localhost:8080/"
        },
        "outputId": "95f2c143-17cb-431a-a46c-f9cf6f91d4f0"
      },
      "outputs": [
        {
          "output_type": "stream",
          "name": "stdout",
          "text": [
            "Количество слов в файле 'example.txt': 377\n"
          ]
        }
      ],
      "source": [
        "def count_words_in_file(filename):\n",
        "    try:\n",
        "        with open(filename, 'r', encoding='utf-8') as file:\n",
        "            content = file.read()\n",
        "        words = content.split()\n",
        "        print(f\"Количество слов в файле '{filename}': {len(words)}\")\n",
        "    except FileNotFoundError:\n",
        "        print(f\"Файл '{filename}' не найден.\")\n",
        "\n",
        "count_words_in_file('example.txt')"
      ]
    },
    {
      "cell_type": "markdown",
      "metadata": {
        "id": "c31d48d0"
      },
      "source": [
        "## **13. Заключение**"
      ]
    },
    {
      "cell_type": "markdown",
      "metadata": {
        "id": "52abac09"
      },
      "source": [
        "Работа с файлами в Python является неотъемлемой частью многих приложений. Умение открывать, читать, записывать и управлять файлами позволяет создавать мощные и гибкие программы. Используя различные режимы открытия файлов, методы чтения и записи, а также учитывая кодировки и возможные ошибки, вы сможете эффективно работать с файловой системой в Python."
      ]
    },
    {
      "cell_type": "markdown",
      "metadata": {
        "id": "ee072448"
      },
      "source": [
        "## **14. Дополнительные советы**"
      ]
    },
    {
      "cell_type": "markdown",
      "metadata": {
        "id": "3ca36bcb"
      },
      "source": [
        "- Всегда закрывайте файлы или используйте `with` для автоматического закрытия.\n",
        "- Обрабатывайте возможные исключения, чтобы ваша программа была устойчивой к ошибкам.\n",
        "- Пользуйтесь модулями `os` и `os.path` для работы с файловой системой независимо от операционной системы.\n",
        "- Помните о безопасности данных: режим `'w'` перезаписывает файл, будьте осторожны при его использовании."
      ]
    }
  ]
}