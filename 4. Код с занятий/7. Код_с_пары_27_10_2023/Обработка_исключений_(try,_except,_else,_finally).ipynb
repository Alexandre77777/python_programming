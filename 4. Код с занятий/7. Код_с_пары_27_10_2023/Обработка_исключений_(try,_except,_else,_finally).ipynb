{
  "nbformat": 4,
  "nbformat_minor": 0,
  "metadata": {
    "colab": {
      "provenance": [],
      "authorship_tag": "ABX9TyMmoLKhj3kn45IsrRRcZblt",
      "include_colab_link": true
    },
    "kernelspec": {
      "name": "python3",
      "display_name": "Python 3"
    },
    "language_info": {
      "name": "python"
    }
  },
  "cells": [
    {
      "cell_type": "markdown",
      "metadata": {
        "id": "view-in-github",
        "colab_type": "text"
      },
      "source": [
        "<a href=\"https://colab.research.google.com/github/Alexandre77777/python_programming/blob/main/4.%20%D0%9A%D0%BE%D0%B4%20%D1%81%20%D0%B7%D0%B0%D0%BD%D1%8F%D1%82%D0%B8%D0%B9/7.%20%D0%9A%D0%BE%D0%B4_%D1%81_%D0%BF%D0%B0%D1%80%D1%8B_27_10_2023/%D0%9E%D0%B1%D1%80%D0%B0%D0%B1%D0%BE%D1%82%D0%BA%D0%B0_%D0%B8%D1%81%D0%BA%D0%BB%D1%8E%D1%87%D0%B5%D0%BD%D0%B8%D0%B9_(try%2C_except%2C_else%2C_finally).ipynb\" target=\"_parent\"><img src=\"https://colab.research.google.com/assets/colab-badge.svg\" alt=\"Open In Colab\"/></a>"
      ]
    },
    {
      "cell_type": "markdown",
      "metadata": {
        "id": "9ad4dc64"
      },
      "source": [
        "# **1. Обработка исключений в Python: операторы `try`, `except`, `else`, `finally`**"
      ]
    },
    {
      "cell_type": "markdown",
      "metadata": {
        "id": "e02b8165"
      },
      "source": [
        "## **1. Краткая теория**"
      ]
    },
    {
      "cell_type": "markdown",
      "metadata": {
        "id": "e6fbf534"
      },
      "source": [
        "Исключения в Python — это события, которые возникают во время выполнения программы и нарушают её нормальный поток исполнения. Они сигнализируют о том, что произошла некоторая ошибка или непредвиденная ситуация, которую необходимо обработать, чтобы предотвратить аварийное завершение программы. Обработка исключений позволяет перехватывать эти ошибки и реагировать на них, обеспечивая надёжность и устойчивость кода."
      ]
    },
    {
      "cell_type": "markdown",
      "metadata": {
        "id": "89bf4eef"
      },
      "source": [
        "## **2. Что такое исключения**"
      ]
    },
    {
      "cell_type": "markdown",
      "metadata": {
        "id": "b4017538"
      },
      "source": [
        "Исключения представляют собой специальные объекты, которые сигнализируют о возникновении ошибок во время выполнения программы. Примеры исключений включают деление на ноль (`ZeroDivisionError`), попытку доступа к несуществующему файлу (`FileNotFoundError`), неправильный тип данных (`TypeError`) и другие.\n",
        "\n",
        "Если исключение не обрабатывается, программа завершается с сообщением об ошибке и трассировкой стека, что может быть нежелательно в пользовательском приложении."
      ]
    },
    {
      "cell_type": "markdown",
      "metadata": {
        "id": "c006fb67"
      },
      "source": [
        "## **3. Базовый синтаксис обработки исключений**"
      ]
    },
    {
      "cell_type": "markdown",
      "metadata": {
        "id": "8408cac0"
      },
      "source": [
        "Операторы `try`, `except`, `else` и `finally` используются для перехвата и обработки исключений в Python."
      ]
    },
    {
      "cell_type": "code",
      "execution_count": null,
      "metadata": {
        "id": "6e905854"
      },
      "outputs": [],
      "source": [
        "try:\n",
        "    # Код, который может вызвать исключение\n",
        "except ТипИсключения:\n",
        "    # Код, который выполняется при возникновении указанного исключения\n",
        "else:\n",
        "    # Код, который выполняется, если исключение не возникло\n",
        "finally:\n",
        "    # Код, который выполняется в любом случае, независимо от наличия исключения"
      ]
    },
    {
      "cell_type": "markdown",
      "metadata": {
        "id": "f2e63d5c"
      },
      "source": [
        "- **`try`**: содержит код, который потенциально может вызвать исключение.\n",
        "- **`except`**: блок для обработки исключения. Можно указать конкретный тип исключения или оставить общий обработчик.\n",
        "- **`else`**: выполняется, если код в `try` выполнился без исключений.\n",
        "- **`finally`**: выполняется в любом случае, независимо от того, было ли исключение."
      ]
    },
    {
      "cell_type": "markdown",
      "metadata": {
        "id": "82b4d61e"
      },
      "source": [
        "## **4. Обработка конкретных исключений**"
      ]
    },
    {
      "cell_type": "markdown",
      "metadata": {
        "id": "2b655932"
      },
      "source": [
        "Для обработки конкретных типов исключений указывайте имя исключения после ключевого слова `except`."
      ]
    },
    {
      "cell_type": "code",
      "execution_count": null,
      "metadata": {
        "colab": {
          "base_uri": "https://localhost:8080/"
        },
        "id": "3154caaf",
        "outputId": "e985bc58-315d-49bd-ead6-73c70067e7e1"
      },
      "outputs": [
        {
          "output_type": "stream",
          "name": "stdout",
          "text": [
            "Ошибка: Деление на ноль!\n"
          ]
        }
      ],
      "source": [
        "number = 0\n",
        "\n",
        "try:\n",
        "  result = 10 / number\n",
        "except ZeroDivisionError:\n",
        "  print(\"Ошибка: Деление на ноль!\")"
      ]
    },
    {
      "cell_type": "markdown",
      "metadata": {
        "id": "25dd4499"
      },
      "source": [
        "Можно обрабатывать несколько разных исключений, используя несколько блоков `except`:"
      ]
    },
    {
      "cell_type": "code",
      "execution_count": null,
      "metadata": {
        "colab": {
          "base_uri": "https://localhost:8080/"
        },
        "id": "3a320387",
        "outputId": "47b8a326-9922-494c-8dd4-aef32856d4f5"
      },
      "outputs": [
        {
          "output_type": "stream",
          "name": "stdout",
          "text": [
            "Введите число: щ\n",
            "Ошибка: Введено не числовое значение.\n"
          ]
        }
      ],
      "source": [
        "try:\n",
        "    number = int(input(\"Введите число: \"))\n",
        "    result = 10 / number\n",
        "except ZeroDivisionError:\n",
        "    print(\"Ошибка: Деление на ноль!\")\n",
        "except ValueError:\n",
        "    print(\"Ошибка: Введено не числовое значение.\")"
      ]
    },
    {
      "cell_type": "markdown",
      "metadata": {
        "id": "7a8eb17e"
      },
      "source": [
        "## **5. Перехват всех исключений**"
      ]
    },
    {
      "cell_type": "markdown",
      "metadata": {
        "id": "9a490e1f"
      },
      "source": [
        "Если нужно перехватить все возможные исключения, используйте `except Exception`:"
      ]
    },
    {
      "cell_type": "code",
      "execution_count": null,
      "metadata": {
        "colab": {
          "base_uri": "https://localhost:8080/"
        },
        "id": "2058522d",
        "outputId": "4527e7a5-2ade-409b-c989-532ed0b61e71"
      },
      "outputs": [
        {
          "output_type": "stream",
          "name": "stdout",
          "text": [
            "eval(1+1)\n",
            "Произошла ошибка: invalid literal for int() with base 10: 'eval(1+1)'\n"
          ]
        }
      ],
      "source": [
        "try:\n",
        "    # Код, который может вызвать исключение\n",
        "    div = 1/int(input())\n",
        "except Exception as e:\n",
        "    print(f\"Произошла ошибка: {e}\")"
      ]
    },
    {
      "cell_type": "markdown",
      "metadata": {
        "id": "5065b25e"
      },
      "source": [
        "Однако рекомендуется перехватывать только те исключения, которые вы ожидаете, чтобы не скрыть другие ошибки."
      ]
    },
    {
      "cell_type": "markdown",
      "metadata": {
        "id": "2cf65a69"
      },
      "source": [
        "## **6. Операторы `else` и `finally`**"
      ]
    },
    {
      "cell_type": "markdown",
      "metadata": {
        "id": "aea41e7b"
      },
      "source": [
        "- **`else`**: выполняется, если в блоке `try` не возникло исключений."
      ]
    },
    {
      "cell_type": "code",
      "execution_count": null,
      "metadata": {
        "id": "ee779d93",
        "colab": {
          "base_uri": "https://localhost:8080/"
        },
        "outputId": "42a768c2-5210-439a-bf2a-6eb04d6de020"
      },
      "outputs": [
        {
          "output_type": "stream",
          "name": "stdout",
          "text": [
            "2\n",
            "Результат: 5.0\n"
          ]
        }
      ],
      "source": [
        "try:\n",
        "    result = 10 / int(input())\n",
        "except ZeroDivisionError:\n",
        "    print(\"Ошибка: Деление на ноль!\")\n",
        "else:\n",
        "    print(f\"Результат: {result}\")"
      ]
    },
    {
      "cell_type": "markdown",
      "metadata": {
        "id": "224da468"
      },
      "source": [
        "- **`finally`**: выполняется всегда, независимо от того, произошло исключение или нет. Часто используется для освобождения ресурсов."
      ]
    },
    {
      "cell_type": "code",
      "execution_count": null,
      "metadata": {
        "id": "2cca294c",
        "colab": {
          "base_uri": "https://localhost:8080/"
        },
        "outputId": "c6fc4ecf-4226-4158-d356-118365228897"
      },
      "outputs": [
        {
          "output_type": "stream",
          "name": "stdout",
          "text": [
            "Ошибка: Файл не найден.\n",
            "finally - выполняется всегда!\n"
          ]
        }
      ],
      "source": [
        "try:\n",
        "    file = open(\"dat1a.txt\", \"r\")\n",
        "    content = file.read()\n",
        "except FileNotFoundError:\n",
        "    print(\"Ошибка: Файл не найден.\")\n",
        "    file = False\n",
        "finally:\n",
        "    print(\"finally - выполняется всегда!\")\n",
        "    if file:\n",
        "      file.close()\n",
        "      print(\"Файл закрыт.\")"
      ]
    },
    {
      "cell_type": "markdown",
      "metadata": {
        "id": "b0c2973b"
      },
      "source": [
        "## **7. Генерирование исключений с помощью `raise`**"
      ]
    },
    {
      "cell_type": "markdown",
      "metadata": {
        "id": "3e572bf5"
      },
      "source": [
        "Вы можете самостоятельно генерировать исключения в программе, используя оператор `raise`. Это полезно, когда нужно указать на ошибочное состояние."
      ]
    },
    {
      "cell_type": "code",
      "execution_count": null,
      "metadata": {
        "id": "be6ac983",
        "colab": {
          "base_uri": "https://localhost:8080/",
          "height": 328
        },
        "outputId": "1c4ebdd3-0087-457f-caab-fc225ac41438"
      },
      "outputs": [
        {
          "output_type": "error",
          "ename": "ValueError",
          "evalue": "Нельзя вычислить квадратный корень из отрицательного числа.",
          "traceback": [
            "\u001b[0;31m---------------------------------------------------------------------------\u001b[0m",
            "\u001b[0;31mValueError\u001b[0m                                Traceback (most recent call last)",
            "\u001b[0;32m<ipython-input-13-39186439d796>\u001b[0m in \u001b[0;36m<cell line: 6>\u001b[0;34m()\u001b[0m\n\u001b[1;32m      4\u001b[0m     \u001b[0;32mreturn\u001b[0m \u001b[0mnumber\u001b[0m \u001b[0;34m**\u001b[0m \u001b[0;36m0.5\u001b[0m\u001b[0;34m\u001b[0m\u001b[0;34m\u001b[0m\u001b[0m\n\u001b[1;32m      5\u001b[0m \u001b[0;34m\u001b[0m\u001b[0m\n\u001b[0;32m----> 6\u001b[0;31m \u001b[0msqrt\u001b[0m\u001b[0;34m(\u001b[0m\u001b[0;34m-\u001b[0m\u001b[0;36m1\u001b[0m\u001b[0;34m)\u001b[0m\u001b[0;34m\u001b[0m\u001b[0;34m\u001b[0m\u001b[0m\n\u001b[0m",
            "\u001b[0;32m<ipython-input-13-39186439d796>\u001b[0m in \u001b[0;36msqrt\u001b[0;34m(number)\u001b[0m\n\u001b[1;32m      1\u001b[0m \u001b[0;32mdef\u001b[0m \u001b[0msqrt\u001b[0m\u001b[0;34m(\u001b[0m\u001b[0mnumber\u001b[0m\u001b[0;34m)\u001b[0m\u001b[0;34m:\u001b[0m\u001b[0;34m\u001b[0m\u001b[0;34m\u001b[0m\u001b[0m\n\u001b[1;32m      2\u001b[0m     \u001b[0;32mif\u001b[0m \u001b[0mnumber\u001b[0m \u001b[0;34m<\u001b[0m \u001b[0;36m0\u001b[0m\u001b[0;34m:\u001b[0m\u001b[0;34m\u001b[0m\u001b[0;34m\u001b[0m\u001b[0m\n\u001b[0;32m----> 3\u001b[0;31m         \u001b[0;32mraise\u001b[0m \u001b[0mValueError\u001b[0m\u001b[0;34m(\u001b[0m\u001b[0;34m\"Нельзя вычислить квадратный корень из отрицательного числа.\"\u001b[0m\u001b[0;34m)\u001b[0m\u001b[0;34m\u001b[0m\u001b[0;34m\u001b[0m\u001b[0m\n\u001b[0m\u001b[1;32m      4\u001b[0m     \u001b[0;32mreturn\u001b[0m \u001b[0mnumber\u001b[0m \u001b[0;34m**\u001b[0m \u001b[0;36m0.5\u001b[0m\u001b[0;34m\u001b[0m\u001b[0;34m\u001b[0m\u001b[0m\n\u001b[1;32m      5\u001b[0m \u001b[0;34m\u001b[0m\u001b[0m\n",
            "\u001b[0;31mValueError\u001b[0m: Нельзя вычислить квадратный корень из отрицательного числа."
          ]
        }
      ],
      "source": [
        "def sqrt(number):\n",
        "    if number < 0:\n",
        "        raise ValueError(\"Нельзя вычислить квадратный корень из отрицательного числа.\")\n",
        "    return number ** 0.5\n",
        "\n",
        "sqrt(-1)"
      ]
    },
    {
      "cell_type": "markdown",
      "metadata": {
        "id": "003ebe87"
      },
      "source": [
        "При вызове `sqrt(-1)` будет сгенерировано исключение `ValueError`."
      ]
    },
    {
      "cell_type": "markdown",
      "metadata": {
        "id": "1e136535"
      },
      "source": [
        "## **8. Создание собственных классов исключений**"
      ]
    },
    {
      "cell_type": "markdown",
      "metadata": {
        "id": "614edc3b"
      },
      "source": [
        "Для более точной обработки ошибок вы можете создавать собственные классы исключений, наследуя их от встроенного класса `Exception`:"
      ]
    },
    {
      "cell_type": "code",
      "execution_count": null,
      "metadata": {
        "id": "9c1c4597",
        "colab": {
          "base_uri": "https://localhost:8080/",
          "height": 328
        },
        "outputId": "434585bc-5ad6-4c08-eed2-57d4bcaae49c"
      },
      "outputs": [
        {
          "output_type": "error",
          "ename": "NegativeNumberError",
          "evalue": "Отрицательное число недопустимо.",
          "traceback": [
            "\u001b[0;31m---------------------------------------------------------------------------\u001b[0m",
            "\u001b[0;31mNegativeNumberError\u001b[0m                       Traceback (most recent call last)",
            "\u001b[0;32m<ipython-input-15-c93edab3a30f>\u001b[0m in \u001b[0;36m<cell line: 10>\u001b[0;34m()\u001b[0m\n\u001b[1;32m      8\u001b[0m     \u001b[0;32mreturn\u001b[0m \u001b[0mnumber\u001b[0m \u001b[0;34m**\u001b[0m \u001b[0;36m0.5\u001b[0m\u001b[0;34m\u001b[0m\u001b[0;34m\u001b[0m\u001b[0m\n\u001b[1;32m      9\u001b[0m \u001b[0;34m\u001b[0m\u001b[0m\n\u001b[0;32m---> 10\u001b[0;31m \u001b[0mcalculate_square_root\u001b[0m\u001b[0;34m(\u001b[0m\u001b[0;34m-\u001b[0m\u001b[0;36m1\u001b[0m\u001b[0;34m)\u001b[0m\u001b[0;34m\u001b[0m\u001b[0;34m\u001b[0m\u001b[0m\n\u001b[0m",
            "\u001b[0;32m<ipython-input-15-c93edab3a30f>\u001b[0m in \u001b[0;36mcalculate_square_root\u001b[0;34m(number)\u001b[0m\n\u001b[1;32m      5\u001b[0m \u001b[0;32mdef\u001b[0m \u001b[0mcalculate_square_root\u001b[0m\u001b[0;34m(\u001b[0m\u001b[0mnumber\u001b[0m\u001b[0;34m)\u001b[0m\u001b[0;34m:\u001b[0m\u001b[0;34m\u001b[0m\u001b[0;34m\u001b[0m\u001b[0m\n\u001b[1;32m      6\u001b[0m     \u001b[0;32mif\u001b[0m \u001b[0mnumber\u001b[0m \u001b[0;34m<\u001b[0m \u001b[0;36m0\u001b[0m\u001b[0;34m:\u001b[0m\u001b[0;34m\u001b[0m\u001b[0;34m\u001b[0m\u001b[0m\n\u001b[0;32m----> 7\u001b[0;31m         \u001b[0;32mraise\u001b[0m \u001b[0mNegativeNumberError\u001b[0m\u001b[0;34m(\u001b[0m\u001b[0;34m\"Отрицательное число недопустимо.\"\u001b[0m\u001b[0;34m)\u001b[0m\u001b[0;34m\u001b[0m\u001b[0;34m\u001b[0m\u001b[0m\n\u001b[0m\u001b[1;32m      8\u001b[0m     \u001b[0;32mreturn\u001b[0m \u001b[0mnumber\u001b[0m \u001b[0;34m**\u001b[0m \u001b[0;36m0.5\u001b[0m\u001b[0;34m\u001b[0m\u001b[0;34m\u001b[0m\u001b[0m\n\u001b[1;32m      9\u001b[0m \u001b[0;34m\u001b[0m\u001b[0m\n",
            "\u001b[0;31mNegativeNumberError\u001b[0m: Отрицательное число недопустимо."
          ]
        }
      ],
      "source": [
        "class NegativeNumberError(Exception):\n",
        "    \"\"\"Исключение, вызываемое при попытке использовать отрицательное число, где это недопустимо.\"\"\"\n",
        "    pass\n",
        "\n",
        "def calculate_square_root(number):\n",
        "    if number < 0:\n",
        "        raise NegativeNumberError(\"Отрицательное число недопустимо.\")\n",
        "    return number ** 0.5\n",
        "\n",
        "calculate_square_root(-1)"
      ]
    },
    {
      "cell_type": "markdown",
      "metadata": {
        "id": "91da1467"
      },
      "source": [
        "Теперь можно обрабатывать это исключение отдельно:"
      ]
    },
    {
      "cell_type": "code",
      "source": [
        "try:\n",
        "    num = float(input(\"Введите число для вычисления квадратного корня: \"))\n",
        "    result = calculate_square_root(num)\n",
        "except NegativeNumberError as e:\n",
        "    print(f\"Ошибка: {e}\")\n",
        "except ValueError:\n",
        "    print(\"Ошибка: Введите корректное числовое значение.\")\n",
        "else:\n",
        "    print(f\"Квадратный корень из {num} равен {result}\")\n",
        "finally:\n",
        "    print(\"Программа завершила выполнение.\")"
      ],
      "metadata": {
        "colab": {
          "base_uri": "https://localhost:8080/"
        },
        "id": "efYYDMo4t9sx",
        "outputId": "840e9ca3-4a47-4ea7-e0a9-f6bc8d30dfd4"
      },
      "execution_count": null,
      "outputs": [
        {
          "output_type": "stream",
          "name": "stdout",
          "text": [
            "Введите число для вычисления квадратного корня: sdf\n",
            "Ошибка: Введите корректное числовое значение.\n",
            "Программа завершила выполнение.\n"
          ]
        }
      ]
    },
    {
      "cell_type": "markdown",
      "metadata": {
        "id": "c938e915"
      },
      "source": [
        "## **9. Где посмотреть классы ошибок и их иерархию?**"
      ]
    },
    {
      "cell_type": "markdown",
      "metadata": {
        "id": "e0b07e5e"
      },
      "source": [
        "Все встроенные исключения в Python наследуются от класса `BaseException`, а наиболее используемые исключения — от класса `Exception`. Полную иерархию исключений можно найти в официальной документации Python:\n",
        "\n",
        "- [Built-in Exceptions](https://docs.python.org/3/library/exceptions.html)\n",
        "\n",
        "Это полезный ресурс для ознакомления с существующими типами исключений и выбором подходящих для перехвата или создания собственных."
      ]
    },
    {
      "cell_type": "markdown",
      "metadata": {
        "id": "4de257ca"
      },
      "source": [
        "## **10. Практические советы по обработке исключений**"
      ]
    },
    {
      "cell_type": "markdown",
      "metadata": {
        "id": "7e5fc62d"
      },
      "source": [
        "- **Перехватывайте только ожидаемые исключения**: это позволит избежать скрытия неожиданных ошибок.\n",
        "- **Избегайте пустых блоков `except`**: они затрудняют отладку и могут привести к незаметным ошибкам.\n",
        "- **Минимизируйте код внутри `try`**: оборачивайте только тот код, который может вызвать исключение.\n",
        "- **Используйте `finally` для освобождения ресурсов**: это гарантирует, что ресурсы будут освобождены независимо от исключений."
      ]
    },
    {
      "cell_type": "markdown",
      "metadata": {
        "id": "19dbacf2"
      },
      "source": [
        "## **11. Отладка и получение информации об исключениях**"
      ]
    },
    {
      "cell_type": "markdown",
      "metadata": {
        "id": "8ecbf1aa"
      },
      "source": [
        "Модуль `traceback` позволяет получить подробную информацию об исключениях, что полезно при отладке."
      ]
    },
    {
      "cell_type": "code",
      "execution_count": null,
      "metadata": {
        "id": "4923bef1",
        "colab": {
          "base_uri": "https://localhost:8080/"
        },
        "outputId": "ceee900c-4079-4bb0-d52d-84949e399dc8"
      },
      "outputs": [
        {
          "output_type": "stream",
          "name": "stderr",
          "text": [
            "Traceback (most recent call last):\n",
            "  File \"<ipython-input-27-fd926b0707fc>\", line 4, in <cell line: 3>\n",
            "    sqrt(-1)\n",
            "  File \"<ipython-input-24-36237d0858ae>\", line 6, in sqrt\n",
            "    raise NegativeNumberError(\"Отрицательное число недопустимо.\")\n",
            "NegativeNumberError: Отрицательное число недопустимо.\n"
          ]
        }
      ],
      "source": [
        "import traceback\n",
        "\n",
        "try:\n",
        "    sqrt(-1)\n",
        "    # Код, который может вызвать исключение\n",
        "except Exception:\n",
        "    traceback.print_exc()"
      ]
    },
    {
      "cell_type": "markdown",
      "metadata": {
        "id": "22f83b6e"
      },
      "source": [
        "## **12. Обработка исключений в функциях**"
      ]
    },
    {
      "cell_type": "markdown",
      "metadata": {
        "id": "5656782f"
      },
      "source": [
        "Обрабатывать исключения можно как внутри функций, так и в месте их вызова.\n",
        "\n",
        "Внутри функции:"
      ]
    },
    {
      "cell_type": "code",
      "execution_count": null,
      "metadata": {
        "id": "1b065cab"
      },
      "outputs": [],
      "source": [
        "def divide(a, b):\n",
        "    try:\n",
        "        return a / b\n",
        "    except ZeroDivisionError:\n",
        "        print(\"Ошибка: Деление на ноль.\")\n",
        "        return None"
      ]
    },
    {
      "cell_type": "code",
      "source": [
        "def divide(a, b):\n",
        "  return a / b\n",
        "  print(\"12345\")\n",
        "\n",
        "print(divide(2, 5))"
      ],
      "metadata": {
        "colab": {
          "base_uri": "https://localhost:8080/"
        },
        "id": "qVeTRCc8lYUQ",
        "outputId": "1dd8ca61-2752-4b6e-a148-d09ba0078a81"
      },
      "execution_count": null,
      "outputs": [
        {
          "output_type": "stream",
          "name": "stdout",
          "text": [
            "0.4\n"
          ]
        }
      ]
    },
    {
      "cell_type": "markdown",
      "metadata": {
        "id": "d07537e0"
      },
      "source": [
        "В месте вызова:"
      ]
    },
    {
      "cell_type": "code",
      "execution_count": null,
      "metadata": {
        "id": "6a27b5ae",
        "colab": {
          "base_uri": "https://localhost:8080/"
        },
        "outputId": "9367ade0-de49-4410-9820-8b098c066317"
      },
      "outputs": [
        {
          "output_type": "stream",
          "name": "stdout",
          "text": [
            "Ошибка: Деление на ноль.\n"
          ]
        }
      ],
      "source": [
        "def divide(a, b):\n",
        "    return a / b\n",
        "\n",
        "try:\n",
        "    result = divide(10, 0)\n",
        "except ZeroDivisionError:\n",
        "    print(\"Ошибка: Деление на ноль.\")"
      ]
    },
    {
      "cell_type": "markdown",
      "metadata": {
        "id": "5fff0452"
      },
      "source": [
        "## **13. Выводы:**"
      ]
    },
    {
      "cell_type": "markdown",
      "metadata": {
        "id": "81872b79"
      },
      "source": [
        "Обработка исключений является важной частью разработки устойчивых и надёжных программ на Python. Используя операторы `try`, `except`, `else` и `finally`, вы можете перехватывать и обрабатывать ошибки, предотвращать аварийное завершение программы и обеспечивать корректное освобождение ресурсов.\n",
        "\n",
        "Создание собственных исключений и умение генерировать их с помощью `raise` позволяет детально контролировать поток выполнения и обеспечивает более гибкую обработку ошибок."
      ]
    },
    {
      "cell_type": "markdown",
      "metadata": {
        "id": "bee8f11e"
      },
      "source": [
        "## **14. Дополнительные ресурсы**"
      ]
    },
    {
      "cell_type": "markdown",
      "metadata": {
        "id": "5b54809e"
      },
      "source": [
        "- [Документация по обработке исключений в Python](https://docs.python.org/3/tutorial/errors.html)\n",
        "- [Иерархия встроенных исключений](https://docs.python.org/3/library/exceptions.html#exception-hierarchy)\n",
        "\n",
        "---"
      ]
    }
  ]
}