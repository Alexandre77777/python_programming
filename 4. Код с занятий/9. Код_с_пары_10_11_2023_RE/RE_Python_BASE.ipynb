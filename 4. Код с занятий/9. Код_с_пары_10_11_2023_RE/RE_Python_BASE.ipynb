{
  "nbformat": 4,
  "nbformat_minor": 0,
  "metadata": {
    "colab": {
      "provenance": [],
      "collapsed_sections": [
        "4ZCfrUsHOTc4"
      ],
      "authorship_tag": "ABX9TyPsSuT6k/FRDniJGDcwAido",
      "include_colab_link": true
    },
    "kernelspec": {
      "name": "python3",
      "display_name": "Python 3"
    },
    "language_info": {
      "name": "python"
    }
  },
  "cells": [
    {
      "cell_type": "markdown",
      "metadata": {
        "id": "view-in-github",
        "colab_type": "text"
      },
      "source": [
        "<a href=\"https://colab.research.google.com/github/Alexandre77777/python_programming/blob/main/RE_Python_BASE.ipynb\" target=\"_parent\"><img src=\"https://colab.research.google.com/assets/colab-badge.svg\" alt=\"Open In Colab\"/></a>"
      ]
    },
    {
      "cell_type": "markdown",
      "source": [
        "# **Регулярные выражения в Python**\n"
      ],
      "metadata": {
        "id": "NoXLZbhBDgGT"
      }
    },
    {
      "cell_type": "markdown",
      "source": [
        "## **Введение**"
      ],
      "metadata": {
        "id": "IA537R3bDi3m"
      }
    },
    {
      "cell_type": "markdown",
      "source": [
        "**Регулярные выражения** (regular expressions) — это эффективный инструмент для поиска и манипуляции текстовыми данными. Они позволяют описывать и находить сложные шаблоны в строках, что делает их незаменимыми при обработке текстовых данных.\n",
        "\n",
        "Далее мы рассмотрим основной синаксис регулярных выражений в Python, научимся применять их на практике для решения реальных задач."
      ],
      "metadata": {
        "id": "ajOCfLi3DkgL"
      }
    },
    {
      "cell_type": "markdown",
      "source": [
        "**Применение регулярных выражений:**\n",
        "\n",
        "- **Поиск по шаблону**: нахождение текста, соответствующего определенному шаблону (например, все email-адреса в документе).\n",
        "- **Валидация ввода**: проверка соответствия пользовательского ввода заданному формату (например, проверка номера телефона).\n",
        "- **Извлечение данных**: получение определенных частей текста из больших строк или файлов.\n",
        "- **Трансформация текста**: замена или удаление определенных шаблонов в тексте."
      ],
      "metadata": {
        "id": "zThNgATpLrg0"
      }
    },
    {
      "cell_type": "markdown",
      "source": [
        "## **Основные конструкции регулярных выражений**"
      ],
      "metadata": {
        "id": "u7pLScONDmLq"
      }
    },
    {
      "cell_type": "markdown",
      "source": [
        "Перед тем как приступить к практике, рассмотрим основные элементы синтаксиса регулярных выражений:\n",
        "\n",
        "- **Символьные классы:**\n",
        "  - `.` — любой одиночный символ.\n",
        "  - `[]` — любой символ из указанных, например, `[abc]` соответствует `'a'`, `'b'` или `'c'`.\n",
        "  - `[^]` — любой символ, **кроме** указанных, например, `[^abc]`.\n",
        "  - `\\d` — любая цифра `[0-9]`.\n",
        "  - `\\D` — любой символ, кроме цифры.\n",
        "  - `\\s` — любой пробельный символ (пробел, табуляция, перевод строки).\n",
        "  - `\\S` — любой непробельный символ.\n",
        "  - `\\w` — любая буква или цифра (символ слова).\n",
        "  - `\\W` — любой символ, кроме буквы или цифры.\n",
        "\n",
        "- **Якоря:**\n",
        "  - `^` — начало строки.\n",
        "  - `$` — конец строки.\n",
        "  - `\\b` — граница слова.\n",
        "  - `\\B` — не граница слова.\n",
        "\n",
        "- **Квантификаторы:**\n",
        "  - `n{4}` — повторение предыдущего элемента ровно 4 раза.\n",
        "  - `n{4,6}` — повторение от 4 до 6 раз.\n",
        "  - `*` — повторение от нуля и более раз (эквивалентно `{0,}`).\n",
        "  - `+` — повторение от одного и более раз (эквивалентно `{1,}`).\n",
        "  - `?` — ноль или один раз (эквивалентно `{0,1}`).\n",
        "\n",
        "- **Группировки и ссылки:**\n",
        "  - `()` — группировка выражений.\n",
        "  - `(?:)` — незахватывающая группа.\n",
        "  - `(?P<name>)` — именованная группа."
      ],
      "metadata": {
        "id": "Tmc3v4eaDo4i"
      }
    },
    {
      "cell_type": "markdown",
      "source": [
        "### **Подробно с примерами:**"
      ],
      "metadata": {
        "id": "4ZCfrUsHOTc4"
      }
    },
    {
      "cell_type": "markdown",
      "source": [
        "#### **Метасимволы**\n",
        "\n",
        "| Метасимвол | Описание                                     | Пример         |\n",
        "|------------|----------------------------------------------|----------------|\n",
        "| `.`        | Любой одиночный символ (кроме `\\n`).        | `a.b` найдет `aab`, `acb` |\n",
        "| `^`        | Начало строки.                              | `^Hello` найдет `Hello` в начале строки |\n",
        "| `$`        | Конец строки.                               | `world$` найдет `world` в конце строки |\n",
        "| `*`        | Предыдущий символ 0 или более раз.          | `ab*c` найдет `ac`, `abc`, `abbc` |\n",
        "| `+`        | Предыдущий символ 1 или более раз.          | `ab+c` найдет `abc`, `abbc` |\n",
        "| `?`        | Предыдущий символ 0 или 1 раз.              | `ab?c` найдет `ac`, `abc` |\n",
        "| `{n}`      | Ровно `n` повторений предыдущего символа.   | `a{3}` найдет `aaa` |\n",
        "| `{n,}`     | `n` или более повторений.                   | `a{2,}` найдет `aa`, `aaa`, `aaaa` |\n",
        "| `{n,m}`    | От `n` до `m` повторений.                   | `a{2,4}` найдет `aa`, `aaa`, `aaaa` |\n",
        "| `[]`       | Набор символов (класс символов).            | `[abc]` найдет `a`, `b` или `c` |\n",
        "| `\\`        | Экранирование специальных символов.         | `\\.` найдет `.`, а не любой символ |\n",
        "| `|`        | Логическое ИЛИ.                             | `cat\\|dog` найдет `cat` или `dog` |\n",
        "| `()`       | Группировка и захват подвыражений.          | `(abc)+` найдет повторяющиеся `abc` |\n",
        "\n",
        "#### **Специальные последовательности**\n",
        "\n",
        "| Последовательность | Описание                                    |\n",
        "|--------------------|---------------------------------------------|\n",
        "| `\\d`               | Любая цифра `[0-9]`.                        |\n",
        "| `\\D`               | Любой символ, кроме цифры `[^0-9]`.         |\n",
        "| `\\w`               | Буква, цифра или `_` `[A-Za-z0-9_]`.        |\n",
        "| `\\W`               | Любой символ, кроме `\\w` `[^A-Za-z0-9_]`.   |\n",
        "| `\\s`               | Любой пробельный символ (пробел, таб).      |\n",
        "| `\\S`               | Любой непробельный символ.                  |\n",
        "| `\\b`               | Граница слова.                              |\n",
        "| `\\B`               | Не граница слова.                           |\n",
        "\n",
        "#### **Классы символов**\n",
        "\n",
        "- `[abc]` — любой символ `a`, `b` или `c`.\n",
        "- `[a-z]` — любой строчный символ от `a` до `z`.\n",
        "- `[^abc]` — любой символ, кроме `a`, `b` или `c`.\n",
        "- `[0-9]` — любая цифра от `0` до `9`."
      ],
      "metadata": {
        "id": "5uYkP7NzOXsy"
      }
    },
    {
      "cell_type": "markdown",
      "source": [
        "## **Реализация в Python**"
      ],
      "metadata": {
        "id": "OhtIZvyTJpeK"
      }
    },
    {
      "cell_type": "markdown",
      "source": [
        "\n",
        "Регулярные выражения в Python позволяют выполнять сложные поисковые и заменяющие операции в строках. Рассмотрим основные функции модуля `re` с примерами их использования."
      ],
      "metadata": {
        "id": "vaPu5WcIJuaj"
      }
    },
    {
      "cell_type": "markdown",
      "source": [
        "**Флаги (модификаторы)**:\n",
        "\n",
        "- `re.IGNORECASE` (`re.I`): Регистронезависимый поиск.\n",
        "- `re.MULTILINE` (`re.M`): Многострочный режим.\n",
        "- `re.DOTALL` (`re.S`): Символ `.` также соответствует символу новой строки `\\n`."
      ],
      "metadata": {
        "id": "SAHohsuaNwt1"
      }
    },
    {
      "cell_type": "markdown",
      "source": [
        "#### `re.match(pattern, string, flags=0)`\n",
        "\n",
        "Эта функция проверяет, соответствует ли начало строки `string` шаблону `pattern`."
      ],
      "metadata": {
        "id": "XmUcI_FtJwfS"
      }
    },
    {
      "cell_type": "code",
      "source": [
        "import re\n",
        "\n",
        "pattern = r'\\d+'  # Шаблон для поиска одной или более цифр\n",
        "string = '123abc'\n",
        "\n",
        "match = re.match(pattern, string)\n",
        "if match:\n",
        "    print(\"Match found:\", match.group())  # Вывод: Match found: 123\n",
        "else:\n",
        "    print(\"No match\")"
      ],
      "metadata": {
        "colab": {
          "base_uri": "https://localhost:8080/"
        },
        "id": "xbTgcnqeJznE",
        "outputId": "20e1e1ca-8434-4197-b1ec-f6e343a577b9"
      },
      "execution_count": 19,
      "outputs": [
        {
          "output_type": "stream",
          "name": "stdout",
          "text": [
            "Match found: 123\n"
          ]
        }
      ]
    },
    {
      "cell_type": "markdown",
      "source": [
        "**Пояснение**: `re.match` ищет совпадение только в начале строки. В данном примере он находит цифры в начале строки."
      ],
      "metadata": {
        "id": "4SSFyBFNJ2vb"
      }
    },
    {
      "cell_type": "markdown",
      "source": [
        "#### `re.search(pattern, string, flags=0)`\n",
        "\n",
        "Эта функция ищет первое вхождение шаблона `pattern` в строке `string`."
      ],
      "metadata": {
        "id": "MSO8jn72J48G"
      }
    },
    {
      "cell_type": "code",
      "source": [
        "import re\n",
        "\n",
        "pattern = r'\\d+'  # Шаблон для поиска одной или более цифр\n",
        "string = 'abc123def'\n",
        "\n",
        "search = re.search(pattern, string)\n",
        "if search:\n",
        "    print(\"Search found:\", search.group())  # Вывод: Search found: 123\n",
        "else:\n",
        "    print(\"No match\")"
      ],
      "metadata": {
        "colab": {
          "base_uri": "https://localhost:8080/"
        },
        "id": "aDy71HP8J8ru",
        "outputId": "6c44d326-4c7c-4b52-defc-5cb9f8df57cd"
      },
      "execution_count": 20,
      "outputs": [
        {
          "output_type": "stream",
          "name": "stdout",
          "text": [
            "Search found: 123\n"
          ]
        }
      ]
    },
    {
      "cell_type": "markdown",
      "source": [
        "**Пояснение**: `re.search` ищет первое вхождение шаблона в строке, независимо от его позиции."
      ],
      "metadata": {
        "id": "rENYev9xJ-2G"
      }
    },
    {
      "cell_type": "markdown",
      "source": [
        "#### `re.findall(pattern, string, flags=0)`\n",
        "\n",
        "Эта функция находит все вхождения шаблона `pattern` в строке `string` и возвращает их в виде списка."
      ],
      "metadata": {
        "id": "2yhrFPTcKBCY"
      }
    },
    {
      "cell_type": "code",
      "source": [
        "import re\n",
        "\n",
        "pattern = r'\\d+'  # Шаблон для поиска одной или более цифр\n",
        "string = 'abc123def456ghi789'\n",
        "\n",
        "all_matches = re.findall(pattern, string)\n",
        "print(\"All matches:\", all_matches)  # Вывод: All matches: ['123', '456', '789']"
      ],
      "metadata": {
        "colab": {
          "base_uri": "https://localhost:8080/"
        },
        "id": "-FkjNw9kKFY5",
        "outputId": "3cf6ced3-1ebf-447e-81b6-17e11ee26b4d"
      },
      "execution_count": 21,
      "outputs": [
        {
          "output_type": "stream",
          "name": "stdout",
          "text": [
            "All matches: ['123', '456', '789']\n"
          ]
        }
      ]
    },
    {
      "cell_type": "markdown",
      "source": [
        "**Пояснение**: `re.findall` возвращает список всех совпадений в строке.\n"
      ],
      "metadata": {
        "id": "BEMSbfAmKEBH"
      }
    },
    {
      "cell_type": "markdown",
      "source": [
        "#### `re.finditer(pattern, string, flags=0)`\n",
        "\n",
        "Эта функция находит все вхождения шаблона `pattern` в строке `string` и возвращает итератор."
      ],
      "metadata": {
        "id": "C8k0S4vZKJpp"
      }
    },
    {
      "cell_type": "code",
      "source": [
        "import re\n",
        "\n",
        "pattern = r'\\d+'  # Шаблон для поиска одной или более цифр\n",
        "string = 'abc123def456ghi789'\n",
        "\n",
        "matches = re.finditer(pattern, string)\n",
        "for match in matches:\n",
        "    print(\"Match found:\", match.group())  # Вывод: Match found: 123, Match found: 456, Match found: 789"
      ],
      "metadata": {
        "colab": {
          "base_uri": "https://localhost:8080/"
        },
        "id": "tfoGKfHVKL9b",
        "outputId": "79b052fd-ce99-4ef9-b807-d85ffe997f62"
      },
      "execution_count": 22,
      "outputs": [
        {
          "output_type": "stream",
          "name": "stdout",
          "text": [
            "Match found: 123\n",
            "Match found: 456\n",
            "Match found: 789\n"
          ]
        }
      ]
    },
    {
      "cell_type": "markdown",
      "source": [
        "\n",
        "\n",
        "**Пояснение**: `re.finditer` возвращает итератор, который можно использовать для перебора всех совпадений.\n"
      ],
      "metadata": {
        "id": "ddKLWf9IKN6j"
      }
    },
    {
      "cell_type": "markdown",
      "source": [
        "#### `re.sub(pattern, repl, string, count=0, flags=0)`\n",
        "Эта функция заменяет все вхождения шаблона `pattern` на `repl` в строке `string`."
      ],
      "metadata": {
        "id": "IcKSIc7eKPsK"
      }
    },
    {
      "cell_type": "code",
      "source": [
        "import re\n",
        "\n",
        "pattern = r'\\d+'  # Шаблон для поиска одной или более цифр\n",
        "string = 'abc123def456ghi789'\n",
        "replacement = '#'\n",
        "\n",
        "new_string = re.sub(pattern, replacement, string)\n",
        "print(\"New string:\", new_string)  # Вывод: New string: abc#def#ghi#"
      ],
      "metadata": {
        "colab": {
          "base_uri": "https://localhost:8080/"
        },
        "id": "UoD-boOFKUr0",
        "outputId": "40909a58-93a6-49d4-8e19-09d36316fee4"
      },
      "execution_count": 23,
      "outputs": [
        {
          "output_type": "stream",
          "name": "stdout",
          "text": [
            "New string: abc#def#ghi#\n"
          ]
        }
      ]
    },
    {
      "cell_type": "markdown",
      "source": [
        "**Пояснение**: `re.sub` заменяет все совпадения шаблона на заданную строку.\n"
      ],
      "metadata": {
        "id": "l7XOOb0yKWld"
      }
    },
    {
      "cell_type": "markdown",
      "source": [
        "#### `re.split(pattern, string, maxsplit=0, flags=0)`\n",
        "\n",
        "Эта функция разбивает строку `string` по шаблону `pattern`."
      ],
      "metadata": {
        "id": "BvtP_5YaKaUx"
      }
    },
    {
      "cell_type": "code",
      "source": [
        "import re\n",
        "\n",
        "pattern = r'\\d+'  # Шаблон для поиска одной или более цифр\n",
        "string = 'abc123def456ghi789'\n",
        "\n",
        "split_string = re.split(pattern, string)\n",
        "print(\"Split string:\", split_string)  # Вывод: Split string: ['abc', 'def', 'ghi', '']"
      ],
      "metadata": {
        "colab": {
          "base_uri": "https://localhost:8080/"
        },
        "id": "PA1hmJ1eKdAN",
        "outputId": "35ddaec9-1b82-4304-f121-0f1a209e87a4"
      },
      "execution_count": 24,
      "outputs": [
        {
          "output_type": "stream",
          "name": "stdout",
          "text": [
            "Split string: ['abc', 'def', 'ghi', '']\n"
          ]
        }
      ]
    },
    {
      "cell_type": "markdown",
      "source": [
        "\n",
        "\n",
        "**Пояснение**: `re.split` разбивает строку на части, используя шаблон в качестве разделителя."
      ],
      "metadata": {
        "id": "PleJjDH5JlX5"
      }
    },
    {
      "cell_type": "markdown",
      "source": [
        "### **Именованные группы в регулярных выражениях**\n",
        "\n"
      ],
      "metadata": {
        "id": "YyiyRmlUQXSR"
      }
    },
    {
      "cell_type": "markdown",
      "source": [
        "Именованные группы в регулярных выражениях позволяют захватывать части строки и присваивать им имена, что делает код более читаемым и управляемым. Это особенно полезно, когда вы работаете с большими и сложными шаблонами, где легко потеряться в номерах групп."
      ],
      "metadata": {
        "id": "LFYMZez6QYaN"
      }
    },
    {
      "cell_type": "markdown",
      "source": [
        "#### **Основы Именованных Групп**\n",
        "\n"
      ],
      "metadata": {
        "id": "vLy3ZYBWQaji"
      }
    },
    {
      "cell_type": "markdown",
      "source": [
        "Именованные группы создаются с помощью синтаксиса `(?P<name>pattern)` в Python. Здесь `name` — это имя группы, а `pattern` — это шаблон, который вы хотите захватить."
      ],
      "metadata": {
        "id": "QHpmzy8qQblC"
      }
    },
    {
      "cell_type": "markdown",
      "source": [
        "\n",
        "\n",
        "\n",
        "\n",
        "#### **Пример использования**\n",
        "\n"
      ],
      "metadata": {
        "id": "WSbAimNiQWAs"
      }
    },
    {
      "cell_type": "markdown",
      "source": [
        "Предположим, у нас есть строка с датой, и мы хотим извлечь день, месяц и год:"
      ],
      "metadata": {
        "id": "NOAWDaVCQdHs"
      }
    },
    {
      "cell_type": "code",
      "source": [
        "import re\n",
        "\n",
        "text = \"Дата: 14-11-2024\"\n",
        "pattern = r\"(?P<day>\\d{2})-(?P<month>\\d{2})-(?P<year>\\d{4})\"\n",
        "\n",
        "match = re.search(pattern, text)\n",
        "if match:\n",
        "    print(\"День:\", match.group('day'))    # Вывод: День: 14\n",
        "    print(\"Месяц:\", match.group('month')) # Вывод: Месяц: 11\n",
        "    print(\"Год:\", match.group('year'))    # Вывод: Год: 2024"
      ],
      "metadata": {
        "colab": {
          "base_uri": "https://localhost:8080/"
        },
        "id": "WkliJCvHQiWK",
        "outputId": "8c52839e-0152-4c56-8caa-4464d68af6d0"
      },
      "execution_count": 25,
      "outputs": [
        {
          "output_type": "stream",
          "name": "stdout",
          "text": [
            "День: 14\n",
            "Месяц: 11\n",
            "Год: 2024\n"
          ]
        }
      ]
    },
    {
      "cell_type": "markdown",
      "source": [
        "**Пояснение**: В этом примере мы используем именованные группы `day`, `month` и `year` для захвата соответствующих частей даты. Это позволяет легко обращаться к каждой части по имени, а не по индексу."
      ],
      "metadata": {
        "id": "TqqdJAz1Qgpl"
      }
    },
    {
      "cell_type": "markdown",
      "source": [
        "#### Преимущества именованных групп\n",
        "\n",
        "1. **Читаемость**: Код становится более понятным, так как имена групп описывают, что именно они захватывают.\n",
        "2. **Удобство**: Легче обращаться к захваченным данным, особенно если шаблон сложный и содержит много групп.\n",
        "3. **Поддержка**: Именованные группы поддерживаются в большинстве современных языков программирования, таких как Python, JavaScript, и другие."
      ],
      "metadata": {
        "id": "2vNScpu_Qq7u"
      }
    },
    {
      "cell_type": "markdown",
      "source": [
        "#### Дополнительные возможности\n",
        "\n",
        "Именованные группы также можно использовать в функции `re.sub` для замены:"
      ],
      "metadata": {
        "id": "Okkc_uvOQ5ym"
      }
    },
    {
      "cell_type": "code",
      "source": [
        "import re\n",
        "\n",
        "text = \"Дата: 14-11-2024\"\n",
        "pattern = r\"(?P<day>\\d{2})-(?P<month>\\d{2})-(?P<year>\\d{4})\"\n",
        "replacement = r\"\\g<year>/\\g<month>/\\g<day>\"\n",
        "\n",
        "new_text = re.sub(pattern, replacement, text)\n",
        "print(\"Новая дата:\", new_text)  # Вывод: Новая дата: 2024/11/14"
      ],
      "metadata": {
        "colab": {
          "base_uri": "https://localhost:8080/"
        },
        "id": "XV1uPoNMQ6V_",
        "outputId": "e05ab699-f0be-46dc-f1e7-60a7b2dd0397"
      },
      "execution_count": 26,
      "outputs": [
        {
          "output_type": "stream",
          "name": "stdout",
          "text": [
            "Новая дата: Дата: 2024/11/14\n"
          ]
        }
      ]
    },
    {
      "cell_type": "markdown",
      "source": [
        "\n",
        "\n",
        "**Пояснение**: Здесь мы используем именованные группы для перестановки частей даты в формате `год/месяц/день`."
      ],
      "metadata": {
        "id": "pbTC4TogQD1M"
      }
    },
    {
      "cell_type": "markdown",
      "source": [
        "## **Применение регулярных выражений для обработки потоковых данных**\n",
        "\n",
        "Прежде чем начать, импортируем необходимые модули:"
      ],
      "metadata": {
        "id": "mDBatDAZDuMe"
      }
    },
    {
      "cell_type": "code",
      "source": [
        "import re     # Модуль для работы с регулярными выражениями.\n",
        "import csv    # Модуль для работы с CSV-файлами.\n",
        "import ssl    # Модуль для настройки SSL-сертификатов.\n",
        "import urllib.request  # Модуль для работы с URL и HTTP-запросами."
      ],
      "metadata": {
        "id": "9sgtcPXvDunc"
      },
      "execution_count": 27,
      "outputs": []
    },
    {
      "cell_type": "markdown",
      "source": [
        "\n",
        "### Отключение проверки SSL-сертификатов\n",
        "\n",
        "Для некоторых веб-запросов может потребоваться отключить проверку SSL-сертификатов (например, при использовании самоподписанных сертификатов):"
      ],
      "metadata": {
        "id": "nI7R3nG0DzBn"
      }
    },
    {
      "cell_type": "code",
      "source": [
        "ssl._create_default_https_context = ssl._create_unverified_context"
      ],
      "metadata": {
        "id": "ktWmO4zpDz0s"
      },
      "execution_count": 28,
      "outputs": []
    },
    {
      "cell_type": "markdown",
      "source": [
        "\n",
        "**Важно:** Отключение проверки SSL-сертификатов может представлять угрозу безопасности. Используйте этот подход только в учебных или доверенных средах."
      ],
      "metadata": {
        "id": "TzzvmlFZDst7"
      }
    },
    {
      "cell_type": "markdown",
      "source": [
        "## 1. Парсинг email-адресов\n"
      ],
      "metadata": {
        "id": "VKDQgsrZD5Kj"
      }
    },
    {
      "cell_type": "markdown",
      "source": [
        "### Задача\n",
        "\n",
        "Извлечь все email-адреса из текстового файла `adr.txt`."
      ],
      "metadata": {
        "id": "hOwXZoXqD8Lk"
      }
    },
    {
      "cell_type": "markdown",
      "source": [
        "### Шаги решения\n",
        "\n",
        "1. **Считать содержимое файла.**\n",
        "2. **Определить регулярное выражение для email-адресов.**\n",
        "3. **Найти все совпадения в тексте.**\n",
        "4. **Вывести найденные email-адреса.**"
      ],
      "metadata": {
        "id": "RS4NieoqD_2J"
      }
    },
    {
      "cell_type": "markdown",
      "source": [
        "### Реализация"
      ],
      "metadata": {
        "id": "Hb2BtvBmEEeM"
      }
    },
    {
      "cell_type": "code",
      "source": [
        "# Используем команду !wget для скачивания файла\n",
        "!wget https://raw.githubusercontent.com/Alexandre77777/python_programming/refs/heads/main/4.%20%D0%9A%D0%BE%D0%B4%20%D1%81%20%D0%B7%D0%B0%D0%BD%D1%8F%D1%82%D0%B8%D0%B9/9.%20%D0%9A%D0%BE%D0%B4_%D1%81_%D0%BF%D0%B0%D1%80%D1%8B_10_11_2023_RE/adr.txt"
      ],
      "metadata": {
        "colab": {
          "base_uri": "https://localhost:8080/"
        },
        "id": "BCuZFylUFl26",
        "outputId": "1932e63d-80a6-4520-de80-9f5d3d45390c"
      },
      "execution_count": 29,
      "outputs": [
        {
          "output_type": "stream",
          "name": "stdout",
          "text": [
            "--2024-11-14 10:56:43--  https://raw.githubusercontent.com/Alexandre77777/python_programming/refs/heads/main/4.%20%D0%9A%D0%BE%D0%B4%20%D1%81%20%D0%B7%D0%B0%D0%BD%D1%8F%D1%82%D0%B8%D0%B9/9.%20%D0%9A%D0%BE%D0%B4_%D1%81_%D0%BF%D0%B0%D1%80%D1%8B_10_11_2023_RE/adr.txt\n",
            "Resolving raw.githubusercontent.com (raw.githubusercontent.com)... 185.199.110.133, 185.199.109.133, 185.199.108.133, ...\n",
            "Connecting to raw.githubusercontent.com (raw.githubusercontent.com)|185.199.110.133|:443... connected.\n",
            "HTTP request sent, awaiting response... 200 OK\n",
            "Length: 80935 (79K) [text/plain]\n",
            "Saving to: ‘adr.txt.1’\n",
            "\n",
            "adr.txt.1           100%[===================>]  79.04K  --.-KB/s    in 0.09s   \n",
            "\n",
            "2024-11-14 10:56:44 (909 KB/s) - ‘adr.txt.1’ saved [80935/80935]\n",
            "\n"
          ]
        }
      ]
    },
    {
      "cell_type": "code",
      "source": [
        "# Считываем содержимое файла 'adr.txt'\n",
        "with open(\"adr.txt\", encoding=\"UTF8\") as file:\n",
        "    text = file.read()\n",
        "\n",
        "# Регулярное выражение для email-адресов\n",
        "email_pattern = r\"[\\w\\-.]+@[\\w\\-.]+\\.\\w+\"\n",
        "\n",
        "# Находим все email-адреса в тексте\n",
        "emails = re.findall(email_pattern, text)\n",
        "\n",
        "print('Список email-адресов:', emails)"
      ],
      "metadata": {
        "colab": {
          "base_uri": "https://localhost:8080/"
        },
        "id": "AvJoNKj3EHJP",
        "outputId": "8fe4f6c8-f3be-4449-dc85-7bfad06668e5"
      },
      "execution_count": 30,
      "outputs": [
        {
          "output_type": "stream",
          "name": "stdout",
          "text": [
            "Список email-адресов: ['dima@oleron.ru', 'karen-000@mtu-net.ru', 'AysinSE@mail.ru', 'holl@sochi.ru', 'juri@krm.donetsk.ua', 'akselrod@lnpi.spb.su', 'dima@cpuv1.net.kiae.su', 'DLAnikin@mail.ru', 'mimi2@chat.ru', 'eugene1970@hotmail.com', 'arba@mail.ru', 'arkhipov@yts.yartelecom.ru', 'traveller@glas.apc.org', 'mike@afanas.ru', 'svs44@usa.net', 'Alex_hunter@mail.ru', 'gib@dpicci.kiev.ua', 'wowa@ashtech.msk.ru', 'wowa@ashtech.msk.ru', 'mtm@elnet.msk.ru', 'alkor@online.ru', 'artem@oscb.phys.msu.su', 'triz@knapi.khabarovsk.su', 'andreyb@cco.caltech.edu', 'wwb@perm.raid.ru', 'abs@galaxy.ipmce.su', 'depenerg@adm.kaluga.ru', 'yurcino@aha.ru', 'ab@ref.stinol.lipetsk.su', 'bond@isd.anet.donetsk.ua', 'tangram@mediaone.net', 'Brajnikov.junior@rotek.ru', 'salieri@info.sgu.ru', 'petrovch@bitex.ru', 'danil@astranet.ru', 'vaganova@cca.kiev.ua', 'Ivan@mail.dma.be', 'verhotur@vmk.ugatu.ac.ru', 'vilinskiy@usa.net', 'alex@compulink.ru', 'kostikv@mail.ru', 'vsv@phreak.demos.su', 'mgv@xtech.ru', 'volkov@students.soros.karelia.ru', 'longear@bigfoot.com', 'antval88@mail.ru', 'linda@sci.smolensk.ru', 'yury@server.msk.su', 'stasv@aha.ru', 'nimigav@hotmail.com', 'asya@mian.ru', 'charish@chat.ru', 'garnov@turist.edu.yar.ru', 'garnov@turist.edu.yar.ru', 'gav@mail.girmet.ru', 'alex@pole.koksa.altai.su', 'gerasimov@svb.kirov.ru', 'grg@te.net.ua', 'nastia@market.ewn.krasnoyarsk.su', 'glyavin@appl.sci-nnov.ru', 'govorko@softlab.ru', 'sgcdut@mail.sochi.ru', 'sgcdut@mail.sochi.ru', 'Alec_Golibroda@007.postbox.crimea.ua', 'olimp@mail.perm.ru', 'gotovtsev@mail.ru', 'graf@estate.sci-nnov.ru', 'analitic@embrol.donetsk.ua', 'ogrekov@glas.apc.org', 'gretzov@mail.ru', 'dmitry@tebodin.spb.ru', 'vgrishkin@vitep5.itep.ru', 'timur@ium.ips.ras.ru', 'groh@genome.eimb.rssi.ru', 'svg1@altay.elektra.kz', 'dea@service.nevalink.ru', 'dea@montaro.spb.ru', 'davydov@gallup.spb.su', 'antimono@antim.saratov.su', 'v_d@astana.kz', 'ddi@au.ru', 'alexdem@chat.ru', 'hiber@glasnet.ru', 'adm@pri.belpak.vitebsk.by', 'mkk@mountain.ru', 'Dimyich@chat.ru', 'Dkon@mail.ru', 'lexa@ashtech.msk.ru', 'drabek@sao.ru', 'ada@ibis.pptus.ru', 'norton@kai.ksu.ras.ru', 'raft@extranet.ru', 'ilya@mail-me.com', 'dmitry@dionis.kfti.kcn.ru', 'dunaich@usa.net', 'vlad_e@mail.ru', 'lem@geninfo.msk.su', 'ea@inm.ras.ru', 'egoshin@ihep.su', 'bodrov@tritec.saratov.su', 'urick@com2com.ru', 'gigarev@mail.ru', 'zhurihin@mail.ru', 'stzma@inse.kiae.ru', 'zam@cinvest.chel.su', '3.80@fidonet.org', 'igor@datac.mplik.ru', 'vasily@glas.apc.org', 'letters@anton.nomak.udmurtia.su', 'Immuno@mail.cnt.ru', 'az@rest.ru', 'root@az.rest.ru', 'zoubarev@glas.apc.org', 'caine@ibs.msk.su', 'alex@olego.msk.su', 'I.Ziryanov@iis.nsk.su', 'erika@shelkovo.comcor.ru', 'dmitry_ivashkevitch@usa.net', 'vit@synvit.msk.ru', 'iisaev@emf.uiggm.nsc.ru', 'stasik@postman.ru', 'kvi@incart.spb.ru', 'kazak@dux.ru', 'kazatski@kartaly.chel.su', 'stager@lib.msu.su', 'kam@dop3.kreml.nnov.ru', 'karch@windoms.sitek.net', 'kas@ipmce.su', 'kastosov@unn.ac.ru', 'vasilich@chat.ru', 'andrej@aif.kiev.ua', 'ksu@uniinc.msk.ru', 'dik@ashtech.msk.ru', 'e3201@umpo.bashkiria.su', 'Pasha23@hotmail.com', 'avk@chaos.ssu.runnet.ru', 'snk@yaroslavl.ru', 'vass@galaktika.ru', 'uncle_bobbb@mail.ru', 'tim@ipmce.ru', 'delta@permonline.ru', 'korocha@nip.msk.ru', 'konstant@kapsch.net', 'crazyfox@mail.ru', 'korinsky@srd.mtuci.ru', 'korinsky@cityline.ru', 'nil_mu@brstu.ru', 'kma@lav1.npi.msu.su', 'kma@loki.phy.bnl.gov', 'serv@vtz.vladimir.su', 'saur@saur.msk.ru', 'Jhonny_fox@mail.ru', 'shurton@glasnet.ru', 'vadim@econ.csu.ac.ru', 'spartak@st.siberia.net', 'alexey@nu.jinr.dubna.su', 'kirilliq@eurohim.ru', 'kost@svzserv.kemerovo.su', 'root@kk.kemerovo.su', 'yoko@sl.iae.nsk.su', 'wanderer@erl.e-burg.su', 'ivan@kia.usr.etu.spb.ru', 'kiggy@alex.sebastopol.ua', 'sergeyuhta@sever.ru', 'alex@ic-chernobyl.kiev.ua', 'tanner@telecom.nov.ru', 'laktar@tlt.ru', 'ilebedev@cityline.ru', 'Oleg_Lebedev@p5.f312.n50.z2.gate.phantom.msk.su', 'sasha@nn.ennet.krasnoyarsk.su', 'ppmykel@ns.lanck.ru', 'fil@travel.ru', 'serg@rocknet.murmansk.su', 'alkor@online.ru', 'lukich@extranet.ru', 'usk@diaspro.com', 'lulin@garant.ru', 'brody@mail.ru', 'cat@bit.ternopil.ua', 'lena@malyk.home.ternopil.ua', 'hoha@mail.com', 'maputu@mail.ru', 'mamutkin@inp.nsk.su', 'spassb@rinf.ryazan.ru', 'kastosov@unn.ac.ru', 'vm@dmng.sakhalin.su', 'vm@dmng.sakhalin.su', 'tan@tepkom.ru', 'mf010175@klax.tula.ru', 'motus@unity-bars.carrier.kiev.ua', 'grigson@rinet.ru', 'lion@wtgres.pssr.e-burg.su', 'vlad@polic.crimea.com', 'metzik@mail.ru', 'maria@sport.spb.ru', 'maria@laverna.ru', 'mikhin@mail.ru', 'mog@vspu.ac.ru', 'bfmb@biysk.rospac.ru', 'mo@internetmedia.ru', 'boris@morpol.msk.ru', 'filipp@morpol.msk.ru', 'moshkow@ipsun.ras.ru', 'vova@sphinxa.ihep.su', 'nagor99@mail.ru', 'andrey@nes.te.ru', 'serge@envy.astro.unc.edu', 'nam@satsun.sci.kz', 'snikitin@eng.umd.edu', 'oleg@railway.ufanet.ru', 'novikov@tr11.kiev.ua', 'glen@lipetsk.su', '21864140@mail.ru', 'roz@roma.marka.net.ua', 'oloht@glas.apc.org', 'mikeom@trecom.tomsk.su', 'voyager_mc@yahoo.com', 'west271@com2com.ru', 'eagle@satel.ru', 'equicol@ukrpack.net', 'anna@romsat.kiev.ua', 'penates@glas.apc.org', 'parshin@splav.ru', 'pasynkov@stoic.spb.su', 'apatl@vail.ru', 'tour@vspu.ac.ru', 'body@krasu.ru', 'postmaster@cstran.sani-c.vrn.ru', 'alkor@online.ru', 'md_isu@mail.ru', 'Sergei_Pogodin@.f10.n5031.z2.fidonet.orc', 'julenka@yahoo.com', 'panova@orc.ru', 'polotay@materials.kiev.ua', 'polk@nis.nnov.su', 'epoliz@mail.ru', 'julia@morpol.msk.ru', 'filipp@morpol.msk.ru', 'vasia@vponom.msk.ru', 'alya@activ.ru', 'serg.porfirev@mtu-net.ru', 'dima@chaos.ssu.runnet.ru', 'admin@ire278.da.ru', 'risk@tomcat.ru', 'dmitry@crp.psc.ru', 'dpotebnia@hotmail.com', 'poisk@mariupol.net', 'vitek175@yahoo.com', 'extrapyr@arstel.ru', 'ego1@auste.elnet.lt', 'opust@spb.runnet.ru', 'rightman@mail.ru', 'romanov@ssmgl.gpi.msk.su', 'romantik@ic.ospu.odessa.ua', 'uri@g-vest.tsaritsyn.su', 'ivan@kreol.vladimir.su', 'Solo@narzan.ru', 'meminf@glasnet.ru', 'alrub@geocities.com', 'alex@newcom.kiae.su', 'amst@mail.ru', 'andrew@sket.msk.ru', 'anarin@mail.ru', 'itl805@online.kharkov.ua', 'safronov@unn.ac.ru', 'msweshnikov@hotmail.com', 'v_svintitsky@chat.ru', 'severin@radio.chem.msu.ru', 'severin@radio.chem.msu.ru', 'Federal@orc.ru', 'klop@sdb.ire.rssi.ru', 'sd@istu.irk.ru', 'alkor@online.ru', 'sergin_k@yahoo.com', 'nik@cctelcom.nsu.ru', 'silax@rsuh.ru', 'vld@firm432.msk.su', 'askazik@homer.uic.rnd.runnet.ru', 'ASlab@juffin.mpei.ac.ru', 'alex@asi.ru', 'sorokin@beam.ioffe.rssi.ru', 'mc@rwicc.krasnoyarsk.su', 'spichak@apmat.freenet.kiev.ua', 'syv@chescen.kiev.ua', 'springis_ne@mail.ru', 'abc@tatpeo.elektra.ru', 'sen@skif.net', 'stroganov@hps.mpei.ac.ru', 'ssuh@sao.ru', 'webmaster@cyber.mephi.ru', 'tim@ic.tsu.ru', 'ivantem@mail.ru', 'vital@tihtrans.msk.ru', 'sts@card.ru', 'ivt@msu.su', 'sergo@anix.biysk.ru', 'cnt15@hotmail.com', 'alex@soniir.samara.ru', 'maneken@chel.surnet.ru', 'Ac_polly@digdes.com', 'dv@optima.donetsk.ua', 'tsv@gemini.relcom.eu.net', 'univers@perm.raid.ru', 'speleo_grot@mtu-net.ru', 'latina@rail.kharkov.com', 'crazyfox@mail.ru', 'ntcgfiz@sibtel.ru', 'MicUsh@rail.kharkov.ua', 'andy@oxylipin.siobc.ras.ru', 'bots2000@mail.ru', 'gfedin@glasnet.ru', 'kf@ifmo.ru', 'fedorov@mccme.ru', 'fsa@iis.nsk.su', 'fsi@macomnet.ru', 'willy@csu.ac.ru', 'fkn@biogeo.dcn-asu.ru', 'gleb@igg.comcen-1.nsk.su', 'alexfill@css-mps.ru', 'raremap@euro.ru', 'xalx@klne.koenig.su', 'jeka@volgageo.nnov.ru', 'sandys@chat.ru', 'longarm@bigfoot.com', 'andrey@yorp.yaroslavl.su', 'paulrh@ICL.kazan.RU', 'Hlopov-Oleg@mtu-net.ru', 'yura@spirt.kiev.ua', 'art@trecom.tomsk.su', 'schaikin@mail.ru', 'schaikin@hotmail.com', 'chivilih@spb.runnet.ru', 'tcherk@risc.uni-linz.ac.at', 'vladimir.chernetsky@ankey.ru', 'cvv@cmp.phys.msu.su', 'dechet@sever.ru', 'tchirkor@ebrd.com', 'test1@online1.boyarka.kiev.ua', 'directac@email.msn.com', 'alexey@chaos.ssu.runnet.ru', 'beligor@belarus.crosswinds.net', 'beligor@chat.ru', 'Shartzeff@ecology.pstu.ac.ru', 'vadim@shahnovi.mccme.ru', 'igor@gts.kazan.su', 'account@publicis.ru', 'dmitryshv@mtu-net.ru', 'IShelemetiev@microtest.ru', 'reid@reid.kuban.ru', 'radbubka@chat.ru', 'mitay@doninv.rnd.su', 'peter@indy.gctc.rssi.ru', 'peter@shlyaev.msk.ru', 'singl@glasnet.ru', 'maxim@bfpg.ru', '1spp@nw.ie.tiasur.tomsk.su', 'shura@uic.nnov.ru', 'andr@shum.kiev.ua', 'Alexander@ts.vdonsk.ru', 'edelveis@adm.chm.gorny.ru', 'elbrus@kbsu.ru', 'iourine@iourine.msk.su', 'reliable@sarnet.ru', 'yarosh@au.ru', 'rodonit@chel.surnet.ru']\n"
          ]
        }
      ]
    },
    {
      "cell_type": "markdown",
      "source": [
        "### Пояснение\n",
        "\n",
        "- `[\\w\\-.]+` — соответствует одному или более символам: букве, цифре, подчеркиванию, точке или дефису.\n",
        "- `@` — символ собаки, разделяющий локальную и доменную часть email.\n",
        "- `[\\w\\-.]+` — доменная часть email (как и локальная).\n",
        "- `\\.\\w+` — точка и домен верхнего уровня (например, `.com`, `.ru`)."
      ],
      "metadata": {
        "id": "nBasz3xzEJj3"
      }
    },
    {
      "cell_type": "markdown",
      "source": [
        "## 2. Парсинг данных с HTML-страницы\n"
      ],
      "metadata": {
        "id": "9CMH7mREERua"
      }
    },
    {
      "cell_type": "markdown",
      "source": [
        "### Задача"
      ],
      "metadata": {
        "id": "5ZdAvaN5ETEy"
      }
    },
    {
      "cell_type": "markdown",
      "source": [
        "\n",
        "\n",
        "\n",
        "\n",
        "\n",
        "Извлечь имена, адреса и номера телефонов с HTML-страницы: [Addresses](https://www.summet.com/dmsi/html/codesamples/addresses.html)"
      ],
      "metadata": {
        "id": "foiJQfLfEOil"
      }
    },
    {
      "cell_type": "markdown",
      "source": [
        "### Шаги решения\n"
      ],
      "metadata": {
        "id": "omwnV2NYEYhv"
      }
    },
    {
      "cell_type": "markdown",
      "source": [
        "\n",
        "1. **Сделать HTTP-запрос к странице и получить её содержимое.**\n",
        "2. **Определить регулярное выражение для извлечения необходимых данных.**\n",
        "3. **Найти все совпадения и сохранить данные.**\n",
        "4. **Сохранить результат в CSV-файл.**\n",
        "5. **Вывести данные по именованным группам.**"
      ],
      "metadata": {
        "id": "uUY2hDMdEWZ9"
      }
    },
    {
      "cell_type": "markdown",
      "source": [
        "### Реализация\n",
        "\n"
      ],
      "metadata": {
        "id": "aZpM5VHuEbY7"
      }
    },
    {
      "cell_type": "markdown",
      "source": [
        "#### Получение содержимого страницы"
      ],
      "metadata": {
        "id": "GCHBY5wrEcWt"
      }
    },
    {
      "cell_type": "code",
      "source": [
        "# Запрос к странице и получение HTML-кода\n",
        "url = \"https://www.summet.com/dmsi/html/codesamples/addresses.html\"\n",
        "response = urllib.request.urlopen(url)\n",
        "html_content = response.read().decode()"
      ],
      "metadata": {
        "id": "moHgJsRWEPAT"
      },
      "execution_count": 40,
      "outputs": []
    },
    {
      "cell_type": "code",
      "source": [
        "html_content"
      ],
      "metadata": {
        "colab": {
          "base_uri": "https://localhost:8080/",
          "height": 271
        },
        "id": "dRHzKYMUGwoQ",
        "outputId": "9ba49423-46ff-4c14-c51d-55a51a44a129"
      },
      "execution_count": 32,
      "outputs": [
        {
          "output_type": "execute_result",
          "data": {
            "text/plain": [
              "'<html>\\n<head>\\n\\t<title>Sample Addresses!</title>\\n<script async src=\"https://pagead2.googlesyndication.com/pagead/js/adsbygoogle.js?client=ca-pub-2760663110461940\"\\n     crossorigin=\"anonymous\"></script>\\n\\n</head>\\n<body>\\n<h1> A page full of sample addresses for your parsing enjoyment!</h1>\\n<h2> (All data is random....)</h2>\\n<ul>\\n\\n<script async src=\"https://pagead2.googlesyndication.com/pagead/js/adsbygoogle.js?client=ca-pub-2760663110461940\"\\n     crossorigin=\"anonymous\"></script>\\n<!-- summet.com-dmsi-addresses -->\\n<ins class=\"adsbygoogle\"\\n     style=\"display:block\"\\n     data-ad-client=\"ca-pub-2760663110461940\"\\n     data-ad-slot=\"5472586510\"\\n     data-ad-format=\"auto\"\\n     data-full-width-responsive=\"true\"></ins>\\n<script>\\n     (adsbygoogle = window.adsbygoogle || []).push({});\\n</script>\\n\\n<li>Cecilia Chapman<br/>711-2880 Nulla St.<br/>Mankato Mississippi 96522<br/>(257) 563-7401</li>\\n<li>Iris Watson<br/>P.O. Box 283 8562 Fusce Rd.<br/>Frederick Nebraska 20620<br/>(372) 587-2335</li>\\n<li>Celeste Slater<br/>606-3727 Ullamcorper. Street<br/>Roseville NH 11523<br/>(786) 713-8616</li>\\n<li>Theodore Lowe<br/>Ap #867-859 Sit Rd.<br/>Azusa New York 39531<br/>(793) 151-6230</li>\\n<li>Calista Wise<br/>7292 Dictum Av.<br/>San Antonio MI 47096<br/>(492) 709-6392</li>\\n<li>Kyla Olsen<br/>Ap #651-8679 Sodales Av.<br/>Tamuning PA 10855<br/>(654) 393-5734</li>\\n<li>Forrest Ray<br/>191-103 Integer Rd.<br/>Corona New Mexico 08219<br/>(404) 960-3807</li>\\n<li>Hiroko Potter<br/>P.O. Box 887 2508 Dolor. Av.<br/>Muskegon KY 12482<br/>(314) 244-6306</li>\\n<li>Nyssa Vazquez<br/>511-5762 At Rd.<br/>Chelsea MI 67708<br/>(947) 278-5929</li>\\n<li>Lawrence Moreno<br/>935-9940 Tortor. Street<br/>Santa Rosa MN 98804<br/>(684) 579-1879</li>\\n<li>Ina Moran<br/>P.O. Box 929 4189 Nunc Road<br/>Lebanon KY 69409<br/>(389) 737-2852</li>\\n<li>Aaron Hawkins<br/>5587 Nunc. Avenue<br/>Erie Rhode Island 24975<br/>(660) 663-4518</li>\\n<li>Hedy Greene<br/>Ap #696-3279 Viverra. Avenue<br/>Latrobe DE 38100<br/>(608) 265-2215</li>\\n<li>Melvin Porter<br/>P.O. Box 132 1599 Curabitur Rd.<br/>Bandera South Dakota 45149<br/>(959) 119-8364</li>\\n<li>Keefe Sellers<br/>347-7666 Iaculis St.<br/>Woodruff SC 49854<br/>(468) 353-2641</li>\\n<li>Joan Romero<br/>666-4366 Lacinia Avenue<br/>Idaho Falls Ohio 19253<br/>(248) 675-4007</li>\\n<li>Davis Patrick<br/>P.O. Box 147 2546 Sociosqu Rd.<br/>Bethlehem Utah 02913<br/>(939) 353-1107</li>\\n<li>Leilani Boyer<br/>557-6308 Lacinia Road<br/>San Bernardino ND 09289<br/>(570) 873-7090</li>\\n<li>Colby Bernard<br/>Ap #285-7193 Ullamcorper Avenue<br/>Amesbury HI 93373<br/>(302) 259-2375</li>\\n<li>Bryar Pitts<br/>5543 Aliquet St.<br/>Fort Dodge GA 20783<br/>(717) 450-4729</li>\\n<li>Rahim Henderson<br/>5037 Diam Rd.<br/>Daly City Ohio 90255<br/>(453) 391-4650</li>\\n<li>Noelle Adams<br/>6351 Fringilla Avenue<br/>Gardena Colorado 37547<br/>(559) 104-5475</li>\\n<li>Lillith Daniel<br/>935-1670 Neque. St.<br/>Centennial Delaware 48432<br/>(387) 142-9434</li>\\n<li>Adria Russell<br/>414-7533 Non Rd.<br/>Miami Beach North Dakota 58563<br/>(516) 745-4496</li>\\n<li>Hilda Haynes<br/>778-9383 Suspendisse Av.<br/>Weirton IN 93479<br/>(326) 677-3419</li>\\n<li>Sheila Mcintosh<br/>P.O. Box 360 4407 Et Rd.<br/>Santa Monica FL 30309<br/>(746) 679-2470</li>\\n<li>Rebecca Chambers<br/>P.O. Box 813 5982 Sit Ave<br/>Liberal Vermont 51324<br/>(455) 430-0989</li>\\n<li>Christian Emerson<br/>P.O. Box 886 4118 Arcu St.<br/>Rolling Hills Georgia 92358<br/>(490) 936-4694</li>\\n<li>Nevada Ware<br/>P.O. Box 597 4156 Tincidunt Ave<br/>Green Bay Indiana 19759<br/>(985) 834-8285</li>\\n<li>Margaret Joseph<br/>P.O. Box 508 3919 Gravida St.<br/>Tamuning Washington 55797<br/>(662) 661-1446</li>\\n<li>Edward Nieves<br/>928-3313 Vel Av.<br/>Idaho Falls Rhode Island 37232<br/>(802) 668-8240</li>\\n<li>Imani Talley<br/>P.O. Box 262 4978 Sit St.<br/>Yigo Massachusetts 50654<br/>(477) 768-9247</li>\\n<li>Bertha Riggs<br/>P.O. Box 206 6639 In St.<br/>Easthampton TN 31626<br/>(791) 239-9057</li>\\n<li>Wallace Ross<br/>313 Pellentesque Ave<br/>Villa Park Hawaii 43526<br/>(832) 109-0213</li>\\n<li>Chester Bennett<br/>3476 Aliquet. Ave<br/>Minot AZ 95302<br/>(837) 196-3274</li>\\n<li>Castor Richardson<br/>P.O. Box 902 3472 Ullamcorper Street<br/>Lynchburg DC 29738<br/>(268) 442-2428</li>\\n<li>Sonya Jordan<br/>Ap #443-336 Ullamcorper. Street<br/>Visalia VA 54886<br/>(850) 676-5117</li>\\n<li>Harrison Mcguire<br/>574-8633 Arcu Street<br/>San Fernando ID 77373<br/>(861) 546-5032</li>\\n<li>Malcolm Long<br/>9291 Proin Road<br/>Lake Charles Maine 11292<br/>(176) 805-4108</li>\\n<li>Raymond Levy<br/>Ap #643-7006 Risus St.<br/>Beaumont New Mexico 73585<br/>(715) 912-6931</li>\\n<li>Hedley Ingram<br/>737-2580 At Street<br/>Independence Texas 87535<br/>(993) 554-0563</li>\\n<li>David Mathews<br/>1011 Malesuada Road<br/>Moscow Kentucky 77382<br/>(357) 616-5411</li>\\n<li>Xyla Cash<br/>969-1762 Tincidunt Rd.<br/>Boise CT 35282<br/>(121) 347-0086</li>\\n<li>Madeline Gregory<br/>977-4841 Ut Ave<br/>Walla Walla Michigan 82776<br/>(304) 506-6314</li>\\n<li>Griffith Daniels<br/>6818 Eget St.<br/>Tacoma AL 92508<br/>(425) 288-2332</li>\\n<li>Anne Beasley<br/>987-4223 Urna St.<br/>Savannah Illinois 85794<br/>(145) 987-4962</li>\\n<li>Chaney Bennett<br/>P.O. Box 721 902 Dolor Rd.<br/>Fremont AK 19408<br/>(187) 582-9707</li>\\n<li>Daniel Bernard<br/>P.O. Box 567 1561 Duis Rd.<br/>Pomona TN 08609<br/>(750) 558-3965</li>\\n<li>Willow Hunt<br/>Ap #784-1887 Lobortis Ave<br/>Cudahy Ohio 31522<br/>(492) 467-3131</li>\\n<li>Judith Floyd<br/>361-7936 Feugiat St.<br/>Williston Nevada 58521<br/>(774) 914-2510</li>\\n<li>Seth Farley<br/>6216 Aenean Avenue<br/>Seattle Utah 81202<br/>(888) 106-8550</li>\\n<li>Zephania Sanders<br/>3714 Nascetur St.<br/>Hawthorne Louisiana 10626<br/>(539) 567-3573</li>\\n<li>Calista Merritt<br/>Ap #938-5470 Posuere Ave<br/>Chickasha LA 58520<br/>(693) 337-2849</li>\\n<li>Craig Williams<br/>P.O. Box 372 5634 Montes Rd.<br/>Springdale MO 57692<br/>(545) 604-9386</li>\\n<li>Lee Preston<br/>981 Eget Rd.<br/>Clemson GA 04645<br/>(221) 156-5026</li>\\n<li>Katelyn Cooper<br/>6059 Sollicitudin Road<br/>Burlingame Colorado 26278<br/>(414) 876-0865</li>\\n<li>Lacy Eaton<br/>1379 Nulla. Av.<br/>Asbury Park Montana 69679<br/>(932) 726-8645</li>\\n<li>Driscoll Leach<br/>P.O. Box 120 2410 Odio Avenue<br/>Pass Christian Delaware 03869<br/>(726) 710-9826</li>\\n<li>Merritt Watson<br/>P.O. Box 686 7014 Amet Street<br/>Corona Oklahoma 55246<br/>(622) 594-1662</li>\\n<li>Nehru Holmes<br/>P.O. Box 547 4764 Sed Road<br/>Grand Rapids CT 87323<br/>(948) 600-8503</li>\\n<li>Quamar Rivera<br/>427-5827 Ac St.<br/>Schaumburg Arkansas 84872<br/>(605) 900-7508</li>\\n<li>Hiram Mullins<br/>754-6427 Nunc Ave<br/>Kennewick AL 41329<br/>(716) 977-5775</li>\\n<li>Kim Fletcher<br/>Ap #345-3847 Metus Road<br/>Independence CO 30135<br/>(368) 239-8275</li>\\n<li>Rigel Koch<br/>P.O. Box 558 9561 Lacus. Road<br/>Laughlin Hawaii 99602<br/>(725) 342-0650</li>\\n<li>Jeanette Sharpe<br/>Ap #364-2006 Ipsum Avenue<br/>Wilmington Ohio 91750<br/>(711) 993-5187</li>\\n<li>Dahlia Lee<br/>1293 Tincidunt Street<br/>Atwater Pennsylvania 76865<br/>(882) 399-5084</li>\\n<li>Howard Hayden<br/>P.O. Box 847 8019 Facilisis Street<br/>Joliet SC 73490<br/>(287) 755-9948</li>\\n<li>Hyatt Kramer<br/>1011 Massa Av.<br/>Kent ID 63725<br/>(659) 551-3389</li>\\n<li>Sonya Ray<br/>Ap #315-8441 Eleifend Street<br/>Fairbanks RI 96892<br/>(275) 730-6868</li>\\n<li>Cara Whitehead<br/>4005 Praesent St.<br/>Torrance Wyoming 22767<br/>(725) 757-4047</li>\\n<li>Blythe Carroll<br/>7709 Justo. Ave<br/>Princeton TX 77987<br/>(314) 882-1496</li>\\n<li>Dale Griffin<br/>P.O. Box 854 8580 In Ave<br/>Revere South Dakota 43841<br/>(639) 360-7590</li>\\n<li>McKenzie Hernandez<br/>Ap #367-674 Mi Street<br/>Greensboro VT 40684<br/>(168) 222-1592</li>\\n<li>Haviva Holcomb<br/>P.O. Box 642 3450 In Road<br/>Isle of Palms New York 03828<br/>(896) 303-1164</li>\\n<li>Ezra Duffy<br/>Ap #782-7348 Dis Rd.<br/>Austin KY 50710<br/>(203) 982-6130</li>\\n<li>Eleanor Jennings<br/>9631 Semper Ave<br/>Astoria NJ 66309<br/>(906) 217-1470</li>\\n<li>Remedios Hester<br/>487-5787 Mollis St.<br/>City of Industry Louisiana 67973<br/>(614) 514-1269</li>\\n<li>Jasper Carney<br/>1195 Lobortis Rd.<br/>New Orleans New Hampshire 71983<br/>(763) 409-5446</li>\\n<li>Vielka Nielsen<br/>Ap #517-7326 Elementum Rd.<br/>Fort Smith North Dakota 79637<br/>(836) 292-5324</li>\\n<li>Wilma Pace<br/>Ap #676-6532 Odio Rd.<br/>Darlington CO 06963<br/>(926) 709-3295</li>\\n<li>Palmer Gay<br/>557-2026 Purus St.<br/>Watertown TN 07367<br/>(963) 356-9268</li>\\n<li>Lyle Sutton<br/>Ap #250-9843 Elementum St.<br/>South Gate Missouri 68999<br/>(736) 522-8584</li>\\n<li>Ina Burt<br/>Ap #130-1685 Ut Street<br/>Tyler KS 73510<br/>(410) 483-0352</li>\\n<li>Cleo Best<br/>282-8351 Tincidunt Ave<br/>Sedalia Utah 53700<br/>(252) 204-1434</li>\\n<li>Hu Park<br/>1429 Netus Rd.<br/>Reedsport NY 48247<br/>(874) 886-4174</li>\\n<li>Liberty Walton<br/>343-6527 Purus. Avenue<br/>Logan NV 12657<br/>(581) 379-7573</li>\\n<li>Aaron Trujillo<br/>Ap #146-3132 Cras Rd.<br/>Kingsport NH 56618<br/>(983) 632-8597</li>\\n<li>Elmo Lopez<br/>Ap #481-7473 Cum Rd.<br/>Yorba Linda South Carolina 28423<br/>(295) 983-3476</li>\\n<li>Emerson Espinoza<br/>Ap #247-5577 Tincidunt St.<br/>Corpus Christi WI 97020<br/>(873) 392-8802</li>\\n<li>Daniel Malone<br/>2136 Adipiscing Av.<br/>Lima RI 93490<br/>(360) 669-3923</li>\\n<li>Dante Bennett<br/>481-8762 Nulla Street<br/>Dearborn OR 62401<br/>(840) 987-9449</li>\\n<li>Sade Higgins<br/>Ap #287-3260 Ut St.<br/>Wilmington OR 05182<br/>(422) 517-6053</li>\\n<li>Zorita Anderson<br/>1964 Facilisis Avenue<br/>Bell Gardens Texas 87065<br/>(126) 940-2753</li>\\n<li>Jordan Calderon<br/>430-985 Eleifend St.<br/>Duluth Washington 92611<br/>(427) 930-5255</li>\\n<li>Ivor Delgado<br/>Ap #310-1678 Ut Av.<br/>Santa Barbara MT 88317<br/>(689) 721-5145</li>\\n<li>Pascale Patton<br/>P.O. Box 399 4275 Amet Street<br/>West Allis NC 36734<br/>(676) 334-2174</li>\\n<li>Nasim Strong<br/>Ap #630-3889 Nulla. Street<br/>Watervliet Oklahoma 70863<br/>(437) 994-5270</li>\\n<li>Keaton Underwood<br/>Ap #636-8082 Arcu Avenue<br/>Thiensville Maryland 19587<br/>(564) 908-6970</li>\\n<li>Keegan Blair<br/>Ap #761-2515 Egestas. Rd.<br/>Manitowoc TN 07528<br/>(577) 333-6244</li>\\n<li>Tamara Howe<br/>3415 Lobortis. Avenue<br/>Rocky Mount WA 48580<br/>(655) 840-6139</li>\\n </ul> </body></html>\\n'"
            ],
            "application/vnd.google.colaboratory.intrinsic+json": {
              "type": "string"
            }
          },
          "metadata": {},
          "execution_count": 32
        }
      ]
    },
    {
      "cell_type": "markdown",
      "source": [
        "#### Регулярное выражение для парсинга"
      ],
      "metadata": {
        "id": "r8nQzkhbEe13"
      }
    },
    {
      "cell_type": "code",
      "source": [
        "# Регулярное выражение с именованными группами\n",
        "pattern = r\"(?:<li>)(?P<names>[^<]+)(?:<[^>]+>)(?P<street>[^<]+)(?:<[^>]+>)(?P<state>[^<]+)(?:<[^>]+>)(?P<numbers>[^<]+)(?:<[^>]+>)\"\n",
        "\n",
        "# Компилируем регулярное выражение с флагом re.VERBOSE для удобства чтения\n",
        "regex = re.compile(pattern, re.VERBOSE)"
      ],
      "metadata": {
        "id": "HB8l2jSoErme"
      },
      "execution_count": 41,
      "outputs": []
    },
    {
      "cell_type": "markdown",
      "source": [
        "\n",
        "#### Извлечение данных"
      ],
      "metadata": {
        "id": "bKsE_J5gEw6U"
      }
    },
    {
      "cell_type": "code",
      "source": [
        "# Находим все совпадения\n",
        "match = re.findall(pattern, html_content)\n",
        "\n",
        "print(match)"
      ],
      "metadata": {
        "id": "wLdeGyzzEsJ8",
        "colab": {
          "base_uri": "https://localhost:8080/"
        },
        "outputId": "e9774dd6-ba58-4ea0-89a5-531138e858a3"
      },
      "execution_count": 44,
      "outputs": [
        {
          "output_type": "stream",
          "name": "stdout",
          "text": [
            "[('Cecilia Chapman', '711-2880 Nulla St.', 'Mankato Mississippi 96522', '(257) 563-7401'), ('Iris Watson', 'P.O. Box 283 8562 Fusce Rd.', 'Frederick Nebraska 20620', '(372) 587-2335'), ('Celeste Slater', '606-3727 Ullamcorper. Street', 'Roseville NH 11523', '(786) 713-8616'), ('Theodore Lowe', 'Ap #867-859 Sit Rd.', 'Azusa New York 39531', '(793) 151-6230'), ('Calista Wise', '7292 Dictum Av.', 'San Antonio MI 47096', '(492) 709-6392'), ('Kyla Olsen', 'Ap #651-8679 Sodales Av.', 'Tamuning PA 10855', '(654) 393-5734'), ('Forrest Ray', '191-103 Integer Rd.', 'Corona New Mexico 08219', '(404) 960-3807'), ('Hiroko Potter', 'P.O. Box 887 2508 Dolor. Av.', 'Muskegon KY 12482', '(314) 244-6306'), ('Nyssa Vazquez', '511-5762 At Rd.', 'Chelsea MI 67708', '(947) 278-5929'), ('Lawrence Moreno', '935-9940 Tortor. Street', 'Santa Rosa MN 98804', '(684) 579-1879'), ('Ina Moran', 'P.O. Box 929 4189 Nunc Road', 'Lebanon KY 69409', '(389) 737-2852'), ('Aaron Hawkins', '5587 Nunc. Avenue', 'Erie Rhode Island 24975', '(660) 663-4518'), ('Hedy Greene', 'Ap #696-3279 Viverra. Avenue', 'Latrobe DE 38100', '(608) 265-2215'), ('Melvin Porter', 'P.O. Box 132 1599 Curabitur Rd.', 'Bandera South Dakota 45149', '(959) 119-8364'), ('Keefe Sellers', '347-7666 Iaculis St.', 'Woodruff SC 49854', '(468) 353-2641'), ('Joan Romero', '666-4366 Lacinia Avenue', 'Idaho Falls Ohio 19253', '(248) 675-4007'), ('Davis Patrick', 'P.O. Box 147 2546 Sociosqu Rd.', 'Bethlehem Utah 02913', '(939) 353-1107'), ('Leilani Boyer', '557-6308 Lacinia Road', 'San Bernardino ND 09289', '(570) 873-7090'), ('Colby Bernard', 'Ap #285-7193 Ullamcorper Avenue', 'Amesbury HI 93373', '(302) 259-2375'), ('Bryar Pitts', '5543 Aliquet St.', 'Fort Dodge GA 20783', '(717) 450-4729'), ('Rahim Henderson', '5037 Diam Rd.', 'Daly City Ohio 90255', '(453) 391-4650'), ('Noelle Adams', '6351 Fringilla Avenue', 'Gardena Colorado 37547', '(559) 104-5475'), ('Lillith Daniel', '935-1670 Neque. St.', 'Centennial Delaware 48432', '(387) 142-9434'), ('Adria Russell', '414-7533 Non Rd.', 'Miami Beach North Dakota 58563', '(516) 745-4496'), ('Hilda Haynes', '778-9383 Suspendisse Av.', 'Weirton IN 93479', '(326) 677-3419'), ('Sheila Mcintosh', 'P.O. Box 360 4407 Et Rd.', 'Santa Monica FL 30309', '(746) 679-2470'), ('Rebecca Chambers', 'P.O. Box 813 5982 Sit Ave', 'Liberal Vermont 51324', '(455) 430-0989'), ('Christian Emerson', 'P.O. Box 886 4118 Arcu St.', 'Rolling Hills Georgia 92358', '(490) 936-4694'), ('Nevada Ware', 'P.O. Box 597 4156 Tincidunt Ave', 'Green Bay Indiana 19759', '(985) 834-8285'), ('Margaret Joseph', 'P.O. Box 508 3919 Gravida St.', 'Tamuning Washington 55797', '(662) 661-1446'), ('Edward Nieves', '928-3313 Vel Av.', 'Idaho Falls Rhode Island 37232', '(802) 668-8240'), ('Imani Talley', 'P.O. Box 262 4978 Sit St.', 'Yigo Massachusetts 50654', '(477) 768-9247'), ('Bertha Riggs', 'P.O. Box 206 6639 In St.', 'Easthampton TN 31626', '(791) 239-9057'), ('Wallace Ross', '313 Pellentesque Ave', 'Villa Park Hawaii 43526', '(832) 109-0213'), ('Chester Bennett', '3476 Aliquet. Ave', 'Minot AZ 95302', '(837) 196-3274'), ('Castor Richardson', 'P.O. Box 902 3472 Ullamcorper Street', 'Lynchburg DC 29738', '(268) 442-2428'), ('Sonya Jordan', 'Ap #443-336 Ullamcorper. Street', 'Visalia VA 54886', '(850) 676-5117'), ('Harrison Mcguire', '574-8633 Arcu Street', 'San Fernando ID 77373', '(861) 546-5032'), ('Malcolm Long', '9291 Proin Road', 'Lake Charles Maine 11292', '(176) 805-4108'), ('Raymond Levy', 'Ap #643-7006 Risus St.', 'Beaumont New Mexico 73585', '(715) 912-6931'), ('Hedley Ingram', '737-2580 At Street', 'Independence Texas 87535', '(993) 554-0563'), ('David Mathews', '1011 Malesuada Road', 'Moscow Kentucky 77382', '(357) 616-5411'), ('Xyla Cash', '969-1762 Tincidunt Rd.', 'Boise CT 35282', '(121) 347-0086'), ('Madeline Gregory', '977-4841 Ut Ave', 'Walla Walla Michigan 82776', '(304) 506-6314'), ('Griffith Daniels', '6818 Eget St.', 'Tacoma AL 92508', '(425) 288-2332'), ('Anne Beasley', '987-4223 Urna St.', 'Savannah Illinois 85794', '(145) 987-4962'), ('Chaney Bennett', 'P.O. Box 721 902 Dolor Rd.', 'Fremont AK 19408', '(187) 582-9707'), ('Daniel Bernard', 'P.O. Box 567 1561 Duis Rd.', 'Pomona TN 08609', '(750) 558-3965'), ('Willow Hunt', 'Ap #784-1887 Lobortis Ave', 'Cudahy Ohio 31522', '(492) 467-3131'), ('Judith Floyd', '361-7936 Feugiat St.', 'Williston Nevada 58521', '(774) 914-2510'), ('Seth Farley', '6216 Aenean Avenue', 'Seattle Utah 81202', '(888) 106-8550'), ('Zephania Sanders', '3714 Nascetur St.', 'Hawthorne Louisiana 10626', '(539) 567-3573'), ('Calista Merritt', 'Ap #938-5470 Posuere Ave', 'Chickasha LA 58520', '(693) 337-2849'), ('Craig Williams', 'P.O. Box 372 5634 Montes Rd.', 'Springdale MO 57692', '(545) 604-9386'), ('Lee Preston', '981 Eget Rd.', 'Clemson GA 04645', '(221) 156-5026'), ('Katelyn Cooper', '6059 Sollicitudin Road', 'Burlingame Colorado 26278', '(414) 876-0865'), ('Lacy Eaton', '1379 Nulla. Av.', 'Asbury Park Montana 69679', '(932) 726-8645'), ('Driscoll Leach', 'P.O. Box 120 2410 Odio Avenue', 'Pass Christian Delaware 03869', '(726) 710-9826'), ('Merritt Watson', 'P.O. Box 686 7014 Amet Street', 'Corona Oklahoma 55246', '(622) 594-1662'), ('Nehru Holmes', 'P.O. Box 547 4764 Sed Road', 'Grand Rapids CT 87323', '(948) 600-8503'), ('Quamar Rivera', '427-5827 Ac St.', 'Schaumburg Arkansas 84872', '(605) 900-7508'), ('Hiram Mullins', '754-6427 Nunc Ave', 'Kennewick AL 41329', '(716) 977-5775'), ('Kim Fletcher', 'Ap #345-3847 Metus Road', 'Independence CO 30135', '(368) 239-8275'), ('Rigel Koch', 'P.O. Box 558 9561 Lacus. Road', 'Laughlin Hawaii 99602', '(725) 342-0650'), ('Jeanette Sharpe', 'Ap #364-2006 Ipsum Avenue', 'Wilmington Ohio 91750', '(711) 993-5187'), ('Dahlia Lee', '1293 Tincidunt Street', 'Atwater Pennsylvania 76865', '(882) 399-5084'), ('Howard Hayden', 'P.O. Box 847 8019 Facilisis Street', 'Joliet SC 73490', '(287) 755-9948'), ('Hyatt Kramer', '1011 Massa Av.', 'Kent ID 63725', '(659) 551-3389'), ('Sonya Ray', 'Ap #315-8441 Eleifend Street', 'Fairbanks RI 96892', '(275) 730-6868'), ('Cara Whitehead', '4005 Praesent St.', 'Torrance Wyoming 22767', '(725) 757-4047'), ('Blythe Carroll', '7709 Justo. Ave', 'Princeton TX 77987', '(314) 882-1496'), ('Dale Griffin', 'P.O. Box 854 8580 In Ave', 'Revere South Dakota 43841', '(639) 360-7590'), ('McKenzie Hernandez', 'Ap #367-674 Mi Street', 'Greensboro VT 40684', '(168) 222-1592'), ('Haviva Holcomb', 'P.O. Box 642 3450 In Road', 'Isle of Palms New York 03828', '(896) 303-1164'), ('Ezra Duffy', 'Ap #782-7348 Dis Rd.', 'Austin KY 50710', '(203) 982-6130'), ('Eleanor Jennings', '9631 Semper Ave', 'Astoria NJ 66309', '(906) 217-1470'), ('Remedios Hester', '487-5787 Mollis St.', 'City of Industry Louisiana 67973', '(614) 514-1269'), ('Jasper Carney', '1195 Lobortis Rd.', 'New Orleans New Hampshire 71983', '(763) 409-5446'), ('Vielka Nielsen', 'Ap #517-7326 Elementum Rd.', 'Fort Smith North Dakota 79637', '(836) 292-5324'), ('Wilma Pace', 'Ap #676-6532 Odio Rd.', 'Darlington CO 06963', '(926) 709-3295'), ('Palmer Gay', '557-2026 Purus St.', 'Watertown TN 07367', '(963) 356-9268'), ('Lyle Sutton', 'Ap #250-9843 Elementum St.', 'South Gate Missouri 68999', '(736) 522-8584'), ('Ina Burt', 'Ap #130-1685 Ut Street', 'Tyler KS 73510', '(410) 483-0352'), ('Cleo Best', '282-8351 Tincidunt Ave', 'Sedalia Utah 53700', '(252) 204-1434'), ('Hu Park', '1429 Netus Rd.', 'Reedsport NY 48247', '(874) 886-4174'), ('Liberty Walton', '343-6527 Purus. Avenue', 'Logan NV 12657', '(581) 379-7573'), ('Aaron Trujillo', 'Ap #146-3132 Cras Rd.', 'Kingsport NH 56618', '(983) 632-8597'), ('Elmo Lopez', 'Ap #481-7473 Cum Rd.', 'Yorba Linda South Carolina 28423', '(295) 983-3476'), ('Emerson Espinoza', 'Ap #247-5577 Tincidunt St.', 'Corpus Christi WI 97020', '(873) 392-8802'), ('Daniel Malone', '2136 Adipiscing Av.', 'Lima RI 93490', '(360) 669-3923'), ('Dante Bennett', '481-8762 Nulla Street', 'Dearborn OR 62401', '(840) 987-9449'), ('Sade Higgins', 'Ap #287-3260 Ut St.', 'Wilmington OR 05182', '(422) 517-6053'), ('Zorita Anderson', '1964 Facilisis Avenue', 'Bell Gardens Texas 87065', '(126) 940-2753'), ('Jordan Calderon', '430-985 Eleifend St.', 'Duluth Washington 92611', '(427) 930-5255'), ('Ivor Delgado', 'Ap #310-1678 Ut Av.', 'Santa Barbara MT 88317', '(689) 721-5145'), ('Pascale Patton', 'P.O. Box 399 4275 Amet Street', 'West Allis NC 36734', '(676) 334-2174'), ('Nasim Strong', 'Ap #630-3889 Nulla. Street', 'Watervliet Oklahoma 70863', '(437) 994-5270'), ('Keaton Underwood', 'Ap #636-8082 Arcu Avenue', 'Thiensville Maryland 19587', '(564) 908-6970'), ('Keegan Blair', 'Ap #761-2515 Egestas. Rd.', 'Manitowoc TN 07528', '(577) 333-6244'), ('Tamara Howe', '3415 Lobortis. Avenue', 'Rocky Mount WA 48580', '(655) 840-6139')]\n"
          ]
        }
      ]
    },
    {
      "cell_type": "markdown",
      "source": [
        "\n",
        "#### Сохранение данных в CSV-файл\n"
      ],
      "metadata": {
        "id": "yphGXRzUE5n-"
      }
    },
    {
      "cell_type": "code",
      "source": [
        "with open('data.csv', 'w', newline='') as file:\n",
        "    writer = csv.writer(file)\n",
        "    writer.writerow(['Name', 'City', 'State', 'Phone'])\n",
        "\n",
        "    for i in match:\n",
        "        writer.writerow(i)"
      ],
      "metadata": {
        "id": "oGXWexhdE8KW"
      },
      "execution_count": 35,
      "outputs": []
    },
    {
      "cell_type": "markdown",
      "source": [
        "#### Вывод данных по именованным группам:\n"
      ],
      "metadata": {
        "id": "te94i9RzE-Gt"
      }
    },
    {
      "cell_type": "code",
      "source": [
        "matches = re.finditer(pattern, html_content)\n",
        "\n",
        "for match in matches:\n",
        "    print(\"Name:\", match.group('names'))\n",
        "    print(\"Street:\", match.group('street'))\n",
        "    print(\"State:\", match.group('state'))\n",
        "    print(\"Numbers:\", match.group('numbers'))\n",
        "    print(\"\\n\")\n",
        "\n",
        "if not re.search(pattern, html_content):\n",
        "    print(\"No match found.\")\n"
      ],
      "metadata": {
        "id": "8gDUX4EOE_MF",
        "colab": {
          "base_uri": "https://localhost:8080/"
        },
        "outputId": "2ed286b4-a519-4e1d-8467-c6f8e1c609c0"
      },
      "execution_count": 45,
      "outputs": [
        {
          "output_type": "stream",
          "name": "stdout",
          "text": [
            "Name: Cecilia Chapman\n",
            "Street: 711-2880 Nulla St.\n",
            "State: Mankato Mississippi 96522\n",
            "Numbers: (257) 563-7401\n",
            "\n",
            "\n",
            "Name: Iris Watson\n",
            "Street: P.O. Box 283 8562 Fusce Rd.\n",
            "State: Frederick Nebraska 20620\n",
            "Numbers: (372) 587-2335\n",
            "\n",
            "\n",
            "Name: Celeste Slater\n",
            "Street: 606-3727 Ullamcorper. Street\n",
            "State: Roseville NH 11523\n",
            "Numbers: (786) 713-8616\n",
            "\n",
            "\n",
            "Name: Theodore Lowe\n",
            "Street: Ap #867-859 Sit Rd.\n",
            "State: Azusa New York 39531\n",
            "Numbers: (793) 151-6230\n",
            "\n",
            "\n",
            "Name: Calista Wise\n",
            "Street: 7292 Dictum Av.\n",
            "State: San Antonio MI 47096\n",
            "Numbers: (492) 709-6392\n",
            "\n",
            "\n",
            "Name: Kyla Olsen\n",
            "Street: Ap #651-8679 Sodales Av.\n",
            "State: Tamuning PA 10855\n",
            "Numbers: (654) 393-5734\n",
            "\n",
            "\n",
            "Name: Forrest Ray\n",
            "Street: 191-103 Integer Rd.\n",
            "State: Corona New Mexico 08219\n",
            "Numbers: (404) 960-3807\n",
            "\n",
            "\n",
            "Name: Hiroko Potter\n",
            "Street: P.O. Box 887 2508 Dolor. Av.\n",
            "State: Muskegon KY 12482\n",
            "Numbers: (314) 244-6306\n",
            "\n",
            "\n",
            "Name: Nyssa Vazquez\n",
            "Street: 511-5762 At Rd.\n",
            "State: Chelsea MI 67708\n",
            "Numbers: (947) 278-5929\n",
            "\n",
            "\n",
            "Name: Lawrence Moreno\n",
            "Street: 935-9940 Tortor. Street\n",
            "State: Santa Rosa MN 98804\n",
            "Numbers: (684) 579-1879\n",
            "\n",
            "\n",
            "Name: Ina Moran\n",
            "Street: P.O. Box 929 4189 Nunc Road\n",
            "State: Lebanon KY 69409\n",
            "Numbers: (389) 737-2852\n",
            "\n",
            "\n",
            "Name: Aaron Hawkins\n",
            "Street: 5587 Nunc. Avenue\n",
            "State: Erie Rhode Island 24975\n",
            "Numbers: (660) 663-4518\n",
            "\n",
            "\n",
            "Name: Hedy Greene\n",
            "Street: Ap #696-3279 Viverra. Avenue\n",
            "State: Latrobe DE 38100\n",
            "Numbers: (608) 265-2215\n",
            "\n",
            "\n",
            "Name: Melvin Porter\n",
            "Street: P.O. Box 132 1599 Curabitur Rd.\n",
            "State: Bandera South Dakota 45149\n",
            "Numbers: (959) 119-8364\n",
            "\n",
            "\n",
            "Name: Keefe Sellers\n",
            "Street: 347-7666 Iaculis St.\n",
            "State: Woodruff SC 49854\n",
            "Numbers: (468) 353-2641\n",
            "\n",
            "\n",
            "Name: Joan Romero\n",
            "Street: 666-4366 Lacinia Avenue\n",
            "State: Idaho Falls Ohio 19253\n",
            "Numbers: (248) 675-4007\n",
            "\n",
            "\n",
            "Name: Davis Patrick\n",
            "Street: P.O. Box 147 2546 Sociosqu Rd.\n",
            "State: Bethlehem Utah 02913\n",
            "Numbers: (939) 353-1107\n",
            "\n",
            "\n",
            "Name: Leilani Boyer\n",
            "Street: 557-6308 Lacinia Road\n",
            "State: San Bernardino ND 09289\n",
            "Numbers: (570) 873-7090\n",
            "\n",
            "\n",
            "Name: Colby Bernard\n",
            "Street: Ap #285-7193 Ullamcorper Avenue\n",
            "State: Amesbury HI 93373\n",
            "Numbers: (302) 259-2375\n",
            "\n",
            "\n",
            "Name: Bryar Pitts\n",
            "Street: 5543 Aliquet St.\n",
            "State: Fort Dodge GA 20783\n",
            "Numbers: (717) 450-4729\n",
            "\n",
            "\n",
            "Name: Rahim Henderson\n",
            "Street: 5037 Diam Rd.\n",
            "State: Daly City Ohio 90255\n",
            "Numbers: (453) 391-4650\n",
            "\n",
            "\n",
            "Name: Noelle Adams\n",
            "Street: 6351 Fringilla Avenue\n",
            "State: Gardena Colorado 37547\n",
            "Numbers: (559) 104-5475\n",
            "\n",
            "\n",
            "Name: Lillith Daniel\n",
            "Street: 935-1670 Neque. St.\n",
            "State: Centennial Delaware 48432\n",
            "Numbers: (387) 142-9434\n",
            "\n",
            "\n",
            "Name: Adria Russell\n",
            "Street: 414-7533 Non Rd.\n",
            "State: Miami Beach North Dakota 58563\n",
            "Numbers: (516) 745-4496\n",
            "\n",
            "\n",
            "Name: Hilda Haynes\n",
            "Street: 778-9383 Suspendisse Av.\n",
            "State: Weirton IN 93479\n",
            "Numbers: (326) 677-3419\n",
            "\n",
            "\n",
            "Name: Sheila Mcintosh\n",
            "Street: P.O. Box 360 4407 Et Rd.\n",
            "State: Santa Monica FL 30309\n",
            "Numbers: (746) 679-2470\n",
            "\n",
            "\n",
            "Name: Rebecca Chambers\n",
            "Street: P.O. Box 813 5982 Sit Ave\n",
            "State: Liberal Vermont 51324\n",
            "Numbers: (455) 430-0989\n",
            "\n",
            "\n",
            "Name: Christian Emerson\n",
            "Street: P.O. Box 886 4118 Arcu St.\n",
            "State: Rolling Hills Georgia 92358\n",
            "Numbers: (490) 936-4694\n",
            "\n",
            "\n",
            "Name: Nevada Ware\n",
            "Street: P.O. Box 597 4156 Tincidunt Ave\n",
            "State: Green Bay Indiana 19759\n",
            "Numbers: (985) 834-8285\n",
            "\n",
            "\n",
            "Name: Margaret Joseph\n",
            "Street: P.O. Box 508 3919 Gravida St.\n",
            "State: Tamuning Washington 55797\n",
            "Numbers: (662) 661-1446\n",
            "\n",
            "\n",
            "Name: Edward Nieves\n",
            "Street: 928-3313 Vel Av.\n",
            "State: Idaho Falls Rhode Island 37232\n",
            "Numbers: (802) 668-8240\n",
            "\n",
            "\n",
            "Name: Imani Talley\n",
            "Street: P.O. Box 262 4978 Sit St.\n",
            "State: Yigo Massachusetts 50654\n",
            "Numbers: (477) 768-9247\n",
            "\n",
            "\n",
            "Name: Bertha Riggs\n",
            "Street: P.O. Box 206 6639 In St.\n",
            "State: Easthampton TN 31626\n",
            "Numbers: (791) 239-9057\n",
            "\n",
            "\n",
            "Name: Wallace Ross\n",
            "Street: 313 Pellentesque Ave\n",
            "State: Villa Park Hawaii 43526\n",
            "Numbers: (832) 109-0213\n",
            "\n",
            "\n",
            "Name: Chester Bennett\n",
            "Street: 3476 Aliquet. Ave\n",
            "State: Minot AZ 95302\n",
            "Numbers: (837) 196-3274\n",
            "\n",
            "\n",
            "Name: Castor Richardson\n",
            "Street: P.O. Box 902 3472 Ullamcorper Street\n",
            "State: Lynchburg DC 29738\n",
            "Numbers: (268) 442-2428\n",
            "\n",
            "\n",
            "Name: Sonya Jordan\n",
            "Street: Ap #443-336 Ullamcorper. Street\n",
            "State: Visalia VA 54886\n",
            "Numbers: (850) 676-5117\n",
            "\n",
            "\n",
            "Name: Harrison Mcguire\n",
            "Street: 574-8633 Arcu Street\n",
            "State: San Fernando ID 77373\n",
            "Numbers: (861) 546-5032\n",
            "\n",
            "\n",
            "Name: Malcolm Long\n",
            "Street: 9291 Proin Road\n",
            "State: Lake Charles Maine 11292\n",
            "Numbers: (176) 805-4108\n",
            "\n",
            "\n",
            "Name: Raymond Levy\n",
            "Street: Ap #643-7006 Risus St.\n",
            "State: Beaumont New Mexico 73585\n",
            "Numbers: (715) 912-6931\n",
            "\n",
            "\n",
            "Name: Hedley Ingram\n",
            "Street: 737-2580 At Street\n",
            "State: Independence Texas 87535\n",
            "Numbers: (993) 554-0563\n",
            "\n",
            "\n",
            "Name: David Mathews\n",
            "Street: 1011 Malesuada Road\n",
            "State: Moscow Kentucky 77382\n",
            "Numbers: (357) 616-5411\n",
            "\n",
            "\n",
            "Name: Xyla Cash\n",
            "Street: 969-1762 Tincidunt Rd.\n",
            "State: Boise CT 35282\n",
            "Numbers: (121) 347-0086\n",
            "\n",
            "\n",
            "Name: Madeline Gregory\n",
            "Street: 977-4841 Ut Ave\n",
            "State: Walla Walla Michigan 82776\n",
            "Numbers: (304) 506-6314\n",
            "\n",
            "\n",
            "Name: Griffith Daniels\n",
            "Street: 6818 Eget St.\n",
            "State: Tacoma AL 92508\n",
            "Numbers: (425) 288-2332\n",
            "\n",
            "\n",
            "Name: Anne Beasley\n",
            "Street: 987-4223 Urna St.\n",
            "State: Savannah Illinois 85794\n",
            "Numbers: (145) 987-4962\n",
            "\n",
            "\n",
            "Name: Chaney Bennett\n",
            "Street: P.O. Box 721 902 Dolor Rd.\n",
            "State: Fremont AK 19408\n",
            "Numbers: (187) 582-9707\n",
            "\n",
            "\n",
            "Name: Daniel Bernard\n",
            "Street: P.O. Box 567 1561 Duis Rd.\n",
            "State: Pomona TN 08609\n",
            "Numbers: (750) 558-3965\n",
            "\n",
            "\n",
            "Name: Willow Hunt\n",
            "Street: Ap #784-1887 Lobortis Ave\n",
            "State: Cudahy Ohio 31522\n",
            "Numbers: (492) 467-3131\n",
            "\n",
            "\n",
            "Name: Judith Floyd\n",
            "Street: 361-7936 Feugiat St.\n",
            "State: Williston Nevada 58521\n",
            "Numbers: (774) 914-2510\n",
            "\n",
            "\n",
            "Name: Seth Farley\n",
            "Street: 6216 Aenean Avenue\n",
            "State: Seattle Utah 81202\n",
            "Numbers: (888) 106-8550\n",
            "\n",
            "\n",
            "Name: Zephania Sanders\n",
            "Street: 3714 Nascetur St.\n",
            "State: Hawthorne Louisiana 10626\n",
            "Numbers: (539) 567-3573\n",
            "\n",
            "\n",
            "Name: Calista Merritt\n",
            "Street: Ap #938-5470 Posuere Ave\n",
            "State: Chickasha LA 58520\n",
            "Numbers: (693) 337-2849\n",
            "\n",
            "\n",
            "Name: Craig Williams\n",
            "Street: P.O. Box 372 5634 Montes Rd.\n",
            "State: Springdale MO 57692\n",
            "Numbers: (545) 604-9386\n",
            "\n",
            "\n",
            "Name: Lee Preston\n",
            "Street: 981 Eget Rd.\n",
            "State: Clemson GA 04645\n",
            "Numbers: (221) 156-5026\n",
            "\n",
            "\n",
            "Name: Katelyn Cooper\n",
            "Street: 6059 Sollicitudin Road\n",
            "State: Burlingame Colorado 26278\n",
            "Numbers: (414) 876-0865\n",
            "\n",
            "\n",
            "Name: Lacy Eaton\n",
            "Street: 1379 Nulla. Av.\n",
            "State: Asbury Park Montana 69679\n",
            "Numbers: (932) 726-8645\n",
            "\n",
            "\n",
            "Name: Driscoll Leach\n",
            "Street: P.O. Box 120 2410 Odio Avenue\n",
            "State: Pass Christian Delaware 03869\n",
            "Numbers: (726) 710-9826\n",
            "\n",
            "\n",
            "Name: Merritt Watson\n",
            "Street: P.O. Box 686 7014 Amet Street\n",
            "State: Corona Oklahoma 55246\n",
            "Numbers: (622) 594-1662\n",
            "\n",
            "\n",
            "Name: Nehru Holmes\n",
            "Street: P.O. Box 547 4764 Sed Road\n",
            "State: Grand Rapids CT 87323\n",
            "Numbers: (948) 600-8503\n",
            "\n",
            "\n",
            "Name: Quamar Rivera\n",
            "Street: 427-5827 Ac St.\n",
            "State: Schaumburg Arkansas 84872\n",
            "Numbers: (605) 900-7508\n",
            "\n",
            "\n",
            "Name: Hiram Mullins\n",
            "Street: 754-6427 Nunc Ave\n",
            "State: Kennewick AL 41329\n",
            "Numbers: (716) 977-5775\n",
            "\n",
            "\n",
            "Name: Kim Fletcher\n",
            "Street: Ap #345-3847 Metus Road\n",
            "State: Independence CO 30135\n",
            "Numbers: (368) 239-8275\n",
            "\n",
            "\n",
            "Name: Rigel Koch\n",
            "Street: P.O. Box 558 9561 Lacus. Road\n",
            "State: Laughlin Hawaii 99602\n",
            "Numbers: (725) 342-0650\n",
            "\n",
            "\n",
            "Name: Jeanette Sharpe\n",
            "Street: Ap #364-2006 Ipsum Avenue\n",
            "State: Wilmington Ohio 91750\n",
            "Numbers: (711) 993-5187\n",
            "\n",
            "\n",
            "Name: Dahlia Lee\n",
            "Street: 1293 Tincidunt Street\n",
            "State: Atwater Pennsylvania 76865\n",
            "Numbers: (882) 399-5084\n",
            "\n",
            "\n",
            "Name: Howard Hayden\n",
            "Street: P.O. Box 847 8019 Facilisis Street\n",
            "State: Joliet SC 73490\n",
            "Numbers: (287) 755-9948\n",
            "\n",
            "\n",
            "Name: Hyatt Kramer\n",
            "Street: 1011 Massa Av.\n",
            "State: Kent ID 63725\n",
            "Numbers: (659) 551-3389\n",
            "\n",
            "\n",
            "Name: Sonya Ray\n",
            "Street: Ap #315-8441 Eleifend Street\n",
            "State: Fairbanks RI 96892\n",
            "Numbers: (275) 730-6868\n",
            "\n",
            "\n",
            "Name: Cara Whitehead\n",
            "Street: 4005 Praesent St.\n",
            "State: Torrance Wyoming 22767\n",
            "Numbers: (725) 757-4047\n",
            "\n",
            "\n",
            "Name: Blythe Carroll\n",
            "Street: 7709 Justo. Ave\n",
            "State: Princeton TX 77987\n",
            "Numbers: (314) 882-1496\n",
            "\n",
            "\n",
            "Name: Dale Griffin\n",
            "Street: P.O. Box 854 8580 In Ave\n",
            "State: Revere South Dakota 43841\n",
            "Numbers: (639) 360-7590\n",
            "\n",
            "\n",
            "Name: McKenzie Hernandez\n",
            "Street: Ap #367-674 Mi Street\n",
            "State: Greensboro VT 40684\n",
            "Numbers: (168) 222-1592\n",
            "\n",
            "\n",
            "Name: Haviva Holcomb\n",
            "Street: P.O. Box 642 3450 In Road\n",
            "State: Isle of Palms New York 03828\n",
            "Numbers: (896) 303-1164\n",
            "\n",
            "\n",
            "Name: Ezra Duffy\n",
            "Street: Ap #782-7348 Dis Rd.\n",
            "State: Austin KY 50710\n",
            "Numbers: (203) 982-6130\n",
            "\n",
            "\n",
            "Name: Eleanor Jennings\n",
            "Street: 9631 Semper Ave\n",
            "State: Astoria NJ 66309\n",
            "Numbers: (906) 217-1470\n",
            "\n",
            "\n",
            "Name: Remedios Hester\n",
            "Street: 487-5787 Mollis St.\n",
            "State: City of Industry Louisiana 67973\n",
            "Numbers: (614) 514-1269\n",
            "\n",
            "\n",
            "Name: Jasper Carney\n",
            "Street: 1195 Lobortis Rd.\n",
            "State: New Orleans New Hampshire 71983\n",
            "Numbers: (763) 409-5446\n",
            "\n",
            "\n",
            "Name: Vielka Nielsen\n",
            "Street: Ap #517-7326 Elementum Rd.\n",
            "State: Fort Smith North Dakota 79637\n",
            "Numbers: (836) 292-5324\n",
            "\n",
            "\n",
            "Name: Wilma Pace\n",
            "Street: Ap #676-6532 Odio Rd.\n",
            "State: Darlington CO 06963\n",
            "Numbers: (926) 709-3295\n",
            "\n",
            "\n",
            "Name: Palmer Gay\n",
            "Street: 557-2026 Purus St.\n",
            "State: Watertown TN 07367\n",
            "Numbers: (963) 356-9268\n",
            "\n",
            "\n",
            "Name: Lyle Sutton\n",
            "Street: Ap #250-9843 Elementum St.\n",
            "State: South Gate Missouri 68999\n",
            "Numbers: (736) 522-8584\n",
            "\n",
            "\n",
            "Name: Ina Burt\n",
            "Street: Ap #130-1685 Ut Street\n",
            "State: Tyler KS 73510\n",
            "Numbers: (410) 483-0352\n",
            "\n",
            "\n",
            "Name: Cleo Best\n",
            "Street: 282-8351 Tincidunt Ave\n",
            "State: Sedalia Utah 53700\n",
            "Numbers: (252) 204-1434\n",
            "\n",
            "\n",
            "Name: Hu Park\n",
            "Street: 1429 Netus Rd.\n",
            "State: Reedsport NY 48247\n",
            "Numbers: (874) 886-4174\n",
            "\n",
            "\n",
            "Name: Liberty Walton\n",
            "Street: 343-6527 Purus. Avenue\n",
            "State: Logan NV 12657\n",
            "Numbers: (581) 379-7573\n",
            "\n",
            "\n",
            "Name: Aaron Trujillo\n",
            "Street: Ap #146-3132 Cras Rd.\n",
            "State: Kingsport NH 56618\n",
            "Numbers: (983) 632-8597\n",
            "\n",
            "\n",
            "Name: Elmo Lopez\n",
            "Street: Ap #481-7473 Cum Rd.\n",
            "State: Yorba Linda South Carolina 28423\n",
            "Numbers: (295) 983-3476\n",
            "\n",
            "\n",
            "Name: Emerson Espinoza\n",
            "Street: Ap #247-5577 Tincidunt St.\n",
            "State: Corpus Christi WI 97020\n",
            "Numbers: (873) 392-8802\n",
            "\n",
            "\n",
            "Name: Daniel Malone\n",
            "Street: 2136 Adipiscing Av.\n",
            "State: Lima RI 93490\n",
            "Numbers: (360) 669-3923\n",
            "\n",
            "\n",
            "Name: Dante Bennett\n",
            "Street: 481-8762 Nulla Street\n",
            "State: Dearborn OR 62401\n",
            "Numbers: (840) 987-9449\n",
            "\n",
            "\n",
            "Name: Sade Higgins\n",
            "Street: Ap #287-3260 Ut St.\n",
            "State: Wilmington OR 05182\n",
            "Numbers: (422) 517-6053\n",
            "\n",
            "\n",
            "Name: Zorita Anderson\n",
            "Street: 1964 Facilisis Avenue\n",
            "State: Bell Gardens Texas 87065\n",
            "Numbers: (126) 940-2753\n",
            "\n",
            "\n",
            "Name: Jordan Calderon\n",
            "Street: 430-985 Eleifend St.\n",
            "State: Duluth Washington 92611\n",
            "Numbers: (427) 930-5255\n",
            "\n",
            "\n",
            "Name: Ivor Delgado\n",
            "Street: Ap #310-1678 Ut Av.\n",
            "State: Santa Barbara MT 88317\n",
            "Numbers: (689) 721-5145\n",
            "\n",
            "\n",
            "Name: Pascale Patton\n",
            "Street: P.O. Box 399 4275 Amet Street\n",
            "State: West Allis NC 36734\n",
            "Numbers: (676) 334-2174\n",
            "\n",
            "\n",
            "Name: Nasim Strong\n",
            "Street: Ap #630-3889 Nulla. Street\n",
            "State: Watervliet Oklahoma 70863\n",
            "Numbers: (437) 994-5270\n",
            "\n",
            "\n",
            "Name: Keaton Underwood\n",
            "Street: Ap #636-8082 Arcu Avenue\n",
            "State: Thiensville Maryland 19587\n",
            "Numbers: (564) 908-6970\n",
            "\n",
            "\n",
            "Name: Keegan Blair\n",
            "Street: Ap #761-2515 Egestas. Rd.\n",
            "State: Manitowoc TN 07528\n",
            "Numbers: (577) 333-6244\n",
            "\n",
            "\n",
            "Name: Tamara Howe\n",
            "Street: 3415 Lobortis. Avenue\n",
            "State: Rocky Mount WA 48580\n",
            "Numbers: (655) 840-6139\n",
            "\n",
            "\n"
          ]
        }
      ]
    },
    {
      "cell_type": "markdown",
      "source": [
        "## 3. Код скрипта целиком:\n"
      ],
      "metadata": {
        "id": "zKdyP9VkFR1y"
      }
    },
    {
      "cell_type": "code",
      "source": [
        "import re\n",
        "import csv\n",
        "import ssl\n",
        "import urllib.request\n",
        "\n",
        "# Отключаем проверку SSL-сертификатов (для учебных целей)\n",
        "ssl._create_default_https_context = ssl._create_unverified_context\n",
        "\n",
        "# 1. Парсинг email-адресов\n",
        "with open(\"adr.txt\", encoding=\"UTF8\") as file:\n",
        "    text = file.read()\n",
        "\n",
        "email_pattern = r\"[\\w\\-.]+@[\\w\\-.]+\\.\\w+\"\n",
        "emails = re.findall(email_pattern, text)\n",
        "print('Список email-адресов:', emails)\n",
        "\n",
        "# 2. Парсинг данных с HTML-страницы\n",
        "url = \"https://www.summet.com/dmsi/html/codesamples/addresses.html\"\n",
        "response = urllib.request.urlopen(url)\n",
        "html_content = response.read().decode()\n",
        "\n",
        "# Регулярное выражение с именованными группами\n",
        "pattern = r\"(?:<li>)(?P<names>[^<]+)(?:<[^>]+>)(?P<street>[^<]+)(?:<[^>]+>)(?P<state>[^<]+)(?:<[^>]+>)(?P<numbers>[^<]+)(?:<[^>]+>)\"\n",
        "\n",
        "# Компилируем регулярное выражение с флагом re.VERBOSE для удобства чтения\n",
        "regex = re.compile(pattern, re.VERBOSE)\n",
        "\n",
        "match = re.findall(pattern, html_content)\n",
        "\n",
        "print(match)\n",
        "\n",
        "# Сохранение в CSV\n",
        "with open('data.csv', 'w', newline='') as file:\n",
        "    writer = csv.writer(file)\n",
        "    writer.writerow(['Name', 'City', 'State', 'Phone'])\n",
        "\n",
        "    for i in match:\n",
        "        writer.writerow(i)\n",
        "\n",
        "# Вывод данных\n",
        "\n",
        "matches = re.finditer(pattern, html_content)\n",
        "\n",
        "for match in matches:\n",
        "    print(\"Name:\", match.group('names'))\n",
        "    print(\"Street:\", match.group('street'))\n",
        "    print(\"State:\", match.group('state'))\n",
        "    print(\"Numbers:\", match.group('numbers'))\n",
        "    print(\"\\n\")\n",
        "\n",
        "if not re.search(pattern, html_content):\n",
        "    print(\"No match found.\")\n"
      ],
      "metadata": {
        "colab": {
          "base_uri": "https://localhost:8080/"
        },
        "id": "HPy5p4u_FPpC",
        "outputId": "756835d2-0c23-471c-e24a-b02f1bbd485a"
      },
      "execution_count": 46,
      "outputs": [
        {
          "output_type": "stream",
          "name": "stdout",
          "text": [
            "Список email-адресов: ['dima@oleron.ru', 'karen-000@mtu-net.ru', 'AysinSE@mail.ru', 'holl@sochi.ru', 'juri@krm.donetsk.ua', 'akselrod@lnpi.spb.su', 'dima@cpuv1.net.kiae.su', 'DLAnikin@mail.ru', 'mimi2@chat.ru', 'eugene1970@hotmail.com', 'arba@mail.ru', 'arkhipov@yts.yartelecom.ru', 'traveller@glas.apc.org', 'mike@afanas.ru', 'svs44@usa.net', 'Alex_hunter@mail.ru', 'gib@dpicci.kiev.ua', 'wowa@ashtech.msk.ru', 'wowa@ashtech.msk.ru', 'mtm@elnet.msk.ru', 'alkor@online.ru', 'artem@oscb.phys.msu.su', 'triz@knapi.khabarovsk.su', 'andreyb@cco.caltech.edu', 'wwb@perm.raid.ru', 'abs@galaxy.ipmce.su', 'depenerg@adm.kaluga.ru', 'yurcino@aha.ru', 'ab@ref.stinol.lipetsk.su', 'bond@isd.anet.donetsk.ua', 'tangram@mediaone.net', 'Brajnikov.junior@rotek.ru', 'salieri@info.sgu.ru', 'petrovch@bitex.ru', 'danil@astranet.ru', 'vaganova@cca.kiev.ua', 'Ivan@mail.dma.be', 'verhotur@vmk.ugatu.ac.ru', 'vilinskiy@usa.net', 'alex@compulink.ru', 'kostikv@mail.ru', 'vsv@phreak.demos.su', 'mgv@xtech.ru', 'volkov@students.soros.karelia.ru', 'longear@bigfoot.com', 'antval88@mail.ru', 'linda@sci.smolensk.ru', 'yury@server.msk.su', 'stasv@aha.ru', 'nimigav@hotmail.com', 'asya@mian.ru', 'charish@chat.ru', 'garnov@turist.edu.yar.ru', 'garnov@turist.edu.yar.ru', 'gav@mail.girmet.ru', 'alex@pole.koksa.altai.su', 'gerasimov@svb.kirov.ru', 'grg@te.net.ua', 'nastia@market.ewn.krasnoyarsk.su', 'glyavin@appl.sci-nnov.ru', 'govorko@softlab.ru', 'sgcdut@mail.sochi.ru', 'sgcdut@mail.sochi.ru', 'Alec_Golibroda@007.postbox.crimea.ua', 'olimp@mail.perm.ru', 'gotovtsev@mail.ru', 'graf@estate.sci-nnov.ru', 'analitic@embrol.donetsk.ua', 'ogrekov@glas.apc.org', 'gretzov@mail.ru', 'dmitry@tebodin.spb.ru', 'vgrishkin@vitep5.itep.ru', 'timur@ium.ips.ras.ru', 'groh@genome.eimb.rssi.ru', 'svg1@altay.elektra.kz', 'dea@service.nevalink.ru', 'dea@montaro.spb.ru', 'davydov@gallup.spb.su', 'antimono@antim.saratov.su', 'v_d@astana.kz', 'ddi@au.ru', 'alexdem@chat.ru', 'hiber@glasnet.ru', 'adm@pri.belpak.vitebsk.by', 'mkk@mountain.ru', 'Dimyich@chat.ru', 'Dkon@mail.ru', 'lexa@ashtech.msk.ru', 'drabek@sao.ru', 'ada@ibis.pptus.ru', 'norton@kai.ksu.ras.ru', 'raft@extranet.ru', 'ilya@mail-me.com', 'dmitry@dionis.kfti.kcn.ru', 'dunaich@usa.net', 'vlad_e@mail.ru', 'lem@geninfo.msk.su', 'ea@inm.ras.ru', 'egoshin@ihep.su', 'bodrov@tritec.saratov.su', 'urick@com2com.ru', 'gigarev@mail.ru', 'zhurihin@mail.ru', 'stzma@inse.kiae.ru', 'zam@cinvest.chel.su', '3.80@fidonet.org', 'igor@datac.mplik.ru', 'vasily@glas.apc.org', 'letters@anton.nomak.udmurtia.su', 'Immuno@mail.cnt.ru', 'az@rest.ru', 'root@az.rest.ru', 'zoubarev@glas.apc.org', 'caine@ibs.msk.su', 'alex@olego.msk.su', 'I.Ziryanov@iis.nsk.su', 'erika@shelkovo.comcor.ru', 'dmitry_ivashkevitch@usa.net', 'vit@synvit.msk.ru', 'iisaev@emf.uiggm.nsc.ru', 'stasik@postman.ru', 'kvi@incart.spb.ru', 'kazak@dux.ru', 'kazatski@kartaly.chel.su', 'stager@lib.msu.su', 'kam@dop3.kreml.nnov.ru', 'karch@windoms.sitek.net', 'kas@ipmce.su', 'kastosov@unn.ac.ru', 'vasilich@chat.ru', 'andrej@aif.kiev.ua', 'ksu@uniinc.msk.ru', 'dik@ashtech.msk.ru', 'e3201@umpo.bashkiria.su', 'Pasha23@hotmail.com', 'avk@chaos.ssu.runnet.ru', 'snk@yaroslavl.ru', 'vass@galaktika.ru', 'uncle_bobbb@mail.ru', 'tim@ipmce.ru', 'delta@permonline.ru', 'korocha@nip.msk.ru', 'konstant@kapsch.net', 'crazyfox@mail.ru', 'korinsky@srd.mtuci.ru', 'korinsky@cityline.ru', 'nil_mu@brstu.ru', 'kma@lav1.npi.msu.su', 'kma@loki.phy.bnl.gov', 'serv@vtz.vladimir.su', 'saur@saur.msk.ru', 'Jhonny_fox@mail.ru', 'shurton@glasnet.ru', 'vadim@econ.csu.ac.ru', 'spartak@st.siberia.net', 'alexey@nu.jinr.dubna.su', 'kirilliq@eurohim.ru', 'kost@svzserv.kemerovo.su', 'root@kk.kemerovo.su', 'yoko@sl.iae.nsk.su', 'wanderer@erl.e-burg.su', 'ivan@kia.usr.etu.spb.ru', 'kiggy@alex.sebastopol.ua', 'sergeyuhta@sever.ru', 'alex@ic-chernobyl.kiev.ua', 'tanner@telecom.nov.ru', 'laktar@tlt.ru', 'ilebedev@cityline.ru', 'Oleg_Lebedev@p5.f312.n50.z2.gate.phantom.msk.su', 'sasha@nn.ennet.krasnoyarsk.su', 'ppmykel@ns.lanck.ru', 'fil@travel.ru', 'serg@rocknet.murmansk.su', 'alkor@online.ru', 'lukich@extranet.ru', 'usk@diaspro.com', 'lulin@garant.ru', 'brody@mail.ru', 'cat@bit.ternopil.ua', 'lena@malyk.home.ternopil.ua', 'hoha@mail.com', 'maputu@mail.ru', 'mamutkin@inp.nsk.su', 'spassb@rinf.ryazan.ru', 'kastosov@unn.ac.ru', 'vm@dmng.sakhalin.su', 'vm@dmng.sakhalin.su', 'tan@tepkom.ru', 'mf010175@klax.tula.ru', 'motus@unity-bars.carrier.kiev.ua', 'grigson@rinet.ru', 'lion@wtgres.pssr.e-burg.su', 'vlad@polic.crimea.com', 'metzik@mail.ru', 'maria@sport.spb.ru', 'maria@laverna.ru', 'mikhin@mail.ru', 'mog@vspu.ac.ru', 'bfmb@biysk.rospac.ru', 'mo@internetmedia.ru', 'boris@morpol.msk.ru', 'filipp@morpol.msk.ru', 'moshkow@ipsun.ras.ru', 'vova@sphinxa.ihep.su', 'nagor99@mail.ru', 'andrey@nes.te.ru', 'serge@envy.astro.unc.edu', 'nam@satsun.sci.kz', 'snikitin@eng.umd.edu', 'oleg@railway.ufanet.ru', 'novikov@tr11.kiev.ua', 'glen@lipetsk.su', '21864140@mail.ru', 'roz@roma.marka.net.ua', 'oloht@glas.apc.org', 'mikeom@trecom.tomsk.su', 'voyager_mc@yahoo.com', 'west271@com2com.ru', 'eagle@satel.ru', 'equicol@ukrpack.net', 'anna@romsat.kiev.ua', 'penates@glas.apc.org', 'parshin@splav.ru', 'pasynkov@stoic.spb.su', 'apatl@vail.ru', 'tour@vspu.ac.ru', 'body@krasu.ru', 'postmaster@cstran.sani-c.vrn.ru', 'alkor@online.ru', 'md_isu@mail.ru', 'Sergei_Pogodin@.f10.n5031.z2.fidonet.orc', 'julenka@yahoo.com', 'panova@orc.ru', 'polotay@materials.kiev.ua', 'polk@nis.nnov.su', 'epoliz@mail.ru', 'julia@morpol.msk.ru', 'filipp@morpol.msk.ru', 'vasia@vponom.msk.ru', 'alya@activ.ru', 'serg.porfirev@mtu-net.ru', 'dima@chaos.ssu.runnet.ru', 'admin@ire278.da.ru', 'risk@tomcat.ru', 'dmitry@crp.psc.ru', 'dpotebnia@hotmail.com', 'poisk@mariupol.net', 'vitek175@yahoo.com', 'extrapyr@arstel.ru', 'ego1@auste.elnet.lt', 'opust@spb.runnet.ru', 'rightman@mail.ru', 'romanov@ssmgl.gpi.msk.su', 'romantik@ic.ospu.odessa.ua', 'uri@g-vest.tsaritsyn.su', 'ivan@kreol.vladimir.su', 'Solo@narzan.ru', 'meminf@glasnet.ru', 'alrub@geocities.com', 'alex@newcom.kiae.su', 'amst@mail.ru', 'andrew@sket.msk.ru', 'anarin@mail.ru', 'itl805@online.kharkov.ua', 'safronov@unn.ac.ru', 'msweshnikov@hotmail.com', 'v_svintitsky@chat.ru', 'severin@radio.chem.msu.ru', 'severin@radio.chem.msu.ru', 'Federal@orc.ru', 'klop@sdb.ire.rssi.ru', 'sd@istu.irk.ru', 'alkor@online.ru', 'sergin_k@yahoo.com', 'nik@cctelcom.nsu.ru', 'silax@rsuh.ru', 'vld@firm432.msk.su', 'askazik@homer.uic.rnd.runnet.ru', 'ASlab@juffin.mpei.ac.ru', 'alex@asi.ru', 'sorokin@beam.ioffe.rssi.ru', 'mc@rwicc.krasnoyarsk.su', 'spichak@apmat.freenet.kiev.ua', 'syv@chescen.kiev.ua', 'springis_ne@mail.ru', 'abc@tatpeo.elektra.ru', 'sen@skif.net', 'stroganov@hps.mpei.ac.ru', 'ssuh@sao.ru', 'webmaster@cyber.mephi.ru', 'tim@ic.tsu.ru', 'ivantem@mail.ru', 'vital@tihtrans.msk.ru', 'sts@card.ru', 'ivt@msu.su', 'sergo@anix.biysk.ru', 'cnt15@hotmail.com', 'alex@soniir.samara.ru', 'maneken@chel.surnet.ru', 'Ac_polly@digdes.com', 'dv@optima.donetsk.ua', 'tsv@gemini.relcom.eu.net', 'univers@perm.raid.ru', 'speleo_grot@mtu-net.ru', 'latina@rail.kharkov.com', 'crazyfox@mail.ru', 'ntcgfiz@sibtel.ru', 'MicUsh@rail.kharkov.ua', 'andy@oxylipin.siobc.ras.ru', 'bots2000@mail.ru', 'gfedin@glasnet.ru', 'kf@ifmo.ru', 'fedorov@mccme.ru', 'fsa@iis.nsk.su', 'fsi@macomnet.ru', 'willy@csu.ac.ru', 'fkn@biogeo.dcn-asu.ru', 'gleb@igg.comcen-1.nsk.su', 'alexfill@css-mps.ru', 'raremap@euro.ru', 'xalx@klne.koenig.su', 'jeka@volgageo.nnov.ru', 'sandys@chat.ru', 'longarm@bigfoot.com', 'andrey@yorp.yaroslavl.su', 'paulrh@ICL.kazan.RU', 'Hlopov-Oleg@mtu-net.ru', 'yura@spirt.kiev.ua', 'art@trecom.tomsk.su', 'schaikin@mail.ru', 'schaikin@hotmail.com', 'chivilih@spb.runnet.ru', 'tcherk@risc.uni-linz.ac.at', 'vladimir.chernetsky@ankey.ru', 'cvv@cmp.phys.msu.su', 'dechet@sever.ru', 'tchirkor@ebrd.com', 'test1@online1.boyarka.kiev.ua', 'directac@email.msn.com', 'alexey@chaos.ssu.runnet.ru', 'beligor@belarus.crosswinds.net', 'beligor@chat.ru', 'Shartzeff@ecology.pstu.ac.ru', 'vadim@shahnovi.mccme.ru', 'igor@gts.kazan.su', 'account@publicis.ru', 'dmitryshv@mtu-net.ru', 'IShelemetiev@microtest.ru', 'reid@reid.kuban.ru', 'radbubka@chat.ru', 'mitay@doninv.rnd.su', 'peter@indy.gctc.rssi.ru', 'peter@shlyaev.msk.ru', 'singl@glasnet.ru', 'maxim@bfpg.ru', '1spp@nw.ie.tiasur.tomsk.su', 'shura@uic.nnov.ru', 'andr@shum.kiev.ua', 'Alexander@ts.vdonsk.ru', 'edelveis@adm.chm.gorny.ru', 'elbrus@kbsu.ru', 'iourine@iourine.msk.su', 'reliable@sarnet.ru', 'yarosh@au.ru', 'rodonit@chel.surnet.ru']\n",
            "[('Cecilia Chapman', '711-2880 Nulla St.', 'Mankato Mississippi 96522', '(257) 563-7401'), ('Iris Watson', 'P.O. Box 283 8562 Fusce Rd.', 'Frederick Nebraska 20620', '(372) 587-2335'), ('Celeste Slater', '606-3727 Ullamcorper. Street', 'Roseville NH 11523', '(786) 713-8616'), ('Theodore Lowe', 'Ap #867-859 Sit Rd.', 'Azusa New York 39531', '(793) 151-6230'), ('Calista Wise', '7292 Dictum Av.', 'San Antonio MI 47096', '(492) 709-6392'), ('Kyla Olsen', 'Ap #651-8679 Sodales Av.', 'Tamuning PA 10855', '(654) 393-5734'), ('Forrest Ray', '191-103 Integer Rd.', 'Corona New Mexico 08219', '(404) 960-3807'), ('Hiroko Potter', 'P.O. Box 887 2508 Dolor. Av.', 'Muskegon KY 12482', '(314) 244-6306'), ('Nyssa Vazquez', '511-5762 At Rd.', 'Chelsea MI 67708', '(947) 278-5929'), ('Lawrence Moreno', '935-9940 Tortor. Street', 'Santa Rosa MN 98804', '(684) 579-1879'), ('Ina Moran', 'P.O. Box 929 4189 Nunc Road', 'Lebanon KY 69409', '(389) 737-2852'), ('Aaron Hawkins', '5587 Nunc. Avenue', 'Erie Rhode Island 24975', '(660) 663-4518'), ('Hedy Greene', 'Ap #696-3279 Viverra. Avenue', 'Latrobe DE 38100', '(608) 265-2215'), ('Melvin Porter', 'P.O. Box 132 1599 Curabitur Rd.', 'Bandera South Dakota 45149', '(959) 119-8364'), ('Keefe Sellers', '347-7666 Iaculis St.', 'Woodruff SC 49854', '(468) 353-2641'), ('Joan Romero', '666-4366 Lacinia Avenue', 'Idaho Falls Ohio 19253', '(248) 675-4007'), ('Davis Patrick', 'P.O. Box 147 2546 Sociosqu Rd.', 'Bethlehem Utah 02913', '(939) 353-1107'), ('Leilani Boyer', '557-6308 Lacinia Road', 'San Bernardino ND 09289', '(570) 873-7090'), ('Colby Bernard', 'Ap #285-7193 Ullamcorper Avenue', 'Amesbury HI 93373', '(302) 259-2375'), ('Bryar Pitts', '5543 Aliquet St.', 'Fort Dodge GA 20783', '(717) 450-4729'), ('Rahim Henderson', '5037 Diam Rd.', 'Daly City Ohio 90255', '(453) 391-4650'), ('Noelle Adams', '6351 Fringilla Avenue', 'Gardena Colorado 37547', '(559) 104-5475'), ('Lillith Daniel', '935-1670 Neque. St.', 'Centennial Delaware 48432', '(387) 142-9434'), ('Adria Russell', '414-7533 Non Rd.', 'Miami Beach North Dakota 58563', '(516) 745-4496'), ('Hilda Haynes', '778-9383 Suspendisse Av.', 'Weirton IN 93479', '(326) 677-3419'), ('Sheila Mcintosh', 'P.O. Box 360 4407 Et Rd.', 'Santa Monica FL 30309', '(746) 679-2470'), ('Rebecca Chambers', 'P.O. Box 813 5982 Sit Ave', 'Liberal Vermont 51324', '(455) 430-0989'), ('Christian Emerson', 'P.O. Box 886 4118 Arcu St.', 'Rolling Hills Georgia 92358', '(490) 936-4694'), ('Nevada Ware', 'P.O. Box 597 4156 Tincidunt Ave', 'Green Bay Indiana 19759', '(985) 834-8285'), ('Margaret Joseph', 'P.O. Box 508 3919 Gravida St.', 'Tamuning Washington 55797', '(662) 661-1446'), ('Edward Nieves', '928-3313 Vel Av.', 'Idaho Falls Rhode Island 37232', '(802) 668-8240'), ('Imani Talley', 'P.O. Box 262 4978 Sit St.', 'Yigo Massachusetts 50654', '(477) 768-9247'), ('Bertha Riggs', 'P.O. Box 206 6639 In St.', 'Easthampton TN 31626', '(791) 239-9057'), ('Wallace Ross', '313 Pellentesque Ave', 'Villa Park Hawaii 43526', '(832) 109-0213'), ('Chester Bennett', '3476 Aliquet. Ave', 'Minot AZ 95302', '(837) 196-3274'), ('Castor Richardson', 'P.O. Box 902 3472 Ullamcorper Street', 'Lynchburg DC 29738', '(268) 442-2428'), ('Sonya Jordan', 'Ap #443-336 Ullamcorper. Street', 'Visalia VA 54886', '(850) 676-5117'), ('Harrison Mcguire', '574-8633 Arcu Street', 'San Fernando ID 77373', '(861) 546-5032'), ('Malcolm Long', '9291 Proin Road', 'Lake Charles Maine 11292', '(176) 805-4108'), ('Raymond Levy', 'Ap #643-7006 Risus St.', 'Beaumont New Mexico 73585', '(715) 912-6931'), ('Hedley Ingram', '737-2580 At Street', 'Independence Texas 87535', '(993) 554-0563'), ('David Mathews', '1011 Malesuada Road', 'Moscow Kentucky 77382', '(357) 616-5411'), ('Xyla Cash', '969-1762 Tincidunt Rd.', 'Boise CT 35282', '(121) 347-0086'), ('Madeline Gregory', '977-4841 Ut Ave', 'Walla Walla Michigan 82776', '(304) 506-6314'), ('Griffith Daniels', '6818 Eget St.', 'Tacoma AL 92508', '(425) 288-2332'), ('Anne Beasley', '987-4223 Urna St.', 'Savannah Illinois 85794', '(145) 987-4962'), ('Chaney Bennett', 'P.O. Box 721 902 Dolor Rd.', 'Fremont AK 19408', '(187) 582-9707'), ('Daniel Bernard', 'P.O. Box 567 1561 Duis Rd.', 'Pomona TN 08609', '(750) 558-3965'), ('Willow Hunt', 'Ap #784-1887 Lobortis Ave', 'Cudahy Ohio 31522', '(492) 467-3131'), ('Judith Floyd', '361-7936 Feugiat St.', 'Williston Nevada 58521', '(774) 914-2510'), ('Seth Farley', '6216 Aenean Avenue', 'Seattle Utah 81202', '(888) 106-8550'), ('Zephania Sanders', '3714 Nascetur St.', 'Hawthorne Louisiana 10626', '(539) 567-3573'), ('Calista Merritt', 'Ap #938-5470 Posuere Ave', 'Chickasha LA 58520', '(693) 337-2849'), ('Craig Williams', 'P.O. Box 372 5634 Montes Rd.', 'Springdale MO 57692', '(545) 604-9386'), ('Lee Preston', '981 Eget Rd.', 'Clemson GA 04645', '(221) 156-5026'), ('Katelyn Cooper', '6059 Sollicitudin Road', 'Burlingame Colorado 26278', '(414) 876-0865'), ('Lacy Eaton', '1379 Nulla. Av.', 'Asbury Park Montana 69679', '(932) 726-8645'), ('Driscoll Leach', 'P.O. Box 120 2410 Odio Avenue', 'Pass Christian Delaware 03869', '(726) 710-9826'), ('Merritt Watson', 'P.O. Box 686 7014 Amet Street', 'Corona Oklahoma 55246', '(622) 594-1662'), ('Nehru Holmes', 'P.O. Box 547 4764 Sed Road', 'Grand Rapids CT 87323', '(948) 600-8503'), ('Quamar Rivera', '427-5827 Ac St.', 'Schaumburg Arkansas 84872', '(605) 900-7508'), ('Hiram Mullins', '754-6427 Nunc Ave', 'Kennewick AL 41329', '(716) 977-5775'), ('Kim Fletcher', 'Ap #345-3847 Metus Road', 'Independence CO 30135', '(368) 239-8275'), ('Rigel Koch', 'P.O. Box 558 9561 Lacus. Road', 'Laughlin Hawaii 99602', '(725) 342-0650'), ('Jeanette Sharpe', 'Ap #364-2006 Ipsum Avenue', 'Wilmington Ohio 91750', '(711) 993-5187'), ('Dahlia Lee', '1293 Tincidunt Street', 'Atwater Pennsylvania 76865', '(882) 399-5084'), ('Howard Hayden', 'P.O. Box 847 8019 Facilisis Street', 'Joliet SC 73490', '(287) 755-9948'), ('Hyatt Kramer', '1011 Massa Av.', 'Kent ID 63725', '(659) 551-3389'), ('Sonya Ray', 'Ap #315-8441 Eleifend Street', 'Fairbanks RI 96892', '(275) 730-6868'), ('Cara Whitehead', '4005 Praesent St.', 'Torrance Wyoming 22767', '(725) 757-4047'), ('Blythe Carroll', '7709 Justo. Ave', 'Princeton TX 77987', '(314) 882-1496'), ('Dale Griffin', 'P.O. Box 854 8580 In Ave', 'Revere South Dakota 43841', '(639) 360-7590'), ('McKenzie Hernandez', 'Ap #367-674 Mi Street', 'Greensboro VT 40684', '(168) 222-1592'), ('Haviva Holcomb', 'P.O. Box 642 3450 In Road', 'Isle of Palms New York 03828', '(896) 303-1164'), ('Ezra Duffy', 'Ap #782-7348 Dis Rd.', 'Austin KY 50710', '(203) 982-6130'), ('Eleanor Jennings', '9631 Semper Ave', 'Astoria NJ 66309', '(906) 217-1470'), ('Remedios Hester', '487-5787 Mollis St.', 'City of Industry Louisiana 67973', '(614) 514-1269'), ('Jasper Carney', '1195 Lobortis Rd.', 'New Orleans New Hampshire 71983', '(763) 409-5446'), ('Vielka Nielsen', 'Ap #517-7326 Elementum Rd.', 'Fort Smith North Dakota 79637', '(836) 292-5324'), ('Wilma Pace', 'Ap #676-6532 Odio Rd.', 'Darlington CO 06963', '(926) 709-3295'), ('Palmer Gay', '557-2026 Purus St.', 'Watertown TN 07367', '(963) 356-9268'), ('Lyle Sutton', 'Ap #250-9843 Elementum St.', 'South Gate Missouri 68999', '(736) 522-8584'), ('Ina Burt', 'Ap #130-1685 Ut Street', 'Tyler KS 73510', '(410) 483-0352'), ('Cleo Best', '282-8351 Tincidunt Ave', 'Sedalia Utah 53700', '(252) 204-1434'), ('Hu Park', '1429 Netus Rd.', 'Reedsport NY 48247', '(874) 886-4174'), ('Liberty Walton', '343-6527 Purus. Avenue', 'Logan NV 12657', '(581) 379-7573'), ('Aaron Trujillo', 'Ap #146-3132 Cras Rd.', 'Kingsport NH 56618', '(983) 632-8597'), ('Elmo Lopez', 'Ap #481-7473 Cum Rd.', 'Yorba Linda South Carolina 28423', '(295) 983-3476'), ('Emerson Espinoza', 'Ap #247-5577 Tincidunt St.', 'Corpus Christi WI 97020', '(873) 392-8802'), ('Daniel Malone', '2136 Adipiscing Av.', 'Lima RI 93490', '(360) 669-3923'), ('Dante Bennett', '481-8762 Nulla Street', 'Dearborn OR 62401', '(840) 987-9449'), ('Sade Higgins', 'Ap #287-3260 Ut St.', 'Wilmington OR 05182', '(422) 517-6053'), ('Zorita Anderson', '1964 Facilisis Avenue', 'Bell Gardens Texas 87065', '(126) 940-2753'), ('Jordan Calderon', '430-985 Eleifend St.', 'Duluth Washington 92611', '(427) 930-5255'), ('Ivor Delgado', 'Ap #310-1678 Ut Av.', 'Santa Barbara MT 88317', '(689) 721-5145'), ('Pascale Patton', 'P.O. Box 399 4275 Amet Street', 'West Allis NC 36734', '(676) 334-2174'), ('Nasim Strong', 'Ap #630-3889 Nulla. Street', 'Watervliet Oklahoma 70863', '(437) 994-5270'), ('Keaton Underwood', 'Ap #636-8082 Arcu Avenue', 'Thiensville Maryland 19587', '(564) 908-6970'), ('Keegan Blair', 'Ap #761-2515 Egestas. Rd.', 'Manitowoc TN 07528', '(577) 333-6244'), ('Tamara Howe', '3415 Lobortis. Avenue', 'Rocky Mount WA 48580', '(655) 840-6139')]\n",
            "Name: Cecilia Chapman\n",
            "Street: 711-2880 Nulla St.\n",
            "State: Mankato Mississippi 96522\n",
            "Numbers: (257) 563-7401\n",
            "\n",
            "\n",
            "Name: Iris Watson\n",
            "Street: P.O. Box 283 8562 Fusce Rd.\n",
            "State: Frederick Nebraska 20620\n",
            "Numbers: (372) 587-2335\n",
            "\n",
            "\n",
            "Name: Celeste Slater\n",
            "Street: 606-3727 Ullamcorper. Street\n",
            "State: Roseville NH 11523\n",
            "Numbers: (786) 713-8616\n",
            "\n",
            "\n",
            "Name: Theodore Lowe\n",
            "Street: Ap #867-859 Sit Rd.\n",
            "State: Azusa New York 39531\n",
            "Numbers: (793) 151-6230\n",
            "\n",
            "\n",
            "Name: Calista Wise\n",
            "Street: 7292 Dictum Av.\n",
            "State: San Antonio MI 47096\n",
            "Numbers: (492) 709-6392\n",
            "\n",
            "\n",
            "Name: Kyla Olsen\n",
            "Street: Ap #651-8679 Sodales Av.\n",
            "State: Tamuning PA 10855\n",
            "Numbers: (654) 393-5734\n",
            "\n",
            "\n",
            "Name: Forrest Ray\n",
            "Street: 191-103 Integer Rd.\n",
            "State: Corona New Mexico 08219\n",
            "Numbers: (404) 960-3807\n",
            "\n",
            "\n",
            "Name: Hiroko Potter\n",
            "Street: P.O. Box 887 2508 Dolor. Av.\n",
            "State: Muskegon KY 12482\n",
            "Numbers: (314) 244-6306\n",
            "\n",
            "\n",
            "Name: Nyssa Vazquez\n",
            "Street: 511-5762 At Rd.\n",
            "State: Chelsea MI 67708\n",
            "Numbers: (947) 278-5929\n",
            "\n",
            "\n",
            "Name: Lawrence Moreno\n",
            "Street: 935-9940 Tortor. Street\n",
            "State: Santa Rosa MN 98804\n",
            "Numbers: (684) 579-1879\n",
            "\n",
            "\n",
            "Name: Ina Moran\n",
            "Street: P.O. Box 929 4189 Nunc Road\n",
            "State: Lebanon KY 69409\n",
            "Numbers: (389) 737-2852\n",
            "\n",
            "\n",
            "Name: Aaron Hawkins\n",
            "Street: 5587 Nunc. Avenue\n",
            "State: Erie Rhode Island 24975\n",
            "Numbers: (660) 663-4518\n",
            "\n",
            "\n",
            "Name: Hedy Greene\n",
            "Street: Ap #696-3279 Viverra. Avenue\n",
            "State: Latrobe DE 38100\n",
            "Numbers: (608) 265-2215\n",
            "\n",
            "\n",
            "Name: Melvin Porter\n",
            "Street: P.O. Box 132 1599 Curabitur Rd.\n",
            "State: Bandera South Dakota 45149\n",
            "Numbers: (959) 119-8364\n",
            "\n",
            "\n",
            "Name: Keefe Sellers\n",
            "Street: 347-7666 Iaculis St.\n",
            "State: Woodruff SC 49854\n",
            "Numbers: (468) 353-2641\n",
            "\n",
            "\n",
            "Name: Joan Romero\n",
            "Street: 666-4366 Lacinia Avenue\n",
            "State: Idaho Falls Ohio 19253\n",
            "Numbers: (248) 675-4007\n",
            "\n",
            "\n",
            "Name: Davis Patrick\n",
            "Street: P.O. Box 147 2546 Sociosqu Rd.\n",
            "State: Bethlehem Utah 02913\n",
            "Numbers: (939) 353-1107\n",
            "\n",
            "\n",
            "Name: Leilani Boyer\n",
            "Street: 557-6308 Lacinia Road\n",
            "State: San Bernardino ND 09289\n",
            "Numbers: (570) 873-7090\n",
            "\n",
            "\n",
            "Name: Colby Bernard\n",
            "Street: Ap #285-7193 Ullamcorper Avenue\n",
            "State: Amesbury HI 93373\n",
            "Numbers: (302) 259-2375\n",
            "\n",
            "\n",
            "Name: Bryar Pitts\n",
            "Street: 5543 Aliquet St.\n",
            "State: Fort Dodge GA 20783\n",
            "Numbers: (717) 450-4729\n",
            "\n",
            "\n",
            "Name: Rahim Henderson\n",
            "Street: 5037 Diam Rd.\n",
            "State: Daly City Ohio 90255\n",
            "Numbers: (453) 391-4650\n",
            "\n",
            "\n",
            "Name: Noelle Adams\n",
            "Street: 6351 Fringilla Avenue\n",
            "State: Gardena Colorado 37547\n",
            "Numbers: (559) 104-5475\n",
            "\n",
            "\n",
            "Name: Lillith Daniel\n",
            "Street: 935-1670 Neque. St.\n",
            "State: Centennial Delaware 48432\n",
            "Numbers: (387) 142-9434\n",
            "\n",
            "\n",
            "Name: Adria Russell\n",
            "Street: 414-7533 Non Rd.\n",
            "State: Miami Beach North Dakota 58563\n",
            "Numbers: (516) 745-4496\n",
            "\n",
            "\n",
            "Name: Hilda Haynes\n",
            "Street: 778-9383 Suspendisse Av.\n",
            "State: Weirton IN 93479\n",
            "Numbers: (326) 677-3419\n",
            "\n",
            "\n",
            "Name: Sheila Mcintosh\n",
            "Street: P.O. Box 360 4407 Et Rd.\n",
            "State: Santa Monica FL 30309\n",
            "Numbers: (746) 679-2470\n",
            "\n",
            "\n",
            "Name: Rebecca Chambers\n",
            "Street: P.O. Box 813 5982 Sit Ave\n",
            "State: Liberal Vermont 51324\n",
            "Numbers: (455) 430-0989\n",
            "\n",
            "\n",
            "Name: Christian Emerson\n",
            "Street: P.O. Box 886 4118 Arcu St.\n",
            "State: Rolling Hills Georgia 92358\n",
            "Numbers: (490) 936-4694\n",
            "\n",
            "\n",
            "Name: Nevada Ware\n",
            "Street: P.O. Box 597 4156 Tincidunt Ave\n",
            "State: Green Bay Indiana 19759\n",
            "Numbers: (985) 834-8285\n",
            "\n",
            "\n",
            "Name: Margaret Joseph\n",
            "Street: P.O. Box 508 3919 Gravida St.\n",
            "State: Tamuning Washington 55797\n",
            "Numbers: (662) 661-1446\n",
            "\n",
            "\n",
            "Name: Edward Nieves\n",
            "Street: 928-3313 Vel Av.\n",
            "State: Idaho Falls Rhode Island 37232\n",
            "Numbers: (802) 668-8240\n",
            "\n",
            "\n",
            "Name: Imani Talley\n",
            "Street: P.O. Box 262 4978 Sit St.\n",
            "State: Yigo Massachusetts 50654\n",
            "Numbers: (477) 768-9247\n",
            "\n",
            "\n",
            "Name: Bertha Riggs\n",
            "Street: P.O. Box 206 6639 In St.\n",
            "State: Easthampton TN 31626\n",
            "Numbers: (791) 239-9057\n",
            "\n",
            "\n",
            "Name: Wallace Ross\n",
            "Street: 313 Pellentesque Ave\n",
            "State: Villa Park Hawaii 43526\n",
            "Numbers: (832) 109-0213\n",
            "\n",
            "\n",
            "Name: Chester Bennett\n",
            "Street: 3476 Aliquet. Ave\n",
            "State: Minot AZ 95302\n",
            "Numbers: (837) 196-3274\n",
            "\n",
            "\n",
            "Name: Castor Richardson\n",
            "Street: P.O. Box 902 3472 Ullamcorper Street\n",
            "State: Lynchburg DC 29738\n",
            "Numbers: (268) 442-2428\n",
            "\n",
            "\n",
            "Name: Sonya Jordan\n",
            "Street: Ap #443-336 Ullamcorper. Street\n",
            "State: Visalia VA 54886\n",
            "Numbers: (850) 676-5117\n",
            "\n",
            "\n",
            "Name: Harrison Mcguire\n",
            "Street: 574-8633 Arcu Street\n",
            "State: San Fernando ID 77373\n",
            "Numbers: (861) 546-5032\n",
            "\n",
            "\n",
            "Name: Malcolm Long\n",
            "Street: 9291 Proin Road\n",
            "State: Lake Charles Maine 11292\n",
            "Numbers: (176) 805-4108\n",
            "\n",
            "\n",
            "Name: Raymond Levy\n",
            "Street: Ap #643-7006 Risus St.\n",
            "State: Beaumont New Mexico 73585\n",
            "Numbers: (715) 912-6931\n",
            "\n",
            "\n",
            "Name: Hedley Ingram\n",
            "Street: 737-2580 At Street\n",
            "State: Independence Texas 87535\n",
            "Numbers: (993) 554-0563\n",
            "\n",
            "\n",
            "Name: David Mathews\n",
            "Street: 1011 Malesuada Road\n",
            "State: Moscow Kentucky 77382\n",
            "Numbers: (357) 616-5411\n",
            "\n",
            "\n",
            "Name: Xyla Cash\n",
            "Street: 969-1762 Tincidunt Rd.\n",
            "State: Boise CT 35282\n",
            "Numbers: (121) 347-0086\n",
            "\n",
            "\n",
            "Name: Madeline Gregory\n",
            "Street: 977-4841 Ut Ave\n",
            "State: Walla Walla Michigan 82776\n",
            "Numbers: (304) 506-6314\n",
            "\n",
            "\n",
            "Name: Griffith Daniels\n",
            "Street: 6818 Eget St.\n",
            "State: Tacoma AL 92508\n",
            "Numbers: (425) 288-2332\n",
            "\n",
            "\n",
            "Name: Anne Beasley\n",
            "Street: 987-4223 Urna St.\n",
            "State: Savannah Illinois 85794\n",
            "Numbers: (145) 987-4962\n",
            "\n",
            "\n",
            "Name: Chaney Bennett\n",
            "Street: P.O. Box 721 902 Dolor Rd.\n",
            "State: Fremont AK 19408\n",
            "Numbers: (187) 582-9707\n",
            "\n",
            "\n",
            "Name: Daniel Bernard\n",
            "Street: P.O. Box 567 1561 Duis Rd.\n",
            "State: Pomona TN 08609\n",
            "Numbers: (750) 558-3965\n",
            "\n",
            "\n",
            "Name: Willow Hunt\n",
            "Street: Ap #784-1887 Lobortis Ave\n",
            "State: Cudahy Ohio 31522\n",
            "Numbers: (492) 467-3131\n",
            "\n",
            "\n",
            "Name: Judith Floyd\n",
            "Street: 361-7936 Feugiat St.\n",
            "State: Williston Nevada 58521\n",
            "Numbers: (774) 914-2510\n",
            "\n",
            "\n",
            "Name: Seth Farley\n",
            "Street: 6216 Aenean Avenue\n",
            "State: Seattle Utah 81202\n",
            "Numbers: (888) 106-8550\n",
            "\n",
            "\n",
            "Name: Zephania Sanders\n",
            "Street: 3714 Nascetur St.\n",
            "State: Hawthorne Louisiana 10626\n",
            "Numbers: (539) 567-3573\n",
            "\n",
            "\n",
            "Name: Calista Merritt\n",
            "Street: Ap #938-5470 Posuere Ave\n",
            "State: Chickasha LA 58520\n",
            "Numbers: (693) 337-2849\n",
            "\n",
            "\n",
            "Name: Craig Williams\n",
            "Street: P.O. Box 372 5634 Montes Rd.\n",
            "State: Springdale MO 57692\n",
            "Numbers: (545) 604-9386\n",
            "\n",
            "\n",
            "Name: Lee Preston\n",
            "Street: 981 Eget Rd.\n",
            "State: Clemson GA 04645\n",
            "Numbers: (221) 156-5026\n",
            "\n",
            "\n",
            "Name: Katelyn Cooper\n",
            "Street: 6059 Sollicitudin Road\n",
            "State: Burlingame Colorado 26278\n",
            "Numbers: (414) 876-0865\n",
            "\n",
            "\n",
            "Name: Lacy Eaton\n",
            "Street: 1379 Nulla. Av.\n",
            "State: Asbury Park Montana 69679\n",
            "Numbers: (932) 726-8645\n",
            "\n",
            "\n",
            "Name: Driscoll Leach\n",
            "Street: P.O. Box 120 2410 Odio Avenue\n",
            "State: Pass Christian Delaware 03869\n",
            "Numbers: (726) 710-9826\n",
            "\n",
            "\n",
            "Name: Merritt Watson\n",
            "Street: P.O. Box 686 7014 Amet Street\n",
            "State: Corona Oklahoma 55246\n",
            "Numbers: (622) 594-1662\n",
            "\n",
            "\n",
            "Name: Nehru Holmes\n",
            "Street: P.O. Box 547 4764 Sed Road\n",
            "State: Grand Rapids CT 87323\n",
            "Numbers: (948) 600-8503\n",
            "\n",
            "\n",
            "Name: Quamar Rivera\n",
            "Street: 427-5827 Ac St.\n",
            "State: Schaumburg Arkansas 84872\n",
            "Numbers: (605) 900-7508\n",
            "\n",
            "\n",
            "Name: Hiram Mullins\n",
            "Street: 754-6427 Nunc Ave\n",
            "State: Kennewick AL 41329\n",
            "Numbers: (716) 977-5775\n",
            "\n",
            "\n",
            "Name: Kim Fletcher\n",
            "Street: Ap #345-3847 Metus Road\n",
            "State: Independence CO 30135\n",
            "Numbers: (368) 239-8275\n",
            "\n",
            "\n",
            "Name: Rigel Koch\n",
            "Street: P.O. Box 558 9561 Lacus. Road\n",
            "State: Laughlin Hawaii 99602\n",
            "Numbers: (725) 342-0650\n",
            "\n",
            "\n",
            "Name: Jeanette Sharpe\n",
            "Street: Ap #364-2006 Ipsum Avenue\n",
            "State: Wilmington Ohio 91750\n",
            "Numbers: (711) 993-5187\n",
            "\n",
            "\n",
            "Name: Dahlia Lee\n",
            "Street: 1293 Tincidunt Street\n",
            "State: Atwater Pennsylvania 76865\n",
            "Numbers: (882) 399-5084\n",
            "\n",
            "\n",
            "Name: Howard Hayden\n",
            "Street: P.O. Box 847 8019 Facilisis Street\n",
            "State: Joliet SC 73490\n",
            "Numbers: (287) 755-9948\n",
            "\n",
            "\n",
            "Name: Hyatt Kramer\n",
            "Street: 1011 Massa Av.\n",
            "State: Kent ID 63725\n",
            "Numbers: (659) 551-3389\n",
            "\n",
            "\n",
            "Name: Sonya Ray\n",
            "Street: Ap #315-8441 Eleifend Street\n",
            "State: Fairbanks RI 96892\n",
            "Numbers: (275) 730-6868\n",
            "\n",
            "\n",
            "Name: Cara Whitehead\n",
            "Street: 4005 Praesent St.\n",
            "State: Torrance Wyoming 22767\n",
            "Numbers: (725) 757-4047\n",
            "\n",
            "\n",
            "Name: Blythe Carroll\n",
            "Street: 7709 Justo. Ave\n",
            "State: Princeton TX 77987\n",
            "Numbers: (314) 882-1496\n",
            "\n",
            "\n",
            "Name: Dale Griffin\n",
            "Street: P.O. Box 854 8580 In Ave\n",
            "State: Revere South Dakota 43841\n",
            "Numbers: (639) 360-7590\n",
            "\n",
            "\n",
            "Name: McKenzie Hernandez\n",
            "Street: Ap #367-674 Mi Street\n",
            "State: Greensboro VT 40684\n",
            "Numbers: (168) 222-1592\n",
            "\n",
            "\n",
            "Name: Haviva Holcomb\n",
            "Street: P.O. Box 642 3450 In Road\n",
            "State: Isle of Palms New York 03828\n",
            "Numbers: (896) 303-1164\n",
            "\n",
            "\n",
            "Name: Ezra Duffy\n",
            "Street: Ap #782-7348 Dis Rd.\n",
            "State: Austin KY 50710\n",
            "Numbers: (203) 982-6130\n",
            "\n",
            "\n",
            "Name: Eleanor Jennings\n",
            "Street: 9631 Semper Ave\n",
            "State: Astoria NJ 66309\n",
            "Numbers: (906) 217-1470\n",
            "\n",
            "\n",
            "Name: Remedios Hester\n",
            "Street: 487-5787 Mollis St.\n",
            "State: City of Industry Louisiana 67973\n",
            "Numbers: (614) 514-1269\n",
            "\n",
            "\n",
            "Name: Jasper Carney\n",
            "Street: 1195 Lobortis Rd.\n",
            "State: New Orleans New Hampshire 71983\n",
            "Numbers: (763) 409-5446\n",
            "\n",
            "\n",
            "Name: Vielka Nielsen\n",
            "Street: Ap #517-7326 Elementum Rd.\n",
            "State: Fort Smith North Dakota 79637\n",
            "Numbers: (836) 292-5324\n",
            "\n",
            "\n",
            "Name: Wilma Pace\n",
            "Street: Ap #676-6532 Odio Rd.\n",
            "State: Darlington CO 06963\n",
            "Numbers: (926) 709-3295\n",
            "\n",
            "\n",
            "Name: Palmer Gay\n",
            "Street: 557-2026 Purus St.\n",
            "State: Watertown TN 07367\n",
            "Numbers: (963) 356-9268\n",
            "\n",
            "\n",
            "Name: Lyle Sutton\n",
            "Street: Ap #250-9843 Elementum St.\n",
            "State: South Gate Missouri 68999\n",
            "Numbers: (736) 522-8584\n",
            "\n",
            "\n",
            "Name: Ina Burt\n",
            "Street: Ap #130-1685 Ut Street\n",
            "State: Tyler KS 73510\n",
            "Numbers: (410) 483-0352\n",
            "\n",
            "\n",
            "Name: Cleo Best\n",
            "Street: 282-8351 Tincidunt Ave\n",
            "State: Sedalia Utah 53700\n",
            "Numbers: (252) 204-1434\n",
            "\n",
            "\n",
            "Name: Hu Park\n",
            "Street: 1429 Netus Rd.\n",
            "State: Reedsport NY 48247\n",
            "Numbers: (874) 886-4174\n",
            "\n",
            "\n",
            "Name: Liberty Walton\n",
            "Street: 343-6527 Purus. Avenue\n",
            "State: Logan NV 12657\n",
            "Numbers: (581) 379-7573\n",
            "\n",
            "\n",
            "Name: Aaron Trujillo\n",
            "Street: Ap #146-3132 Cras Rd.\n",
            "State: Kingsport NH 56618\n",
            "Numbers: (983) 632-8597\n",
            "\n",
            "\n",
            "Name: Elmo Lopez\n",
            "Street: Ap #481-7473 Cum Rd.\n",
            "State: Yorba Linda South Carolina 28423\n",
            "Numbers: (295) 983-3476\n",
            "\n",
            "\n",
            "Name: Emerson Espinoza\n",
            "Street: Ap #247-5577 Tincidunt St.\n",
            "State: Corpus Christi WI 97020\n",
            "Numbers: (873) 392-8802\n",
            "\n",
            "\n",
            "Name: Daniel Malone\n",
            "Street: 2136 Adipiscing Av.\n",
            "State: Lima RI 93490\n",
            "Numbers: (360) 669-3923\n",
            "\n",
            "\n",
            "Name: Dante Bennett\n",
            "Street: 481-8762 Nulla Street\n",
            "State: Dearborn OR 62401\n",
            "Numbers: (840) 987-9449\n",
            "\n",
            "\n",
            "Name: Sade Higgins\n",
            "Street: Ap #287-3260 Ut St.\n",
            "State: Wilmington OR 05182\n",
            "Numbers: (422) 517-6053\n",
            "\n",
            "\n",
            "Name: Zorita Anderson\n",
            "Street: 1964 Facilisis Avenue\n",
            "State: Bell Gardens Texas 87065\n",
            "Numbers: (126) 940-2753\n",
            "\n",
            "\n",
            "Name: Jordan Calderon\n",
            "Street: 430-985 Eleifend St.\n",
            "State: Duluth Washington 92611\n",
            "Numbers: (427) 930-5255\n",
            "\n",
            "\n",
            "Name: Ivor Delgado\n",
            "Street: Ap #310-1678 Ut Av.\n",
            "State: Santa Barbara MT 88317\n",
            "Numbers: (689) 721-5145\n",
            "\n",
            "\n",
            "Name: Pascale Patton\n",
            "Street: P.O. Box 399 4275 Amet Street\n",
            "State: West Allis NC 36734\n",
            "Numbers: (676) 334-2174\n",
            "\n",
            "\n",
            "Name: Nasim Strong\n",
            "Street: Ap #630-3889 Nulla. Street\n",
            "State: Watervliet Oklahoma 70863\n",
            "Numbers: (437) 994-5270\n",
            "\n",
            "\n",
            "Name: Keaton Underwood\n",
            "Street: Ap #636-8082 Arcu Avenue\n",
            "State: Thiensville Maryland 19587\n",
            "Numbers: (564) 908-6970\n",
            "\n",
            "\n",
            "Name: Keegan Blair\n",
            "Street: Ap #761-2515 Egestas. Rd.\n",
            "State: Manitowoc TN 07528\n",
            "Numbers: (577) 333-6244\n",
            "\n",
            "\n",
            "Name: Tamara Howe\n",
            "Street: 3415 Lobortis. Avenue\n",
            "State: Rocky Mount WA 48580\n",
            "Numbers: (655) 840-6139\n",
            "\n",
            "\n"
          ]
        }
      ]
    },
    {
      "cell_type": "markdown",
      "source": [
        "Флаг re.VERBOSE позволяет использовать многострочные и комментированные регулярные выражения для улучшения читаемости."
      ],
      "metadata": {
        "id": "VYZDvZ6ASoGf"
      }
    },
    {
      "cell_type": "markdown",
      "source": [
        "## 4. Полезные ресурсы\n",
        "\n",
        "- **Подробно о регулярных выражениях:** [clck.ru/H3xmB](https://clck.ru/H3xmB)\n",
        "- **Онлайн отладка регулярных выражений:** [regex101.com](https://regex101.com/)\n",
        "\n",
        "\n"
      ],
      "metadata": {
        "id": "ccp0x6BvDYh6"
      }
    },
    {
      "cell_type": "markdown",
      "source": [
        "## Заключение\n"
      ],
      "metadata": {
        "id": "4Gff3JRMFh-k"
      }
    },
    {
      "cell_type": "markdown",
      "source": [
        "\n",
        "Регулярные выражения являются полезным инструментом для обработки текстовых данных. В этом ноутбуке мы научились:\n",
        "\n",
        "- Использовать основные конструкции регулярных выражений.\n",
        "- Применять модули `re`, `urllib.request`, `csv` для практических задач.\n",
        "- Извлекать данные из текстовых файлов и HTML-страниц.\n",
        "- Сохранять извлеченные данные в формате CSV.\n",
        "\n",
        "Рекомендуется продолжить изучение регулярных выражений и практиковаться на различных задачах для укрепления полученных знаний."
      ],
      "metadata": {
        "id": "wz1sMcqsFXGh"
      }
    },
    {
      "cell_type": "markdown",
      "source": [
        "# Дополнительные задания\n",
        "\n",
        "1. Попробуйте модифицировать регулярное выражение для парсинга email-адресов, чтобы оно соответствовало адресам в доменах `.com.ua`, `.org`, `.net` и т.д.\n",
        "2. Извлеките ZIP-код из строки `State & ZIP` и сохраните его в отдельный столбец в CSV-файле.\n",
        "3. Используйте модуль `pandas` для загрузки CSV-файла и последующего анализа данных.\n"
      ],
      "metadata": {
        "id": "Y3R6kcWhFeyX"
      }
    }
  ]
}