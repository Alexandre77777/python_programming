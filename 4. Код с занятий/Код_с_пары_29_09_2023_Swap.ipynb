{
  "nbformat": 4,
  "nbformat_minor": 0,
  "metadata": {
    "colab": {
      "provenance": [],
      "authorship_tag": "ABX9TyNu4QB+64z3FR9qCpZMBaI9",
      "include_colab_link": true
    },
    "kernelspec": {
      "name": "python3",
      "display_name": "Python 3"
    },
    "language_info": {
      "name": "python"
    }
  },
  "cells": [
    {
      "cell_type": "markdown",
      "metadata": {
        "id": "view-in-github",
        "colab_type": "text"
      },
      "source": [
        "<a href=\"https://colab.research.google.com/github/Alexandre77777/python_programming/blob/main/4.%20%D0%9A%D0%BE%D0%B4%20%D1%81%20%D0%B7%D0%B0%D0%BD%D1%8F%D1%82%D0%B8%D0%B9/%D0%9A%D0%BE%D0%B4_%D1%81_%D0%BF%D0%B0%D1%80%D1%8B_29_09_2023_Swap.ipynb\" target=\"_parent\"><img src=\"https://colab.research.google.com/assets/colab-badge.svg\" alt=\"Open In Colab\"/></a>"
      ]
    },
    {
      "cell_type": "markdown",
      "source": [
        "При множественном присваивании Python вычисляет все правые части слева направо, а затем присваивает их одну за другой левым частям слева направо:"
      ],
      "metadata": {
        "id": "xrSCI8S6HP8e"
      }
    },
    {
      "cell_type": "code",
      "execution_count": null,
      "metadata": {
        "id": "RAsZ9e1kHL73"
      },
      "outputs": [],
      "source": [
        "a = [3, 4, 5, 2, 1]\n",
        "a[a.index(max(a))], a[a.index(min(a))] = min(a), max(a)\n",
        "\n",
        "a = [3, 4, 5, 2, 1]\n",
        "a[a.index(max(a))], a[a.index(min(a))] = 1, max(a)\n",
        "\n",
        "a = [3, 4, 5, 2, 1]\n",
        "a[a.index(max(a))], a[a.index(min(a))] = 1, 5\n",
        "\n",
        "a = [3, 4, 5, 2, 1]\n",
        "a[a.index(5)], a[a.index(min(a))] = 1, 5\n",
        "\n",
        "a = [3, 4, 5, 2, 1]\n",
        "a[2], a[a.index(min(a))] = 1, 5\n",
        "\n",
        "a = [3, 4, 1, 2, 1]\n",
        "a[a.index(min(a))] = 5\n",
        "\n",
        "a = [3, 4, 1, 2, 1]\n",
        "a[a.index(1)] = 5\n",
        "\n",
        "a = [3, 4, 1, 2, 1]\n",
        "a[2] = 5\n",
        "# ^ uh oh\n",
        "\n",
        "a = [3, 4, 5, 2, 1]"
      ]
    },
    {
      "cell_type": "markdown",
      "source": [
        "Если минимальное значение предшествует максимальному значению, то всё работает нормально, потому что мы всегда заменяем первое вхождение минимального значения, и оно оказывается исходным.\n",
        "\n",
        "Чтобы это исправить, нужно посчитать индексы отдельно перед свапом."
      ],
      "metadata": {
        "id": "fJtUTvxCHcTQ"
      }
    }
  ]
}